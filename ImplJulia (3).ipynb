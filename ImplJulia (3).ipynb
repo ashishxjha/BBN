{
  "cells": [
    {
      "cell_type": "code",
      "execution_count": null,
      "metadata": {
        "id": "N9MZdQHpOAkc"
      },
      "outputs": [],
      "source": [],
      "id": "N9MZdQHpOAkc"
    },
    {
      "cell_type": "code",
      "execution_count": null,
      "metadata": {
        "colab": {
          "base_uri": "https://localhost:8080/"
        },
        "id": "GIeFXS0F0zww",
        "outputId": "0982a19d-079f-4074-88bf-b5f7ab6cc565"
      },
      "outputs": [
        {
          "output_type": "stream",
          "name": "stdout",
          "text": [
            "Installing Julia 1.9.2 on the current Colab Runtime...\n",
            "2023-08-21 10:07:16 URL:https://storage.googleapis.com/julialang2/bin/linux/x64/1.9/julia-1.9.2-linux-x86_64.tar.gz [146384758/146384758] -> \"/tmp/julia.tar.gz\" [1]\n",
            "Installing Julia package IJulia...\n",
            "Installing Julia package BenchmarkTools...\n",
            "Installing IJulia kernel...\n",
            "\u001b[36m\u001b[1m[ \u001b[22m\u001b[39m\u001b[36m\u001b[1mInfo: \u001b[22m\u001b[39mInstalling julia kernelspec in /root/.local/share/jupyter/kernels/julia-1.9\n",
            "\n",
            "Successfully installed julia version 1.9.2!\n",
            "Please reload this page (press Ctrl+R, ⌘+R, or the F5 key) then\n",
            "jump to the 'Checking the Installation' section.\n"
          ]
        },
        {
          "output_type": "execute_result",
          "data": {
            "text/plain": []
          },
          "metadata": {},
          "execution_count": 3
        }
      ],
      "source": [
        "%%shell\n",
        "set -e\n",
        "\n",
        "#---------------------------------------------------#\n",
        "JULIA_VERSION=\"1.9.2\" # any version ≥ 0.7.0\n",
        "JULIA_PACKAGES=\"IJulia BenchmarkTools\"\n",
        "JULIA_PACKAGES_IF_GPU=\"CUDA\" # or CuArrays for older Julia versions\n",
        "JULIA_NUM_THREADS=2\n",
        "#---------------------------------------------------#\n",
        "\n",
        "if [ -z `which julia` ]; then\n",
        "  # Install Julia\n",
        "  JULIA_VER=`cut -d '.' -f -2 <<< \"$JULIA_VERSION\"`\n",
        "  echo \"Installing Julia $JULIA_VERSION on the current Colab Runtime...\"\n",
        "  BASE_URL=\"https://julialang-s3.julialang.org/bin/linux/x64\"\n",
        "  URL=\"$BASE_URL/$JULIA_VER/julia-$JULIA_VERSION-linux-x86_64.tar.gz\"\n",
        "  wget -nv $URL -O /tmp/julia.tar.gz # -nv means \"not verbose\"\n",
        "  tar -x -f /tmp/julia.tar.gz -C /usr/local --strip-components 1\n",
        "  rm /tmp/julia.tar.gz\n",
        "\n",
        "  # Install Packages\n",
        "  nvidia-smi -L &> /dev/null && export GPU=1 || export GPU=0\n",
        "  if [ $GPU -eq 1 ]; then\n",
        "    JULIA_PACKAGES=\"$JULIA_PACKAGES $JULIA_PACKAGES_IF_GPU\"\n",
        "  fi\n",
        "  for PKG in `echo $JULIA_PACKAGES`; do\n",
        "    echo \"Installing Julia package $PKG...\"\n",
        "    julia -e 'using Pkg; pkg\"add '$PKG'; precompile;\"' &> /dev/null\n",
        "  done\n",
        "\n",
        "  # Install kernel and rename it to \"julia\"\n",
        "  echo \"Installing IJulia kernel...\"\n",
        "  julia -e 'using IJulia; IJulia.installkernel(\"julia\", env=Dict(\n",
        "      \"JULIA_NUM_THREADS\"=>\"'\"$JULIA_NUM_THREADS\"'\"))'\n",
        "  KERNEL_DIR=`julia -e \"using IJulia; print(IJulia.kerneldir())\"`\n",
        "  KERNEL_NAME=`ls -d \"$KERNEL_DIR\"/julia*`\n",
        "  mv -f $KERNEL_NAME \"$KERNEL_DIR\"/julia\n",
        "\n",
        "  echo ''\n",
        "  echo \"Successfully installed `julia -v`!\"\n",
        "  echo \"Please reload this page (press Ctrl+R, ⌘+R, or the F5 key) then\"\n",
        "  echo \"jump to the 'Checking the Installation' section.\"\n",
        "fi"
      ],
      "id": "GIeFXS0F0zww"
    },
    {
      "cell_type": "code",
      "execution_count": null,
      "metadata": {
        "id": "229bffb1"
      },
      "outputs": [],
      "source": [
        "using Pkg"
      ],
      "id": "229bffb1"
    },
    {
      "cell_type": "code",
      "execution_count": null,
      "metadata": {
        "colab": {
          "base_uri": "https://localhost:8080/"
        },
        "id": "ff920b77",
        "outputId": "cf991b00-32d3-4f6d-b49f-6de28ed346f1"
      },
      "outputs": [
        {
          "output_type": "stream",
          "name": "stderr",
          "text": [
            "\u001b[32m\u001b[1m    Updating\u001b[22m\u001b[39m registry at `~/.julia/registries/General.toml`\n",
            "\u001b[32m\u001b[1m   Resolving\u001b[22m\u001b[39m package versions...\n",
            "\u001b[32m\u001b[1m   Installed\u001b[22m\u001b[39m Calculus ───────────────────────── v0.5.1\n",
            "\u001b[32m\u001b[1m   Installed\u001b[22m\u001b[39m TreeViews ──────────────────────── v0.3.0\n",
            "\u001b[32m\u001b[1m   Installed\u001b[22m\u001b[39m PDMats ─────────────────────────── v0.11.17\n",
            "\u001b[32m\u001b[1m   Installed\u001b[22m\u001b[39m HypergeometricFunctions ────────── v0.3.23\n",
            "\u001b[32m\u001b[1m   Installed\u001b[22m\u001b[39m StatsFuns ──────────────────────── v1.3.0\n",
            "\u001b[32m\u001b[1m   Installed\u001b[22m\u001b[39m OffsetArrays ───────────────────── v1.12.10\n",
            "\u001b[32m\u001b[1m   Installed\u001b[22m\u001b[39m NonlinearSolve ─────────────────── v1.9.0\n",
            "\u001b[32m\u001b[1m   Installed\u001b[22m\u001b[39m DifferentialEquations ──────────── v7.9.0\n",
            "\u001b[32m\u001b[1m   Installed\u001b[22m\u001b[39m InlineStrings ──────────────────── v1.4.0\n",
            "\u001b[32m\u001b[1m   Installed\u001b[22m\u001b[39m Polyester ──────────────────────── v0.7.5\n",
            "\u001b[32m\u001b[1m   Installed\u001b[22m\u001b[39m Sundials_jll ───────────────────── v5.2.1+0\n",
            "\u001b[32m\u001b[1m   Installed\u001b[22m\u001b[39m EnumX ──────────────────────────── v1.0.4\n",
            "\u001b[32m\u001b[1m   Installed\u001b[22m\u001b[39m StaticArrays ───────────────────── v1.6.2\n",
            "\u001b[32m\u001b[1m   Installed\u001b[22m\u001b[39m RecursiveArrayTools ────────────── v2.38.7\n",
            "\u001b[32m\u001b[1m   Installed\u001b[22m\u001b[39m InvertedIndices ────────────────── v1.3.0\n",
            "\u001b[32m\u001b[1m   Installed\u001b[22m\u001b[39m FunctionWrappers ───────────────── v1.1.3\n",
            "\u001b[32m\u001b[1m   Installed\u001b[22m\u001b[39m TriangularSolve ────────────────── v0.1.19\n",
            "\u001b[32m\u001b[1m   Installed\u001b[22m\u001b[39m ZygoteRules ────────────────────── v0.2.3\n",
            "\u001b[32m\u001b[1m   Installed\u001b[22m\u001b[39m Static ─────────────────────────── v0.8.8\n",
            "\u001b[32m\u001b[1m   Installed\u001b[22m\u001b[39m SLEEFPirates ───────────────────── v0.6.39\n",
            "\u001b[32m\u001b[1m   Installed\u001b[22m\u001b[39m DataFrames ─────────────────────── v1.6.1\n",
            "\u001b[32m\u001b[1m   Installed\u001b[22m\u001b[39m RandomNumbers ──────────────────── v1.5.3\n",
            "\u001b[32m\u001b[1m   Installed\u001b[22m\u001b[39m BoundaryValueDiffEq ────────────── v3.0.0\n",
            "\u001b[32m\u001b[1m   Installed\u001b[22m\u001b[39m Distances ──────────────────────── v0.10.9\n",
            "\u001b[32m\u001b[1m   Installed\u001b[22m\u001b[39m Missings ───────────────────────── v1.1.0\n",
            "\u001b[32m\u001b[1m   Installed\u001b[22m\u001b[39m Tricks ─────────────────────────── v0.1.7\n",
            "\u001b[32m\u001b[1m   Installed\u001b[22m\u001b[39m SteadyStateDiffEq ──────────────── v1.16.0\n",
            "\u001b[32m\u001b[1m   Installed\u001b[22m\u001b[39m SIMDTypes ──────────────────────── v0.1.0\n",
            "\u001b[32m\u001b[1m   Installed\u001b[22m\u001b[39m FiniteDiff ─────────────────────── v2.21.1\n",
            "\u001b[32m\u001b[1m   Installed\u001b[22m\u001b[39m MuladdMacro ────────────────────── v0.2.4\n",
            "\u001b[32m\u001b[1m   Installed\u001b[22m\u001b[39m CEnum ──────────────────────────── v0.4.2\n",
            "\u001b[32m\u001b[1m   Installed\u001b[22m\u001b[39m SimpleUnPack ───────────────────── v1.1.0\n",
            "\u001b[32m\u001b[1m   Installed\u001b[22m\u001b[39m CpuId ──────────────────────────── v0.3.1\n",
            "\u001b[32m\u001b[1m   Installed\u001b[22m\u001b[39m DiffEqBase ─────────────────────── v6.128.1\n",
            "\u001b[32m\u001b[1m   Installed\u001b[22m\u001b[39m BandedMatrices ─────────────────── v0.17.36\n",
            "\u001b[32m\u001b[1m   Installed\u001b[22m\u001b[39m SciMLBase ──────────────────────── v1.94.0\n",
            "\u001b[32m\u001b[1m   Installed\u001b[22m\u001b[39m ArnoldiMethod ──────────────────── v0.2.0\n",
            "\u001b[32m\u001b[1m   Installed\u001b[22m\u001b[39m IrrationalConstants ────────────── v0.2.2\n",
            "\u001b[32m\u001b[1m   Installed\u001b[22m\u001b[39m LinearSolve ────────────────────── v2.5.0\n",
            "\u001b[32m\u001b[1m   Installed\u001b[22m\u001b[39m SciMLNLSolve ───────────────────── v0.1.8\n",
            "\u001b[32m\u001b[1m   Installed\u001b[22m\u001b[39m NLsolve ────────────────────────── v4.5.1\n",
            "\u001b[32m\u001b[1m   Installed\u001b[22m\u001b[39m ADTypes ────────────────────────── v0.1.6\n",
            "\u001b[32m\u001b[1m   Installed\u001b[22m\u001b[39m SentinelArrays ─────────────────── v1.4.0\n",
            "\u001b[32m\u001b[1m   Installed\u001b[22m\u001b[39m SpecialFunctions ───────────────── v2.3.1\n",
            "\u001b[32m\u001b[1m   Installed\u001b[22m\u001b[39m SimpleNonlinearSolve ───────────── v0.1.19\n",
            "\u001b[32m\u001b[1m   Installed\u001b[22m\u001b[39m IfElse ─────────────────────────── v0.1.1\n",
            "\u001b[32m\u001b[1m   Installed\u001b[22m\u001b[39m StaticArraysCore ───────────────── v1.4.2\n",
            "\u001b[32m\u001b[1m   Installed\u001b[22m\u001b[39m DiffEqNoiseProcess ─────────────── v5.18.0\n",
            "\u001b[32m\u001b[1m   Installed\u001b[22m\u001b[39m ArrayInterfaceCore ─────────────── v0.1.29\n",
            "\u001b[32m\u001b[1m   Installed\u001b[22m\u001b[39m NaNMath ────────────────────────── v1.0.2\n",
            "\u001b[32m\u001b[1m   Installed\u001b[22m\u001b[39m PyPlot ─────────────────────────── v2.11.2\n",
            "\u001b[32m\u001b[1m   Installed\u001b[22m\u001b[39m ThreadingUtilities ─────────────── v0.5.2\n",
            "\u001b[32m\u001b[1m   Installed\u001b[22m\u001b[39m WorkerUtilities ────────────────── v1.6.1\n",
            "\u001b[32m\u001b[1m   Installed\u001b[22m\u001b[39m OrdinaryDiffEq ─────────────────── v6.54.0\n",
            "\u001b[32m\u001b[1m   Installed\u001b[22m\u001b[39m NLSolversBase ──────────────────── v7.8.3\n",
            "\u001b[32m\u001b[1m   Installed\u001b[22m\u001b[39m ManualMemory ───────────────────── v0.1.8\n",
            "\u001b[32m\u001b[1m   Installed\u001b[22m\u001b[39m TranscodingStreams ─────────────── v0.9.13\n",
            "\u001b[32m\u001b[1m   Installed\u001b[22m\u001b[39m SnoopPrecompile ────────────────── v1.0.3\n",
            "\u001b[32m\u001b[1m   Installed\u001b[22m\u001b[39m JumpProcesses ──────────────────── v9.7.2\n",
            "\u001b[32m\u001b[1m   Installed\u001b[22m\u001b[39m Random123 ──────────────────────── v1.6.1\n",
            "\u001b[32m\u001b[1m   Installed\u001b[22m\u001b[39m LevyArea ───────────────────────── v1.0.0\n",
            "\u001b[32m\u001b[1m   Installed\u001b[22m\u001b[39m Rmath_jll ──────────────────────── v0.4.0+0\n",
            "\u001b[32m\u001b[1m   Installed\u001b[22m\u001b[39m WeakRefStrings ─────────────────── v1.4.2\n",
            "\u001b[32m\u001b[1m   Installed\u001b[22m\u001b[39m Ratios ─────────────────────────── v0.4.5\n",
            "\u001b[32m\u001b[1m   Installed\u001b[22m\u001b[39m CommonSubexpressions ───────────── v0.3.0\n",
            "\u001b[32m\u001b[1m   Installed\u001b[22m\u001b[39m DataStructures ─────────────────── v0.18.15\n",
            "\u001b[32m\u001b[1m   Installed\u001b[22m\u001b[39m Colors ─────────────────────────── v0.12.10\n",
            "\u001b[32m\u001b[1m   Installed\u001b[22m\u001b[39m Graphs ─────────────────────────── v1.8.0\n",
            "\u001b[32m\u001b[1m   Installed\u001b[22m\u001b[39m ExprTools ──────────────────────── v0.1.10\n",
            "\u001b[32m\u001b[1m   Installed\u001b[22m\u001b[39m StatsAPI ───────────────────────── v1.6.0\n",
            "\u001b[32m\u001b[1m   Installed\u001b[22m\u001b[39m Compat ─────────────────────────── v4.9.0\n",
            "\u001b[32m\u001b[1m   Installed\u001b[22m\u001b[39m Lazy ───────────────────────────── v0.15.1\n",
            "\u001b[32m\u001b[1m   Installed\u001b[22m\u001b[39m CodecZlib ──────────────────────── v0.7.2\n",
            "\u001b[32m\u001b[1m   Installed\u001b[22m\u001b[39m StaticArrayInterface ───────────── v1.4.0\n",
            "\u001b[32m\u001b[1m   Installed\u001b[22m\u001b[39m StatsBase ──────────────────────── v0.34.0\n",
            "\u001b[32m\u001b[1m   Installed\u001b[22m\u001b[39m ArrayLayouts ───────────────────── v1.1.1\n",
            "\u001b[32m\u001b[1m   Installed\u001b[22m\u001b[39m ColorTypes ─────────────────────── v0.11.4\n",
            "\u001b[32m\u001b[1m   Installed\u001b[22m\u001b[39m BitTwiddlingConvenienceFunctions ─ v0.1.5\n",
            "\u001b[32m\u001b[1m   Installed\u001b[22m\u001b[39m DiffRules ──────────────────────── v1.15.1\n",
            "\u001b[32m\u001b[1m   Installed\u001b[22m\u001b[39m FunctionWrappersWrappers ───────── v0.1.3\n",
            "\u001b[32m\u001b[1m   Installed\u001b[22m\u001b[39m GenericSchur ───────────────────── v0.5.3\n",
            "\u001b[32m\u001b[1m   Installed\u001b[22m\u001b[39m StochasticDiffEq ───────────────── v6.62.0\n",
            "\u001b[32m\u001b[1m   Installed\u001b[22m\u001b[39m LayoutPointers ─────────────────── v0.1.14\n",
            "\u001b[32m\u001b[1m   Installed\u001b[22m\u001b[39m Sundials ───────────────────────── v4.19.3\n",
            "\u001b[32m\u001b[1m   Installed\u001b[22m\u001b[39m TableTraits ────────────────────── v1.0.1\n",
            "\u001b[32m\u001b[1m   Installed\u001b[22m\u001b[39m Inflate ────────────────────────── v0.1.3\n",
            "\u001b[32m\u001b[1m   Installed\u001b[22m\u001b[39m DiffResults ────────────────────── v1.1.0\n",
            "\u001b[32m\u001b[1m   Installed\u001b[22m\u001b[39m PositiveFactorizations ─────────── v0.2.4\n",
            "\u001b[32m\u001b[1m   Installed\u001b[22m\u001b[39m PyCall ─────────────────────────── v1.96.1\n",
            "\u001b[32m\u001b[1m   Installed\u001b[22m\u001b[39m SciMLOperators ─────────────────── v0.3.6\n",
            "\u001b[32m\u001b[1m   Installed\u001b[22m\u001b[39m PrettyTables ───────────────────── v2.2.7\n",
            "\u001b[32m\u001b[1m   Installed\u001b[22m\u001b[39m DiffEqCallbacks ────────────────── v2.27.0\n",
            "\u001b[32m\u001b[1m   Installed\u001b[22m\u001b[39m DataValueInterfaces ────────────── v1.0.0\n",
            "\u001b[32m\u001b[1m   Installed\u001b[22m\u001b[39m PooledArrays ───────────────────── v1.4.2\n",
            "\u001b[32m\u001b[1m   Installed\u001b[22m\u001b[39m Setfield ───────────────────────── v1.1.1\n",
            "\u001b[32m\u001b[1m   Installed\u001b[22m\u001b[39m ConstructionBase ───────────────── v1.5.3\n",
            "\u001b[32m\u001b[1m   Installed\u001b[22m\u001b[39m OrderedCollections ─────────────── v1.6.2\n",
            "\u001b[32m\u001b[1m   Installed\u001b[22m\u001b[39m DelayDiffEq ────────────────────── v5.42.0\n",
            "\u001b[32m\u001b[1m   Installed\u001b[22m\u001b[39m FastClosures ───────────────────── v0.3.2\n",
            "\u001b[32m\u001b[1m   Installed\u001b[22m\u001b[39m LoopVectorization ──────────────── v0.12.165\n",
            "\u001b[32m\u001b[1m   Installed\u001b[22m\u001b[39m PolyesterWeave ─────────────────── v0.2.1\n",
            "\u001b[32m\u001b[1m   Installed\u001b[22m\u001b[39m ChainRulesCore ─────────────────── v1.16.0\n",
            "\u001b[32m\u001b[1m   Installed\u001b[22m\u001b[39m ArrayInterface ─────────────────── v7.4.11\n",
            "\u001b[32m\u001b[1m   Installed\u001b[22m\u001b[39m LineSearches ───────────────────── v7.2.0\n",
            "\u001b[32m\u001b[1m   Installed\u001b[22m\u001b[39m Reexport ───────────────────────── v1.2.2\n",
            "\u001b[32m\u001b[1m   Installed\u001b[22m\u001b[39m FastLapackInterface ────────────── v2.0.0\n",
            "\u001b[32m\u001b[1m   Installed\u001b[22m\u001b[39m CSV ────────────────────────────── v0.10.11\n",
            "\u001b[32m\u001b[1m   Installed\u001b[22m\u001b[39m LogExpFunctions ────────────────── v0.3.25\n",
            "\u001b[32m\u001b[1m   Installed\u001b[22m\u001b[39m KLU ────────────────────────────── v0.4.0\n",
            "\u001b[32m\u001b[1m   Installed\u001b[22m\u001b[39m PreallocationTools ─────────────── v0.4.12\n",
            "\u001b[32m\u001b[1m   Installed\u001b[22m\u001b[39m OpenSpecFun_jll ────────────────── v0.5.5+0\n",
            "\u001b[32m\u001b[1m   Installed\u001b[22m\u001b[39m CloseOpenIntervals ─────────────── v0.1.12\n",
            "\u001b[32m\u001b[1m   Installed\u001b[22m\u001b[39m UnPack ─────────────────────────── v1.0.2\n",
            "\u001b[32m\u001b[1m   Installed\u001b[22m\u001b[39m Krylov ─────────────────────────── v0.9.3\n",
            "\u001b[32m\u001b[1m   Installed\u001b[22m\u001b[39m PackageExtensionCompat ─────────── v1.0.1\n",
            "\u001b[32m\u001b[1m   Installed\u001b[22m\u001b[39m MacroTools ─────────────────────── v0.5.11\n",
            "\u001b[32m\u001b[1m   Installed\u001b[22m\u001b[39m CommonSolve ────────────────────── v0.2.4\n",
            "\u001b[32m\u001b[1m   Installed\u001b[22m\u001b[39m GPUArraysCore ──────────────────── v0.1.5\n",
            "\u001b[32m\u001b[1m   Installed\u001b[22m\u001b[39m SimpleTraits ───────────────────── v0.9.4\n",
            "\u001b[32m\u001b[1m   Installed\u001b[22m\u001b[39m Crayons ────────────────────────── v4.1.1\n",
            "\u001b[32m\u001b[1m   Installed\u001b[22m\u001b[39m DocStringExtensions ────────────── v0.9.3\n",
            "\u001b[32m\u001b[1m   Installed\u001b[22m\u001b[39m Adapt ──────────────────────────── v3.6.2\n",
            "\u001b[32m\u001b[1m   Installed\u001b[22m\u001b[39m StrideArraysCore ───────────────── v0.4.17\n",
            "\u001b[32m\u001b[1m   Installed\u001b[22m\u001b[39m ExponentialUtilities ───────────── v1.24.0\n",
            "\u001b[32m\u001b[1m   Installed\u001b[22m\u001b[39m DualNumbers ────────────────────── v0.6.8\n",
            "\u001b[32m\u001b[1m   Installed\u001b[22m\u001b[39m Rmath ──────────────────────────── v0.7.1\n",
            "\u001b[32m\u001b[1m   Installed\u001b[22m\u001b[39m CPUSummary ─────────────────────── v0.2.3\n",
            "\u001b[32m\u001b[1m   Installed\u001b[22m\u001b[39m RuntimeGeneratedFunctions ──────── v0.5.12\n",
            "\u001b[32m\u001b[1m   Installed\u001b[22m\u001b[39m Tables ─────────────────────────── v1.10.1\n",
            "\u001b[32m\u001b[1m   Installed\u001b[22m\u001b[39m VectorizationBase ──────────────── v0.21.64\n",
            "\u001b[32m\u001b[1m   Installed\u001b[22m\u001b[39m VertexSafeGraphs ───────────────── v0.2.0\n",
            "\u001b[32m\u001b[1m   Installed\u001b[22m\u001b[39m DataAPI ────────────────────────── v1.15.0\n",
            "\u001b[32m\u001b[1m   Installed\u001b[22m\u001b[39m Interpolations ─────────────────── v0.14.7\n",
            "\u001b[32m\u001b[1m   Installed\u001b[22m\u001b[39m IteratorInterfaceExtensions ────── v1.0.0\n",
            "\u001b[32m\u001b[1m   Installed\u001b[22m\u001b[39m FixedPointNumbers ──────────────── v0.8.4\n",
            "\u001b[32m\u001b[1m   Installed\u001b[22m\u001b[39m RecipesBase ────────────────────── v1.3.4\n",
            "\u001b[32m\u001b[1m   Installed\u001b[22m\u001b[39m Optim ──────────────────────────── v1.7.7\n",
            "\u001b[32m\u001b[1m   Installed\u001b[22m\u001b[39m TruncatedStacktraces ───────────── v1.4.0\n",
            "\u001b[32m\u001b[1m   Installed\u001b[22m\u001b[39m HostCPUFeatures ────────────────── v0.1.16\n",
            "\u001b[32m\u001b[1m   Installed\u001b[22m\u001b[39m LaTeXStrings ───────────────────── v1.3.0\n",
            "\u001b[32m\u001b[1m   Installed\u001b[22m\u001b[39m PoissonRandom ──────────────────── v0.4.4\n",
            "\u001b[32m\u001b[1m   Installed\u001b[22m\u001b[39m FilePathsBase ──────────────────── v0.9.20\n",
            "\u001b[32m\u001b[1m   Installed\u001b[22m\u001b[39m SymbolicIndexingInterface ──────── v0.2.2\n",
            "\u001b[32m\u001b[1m   Installed\u001b[22m\u001b[39m ResettableStacks ───────────────── v1.1.1\n",
            "\u001b[32m\u001b[1m   Installed\u001b[22m\u001b[39m AxisAlgorithms ─────────────────── v1.0.1\n",
            "\u001b[32m\u001b[1m   Installed\u001b[22m\u001b[39m QuadGK ─────────────────────────── v2.8.2\n",
            "\u001b[32m\u001b[1m   Installed\u001b[22m\u001b[39m FillArrays ─────────────────────── v1.5.0\n",
            "\u001b[32m\u001b[1m   Installed\u001b[22m\u001b[39m ForwardDiff ────────────────────── v0.10.36\n",
            "\u001b[32m\u001b[1m   Installed\u001b[22m\u001b[39m Requires ───────────────────────── v1.3.0\n",
            "\u001b[32m\u001b[1m   Installed\u001b[22m\u001b[39m FastBroadcast ──────────────────── v0.2.6\n",
            "\u001b[32m\u001b[1m   Installed\u001b[22m\u001b[39m SortingAlgorithms ──────────────── v1.1.1\n",
            "\u001b[32m\u001b[1m   Installed\u001b[22m\u001b[39m RecursiveFactorization ─────────── v0.2.20\n",
            "\u001b[32m\u001b[1m   Installed\u001b[22m\u001b[39m WoodburyMatrices ───────────────── v0.5.5\n",
            "\u001b[32m\u001b[1m   Installed\u001b[22m\u001b[39m Parameters ─────────────────────── v0.12.3\n",
            "\u001b[32m\u001b[1m   Installed\u001b[22m\u001b[39m StringManipulation ─────────────── v0.3.0\n",
            "\u001b[32m\u001b[1m   Installed\u001b[22m\u001b[39m SparseDiffTools ────────────────── v2.4.1\n",
            "\u001b[32m\u001b[1m   Installed\u001b[22m\u001b[39m Distributions ──────────────────── v0.25.100\n",
            "\u001b[32m\u001b[1m   Installed\u001b[22m\u001b[39m Sparspak ───────────────────────── v0.3.9\n",
            "\u001b[32m\u001b[1m    Updating\u001b[22m\u001b[39m `~/.julia/environments/v1.9/Project.toml`\n",
            "  \u001b[90m[336ed68f] \u001b[39m\u001b[92m+ CSV v0.10.11\u001b[39m\n",
            "  \u001b[90m[a93c6f00] \u001b[39m\u001b[92m+ DataFrames v1.6.1\u001b[39m\n",
            "  \u001b[90m[0c46a032] \u001b[39m\u001b[92m+ DifferentialEquations v7.9.0\u001b[39m\n",
            "  \u001b[90m[a98d9a8b] \u001b[39m\u001b[92m+ Interpolations v0.14.7\u001b[39m\n",
            "  \u001b[90m[b964fa9f] \u001b[39m\u001b[92m+ LaTeXStrings v1.3.0\u001b[39m\n",
            "  \u001b[90m[d330b81b] \u001b[39m\u001b[92m+ PyPlot v2.11.2\u001b[39m\n",
            "  \u001b[90m[276daf66] \u001b[39m\u001b[92m+ SpecialFunctions v2.3.1\u001b[39m\n",
            "  \u001b[90m[37e2e46d] \u001b[39m\u001b[92m+ LinearAlgebra\u001b[39m\n",
            "\u001b[32m\u001b[1m    Updating\u001b[22m\u001b[39m `~/.julia/environments/v1.9/Manifest.toml`\n",
            "\u001b[33m⌅\u001b[39m \u001b[90m[47edcb42] \u001b[39m\u001b[92m+ ADTypes v0.1.6\u001b[39m\n",
            "  \u001b[90m[79e6a3ab] \u001b[39m\u001b[92m+ Adapt v3.6.2\u001b[39m\n",
            "  \u001b[90m[ec485272] \u001b[39m\u001b[92m+ ArnoldiMethod v0.2.0\u001b[39m\n",
            "  \u001b[90m[4fba245c] \u001b[39m\u001b[92m+ ArrayInterface v7.4.11\u001b[39m\n",
            "  \u001b[90m[30b0a656] \u001b[39m\u001b[92m+ ArrayInterfaceCore v0.1.29\u001b[39m\n",
            "  \u001b[90m[4c555306] \u001b[39m\u001b[92m+ ArrayLayouts v1.1.1\u001b[39m\n",
            "  \u001b[90m[13072b0f] \u001b[39m\u001b[92m+ AxisAlgorithms v1.0.1\u001b[39m\n",
            "  \u001b[90m[aae01518] \u001b[39m\u001b[92m+ BandedMatrices v0.17.36\u001b[39m\n",
            "  \u001b[90m[62783981] \u001b[39m\u001b[92m+ BitTwiddlingConvenienceFunctions v0.1.5\u001b[39m\n",
            "  \u001b[90m[764a87c0] \u001b[39m\u001b[92m+ BoundaryValueDiffEq v3.0.0\u001b[39m\n",
            "  \u001b[90m[fa961155] \u001b[39m\u001b[92m+ CEnum v0.4.2\u001b[39m\n",
            "  \u001b[90m[2a0fbf3d] \u001b[39m\u001b[92m+ CPUSummary v0.2.3\u001b[39m\n",
            "  \u001b[90m[336ed68f] \u001b[39m\u001b[92m+ CSV v0.10.11\u001b[39m\n",
            "  \u001b[90m[49dc2e85] \u001b[39m\u001b[92m+ Calculus v0.5.1\u001b[39m\n",
            "  \u001b[90m[d360d2e6] \u001b[39m\u001b[92m+ ChainRulesCore v1.16.0\u001b[39m\n",
            "  \u001b[90m[fb6a15b2] \u001b[39m\u001b[92m+ CloseOpenIntervals v0.1.12\u001b[39m\n",
            "  \u001b[90m[944b1d66] \u001b[39m\u001b[92m+ CodecZlib v0.7.2\u001b[39m\n",
            "  \u001b[90m[3da002f7] \u001b[39m\u001b[92m+ ColorTypes v0.11.4\u001b[39m\n",
            "  \u001b[90m[5ae59095] \u001b[39m\u001b[92m+ Colors v0.12.10\u001b[39m\n",
            "  \u001b[90m[38540f10] \u001b[39m\u001b[92m+ CommonSolve v0.2.4\u001b[39m\n",
            "  \u001b[90m[bbf7d656] \u001b[39m\u001b[92m+ CommonSubexpressions v0.3.0\u001b[39m\n",
            "  \u001b[90m[34da2185] \u001b[39m\u001b[92m+ Compat v4.9.0\u001b[39m\n",
            "  \u001b[90m[187b0558] \u001b[39m\u001b[92m+ ConstructionBase v1.5.3\u001b[39m\n",
            "  \u001b[90m[adafc99b] \u001b[39m\u001b[92m+ CpuId v0.3.1\u001b[39m\n",
            "  \u001b[90m[a8cc5b0e] \u001b[39m\u001b[92m+ Crayons v4.1.1\u001b[39m\n",
            "  \u001b[90m[9a962f9c] \u001b[39m\u001b[92m+ DataAPI v1.15.0\u001b[39m\n",
            "  \u001b[90m[a93c6f00] \u001b[39m\u001b[92m+ DataFrames v1.6.1\u001b[39m\n",
            "  \u001b[90m[864edb3b] \u001b[39m\u001b[92m+ DataStructures v0.18.15\u001b[39m\n",
            "  \u001b[90m[e2d170a0] \u001b[39m\u001b[92m+ DataValueInterfaces v1.0.0\u001b[39m\n",
            "  \u001b[90m[bcd4f6db] \u001b[39m\u001b[92m+ DelayDiffEq v5.42.0\u001b[39m\n",
            "  \u001b[90m[2b5f629d] \u001b[39m\u001b[92m+ DiffEqBase v6.128.1\u001b[39m\n",
            "  \u001b[90m[459566f4] \u001b[39m\u001b[92m+ DiffEqCallbacks v2.27.0\u001b[39m\n",
            "  \u001b[90m[77a26b50] \u001b[39m\u001b[92m+ DiffEqNoiseProcess v5.18.0\u001b[39m\n",
            "  \u001b[90m[163ba53b] \u001b[39m\u001b[92m+ DiffResults v1.1.0\u001b[39m\n",
            "  \u001b[90m[b552c78f] \u001b[39m\u001b[92m+ DiffRules v1.15.1\u001b[39m\n",
            "  \u001b[90m[0c46a032] \u001b[39m\u001b[92m+ DifferentialEquations v7.9.0\u001b[39m\n",
            "  \u001b[90m[b4f34e82] \u001b[39m\u001b[92m+ Distances v0.10.9\u001b[39m\n",
            "  \u001b[90m[31c24e10] \u001b[39m\u001b[92m+ Distributions v0.25.100\u001b[39m\n",
            "  \u001b[90m[ffbed154] \u001b[39m\u001b[92m+ DocStringExtensions v0.9.3\u001b[39m\n",
            "  \u001b[90m[fa6b7ba4] \u001b[39m\u001b[92m+ DualNumbers v0.6.8\u001b[39m\n",
            "  \u001b[90m[4e289a0a] \u001b[39m\u001b[92m+ EnumX v1.0.4\u001b[39m\n",
            "  \u001b[90m[d4d017d3] \u001b[39m\u001b[92m+ ExponentialUtilities v1.24.0\u001b[39m\n",
            "  \u001b[90m[e2ba6199] \u001b[39m\u001b[92m+ ExprTools v0.1.10\u001b[39m\n",
            "  \u001b[90m[7034ab61] \u001b[39m\u001b[92m+ FastBroadcast v0.2.6\u001b[39m\n",
            "  \u001b[90m[9aa1b823] \u001b[39m\u001b[92m+ FastClosures v0.3.2\u001b[39m\n",
            "  \u001b[90m[29a986be] \u001b[39m\u001b[92m+ FastLapackInterface v2.0.0\u001b[39m\n",
            "  \u001b[90m[48062228] \u001b[39m\u001b[92m+ FilePathsBase v0.9.20\u001b[39m\n",
            "  \u001b[90m[1a297f60] \u001b[39m\u001b[92m+ FillArrays v1.5.0\u001b[39m\n",
            "  \u001b[90m[6a86dc24] \u001b[39m\u001b[92m+ FiniteDiff v2.21.1\u001b[39m\n",
            "  \u001b[90m[53c48c17] \u001b[39m\u001b[92m+ FixedPointNumbers v0.8.4\u001b[39m\n",
            "  \u001b[90m[f6369f11] \u001b[39m\u001b[92m+ ForwardDiff v0.10.36\u001b[39m\n",
            "  \u001b[90m[069b7b12] \u001b[39m\u001b[92m+ FunctionWrappers v1.1.3\u001b[39m\n",
            "  \u001b[90m[77dc65aa] \u001b[39m\u001b[92m+ FunctionWrappersWrappers v0.1.3\u001b[39m\n",
            "  \u001b[90m[46192b85] \u001b[39m\u001b[92m+ GPUArraysCore v0.1.5\u001b[39m\n",
            "  \u001b[90m[c145ed77] \u001b[39m\u001b[92m+ GenericSchur v0.5.3\u001b[39m\n",
            "  \u001b[90m[86223c79] \u001b[39m\u001b[92m+ Graphs v1.8.0\u001b[39m\n",
            "  \u001b[90m[3e5b6fbb] \u001b[39m\u001b[92m+ HostCPUFeatures v0.1.16\u001b[39m\n",
            "  \u001b[90m[34004b35] \u001b[39m\u001b[92m+ HypergeometricFunctions v0.3.23\u001b[39m\n",
            "  \u001b[90m[615f187c] \u001b[39m\u001b[92m+ IfElse v0.1.1\u001b[39m\n",
            "  \u001b[90m[d25df0c9] \u001b[39m\u001b[92m+ Inflate v0.1.3\u001b[39m\n",
            "  \u001b[90m[842dd82b] \u001b[39m\u001b[92m+ InlineStrings v1.4.0\u001b[39m\n",
            "  \u001b[90m[a98d9a8b] \u001b[39m\u001b[92m+ Interpolations v0.14.7\u001b[39m\n",
            "  \u001b[90m[41ab1584] \u001b[39m\u001b[92m+ InvertedIndices v1.3.0\u001b[39m\n",
            "  \u001b[90m[92d709cd] \u001b[39m\u001b[92m+ IrrationalConstants v0.2.2\u001b[39m\n",
            "  \u001b[90m[82899510] \u001b[39m\u001b[92m+ IteratorInterfaceExtensions v1.0.0\u001b[39m\n",
            "  \u001b[90m[ccbc3e58] \u001b[39m\u001b[92m+ JumpProcesses v9.7.2\u001b[39m\n",
            "  \u001b[90m[ef3ab10e] \u001b[39m\u001b[92m+ KLU v0.4.0\u001b[39m\n",
            "  \u001b[90m[ba0b0d4f] \u001b[39m\u001b[92m+ Krylov v0.9.3\u001b[39m\n",
            "  \u001b[90m[b964fa9f] \u001b[39m\u001b[92m+ LaTeXStrings v1.3.0\u001b[39m\n",
            "  \u001b[90m[10f19ff3] \u001b[39m\u001b[92m+ LayoutPointers v0.1.14\u001b[39m\n",
            "  \u001b[90m[50d2b5c4] \u001b[39m\u001b[92m+ Lazy v0.15.1\u001b[39m\n",
            "  \u001b[90m[2d8b4e74] \u001b[39m\u001b[92m+ LevyArea v1.0.0\u001b[39m\n",
            "  \u001b[90m[d3d80556] \u001b[39m\u001b[92m+ LineSearches v7.2.0\u001b[39m\n",
            "  \u001b[90m[7ed4a6bd] \u001b[39m\u001b[92m+ LinearSolve v2.5.0\u001b[39m\n",
            "  \u001b[90m[2ab3a3ac] \u001b[39m\u001b[92m+ LogExpFunctions v0.3.25\u001b[39m\n",
            "  \u001b[90m[bdcacae8] \u001b[39m\u001b[92m+ LoopVectorization v0.12.165\u001b[39m\n",
            "  \u001b[90m[1914dd2f] \u001b[39m\u001b[92m+ MacroTools v0.5.11\u001b[39m\n",
            "  \u001b[90m[d125e4d3] \u001b[39m\u001b[92m+ ManualMemory v0.1.8\u001b[39m\n",
            "  \u001b[90m[e1d29d7a] \u001b[39m\u001b[92m+ Missings v1.1.0\u001b[39m\n",
            "  \u001b[90m[46d2c3a1] \u001b[39m\u001b[92m+ MuladdMacro v0.2.4\u001b[39m\n",
            "  \u001b[90m[d41bc354] \u001b[39m\u001b[92m+ NLSolversBase v7.8.3\u001b[39m\n",
            "  \u001b[90m[2774e3e8] \u001b[39m\u001b[92m+ NLsolve v4.5.1\u001b[39m\n",
            "  \u001b[90m[77ba4419] \u001b[39m\u001b[92m+ NaNMath v1.0.2\u001b[39m\n",
            "  \u001b[90m[8913a72c] \u001b[39m\u001b[92m+ NonlinearSolve v1.9.0\u001b[39m\n",
            "  \u001b[90m[6fe1bfb0] \u001b[39m\u001b[92m+ OffsetArrays v1.12.10\u001b[39m\n",
            "  \u001b[90m[429524aa] \u001b[39m\u001b[92m+ Optim v1.7.7\u001b[39m\n",
            "  \u001b[90m[bac558e1] \u001b[39m\u001b[92m+ OrderedCollections v1.6.2\u001b[39m\n",
            "  \u001b[90m[1dea7af3] \u001b[39m\u001b[92m+ OrdinaryDiffEq v6.54.0\u001b[39m\n",
            "  \u001b[90m[90014a1f] \u001b[39m\u001b[92m+ PDMats v0.11.17\u001b[39m\n",
            "  \u001b[90m[65ce6f38] \u001b[39m\u001b[92m+ PackageExtensionCompat v1.0.1\u001b[39m\n",
            "  \u001b[90m[d96e819e] \u001b[39m\u001b[92m+ Parameters v0.12.3\u001b[39m\n",
            "  \u001b[90m[e409e4f3] \u001b[39m\u001b[92m+ PoissonRandom v0.4.4\u001b[39m\n",
            "  \u001b[90m[f517fe37] \u001b[39m\u001b[92m+ Polyester v0.7.5\u001b[39m\n",
            "  \u001b[90m[1d0040c9] \u001b[39m\u001b[92m+ PolyesterWeave v0.2.1\u001b[39m\n",
            "  \u001b[90m[2dfb63ee] \u001b[39m\u001b[92m+ PooledArrays v1.4.2\u001b[39m\n",
            "  \u001b[90m[85a6dd25] \u001b[39m\u001b[92m+ PositiveFactorizations v0.2.4\u001b[39m\n",
            "  \u001b[90m[d236fae5] \u001b[39m\u001b[92m+ PreallocationTools v0.4.12\u001b[39m\n",
            "  \u001b[90m[08abe8d2] \u001b[39m\u001b[92m+ PrettyTables v2.2.7\u001b[39m\n",
            "  \u001b[90m[438e738f] \u001b[39m\u001b[92m+ PyCall v1.96.1\u001b[39m\n",
            "  \u001b[90m[d330b81b] \u001b[39m\u001b[92m+ PyPlot v2.11.2\u001b[39m\n",
            "  \u001b[90m[1fd47b50] \u001b[39m\u001b[92m+ QuadGK v2.8.2\u001b[39m\n",
            "  \u001b[90m[74087812] \u001b[39m\u001b[92m+ Random123 v1.6.1\u001b[39m\n",
            "  \u001b[90m[e6cf234a] \u001b[39m\u001b[92m+ RandomNumbers v1.5.3\u001b[39m\n",
            "  \u001b[90m[c84ed2f1] \u001b[39m\u001b[92m+ Ratios v0.4.5\u001b[39m\n",
            "  \u001b[90m[3cdcf5f2] \u001b[39m\u001b[92m+ RecipesBase v1.3.4\u001b[39m\n",
            "  \u001b[90m[731186ca] \u001b[39m\u001b[92m+ RecursiveArrayTools v2.38.7\u001b[39m\n",
            "  \u001b[90m[f2c3362d] \u001b[39m\u001b[92m+ RecursiveFactorization v0.2.20\u001b[39m\n",
            "  \u001b[90m[189a3867] \u001b[39m\u001b[92m+ Reexport v1.2.2\u001b[39m\n",
            "  \u001b[90m[ae029012] \u001b[39m\u001b[92m+ Requires v1.3.0\u001b[39m\n",
            "  \u001b[90m[ae5879a3] \u001b[39m\u001b[92m+ ResettableStacks v1.1.1\u001b[39m\n",
            "  \u001b[90m[79098fc4] \u001b[39m\u001b[92m+ Rmath v0.7.1\u001b[39m\n",
            "  \u001b[90m[7e49a35a] \u001b[39m\u001b[92m+ RuntimeGeneratedFunctions v0.5.12\u001b[39m\n",
            "  \u001b[90m[94e857df] \u001b[39m\u001b[92m+ SIMDTypes v0.1.0\u001b[39m\n",
            "  \u001b[90m[476501e8] \u001b[39m\u001b[92m+ SLEEFPirates v0.6.39\u001b[39m\n",
            "  \u001b[90m[0bca4576] \u001b[39m\u001b[92m+ SciMLBase v1.94.0\u001b[39m\n",
            "  \u001b[90m[e9a6253c] \u001b[39m\u001b[92m+ SciMLNLSolve v0.1.8\u001b[39m\n",
            "  \u001b[90m[c0aeaf25] \u001b[39m\u001b[92m+ SciMLOperators v0.3.6\u001b[39m\n",
            "  \u001b[90m[91c51154] \u001b[39m\u001b[92m+ SentinelArrays v1.4.0\u001b[39m\n",
            "  \u001b[90m[efcf1570] \u001b[39m\u001b[92m+ Setfield v1.1.1\u001b[39m\n",
            "  \u001b[90m[727e6d20] \u001b[39m\u001b[92m+ SimpleNonlinearSolve v0.1.19\u001b[39m\n",
            "  \u001b[90m[699a6c99] \u001b[39m\u001b[92m+ SimpleTraits v0.9.4\u001b[39m\n",
            "  \u001b[90m[ce78b400] \u001b[39m\u001b[92m+ SimpleUnPack v1.1.0\u001b[39m\n",
            "  \u001b[90m[66db9d55] \u001b[39m\u001b[92m+ SnoopPrecompile v1.0.3\u001b[39m\n",
            "  \u001b[90m[a2af1166] \u001b[39m\u001b[92m+ SortingAlgorithms v1.1.1\u001b[39m\n",
            "  \u001b[90m[47a9eef4] \u001b[39m\u001b[92m+ SparseDiffTools v2.4.1\u001b[39m\n",
            "  \u001b[90m[e56a9233] \u001b[39m\u001b[92m+ Sparspak v0.3.9\u001b[39m\n",
            "  \u001b[90m[276daf66] \u001b[39m\u001b[92m+ SpecialFunctions v2.3.1\u001b[39m\n",
            "  \u001b[90m[aedffcd0] \u001b[39m\u001b[92m+ Static v0.8.8\u001b[39m\n",
            "  \u001b[90m[0d7ed370] \u001b[39m\u001b[92m+ StaticArrayInterface v1.4.0\u001b[39m\n",
            "  \u001b[90m[90137ffa] \u001b[39m\u001b[92m+ StaticArrays v1.6.2\u001b[39m\n",
            "  \u001b[90m[1e83bf80] \u001b[39m\u001b[92m+ StaticArraysCore v1.4.2\u001b[39m\n",
            "  \u001b[90m[82ae8749] \u001b[39m\u001b[92m+ StatsAPI v1.6.0\u001b[39m\n",
            "  \u001b[90m[2913bbd2] \u001b[39m\u001b[92m+ StatsBase v0.34.0\u001b[39m\n",
            "  \u001b[90m[4c63d2b9] \u001b[39m\u001b[92m+ StatsFuns v1.3.0\u001b[39m\n",
            "  \u001b[90m[9672c7b4] \u001b[39m\u001b[92m+ SteadyStateDiffEq v1.16.0\u001b[39m\n",
            "  \u001b[90m[789caeaf] \u001b[39m\u001b[92m+ StochasticDiffEq v6.62.0\u001b[39m\n",
            "  \u001b[90m[7792a7ef] \u001b[39m\u001b[92m+ StrideArraysCore v0.4.17\u001b[39m\n",
            "  \u001b[90m[892a3eda] \u001b[39m\u001b[92m+ StringManipulation v0.3.0\u001b[39m\n",
            "  \u001b[90m[c3572dad] \u001b[39m\u001b[92m+ Sundials v4.19.3\u001b[39m\n",
            "  \u001b[90m[2efcf032] \u001b[39m\u001b[92m+ SymbolicIndexingInterface v0.2.2\u001b[39m\n",
            "  \u001b[90m[3783bdb8] \u001b[39m\u001b[92m+ TableTraits v1.0.1\u001b[39m\n",
            "  \u001b[90m[bd369af6] \u001b[39m\u001b[92m+ Tables v1.10.1\u001b[39m\n",
            "  \u001b[90m[8290d209] \u001b[39m\u001b[92m+ ThreadingUtilities v0.5.2\u001b[39m\n",
            "  \u001b[90m[3bb67fe8] \u001b[39m\u001b[92m+ TranscodingStreams v0.9.13\u001b[39m\n",
            "  \u001b[90m[a2a6695c] \u001b[39m\u001b[92m+ TreeViews v0.3.0\u001b[39m\n",
            "  \u001b[90m[d5829a12] \u001b[39m\u001b[92m+ TriangularSolve v0.1.19\u001b[39m\n",
            "  \u001b[90m[410a4b4d] \u001b[39m\u001b[92m+ Tricks v0.1.7\u001b[39m\n",
            "  \u001b[90m[781d530d] \u001b[39m\u001b[92m+ TruncatedStacktraces v1.4.0\u001b[39m\n",
            "  \u001b[90m[3a884ed6] \u001b[39m\u001b[92m+ UnPack v1.0.2\u001b[39m\n",
            "  \u001b[90m[3d5dd08c] \u001b[39m\u001b[92m+ VectorizationBase v0.21.64\u001b[39m\n",
            "  \u001b[90m[19fa3120] \u001b[39m\u001b[92m+ VertexSafeGraphs v0.2.0\u001b[39m\n",
            "  \u001b[90m[ea10d353] \u001b[39m\u001b[92m+ WeakRefStrings v1.4.2\u001b[39m\n",
            "  \u001b[90m[efce3f68] \u001b[39m\u001b[92m+ WoodburyMatrices v0.5.5\u001b[39m\n",
            "  \u001b[90m[76eceee3] \u001b[39m\u001b[92m+ WorkerUtilities v1.6.1\u001b[39m\n",
            "  \u001b[90m[700de1a5] \u001b[39m\u001b[92m+ ZygoteRules v0.2.3\u001b[39m\n",
            "  \u001b[90m[efe28fd5] \u001b[39m\u001b[92m+ OpenSpecFun_jll v0.5.5+0\u001b[39m\n",
            "  \u001b[90m[f50d1b31] \u001b[39m\u001b[92m+ Rmath_jll v0.4.0+0\u001b[39m\n",
            "\u001b[33m⌅\u001b[39m \u001b[90m[fb77eaff] \u001b[39m\u001b[92m+ Sundials_jll v5.2.1+0\u001b[39m\n",
            "  \u001b[90m[8ba89e20] \u001b[39m\u001b[92m+ Distributed\u001b[39m\n",
            "  \u001b[90m[9fa8497b] \u001b[39m\u001b[92m+ Future\u001b[39m\n",
            "  \u001b[90m[1a1011a3] \u001b[39m\u001b[92m+ SharedArrays\u001b[39m\n",
            "  \u001b[90m[4607b0f0] \u001b[39m\u001b[92m+ SuiteSparse\u001b[39m\n",
            "  \u001b[90m[05823500] \u001b[39m\u001b[92m+ OpenLibm_jll v0.8.1+0\u001b[39m\n",
            "\u001b[36m\u001b[1m        Info\u001b[22m\u001b[39m Packages marked with \u001b[33m⌅\u001b[39m have new versions available but compatibility constraints restrict them from upgrading. To see why use `status --outdated -m`\n",
            "\u001b[32m\u001b[1m    Building\u001b[22m\u001b[39m PyCall → `~/.julia/scratchspaces/44cfe95a-1eb2-52ea-b672-e2afdf69b78f/43d304ac6f0354755f1d60730ece8c499980f7ba/build.log`\n",
            "\u001b[32m\u001b[1mPrecompiling\u001b[22m\u001b[39m project...\n",
            "\u001b[32m  ✓ \u001b[39m\u001b[90mSimpleUnPack\u001b[39m\n",
            "\u001b[32m  ✓ \u001b[39m\u001b[90mMuladdMacro\u001b[39m\n",
            "\u001b[32m  ✓ \u001b[39m\u001b[90mFunctionWrappers\u001b[39m\n",
            "\u001b[32m  ✓ \u001b[39mLaTeXStrings\n",
            "\u001b[32m  ✓ \u001b[39m\u001b[90mCalculus\u001b[39m\n",
            "\u001b[32m  ✓ \u001b[39m\u001b[90mExprTools\u001b[39m\n",
            "\u001b[32m  ✓ \u001b[39m\u001b[90mSentinelArrays\u001b[39m\n",
            "\u001b[32m  ✓ \u001b[39m\u001b[90mPositiveFactorizations\u001b[39m\n",
            "\u001b[32m  ✓ \u001b[39m\u001b[90mTricks\u001b[39m\n",
            "\u001b[32m  ✓ \u001b[39m\u001b[90mWorkerUtilities\u001b[39m\n",
            "\u001b[32m  ✓ \u001b[39m\u001b[90mIteratorInterfaceExtensions\u001b[39m\n",
            "\u001b[32m  ✓ \u001b[39m\u001b[90mStatsAPI\u001b[39m\n",
            "\u001b[32m  ✓ \u001b[39m\u001b[90mADTypes\u001b[39m\n",
            "\u001b[32m  ✓ \u001b[39m\u001b[90mCEnum\u001b[39m\n",
            "\u001b[32m  ✓ \u001b[39m\u001b[90mUnPack\u001b[39m\n",
            "\u001b[32m  ✓ \u001b[39m\u001b[90mCommonSolve\u001b[39m\n",
            "\u001b[32m  ✓ \u001b[39m\u001b[90mGenericSchur\u001b[39m\n",
            "\u001b[32m  ✓ \u001b[39m\u001b[90mWoodburyMatrices\u001b[39m\n",
            "\u001b[32m  ✓ \u001b[39m\u001b[90mMacroTools\u001b[39m\n",
            "\u001b[32m  ✓ \u001b[39m\u001b[90mStringManipulation\u001b[39m\n",
            "\u001b[32m  ✓ \u001b[39m\u001b[90mManualMemory\u001b[39m\n",
            "\u001b[32m  ✓ \u001b[39m\u001b[90mPoissonRandom\u001b[39m\n",
            "\u001b[32m  ✓ \u001b[39m\u001b[90mCompat\u001b[39m\n",
            "\u001b[32m  ✓ \u001b[39m\u001b[90mOrderedCollections\u001b[39m\n",
            "\u001b[32m  ✓ \u001b[39m\u001b[90mDataValueInterfaces\u001b[39m\n",
            "\u001b[32m  ✓ \u001b[39m\u001b[90mRequires\u001b[39m\n",
            "\u001b[32m  ✓ \u001b[39m\u001b[90mEnumX\u001b[39m\n",
            "\u001b[32m  ✓ \u001b[39m\u001b[90mReexport\u001b[39m\n",
            "\u001b[32m  ✓ \u001b[39m\u001b[90mSIMDTypes\u001b[39m\n",
            "\u001b[32m  ✓ \u001b[39m\u001b[90mDocStringExtensions\u001b[39m\n",
            "\u001b[32m  ✓ \u001b[39m\u001b[90mKrylov\u001b[39m\n",
            "\u001b[32m  ✓ \u001b[39m\u001b[90mTreeViews\u001b[39m\n",
            "\u001b[32m  ✓ \u001b[39m\u001b[90mNaNMath\u001b[39m\n",
            "\u001b[32m  ✓ \u001b[39m\u001b[90mTranscodingStreams\u001b[39m\n",
            "\u001b[32m  ✓ \u001b[39m\u001b[90mIrrationalConstants\u001b[39m\n",
            "\u001b[32m  ✓ \u001b[39m\u001b[90mInvertedIndices\u001b[39m\n",
            "\u001b[32m  ✓ \u001b[39m\u001b[90mCpuId\u001b[39m\n",
            "\u001b[32m  ✓ \u001b[39m\u001b[90mInflate\u001b[39m\n",
            "\u001b[32m  ✓ \u001b[39m\u001b[90mIfElse\u001b[39m\n",
            "\u001b[32m  ✓ \u001b[39m\u001b[90mDataAPI\u001b[39m\n",
            "\u001b[32m  ✓ \u001b[39m\u001b[90mConstructionBase\u001b[39m\n",
            "\u001b[32m  ✓ \u001b[39m\u001b[90mPackageExtensionCompat\u001b[39m\n",
            "\u001b[32m  ✓ \u001b[39m\u001b[90mFastClosures\u001b[39m\n",
            "\u001b[32m  ✓ \u001b[39m\u001b[90mStaticArraysCore\u001b[39m\n",
            "\u001b[32m  ✓ \u001b[39m\u001b[90mFastLapackInterface\u001b[39m\n",
            "\u001b[32m  ✓ \u001b[39m\u001b[90mCrayons\u001b[39m\n",
            "\u001b[32m  ✓ \u001b[39m\u001b[90mPDMats\u001b[39m\n",
            "\u001b[32m  ✓ \u001b[39m\u001b[90mKLU\u001b[39m\n",
            "\u001b[32m  ✓ \u001b[39m\u001b[90mFillArrays\u001b[39m\n",
            "\u001b[32m  ✓ \u001b[39m\u001b[90mSnoopPrecompile\u001b[39m\n",
            "\u001b[32m  ✓ \u001b[39m\u001b[90mRmath_jll\u001b[39m\n",
            "\u001b[32m  ✓ \u001b[39m\u001b[90mSundials_jll\u001b[39m\n",
            "\u001b[32m  ✓ \u001b[39m\u001b[90mOpenSpecFun_jll\u001b[39m\n",
            "\u001b[32m  ✓ \u001b[39m\u001b[90mRecipesBase\u001b[39m\n",
            "\u001b[32m  ✓ \u001b[39m\u001b[90mFixedPointNumbers\u001b[39m\n",
            "\u001b[32m  ✓ \u001b[39m\u001b[90mFunctionWrappersWrappers\u001b[39m\n",
            "\u001b[32m  ✓ \u001b[39m\u001b[90mTableTraits\u001b[39m\n",
            "\u001b[32m  ✓ \u001b[39m\u001b[90mRuntimeGeneratedFunctions\u001b[39m\n",
            "\u001b[32m  ✓ \u001b[39m\u001b[90mInlineStrings\u001b[39m\n",
            "\u001b[32m  ✓ \u001b[39m\u001b[90mAxisAlgorithms\u001b[39m\n",
            "\u001b[32m  ✓ \u001b[39m\u001b[90mDistances\u001b[39m\n",
            "\u001b[32m  ✓ \u001b[39m\u001b[90mCommonSubexpressions\u001b[39m\n",
            "\u001b[32m  ✓ \u001b[39m\u001b[90mTruncatedStacktraces\u001b[39m\n",
            "\u001b[32m  ✓ \u001b[39m\u001b[90mSimpleTraits\u001b[39m\n",
            "\u001b[32m  ✓ \u001b[39m\u001b[90mThreadingUtilities\u001b[39m\n",
            "\u001b[32m  ✓ \u001b[39m\u001b[90mLazy\u001b[39m\n",
            "\u001b[32m  ✓ \u001b[39m\u001b[90mCompat → CompatLinearAlgebraExt\u001b[39m\n",
            "\u001b[32m  ✓ \u001b[39m\u001b[90mFilePathsBase\u001b[39m\n",
            "\u001b[32m  ✓ \u001b[39m\u001b[90mParameters\u001b[39m\n",
            "\u001b[32m  ✓ \u001b[39m\u001b[90mChainRulesCore\u001b[39m\n",
            "\u001b[32m  ✓ \u001b[39m\u001b[90mRatios\u001b[39m\n",
            "\u001b[32m  ✓ \u001b[39m\u001b[90mRandomNumbers\u001b[39m\n",
            "\u001b[32m  ✓ \u001b[39m\u001b[90mAdapt\u001b[39m\n",
            "\u001b[32m  ✓ \u001b[39m\u001b[90mCodecZlib\u001b[39m\n",
            "\u001b[32m  ✓ \u001b[39m\u001b[90mSymbolicIndexingInterface\u001b[39m\n",
            "\u001b[32m  ✓ \u001b[39m\u001b[90mLogExpFunctions\u001b[39m\n",
            "\u001b[32m  ✓ \u001b[39m\u001b[90mStatic\u001b[39m\n",
            "\u001b[32m  ✓ \u001b[39m\u001b[90mPooledArrays\u001b[39m\n",
            "\u001b[32m  ✓ \u001b[39m\u001b[90mMissings\u001b[39m\n",
            "\u001b[32m  ✓ \u001b[39m\u001b[90mDiffResults\u001b[39m\n",
            "\u001b[32m  ✓ \u001b[39m\u001b[90mStaticArrays\u001b[39m\n",
            "\u001b[32m  ✓ \u001b[39m\u001b[90mArrayInterfaceCore\u001b[39m\n",
            "\u001b[32m  ✓ \u001b[39m\u001b[90mRmath\u001b[39m\n",
            "\u001b[32m  ✓ \u001b[39m\u001b[90mArrayLayouts\u001b[39m\n",
            "\u001b[32m  ✓ \u001b[39m\u001b[90mPyCall\u001b[39m\n",
            "\u001b[32m  ✓ \u001b[39m\u001b[90mTables\u001b[39m\n",
            "\u001b[32m  ✓ \u001b[39m\u001b[90mColorTypes\u001b[39m\n",
            "\u001b[32m  ✓ \u001b[39m\u001b[90mDistances → DistancesSparseArraysExt\u001b[39m\n",
            "\u001b[32m  ✓ \u001b[39m\u001b[90mWeakRefStrings\u001b[39m\n",
            "\u001b[32m  ✓ \u001b[39m\u001b[90mRatios → RatiosFixedPointNumbersExt\u001b[39m\n",
            "\u001b[32m  ✓ \u001b[39m\u001b[90mZygoteRules\u001b[39m\n",
            "\u001b[32m  ✓ \u001b[39m\u001b[90mRandom123\u001b[39m\n",
            "\u001b[32m  ✓ \u001b[39m\u001b[90mBitTwiddlingConvenienceFunctions\u001b[39m\n",
            "\u001b[32m  ✓ \u001b[39m\u001b[90mDataStructures\u001b[39m\n",
            "\u001b[32m  ✓ \u001b[39m\u001b[90mLogExpFunctions → LogExpFunctionsChainRulesCoreExt\u001b[39m\n",
            "\u001b[32m  ✓ \u001b[39m\u001b[90mResettableStacks\u001b[39m\n",
            "\u001b[32m  ✓ \u001b[39m\u001b[90mCPUSummary\u001b[39m\n",
            "\u001b[32m  ✓ \u001b[39m\u001b[90mArnoldiMethod\u001b[39m\n",
            "\u001b[32m  ✓ \u001b[39m\u001b[90mStaticArrays → StaticArraysStatisticsExt\u001b[39m\n",
            "\u001b[32m  ✓ \u001b[39m\u001b[90mConstructionBase → ConstructionBaseStaticArraysExt\u001b[39m\n",
            "\u001b[32m  ✓ \u001b[39m\u001b[90mAdapt → AdaptStaticArraysExt\u001b[39m\n",
            "\u001b[32m  ✓ \u001b[39m\u001b[90mColors\u001b[39m\n",
            "\u001b[32m  ✓ \u001b[39m\u001b[90mPrettyTables\u001b[39m\n",
            "\u001b[32m  ✓ \u001b[39m\u001b[90mHostCPUFeatures\u001b[39m\n",
            "\u001b[32m  ✓ \u001b[39m\u001b[90mSortingAlgorithms\u001b[39m\n",
            "\u001b[32m  ✓ \u001b[39m\u001b[90mQuadGK\u001b[39m\n",
            "\u001b[32m  ✓ \u001b[39mSpecialFunctions\n",
            "\u001b[32m  ✓ \u001b[39m\u001b[90mPolyesterWeave\u001b[39m\n",
            "\u001b[32m  ✓ \u001b[39m\u001b[90mBandedMatrices\u001b[39m\n",
            "\u001b[32m  ✓ \u001b[39m\u001b[90mSetfield\u001b[39m\n",
            "\u001b[32m  ✓ \u001b[39m\u001b[90mOffsetArrays\u001b[39m\n",
            "\u001b[32m  ✓ \u001b[39m\u001b[90mGPUArraysCore\u001b[39m\n",
            "\u001b[32m  ✓ \u001b[39m\u001b[90mGraphs\u001b[39m\n",
            "\u001b[32m  ✓ \u001b[39m\u001b[90mArrayInterface\u001b[39m\n",
            "\u001b[32m  ✓ \u001b[39m\u001b[90mStatsBase\u001b[39m\n",
            "\u001b[32m  ✓ \u001b[39mPyPlot\n",
            "\u001b[32m  ✓ \u001b[39mCSV\n",
            "\u001b[32m  ✓ \u001b[39m\u001b[90mSpecialFunctions → SpecialFunctionsChainRulesCoreExt\u001b[39m\n",
            "\u001b[32m  ✓ \u001b[39m\u001b[90mLevyArea\u001b[39m\n",
            "\u001b[32m  ✓ \u001b[39m\u001b[90mDiffRules\u001b[39m\n",
            "\u001b[32m  ✓ \u001b[39m\u001b[90mDualNumbers\u001b[39m\n",
            "\u001b[32m  ✓ \u001b[39m\u001b[90mSparspak\u001b[39m\n",
            "\u001b[32m  ✓ \u001b[39m\u001b[90mBandedMatrices → BandedMatricesSparseArraysExt\u001b[39m\n",
            "\u001b[32m  ✓ \u001b[39mInterpolations\n",
            "\u001b[32m  ✓ \u001b[39m\u001b[90mVertexSafeGraphs\u001b[39m\n",
            "\u001b[32m  ✓ \u001b[39m\u001b[90mArrayInterface → ArrayInterfaceGPUArraysCoreExt\u001b[39m\n",
            "\u001b[32m  ✓ \u001b[39m\u001b[90mArrayInterface → ArrayInterfaceStaticArraysCoreExt\u001b[39m\n",
            "\u001b[32m  ✓ \u001b[39m\u001b[90mArrayInterface → ArrayInterfaceBandedMatricesExt\u001b[39m\n",
            "\u001b[32m  ✓ \u001b[39m\u001b[90mForwardDiff\u001b[39m\n",
            "\u001b[32m  ✓ \u001b[39m\u001b[90mHypergeometricFunctions\u001b[39m\n",
            "\u001b[32m  ✓ \u001b[39m\u001b[90mStaticArrayInterface\u001b[39m\n",
            "\u001b[32m  ✓ \u001b[39m\u001b[90mFiniteDiff\u001b[39m\n",
            "\u001b[32m  ✓ \u001b[39m\u001b[90mSciMLOperators\u001b[39m\n",
            "\u001b[32m  ✓ \u001b[39m\u001b[90mRecursiveArrayTools\u001b[39m\n",
            "\u001b[32m  ✓ \u001b[39m\u001b[90mForwardDiff → ForwardDiffStaticArraysExt\u001b[39m\n",
            "\u001b[32m  ✓ \u001b[39m\u001b[90mStatsFuns\u001b[39m\n",
            "\u001b[32m  ✓ \u001b[39m\u001b[90mStaticArrayInterface → StaticArrayInterfaceStaticArraysExt\u001b[39m\n",
            "\u001b[32m  ✓ \u001b[39m\u001b[90mStaticArrayInterface → StaticArrayInterfaceOffsetArraysExt\u001b[39m\n",
            "\u001b[32m  ✓ \u001b[39m\u001b[90mCloseOpenIntervals\u001b[39m\n",
            "\u001b[32m  ✓ \u001b[39m\u001b[90mLayoutPointers\u001b[39m\n",
            "\u001b[32m  ✓ \u001b[39m\u001b[90mFiniteDiff → FiniteDiffBandedMatricesExt\u001b[39m\n",
            "\u001b[32m  ✓ \u001b[39m\u001b[90mFiniteDiff → FiniteDiffStaticArraysExt\u001b[39m\n",
            "\u001b[32m  ✓ \u001b[39m\u001b[90mSparseDiffTools\u001b[39m\n",
            "\u001b[32m  ✓ \u001b[39m\u001b[90mSciMLBase\u001b[39m\n",
            "\u001b[32m  ✓ \u001b[39m\u001b[90mPreallocationTools\u001b[39m\n",
            "\u001b[32m  ✓ \u001b[39m\u001b[90mNLSolversBase\u001b[39m\n",
            "\u001b[32m  ✓ \u001b[39m\u001b[90mStatsFuns → StatsFunsChainRulesCoreExt\u001b[39m\n",
            "\u001b[32m  ✓ \u001b[39m\u001b[90mExponentialUtilities\u001b[39m\n",
            "\u001b[32m  ✓ \u001b[39m\u001b[90mStrideArraysCore\u001b[39m\n",
            "\u001b[32m  ✓ \u001b[39m\u001b[90mDistributions\u001b[39m\n",
            "\u001b[32m  ✓ \u001b[39m\u001b[90mLineSearches\u001b[39m\n",
            "\u001b[32m  ✓ \u001b[39m\u001b[90mPolyester\u001b[39m\n",
            "\u001b[32m  ✓ \u001b[39m\u001b[90mDistributions → DistributionsChainRulesCoreExt\u001b[39m\n",
            "\u001b[32m  ✓ \u001b[39m\u001b[90mOptim\u001b[39m\n",
            "\u001b[32m  ✓ \u001b[39m\u001b[90mNLsolve\u001b[39m\n",
            "\u001b[32m  ✓ \u001b[39m\u001b[90mFastBroadcast\u001b[39m\n",
            "\u001b[32m  ✓ \u001b[39m\u001b[90mVectorizationBase\u001b[39m\n",
            "\u001b[32m  ✓ \u001b[39m\u001b[90mSLEEFPirates\u001b[39m\n",
            "\u001b[32m  ✓ \u001b[39m\u001b[90mDiffEqBase\u001b[39m\n",
            "\u001b[32m  ✓ \u001b[39m\u001b[90mDiffEqBase → DiffEqBaseDistributionsExt\u001b[39m\n",
            "\u001b[32m  ✓ \u001b[39mDataFrames\n",
            "\u001b[32m  ✓ \u001b[39m\u001b[90mJumpProcesses\u001b[39m\n",
            "\u001b[32m  ✓ \u001b[39m\u001b[90mSundials\u001b[39m\n",
            "\u001b[32m  ✓ \u001b[39m\u001b[90mSimpleNonlinearSolve\u001b[39m\n",
            "\u001b[32m  ✓ \u001b[39m\u001b[90mDiffEqNoiseProcess\u001b[39m\n",
            "\u001b[32m  ✓ \u001b[39m\u001b[90mDiffEqCallbacks\u001b[39m\n",
            "\u001b[32m  ✓ \u001b[39m\u001b[90mSciMLNLSolve\u001b[39m\n",
            "\u001b[32m  ✓ \u001b[39m\u001b[90mSteadyStateDiffEq\u001b[39m\n",
            "\u001b[32m  ✓ \u001b[39m\u001b[90mLoopVectorization\u001b[39m\n",
            "\u001b[32m  ✓ \u001b[39m\u001b[90mLoopVectorization → SpecialFunctionsExt\u001b[39m\n",
            "\u001b[32m  ✓ \u001b[39m\u001b[90mLoopVectorization → ForwardDiffExt\u001b[39m\n",
            "\u001b[32m  ✓ \u001b[39m\u001b[90mTriangularSolve\u001b[39m\n",
            "\u001b[32m  ✓ \u001b[39m\u001b[90mRecursiveFactorization\u001b[39m\n",
            "\u001b[32m  ✓ \u001b[39m\u001b[90mLinearSolve\u001b[39m\n",
            "\u001b[32m  ✓ \u001b[39m\u001b[90mNonlinearSolve\u001b[39m\n",
            "\u001b[32m  ✓ \u001b[39m\u001b[90mBoundaryValueDiffEq\u001b[39m\n",
            "\u001b[32m  ✓ \u001b[39m\u001b[90mOrdinaryDiffEq\u001b[39m\n",
            "\u001b[32m  ✓ \u001b[39m\u001b[90mDelayDiffEq\u001b[39m\n",
            "\u001b[32m  ✓ \u001b[39m\u001b[90mStochasticDiffEq\u001b[39m\n",
            "\u001b[32m  ✓ \u001b[39mDifferentialEquations\n",
            "  180 dependencies successfully precompiled in 572 seconds. 22 already precompiled.\n"
          ]
        }
      ],
      "source": [
        "Pkg.add([\"CSV\",\"LaTeXStrings\",\"Interpolations\",\"PyPlot\",\"DataFrames\",\"LinearAlgebra\",\"SpecialFunctions\",\"DifferentialEquations\"]);"
      ],
      "id": "ff920b77"
    },
    {
      "cell_type": "code",
      "execution_count": null,
      "metadata": {
        "id": "fc5cb98e"
      },
      "outputs": [],
      "source": [],
      "id": "fc5cb98e"
    },
    {
      "cell_type": "code",
      "execution_count": null,
      "metadata": {
        "id": "JDccjBjkVP-J"
      },
      "outputs": [],
      "source": [
        "using CSV\n",
        "using DataFrames"
      ],
      "id": "JDccjBjkVP-J"
    },
    {
      "cell_type": "code",
      "execution_count": null,
      "metadata": {
        "colab": {
          "base_uri": "https://localhost:8080/",
          "height": 657
        },
        "id": "303762cc",
        "outputId": "6bc1553f-33da-48de-d51c-fab412b563aa"
      },
      "outputs": [
        {
          "output_type": "execute_result",
          "data": {
            "text/plain": [
              "\u001b[1m1001×9 DataFrame\u001b[0m\n",
              "\u001b[1m  Row \u001b[0m│\u001b[1m t (s)      \u001b[0m\u001b[1m T_gam (MeV) \u001b[0m\u001b[1m T_gam/T_nu \u001b[0m\u001b[1m g*       \u001b[0m\u001b[1m gs       \u001b[0m\u001b[1m a           \u001b[0m\u001b[1m \u001b[0m ⋯\n",
              "      │\u001b[90m Float64    \u001b[0m\u001b[90m Float64     \u001b[0m\u001b[90m Float64    \u001b[0m\u001b[90m Float64  \u001b[0m\u001b[90m Float64  \u001b[0m\u001b[90m Float64     \u001b[0m\u001b[90m \u001b[0m ⋯\n",
              "──────┼─────────────────────────────────────────────────────────────────────────\n",
              "    1 │ 0.00738669  10.0            1.0      10.7361   10.7358     0.0511012   ⋯\n",
              "    2 │ 0.00752402   9.90832        1.0      10.7361   10.7358     0.0515741\n",
              "    3 │ 0.00766391   9.81748        1.0      10.7361   10.7358     0.0520513\n",
              "    4 │ 0.0078064    9.72747        1.0      10.7361   10.7357     0.052533\n",
              "    5 │ 0.00795154   9.63829        1.0      10.7361   10.7357     0.0530191   ⋯\n",
              "    6 │ 0.00809938   9.54993        1.0      10.7361   10.7357     0.0535097\n",
              "    7 │ 0.00824996   9.46237        1.0      10.736    10.7357     0.0540049\n",
              "    8 │ 0.00840335   9.37562        1.0      10.736    10.7357     0.0545046\n",
              "    9 │ 0.00855959   9.28966        1.0      10.736    10.7356     0.055009    ⋯\n",
              "   10 │ 0.00871873   9.2045         1.0      10.736    10.7356     0.055518\n",
              "   11 │ 0.00888084   9.12011        1.0      10.736    10.7356     0.0560317\n",
              "  ⋮   │     ⋮            ⋮           ⋮          ⋮         ⋮           ⋮        ⋱\n",
              "  992 │ 1.11482e6    0.00108643     1.39578   3.38321   3.93066  657.494\n",
              "  993 │ 1.13555e6    0.00107647     1.39578   3.38321   3.93066  663.578       ⋯\n",
              "  994 │ 1.15666e6    0.0010666      1.39578   3.38321   3.93066  669.718\n",
              "  995 │ 1.17816e6    0.00105682     1.39578   3.38321   3.93066  675.915\n",
              "  996 │ 1.20007e6    0.00104713     1.39578   3.38321   3.93066  682.169\n",
              "  997 │ 1.22238e6    0.00103753     1.39578   3.38321   3.93066  688.481       ⋯\n",
              "  998 │ 1.2451e6     0.00102802     1.39578   3.38321   3.93066  694.851\n",
              "  999 │ 1.26825e6    0.00101859     1.39578   3.38321   3.93066  701.281\n",
              " 1000 │ 1.29183e6    0.00100925     1.39578   3.38321   3.93066  707.77\n",
              " 1001 │ 1.31585e6    0.001          1.39578   3.38321   3.93066  714.319       ⋯\n",
              "\u001b[36m                                                  3 columns and 980 rows omitted\u001b[0m"
            ],
            "text/html": [
              "<div><div style = \"float: left;\"><span>1001×9 DataFrame</span></div><div style = \"float: right;\"><span style = \"font-style: italic;\">976 rows omitted</span></div><div style = \"clear: both;\"></div></div><div class = \"data-frame\" style = \"overflow-x: scroll;\"><table class = \"data-frame\" style = \"margin-bottom: 6px;\"><thead><tr class = \"header\"><th class = \"rowNumber\" style = \"font-weight: bold; text-align: right;\">Row</th><th style = \"text-align: left;\">t (s)</th><th style = \"text-align: left;\">T_gam (MeV)</th><th style = \"text-align: left;\">T_gam/T_nu</th><th style = \"text-align: left;\">g*</th><th style = \"text-align: left;\">gs</th><th style = \"text-align: left;\">a</th><th style = \"text-align: left;\">z_gam</th><th style = \"text-align: left;\">z_nu</th><th style = \"text-align: left;\">N</th></tr><tr class = \"subheader headerLastRow\"><th class = \"rowNumber\" style = \"font-weight: bold; text-align: right;\"></th><th title = \"Float64\" style = \"text-align: left;\">Float64</th><th title = \"Float64\" style = \"text-align: left;\">Float64</th><th title = \"Float64\" style = \"text-align: left;\">Float64</th><th title = \"Float64\" style = \"text-align: left;\">Float64</th><th title = \"Float64\" style = \"text-align: left;\">Float64</th><th title = \"Float64\" style = \"text-align: left;\">Float64</th><th title = \"Float64\" style = \"text-align: left;\">Float64</th><th title = \"Float64\" style = \"text-align: left;\">Float64</th><th title = \"Float64\" style = \"text-align: left;\">Float64</th></tr></thead><tbody><tr><td class = \"rowNumber\" style = \"font-weight: bold; text-align: right;\">1</td><td style = \"text-align: right;\">0.00738669</td><td style = \"text-align: right;\">10.0</td><td style = \"text-align: right;\">1.0</td><td style = \"text-align: right;\">10.7361</td><td style = \"text-align: right;\">10.7358</td><td style = \"text-align: right;\">0.0511012</td><td style = \"text-align: right;\">1.00002</td><td style = \"text-align: right;\">1.00002</td><td style = \"text-align: right;\">0.000406589</td></tr><tr><td class = \"rowNumber\" style = \"font-weight: bold; text-align: right;\">2</td><td style = \"text-align: right;\">0.00752402</td><td style = \"text-align: right;\">9.90832</td><td style = \"text-align: right;\">1.0</td><td style = \"text-align: right;\">10.7361</td><td style = \"text-align: right;\">10.7358</td><td style = \"text-align: right;\">0.0515741</td><td style = \"text-align: right;\">1.00002</td><td style = \"text-align: right;\">1.00002</td><td style = \"text-align: right;\">0.00041399</td></tr><tr><td class = \"rowNumber\" style = \"font-weight: bold; text-align: right;\">3</td><td style = \"text-align: right;\">0.00766391</td><td style = \"text-align: right;\">9.81748</td><td style = \"text-align: right;\">1.0</td><td style = \"text-align: right;\">10.7361</td><td style = \"text-align: right;\">10.7358</td><td style = \"text-align: right;\">0.0520513</td><td style = \"text-align: right;\">1.00003</td><td style = \"text-align: right;\">1.00002</td><td style = \"text-align: right;\">0.000421497</td></tr><tr><td class = \"rowNumber\" style = \"font-weight: bold; text-align: right;\">4</td><td style = \"text-align: right;\">0.0078064</td><td style = \"text-align: right;\">9.72747</td><td style = \"text-align: right;\">1.0</td><td style = \"text-align: right;\">10.7361</td><td style = \"text-align: right;\">10.7357</td><td style = \"text-align: right;\">0.052533</td><td style = \"text-align: right;\">1.00003</td><td style = \"text-align: right;\">1.00003</td><td style = \"text-align: right;\">0.000429132</td></tr><tr><td class = \"rowNumber\" style = \"font-weight: bold; text-align: right;\">5</td><td style = \"text-align: right;\">0.00795154</td><td style = \"text-align: right;\">9.63829</td><td style = \"text-align: right;\">1.0</td><td style = \"text-align: right;\">10.7361</td><td style = \"text-align: right;\">10.7357</td><td style = \"text-align: right;\">0.0530191</td><td style = \"text-align: right;\">1.00003</td><td style = \"text-align: right;\">1.00003</td><td style = \"text-align: right;\">0.000436923</td></tr><tr><td class = \"rowNumber\" style = \"font-weight: bold; text-align: right;\">6</td><td style = \"text-align: right;\">0.00809938</td><td style = \"text-align: right;\">9.54993</td><td style = \"text-align: right;\">1.0</td><td style = \"text-align: right;\">10.7361</td><td style = \"text-align: right;\">10.7357</td><td style = \"text-align: right;\">0.0535097</td><td style = \"text-align: right;\">1.00003</td><td style = \"text-align: right;\">1.00003</td><td style = \"text-align: right;\">0.000444844</td></tr><tr><td class = \"rowNumber\" style = \"font-weight: bold; text-align: right;\">7</td><td style = \"text-align: right;\">0.00824996</td><td style = \"text-align: right;\">9.46237</td><td style = \"text-align: right;\">1.0</td><td style = \"text-align: right;\">10.736</td><td style = \"text-align: right;\">10.7357</td><td style = \"text-align: right;\">0.0540049</td><td style = \"text-align: right;\">1.00003</td><td style = \"text-align: right;\">1.00003</td><td style = \"text-align: right;\">0.000452896</td></tr><tr><td class = \"rowNumber\" style = \"font-weight: bold; text-align: right;\">8</td><td style = \"text-align: right;\">0.00840335</td><td style = \"text-align: right;\">9.37562</td><td style = \"text-align: right;\">1.0</td><td style = \"text-align: right;\">10.736</td><td style = \"text-align: right;\">10.7357</td><td style = \"text-align: right;\">0.0545046</td><td style = \"text-align: right;\">1.00003</td><td style = \"text-align: right;\">1.00003</td><td style = \"text-align: right;\">0.000461082</td></tr><tr><td class = \"rowNumber\" style = \"font-weight: bold; text-align: right;\">9</td><td style = \"text-align: right;\">0.00855959</td><td style = \"text-align: right;\">9.28966</td><td style = \"text-align: right;\">1.0</td><td style = \"text-align: right;\">10.736</td><td style = \"text-align: right;\">10.7356</td><td style = \"text-align: right;\">0.055009</td><td style = \"text-align: right;\">1.00003</td><td style = \"text-align: right;\">1.00003</td><td style = \"text-align: right;\">0.000469412</td></tr><tr><td class = \"rowNumber\" style = \"font-weight: bold; text-align: right;\">10</td><td style = \"text-align: right;\">0.00871873</td><td style = \"text-align: right;\">9.2045</td><td style = \"text-align: right;\">1.0</td><td style = \"text-align: right;\">10.736</td><td style = \"text-align: right;\">10.7356</td><td style = \"text-align: right;\">0.055518</td><td style = \"text-align: right;\">1.00003</td><td style = \"text-align: right;\">1.00003</td><td style = \"text-align: right;\">0.000477887</td></tr><tr><td class = \"rowNumber\" style = \"font-weight: bold; text-align: right;\">11</td><td style = \"text-align: right;\">0.00888084</td><td style = \"text-align: right;\">9.12011</td><td style = \"text-align: right;\">1.0</td><td style = \"text-align: right;\">10.736</td><td style = \"text-align: right;\">10.7356</td><td style = \"text-align: right;\">0.0560317</td><td style = \"text-align: right;\">1.00003</td><td style = \"text-align: right;\">1.00003</td><td style = \"text-align: right;\">0.000486511</td></tr><tr><td class = \"rowNumber\" style = \"font-weight: bold; text-align: right;\">12</td><td style = \"text-align: right;\">0.00904595</td><td style = \"text-align: right;\">9.03649</td><td style = \"text-align: right;\">1.0</td><td style = \"text-align: right;\">10.736</td><td style = \"text-align: right;\">10.7356</td><td style = \"text-align: right;\">0.0565502</td><td style = \"text-align: right;\">1.00003</td><td style = \"text-align: right;\">1.00003</td><td style = \"text-align: right;\">0.000495286</td></tr><tr><td class = \"rowNumber\" style = \"font-weight: bold; text-align: right;\">13</td><td style = \"text-align: right;\">0.00921414</td><td style = \"text-align: right;\">8.95365</td><td style = \"text-align: right;\">1.0</td><td style = \"text-align: right;\">10.736</td><td style = \"text-align: right;\">10.7356</td><td style = \"text-align: right;\">0.0570735</td><td style = \"text-align: right;\">1.00003</td><td style = \"text-align: right;\">1.00003</td><td style = \"text-align: right;\">0.000504197</td></tr><tr><td style = \"text-align: right;\">&vellip;</td><td style = \"text-align: right;\">&vellip;</td><td style = \"text-align: right;\">&vellip;</td><td style = \"text-align: right;\">&vellip;</td><td style = \"text-align: right;\">&vellip;</td><td style = \"text-align: right;\">&vellip;</td><td style = \"text-align: right;\">&vellip;</td><td style = \"text-align: right;\">&vellip;</td><td style = \"text-align: right;\">&vellip;</td><td style = \"text-align: right;\">&vellip;</td></tr><tr><td class = \"rowNumber\" style = \"font-weight: bold; text-align: right;\">990</td><td style = \"text-align: right;\">1.0745e6</td><td style = \"text-align: right;\">0.00110662</td><td style = \"text-align: right;\">1.39578</td><td style = \"text-align: right;\">3.38321</td><td style = \"text-align: right;\">3.93066</td><td style = \"text-align: right;\">645.494</td><td style = \"text-align: right;\">1.39788</td><td style = \"text-align: right;\">1.0015</td><td style = \"text-align: right;\">0.0</td></tr><tr><td class = \"rowNumber\" style = \"font-weight: bold; text-align: right;\">991</td><td style = \"text-align: right;\">1.09447e6</td><td style = \"text-align: right;\">0.00109648</td><td style = \"text-align: right;\">1.39578</td><td style = \"text-align: right;\">3.38321</td><td style = \"text-align: right;\">3.93066</td><td style = \"text-align: right;\">651.466</td><td style = \"text-align: right;\">1.39788</td><td style = \"text-align: right;\">1.0015</td><td style = \"text-align: right;\">0.0</td></tr><tr><td class = \"rowNumber\" style = \"font-weight: bold; text-align: right;\">992</td><td style = \"text-align: right;\">1.11482e6</td><td style = \"text-align: right;\">0.00108643</td><td style = \"text-align: right;\">1.39578</td><td style = \"text-align: right;\">3.38321</td><td style = \"text-align: right;\">3.93066</td><td style = \"text-align: right;\">657.494</td><td style = \"text-align: right;\">1.39788</td><td style = \"text-align: right;\">1.0015</td><td style = \"text-align: right;\">0.0</td></tr><tr><td class = \"rowNumber\" style = \"font-weight: bold; text-align: right;\">993</td><td style = \"text-align: right;\">1.13555e6</td><td style = \"text-align: right;\">0.00107647</td><td style = \"text-align: right;\">1.39578</td><td style = \"text-align: right;\">3.38321</td><td style = \"text-align: right;\">3.93066</td><td style = \"text-align: right;\">663.578</td><td style = \"text-align: right;\">1.39788</td><td style = \"text-align: right;\">1.0015</td><td style = \"text-align: right;\">0.0</td></tr><tr><td class = \"rowNumber\" style = \"font-weight: bold; text-align: right;\">994</td><td style = \"text-align: right;\">1.15666e6</td><td style = \"text-align: right;\">0.0010666</td><td style = \"text-align: right;\">1.39578</td><td style = \"text-align: right;\">3.38321</td><td style = \"text-align: right;\">3.93066</td><td style = \"text-align: right;\">669.718</td><td style = \"text-align: right;\">1.39788</td><td style = \"text-align: right;\">1.0015</td><td style = \"text-align: right;\">0.0</td></tr><tr><td class = \"rowNumber\" style = \"font-weight: bold; text-align: right;\">995</td><td style = \"text-align: right;\">1.17816e6</td><td style = \"text-align: right;\">0.00105682</td><td style = \"text-align: right;\">1.39578</td><td style = \"text-align: right;\">3.38321</td><td style = \"text-align: right;\">3.93066</td><td style = \"text-align: right;\">675.915</td><td style = \"text-align: right;\">1.39788</td><td style = \"text-align: right;\">1.0015</td><td style = \"text-align: right;\">0.0</td></tr><tr><td class = \"rowNumber\" style = \"font-weight: bold; text-align: right;\">996</td><td style = \"text-align: right;\">1.20007e6</td><td style = \"text-align: right;\">0.00104713</td><td style = \"text-align: right;\">1.39578</td><td style = \"text-align: right;\">3.38321</td><td style = \"text-align: right;\">3.93066</td><td style = \"text-align: right;\">682.169</td><td style = \"text-align: right;\">1.39788</td><td style = \"text-align: right;\">1.0015</td><td style = \"text-align: right;\">0.0</td></tr><tr><td class = \"rowNumber\" style = \"font-weight: bold; text-align: right;\">997</td><td style = \"text-align: right;\">1.22238e6</td><td style = \"text-align: right;\">0.00103753</td><td style = \"text-align: right;\">1.39578</td><td style = \"text-align: right;\">3.38321</td><td style = \"text-align: right;\">3.93066</td><td style = \"text-align: right;\">688.481</td><td style = \"text-align: right;\">1.39788</td><td style = \"text-align: right;\">1.0015</td><td style = \"text-align: right;\">0.0</td></tr><tr><td class = \"rowNumber\" style = \"font-weight: bold; text-align: right;\">998</td><td style = \"text-align: right;\">1.2451e6</td><td style = \"text-align: right;\">0.00102802</td><td style = \"text-align: right;\">1.39578</td><td style = \"text-align: right;\">3.38321</td><td style = \"text-align: right;\">3.93066</td><td style = \"text-align: right;\">694.851</td><td style = \"text-align: right;\">1.39788</td><td style = \"text-align: right;\">1.0015</td><td style = \"text-align: right;\">0.0</td></tr><tr><td class = \"rowNumber\" style = \"font-weight: bold; text-align: right;\">999</td><td style = \"text-align: right;\">1.26825e6</td><td style = \"text-align: right;\">0.00101859</td><td style = \"text-align: right;\">1.39578</td><td style = \"text-align: right;\">3.38321</td><td style = \"text-align: right;\">3.93066</td><td style = \"text-align: right;\">701.281</td><td style = \"text-align: right;\">1.39788</td><td style = \"text-align: right;\">1.0015</td><td style = \"text-align: right;\">0.0</td></tr><tr><td class = \"rowNumber\" style = \"font-weight: bold; text-align: right;\">1000</td><td style = \"text-align: right;\">1.29183e6</td><td style = \"text-align: right;\">0.00100925</td><td style = \"text-align: right;\">1.39578</td><td style = \"text-align: right;\">3.38321</td><td style = \"text-align: right;\">3.93066</td><td style = \"text-align: right;\">707.77</td><td style = \"text-align: right;\">1.39788</td><td style = \"text-align: right;\">1.0015</td><td style = \"text-align: right;\">0.0</td></tr><tr><td class = \"rowNumber\" style = \"font-weight: bold; text-align: right;\">1001</td><td style = \"text-align: right;\">1.31585e6</td><td style = \"text-align: right;\">0.001</td><td style = \"text-align: right;\">1.39578</td><td style = \"text-align: right;\">3.38321</td><td style = \"text-align: right;\">3.93066</td><td style = \"text-align: right;\">714.319</td><td style = \"text-align: right;\">1.39788</td><td style = \"text-align: right;\">1.0015</td><td style = \"text-align: right;\">0.0</td></tr></tbody></table></div>"
            ],
            "text/latex": "\\begin{tabular}{r|ccccccccc}\n\t& t (s) & T\\_gam (MeV) & T\\_gam/T\\_nu & g* & gs & a & z\\_gam & z\\_nu & \\\\\n\t\\hline\n\t& Float64 & Float64 & Float64 & Float64 & Float64 & Float64 & Float64 & Float64 & \\\\\n\t\\hline\n\t1 & 0.00738669 & 10.0 & 1.0 & 10.7361 & 10.7358 & 0.0511012 & 1.00002 & 1.00002 & $\\dots$ \\\\\n\t2 & 0.00752402 & 9.90832 & 1.0 & 10.7361 & 10.7358 & 0.0515741 & 1.00002 & 1.00002 & $\\dots$ \\\\\n\t3 & 0.00766391 & 9.81748 & 1.0 & 10.7361 & 10.7358 & 0.0520513 & 1.00003 & 1.00002 & $\\dots$ \\\\\n\t4 & 0.0078064 & 9.72747 & 1.0 & 10.7361 & 10.7357 & 0.052533 & 1.00003 & 1.00003 & $\\dots$ \\\\\n\t5 & 0.00795154 & 9.63829 & 1.0 & 10.7361 & 10.7357 & 0.0530191 & 1.00003 & 1.00003 & $\\dots$ \\\\\n\t6 & 0.00809938 & 9.54993 & 1.0 & 10.7361 & 10.7357 & 0.0535097 & 1.00003 & 1.00003 & $\\dots$ \\\\\n\t7 & 0.00824996 & 9.46237 & 1.0 & 10.736 & 10.7357 & 0.0540049 & 1.00003 & 1.00003 & $\\dots$ \\\\\n\t8 & 0.00840335 & 9.37562 & 1.0 & 10.736 & 10.7357 & 0.0545046 & 1.00003 & 1.00003 & $\\dots$ \\\\\n\t9 & 0.00855959 & 9.28966 & 1.0 & 10.736 & 10.7356 & 0.055009 & 1.00003 & 1.00003 & $\\dots$ \\\\\n\t10 & 0.00871873 & 9.2045 & 1.0 & 10.736 & 10.7356 & 0.055518 & 1.00003 & 1.00003 & $\\dots$ \\\\\n\t11 & 0.00888084 & 9.12011 & 1.0 & 10.736 & 10.7356 & 0.0560317 & 1.00003 & 1.00003 & $\\dots$ \\\\\n\t12 & 0.00904595 & 9.03649 & 1.0 & 10.736 & 10.7356 & 0.0565502 & 1.00003 & 1.00003 & $\\dots$ \\\\\n\t13 & 0.00921414 & 8.95365 & 1.0 & 10.736 & 10.7356 & 0.0570735 & 1.00003 & 1.00003 & $\\dots$ \\\\\n\t14 & 0.00938545 & 8.87156 & 1.0 & 10.7359 & 10.7355 & 0.0576016 & 1.00003 & 1.00003 & $\\dots$ \\\\\n\t15 & 0.00955995 & 8.79023 & 1.0 & 10.7359 & 10.7355 & 0.0581347 & 1.00003 & 1.00003 & $\\dots$ \\\\\n\t16 & 0.00973769 & 8.70964 & 1.0 & 10.7359 & 10.7355 & 0.0586726 & 1.00003 & 1.00003 & $\\dots$ \\\\\n\t17 & 0.00991874 & 8.62979 & 1.0 & 10.7359 & 10.7355 & 0.0592156 & 1.00003 & 1.00003 & $\\dots$ \\\\\n\t18 & 0.0101032 & 8.55067 & 1.0 & 10.7359 & 10.7354 & 0.0597635 & 1.00004 & 1.00003 & $\\dots$ \\\\\n\t19 & 0.010291 & 8.47227 & 1.0 & 10.7359 & 10.7354 & 0.0603166 & 1.00004 & 1.00004 & $\\dots$ \\\\\n\t20 & 0.0104823 & 8.3946 & 1.0 & 10.7358 & 10.7354 & 0.0608747 & 1.00004 & 1.00004 & $\\dots$ \\\\\n\t21 & 0.0106772 & 8.31764 & 1.0 & 10.7358 & 10.7354 & 0.061438 & 1.00004 & 1.00004 & $\\dots$ \\\\\n\t22 & 0.0108758 & 8.24138 & 1.0 & 10.7358 & 10.7353 & 0.0620066 & 1.00004 & 1.00004 & $\\dots$ \\\\\n\t23 & 0.011078 & 8.16582 & 1.0 & 10.7358 & 10.7353 & 0.0625803 & 1.00004 & 1.00004 & $\\dots$ \\\\\n\t24 & 0.0112839 & 8.09096 & 1.0 & 10.7358 & 10.7353 & 0.0631594 & 1.00004 & 1.00004 & $\\dots$ \\\\\n\t25 & 0.0114937 & 8.01678 & 1.0 & 10.7357 & 10.7353 & 0.0637439 & 1.00004 & 1.00004 & $\\dots$ \\\\\n\t26 & 0.0117074 & 7.94328 & 1.0 & 10.7357 & 10.7352 & 0.0643338 & 1.00004 & 1.00004 & $\\dots$ \\\\\n\t27 & 0.0119251 & 7.87046 & 1.0 & 10.7357 & 10.7352 & 0.0649291 & 1.00004 & 1.00004 & $\\dots$ \\\\\n\t28 & 0.0121468 & 7.7983 & 1.0 & 10.7357 & 10.7352 & 0.06553 & 1.00004 & 1.00004 & $\\dots$ \\\\\n\t29 & 0.0123727 & 7.72681 & 1.0 & 10.7357 & 10.7351 & 0.0661364 & 1.00004 & 1.00004 & $\\dots$ \\\\\n\t30 & 0.0126027 & 7.65597 & 1.0 & 10.7356 & 10.7351 & 0.0667484 & 1.00005 & 1.00004 & $\\dots$ \\\\\n\t$\\dots$ & $\\dots$ & $\\dots$ & $\\dots$ & $\\dots$ & $\\dots$ & $\\dots$ & $\\dots$ & $\\dots$ &  \\\\\n\\end{tabular}\n"
          },
          "metadata": {},
          "execution_count": 5
        }
      ],
      "source": [
        "df=DataFrame(CSV.File(\"/content/SM_Thermo.csv\"))"
      ],
      "id": "303762cc"
    },
    {
      "cell_type": "code",
      "execution_count": null,
      "metadata": {
        "colab": {
          "base_uri": "https://localhost:8080/"
        },
        "id": "7e8a866a",
        "outputId": "1ffe42e0-9b12-41d6-97b9-8e4d25829138"
      },
      "outputs": [
        {
          "output_type": "execute_result",
          "data": {
            "text/plain": [
              "1001-element Vector{Float64}:\n",
              " 1.000024\n",
              " 1.0000245\n",
              " 1.0000251\n",
              " 1.0000257\n",
              " 1.0000263\n",
              " 1.0000269\n",
              " 1.0000275\n",
              " 1.0000282\n",
              " 1.0000288\n",
              " 1.0000295\n",
              " 1.0000301\n",
              " 1.0000308\n",
              " 1.0000315\n",
              " ⋮\n",
              " 1.3978836\n",
              " 1.3978836\n",
              " 1.3978836\n",
              " 1.3978836\n",
              " 1.3978836\n",
              " 1.3978836\n",
              " 1.3978836\n",
              " 1.3978836\n",
              " 1.3978836\n",
              " 1.3978836\n",
              " 1.3978836\n",
              " 1.3978836"
            ]
          },
          "metadata": {},
          "execution_count": 6
        }
      ],
      "source": [
        "df[!,\"z_gam\"]"
      ],
      "id": "7e8a866a"
    },
    {
      "cell_type": "code",
      "execution_count": null,
      "metadata": {
        "colab": {
          "base_uri": "https://localhost:8080/"
        },
        "id": "566c269b",
        "outputId": "78f79ed8-6932-4ca1-a48e-8ec17bc09a54"
      },
      "outputs": [
        {
          "output_type": "execute_result",
          "data": {
            "text/plain": [
              "1001-element Vector{Float64}:\n",
              " 10.736124\n",
              " 10.736112\n",
              " 10.736099\n",
              " 10.736086\n",
              " 10.736073\n",
              " 10.73606\n",
              " 10.736046\n",
              " 10.736032\n",
              " 10.736018\n",
              " 10.736004\n",
              " 10.735989\n",
              " 10.735974\n",
              " 10.735959\n",
              "  ⋮\n",
              "  3.3832064\n",
              "  3.3832064\n",
              "  3.3832064\n",
              "  3.3832064\n",
              "  3.3832064\n",
              "  3.3832064\n",
              "  3.3832064\n",
              "  3.3832064\n",
              "  3.3832064\n",
              "  3.3832064\n",
              "  3.3832064\n",
              "  3.3832064"
            ]
          },
          "metadata": {},
          "execution_count": 7
        }
      ],
      "source": [
        "z_gam=df[!,\"z_gam\"]\n",
        "z_nu=df[!,\"z_nu\"]\n",
        "gs=df[!,\"gs\"]\n",
        "g=df[!,\"g*\"]"
      ],
      "id": "566c269b"
    },
    {
      "cell_type": "code",
      "execution_count": null,
      "metadata": {
        "colab": {
          "base_uri": "https://localhost:8080/"
        },
        "id": "df147905",
        "outputId": "e3983241-adea-407f-efe0-412edefb5182"
      },
      "outputs": [
        {
          "output_type": "execute_result",
          "data": {
            "text/plain": [
              "0.511"
            ]
          },
          "metadata": {},
          "execution_count": 8
        }
      ],
      "source": [
        "z_g = (1.0 ./ z_gam) .* df[!,\"a\"]\n",
        "m_e=0.511"
      ],
      "id": "df147905"
    },
    {
      "cell_type": "code",
      "execution_count": null,
      "metadata": {
        "colab": {
          "base_uri": "https://localhost:8080/"
        },
        "id": "047c5e0b",
        "outputId": "c887e80c-b67c-47b7-b63e-e3762ca5c1dd"
      },
      "outputs": [
        {
          "output_type": "execute_result",
          "data": {
            "text/plain": [
              "1001-element Vector{Float64}:\n",
              "   0.051099997600057595\n",
              "   0.051572823465825084\n",
              "   0.052050020544484335\n",
              "   0.05253163293703352\n",
              "   0.053017701634447016\n",
              "   0.05350826862757392\n",
              "   0.05400337590716255\n",
              "   0.05450305901373581\n",
              "   0.05500737278766372\n",
              "   0.0555163472677556\n",
              "   0.05603003749587137\n",
              "   0.056548476306929746\n",
              "   0.05707171324103291\n",
              "   ⋮\n",
              " 461.7648922986149\n",
              " 466.03755133832317\n",
              " 470.34974156646524\n",
              " 474.7018349739564\n",
              " 479.09419639804065\n",
              " 483.52720498330484\n",
              " 488.0012255669929\n",
              " 492.5166444473632\n",
              " 497.07384792267396\n",
              " 501.6732151375122\n",
              " 506.31513954380756\n",
              " 511.0000145934898"
            ]
          },
          "metadata": {},
          "execution_count": 9
        }
      ],
      "source": [
        "z_g"
      ],
      "id": "047c5e0b"
    },
    {
      "cell_type": "code",
      "execution_count": null,
      "metadata": {
        "colab": {
          "base_uri": "https://localhost:8080/"
        },
        "id": "69fa8072",
        "outputId": "4c6845d7-4616-4b18-d5b2-684db21fdd04"
      },
      "outputs": [
        {
          "output_type": "execute_result",
          "data": {
            "text/plain": [
              "18.382282543341976"
            ]
          },
          "metadata": {},
          "execution_count": 10
        }
      ],
      "source": [
        "cons = 4.8 / m_e^2"
      ],
      "id": "69fa8072"
    },
    {
      "cell_type": "code",
      "execution_count": null,
      "metadata": {
        "colab": {
          "base_uri": "https://localhost:8080/"
        },
        "id": "5282306e",
        "outputId": "94fd3b5d-8d16-4c5d-ca0a-a05b4b608caf"
      },
      "outputs": [
        {
          "output_type": "execute_result",
          "data": {
            "text/plain": [
              "1001-element Vector{Float64}:\n",
              " -0.038068983327555775\n",
              " -0.03772026444406718\n",
              " -0.03945081209273655\n",
              " -0.04114644721506389\n",
              " -0.03873069380164378\n",
              " -0.0403952856759856\n",
              " -0.04202663592989013\n",
              " -0.03965784999975411\n",
              " -0.043224171076960666\n",
              " -0.040880668638613525\n",
              " -0.04243509461875831\n",
              " -0.04395714159245324\n",
              " -0.043554168154443455\n",
              "  ⋮\n",
              "  0.0\n",
              "  0.0\n",
              "  0.0\n",
              "  0.0\n",
              "  0.0\n",
              "  0.0\n",
              "  0.0\n",
              "  0.0\n",
              "  0.0\n",
              "  0.0\n",
              "  0.0\n",
              "  0.0"
            ]
          },
          "metadata": {},
          "execution_count": 11
        }
      ],
      "source": [
        "function gprime_s(df)\n",
        "    x = Float64[]  # Create an empty array to store the results\n",
        "    for i in 1:1000  # Julia uses 1-based indexing instead of 0-based\n",
        "        if z_g[i+1] != z_g[i]\n",
        "            push!(x, (gs[i+1] - gs[i]) / (z_g[i+1] - z_g[i]))\n",
        "        else\n",
        "            push!(x, x[i])\n",
        "        end\n",
        "    end\n",
        "\n",
        "    return x\n",
        "end\n",
        "\n",
        "gprime_list = gprime_s(df)\n",
        "push!(gprime_list, 0.0)\n"
      ],
      "id": "5282306e"
    },
    {
      "cell_type": "code",
      "execution_count": null,
      "metadata": {
        "colab": {
          "base_uri": "https://localhost:8080/"
        },
        "id": "b261d035",
        "outputId": "995ef4dc-646a-4f37-ac71-4d2363fc348d"
      },
      "outputs": [
        {
          "output_type": "execute_result",
          "data": {
            "text/plain": [
              "my_function (generic function with 1 method)"
            ]
          },
          "metadata": {},
          "execution_count": 12
        }
      ],
      "source": [
        "function my_function(cons, z_g, gprime_list, df)\n",
        "    z_g_val = -(z_g^2) * (1/3) * gprime_list ./ df[\"gs\"]\n",
        "    return cons * (z_g_val + z_g) / sqrt(df[\"g*\"])\n",
        "end\n"
      ],
      "id": "b261d035"
    },
    {
      "cell_type": "code",
      "execution_count": null,
      "metadata": {
        "colab": {
          "base_uri": "https://localhost:8080/"
        },
        "id": "84c88f5f",
        "outputId": "0a675e9c-fc13-4a25-87de-99dce8226c2b"
      },
      "outputs": [
        {
          "output_type": "stream",
          "name": "stdout",
          "text": [
            "[0.2866967619919819, 0.2893497154735869, 0.292028189988516, 0.2947314580625688, 0.2974577537767914, 0.3002112868992299, 0.30299032986034496, 0.30579301560983957, 0.30862477398610333, 0.31147958770680473, 0.3143629687778202, 0.3172730155610636, 0.3202089322153788, 0.323172029682415, 0.3261636517317593, 0.329181832749698, 0.3322290908960133, 0.3353034250412547, 0.3384073611970545, 0.34153887688996937, 0.3446993925859602, 0.3478914911201989, 0.3511096018567487, 0.35435990251382904, 0.3576402678927679, 0.3609510139372381, 0.36429119979359, 0.36766231205449357, 0.3710658386130017, 0.37450087998686343, 0.37796651094135475, 0.38146548407447756, 0.38499679739452214, 0.38855958282904113, 0.39215661910807836, 0.39578696815350517, 0.39944960569013876, 0.403147502599388, 0.4068796162995993, 0.41064633149881785, 0.4144465221497981, 0.41828328025063505, 0.42215555493325063, 0.4260637062425228, 0.43000660318401507, 0.4339874753540472, 0.4380066864766995, 0.44206013937006766, 0.44615263027333985, 0.4502830507247947, 0.4544516698036362, 0.45865891958599503, 0.46290357957432404, 0.46719071936482154, 0.47151594100809313, 0.47588125043902807, 0.4802869352176255, 0.48473347057066013, 0.48922283604049294, 0.4937505012560021, 0.4983217331678888, 0.5029370170390598, 0.5075933342745806, 0.5122928016267725, 0.5170375604467458, 0.5218245077129213, 0.5266558139426526, 0.5315319027917295, 0.5364549301308301, 0.5414235482915049, 0.5464345729819358, 0.5514975732088279, 0.5566019029807903, 0.5617591771854935, 0.5669604307601245, 0.5722098935043171, 0.5775119828294055, 0.5828591664969239, 0.5882559089024192, 0.5937067340069402, 0.5992040097084235, 0.6047563399183065, 0.6103560645459585, 0.6160096857718824, 0.621715806686057, 0.6274747809231753, 0.6332872155088355, 0.6391555637483811, 0.645074131464751, 0.6510518720185083, 0.6570850792867281, 0.6631698006543217, 0.6693154296270691, 0.6755158680918836, 0.6817760368831398, 0.6880942505996921, 0.6944688403573859, 0.7009047902301384, 0.7074006153008868, 0.7139542289546865, 0.7205711206045947, 0.727251795221355, 0.733989646617701, 0.7407948947385331, 0.7476583507236492, 0.7545905735169507, 0.7615872109705436, 0.768643576314503, 0.7757732828325714, 0.7829614095078837, 0.7902241866696271, 0.7975490317455585, 0.8049446448557265, 0.812409007764283, 0.8199426631121731, 0.8275463580695249, 0.835223456007407, 0.8429663919544212, 0.8507869159680468, 0.8586800681679595, 0.8666437750824669, 0.874684449188257, 0.8827998889961339, 0.8909878405583976, 0.899257914337118, 0.9076019604424888, 0.9160235928488651, 0.9245267719673383, 0.9331058401510465, 0.9417679789301607, 0.9505107515615262, 0.9593350417783291, 0.9682380309131026, 0.9772306777414633, 0.9863069078073872, 0.9954612478873163, 1.0047107670469577, 1.0140398826775137, 1.023459239465753, 1.03297003601926, 1.0425624426800282, 1.0522548897081008, 1.0620270568580539, 1.0719010991657107, 1.0818602002536337, 1.0919194821615068, 1.1020689393986385, 1.1123132959550084, 1.1226569195020788, 1.1330973143691003, 1.1436352639218326, 1.154271538685315, 1.165011281786744, 1.1758513153512953, 1.1867888571215226, 1.1978366750443015, 1.208979825936909, 1.2202395483624329, 1.231596501788322, 1.2430639395182055, 1.2546385719312243, 1.266326001893941, 1.2781230891096802, 1.2900264104466497, 1.3020500068930956, 1.314181955405759, 1.326432316851045, 1.3387975376457846, 1.3512836079331716, 1.363882180146326, 1.3766037630853682, 1.3894448370048345, 1.4024067695240172, 1.4154952321233873, 1.428706850461751, 1.4420478389605769, 1.4555092692758884, 1.4691025412171645, 1.4828239633270819, 1.4966795233071581, 1.5106659268663074, 1.5247842485229448, 1.5390407797952925, 1.5534320365077925, 1.567959226979082, 1.5826290936789504, 1.597442759653554, 1.6123858553245183, 1.627486706767426, 1.6427193979448582, 1.6581132922061026, 1.673641451956148, 1.689328266537975, 1.7051641271195195, 1.72114989323576, 1.7372932744887264, 1.7535902788388242, 1.7700421038887542, 1.7866619804200912, 1.803434309839243, 1.8203721491015044, 1.8374778845587367, 1.8547463474542487, 1.8721794861840881, 1.889785435079321, 1.9075656217691546, 1.9255096535540024, 1.9436377091114123, 1.9619460571229475, 1.9804165036436632, 1.9990837492170352, 2.0179300162486937, 2.0369571069013857, 2.0561736475404766, 2.0755746977715046, 2.095169382336947, 2.114959447162842, 2.13494020239816, 2.155120821331733, 2.175502718849398, 2.1960817901417484, 2.216859605003952, 2.2378604377182394, 2.259049137991924, 2.2804588698749995, 2.3020829632060242, 2.323917370338485, 2.3459713731803737, 2.3682474040165196, 2.390747930140658, 2.4134678472926265, 2.436417440347946, 2.4595901121160217, 2.4830058375089914, 2.5066587912208114, 2.530543219774491, 2.554670174813848, 2.579041644192216, 2.6036616967612747, 2.62853152529507, 2.653646602699043, 2.679017650547993, 2.704656915489188, 2.730548398972596, 2.756715252868059, 2.7831396951299694, 2.809836126005202, 2.8368064235301973, 2.8640537687126644, 2.8915912766004146, 2.9194035781401464, 2.947501560033283, 2.9758908280956837, 3.004583637928043, 3.033573363190402, 3.0628539954745593, 3.0924488551478797, 3.122351304045972, 3.152565605601971, 3.18309525815162, 3.213953569810891, 3.2451244461430933, 3.2766439064244697, 3.3084828980087533, 3.340655930811867, 3.373179344337206, 3.406045278269429, 3.4392585147691115, 3.4728347827541266, 3.5067772255322898, 3.541068819732182, 3.575724888447311, 3.610774523185241, 3.6461965105645326, 3.6819984171874203, 3.7181944313154607, 3.7547799220000897, 3.7917697454913766, 3.829146167558354, 3.866964837401985, 3.905176445729108, 3.9438310740442244, 3.9828902393653136, 4.022387401422831, 4.0623293742031805, 4.102719051668286, 4.143551500780765, 4.1848458121559124, 4.226608056455515, 4.268844835028074, 4.311545504655405, 4.3547346076584645, 4.39841643035501, 4.442598760334777, 4.487288779694157, 4.532493152015041, 4.578202134953668, 4.624439746537997, 4.671229081494254, 4.718560671881994, 4.766429261827766, 4.814854736856043, 4.863863910565121, 4.913447958135029, 4.963598547715623, 5.01435598482697, 5.065713763032601, 5.117682637889703, 5.170268624647978, 5.223495807886484, 5.277343198701709, 5.3318562591093475, 5.387001873153325, 5.442872310327703, 5.499357007440738, 5.556586321956302, 5.614492112254249, 5.673104146598704, 5.732452711432495, 5.792529008780736, 5.8533442859722005, 5.9149517213220415, 5.977283997298331, 6.040449485482946, 6.10436345974648, 6.169134572641811, 6.234680581438013, 6.301071785773028, 6.368325625041573, 6.436453874901481, 6.505429989957862, 6.575318771807594, 6.646102778058685, 6.71781209106127, 6.790459599278332, 6.8640533788869975, 6.938614838727503, 7.014176232550991, 7.090715310046207, 7.168290317542044, 7.246894257843739, 7.326551029117674, 7.407285222070032, 7.489090692298063, 7.57202279317489, 7.6560694717630025, 7.741264060044073, 7.8276312330379, 7.91517700768178, 8.003933772876156, 8.093909098649828, 8.185148619121243, 8.27764815783367, 8.371435509308759, 8.46654717157839, 8.562991135111552, 8.660799817141067, 8.75999283841642, 8.860598889132381, 8.962632123453194, 9.066136349348039, 9.171109467987408, 9.277608999629729, 9.38562879660088, 9.495240833583315, 9.606425029031024, 9.719235604903135, 9.833702719429967, 9.949839009858756, 10.067685086976157, 10.187283100600522, 10.308641303029049, 10.431792396692753, 10.5568061636366, 10.68364613537532, 10.812412662146125, 10.94308842712373, 11.075758350486161, 11.210420811358146, 11.347094287795704, 11.48586817295283, 11.626738016428387, 11.76975797490772, 11.914959988455989, 12.062378821181621, 12.21205767556303, 12.364023929123912, 12.51835573378215, 12.675046594524275, 12.834150099966545, 12.995737514171324, 13.15981669865517, 13.326437190219817, 13.495650858717019, 13.667490062801333, 13.842020588906676, 14.019267997075925, 14.199276594587644, 14.382108132722617, 14.567771217865003, 14.75638569645223, 14.947902930944696, 15.14248442328304, 15.340057714129959, 15.54076392030782, 15.744594198901899, 15.95161642916645, 16.16192489752789, 16.375484064286706, 16.59243333765688, 16.81272874580498, 17.036522721205973, 17.263797270625084, 17.494588659615236, 17.7290418860144, 17.967100210109383, 18.20890089683037, 18.454395603657918, 18.703763195114472, 18.956967446330918, 19.214097415761717, 19.475136731459845, 19.74025812871873, 20.00938200979297, 20.282634661591143, 20.56004741356197, 20.841704723157438, 21.127550316044275, 21.41775850690212, 21.712323122606197, 22.011247398854977, 22.314633478414308, 22.622492655927225, 22.93491889992614, 23.251876602126423, 23.573444985284358, 23.899719118966598, 24.230620755482118, 24.56624359016889, 24.90668535017199, 25.251866826108003, 25.601838675450804, 25.95674217126762, 26.31645317323319, 26.681084260129804, 27.050619042207238, 27.425094952578764, 27.80450513134507, 28.188911370959847, 28.578268412166413, 28.972648308976115, 29.371943700560834, 29.77627469225153, 30.1855252004478, 30.59981538731466, 31.01903231152275, 31.44321807106684, 31.8723534689964, 32.306329447437356, 32.745218251580084, 33.189024105318886, 33.637509428354335, 34.090944643497245, 34.54897188982579, 35.01177455374514, 35.479099357982655, 35.9511898436389, 36.42769817122742, 36.90855307230923, 37.39398284722562, 37.883565601433524, 38.377533372224406, 38.875467024440134, 39.377563857938355, 39.88360583867174, 40.393534021585396, 40.907258183591374, 41.42451183847193, 41.94548158946187, 42.469769841104025, 42.99746829238, 43.528421853218774, 44.06228441364603, 44.59932910713957, 45.139154960218136, 45.681601286082426, 46.22675469257931, 46.774318186654355, 47.324315675355585, 47.87635110254534, 48.43055012569514, 48.98664937744073, 49.54463368684165, 50.10423167540319, 50.66540212363215, 51.22804189241574, 51.79199965051804, 52.357098815530826, 52.92344157883292, 53.490517249781156, 54.05863246434243, 54.62754995876162, 55.19706306066499, 55.76718846688962, 56.33789736702156, 56.908986327029425, 57.480497003441094, 58.0523008520419, 58.62439927521273, 59.196792532786596, 59.76929137518312, 60.342084352316114, 60.91501868690414, 61.488235962889256, 62.06149457921031, 62.635103569951326, 63.20876003186563, 63.78303224481876, 64.35741287094316, 64.93220403561484, 65.50763981060211, 66.08353747308745, 66.66010362793801, 67.23754368458656, 67.81582401251383, 68.39498289953796, 68.97553005910005, 69.55727245080125, 70.1404834555518, 70.72530645565406, 71.31195499749025, 71.9005056314755, 72.49135579962304, 73.08442845844482, 73.68002802077598, 74.27858128829929, 74.87992116066887, 75.48449461798772, 76.09251449987305, 76.70412094395991, 77.3195309060072, 77.93916687813459, 78.56288714508949, 79.19129000756725, 79.82441382777077, 80.46265911564313, 81.10598244518788, 81.75481193058332, 82.40927372068472, 83.069660739714, 83.73624849258313, 84.40918346175766, 85.08863255842351, 85.77493716419062, 86.46817116292327, 87.16858523640518, 87.8764671193451, 88.59200092555612, 89.31524891101066, 90.04639939631026, 90.78577769629511, 91.53358545918674, 92.2897538555017, 93.05467439745362, 93.82841961842936, 94.61112735431628, 95.40296017740965, 96.20409192646036, 97.01464727742655, 97.83467519741737, 98.66440575749668, 99.50394334574605, 100.35332731874705, 101.21272210343902, 102.08235050369689, 102.96213974529311, 103.85208067660828, 104.75271421429014, 105.66357953845284, 106.5852075455601, 107.51743978668823, 108.46031836715031, 109.41413753609419, 110.37867343451573, 111.35429801800336, 112.34093084684896, 113.33850257948932, 114.34738685024917, 115.3673251100808, 116.39867719203467, 117.44113022918167, 118.49500306751149, 119.56045820369255, 120.63718931097179, 121.72566606134482, 122.82542247088847, 123.93710285733346, 125.06041456554782, 126.195315302435, 127.34221366623969, 128.50092125074156, 129.6714981034141, 130.85399856960927, 132.04856139758806, 133.25536761329727, 134.47410491929438, 135.7052582799214, 136.94864362740017, 138.20429722049016, 139.4724734660008, 140.7530707955677, 142.04626450037802, 143.3520327336731, 144.6706970536319, 146.00196649459457, 147.34627906131507, 148.7033679132282, 150.07364067590663, 151.45711786467817, 152.85363864422698, 154.26366091397253, 155.68700680290948, 157.1238335872977, 158.5742797283326, 160.03862625507023, 161.51657190736708, 163.00856371296524, 164.51443034916542, 166.03476940046977, 167.56911094103572, 169.11789994526444, 170.6811233833073, 172.2590860794801, 173.85176267373754, 175.45913954359483, 177.08183611138892, 178.71935830908274, 180.37217751639213, 182.0404160313873, 183.7242483811207, 185.42364760731715, 187.13891735891409, 188.869865869112, 190.61717147249942, 192.3806347369438, 194.16039832203234, 195.95643532337388, 197.7696399306571, 199.5992426817486, 201.4459574659434, 203.30974586898643, 205.1907763234886, 207.08921970178798, 209.0053993394479, 210.93912798990314, 212.89074493681787, 214.86079611838142, 216.84849374663628, 218.85517793225858, 220.88002785137533, 222.92379043678736, 224.98648597745117, 227.06827025606466, 229.16930770508074, 231.2895793803964, 233.4298928016626, 235.58957851474344, 237.76968192213332, 239.96952136775417, 242.18993281808557, 244.43089138719347, 246.69258660299428, 248.9752042389302, 251.27917123798326, 253.60399688332214, 255.95056510386914, 258.3188457811477, 260.7090462451693, 263.1213523780135, 265.55598580831327, 268.0131467167695, 270.4930424333938, 272.99588028819767, 275.52188190981434, 278.0712546282553, 280.6442129228429, 283.240985571521, 285.86177990430116, 288.5068246991272, 291.1763487339431, 293.8705736373818, 296.5897210380763, 299.3340340125921, 302.10373418956226, 304.89906915161845, 307.72026585557654, 310.56757184276, 313.44121589111614, 316.34144822652456, 319.2685190748651, 322.2226786620175, 325.2041700645508, 328.2132435083446, 331.2501635179004, 334.3151874684088, 337.4085655857497, 340.5305695437353, 343.6814567175561, 346.86150593033545, 350.07097455726387, 353.31014142146455, 356.5792781967499, 359.87866370624283, 363.2085839223776, 366.56931051896646, 369.96113661775416, 373.3843410418638, 376.8392240623515, 380.32607880096174, 383.84519123012865, 387.3968687702188, 390.98140454297703, 394.5991131180808, 398.2502947665859, 401.93525690885866, 405.6543141145766, 409.40778810272803, 413.19599344299047, 417.019251854352, 420.87787790648997, 424.7722147663255, 428.7025841528465, 432.66932208366325, 436.6727645763855, 440.7132476486233, 444.79111446729746, 448.9067153486397, 453.0604006088815, 457.2525134149439, 461.4834183816801, 465.75347297463276, 470.06303465934434, 474.41247519997904, 478.80215921139006, 483.2324656070528, 487.70375900182046, 492.2164254584789, 496.77085103981415, 501.3674146593011, 506.0065095290367, 510.68852886111773, 515.4138730169517, 520.1829352086354, 524.9961300961982, 529.8538580410476, 534.756533703213, 539.7045788920346, 544.6984011182309, 549.7384364897638, 554.8250996666624, 559.9588339061994, 565.140075316337, 570.3692457064152, 575.6468097816391, 580.973203649971, 586.3488848673048, 591.7743038402244, 597.2499252739351, 602.776206724331, 608.3536271952394, 613.9826513918654, 619.663765467347, 625.3974412762002, 631.1841792701844, 637.0244513038158, 642.918764978165, 648.8676207449911, 654.8715190560541, 660.930967512424, 667.0464880137929, 673.2185953105424, 679.4478113023641, 685.7346650382613, 692.0796855672365, 698.4834233862257, 704.9464075442314, 711.4691956875001, 718.0523311636566, 724.6964002161901, 731.4019533420366, 738.1694909929555, 744.9997281000316, 751.8930936219161, 758.850302489694, 765.8718551551249, 772.9583950561853, 780.1104941377432, 787.3287243446665, 794.6138006080403, 801.9662948727329, 809.3867790836119, 816.8759681717627, 824.4343625889445, 832.0628202524595, 839.7617701209589, 847.5319986186358, 855.3740776903588, 863.2887937603208, 871.2767187733904, 879.3384961675438, 887.4749123669745, 895.6866823027676, 903.9743064266828, 912.3387141491305, 920.7804774149787, 929.3003826484209, 937.8990732874338, 946.5773357562107, 955.3358849858371, 964.1755074005057, 973.0969179313023, 982.1009030024202, 991.1881775449441, 1000.3595279830683, 1009.6157407409856, 1018.9576022428898, 1028.3858989129747, 1037.9014171754332, 1047.5050149475678, 1057.1974071604636, 1066.9795947176394, 1076.8522210570718, 1086.8162155891714, 1096.8723647381319, 1107.0215979143636, 1117.2647730351684, 1127.60267652474, 1138.0362377934891, 1148.5663862518263, 1159.1939083239445, 1169.9198049133634, 1180.744933937385, 1191.670296299528, 1202.696678423986, 1213.825081214278, 1225.0564340808153, 1236.391737927116, 1247.8319221635911, 1259.3779876937592, 1271.0308639280313, 1282.7915517699264, 1294.6611236160722, 1306.6404373837704, 1318.7306369627572, 1330.9327232565513, 1343.2476971686722, 1355.6766310957473, 1368.2205259412956, 1380.8805255950533, 1393.6576309605393, 1406.5529859274895, 1419.5676628925319, 1432.7028057454024, 1445.9594153896196, 1459.3387072080284, 1472.8418250903653, 1486.4698414332572, 1500.2239716195488, 1514.105359538976, 1528.1152205743838, 1542.254698615508, 1556.5250090451932, 1570.927367246284, 1585.4629886016246, 1600.1330884940598, 1614.938953799543, 1629.8817999009184, 1644.9629136741387, 1660.183510502049, 1675.5450202468198, 1691.0486582912947, 1706.6957115114274, 1722.487609769387, 1738.4255684480192, 1754.511017409494, 1770.7453150228723, 1787.1298196572156, 1803.6659611746948, 1820.3550264512621, 1837.1985883353052, 1854.1980051958856, 1871.3546354020643, 1888.6701232953374, 1906.1457557516576, 1923.7831056194123, 1941.5836027607716, 1959.548891517231, 1977.68040175096, 1995.9796348172383, 2014.4481635644522, 2033.087632334097, 2051.89961397456, 2070.8855383480122, 2090.0472642752734, 2109.386221618514, 2128.9041262123387, 2148.6026223982426, 2168.4834260108296, 2188.5481098984874, 2208.7985328820364, 2229.236267809864, 2249.8631735027907, 2270.6808943023134, 2291.691217536143, 2312.896002025103, 2334.2969636037947, 2355.89596109304, 2377.694781820553, 2399.6952846071536, 2421.8993997667712, 2444.308986120227, 2466.9259024883427, 2489.7520791850475, 2512.7894465242703, 2536.0400063130505, 2559.5056888653166, 2583.188495988107, 2607.0905009815683, 2631.2135626665226, 2655.5598973293318, 2680.131506777035, 2704.9304643097785, 2729.9588432277083, 2755.2188598171897, 2780.712587378368, 2806.4421707044985, 2832.409897575054, 2858.6178412901795, 2885.068289629348, 2911.763530372032, 2938.705779804595, 2965.8972542134006, 2993.340384364137, 3021.037386543169, 3048.9906915161846, 3077.202658555766, 3105.6757184276003, 3134.412158911161, 3163.414482265245, 3192.6851907486507, 3222.226786620175, 3252.0417006455073, 3282.132435083446, 3312.5016351790036, 3343.1518746840884, 3374.085655857497, 3405.3056954373524, 3436.814567175561, 3468.615059303355, 3500.709745572639, 3533.101414214646, 3565.7927819674983, 3598.7866370624283, 3632.085839223776, 3665.693105189664, 3699.6113661775407, 3733.843410418639, 3768.392240623514, 3803.260788009617, 3838.451912301287, 3873.968687702188, 3909.8140454297713, 3945.9911311808087, 3982.5029476658583, 4019.3525690885867, 4056.5431411457657, 4094.077881027281, 4131.959934429904, 4170.192518543519, 4208.7787790649, 4247.722147663254, 4287.025841528465, 4326.693220836632, 4366.727645763855, 4407.132476486234, 4447.911144672975, 4489.067153486396, 4530.604006088815, 4572.5251341494395, 4614.834183816802, 4657.534729746328, 4700.630346593443, 4744.12475199979, 4788.0215921139015, 4832.324656070528, 4877.037590018204, 4922.164254584789, 4967.708510398141, 5013.674146593012, 5060.065095290367, 5106.885288611177]\n"
          ]
        }
      ],
      "source": [
        "# Calculating 'func'\n",
        "func = cons .* (-(z_g .^ 2) .* (1 ./ 3) .* (gprime_list ./ df[:, \"gs\"]) .+ z_g) ./ (sqrt.(df[:, \"g*\"]))\n",
        "\n",
        "println(func)\n"
      ],
      "id": "84c88f5f"
    },
    {
      "cell_type": "code",
      "execution_count": null,
      "metadata": {
        "id": "850da423"
      },
      "outputs": [],
      "source": [],
      "id": "850da423"
    },
    {
      "cell_type": "code",
      "execution_count": null,
      "metadata": {
        "colab": {
          "base_uri": "https://localhost:8080/"
        },
        "id": "6dfefdd5",
        "outputId": "a801c45a-a504-4a92-c3c0-a587ce98a1fd"
      },
      "outputs": [
        {
          "output_type": "execute_result",
          "data": {
            "text/plain": [
              "100000-element Vector{Float64}:\n",
              "    0.2866967619919819\n",
              "    0.3153705214378637\n",
              "    0.344044925789345\n",
              "    0.37272301416650166\n",
              "    0.40140234518060536\n",
              "    0.4300841155235796\n",
              "    0.45877018989743323\n",
              "    0.4874590161378902\n",
              "    0.5161506934084213\n",
              "    0.5448449683094644\n",
              "    0.5735446754124089\n",
              "    0.6022498312318962\n",
              "    0.6309577771791786\n",
              "    ⋮\n",
              " 5106.323581788096\n",
              " 5106.374646044739\n",
              " 5106.425710301383\n",
              " 5106.476774558027\n",
              " 5106.527838814671\n",
              " 5106.578903071315\n",
              " 5106.629967327959\n",
              " 5106.681031584602\n",
              " 5106.7320958412465\n",
              " 5106.78316009789\n",
              " 5106.834224354534\n",
              " 5106.885288611177"
            ]
          },
          "metadata": {},
          "execution_count": 15
        }
      ],
      "source": [
        "using Interpolations\n",
        "# Interpolate using Interpolations package\n",
        "dt_dz = LinearInterpolation(z_g, func, extrapolation_bc=Line())  # Linear interpolation\n",
        "\n",
        "# Create new x values\n",
        "x_new = range(0.051099997600057595, stop=511.0000145934898, length=100000)\n",
        "\n",
        "# Evaluate the interpolation at x_new values\n",
        "dtdz_new = dt_dz(x_new)\n"
      ],
      "id": "6dfefdd5"
    },
    {
      "cell_type": "code",
      "execution_count": null,
      "metadata": {
        "id": "6b78743b"
      },
      "outputs": [],
      "source": [
        "using PyPlot\n"
      ],
      "id": "6b78743b"
    },
    {
      "cell_type": "code",
      "execution_count": null,
      "metadata": {
        "colab": {
          "base_uri": "https://localhost:8080/",
          "height": 504
        },
        "id": "51cd7d8c",
        "outputId": "b9e99706-141d-4a77-b443-73c32cc58098"
      },
      "outputs": [
        {
          "output_type": "display_data",
          "data": {
            "text/plain": [
              "Figure(PyObject <Figure size 640x480 with 1 Axes>)"
            ],
            "image/png": "[encoded data removed]"
          },
          "metadata": {}
        },
        {
          "output_type": "execute_result",
          "data": {
            "text/plain": [
              "PyObject <matplotlib.legend.Legend object at 0x7e33d2bc8fa0>"
            ]
          },
          "metadata": {},
          "execution_count": 17
        }
      ],
      "source": [
        "plot(z_g, func, \"o\", color=\"yellow\", markersize=5, label=\"Original Data\")\n",
        "plot(x_new, dtdz_new, \"--\", color=\"black\", linewidth=2, label=\"Interpolated\")\n",
        "xscale(\"log\")\n",
        "yscale(\"log\")\n",
        "xlabel(L\"$z_{\\gamma}=\\frac{m_e}{T_\\gamma(MeV)}}$\", fontsize=18)\n",
        "ylabel(L\"$\\frac{dt}{dz}$\", fontsize=18)\n",
        "title(L\"Interpolated $\\frac{dt}{dz}$ vs. $z_{\\gamma}$\", fontsize=20)\n",
        "grid(true, linestyle=\"--\", linewidth=0.5, color=\"gray\")\n",
        "tick_params(axis=\"both\", which=\"major\", labelsize=14)\n",
        "tight_layout()\n",
        "legend(fontsize=12)"
      ],
      "id": "51cd7d8c"
    },
    {
      "cell_type": "code",
      "execution_count": null,
      "metadata": {
        "colab": {
          "base_uri": "https://localhost:8080/"
        },
        "id": "cb9e1b29",
        "outputId": "6ca71230-1ef3-4ef8-a297-3d3ea44d61f6"
      },
      "outputs": [
        {
          "output_type": "execute_result",
          "data": {
            "text/plain": [
              "10-element Vector{Float64}:\n",
              "  22.211\n",
              " -72.798\n",
              " 115.71\n",
              " -11.763\n",
              "  45.521\n",
              "  -3.7973\n",
              "   0.41266\n",
              "  -0.02621\n",
              "   0.00087934\n",
              "  -1.2016e-5"
            ]
          },
          "metadata": {},
          "execution_count": 18
        }
      ],
      "source": [
        "a_0 = 1\n",
        "a_1 = 0.15735\n",
        "a_2 = 4.6172\n",
        "a_3 = -0.40520e2\n",
        "a_4 = 0.13875e3\n",
        "a_5 = -0.59898e2\n",
        "a_6 = 0.66752e2\n",
        "a_7 = -0.16705e2\n",
        "a_8 = 3.8071\n",
        "a_9 = -0.39140\n",
        "a_10 = 0.023590\n",
        "a_11 = -0.83696e-4\n",
        "a_12 = -0.42095e-4\n",
        "a_13 = 0.17675e-5\n",
        "q_np = 0.33979\n",
        "\n",
        "b_0 = -0.62173\n",
        "b_1 = 0.22211e2\n",
        "b_2 = -0.72798e2\n",
        "b_3 = 0.11571e3\n",
        "b_4 = -0.11763e2\n",
        "b_5 = 0.45521e2\n",
        "b_6 = -3.7973\n",
        "b_7 = 0.41266\n",
        "b_8 = -0.026210\n",
        "b_9 = 0.87934e-3\n",
        "b_10 = -0.12016e-4\n",
        "q_pn = 2.8602\n",
        "tau = 8.7945e2\n",
        "m_e = 0.511\n",
        "\n",
        "a_values = [a_1, a_2, a_3, a_4, a_5, a_6, a_7, a_8, a_9, a_10, a_11, a_12, a_13]\n",
        "b_values = [b_1, b_2, b_3, b_4, b_5, b_6, b_7, b_8, b_9, b_10]\n"
      ],
      "id": "cb9e1b29"
    },
    {
      "cell_type": "code",
      "execution_count": null,
      "metadata": {
        "colab": {
          "base_uri": "https://localhost:8080/"
        },
        "id": "7zLsHQYdBubN",
        "outputId": "88db6b5d-773d-4886-a452-dc7682668fbc"
      },
      "outputs": [
        {
          "output_type": "execute_result",
          "data": {
            "text/plain": [
              "1001-element Vector{Float64}:\n",
              "   0.051099997600057595\n",
              "   0.051572823465825084\n",
              "   0.052050020544484335\n",
              "   0.05253163293703352\n",
              "   0.053017701634447016\n",
              "   0.05350826862757392\n",
              "   0.05400337590716255\n",
              "   0.05450305901373581\n",
              "   0.05500737278766372\n",
              "   0.0555163472677556\n",
              "   0.05603003749587137\n",
              "   0.056548476306929746\n",
              "   0.05707171324103291\n",
              "   ⋮\n",
              " 461.7648922986149\n",
              " 466.03755133832317\n",
              " 470.34974156646524\n",
              " 474.7018349739564\n",
              " 479.09419639804065\n",
              " 483.52720498330484\n",
              " 488.0012255669929\n",
              " 492.5166444473632\n",
              " 497.07384792267396\n",
              " 501.6732151375122\n",
              " 506.31513954380756\n",
              " 511.0000145934898"
            ]
          },
          "metadata": {},
          "execution_count": 19
        }
      ],
      "source": [
        "using Base\n",
        "\n",
        "z_int = sort(z_g)\n"
      ],
      "id": "7zLsHQYdBubN"
    },
    {
      "cell_type": "code",
      "execution_count": null,
      "metadata": {
        "id": "4123d9ee"
      },
      "outputs": [],
      "source": [
        "znu = []\n",
        "for x in z_int\n",
        "    if (1 / x) * m_e >= 0.01\n",
        "        push!(znu, x)\n",
        "    end\n",
        "end\n"
      ],
      "id": "4123d9ee"
    },
    {
      "cell_type": "code",
      "execution_count": null,
      "metadata": {
        "colab": {
          "base_uri": "https://localhost:8080/"
        },
        "id": "7d8bcf55",
        "outputId": "693ba7af-18fb-4d41-cb3d-e90bc257d6ad"
      },
      "outputs": [
        {
          "output_type": "execute_result",
          "data": {
            "text/plain": [
              "lambda_pn (generic function with 1 method)"
            ]
          },
          "metadata": {},
          "execution_count": 21
        }
      ],
      "source": [
        "\n",
        "\n",
        "# Define the weak rate function for n <--> p\n",
        "function lambda_np(z)\n",
        "    f1 = 1.0\n",
        "    for ie in 1:13\n",
        "        f1 += a_values[ie] / z^ie\n",
        "    end\n",
        "    f1 *= exp(-0.33979 / z) / tau\n",
        "    return f1\n",
        "end\n",
        "\n",
        "# Define the weak rate function for p <--> n\n",
        "function lambda_pn(z)\n",
        "    r1 = -0.62173\n",
        "    e = m_e / z\n",
        "\n",
        "    if (e >= 0.1)\n",
        "        for ie in 1:10\n",
        "            r1 += b_values[ie] / z^ie\n",
        "        end\n",
        "        r1 *= exp(-2.8602 * z) / tau\n",
        "        weak_rate = r1\n",
        "    else\n",
        "        weak_rate = 0\n",
        "    end\n",
        "    return weak_rate\n",
        "end\n"
      ],
      "id": "7d8bcf55"
    },
    {
      "cell_type": "code",
      "execution_count": null,
      "metadata": {
        "colab": {
          "base_uri": "https://localhost:8080/"
        },
        "id": "4d99c913",
        "outputId": "5da71899-0a96-45e1-d49d-07730b6d7f13"
      },
      "outputs": [
        {
          "output_type": "execute_result",
          "data": {
            "text/plain": [
              "f2 (generic function with 1 method)"
            ]
          },
          "metadata": {},
          "execution_count": 22
        }
      ],
      "source": [
        "function f1(z, xn, xp)\n",
        "    value = (lambda_pn(z) * xp - lambda_np(z) * xn) * dt_dz(z)\n",
        "    return value\n",
        "end\n",
        "\n",
        "function f2(z, xn, xp)\n",
        "    value = (lambda_np(z) * xn - lambda_pn(z) * xp) * dt_dz(z)\n",
        "    return value\n",
        "end"
      ],
      "id": "4d99c913"
    },
    {
      "cell_type": "code",
      "execution_count": null,
      "metadata": {
        "colab": {
          "base_uri": "https://localhost:8080/"
        },
        "id": "PDYA4GYqGXRb",
        "outputId": "7e77f82e-db5e-458b-e821-c5925bfbea40"
      },
      "outputs": [
        {
          "output_type": "stream",
          "name": "stderr",
          "text": [
            "\u001b[32m\u001b[1m   Resolving\u001b[22m\u001b[39m package versions...\n",
            "\u001b[32m\u001b[1m  No Changes\u001b[22m\u001b[39m to `~/.julia/environments/v1.9/Project.toml`\n",
            "\u001b[32m\u001b[1m  No Changes\u001b[22m\u001b[39m to `~/.julia/environments/v1.9/Manifest.toml`\n"
          ]
        }
      ],
      "source": [
        "Pkg.add(\"DifferentialEquations\")"
      ],
      "id": "PDYA4GYqGXRb"
    },
    {
      "cell_type": "code",
      "execution_count": null,
      "metadata": {
        "id": "cfc3f666"
      },
      "outputs": [],
      "source": [
        "using DifferentialEquations"
      ],
      "id": "cfc3f666"
    },
    {
      "cell_type": "code",
      "execution_count": null,
      "metadata": {
        "colab": {
          "base_uri": "https://localhost:8080/"
        },
        "id": "KJpIpW6zKdRM",
        "outputId": "8be495d7-76ea-4231-c281-3e4174186d18"
      },
      "outputs": [
        {
          "output_type": "execute_result",
          "data": {
            "text/plain": [
              "ode_solvez (generic function with 1 method)"
            ]
          },
          "metadata": {},
          "execution_count": 25
        }
      ],
      "source": [
        "function ode_solvez(u, p, z)\n",
        "    xn, xp = u\n",
        "    dx_n = f1(z,u[1],u[2])  # Define the equation for dx/dt here based on x, y, and t\n",
        "    dx_p = f2(z,u[1],u[2])\n",
        "    [dx_n,dx_p] # Define the equation for dy/dt here based on x, y, and t\n",
        "end\n"
      ],
      "id": "KJpIpW6zKdRM"
    },
    {
      "cell_type": "code",
      "execution_count": null,
      "metadata": {
        "colab": {
          "base_uri": "https://localhost:8080/"
        },
        "id": "RTy7Nf14MvYZ",
        "outputId": "648f9008-df88-46f5-b7b3-c6e1a3d04f6d"
      },
      "outputs": [
        {
          "output_type": "stream",
          "name": "stdout",
          "text": [
            "  2.769 ms (120002 allocations: 2.57 MiB)\n"
          ]
        }
      ],
      "source": [
        "using DifferentialEquations, BenchmarkTools\n",
        "u0 = [0.46771996026; 0.53228003974]\n",
        "tspan = (minimum(znu),maximum(znu))\n",
        "prob = ODEProblem(ode_solvez, u0, tspan)\n",
        "@btime solve(prob, Rodas5());\n"
      ],
      "id": "RTy7Nf14MvYZ"
    },
    {
      "cell_type": "code",
      "execution_count": null,
      "metadata": {
        "colab": {
          "base_uri": "https://localhost:8080/"
        },
        "id": "yiN8bUxrNPEL",
        "outputId": "e4d17a8c-9749-4eb6-adea-88ddb2742ce6"
      },
      "outputs": [
        {
          "output_type": "execute_result",
          "data": {
            "text/plain": [
              "retcode: Success\n",
              "Interpolation: specialized 4rd order \"free\" stiffness-aware interpolation\n",
              "t: 45-element Vector{Float64}:\n",
              "  0.051099997600057595\n",
              "  0.05215406287277413\n",
              "  0.05260876873006082\n",
              "  0.05317420411347507\n",
              "  0.053972560644458475\n",
              "  0.05524282518135376\n",
              "  0.05744893461909246\n",
              "  0.061319822780496434\n",
              "  0.06771670786008648\n",
              "  0.07411359293967651\n",
              "  0.08529937358713495\n",
              "  0.10090932111448495\n",
              "  0.11911023696395359\n",
              "  ⋮\n",
              "  7.943265377227245\n",
              " 10.366693345344455\n",
              " 13.617583261034103\n",
              " 17.5046122854704\n",
              " 20.68464746379411\n",
              " 24.4438048017254\n",
              " 28.20296213965669\n",
              " 32.02678821427247\n",
              " 36.01536311032041\n",
              " 40.411521988858254\n",
              " 45.49926136695878\n",
              " 50.63151395438075\n",
              "u: 45-element Vector{Vector{Float64}}:\n",
              " [0.46771996026, 0.53228003974]\n",
              " [0.4637934000673946, 0.5362065999326054]\n",
              " [0.46389376746333244, 0.5361062325366676]\n",
              " [0.46352069329804946, 0.5364793067019507]\n",
              " [0.46306206823904505, 0.536937931760955]\n",
              " [0.4623424233479891, 0.537657576652011]\n",
              " [0.46111996540371664, 0.5388800345962836]\n",
              " [0.4589747741020745, 0.5410252258979259]\n",
              " [0.45530561801256136, 0.5446943819874391]\n",
              " [0.45152557959653267, 0.5484744204034677]\n",
              " [0.44489242723084016, 0.5551075727691601]\n",
              " [0.4356445625679812, 0.5643554374320192]\n",
              " [0.4247481646392813, 0.5752518353607191]\n",
              " ⋮\n",
              " [0.11471251347110667, 0.8852874865288939]\n",
              " [0.0886796835472104, 0.9113203164527904]\n",
              " [0.056862517537199626, 0.943137482462801]\n",
              " [0.028616611632953627, 0.9713833883670471]\n",
              " [0.014370809772843674, 0.9856291902271571]\n",
              " [0.005491927387719797, 0.994508072612281]\n",
              " [0.0017882577711374418, 0.9982117422288632]\n",
              " [0.00048456896314605613, 0.9995154310368547]\n",
              " [0.00010399864647471041, 0.9998960013535261]\n",
              " [1.545729918589597e-5, 0.9999845427008148]\n",
              " [1.2848173425433382e-6, 0.9999987151826583]\n",
              " [7.685193749025992e-8, 0.9999999231480633]"
            ]
          },
          "metadata": {},
          "execution_count": 27
        }
      ],
      "source": [
        "sol = solve(prob,Rodas5())  # You can choose a different solver if needed"
      ],
      "id": "yiN8bUxrNPEL"
    },
    {
      "cell_type": "code",
      "execution_count": null,
      "metadata": {
        "colab": {
          "base_uri": "https://localhost:8080/"
        },
        "id": "NLjnE26vNSmA",
        "outputId": "154549e9-6a38-4325-9ec4-772941a21aba"
      },
      "outputs": [
        {
          "output_type": "execute_result",
          "data": {
            "text/plain": [
              "45-element Vector{Float64}:\n",
              " 0.53228003974\n",
              " 0.5362065999326054\n",
              " 0.5361062325366676\n",
              " 0.5364793067019507\n",
              " 0.536937931760955\n",
              " 0.537657576652011\n",
              " 0.5388800345962836\n",
              " 0.5410252258979259\n",
              " 0.5446943819874391\n",
              " 0.5484744204034677\n",
              " 0.5551075727691601\n",
              " 0.5643554374320192\n",
              " 0.5752518353607191\n",
              " ⋮\n",
              " 0.8852874865288939\n",
              " 0.9113203164527904\n",
              " 0.943137482462801\n",
              " 0.9713833883670471\n",
              " 0.9856291902271571\n",
              " 0.994508072612281\n",
              " 0.9982117422288632\n",
              " 0.9995154310368547\n",
              " 0.9998960013535261\n",
              " 0.9999845427008148\n",
              " 0.9999987151826583\n",
              " 0.9999999231480633"
            ]
          },
          "metadata": {},
          "execution_count": 28
        }
      ],
      "source": [
        "z_values = sol.t\n",
        "xn_values = sol[1, :]\n",
        "xp_values = sol[2, :]"
      ],
      "id": "NLjnE26vNSmA"
    },
    {
      "cell_type": "code",
      "execution_count": null,
      "metadata": {
        "colab": {
          "base_uri": "https://localhost:8080/"
        },
        "id": "aFXm7jfJogww",
        "outputId": "82aa14b9-55f7-4aa2-efd8-14f0ede20307"
      },
      "outputs": [
        {
          "output_type": "execute_result",
          "data": {
            "text/plain": [
              "45"
            ]
          },
          "metadata": {},
          "execution_count": 29
        }
      ],
      "source": [
        "length(xn_values)"
      ],
      "id": "aFXm7jfJogww"
    },
    {
      "cell_type": "code",
      "execution_count": null,
      "metadata": {
        "colab": {
          "base_uri": "https://localhost:8080/",
          "height": 492
        },
        "id": "_4vlwyVSOLSK",
        "outputId": "20506caa-b54d-424e-e2b1-14f0ee7fc5ef"
      },
      "outputs": [
        {
          "output_type": "display_data",
          "data": {
            "text/plain": [
              "Figure(PyObject <Figure size 640x480 with 1 Axes>)"
            ],
            "image/png": "[encoded data removed]"
          },
          "metadata": {}
        },
        {
          "output_type": "execute_result",
          "data": {
            "text/plain": [
              "PyObject Text(0.5, 44.836388888888884, '$z=\\\\frac{m_e}{T_{\\\\gamma(MeV)}}$')"
            ]
          },
          "metadata": {},
          "execution_count": 30
        }
      ],
      "source": [
        "plot(z_values, xn_values, linewidth=2, label=L\"$p$\")\n",
        "plot(z_values, xp_values, linewidth=2, label=L\"$n$\")\n",
        "yscale(\"log\")\n",
        "xscale(\"log\")\n",
        "xlabel(L\"$z=\\frac{m_e}{T_{\\gamma(MeV)}}$\", fontsize=14)"
      ],
      "id": "_4vlwyVSOLSK"
    },
    {
      "cell_type": "code",
      "execution_count": null,
      "metadata": {
        "colab": {
          "base_uri": "https://localhost:8080/"
        },
        "id": "pHD7NzJlGy_k",
        "outputId": "dab6ee6e-bb25-4ab4-bd5f-000190eb0b95"
      },
      "outputs": [
        {
          "output_type": "execute_result",
          "data": {
            "text/plain": [
              "mev_to_t9kelvin (generic function with 1 method)"
            ]
          },
          "metadata": {},
          "execution_count": 31
        }
      ],
      "source": [
        "function mev_to_t9kelvin(mev)\n",
        "    temp9_kelvin = mev * 11604525006.1598 / 10^9\n",
        "    return temp9_kelvin\n",
        "end\n"
      ],
      "id": "pHD7NzJlGy_k"
    },
    {
      "cell_type": "code",
      "execution_count": null,
      "metadata": {
        "colab": {
          "base_uri": "https://localhost:8080/"
        },
        "id": "jTFPf6T1fpa7",
        "outputId": "d1e105f1-c8a9-4513-8daf-dccf2315ca82"
      },
      "outputs": [
        {
          "output_type": "execute_result",
          "data": {
            "text/plain": [
              "6.022e23"
            ]
          },
          "metadata": {},
          "execution_count": 32
        }
      ],
      "source": [
        "const NA=6.022e23"
      ],
      "id": "jTFPf6T1fpa7"
    },
    {
      "cell_type": "code",
      "execution_count": null,
      "metadata": {
        "colab": {
          "base_uri": "https://localhost:8080/"
        },
        "id": "rrSmjnUI5Dl7",
        "outputId": "22e27705-32c5-4877-86f5-4e8268e677cb"
      },
      "outputs": [
        {
          "output_type": "execute_result",
          "data": {
            "text/plain": [
              "n_b (generic function with 1 method)"
            ]
          },
          "metadata": {},
          "execution_count": 33
        }
      ],
      "source": [
        "function n_b(z)\n",
        "    T_mev = m_e / z\n",
        "    T_kelvin = T_mev * 11604525006.1598\n",
        "    n_bz = 6.14e-10 * 410.73 * (T_kelvin / 2.7255)^3\n",
        "    return n_bz\n",
        "end"
      ],
      "id": "rrSmjnUI5Dl7"
    },
    {
      "cell_type": "code",
      "execution_count": null,
      "metadata": {
        "colab": {
          "base_uri": "https://localhost:8080/"
        },
        "id": "fCYMv42Y7Ykg",
        "outputId": "eb15520a-527e-40dd-b7db-f2135ee8515f"
      },
      "outputs": [
        {
          "output_type": "execute_result",
          "data": {
            "text/plain": [
              "D3He_p4He (generic function with 1 method)"
            ]
          },
          "metadata": {},
          "execution_count": 466
        }
      ],
      "source": [
        "function pn_gammaD(z)\n",
        "    T = m_e / z\n",
        "    T_9 = mev_to_t9kelvin(T)\n",
        "    if T_9 <= 1.5\n",
        "        f = (44216. * (1 + 3.75191 * T_9 + 1.92934 * T_9^2 + 0.746503 * T_9^3 + 0.0197023 * T_9^4 + 3.00491e-6 * T_9^5) /\n",
        "             (1 + 5.4678 * T_9 + 5.62395 * T_9^2 + 0.489312 * T_9^3 + 0.00747806 * T_9^4))\n",
        "    else\n",
        "        f = (1.0 - sqrt(T_9) * 0.8504 + T_9 * 0.4895 - T_9^(3/2) * 0.09623 + T_9 * 0.008471 * T_9 - T_9 * 2.8e-4 * T_9^(3/2)) * 47420.0\n",
        "    end\n",
        "    rate = f\n",
        "    return (n_b(z)*f / NA)\n",
        "end\n",
        "\n",
        "\n",
        "function Dp_gamma3He(z)\n",
        "    T = m_e / z\n",
        "    T9 = mev_to_t9kelvin(T)\n",
        "    if T9 < 0.001\n",
        "        rate = 4.815e-14\n",
        "    elseif 0.001 <= T9 <= 0.0015\n",
        "        rate = 4.815e-14\n",
        "    elseif 0.0015 < T9 <= 0.0025\n",
        "        rate = 6.409e-9\n",
        "    elseif 0.0025 < T9 <= 0.0035\n",
        "        rate = 4.525e-7\n",
        "    elseif 0.0035 < T9 <= 0.0045\n",
        "        rate = 4.896e-6\n",
        "    elseif 0.0045 < T9 <= 0.0055\n",
        "        rate = 2.444e-5\n",
        "    elseif 0.0055 < T9 <= 0.0065\n",
        "        rate = 8.086e-5\n",
        "    elseif 0.0065 < T9 <= 0.0075\n",
        "        rate = 2.078e-4\n",
        "    elseif 0.0075 < T9 <= 0.0085\n",
        "        rate = 4.499e-4\n",
        "    elseif 0.0085 < T9 <= 0.0095\n",
        "        rate = 8.619e-4\n",
        "    elseif 0.0095 < T9 <= 0.0105\n",
        "        rate = 1.506e-3\n",
        "    elseif 0.0105 < T9 <= 0.0115\n",
        "        rate = 2.450e-3\n",
        "    elseif 0.0115 < T9 <= 0.0125\n",
        "        rate = 3.767e-3\n",
        "    elseif 0.0125 < T9 <= 0.0135\n",
        "        rate = 5.531e-3\n",
        "    elseif 0.0135 < T9 <= 0.0145\n",
        "        rate = 7.816e-3\n",
        "    elseif 0.0145 < T9 <= 0.0155\n",
        "        rate = 1.070e-2\n",
        "    elseif 0.0155 < T9 <= 0.0170\n",
        "        rate = 1.425e-2\n",
        "    elseif 0.0170 < T9 <= 0.0190\n",
        "        rate = 2.366e-2\n",
        "    elseif 0.0190 < T9 <= 0.0225\n",
        "        rate = 3.659e-2\n",
        "    elseif 0.0225 < T9 <= 0.0275\n",
        "        rate = 8.753e-2\n",
        "    elseif 0.0275 < T9 <= 0.0350\n",
        "        rate = 1.701e-1\n",
        "    elseif 0.0350 < T9 <= 0.0450\n",
        "        rate = 4.476e-1\n",
        "    elseif 0.0450 < T9 <= 0.0550\n",
        "        rate = 8.915e-1\n",
        "    elseif 0.0550 < T9 <= 0.0650\n",
        "        rate = 1.510\n",
        "    elseif 0.0650 < T9 <= 0.0750\n",
        "        rate = 2.302\n",
        "    elseif 0.0750 < T9 <= 0.0850\n",
        "        rate = 3.265\n",
        "    elseif 0.0850 < T9 <= 0.0950\n",
        "        rate = 4.392\n",
        "    elseif 0.0950 < T9 <= 0.1050\n",
        "        rate = 5.676\n",
        "    elseif 0.1050 < T9 <= 0.1150\n",
        "        rate = 7.109\n",
        "    elseif 0.1150 < T9 <= 0.1250\n",
        "        rate = 8.685\n",
        "    elseif 0.1250 < T9 <= 0.1350\n",
        "        rate = 1.040e1\n",
        "    elseif 0.1350 < T9 <= 0.1450\n",
        "        rate = 1.224e1\n",
        "    elseif 0.1450 < T9 <= 0.1550\n",
        "        rate = 1.420e1\n",
        "    elseif 0.1550 < T9 <= 0.1700\n",
        "        rate = 1.628e1\n",
        "    elseif 0.1700 < T9 <= 0.1900\n",
        "        rate = 2.076e1\n",
        "    elseif 0.1900 < T9 <= 0.2250\n",
        "        rate = 2.565e1\n",
        "    elseif 0.2250 < T9 <= 0.2750\n",
        "        rate = 3.941e1\n",
        "    elseif 0.2750 < T9 <= 0.3250\n",
        "        rate = 5.505e1\n",
        "    elseif 0.3250 < T9 <= 0.3750\n",
        "        rate = 7.225e1\n",
        "    elseif 0.3750 < T9 <= 0.4250\n",
        "        rate = 9.076e1\n",
        "    elseif 0.4250 < T9 <= 0.4750\n",
        "        rate = 1.104e2\n",
        "    elseif 0.4750 < T9 <= 0.5500\n",
        "        rate = 1.310e2\n",
        "    elseif 0.5500 < T9 <= 0.6500\n",
        "        rate = 1.748e2\n",
        "    elseif 0.6500 < T9 <= 0.7500\n",
        "        rate = 2.212e2\n",
        "    elseif 0.7500 < T9 <= 0.8500\n",
        "        rate = 2.700e2\n",
        "    elseif 0.8500 < T9 <= 0.9500\n",
        "        rate = 3.207e2\n",
        "    elseif 0.9500 < T9 <= 1.1250\n",
        "        rate = 3.729e2\n",
        "    elseif 1.1250 < T9 <= 1.3750\n",
        "        rate = 5.093e2\n",
        "    elseif 1.3750 < T9 <= 1.6250\n",
        "        rate = 6.522e2\n",
        "    elseif 1.6250 < T9 <= 1.8750\n",
        "        rate = 8.000e2\n",
        "    elseif 1.8750 < T9 <= 2.2500\n",
        "        rate = 9.517e2\n",
        "    elseif 2.2500 < T9 <= 2.7500\n",
        "        rate = 1.265e3\n",
        "    elseif 2.7500 < T9 <= 3.2500\n",
        "        rate = 1.587e3\n",
        "    elseif 3.2500 < T9 <= 3.7500\n",
        "        rate = 1.914e3\n",
        "    elseif 3.7500 < T9 <= 4.5000\n",
        "        rate = 2.244e3\n",
        "    elseif 4.5000 < T9 <= 5.5000\n",
        "        rate = 2.905e3\n",
        "    elseif 5.5000 < T9 <= 6.5000\n",
        "        rate = 3.557e3\n",
        "    elseif 6.5000 < T9 <= 7.5000\n",
        "        rate = 4.194e3\n",
        "    elseif 7.5000 < T9 <= 8.5000\n",
        "        rate = 4.812e3\n",
        "    elseif 8.5000 < T9 <= 9.5000\n",
        "        rate = 5.410e3\n",
        "    elseif 9.5000 < T9 <= 10.0000\n",
        "        rate = 5.988e3\n",
        "    else\n",
        "        rate = 0.0\n",
        "    end\n",
        "    return (n_b(z)*rate / NA)\n",
        "end\n",
        "\n",
        "\n",
        "\n",
        "function DD_n3He(z)\n",
        "    T9 = mev_to_t9kelvin(m_e / z)\n",
        "    if T9 < 0.001\n",
        "        rate = 1.142e-8\n",
        "    elseif 0.001 <= T9 <= 0.0015\n",
        "        rate = 1.142e-8\n",
        "    elseif 0.0015 < T9 <= 0.0025\n",
        "        rate = 5.470e-5\n",
        "    elseif 0.0025 < T9 <= 0.0035\n",
        "        rate = 3.021e-3\n",
        "    elseif 0.0035 < T9 <= 0.0045\n",
        "        rate = 3.732e-2\n",
        "    elseif 0.0045 < T9 <= 0.0055\n",
        "        rate = 2.212e-1\n",
        "    elseif 0.0055 < T9 <= 0.0065\n",
        "        rate = 8.546e-1\n",
        "    elseif 0.0065 < T9 <= 0.0075\n",
        "        rate = 2.505\n",
        "    elseif 0.0075 < T9 <= 0.0085\n",
        "        rate = 6.066\n",
        "    elseif 0.0085 < T9 <= 0.0095\n",
        "        rate = 1.278e1\n",
        "    elseif 0.0095 < T9 <= 0.0105\n",
        "        rate = 2.424e1\n",
        "    elseif 0.0105 < T9 <= 0.0115\n",
        "        rate = 4.237e1\n",
        "    elseif 0.0115 < T9 <= 0.0125\n",
        "        rate = 6.936e1\n",
        "    elseif 0.0125 < T9 <= 0.0135\n",
        "        rate = 1.077e2\n",
        "    elseif 0.0135 < T9 <= 0.0145\n",
        "        rate = 1.600e2\n",
        "    elseif 0.0145 < T9 <= 0.0155\n",
        "        rate = 2.291e2\n",
        "    elseif 0.0155 < T9 <= 0.0170\n",
        "        rate = 3.179e2\n",
        "    elseif 0.0170 < T9 <= 0.0190\n",
        "        rate = 5.667e2\n",
        "    elseif 0.0190 < T9 <= 0.0225\n",
        "        rate = 9.310e2\n",
        "    elseif 0.0225 < T9 <= 0.0275\n",
        "        rate = 2.504e3\n",
        "    elseif 0.0275 < T9 <= 0.0350\n",
        "        rate = 5.301e3\n",
        "    elseif 0.0350 < T9 <= 0.0450\n",
        "        rate = 1.568e4\n",
        "    elseif 0.0450 < T9 <= 0.0550\n",
        "        rate = 3.369e4\n",
        "    elseif 0.0550 < T9 <= 0.0650\n",
        "        rate = 6.013e4\n",
        "    elseif 0.0650 < T9 <= 0.0750\n",
        "        rate = 9.527e4\n",
        "    elseif 0.0750 < T9 <= 0.0850\n",
        "        rate = 1.390e5\n",
        "    elseif 0.0850 < T9 <= 0.0950\n",
        "        rate = 1.912e5\n",
        "    elseif 0.0950 < T9 <= 0.1050\n",
        "        rate = 2.513e5\n",
        "    elseif 0.1050 < T9 <= 0.1150\n",
        "        rate = 3.190e5\n",
        "    elseif 0.1150 < T9 <= 0.1250\n",
        "        rate = 3.938e5\n",
        "    elseif 0.1250 < T9 <= 0.1350\n",
        "        rate = 4.753e5\n",
        "    elseif 0.1350 < T9 <= 0.1450\n",
        "        rate = 5.631e5\n",
        "    elseif 0.1450 < T9 <= 0.1550\n",
        "        rate = 6.568e5\n",
        "    elseif 0.1550 < T9 <= 0.1700\n",
        "        rate = 7.559e5\n",
        "    elseif 0.1700 < T9 <= 0.1900\n",
        "        rate = 9.691e5\n",
        "    elseif 0.1900 < T9 <= 0.2250\n",
        "        rate = 1.200e6\n",
        "    elseif 0.2250 < T9 <= 0.2750\n",
        "        rate = 1.842e6\n",
        "    elseif 0.2750 < T9 <= 0.3250\n",
        "        rate = 2.555e6\n",
        "    elseif 0.3250 < T9 <= 0.3750\n",
        "        rate = 3.318e6\n",
        "    elseif 0.3750 < T9 <= 0.4250\n",
        "        rate = 4.119e6\n",
        "    elseif 0.4250 < T9 <= 0.4750\n",
        "        rate = 4.946e6\n",
        "    elseif 0.4750 < T9 <= 0.5500\n",
        "        rate = 5.792e6\n",
        "    elseif 0.5500 < T9 <= 0.6500\n",
        "        rate = 7.517e6\n",
        "    elseif 0.6500 < T9 <= 0.7500\n",
        "        rate = 9.260e6\n",
        "    elseif 0.7500 < T9 <= 0.8500\n",
        "        rate = 1.100e7\n",
        "    elseif 0.8500 < T9 <= 0.9500\n",
        "        rate = 1.272e7\n",
        "    elseif 0.9500 < T9 <= 1.1250\n",
        "        rate = 1.442e7\n",
        "    elseif 1.1250 < T9 <= 1.3750\n",
        "        rate = 1.850e7\n",
        "    elseif 1.3750 < T9 <= 1.6250\n",
        "        rate = 2.235e7\n",
        "    elseif 1.6250 < T9 <= 1.8750\n",
        "        rate = 2.595e7\n",
        "    elseif 1.8750 < T9 <= 2.2500\n",
        "        rate = 2.932e7\n",
        "    elseif 2.2500 < T9 <= 2.7500\n",
        "        rate = 3.546e7\n",
        "    elseif 2.7500 < T9 <= 3.2500\n",
        "        rate = 4.093e7\n",
        "    elseif 3.2500 < T9 <= 3.7500\n",
        "        rate = 4.585e7\n",
        "    elseif 3.7500 < T9 <= 4.5000\n",
        "        rate = 5.031e7\n",
        "    elseif 4.5000 < T9 <= 5.5000\n",
        "        rate = 5.816e7\n",
        "    elseif 5.5000 < T9 <= 6.5000\n",
        "        rate = 6.488e7\n",
        "    elseif 6.5000 < T9 <= 7.5000\n",
        "        rate = 7.072e7\n",
        "    elseif 7.5000 < T9 <= 8.5000\n",
        "        rate = 7.583e7\n",
        "    elseif 8.5000 < T9 <= 9.5000\n",
        "        rate = 8.037e7\n",
        "    elseif 9.5000 < T9 <= 10.0000\n",
        "        rate = 8.437e7\n",
        "    else\n",
        "        rate = 0.0\n",
        "    end\n",
        "    return (n_b(z)*rate / NA)\n",
        "end\n",
        "\n",
        "\n",
        "\n",
        "function DD_p3H(z)\n",
        "    T = m_e / z\n",
        "    T9 = mev_to_t9kelvin(T)\n",
        "\n",
        "    if T9 < 0.001\n",
        "        rate = 1.173e-8\n",
        "    elseif 0.001 <= T9 <= 0.0015\n",
        "        rate = 1.173e-8\n",
        "    elseif 0.0015 < T9 <= 0.0025\n",
        "        rate = 5.609e-5\n",
        "    elseif 0.0025 < T9 <= 0.0035\n",
        "        rate = 3.092e-3\n",
        "    elseif 0.0035 < T9 <= 0.0045\n",
        "        rate = 3.814e-2\n",
        "    elseif 0.0045 < T9 <= 0.0055\n",
        "        rate = 2.257e-1\n",
        "    elseif 0.0055 < T9 <= 0.0065\n",
        "        rate = 8.707e-1\n",
        "    elseif 0.0065 < T9 <= 0.0075\n",
        "        rate = 2.549\n",
        "    elseif 0.0075 < T9 <= 0.0085\n",
        "        rate = 6.164\n",
        "    elseif 0.0085 < T9 <= 0.0095\n",
        "        rate = 1.297e1\n",
        "    elseif 0.0095 < T9 <= 0.0105\n",
        "        rate = 2.458e1\n",
        "    elseif 0.0105 < T9 <= 0.0115\n",
        "        rate = 4.290e1\n",
        "    elseif 0.0115 < T9 <= 0.0125\n",
        "        rate = 7.016e1\n",
        "    elseif 0.0125 < T9 <= 0.0135\n",
        "        rate = 1.088e2\n",
        "    elseif 0.0135 < T9 <= 0.0145\n",
        "        rate = 1.615e2\n",
        "    elseif 0.0145 < T9 <= 0.0155\n",
        "        rate = 2.310e2\n",
        "    elseif 0.0155 < T9 <= 0.0170\n",
        "        rate = 3.202e2\n",
        "    elseif 0.0170 < T9 <= 0.0190\n",
        "        rate = 5.698e2\n",
        "    elseif 0.0190 < T9 <= 0.0225\n",
        "        rate = 9.343e2\n",
        "    elseif 0.0225 < T9 <= 0.0275\n",
        "        rate = 2.502e3\n",
        "    elseif 0.0275 < T9 <= 0.0350\n",
        "        rate = 5.276e3\n",
        "    elseif 0.0350 < T9 <= 0.0450\n",
        "        rate = 1.549e4\n",
        "    elseif 0.0450 < T9 <= 0.0550\n",
        "        rate = 3.307e4\n",
        "    elseif 0.0550 < T9 <= 0.0650\n",
        "        rate = 5.868e4\n",
        "    elseif 0.0650 < T9 <= 0.0750\n",
        "        rate = 9.246e4\n",
        "    elseif 0.0750 < T9 <= 0.0850\n",
        "        rate = 1.343e5\n",
        "    elseif 0.0850 < T9 <= 0.0950\n",
        "        rate = 1.837e5\n",
        "    elseif 0.0950 < T9 <= 0.1050\n",
        "        rate = 2.404e5\n",
        "    elseif 0.1050 < T9 <= 0.1150\n",
        "        rate = 3.039e5\n",
        "    elseif 0.1150 < T9 <= 0.1250\n",
        "        rate = 3.737e5\n",
        "    elseif 0.1250 < T9 <= 0.1350\n",
        "        rate = 4.493e5\n",
        "    elseif 0.1350 < T9 <= 0.1450\n",
        "        rate = 5.304e5\n",
        "    elseif 0.1450 < T9 <= 0.1550\n",
        "        rate = 6.165e5\n",
        "    elseif 0.1550 < T9 <= 0.1700\n",
        "        rate = 7.072e5\n",
        "    elseif 0.1700 < T9 <= 0.1900\n",
        "        rate = 9.011e5\n",
        "    elseif 0.1900 < T9 <= 0.2250\n",
        "        rate = 1.110e6\n",
        "    elseif 0.2250 < T9 <= 0.2750\n",
        "        rate = 1.682e6\n",
        "    elseif 0.2750 < T9 <= 0.3250\n",
        "        rate = 2.309e6\n",
        "    elseif 0.3250 < T9 <= 0.3750\n",
        "        rate = 2.974e6\n",
        "    elseif 0.3750 < T9 <= 0.4250\n",
        "        rate = 3.663e6\n",
        "    elseif 0.4250 < T9 <= 0.4750\n",
        "        rate = 4.371e6\n",
        "    elseif 0.4750 < T9 <= 0.5500\n",
        "        rate = 5.089e6\n",
        "    elseif 0.5500 < T9 <= 0.6500\n",
        "        rate = 6.543e6\n",
        "    elseif 0.6500 < T9 <= 0.7500\n",
        "        rate = 8.001e6\n",
        "    elseif 0.7500 < T9 <= 0.8500\n",
        "        rate = 9.448e6\n",
        "    elseif 0.8500 < T9 <= 0.9500\n",
        "        rate = 1.087e7\n",
        "    elseif 0.9500 < T9 <= 1.1250\n",
        "        rate = 1.228e7\n",
        "    elseif 1.1250 < T9 <= 1.3750\n",
        "        rate = 1.565e7\n",
        "    elseif 1.3750 < T9 <= 1.6250\n",
        "        rate = 2.882e7\n",
        "    elseif 1.6250 < T9 <= 1.8750\n",
        "        rate = 2.181e7\n",
        "    elseif 1.8750 < T9 <= 2.2500\n",
        "        rate = 2.461e7\n",
        "    elseif 2.2500 < T9 <= 2.7500\n",
        "        rate = 2.976e7\n",
        "    elseif 2.7500 < T9 <= 3.2500\n",
        "        rate = 3.440e7\n",
        "    elseif 3.2500 < T9 <= 3.7500\n",
        "        rate = 3.863e7\n",
        "    elseif 3.7500 < T9 <= 4.5000\n",
        "        rate = 4.251e7\n",
        "    elseif 4.5000 < T9 <= 5.5000\n",
        "        rate = 4.946e7\n",
        "    elseif 5.5000 < T9 <= 6.5000\n",
        "        rate = 5.552e7\n",
        "    elseif 6.5000 < T9 <= 7.5000\n",
        "        rate = 6.077e7\n",
        "    elseif 7.5000 < T9 <= 8.5000\n",
        "        rate = 6.529e7\n",
        "    elseif 8.5000 < T9 <= 9.5000\n",
        "        rate = 6.912e7\n",
        "    elseif 9.5000 < T9 <= 10.0000\n",
        "        rate = 7.228e7\n",
        "    else\n",
        "        rate = 0.0\n",
        "    end\n",
        "\n",
        "    rate =rate/NA\n",
        "    return (n_b(z)*rate)\n",
        "end\n",
        "\n",
        "function n3He_p3h(z)\n",
        "    T = m_e / z\n",
        "    T9 = mev_to_t9kelvin(T)\n",
        "\n",
        "    if T9 < 2.5\n",
        "        rate = (7.064935e8 + 6.733213571736319e8 * T9 + 1.7181155480346258e9 * T9 * T9 -\n",
        "                4.5367658146835446e8 * T9 * T9 * T9 - 1.2216728981712557e8 * T9^4 -\n",
        "                4.92736677238425e8 * sqrt(T9) - 1.3659670893994067e9 * T9^(3/2) -\n",
        "                6.629932739639357e8 * T9^(5/2) + 4.834951929033479e8 * T9^(7/2))\n",
        "    else\n",
        "        rate = 4.81732e8\n",
        "    end\n",
        "\n",
        "    return (n_b(z)*rate / NA)\n",
        "end\n",
        "\n",
        "function D3H_4Hen(z)\n",
        "    T = m_e / z\n",
        "    T9 = mev_to_t9kelvin(T)\n",
        "\n",
        "    if T9 < 2.5\n",
        "        factor1 = 6.2265733e8 / (exp(0.49711597 / T9) * T9^0.56785403)\n",
        "        factor2 = exp(-0.23309803 * T9^2 - 1.342742 * T9^(-1/3))\n",
        "        factor3 = (-8.1144927e7 + 2.2315324e9 * T9 - 2.9439669e9 * T9^2\n",
        "                   + 1.8764462e9 * T9^3 - 6.0511612e8 * T9^4\n",
        "                   + 9.5196576e7 * T9^5\n",
        "                   - 5.2901086e6 * T9^6) * T9^(-2/3)\n",
        "        rate = factor1 + factor2 * factor3\n",
        "    else\n",
        "        rate = 3.40249e8\n",
        "    end\n",
        "\n",
        "    return (n_b(z)*rate / NA)\n",
        "end\n",
        "\n",
        "function D3He_p4He(z)\n",
        "    T = m_e / z\n",
        "    T9 = mev_to_t9kelvin(T)\n",
        "\n",
        "    if T9 < 2.5\n",
        "        factor1 = 3.1038385e8 / (exp(1.6190981 / T9) * T9^0.12159455)\n",
        "        factor2 = exp(-0.0062340825 * T9^2 - 1.4540617 * T9^(-1/3))\n",
        "        factor3 = (-3.1335916e7 - 6.2051071e8 * T9 - 1.8782248e9 * T9^2\n",
        "                   + 6.5642773e8 * T9^3 + 1.530887e8 * T9^4\n",
        "                   - 4.9542138e8 * T9^(10/3)\n",
        "                   - 1.770285e8 * T9^(11/3) + 1.14185e8 * T9^(1/3)\n",
        "                   - 2.516526e7 * T9^(13/3) + 1.7500204e8 * T9^(2/3)\n",
        "                   - 1.7513362e9 * T9^(4/3) + 5.2792247e9 * T9^(5/3)\n",
        "                   - 3.32382e9 * T9^(7/3) + 2.0346284e9 * T9^(8/3)) * T9^(-2/3)\n",
        "        rate = factor1 + factor2 * factor3\n",
        "    else\n",
        "        rate = 1.55167e8\n",
        "    end\n",
        "\n",
        "    return (n_b(z)*rate / NA)\n",
        "end"
      ],
      "id": "fCYMv42Y7Ykg"
    },
    {
      "cell_type": "code",
      "execution_count": null,
      "metadata": {
        "colab": {
          "base_uri": "https://localhost:8080/"
        },
        "id": "4GkdrtJk-VAB",
        "outputId": "14fee6a9-01f8-4332-af85-bc7793000651"
      },
      "outputs": [
        {
          "output_type": "execute_result",
          "data": {
            "text/plain": [
              "sigma_v_cd (generic function with 1 method)"
            ]
          },
          "metadata": {},
          "execution_count": 467
        }
      ],
      "source": [
        "  # Importing the necessary package\n",
        "function threegamma_1two(sigma_v_ab, T, mu_ab, ga, gb, gc, Q)\n",
        "    c_gamma = (931.5 * T / (2 * π))^(3 / 2) * (mu_ab / 931.5)^(3 / 2) * (ga * gb / gc) * exp(-Q / T)\n",
        "    ngamma_sigma_v_cgamma = sigma_v_ab * c_gamma\n",
        "    return ngamma_sigma_v_cgamma\n",
        "end\n",
        "\n",
        "function sigma_v_cd(sigma_v_ab, T, mu_ab, mu_cd, ga, gb, gc, gd, Q)\n",
        "    ratio_rate = (mu_ab / mu_cd)^(3 / 2) * ((ga * gb) / (gc * gd)) * exp(-Q / T)\n",
        "    sigma_cd = sigma_v_ab * ratio_rate\n",
        "    return sigma_cd\n",
        "end\n",
        "\n"
      ],
      "id": "4GkdrtJk-VAB"
    },
    {
      "cell_type": "code",
      "execution_count": null,
      "metadata": {
        "id": "adL3GFYZRWOi"
      },
      "outputs": [],
      "source": [
        "using SpecialFunctions"
      ],
      "id": "adL3GFYZRWOi"
    },
    {
      "cell_type": "code",
      "execution_count": null,
      "metadata": {
        "colab": {
          "base_uri": "https://localhost:8080/"
        },
        "id": "WUlT5XRO-YIz",
        "outputId": "418d24fa-c7e6-4611-a256-871b1d9dbb59"
      },
      "outputs": [
        {
          "output_type": "execute_result",
          "data": {
            "text/plain": [
              "D3He_p4He_reverse (generic function with 1 method)"
            ]
          },
          "metadata": {},
          "execution_count": 600
        }
      ],
      "source": [
        "#=\n",
        "function pn_gammaD_reverse(z)\n",
        "    value1 = pn_gammaD(z)\n",
        "    T = m_e / z\n",
        "    mu_ab = 469.68\n",
        "    ga = 2\n",
        "    gb = 2\n",
        "    gc = 3\n",
        "    Q = 1.7135810198702273\n",
        "    rate1r = threegamma_1two(value1, T, mu_ab, ga, gb, gc, Q)\n",
        "    return rate1r\n",
        "end\n",
        "=#\n",
        "function pn_gammaD_reverse(z)\n",
        "    term1 = (Xp_in(z) * Xn_in(z)) / Xi(z, 3, 2, 0.511, 938.27, 940.6, 1875.62, 6.13832e-10, 3.354, 1)\n",
        "    reverse_rate = term1 * pn_gammaD(z)\n",
        "    return reverse_rate\n",
        "end\n",
        "\n",
        "#=\n",
        "function Dp_gamma3He_reverse(z)\n",
        "    value1 = Dp_gamma3He(z)\n",
        "    T = m_e / z\n",
        "    mu_ab = 621.96\n",
        "    ga = 3\n",
        "    gb = 2\n",
        "    gc = 2\n",
        "    Q = 4.882\n",
        "    rate1r = threegamma_1two(value1, T, mu_ab, ga, gb, gc, Q)\n",
        "    return rate1r\n",
        "end\n",
        "=#\n",
        "function Dp_gamma3He_reverse(z)\n",
        "    term1 = (Xp_in(z) * (Xi(z, 3, 2, 0.511, 938.27, 940.6, 1875.62, 6.13832e-10, 3.354, 1)) /\n",
        "             Xi(z, 2, 3, 0.511, 938.27, 940.6, 2809.431, 6.13832e-10, 13.11, 2))\n",
        "    reverse_rate = term1 * Dp_gamma3He(z)\n",
        "    return reverse_rate\n",
        "end\n",
        "\n",
        "\n",
        "function DD_n3He_reverse(z)\n",
        "    value1 = DD_n3He(z)\n",
        "    T = m_e / z\n",
        "    mu_ab = 938.0205\n",
        "    mu_cd = 704.10\n",
        "    ga = 3\n",
        "    gb = 3\n",
        "    gc = 2\n",
        "    gd = 2\n",
        "    Q = 3.0935\n",
        "    rate1r = sigma_v_cd(value1, T, mu_ab, mu_cd, ga, gb, gc, gd, Q)\n",
        "    return rate1r\n",
        "end\n",
        "\n",
        "\n",
        "#=\n",
        "function DD_n3He_reverse(z)\n",
        "   term1=((Xi(z, 3, 2, 0.511, 938.27, 940.6, 1875.62, 6.13832e-10, 3.354, 1)^2)/\n",
        "   (Xi(z, 2, 3, 0.511, 938.27, 940.6, 2809.431, 6.13832e-10, 13.11, 2)*Xn_in(z)))\n",
        "   reverse_rate=term1*DD_n3He(z)\n",
        "   return reverse_rate\n",
        "end\n",
        "=#\n",
        "\n",
        "\n",
        "\n",
        "function DD_p3H_reverse(z)\n",
        "    value1 = DD_p3H(z)\n",
        "    T = m_e / z\n",
        "    mu_ab = 938.0205\n",
        "    mu_cd = 703.36\n",
        "    ga = 3\n",
        "    gb = 3\n",
        "    gc = 2\n",
        "    gd = 2\n",
        "    Q = 4.36035\n",
        "    rate1r = sigma_v_cd(value1, T, mu_ab, mu_cd, ga, gb, gc, gd, Q)\n",
        "    return rate1r\n",
        "end\n",
        "\n",
        "#=\n",
        "function DD_p3H_reverse(z)\n",
        "  term1=((Xi(z, 3, 2, 0.511, 938.27, 940.6, 1875.62, 6.13832e-10, 3.354, 1)^2)/\n",
        "   (Xi(z,2,3,0.511,938.27,940.6,2809.45,6.13832e-10,16.63,1)*Xp_in(z)))\n",
        "  reverse_rate=term1*DD_p3H(z)\n",
        "  return reverse_rate\n",
        "end\n",
        "=#\n",
        "\n",
        "function n3He_p3h_reverse(z)\n",
        "    value1 = n3He_p3h(z)\n",
        "    T = m_e / z\n",
        "    mu_ab = 704.098\n",
        "    mu_cd = 703.36\n",
        "    ga = 2\n",
        "    gb = 2\n",
        "    gc = 2\n",
        "    gd = 2\n",
        "    Q = 1.2808\n",
        "    rate1r = sigma_v_cd(value1, T, mu_ab, mu_cd, ga, gb, gc, gd, Q)\n",
        "    return rate1r\n",
        "end\n",
        "\n",
        "#=\n",
        "\n",
        "function n3He_p3h_reverse(z)\n",
        "  term1=((Xi(z, 2, 3, 0.511, 938.27, 940.6, 2809.431, 6.13832e-10, 13.11, 2)*Xn_in(z))/\n",
        "   (Xi(z,2,3,0.511,938.27,940.6,2809.45,6.13832e-10,16.63,1)*Xp_in(z)))\n",
        "  reverse_rate=term1*n3He_p3h(z)\n",
        "  return reverse_rate\n",
        "end\n",
        "=#\n",
        "\n",
        "\n",
        "function D3H_4Hen_reverse(z)\n",
        "    value1 = D3H_4Hen(z)\n",
        "    T = m_e / z\n",
        "    mu_ab = 1124.735\n",
        "    mu_cd = 750.455\n",
        "    ga = 3\n",
        "    gb = 2\n",
        "    gc = 1\n",
        "    gd = 2\n",
        "    Q = 17.075\n",
        "    rate1r = sigma_v_cd(value1, T, mu_ab, mu_cd, ga, gb, gc, gd, Q)\n",
        "    return rate1r\n",
        "end\n",
        "\n",
        "\n",
        "#=\n",
        "function D3H_4Hen_reverse(z)\n",
        "  term1=((Xi(z,2,3,0.511,938.27,940.6,2809.45,6.13832e-10,16.63,1)*Xi(z,3,2,0.511,938.27,940.6,1875.62,6.13832e-10,3.354,1))\n",
        "  /(Xi(z,1,4,0.511,938.27,940.6,3728.42,6.13832e-10,55.32,2)*Xn_in(z)))\n",
        "  reverse_rate=term1*D3H_4Hen(z)\n",
        "  return reverse_rate\n",
        "end\n",
        "=#\n",
        "\n",
        "\n",
        "function D3He_p4He_reverse(z)\n",
        "    value1 = D3He_p4He(z)\n",
        "    T = m_e / z\n",
        "    mu_ab = 1124.7322\n",
        "    mu_cd = 749.625\n",
        "    ga = 3\n",
        "    gb = 2\n",
        "    gc = 2\n",
        "    gd = 1\n",
        "    Q = 18.3561\n",
        "    rate1r = sigma_v_cd(value1, T, mu_ab, mu_cd, ga, gb, gc, gd, Q)\n",
        "    return rate1r\n",
        "end\n",
        "\n",
        "#=\n",
        "function D3He_p4He_reverse(z)\n",
        "  term1=((Xi(z, 3, 2, 0.511, 938.27, 940.6, 1875.62, 6.13832e-10, 3.354, 1)*Xi(z, 2, 3, 0.511, 938.27, 940.6, 2809.431, 6.13832e-10, 13.11, 2))\n",
        "  /(Xp_in(z)*Xi(z,1,4,0.511,938.27,940.6,3728.42,6.13832e-10,53.32,2)))\n",
        "  reverse_rate=term1*D3He_p4He(z)\n",
        "  return reverse_rate\n",
        "end\n",
        "=#\n"
      ],
      "id": "WUlT5XRO-YIz"
    },
    {
      "cell_type": "code",
      "execution_count": null,
      "metadata": {
        "id": "IzycNsCH_yAd",
        "colab": {
          "base_uri": "https://localhost:8080/"
        },
        "outputId": "33592257-9d8e-4e8a-f788-eee07a7da69b"
      },
      "outputs": [
        {
          "output_type": "execute_result",
          "data": {
            "text/plain": [
              "coff_D3H_4Hen (generic function with 1 method)"
            ]
          },
          "metadata": {},
          "execution_count": 601
        }
      ],
      "source": [
        "\n",
        "# T-1\n",
        "function coff_gammaD_pn(z,xn,xp,xd)\n",
        "    return (pn_gammaD_reverse(z) * xd - pn_gammaD(z) * xp * xn)\n",
        "end\n",
        "\n",
        "# T-2\n",
        "function coff_gamma3He_Dp(z,x_3He,xd,xp)\n",
        "    return (Dp_gamma3He_reverse(z) * x_3He - Dp_gamma3He(z) * xd * xp)\n",
        "end\n",
        "\n",
        "# T-3\n",
        "function coff_DD_p3H(z,xd,xp,x_3H)\n",
        "    return (DD_p3H(z) * xd^2 / 2 - DD_p3H_reverse(z) * xp * x_3H)\n",
        "end\n",
        "\n",
        "# T-4\n",
        "function coff_n3he_p3h(z,xn,x_3He,x_3H,xp)\n",
        "    return (n3He_p3h(z) * x_3He * xn - n3He_p3h_reverse(z) * xp * x_3H)\n",
        "end\n",
        "\n",
        "# T-5\n",
        "function coff_D3He_p4He(z,x_3He,xd,xp,x_4He)\n",
        "    return (D3He_p4He(z) * x_3He * xd - D3He_p4He_reverse(z) * xp * x_4He)\n",
        "end\n",
        "\n",
        "# T-6\n",
        "function coff_DD_n3He(z,xd,xn,x_3He)\n",
        "    return (DD_n3He(z) * xd^2 / 2 - DD_n3He_reverse(z) * xn * x_3He)\n",
        "end\n",
        "\n",
        "# T-7\n",
        "function coff_D3H_4Hen(z,xd,x_3H,x_4He,xn)\n",
        "    return (D3H_4Hen(z) * x_3H * xd - D3H_4Hen_reverse(z) * xn * x_4He)\n",
        "end\n",
        "\n"
      ],
      "id": "IzycNsCH_yAd"
    },
    {
      "cell_type": "code",
      "execution_count": null,
      "metadata": {
        "id": "iCP7rnAm-jk1",
        "colab": {
          "base_uri": "https://localhost:8080/"
        },
        "outputId": "4ab31d6d-de18-4e2d-f22b-c71ccd1fac54"
      },
      "outputs": [
        {
          "output_type": "execute_result",
          "data": {
            "text/plain": [
              "x4He_rates (generic function with 1 method)"
            ]
          },
          "metadata": {},
          "execution_count": 602
        }
      ],
      "source": [
        "\n",
        "function xp_rates(z,xn,xp,xd,x_3H,x_3He,x_4He)\n",
        "    value = (lambda_np(z) * xn - lambda_pn(z) * xp + coff_gammaD_pn(z, xn, xp, xd) + coff_gamma3He_Dp(z, x_3He, xd, xp) +\n",
        "             coff_DD_p3H(z, xd, xp, x_3H) + coff_n3he_p3h(z, xn, x_3He, x_3H, xp) + coff_D3He_p4He(z, x_3He, xd, xp, x_4He)) * dt_dz(z)\n",
        "    return value\n",
        "end\n",
        "\n",
        "function xn_rates(z,xn,xp,xd,x_3H,x_3He,x_4He)\n",
        "    value = (lambda_pn(z) * xp - lambda_np(z) * xn + coff_gammaD_pn(z, xn, xp, xd) + coff_DD_n3He(z, xd, xn, x_3He) - coff_n3he_p3h(z, xn, x_3He, x_3H, xp) +\n",
        "             coff_D3H_4Hen(z, xd, x_3H, x_4He, xn)) * dt_dz(z)\n",
        "    return value\n",
        "end\n",
        "\n",
        "function xd_rates(z,xn,xp,xd,x_3H,x_3He,x_4He)\n",
        "    value = (-coff_gammaD_pn(z, xn, xp, xd) + coff_gamma3He_Dp(z, x_3He, xd, xp) + 2 * (-coff_DD_n3He(z, xd, xn, x_3He)) + 2 * (-coff_DD_p3H(z, xd, xp, x_3H)) -\n",
        "             coff_D3H_4Hen(z, xd, x_3H, x_4He, xn) - coff_D3He_p4He(z, x_3He, xd, xp, x_4He)) * dt_dz(z)\n",
        "    return value\n",
        "end\n",
        "\n",
        "function x3H_rates(z,xn,xp,xd,x_3H,x_3He,x_4He)\n",
        "    value = (coff_DD_p3H(z, xd, xp, x_3H) + coff_n3he_p3h(z, xn, x_3He, x_3H, xp) - coff_D3H_4Hen(z, xd, x_3H, x_4He, xn)) * dt_dz(z)\n",
        "    return value\n",
        "end\n",
        "\n",
        "function x3He_rates(z,xn,xp,xd,x_3H,x_3He,x_4He)\n",
        "    value = (-coff_gamma3He_Dp(z, x_3He, xd, xp) + coff_DD_n3He(z, xd, xn, x_3He) - coff_n3he_p3h(z, xn, x_3He, x_3H, xp) - coff_D3He_p4He(z, x_3He, xd, xp, x_4He)) * dt_dz(z)\n",
        "    return value\n",
        "end\n",
        "\n",
        "function x4He_rates(z,xn,xp,xd,x_3H,x_3He,x_4He)\n",
        "    value = (coff_D3He_p4He(z, x_3He, xd, xp, x_4He)+coff_D3H_4Hen(z, xd, x_3H, x_4He, xn)) * dt_dz(z)\n",
        "    return value\n",
        "end\n",
        "\n"
      ],
      "id": "iCP7rnAm-jk1"
    },
    {
      "cell_type": "code",
      "execution_count": null,
      "metadata": {
        "id": "K4bbtvF--r00"
      },
      "outputs": [],
      "source": [
        "#=\n",
        "function xp_rates(z,  xn, xp, xd, x_3H, x_3He, x_4He)\n",
        "    value = (lambda_np(z) * xn - lambda_pn(z) * xp +\n",
        "             (pn_gammaD_reverse(z) * xd - pn_gammaD(z) * xp * xn) +\n",
        "             (Dp_gamma3He_reverse(z) * x_3He - Dp_gamma3He(z) * xd * xp) +\n",
        "             (DD_p3H(z) * xd^2 / 2 - DD_p3H_reverse(z) * xp * x_3H) +\n",
        "             (n3He_p3h(z) * x_3He * xn - n3He_p3h_reverse(z) * xp * x_3H) +\n",
        "             (D3He_p4He(z) * x_3He * xd - D3He_p4He_reverse(z) * xp * x_4He)) * dt_dz(z)\n",
        "    return value\n",
        "end\n",
        "\n",
        "function xn_rates(z,  xn, xp, xd, x_3H, x_3He, x_4He)\n",
        "    value = (lambda_pn(z) * xp - lambda_np(z) * xn +\n",
        "             (pn_gammaD_reverse(z) * xd - pn_gammaD(z) * xp * xn) +\n",
        "             (DD_n3He(z) * xd^2 / 2 - DD_n3He_reverse(z) * xn * x_3He) -\n",
        "             (n3He_p3h(z) * xn * x_3He - n3He_p3h_reverse(z) * xp * x_3H) +\n",
        "             (D3H_4Hen(z) * x_3H * xd - D3H_4Hen_reverse(z) * xn * x_4He)) * dt_dz(z)\n",
        "    return value\n",
        "end\n",
        "\n",
        "function xd_rates(z, xn, xp, xd, x_3H, x_3He, x_4He)\n",
        "    value = (-(pn_gammaD_reverse(z) * xd - pn_gammaD(z) * xp * xn) +\n",
        "             (Dp_gamma3He_reverse(z) * x_3He - Dp_gamma3He(z) * xd * xp) +\n",
        "             2 * (-(DD_n3He(z) * xd^2 / 2 - DD_n3He_reverse(z) * xn * x_3He)) +\n",
        "             2 * (-(DD_p3H(z) * xd^2 / 2 - DD_p3H_reverse(z) * xp * x_3H)) -\n",
        "             (D3H_4Hen(z) * x_3H * xd - D3H_4Hen_reverse(z) * xn * x_4He) -\n",
        "             (D3He_p4He(z) * x_3He * xd -  D3He_p4He_reverse(z) * xp * x_4He)) * dt_dz(z)\n",
        "    return value\n",
        "end\n",
        "\n",
        "function x3H_rates(z,  xn, xp, xd, x_3H, x_3He, x_4He)\n",
        "    value = ((DD_p3H(z) * xd^2 / 2 - DD_p3H_reverse(z) * xp * x_3H) +\n",
        "             (n3He_p3h(z) * x_3He * xn - n3He_p3h_reverse(z) * xp * x_3H) -\n",
        "             (D3He_p4He(z) * x_3He * xd - D3He_p4He_reverse(z) * xp * x_4He)) * dt_dz(z)\n",
        "    return value\n",
        "end\n",
        "\n",
        "function x3He_rates(z,  xn, xp, xd, x_3H, x_3He, x_4He)\n",
        "    value = (-(Dp_gamma3He_reverse(z) * x_3He - Dp_gamma3He(z) * xd * xp) +\n",
        "             (DD_n3He(z) * xd^2 / 2 - DD_n3He_reverse(z) * xn * x_3He) -\n",
        "             (n3He_p3h(z) * x_3He * xn - n3He_p3h_reverse(z) * xp * x_3H) -\n",
        "             (D3He_p4He(z) * x_3He * xd - D3He_p4He_reverse(z) * xp * x_4He)) * dt_dz(z)\n",
        "    return value\n",
        "end\n",
        "\n",
        "function x4He_rates(z, xn, xp, xd, x_3H, x_3He, x_4He)\n",
        "    value = (( D3He_p4He(z) * x_3He * xd - D3He_p4He_reverse(z) * xp * x_4He)+(D3H_4Hen(z) * x_3H * xd -  D3H_4Hen_reverse(z) * xn * x_4He) )* dt_dz(z)\n",
        "    return value\n",
        "end\n",
        "=#"
      ],
      "id": "K4bbtvF--r00"
    },
    {
      "cell_type": "code",
      "execution_count": null,
      "metadata": {
        "colab": {
          "base_uri": "https://localhost:8080/"
        },
        "id": "D0xKrG68_VR7",
        "outputId": "c7de3328-ff89-4629-e9c9-1bc1f648a555"
      },
      "outputs": [
        {
          "output_type": "execute_result",
          "data": {
            "text/plain": [
              "Xn_in (generic function with 1 method)"
            ]
          },
          "metadata": {},
          "execution_count": 604
        }
      ],
      "source": [
        "function Xp_in(z)\n",
        "    initial_val = 1 / (exp(-2.530 * z) + 1)\n",
        "    return initial_val\n",
        "end\n",
        "\n",
        "function Xn_in(z)\n",
        "    initial_val = 1 / (exp(2.530 * z) + 1)\n",
        "    return initial_val\n",
        "end\n"
      ],
      "id": "D0xKrG68_VR7"
    },
    {
      "cell_type": "code",
      "execution_count": null,
      "metadata": {
        "colab": {
          "base_uri": "https://localhost:8080/"
        },
        "id": "hbESzN_M_jy_",
        "outputId": "5e03dc78-285d-4b72-b936-0c775979bc38"
      },
      "outputs": [
        {
          "output_type": "execute_result",
          "data": {
            "text/plain": [
              "Xi (generic function with 1 method)"
            ]
          },
          "metadata": {},
          "execution_count": 605
        }
      ],
      "source": [
        "using SpecialFunctions\n",
        "\n",
        "function Xi(z_in, g_i, Ai, m_e, m_p, m_n, MN, eta_i, Bi, Zi)\n",
        "    Xp = Xp_in(z_in)\n",
        "    Xn = Xn_in(z_in)\n",
        "\n",
        "    term1 = g_i / 2\n",
        "    term2 = (zeta(3) * sqrt(8 / π))^(Ai - 1)\n",
        "    term3 = (MN / (m_p^Zi * m_n^(Ai - Zi)))^(3 / 2)\n",
        "    term4 = (m_e / z_in)^(3 / 2) * (Ai - 1)\n",
        "    term5 = eta_i^(Ai - 1)\n",
        "    term6 = Xp^Zi\n",
        "    term7 = Xn^(Ai - Zi)\n",
        "    term8 = exp(Bi * z_in)\n",
        "\n",
        "    result = term1 * term2 * term3 * term4 * term5 * term6 * term7 * term8\n",
        "\n",
        "    return result\n",
        "end\n",
        "\n"
      ],
      "id": "hbESzN_M_jy_"
    },
    {
      "cell_type": "code",
      "execution_count": null,
      "metadata": {
        "colab": {
          "base_uri": "https://localhost:8080/"
        },
        "id": "VB6l5VnCPi89",
        "outputId": "e7df9f24-4d61-4516-b655-efbe00a834fd"
      },
      "outputs": [
        {
          "output_type": "execute_result",
          "data": {
            "text/plain": [
              "1000-element LinRange{Float64, Int64}:\n",
              " 0.73, 0.829369, 0.928739, 1.02811, …, 99.7019, 99.8013, 99.9006, 100.0"
            ]
          },
          "metadata": {},
          "execution_count": 977
        }
      ],
      "source": [
        "using LinearAlgebra\n",
        "z_evolve = LinRange(0.73,100, 1000)"
      ],
      "id": "VB6l5VnCPi89"
    },
    {
      "cell_type": "code",
      "execution_count": null,
      "metadata": {
        "id": "_qJ1C-MOfLz6"
      },
      "outputs": [],
      "source": [
        "#xp_rate(z, xn, xp, xd, x_3He, x_3H, x_4He)\n",
        "#xn_rate(z, xp, xn, xd, x_3He, x_3H, x_4He)\n",
        "#1=p\n",
        "#2=n\n",
        "#3=d\n",
        "#4=3H\n",
        "#5=3He\n",
        "#6=4He"
      ],
      "id": "_qJ1C-MOfLz6"
    },
    {
      "cell_type": "code",
      "execution_count": null,
      "metadata": {
        "colab": {
          "base_uri": "https://localhost:8080/"
        },
        "id": "yVnZE2dbBG3y",
        "outputId": "9ea8cb3f-980a-4c4b-f15c-066aaac8eab8"
      },
      "outputs": [
        {
          "output_type": "execute_result",
          "data": {
            "text/plain": [
              "dYdz (generic function with 1 method)"
            ]
          },
          "metadata": {},
          "execution_count": 979
        }
      ],
      "source": [
        "#=\n",
        "function dYdz(u,p,z)\n",
        "    xp, xn, xd, x_3H, x_3He, x_4He = u\n",
        "    dxp=xp_rates(z, u[2], u[1], u[3], u[5], u[4], u[6])\n",
        "    dxn=xn_rates(z, u[1], u[2], u[3], u[5], u[4], u[6])\n",
        "    dxd=xd_rates(z, u[3], u[1], u[2], u[5], u[4], u[6])\n",
        "    dx3h=x3H_rates(z, u[3], u[1], u[5], u[2], u[4], u[6])\n",
        "    dx3he=x3He_rates(z, u[5], u[3], u[1], u[6], u[4], u[2])\n",
        "    dx4he=x4He_rates(z, u[5], u[3], u[1], u[6], u[4],u[2])\n",
        "    return [dxp,dxn,dxd,dx3h,dx3he,dx4he]\n",
        "end\n",
        "=#\n",
        "\n",
        "function dYdz(u,p,z)\n",
        "    xn,xp,xd,x_3H,x_3He,x_4He = u\n",
        "    dxn=xn_rates(z,u[1],u[2],u[3],u[4],u[5],u[6])\n",
        "    dxp=xp_rates(z,u[1],u[2],u[3],u[4],u[5],u[6])\n",
        "    dxd=xd_rates(z,u[1],u[2],u[3],u[4],u[5],u[6])\n",
        "    dx3h=x3H_rates(z,u[1],u[2],u[3],u[4],u[5],u[6])\n",
        "    dx3he=x3He_rates(z,u[1],u[2],u[3],u[4],u[5],u[6])\n",
        "    dx4he=x4He_rates(z,u[1],u[2],u[3],u[4],u[5],u[6])\n",
        "    return [dxn,dxp,dxd,dx3h,dx3he,dx4he]\n",
        "end\n"
      ],
      "id": "yVnZE2dbBG3y"
    },
    {
      "cell_type": "code",
      "execution_count": null,
      "metadata": {
        "colab": {
          "base_uri": "https://localhost:8080/"
        },
        "id": "kARobCsoGKrw",
        "outputId": "3ddc048b-3b57-4f8f-ea19-d4c0f0659308"
      },
      "outputs": [
        {
          "output_type": "execute_result",
          "data": {
            "text/plain": [
              "5.2765071425617225e-25"
            ]
          },
          "metadata": {},
          "execution_count": 980
        }
      ],
      "source": [
        "xd0 = Xi(minimum(z_evolve), 3, 2, 0.511, 938.27, 940.6, 1875.62, 6.13832e-10, 3.3523, 1)\n",
        "x3h0 = Xi(minimum(z_evolve), 2, 3, 0.511, 938.27, 940.6, 2809.45, 6.13832e-10, 16.63, 1)\n",
        "x3he0 = Xi(minimum(z_evolve), 2, 3, 0.511, 938.27, 940.6, 2809.431, 6.13832e-10, 13.11, 2)\n",
        "x4he0 = Xi(minimum(z_evolve), 1, 4, 0.511, 938.27, 940.6, 3728.42, 6.13832e-10, 53.32, 2)"
      ],
      "id": "kARobCsoGKrw"
    },
    {
      "cell_type": "code",
      "execution_count": null,
      "metadata": {
        "colab": {
          "base_uri": "https://localhost:8080/"
        },
        "id": "zUG-pHCdGtZC",
        "outputId": "189e7f4b-5291-4109-da5a-a9ab1fd8432c"
      },
      "outputs": [
        {
          "output_type": "execute_result",
          "data": {
            "text/plain": [
              "5.2765071425617225e-25"
            ]
          },
          "metadata": {},
          "execution_count": 981
        }
      ],
      "source": [
        "x1_0=Xn_in(minimum(z_evolve))\n",
        "x2_0=Xp_in(minimum(z_evolve))\n",
        "x3_0=xd0\n",
        "x4_0=x3h0\n",
        "x5_0=x3he0\n",
        "x6_0=x4he0\n"
      ],
      "id": "zUG-pHCdGtZC"
    },
    {
      "cell_type": "code",
      "source": [
        "x6_0"
      ],
      "metadata": {
        "colab": {
          "base_uri": "https://localhost:8080/"
        },
        "id": "lCOgow1i3Uq4",
        "outputId": "cd523ab1-5dc7-49a4-b02c-246b6a54d642"
      },
      "id": "lCOgow1i3Uq4",
      "execution_count": null,
      "outputs": [
        {
          "output_type": "execute_result",
          "data": {
            "text/plain": [
              "5.2765071425617225e-25"
            ]
          },
          "metadata": {},
          "execution_count": 982
        }
      ]
    },
    {
      "cell_type": "code",
      "source": [],
      "metadata": {
        "id": "eDrrOaxFDRHe"
      },
      "id": "eDrrOaxFDRHe",
      "execution_count": null,
      "outputs": []
    },
    {
      "cell_type": "code",
      "source": [
        "using LSODA"
      ],
      "metadata": {
        "id": "CzPc4lXhD3KE"
      },
      "id": "CzPc4lXhD3KE",
      "execution_count": null,
      "outputs": []
    },
    {
      "cell_type": "code",
      "execution_count": null,
      "metadata": {
        "colab": {
          "base_uri": "https://localhost:8080/"
        },
        "id": "2yKkQpC-A5fE",
        "outputId": "a2afec72-a274-4dca-9c4e-1bf43a07c68d"
      },
      "outputs": [
        {
          "output_type": "stream",
          "name": "stdout",
          "text": [
            "  74.252 ms (1789530 allocations: 32.07 MiB)\n"
          ]
        }
      ],
      "source": [
        "\n",
        "using DifferentialEquations, BenchmarkTools\n",
        "u0=[x1_0,x2_0,x3_0,x4_0,x5_0,x6_0]\n",
        "tspan = (minimum(z_evolve),maximum(z_evolve))\n",
        "prob = ODEProblem(dYdz, u0, tspan)\n",
        "@btime solve(prob,FBDF(),reltol=1e-6);"
      ],
      "id": "2yKkQpC-A5fE"
    },
    {
      "cell_type": "code",
      "execution_count": null,
      "metadata": {
        "colab": {
          "base_uri": "https://localhost:8080/"
        },
        "id": "UjHediq0HKct",
        "outputId": "9087d292-34f3-4b00-d82a-ca2b89dac014"
      },
      "outputs": [
        {
          "output_type": "execute_result",
          "data": {
            "text/plain": [
              "retcode: Success\n",
              "Interpolation: 3rd order Hermite\n",
              "t: 197-element Vector{Float64}:\n",
              "   0.73\n",
              "   0.7300000000000142\n",
              "   0.7300000014065247\n",
              "   0.7300020711881364\n",
              "   0.7300814212467606\n",
              "   0.7307639770154596\n",
              "   0.7327561550523894\n",
              "   0.7351960454331486\n",
              "   0.7379201406741841\n",
              "   0.7462586225427151\n",
              "   0.7545971044112462\n",
              "   0.7643042420658692\n",
              "   0.7740113797204923\n",
              "   ⋮\n",
              "  17.74583784751436\n",
              "  19.002762221737857\n",
              "  20.42234312310951\n",
              "  22.249452066619405\n",
              "  24.92577031718392\n",
              "  27.95784092560521\n",
              "  32.34945422401148\n",
              "  38.644773849430265\n",
              "  47.58624773542006\n",
              "  60.89311889682838\n",
              "  82.19719613895532\n",
              " 100.0\n",
              "u: 197-element Vector{Vector{Float64}}:\n",
              " [0.13623728353850564, 0.8637627164614944, 1.3781223277175166e-13, 3.034377099383731e-23, 1.4784826762941778e-23, 5.2765071425617225e-25]\n",
              " [0.13623728353850548, 0.8637627164614942, 1.379760942731469e-13, 3.0343770276184276e-23, 1.4784807697937685e-23, 5.2765071425617225e-25]\n",
              " [0.13623728353740805, 0.8637627164625915, 1.379833641654859e-13, 3.027305696282331e-23, 1.4784854003107643e-23, 5.27650714255954e-25]\n",
              " [0.1362372819205404, 0.8637627180794593, 1.3798383578243373e-13, 1.6527637773515113e-23, 1.4785174937130415e-23, 5.276507138347895e-25]\n",
              " [0.1362372170606569, 0.8637627829393427, 1.3799790554584723e-13, 1.4460291307188967e-23, 1.4798135935349772e-23, 5.276506987986563e-25]\n",
              " [0.13623657913135725, 0.8637634208685647, 1.3811989779468975e-13, 7.361966731369682e-24, 1.4910176032246486e-23, 5.276505412933948e-25]\n",
              " [0.13623341461656985, 0.8637665853834061, 1.3847650723154808e-13, 1.4987275108325448e-23, 1.524211830748649e-23, 5.276502148768624e-25]\n",
              " [0.13622721264960808, 0.8637727873503701, 1.3891460763400564e-13, 1.5501442395916368e-23, 1.5658783000079233e-23, 5.276498349456449e-25]\n",
              " [0.13621730703610285, 0.863782692963877, 1.3940552800562154e-13, 1.607157431585132e-23, 1.6137527135135923e-23, 5.2764946462238685e-25]\n",
              " [0.1361685818611687, 0.863831418138515, 1.4092081632797345e-13, 1.8239567171310156e-23, 1.769646821080973e-23, 5.276485289735069e-25]\n",
              " [0.13609411941481123, 0.863905880584687, 1.4245654355982364e-13, 2.014665219423038e-23, 1.9407120876248368e-23, 5.276480224717443e-25]\n",
              " [0.13597862674721214, 0.8640213732521701, 1.4427287670220416e-13, 2.2959330252890018e-23, 2.1609766745971746e-23, 5.276478458440912e-25]\n",
              " [0.1358358407324691, 0.8641641592668783, 1.4612287673707202e-13, 2.6180908435922455e-23, 2.4064904152923123e-23, 5.276480113969966e-25]\n",
              " ⋮\n",
              " [4.435958498023102e-7, 0.8669476377285603, 6.282696862854422e-5, 3.704950219203361e-7, 1.2495307551206858e-5, 0.03322191683255061]\n",
              " [3.181452558532702e-7, 0.8669475851211771, 5.840149431801822e-5, 3.1343551237021116e-7, 1.2566339722816786e-5, 0.03322416360470361]\n",
              " [2.486634393264553e-7, 0.8669475242636198, 5.4824458160370986e-5, 2.845640052006845e-7, 1.2714752110669353e-5, 0.033225895051965375]\n",
              " [1.7205585841634997e-7, 0.8669474745864487, 5.186256118876208e-5, 2.395293778068581e-7, 1.2831298180208262e-5, 0.03322735393805755]\n",
              " [1.3196102684303743e-7, 0.8669473843036227, 4.939347813179697e-5, 2.2031268986085965e-7, 1.3076518369935748e-5, 0.03322845157137395]\n",
              " [8.620185527216906e-8, 0.8669473332905302, 4.764100684788041e-5, 1.9402599347214016e-7, 1.3249722739480342e-5, 0.03322924181182696]\n",
              " [5.325843569704564e-8, 0.8669472934670379, 4.605366685174807e-5, 1.7279349032476178e-7, 1.3447740050904596e-5, 0.03322992108494667]\n",
              " [2.9798562692066166e-8, 0.8669472883700772, 4.47693981417007e-5, 1.5587871112245423e-7, 1.3634879001024063e-5, 0.03323044269038186]\n",
              " [1.3542580806762871e-8, 0.8669473068551717, 4.381696415708183e-5, 1.4199648103368057e-7, 1.3791651414891476e-5, 0.03323081118245815]\n",
              " [4.789551127270701e-9, 0.8669473374902372, 4.308860710792949e-5, 1.3397431673991575e-7, 1.3923535761384224e-5, 0.03323107699383708]\n",
              " [9.133095300868833e-10, 0.8669473568368707, 4.252284916052634e-5, 1.2569548062674462e-7, 1.4025634783764067e-5, 0.03323128564007306]\n",
              " [3.8470189917940624e-10, 0.866947364448974, 4.236645603167971e-5, 1.2393850320511848e-7, 1.405565480641463e-5, 0.03323134086847964]"
            ]
          },
          "metadata": {},
          "execution_count": 993
        }
      ],
      "source": [
        "sol_y=solve(prob,FBDF(),reltol=1e-6)"
      ],
      "id": "UjHediq0HKct"
    },
    {
      "cell_type": "code",
      "source": [],
      "metadata": {
        "id": "ap3UkAWuD08-"
      },
      "id": "ap3UkAWuD08-",
      "execution_count": null,
      "outputs": []
    },
    {
      "cell_type": "code",
      "execution_count": null,
      "metadata": {
        "colab": {
          "base_uri": "https://localhost:8080/"
        },
        "id": "GcgLF44gi5I9",
        "outputId": "782a0bd8-6ac4-49e5-f852-0ac88c66e254"
      },
      "outputs": [
        {
          "output_type": "execute_result",
          "data": {
            "text/plain": [
              "197-element Vector{Float64}:\n",
              " 5.2765071425617225e-25\n",
              " 5.2765071425617225e-25\n",
              " 5.27650714255954e-25\n",
              " 5.276507138347895e-25\n",
              " 5.276506987986563e-25\n",
              " 5.276505412933948e-25\n",
              " 5.276502148768624e-25\n",
              " 5.276498349456449e-25\n",
              " 5.2764946462238685e-25\n",
              " 5.276485289735069e-25\n",
              " 5.276480224717443e-25\n",
              " 5.276478458440912e-25\n",
              " 5.276480113969966e-25\n",
              " ⋮\n",
              " 0.03322191683255061\n",
              " 0.03322416360470361\n",
              " 0.033225895051965375\n",
              " 0.03322735393805755\n",
              " 0.03322845157137395\n",
              " 0.03322924181182696\n",
              " 0.03322992108494667\n",
              " 0.03323044269038186\n",
              " 0.03323081118245815\n",
              " 0.03323107699383708\n",
              " 0.03323128564007306\n",
              " 0.03323134086847964"
            ]
          },
          "metadata": {},
          "execution_count": 995
        }
      ],
      "source": [
        "\n",
        "# xp, xn, xd, x_3H, x_3He, x_4He\n",
        "z_val = sol_y.t\n",
        "xn_val = sol_y[1, :]\n",
        "xp_val = sol_y[2, :]\n",
        "xd_val = sol_y[3, :]\n",
        "x3h_val = sol_y[4, :]\n",
        "x3he_val = sol_y[5, :]\n",
        "x4he_val = sol_y[6, :]\n"
      ],
      "id": "GcgLF44gi5I9"
    },
    {
      "cell_type": "code",
      "source": [
        "x1_0"
      ],
      "metadata": {
        "colab": {
          "base_uri": "https://localhost:8080/"
        },
        "id": "PW_4shohz3L7",
        "outputId": "012a745c-d8cd-4b8f-bfc8-ed5df985b4ba"
      },
      "id": "PW_4shohz3L7",
      "execution_count": null,
      "outputs": [
        {
          "output_type": "execute_result",
          "data": {
            "text/plain": [
              "0.13623728353850564"
            ]
          },
          "metadata": {},
          "execution_count": 996
        }
      ]
    },
    {
      "cell_type": "code",
      "source": [
        "x2_0"
      ],
      "metadata": {
        "colab": {
          "base_uri": "https://localhost:8080/"
        },
        "id": "UhTplyacz8tm",
        "outputId": "d87ca151-238a-4cf7-dff5-068a00fa9fb6"
      },
      "id": "UhTplyacz8tm",
      "execution_count": null,
      "outputs": [
        {
          "output_type": "execute_result",
          "data": {
            "text/plain": [
              "0.8637627164614944"
            ]
          },
          "metadata": {},
          "execution_count": 997
        }
      ]
    },
    {
      "cell_type": "code",
      "execution_count": null,
      "metadata": {
        "colab": {
          "base_uri": "https://localhost:8080/",
          "height": 604
        },
        "id": "Zny31tJ-o8ss",
        "outputId": "c0391d40-1cae-46b6-95e6-ffcf52a2cf74"
      },
      "outputs": [
        {
          "output_type": "display_data",
          "data": {
            "text/plain": [
              "Figure(PyObject <Figure size 1000x600 with 1 Axes>)"
            ],
            "image/png": "[encoded data removed]"
          },
          "metadata": {}
        },
        {
          "output_type": "execute_result",
          "data": {
            "text/plain": [
              "PyObject <matplotlib.legend.Legend object at 0x7e33a70e9ba0>"
            ]
          },
          "metadata": {},
          "execution_count": 1000
        }
      ],
      "source": [
        "#=\n",
        "plot(z_val, xn_val, linewidth=2, label=L\"$n$\")\n",
        "plot(z_val, xp_val, linewidth=2, label=L\"$p$\")\n",
        "plot(z_val, xd_val, linewidth=2, label=L\"$D$\")\n",
        "plot(z_val, x3h_val, linewidth=2, label=L\"$^{3}H$\")\n",
        "plot(z_val, x3he_val, linewidth=2, label=L\"$^{3}He$\")\n",
        "plot(z_val, x4he_val, linewidth=2, label=L\"$^{4}He$\")\n",
        "\n",
        "yscale(\"log\")\n",
        "xscale(\"log\")\n",
        "xlabel(L\"$z=\\frac{m_e}{T_{\\gamma(MeV)}}$\", fontsize=14)\n",
        "legend()\n",
        "=#\n",
        "using PyPlot\n",
        "\n",
        "\n",
        "\n",
        "# Create the figure and axis\n",
        "fig, ax = subplots(figsize=(10, 6))\n",
        "\n",
        "# Plot the data with customizations\n",
        "ax.plot(\n",
        "    z_val, xn_val, linewidth=2, label=L\"$n$\", color=\"blue\"\n",
        ")\n",
        "ax.plot(\n",
        "    z_val, xp_val, linewidth=2, label=L\"$p$\", color=\"red\"\n",
        ")\n",
        "ax.plot(\n",
        "    z_val, xd_val, linewidth=2, label=L\"$D$\", color=\"green\"\n",
        ")\n",
        "ax.plot(\n",
        "    z_val, x3h_val, linewidth=2, label=L\"$^{3}H$\", color=\"purple\"\n",
        ")\n",
        "ax.plot(\n",
        "    z_val, x3he_val, linewidth=2, label=L\"$^{3}He$\", color=\"orange\"\n",
        ")\n",
        "ax.plot(\n",
        "    z_val, x4he_val, linewidth=2, label=L\"$^{4}He$\", color=\"deeppink\"\n",
        ")\n",
        "\n",
        "# Set scale to logarithmic\n",
        "ax.set_yscale(\"log\")\n",
        "ax.set_xscale(\"log\")\n",
        "\n",
        "# Labeling and legend\n",
        "ax.set_xlabel(L\"z=m_e/T_{\\gamma}}\", size=16)\n",
        "ax.set_ylabel(L\"\\mathrm{Fractional\\ Abundance\\ }(X_{i})\", size=16)\n",
        "ax.set_title(L\"\\mathrm{BBN\\ Abundances}\", size=18)\n",
        "\n",
        "# Add a grid\n",
        "ax.grid(\"True\", which=\"both\", linestyle=\"--\", linewidth=0.5)\n",
        "ax.legend()\n",
        "\n"
      ],
      "id": "Zny31tJ-o8ss"
    },
    {
      "cell_type": "code",
      "execution_count": null,
      "metadata": {
        "id": "zkldA80GG5YL"
      },
      "outputs": [],
      "source": [],
      "id": "zkldA80GG5YL"
    },
    {
      "cell_type": "code",
      "execution_count": null,
      "metadata": {
        "id": "XlNqxk7EOPfe"
      },
      "outputs": [],
      "source": [
        "\n"
      ],
      "id": "XlNqxk7EOPfe"
    },
    {
      "cell_type": "code",
      "execution_count": null,
      "metadata": {
        "colab": {
          "base_uri": "https://localhost:8080/"
        },
        "id": "eNEe6hQ5K4S1",
        "outputId": "3a31d552-e85c-4872-8408-e24815ec955a"
      },
      "outputs": [
        {
          "output_type": "execute_result",
          "data": {
            "text/plain": [
              "DD_p3H_alcoc (generic function with 1 method)"
            ]
          },
          "metadata": {},
          "execution_count": 737
        }
      ],
      "source": [
        "function pn_gammaD_andlo(z)\n",
        "    T = m_e / z\n",
        "    T_9 = mev_to_t9kelvin(T)\n",
        "    # nb = 6.14e-10 * 410.73 * (T / 2.7255) ^ 3\n",
        "    NA = 6.022e23\n",
        "    if T_9 <= 1.5\n",
        "        f = (44216. * (1 + 3.75191 * T_9 + 1.92934 * T_9^2 + 0.746503 * T_9^3 + 0.0197023 * T_9^4 + 3.00491e-6 * T_9^5) / (1 + 5.4678 * T_9 + 5.62395 * T_9^2 + 0.489312 * T_9^3 + 0.00747806 * T_9^4))\n",
        "    else\n",
        "        f = (1. - sqrt(T_9) * 0.8504 + T_9 * 0.4895 - T_9^(3/2) * 0.09623 + T_9 * 0.008471 * T_9 - T_9 * 2.8e-4 * T_9^(3/2)) * 47420\n",
        "    end\n",
        "    rate = f\n",
        "    return n_b(z) * rate / NA\n",
        "end\n",
        "\n",
        "\n",
        "function DD_n3He_alcoc(z)\n",
        "    T9 = mev_to_t9kelvin(m_e / z)\n",
        "    if T9 < 0.001\n",
        "        rate = 1.142e-8\n",
        "    elseif 0.001 <= T9 <= 0.0015\n",
        "        rate = 1.142e-8\n",
        "    elseif 0.0015 < T9 <= 0.0025\n",
        "        rate = 5.470e-5\n",
        "    elseif 0.0025 < T9 <= 0.0035\n",
        "        rate = 3.021e-3\n",
        "    elseif 0.0035 < T9 <= 0.0045\n",
        "        rate = 3.732e-2\n",
        "    elseif 0.0045 < T9 <= 0.0055\n",
        "        rate = 2.212e-1\n",
        "    elseif 0.0055 < T9 <= 0.0065\n",
        "        rate = 8.546e-1\n",
        "    elseif 0.0065 < T9 <= 0.0075\n",
        "        rate = 2.505\n",
        "    elseif 0.0075 < T9 <= 0.0085\n",
        "        rate = 6.066\n",
        "    elseif 0.0085 < T9 <= 0.0095\n",
        "        rate = 1.278e1\n",
        "    elseif 0.0095 < T9 <= 0.0105\n",
        "        rate = 2.424e1\n",
        "    elseif 0.0105 < T9 <= 0.0115\n",
        "        rate = 4.237e1\n",
        "    elseif 0.0115 < T9 <= 0.0125\n",
        "        rate = 6.936e1\n",
        "    elseif 0.0125 < T9 <= 0.0135\n",
        "        rate = 1.077e2\n",
        "    elseif 0.0135 < T9 <= 0.0145\n",
        "        rate = 1.600e2\n",
        "    elseif 0.0145 < T9 <= 0.0155\n",
        "        rate = 2.291e2\n",
        "    elseif 0.0155 < T9 <= 0.0170\n",
        "        rate = 3.179e2\n",
        "    elseif 0.0170 < T9 <= 0.0190\n",
        "        rate = 5.667e2\n",
        "    elseif 0.0190 < T9 <= 0.0225\n",
        "        rate = 9.310e2\n",
        "    elseif 0.0225 < T9 <= 0.0275\n",
        "        rate = 2.504e3\n",
        "    elseif 0.0275 < T9 <= 0.0350\n",
        "        rate = 5.301e3\n",
        "    elseif 0.0350 < T9 <= 0.0450\n",
        "        rate = 1.568e4\n",
        "    elseif 0.0450 < T9 <= 0.0550\n",
        "        rate = 3.369e4\n",
        "    elseif 0.0550 < T9 <= 0.0650\n",
        "        rate = 6.013e4\n",
        "    elseif 0.0650 < T9 <= 0.0750\n",
        "        rate = 9.527e4\n",
        "    elseif 0.0750 < T9 <= 0.0850\n",
        "        rate = 1.390e5\n",
        "    elseif 0.0850 < T9 <= 0.0950\n",
        "        rate = 1.912e5\n",
        "    elseif 0.0950 < T9 <= 0.1050\n",
        "        rate = 2.513e5\n",
        "    elseif 0.1050 < T9 <= 0.1150\n",
        "        rate = 3.190e5\n",
        "    elseif 0.1150 < T9 <= 0.1250\n",
        "        rate = 3.938e5\n",
        "    elseif 0.1250 < T9 <= 0.1350\n",
        "        rate = 4.753e5\n",
        "    elseif 0.1350 < T9 <= 0.1450\n",
        "        rate = 5.631e5\n",
        "    elseif 0.1450 < T9 <= 0.1550\n",
        "        rate = 6.568e5\n",
        "    elseif 0.1550 < T9 <= 0.1700\n",
        "        rate = 7.559e5\n",
        "    elseif 0.1700 < T9 <= 0.1900\n",
        "        rate = 9.691e5\n",
        "    elseif 0.1900 < T9 <= 0.2250\n",
        "        rate = 1.200e6\n",
        "    elseif 0.2250 < T9 <= 0.2750\n",
        "        rate = 1.842e6\n",
        "    elseif 0.2750 < T9 <= 0.3250\n",
        "        rate = 2.555e6\n",
        "    elseif 0.3250 < T9 <= 0.3750\n",
        "        rate = 3.318e6\n",
        "    elseif 0.3750 < T9 <= 0.4250\n",
        "        rate = 4.119e6\n",
        "    elseif 0.4250 < T9 <= 0.4750\n",
        "        rate = 4.946e6\n",
        "    elseif 0.4750 < T9 <= 0.5500\n",
        "        rate = 5.792e6\n",
        "    elseif 0.5500 < T9 <= 0.6500\n",
        "        rate = 7.517e6\n",
        "    elseif 0.6500 < T9 <= 0.7500\n",
        "        rate = 9.260e6\n",
        "    elseif 0.7500 < T9 <= 0.8500\n",
        "        rate = 1.100e7\n",
        "    elseif 0.8500 < T9 <= 0.9500\n",
        "        rate = 1.272e7\n",
        "    elseif 0.9500 < T9 <= 1.1250\n",
        "        rate = 1.442e7\n",
        "    elseif 1.1250 < T9 <= 1.3750\n",
        "        rate = 1.850e7\n",
        "    elseif 1.3750 < T9 <= 1.6250\n",
        "        rate = 2.235e7\n",
        "    elseif 1.6250 < T9 <= 1.8750\n",
        "        rate = 2.595e7\n",
        "    elseif 1.8750 < T9 <= 2.2500\n",
        "        rate = 2.932e7\n",
        "    elseif 2.2500 < T9 <= 2.7500\n",
        "        rate = 3.546e7\n",
        "    elseif 2.7500 < T9 <= 3.2500\n",
        "        rate = 4.093e7\n",
        "    elseif 3.2500 < T9 <= 3.7500\n",
        "        rate = 4.585e7\n",
        "    elseif 3.7500 < T9 <= 4.5000\n",
        "        rate = 5.031e7\n",
        "    elseif 4.5000 < T9 <= 5.5000\n",
        "        rate = 5.816e7\n",
        "    elseif 5.5000 < T9 <= 6.5000\n",
        "        rate = 6.488e7\n",
        "    elseif 6.5000 < T9 <= 7.5000\n",
        "        rate = 7.072e7\n",
        "    elseif 7.5000 < T9 <= 8.5000\n",
        "        rate = 7.583e7\n",
        "    elseif 8.5000 < T9 <= 9.5000\n",
        "        rate = 8.037e7\n",
        "    elseif 9.5000 < T9 <= 10.0000\n",
        "        rate = 8.437e7\n",
        "    else\n",
        "        rate = 0.0\n",
        "    end\n",
        "    rate = rate\n",
        "    return n_b(z) * rate / NA\n",
        "end\n",
        "\n",
        "\n",
        "function DD_p3H_alcoc(z)\n",
        "    T = m_e / z\n",
        "    T9 = mev_to_t9kelvin(T)\n",
        "    NA = 6.022e23\n",
        "    if T9 < 0.001\n",
        "        rate = 1.173e-8\n",
        "    elseif 0.001 <= T9 <= 0.0015\n",
        "        rate = 1.173e-8\n",
        "    elseif 0.0015 < T9 <= 0.0025\n",
        "        rate = 5.609e-5\n",
        "    elseif 0.0025 < T9 <= 0.0035\n",
        "        rate = 3.092e-3\n",
        "    elseif 0.0035 < T9 <= 0.0045\n",
        "        rate = 3.814e-2\n",
        "    elseif 0.0045 < T9 <= 0.0055\n",
        "        rate = 2.257e-1\n",
        "    elseif 0.0055 < T9 <= 0.0065\n",
        "        rate = 8.707e-1\n",
        "    elseif 0.0065 < T9 <= 0.0075\n",
        "        rate = 2.549\n",
        "    elseif 0.0075 < T9 <= 0.0085\n",
        "        rate = 6.164\n",
        "    elseif 0.0085 < T9 <= 0.0095\n",
        "        rate = 1.297e1\n",
        "    elseif 0.0095 < T9 <= 0.0105\n",
        "        rate = 2.458e1\n",
        "    elseif 0.0105 < T9 <= 0.0115\n",
        "        rate = 4.290e1\n",
        "    elseif 0.0115 < T9 <= 0.0125\n",
        "        rate = 7.016e1\n",
        "    elseif 0.0125 < T9 <= 0.0135\n",
        "        rate = 1.088e2\n",
        "    elseif 0.0135 < T9 <= 0.0145\n",
        "        rate = 1.615e2\n",
        "    elseif 0.0145 < T9 <= 0.0155\n",
        "        rate = 2.310e2\n",
        "    elseif 0.0155 < T9 <= 0.0170\n",
        "        rate = 3.202e2\n",
        "    elseif 0.0170 < T9 <= 0.0190\n",
        "        rate = 5.698e2\n",
        "    elseif 0.0190 < T9 <= 0.0225\n",
        "        rate = 9.343e2\n",
        "    elseif 0.0225 < T9 <= 0.0275\n",
        "        rate = 2.502e3\n",
        "    elseif 0.0275 < T9 <= 0.0350\n",
        "        rate = 5.276e3\n",
        "    elseif 0.0350 < T9 <= 0.0450\n",
        "        rate = 1.549e4\n",
        "    elseif 0.0450 < T9 <= 0.0550\n",
        "        rate = 3.307e4\n",
        "    elseif 0.0550 < T9 <= 0.0650\n",
        "        rate = 5.868e4\n",
        "    elseif 0.0650 < T9 <= 0.0750\n",
        "        rate = 9.246e4\n",
        "    elseif 0.0750 < T9 <= 0.0850\n",
        "        rate = 1.343e5\n",
        "    elseif 0.0850 < T9 <= 0.0950\n",
        "        rate = 1.837e5\n",
        "    elseif 0.0950 < T9 <= 0.1050\n",
        "        rate = 2.404e5\n",
        "    elseif 0.1050 < T9 <= 0.1150\n",
        "        rate = 3.039e5\n",
        "    elseif 0.1150 < T9 <= 0.1250\n",
        "        rate = 3.737e5\n",
        "    elseif 0.1250 < T9 <= 0.1350\n",
        "        rate = 4.493e5\n",
        "    elseif 0.1350 < T9 <= 0.1450\n",
        "        rate = 5.304e5\n",
        "    elseif 0.1450 < T9 <= 0.1550\n",
        "        rate = 6.165e5\n",
        "    elseif 0.1550 < T9 <= 0.1700\n",
        "        rate = 7.072e5\n",
        "    elseif 0.1700 < T9 <= 0.1900\n",
        "        rate = 9.011e5\n",
        "    elseif 0.1900 < T9 <= 0.2250\n",
        "        rate = 1.110e6\n",
        "    elseif 0.2250 < T9 <= 0.2750\n",
        "        rate = 1.682e6\n",
        "    elseif 0.2750 < T9 <= 0.3250\n",
        "        rate = 2.309e6\n",
        "    elseif 0.3250 < T9 <= 0.3750\n",
        "        rate = 2.974e6\n",
        "    elseif 0.3750 < T9 <= 0.4250\n",
        "        rate = 3.663e6\n",
        "    elseif 0.4250 < T9 <= 0.4750\n",
        "        rate = 4.371e6\n",
        "    elseif 0.4750 < T9 <= 0.5500\n",
        "        rate = 5.089e6\n",
        "    elseif 0.5500 < T9 <= 0.6500\n",
        "        rate = 6.543e6\n",
        "    elseif 0.6500 < T9 <= 0.7500\n",
        "        rate = 8.001e6\n",
        "    elseif 0.7500 < T9 <= 0.8500\n",
        "        rate = 9.448e6\n",
        "    elseif 0.8500 < T9 <= 0.9500\n",
        "        rate = 1.087e7\n",
        "    elseif 0.9500 < T9 <= 1.1250\n",
        "        rate = 1.228e7\n",
        "    elseif 1.1250 < T9 <= 1.3750\n",
        "        rate = 1.565e7\n",
        "    elseif 1.3750 < T9 <= 1.6250\n",
        "        rate = 2.882e7\n",
        "    elseif 1.6250 < T9 <= 1.8750\n",
        "        rate = 2.181e7\n",
        "    elseif 1.8750 < T9 <= 2.2500\n",
        "        rate = 2.461e7\n",
        "    elseif 2.2500 < T9 <= 2.7500\n",
        "        rate = 2.976e7\n",
        "    elseif 2.7500 < T9 <= 3.2500\n",
        "        rate = 3.440e7\n",
        "    elseif 3.2500 < T9 <= 3.7500\n",
        "        rate = 3.863e7\n",
        "    elseif 3.7500 < T9 <= 4.5000\n",
        "        rate = 4.251e7\n",
        "    elseif 4.5000 < T9 <= 5.5000\n",
        "        rate = 4.946e7\n",
        "    elseif 5.5000 < T9 <= 6.5000\n",
        "        rate = 5.552e7\n",
        "    elseif 6.5000 < T9 <= 7.5000\n",
        "        rate = 6.077e7\n",
        "    elseif 7.5000 < T9 <= 8.5000\n",
        "        rate = 6.529e7\n",
        "    elseif 8.5000 < T9 <= 9.5000\n",
        "        rate = 6.912e7\n",
        "    elseif 9.5000 < T9 <= 10.0000\n",
        "        rate = 7.228e7\n",
        "    else\n",
        "        rate = 0.0\n",
        "    end\n",
        "    rate = n_b(z) * rate / NA\n",
        "    return rate\n",
        "end\n",
        "\n"
      ],
      "id": "eNEe6hQ5K4S1"
    },
    {
      "cell_type": "code",
      "execution_count": null,
      "metadata": {
        "colab": {
          "base_uri": "https://localhost:8080/"
        },
        "id": "nL5LJOPWacbc",
        "outputId": "d692f71c-812d-4929-ee39-b8eb3b402462"
      },
      "outputs": [
        {
          "output_type": "execute_result",
          "data": {
            "text/plain": [
              "\"function DD_n3He_alcoc(z)\\n    T = m_e / z\\n    T_9 = mev_to_t9kelvin(T)\\n    NA = 6.022e23\\n    rate = (T_9^(-2/3)) * exp(-T_9^(-1/3)) * (\\n        -1.84664e6 + 1.22986e7 * T_9^(1/3) - 1.3761e7 * T_9^(2/3) - 6.11628e7 * T_9\\n        + 1.3329e8 * T_9^(4/3) - 1.24333e7 * T_9^(5\" ⋯ 480 bytes ⋯ \"p(-4.2586 / t913) * (\\n        1 + 0.309233 * t913 - 0.337260 * t923 +\\n        2.51922 * t9 - 2.79097 * t943 + 2.16082 * t953 -\\n        0.976181 * t9^2 + 0.210883 * t943 * t9 -\\n        0.0169027 * t953 * t9 + 7.845538e-6 * t9^3\\n    )\\n\\n    return (n_b(z) * rate / NA)\\nend\\n\""
            ]
          },
          "metadata": {},
          "execution_count": 738
        }
      ],
      "source": [
        "\"\"\"\n",
        "function DD_n3He_alcoc(z)\n",
        "    T = m_e / z\n",
        "    T_9 = mev_to_t9kelvin(T)\n",
        "    NA = 6.022e23\n",
        "    rate = (T_9^(-2/3)) * exp(-T_9^(-1/3)) * (\n",
        "        -1.84664e6 + 1.22986e7 * T_9^(1/3) - 1.3761e7 * T_9^(2/3) - 6.11628e7 * T_9\n",
        "        + 1.3329e8 * T_9^(4/3) - 1.24333e7 * T_9^(5/3) - 2.72404e7 * T_9^2\n",
        "        + 8.52947e6 * T_9^(7/3) + 2.2519e6 * T_9^(8/3) - 2.31204e6 * T_9^3\n",
        "        - 294342 * T_9^(10/3) + 911550 * T_9^(11/3) - 252211 * T_9^4\n",
        "    )\n",
        "\n",
        "    return (n_b(z) * rate / NA)\n",
        "end\n",
        "\n",
        "\n",
        "function DD_p3H_alcoc(z)\n",
        "    T = m_e / z\n",
        "    T_9 = mev_to_t9kelvin(T)\n",
        "    rhob = 2.12e-4 * T_9^3\n",
        "    t9 = mev_to_t9kelvin(m_e / z)\n",
        "    NA = 6.022e23\n",
        "    t913 = t9^(1/3)\n",
        "    t923 = t9^(2/3)\n",
        "    t943 = t9^(4/3)\n",
        "    t953 = t9^(5/3)\n",
        "\n",
        "    rate = 3.91889e8 * t9^(-2/3) * exp(-4.2586 / t913) * (\n",
        "        1 + 0.309233 * t913 - 0.337260 * t923 +\n",
        "        2.51922 * t9 - 2.79097 * t943 + 2.16082 * t953 -\n",
        "        0.976181 * t9^2 + 0.210883 * t943 * t9 -\n",
        "        0.0169027 * t953 * t9 + 7.845538e-6 * t9^3\n",
        "    )\n",
        "\n",
        "    return (n_b(z) * rate / NA)\n",
        "end\n",
        "\"\"\""
      ],
      "id": "nL5LJOPWacbc"
    },
    {
      "cell_type": "code",
      "execution_count": null,
      "metadata": {
        "colab": {
          "base_uri": "https://localhost:8080/"
        },
        "id": "sIcO1WJfPINK",
        "outputId": "eedf429c-762d-431b-b07d-bf35a0cf428c"
      },
      "outputs": [
        {
          "output_type": "execute_result",
          "data": {
            "text/plain": [
              "gammaD_pn (generic function with 1 method)"
            ]
          },
          "metadata": {},
          "execution_count": 739
        }
      ],
      "source": [
        "function gammaD_pn(z)\n",
        "    term1 = (Xp_in(z) * Xn_in(z)) / Xi(z, 3, 2, 0.511, 938.27, 940.6, 1875.62, 6.13832e-10,6.86, 1)\n",
        "    reverse_rate = term1 * pn_gammaD_andlo(z)\n",
        "    return reverse_rate\n",
        "end\n"
      ],
      "id": "sIcO1WJfPINK"
    },
    {
      "cell_type": "code",
      "execution_count": null,
      "metadata": {
        "colab": {
          "base_uri": "https://localhost:8080/"
        },
        "id": "DjY4geyMYJye",
        "outputId": "4669c7d3-05a2-4ec1-944f-142705e83a24"
      },
      "outputs": [
        {
          "output_type": "execute_result",
          "data": {
            "text/plain": [
              "threegamma_1two (generic function with 2 methods)"
            ]
          },
          "metadata": {},
          "execution_count": 740
        }
      ],
      "source": [
        "\n",
        "function threegamma_1two(sigma_v_ab, T_9, A1, A2, A3, ga, gb, gc, Q)\n",
        "    c_gamma = 9.8686 * 10^9 * T_9^(3/2) * (A1 * A2 / A3) * (ga * gb / gc) * exp(-11.605 * Q / T_9)\n",
        "    ngamma_sigma_v_cgamma = sigma_v_ab * c_gamma\n",
        "    return ngamma_sigma_v_cgamma\n",
        "end\n"
      ],
      "id": "DjY4geyMYJye"
    },
    {
      "cell_type": "code",
      "execution_count": null,
      "metadata": {
        "colab": {
          "base_uri": "https://localhost:8080/"
        },
        "id": "EIigsr6_iMcD",
        "outputId": "72ea3fea-526c-4522-8f72-9f6d2c88957a"
      },
      "outputs": [
        {
          "output_type": "execute_result",
          "data": {
            "text/plain": [
              "\"function gammaD_pn(z)\\n    value1 = pn_gammaD(z)\\n    T_9 = mev_to_t9kelvin(z)\\n    A1 = 1.00727\\n    A2 = 1.00866\\n    A3 = 2.01410\\n    ga = 2\\n    gb = 2\\n    gc = 3\\n    Q = 1.7135810198702273\\n    value1 = value1\\n    rate1r = threegamma_1two(value1, T_9, A1, A2, A3, ga, gb, gc, Q)\\n    return rate1r\\nend\\n\""
            ]
          },
          "metadata": {},
          "execution_count": 741
        }
      ],
      "source": [
        "\"\"\"\n",
        "function gammaD_pn(z)\n",
        "    value1 = pn_gammaD(z)\n",
        "    T_9 = mev_to_t9kelvin(z)\n",
        "    A1 = 1.00727\n",
        "    A2 = 1.00866\n",
        "    A3 = 2.01410\n",
        "    ga = 2\n",
        "    gb = 2\n",
        "    gc = 3\n",
        "    Q = 1.7135810198702273\n",
        "    value1 = value1\n",
        "    rate1r = threegamma_1two(value1, T_9, A1, A2, A3, ga, gb, gc, Q)\n",
        "    return rate1r\n",
        "end\n",
        "\"\"\""
      ],
      "id": "EIigsr6_iMcD"
    },
    {
      "cell_type": "code",
      "execution_count": null,
      "metadata": {
        "colab": {
          "base_uri": "https://localhost:8080/"
        },
        "id": "RyidUuYKkLWF",
        "outputId": "82bd23b0-f1e2-4b77-a271-41585d226fb7"
      },
      "outputs": [
        {
          "output_type": "execute_result",
          "data": {
            "text/plain": [
              "x4he_dot (generic function with 1 method)"
            ]
          },
          "metadata": {},
          "execution_count": 742
        }
      ],
      "source": [
        "function xp_dot(z, xn, xp, xd)\n",
        "    value = (lambda_np(z) * xn - lambda_pn(z) * xp + (gammaD_pn(z) * xd - pn_gammaD_andlo(z) * xp * xn)\n",
        "              + ((DD_p3H_alcoc(z) * xd ^ 2) / 2 )) * dt_dz(z)\n",
        "    return value\n",
        "end\n",
        "\n",
        "function xn_dot(z, xn, xp, xd)\n",
        "    value = (lambda_pn(z) * xp - lambda_np(z) * xn + (gammaD_pn(z) * xd - pn_gammaD_andlo(z) * xp * xn)\n",
        "             + ((DD_n3He_alcoc(z) * xd ^ 2) / 2 )) * dt_dz(z)\n",
        "    return value\n",
        "end\n",
        "\n",
        "function xd_dot(z, xn, xp, xd)\n",
        "    value = ((pn_gammaD_andlo(z) * xp * xn - gammaD_pn(z) * xd) - 2 * (((DD_p3H_alcoc(z) * xd ^ 2) / 2 ) + ((DD_n3He_alcoc(z) * xd ^ 2) / 2))) * dt_dz(z)\n",
        "    return value\n",
        "end\n",
        "\n",
        "function x4he_dot(z, xd)\n",
        "    value = ((((DD_p3H_alcoc(z) * xd ^ 2) / 2 ) + ((DD_n3He_alcoc(z) * xd ^ 2) / 2))) * dt_dz(z)\n",
        "    return value\n",
        "end"
      ],
      "id": "RyidUuYKkLWF"
    },
    {
      "cell_type": "code",
      "execution_count": null,
      "metadata": {
        "colab": {
          "base_uri": "https://localhost:8080/"
        },
        "id": "NwKzdZpBTOAm",
        "outputId": "705f30cb-f4d9-4261-8d2c-e0055efc962a"
      },
      "outputs": [
        {
          "output_type": "execute_result",
          "data": {
            "text/plain": [
              "small_network (generic function with 1 method)"
            ]
          },
          "metadata": {},
          "execution_count": 830
        }
      ],
      "source": [
        "\n",
        "function small_network(u, p, z)\n",
        "    xn, xp, xd, x4he = u\n",
        "    dx_n = xn_dot(z,u[1],u[2],u[3])  # Define the equation for dx/dt here based on x, y, and t\n",
        "    dx_p = xp_dot(z,u[1],u[2],u[3])\n",
        "    dx_d = xd_dot(z,u[1],u[2],u[3])\n",
        "    dx_4he=x4he_dot(z,u[3])\n",
        "    [dx_n,dx_p,dx_d,dx_4he] # Define the equation for dy/dt here based on x, y, and t\n",
        "end\n",
        "\n"
      ],
      "id": "NwKzdZpBTOAm"
    },
    {
      "cell_type": "code",
      "execution_count": null,
      "metadata": {
        "colab": {
          "base_uri": "https://localhost:8080/"
        },
        "id": "quAwhizdThv3",
        "outputId": "78e8d9b9-94e2-4914-d27d-20726441e063"
      },
      "outputs": [
        {
          "output_type": "execute_result",
          "data": {
            "text/plain": [
              "1.366585706572369e-24"
            ]
          },
          "metadata": {},
          "execution_count": 831
        }
      ],
      "source": [
        "\n",
        "x1_0=Xn_in(minimum(z_evolve))\n",
        "x2_0=Xp_in(minimum(z_evolve))\n",
        "x3_0=Xi(minimum(z_evolve), 3, 2, 0.511, 938.27, 940.6, 1875.62, 6.13832e-10, 6.86, 1)\n",
        "x4_h0=Xi(minimum(z_evolve), 1, 4, 0.511, 938.27, 940.6, 3728.42, 6.13832e-10, 53.32, 2)\n"
      ],
      "id": "quAwhizdThv3"
    },
    {
      "cell_type": "code",
      "execution_count": null,
      "metadata": {
        "colab": {
          "base_uri": "https://localhost:8080/"
        },
        "id": "9lFmh2BoSY05",
        "outputId": "a1de444e-9dfd-4933-a077-799b4ce8677d"
      },
      "outputs": [
        {
          "output_type": "execute_result",
          "data": {
            "text/plain": [
              "1.366585706572369e-24"
            ]
          },
          "metadata": {},
          "execution_count": 745
        }
      ],
      "source": [
        "xd0 = Xi(minimum(z_evolve), 3, 2, 0.511, 938.27, 940.6, 1875.62, 6.13832e-10, 6.86, 1)\n",
        "x3h0 = Xi(minimum(z_evolve), 2, 3, 0.511, 938.27, 940.6, 2809.45, 6.13832e-10, 16.63, 1)\n",
        "x3he0 = Xi(minimum(z_evolve), 2, 3, 0.511, 938.27, 940.6, 2809.431, 6.13832e-10, 13.11, 2)\n",
        "x4he0 = Xi(minimum(z_evolve), 1, 4, 0.511, 938.27, 940.6, 3728.42, 6.13832e-10, 53.32, 2)"
      ],
      "id": "9lFmh2BoSY05"
    },
    {
      "cell_type": "code",
      "execution_count": null,
      "metadata": {
        "colab": {
          "base_uri": "https://localhost:8080/"
        },
        "id": "g9OnzTxwSZBO",
        "outputId": "2a7b431d-58eb-4482-e595-1eaba821a74b"
      },
      "outputs": [
        {
          "output_type": "execute_result",
          "data": {
            "text/plain": [
              "1.366585706572369e-24"
            ]
          },
          "metadata": {},
          "execution_count": 746
        }
      ],
      "source": [
        "x4_h0"
      ],
      "id": "g9OnzTxwSZBO"
    },
    {
      "cell_type": "code",
      "execution_count": null,
      "metadata": {
        "id": "RLSZC4iHacnk"
      },
      "outputs": [],
      "source": [
        "z_iterate = []\n",
        "for i in znu\n",
        "    if mev_to_t9kelvin(m_e / i) < 10\n",
        "        push!(z_iterate, i)\n",
        "    end\n",
        "end\n"
      ],
      "id": "RLSZC4iHacnk"
    },
    {
      "cell_type": "code",
      "execution_count": null,
      "metadata": {
        "colab": {
          "base_uri": "https://localhost:8080/"
        },
        "id": "GWppZVHB2Suw",
        "outputId": "ba49e661-cb40-4010-97cf-a38cc0c435ee"
      },
      "outputs": [
        {
          "name": "stderr",
          "output_type": "stream",
          "text": [
            "\u001b[32m\u001b[1m   Resolving\u001b[22m\u001b[39m package versions...\n",
            "\u001b[32m\u001b[1m  No Changes\u001b[22m\u001b[39m to `~/.julia/environments/v1.9/Project.toml`\n",
            "\u001b[32m\u001b[1m  No Changes\u001b[22m\u001b[39m to `~/.julia/environments/v1.9/Manifest.toml`\n"
          ]
        }
      ],
      "source": [
        "Pkg.add(\"DifferentialEquations\")"
      ],
      "id": "GWppZVHB2Suw"
    },
    {
      "cell_type": "code",
      "execution_count": null,
      "metadata": {
        "colab": {
          "base_uri": "https://localhost:8080/"
        },
        "id": "fuDE2NpEJ4vC",
        "outputId": "ef254174-9527-435a-d14f-3304e32cc9c4"
      },
      "outputs": [
        {
          "output_type": "stream",
          "name": "stderr",
          "text": [
            "\u001b[32m\u001b[1m   Resolving\u001b[22m\u001b[39m package versions...\n",
            "\u001b[32m\u001b[1m    Updating\u001b[22m\u001b[39m `~/.julia/environments/v1.9/Project.toml`\n",
            "  \u001b[90m[c3572dad] \u001b[39m\u001b[92m+ Sundials v4.19.3\u001b[39m\n",
            "\u001b[32m\u001b[1m  No Changes\u001b[22m\u001b[39m to `~/.julia/environments/v1.9/Manifest.toml`\n"
          ]
        }
      ],
      "source": [
        "using Pkg\n",
        "Pkg.add(\"Sundials\")\n",
        "using Sundials"
      ],
      "id": "fuDE2NpEJ4vC"
    },
    {
      "cell_type": "code",
      "execution_count": null,
      "metadata": {
        "colab": {
          "base_uri": "https://localhost:8080/"
        },
        "id": "kKPneGGhpibG",
        "outputId": "92dc4df4-c5ff-40e0-85e0-95e31c8549d2"
      },
      "outputs": [
        {
          "name": "stderr",
          "output_type": "stream",
          "text": [
            "\u001b[32m\u001b[1m   Resolving\u001b[22m\u001b[39m package versions...\n",
            "\u001b[32m\u001b[1m  No Changes\u001b[22m\u001b[39m to `~/.julia/environments/v1.9/Project.toml`\n",
            "\u001b[32m\u001b[1m  No Changes\u001b[22m\u001b[39m to `~/.julia/environments/v1.9/Manifest.toml`\n"
          ]
        }
      ],
      "source": [
        "Pkg.add(\"LSODA\")"
      ],
      "id": "kKPneGGhpibG"
    },
    {
      "cell_type": "code",
      "execution_count": null,
      "metadata": {
        "id": "xHajSVz5pp1h"
      },
      "outputs": [],
      "source": [],
      "id": "xHajSVz5pp1h"
    },
    {
      "cell_type": "code",
      "execution_count": null,
      "metadata": {
        "colab": {
          "base_uri": "https://localhost:8080/"
        },
        "id": "G1oSfQzoidPc",
        "outputId": "d39054af-0cad-43d8-eff7-b128f67a97ed"
      },
      "outputs": [
        {
          "output_type": "stream",
          "name": "stdout",
          "text": [
            "  78.635 ms (1846181 allocations: 32.49 MiB)\n"
          ]
        }
      ],
      "source": [
        "\n",
        "using DifferentialEquations, BenchmarkTools\n",
        "u20=[x1_0,x2_0,x3_0,x4_h0]\n",
        "tspan = (0.45,100)\n",
        "prob2 = ODEProblem(small_network, u20, tspan)\n",
        "@btime solve(prob2,KenCarp4(),reltol=1e-6,abstol=1e-9);\n"
      ],
      "id": "G1oSfQzoidPc"
    },
    {
      "cell_type": "code",
      "execution_count": null,
      "metadata": {
        "colab": {
          "base_uri": "https://localhost:8080/"
        },
        "id": "nwp-Ox9ybS2D",
        "outputId": "aef9c30f-a260-4d0a-f627-c5256c392ce7"
      },
      "outputs": [
        {
          "output_type": "execute_result",
          "data": {
            "text/plain": [
              "retcode: Success\n",
              "Interpolation: 3rd order Hermite\n",
              "t: 105-element Vector{Float64}:\n",
              "   0.45\n",
              "   0.4500000537612786\n",
              "   0.45000059137406434\n",
              "   0.4500059675019219\n",
              "   0.4500597287804974\n",
              "   0.4505973415662522\n",
              "   0.4559734694238006\n",
              "   0.4719455921701409\n",
              "   0.49168565965986866\n",
              "   0.5191469323758211\n",
              "   0.5527970866143065\n",
              "   0.5960315275419502\n",
              "   0.6487201076246312\n",
              "   ⋮\n",
              "  16.848680233582957\n",
              "  19.197235349377372\n",
              "  22.222935702358374\n",
              "  24.43212171440767\n",
              "  30.05612076377139\n",
              "  35.68011981313511\n",
              "  41.304118862498825\n",
              "  48.54749842321882\n",
              "  56.83695478767612\n",
              "  66.38865157088428\n",
              "  84.7775578890916\n",
              " 100.0\n",
              "u: 105-element Vector{Vector{Float64}}:\n",
              " [0.1303916867583087, 0.8696083132416913, 1.8932679982394593e-12, 1.366585706572369e-24]\n",
              " [0.13039174219678726, 0.8696082578059589, 5.20243648744322e-13, 1.366585706572369e-24]\n",
              " [0.13039229656426918, 0.8696077034384769, 5.202472664440371e-13, 1.366585706572369e-24]\n",
              " [0.1303978398817699, 0.8696021601209762, 5.202759314997875e-13, 1.366585706572369e-24]\n",
              " [0.13045323734197373, 0.8695467626607719, 5.205624996741749e-13, 1.366585706572369e-24]\n",
              " [0.13100365743500247, 0.8689963425677375, 5.234201368526654e-13, 1.366585706572369e-24]\n",
              " [0.1361686906919172, 0.8638313093107671, 5.512463410550164e-13, 1.366585706572369e-24]\n",
              " [0.14842936065643783, 0.8515706393460937, 6.276777379035823e-13, 1.366585706572369e-24]\n",
              " [0.15885019453092045, 0.8411498054714375, 7.144552010739765e-13, 1.366585706572369e-24]\n",
              " [0.16771191167726407, 0.8322880883248617, 8.30543749466964e-13, 1.366585706572369e-24]\n",
              " [0.17322387293807248, 0.8267761270637606, 9.769209476053479e-13, 1.366585706572369e-24]\n",
              " [0.17563208773427635, 0.8243679122671372, 1.1866815290387114e-12, 8.328303406344598e-20]\n",
              " [0.17509563425820754, 0.8249043657425865, 1.4964322684311867e-12, 5.412256172806916e-19]\n",
              " ⋮\n",
              " [8.246062704037521e-9, 0.7568256240199439, 1.1592216827155211e-5, 0.0810503944347086]\n",
              " [5.87260248229713e-9, 0.7568256230395455, 1.1426078235786612e-5, 0.0810505063117224]\n",
              " [5.162951417972764e-9, 0.7568256262711575, 1.1279841888942198e-5, 0.08105060296196667]\n",
              " [4.062327348760718e-9, 0.7568256283856356, 1.122066149590212e-5, 0.08105064207761063]\n",
              " [1.8801132869680104e-9, 0.7568256342274905, 1.1132662868437304e-5, 0.081050699523482]\n",
              " [1.292236570705925e-9, 0.7568256398409865, 1.1091062104349728e-5, 0.08105072558211829]\n",
              " [7.859464606222298e-10, 0.7568256440021357, 1.1069449375267068e-5, 0.08105073877231797]\n",
              " [4.5179954940368595e-10, 0.7568256481025334, 1.1053361571986687e-5, 0.08105074824210323]\n",
              " [2.0855650647407963e-10, 0.756825650969768, 1.1044343557352746e-5, 0.08105075337944916]\n",
              " [1.0403814338565839e-10, 0.7568256528561457, 1.1039268952777444e-5, 0.08105075616856575]\n",
              " [3.544859269859432e-11, 0.7568256548770562, 1.1034474180390511e-5, 0.08105075871430706]\n",
              " [1.1045304611745648e-11, 0.7568256554849756, 1.1033156465440243e-5, 0.08105075939827834]"
            ]
          },
          "metadata": {},
          "execution_count": 827
        }
      ],
      "source": [
        "sol2=solve(prob2,KenCarp4(),reltol=1e-6,abstol=1e-9)"
      ],
      "id": "nwp-Ox9ybS2D"
    },
    {
      "cell_type": "code",
      "execution_count": null,
      "metadata": {
        "colab": {
          "base_uri": "https://localhost:8080/"
        },
        "id": "kwWBSSCN2PGv",
        "outputId": "5a93a165-357c-4577-9630-baf08e61cd3c"
      },
      "outputs": [
        {
          "output_type": "execute_result",
          "data": {
            "text/plain": [
              "105-element Vector{Float64}:\n",
              " 1.366585706572369e-24\n",
              " 1.366585706572369e-24\n",
              " 1.366585706572369e-24\n",
              " 1.366585706572369e-24\n",
              " 1.366585706572369e-24\n",
              " 1.366585706572369e-24\n",
              " 1.366585706572369e-24\n",
              " 1.366585706572369e-24\n",
              " 1.366585706572369e-24\n",
              " 1.366585706572369e-24\n",
              " 1.366585706572369e-24\n",
              " 8.328303406344598e-20\n",
              " 5.412256172806916e-19\n",
              " ⋮\n",
              " 0.0810503944347086\n",
              " 0.0810505063117224\n",
              " 0.08105060296196667\n",
              " 0.08105064207761063\n",
              " 0.081050699523482\n",
              " 0.08105072558211829\n",
              " 0.08105073877231797\n",
              " 0.08105074824210323\n",
              " 0.08105075337944916\n",
              " 0.08105075616856575\n",
              " 0.08105075871430706\n",
              " 0.08105075939827834"
            ]
          },
          "metadata": {},
          "execution_count": 828
        }
      ],
      "source": [
        "z_values2 = sol2.t\n",
        "xn_values2 = sol2[1, :]\n",
        "xp_values2= sol2[2, :]\n",
        "xd_values2= sol2[3, :]\n",
        "x4he_values2=sol2[4, :]"
      ],
      "id": "kwWBSSCN2PGv"
    },
    {
      "cell_type": "code",
      "execution_count": null,
      "metadata": {
        "colab": {
          "base_uri": "https://localhost:8080/",
          "height": 599
        },
        "id": "O0kQLU1Ub0ZA",
        "outputId": "5781f079-d1dc-4652-e5fb-9afde494fdb4"
      },
      "outputs": [
        {
          "output_type": "display_data",
          "data": {
            "text/plain": [
              "Figure(PyObject <Figure size 1000x600 with 1 Axes>)"
            ],
            "image/png": "[encoded data removed]"
          },
          "metadata": {}
        }
      ],
      "source": [
        "# Assuming you have already defined your data arrays z_values2, xn_values2, xp_values2, xd_values2, x4he_values2\n",
        "using PyPlot\n",
        "\n",
        "# Assuming you have already defined your data arrays z_values2, xn_values2, xp_values2, xd_values2, x4he_values2\n",
        "\n",
        "# Increase the figure size\n",
        "fig, ax = subplots(figsize=(10, 6))  # Adjust the size as needed\n",
        "\n",
        "# Plot the data with labels and custom colors\n",
        "ax.plot(z_values2, xn_values2, label=L\"X_n\", color=\"blue\")\n",
        "ax.plot(z_values2, xp_values2, label=L\"X_p\", color=\"orange\")\n",
        "ax.plot(z_values2, xd_values2, label=L\"X_d\", color=\"green\")\n",
        "ax.plot(z_values2, x4he_values2, label=L\"X_{4\\mathrm{He}}\", color=\"red\")\n",
        "\n",
        "# Set x and y scales to logarithmic\n",
        "ax.set_xscale(\"log\")\n",
        "ax.set_yscale(\"log\")\n",
        "\n",
        "# Add labels and title with LaTeX formatting\n",
        "ax.set_xlabel(L\"z=\\frac{m_e}{T_{\\gamma}(MeV)}\", size=16)\n",
        "ax.set_ylabel(\"Fractional Abundance\", size=16)\n",
        "ax.set_title(L\"\\mathrm{BBN\\ Abundances}\", size=18)\n",
        "\n",
        "# Add a grid\n",
        "ax.grid(\"True\", which=\"both\", linestyle=\"--\", linewidth=0.5)\n",
        "\n",
        "# Add a legend\n",
        "ax.legend()\n",
        "\n",
        "# Display the plot\n",
        "show()\n",
        "\n",
        "\n"
      ],
      "id": "O0kQLU1Ub0ZA"
    },
    {
      "cell_type": "code",
      "execution_count": null,
      "metadata": {
        "id": "5NYwn1ZQui_8"
      },
      "outputs": [],
      "source": [],
      "id": "5NYwn1ZQui_8"
    },
    {
      "cell_type": "code",
      "execution_count": null,
      "metadata": {
        "id": "Z83bppakVlgw"
      },
      "outputs": [],
      "source": [],
      "id": "Z83bppakVlgw"
    },
    {
      "cell_type": "code",
      "execution_count": null,
      "metadata": {
        "id": "GbtAOvrjuLUQ"
      },
      "outputs": [],
      "source": [],
      "id": "GbtAOvrjuLUQ"
    },
    {
      "cell_type": "code",
      "execution_count": null,
      "metadata": {
        "colab": {
          "base_uri": "https://localhost:8080/",
          "height": 513
        },
        "id": "9IGUtm9ht6N8",
        "outputId": "f0ff001d-30ce-4e47-a8cc-454eb653565b"
      },
      "outputs": [
        {
          "data": {
            "image/png": "[encoded data removed]",
            "text/plain": [
              "Figure(PyObject <Figure size 1000x600 with 1 Axes>)"
            ]
          },
          "metadata": {},
          "output_type": "display_data"
        }
      ],
      "source": [],
      "id": "9IGUtm9ht6N8"
    },
    {
      "cell_type": "code",
      "execution_count": null,
      "metadata": {
        "id": "WHxQalMTuYew"
      },
      "outputs": [],
      "source": [],
      "id": "WHxQalMTuYew"
    }
  ],
  "metadata": {
    "colab": {
      "provenance": []
    },
    "kernelspec": {
      "display_name": "julia 1.9.2",
      "name": "julia"
    }
  },
  "nbformat": 4,
  "nbformat_minor": 5
}