{
  "cells": [
    {
      "cell_type": "code",
      "execution_count": 1,
      "metadata": {
        "colab": {
          "base_uri": "https://localhost:8080/"
        },
        "id": "GIeFXS0F0zww",
        "outputId": "e6bef47b-4e1a-482e-a98a-c6c5c25c0f75"
      },
      "outputs": [
        {
          "output_type": "stream",
          "name": "stdout",
          "text": [
            "Installing Julia 1.9.2 on the current Colab Runtime...\n",
            "2024-01-30 13:01:59 URL:https://storage.googleapis.com/julialang2/bin/linux/x64/1.9/julia-1.9.2-linux-x86_64.tar.gz [146384758/146384758] -> \"/tmp/julia.tar.gz\" [1]\n",
            "Installing Julia package IJulia...\n",
            "Installing Julia package BenchmarkTools...\n",
            "Installing IJulia kernel...\n",
            "\u001b[36m\u001b[1m[ \u001b[22m\u001b[39m\u001b[36m\u001b[1mInfo: \u001b[22m\u001b[39mInstalling julia kernelspec in /root/.local/share/jupyter/kernels/julia-1.9\n",
            "\n",
            "Successfully installed julia version 1.9.2!\n",
            "Please reload this page (press Ctrl+R, ⌘+R, or the F5 key) then\n",
            "jump to the 'Checking the Installation' section.\n"
          ]
        },
        {
          "output_type": "execute_result",
          "data": {
            "text/plain": []
          },
          "metadata": {},
          "execution_count": 1
        }
      ],
      "source": [
        "%%shell\n",
        "set -e\n",
        "\n",
        "#---------------------------------------------------#\n",
        "JULIA_VERSION=\"1.9.2\" # any version ≥ 0.7.0\n",
        "JULIA_PACKAGES=\"IJulia BenchmarkTools\"\n",
        "JULIA_PACKAGES_IF_GPU=\"CUDA\" # or CuArrays for older Julia versions\n",
        "JULIA_NUM_THREADS=2\n",
        "#---------------------------------------------------#\n",
        "\n",
        "if [ -z `which julia` ]; then\n",
        "  # Install Julia\n",
        "  JULIA_VER=`cut -d '.' -f -2 <<< \"$JULIA_VERSION\"`\n",
        "  echo \"Installing Julia $JULIA_VERSION on the current Colab Runtime...\"\n",
        "  BASE_URL=\"https://julialang-s3.julialang.org/bin/linux/x64\"\n",
        "  URL=\"$BASE_URL/$JULIA_VER/julia-$JULIA_VERSION-linux-x86_64.tar.gz\"\n",
        "  wget -nv $URL -O /tmp/julia.tar.gz # -nv means \"not verbose\"\n",
        "  tar -x -f /tmp/julia.tar.gz -C /usr/local --strip-components 1\n",
        "  rm /tmp/julia.tar.gz\n",
        "\n",
        "  # Install Packages\n",
        "  nvidia-smi -L &> /dev/null && export GPU=1 || export GPU=0\n",
        "  if [ $GPU -eq 1 ]; then\n",
        "    JULIA_PACKAGES=\"$JULIA_PACKAGES $JULIA_PACKAGES_IF_GPU\"\n",
        "  fi\n",
        "  for PKG in `echo $JULIA_PACKAGES`; do\n",
        "    echo \"Installing Julia package $PKG...\"\n",
        "    julia -e 'using Pkg; pkg\"add '$PKG'; precompile;\"' &> /dev/null\n",
        "  done\n",
        "\n",
        "  # Install kernel and rename it to \"julia\"\n",
        "  echo \"Installing IJulia kernel...\"\n",
        "  julia -e 'using IJulia; IJulia.installkernel(\"julia\", env=Dict(\n",
        "      \"JULIA_NUM_THREADS\"=>\"'\"$JULIA_NUM_THREADS\"'\"))'\n",
        "  KERNEL_DIR=`julia -e \"using IJulia; print(IJulia.kerneldir())\"`\n",
        "  KERNEL_NAME=`ls -d \"$KERNEL_DIR\"/julia*`\n",
        "  mv -f $KERNEL_NAME \"$KERNEL_DIR\"/julia\n",
        "\n",
        "  echo ''\n",
        "  echo \"Successfully installed `julia -v`!\"\n",
        "  echo \"Please reload this page (press Ctrl+R, ⌘+R, or the F5 key) then\"\n",
        "  echo \"jump to the 'Checking the Installation' section.\"\n",
        "fi"
      ],
      "id": "GIeFXS0F0zww"
    },
    {
      "cell_type": "code",
      "execution_count": 1,
      "metadata": {
        "id": "229bffb1"
      },
      "outputs": [],
      "source": [
        "using Pkg"
      ],
      "id": "229bffb1"
    },
    {
      "cell_type": "code",
      "execution_count": 2,
      "metadata": {
        "id": "5CrfFhhImJVj"
      },
      "outputs": [],
      "source": [],
      "id": "5CrfFhhImJVj"
    },
    {
      "cell_type": "code",
      "execution_count": 3,
      "metadata": {
        "colab": {
          "base_uri": "https://localhost:8080/"
        },
        "id": "ff920b77",
        "outputId": "1be223b9-965b-4365-dd70-b6c3ba8bd747"
      },
      "outputs": [
        {
          "output_type": "stream",
          "name": "stderr",
          "text": [
            "\u001b[32m\u001b[1m   Resolving\u001b[22m\u001b[39m package versions...\n",
            "\u001b[32m\u001b[1m   Installed\u001b[22m\u001b[39m Calculus ───────────────────────── v0.5.1\n",
            "\u001b[32m\u001b[1m   Installed\u001b[22m\u001b[39m StatsFuns ──────────────────────── v1.3.0\n",
            "\u001b[32m\u001b[1m   Installed\u001b[22m\u001b[39m PDMats ─────────────────────────── v0.11.31\n",
            "\u001b[32m\u001b[1m   Installed\u001b[22m\u001b[39m OffsetArrays ───────────────────── v1.13.0\n",
            "\u001b[32m\u001b[1m   Installed\u001b[22m\u001b[39m InlineStrings ──────────────────── v1.4.0\n",
            "\u001b[32m\u001b[1m   Installed\u001b[22m\u001b[39m HypergeometricFunctions ────────── v0.3.23\n",
            "\u001b[32m\u001b[1m   Installed\u001b[22m\u001b[39m EnumX ──────────────────────────── v1.0.4\n",
            "\u001b[32m\u001b[1m   Installed\u001b[22m\u001b[39m DifferentialEquations ──────────── v7.12.0\n",
            "\u001b[32m\u001b[1m   Installed\u001b[22m\u001b[39m MutableArithmetics ─────────────── v1.4.0\n",
            "\u001b[32m\u001b[1m   Installed\u001b[22m\u001b[39m Polyester ──────────────────────── v0.7.9\n",
            "\u001b[32m\u001b[1m   Installed\u001b[22m\u001b[39m NonlinearSolve ─────────────────── v3.4.0\n",
            "\u001b[32m\u001b[1m   Installed\u001b[22m\u001b[39m StaticArrays ───────────────────── v1.9.2\n",
            "\u001b[32m\u001b[1m   Installed\u001b[22m\u001b[39m Sundials_jll ───────────────────── v5.2.1+0\n",
            "\u001b[32m\u001b[1m   Installed\u001b[22m\u001b[39m MaybeInplace ───────────────────── v0.1.1\n",
            "\u001b[32m\u001b[1m   Installed\u001b[22m\u001b[39m CEnum ──────────────────────────── v0.5.0\n",
            "\u001b[32m\u001b[1m   Installed\u001b[22m\u001b[39m InvertedIndices ────────────────── v1.3.0\n",
            "\u001b[32m\u001b[1m   Installed\u001b[22m\u001b[39m FunctionWrappers ───────────────── v1.1.3\n",
            "\u001b[32m\u001b[1m   Installed\u001b[22m\u001b[39m RecursiveArrayTools ────────────── v3.3.3\n",
            "\u001b[32m\u001b[1m   Installed\u001b[22m\u001b[39m TriangularSolve ────────────────── v0.1.20\n",
            "\u001b[32m\u001b[1m   Installed\u001b[22m\u001b[39m DataFrames ─────────────────────── v1.6.1\n",
            "\u001b[32m\u001b[1m   Installed\u001b[22m\u001b[39m RandomNumbers ──────────────────── v1.5.3\n",
            "\u001b[32m\u001b[1m   Installed\u001b[22m\u001b[39m IntelOpenMP_jll ────────────────── v2024.0.2+0\n",
            "\u001b[32m\u001b[1m   Installed\u001b[22m\u001b[39m Static ─────────────────────────── v0.8.8\n",
            "\u001b[32m\u001b[1m   Installed\u001b[22m\u001b[39m SLEEFPirates ───────────────────── v0.6.42\n",
            "\u001b[32m\u001b[1m   Installed\u001b[22m\u001b[39m Distances ──────────────────────── v0.10.11\n",
            "\u001b[32m\u001b[1m   Installed\u001b[22m\u001b[39m BoundaryValueDiffEq ────────────── v5.6.0\n",
            "\u001b[32m\u001b[1m   Installed\u001b[22m\u001b[39m Missings ───────────────────────── v1.1.0\n",
            "\u001b[32m\u001b[1m   Installed\u001b[22m\u001b[39m SteadyStateDiffEq ──────────────── v2.0.1\n",
            "\u001b[32m\u001b[1m   Installed\u001b[22m\u001b[39m FiniteDiff ─────────────────────── v2.22.0\n",
            "\u001b[32m\u001b[1m   Installed\u001b[22m\u001b[39m MathOptInterface ───────────────── v1.25.2\n",
            "\u001b[32m\u001b[1m   Installed\u001b[22m\u001b[39m Tricks ─────────────────────────── v0.1.8\n",
            "\u001b[32m\u001b[1m   Installed\u001b[22m\u001b[39m IrrationalConstants ────────────── v0.2.2\n",
            "\u001b[32m\u001b[1m   Installed\u001b[22m\u001b[39m SIMDTypes ──────────────────────── v0.1.0\n",
            "\u001b[32m\u001b[1m   Installed\u001b[22m\u001b[39m MuladdMacro ────────────────────── v0.2.4\n",
            "\u001b[32m\u001b[1m   Installed\u001b[22m\u001b[39m ArnoldiMethod ──────────────────── v0.2.0\n",
            "\u001b[32m\u001b[1m   Installed\u001b[22m\u001b[39m Functors ───────────────────────── v0.4.5\n",
            "\u001b[32m\u001b[1m   Installed\u001b[22m\u001b[39m DiffEqBase ─────────────────────── v6.145.6\n",
            "\u001b[32m\u001b[1m   Installed\u001b[22m\u001b[39m CpuId ──────────────────────────── v0.3.1\n",
            "\u001b[32m\u001b[1m   Installed\u001b[22m\u001b[39m SimpleUnPack ───────────────────── v1.1.0\n",
            "\u001b[32m\u001b[1m   Installed\u001b[22m\u001b[39m SciMLBase ──────────────────────── v2.15.2\n",
            "\u001b[32m\u001b[1m   Installed\u001b[22m\u001b[39m BandedMatrices ─────────────────── v1.4.0\n",
            "\u001b[32m\u001b[1m   Installed\u001b[22m\u001b[39m LinearSolve ────────────────────── v2.22.1\n",
            "\u001b[32m\u001b[1m   Installed\u001b[22m\u001b[39m NLsolve ────────────────────────── v4.5.1\n",
            "\u001b[32m\u001b[1m   Installed\u001b[22m\u001b[39m ADTypes ────────────────────────── v0.2.6\n",
            "\u001b[32m\u001b[1m   Installed\u001b[22m\u001b[39m Bzip2_jll ──────────────────────── v1.0.8+1\n",
            "\u001b[32m\u001b[1m   Installed\u001b[22m\u001b[39m CodecBzip2 ─────────────────────── v0.8.1\n",
            "\u001b[32m\u001b[1m   Installed\u001b[22m\u001b[39m SpecialFunctions ───────────────── v2.3.1\n",
            "\u001b[32m\u001b[1m   Installed\u001b[22m\u001b[39m SentinelArrays ─────────────────── v1.4.1\n",
            "\u001b[32m\u001b[1m   Installed\u001b[22m\u001b[39m IfElse ─────────────────────────── v0.1.1\n",
            "\u001b[32m\u001b[1m   Installed\u001b[22m\u001b[39m SimpleNonlinearSolve ───────────── v1.3.1\n",
            "\u001b[32m\u001b[1m   Installed\u001b[22m\u001b[39m StaticArraysCore ───────────────── v1.4.2\n",
            "\u001b[32m\u001b[1m   Installed\u001b[22m\u001b[39m DiffEqNoiseProcess ─────────────── v5.20.0\n",
            "\u001b[32m\u001b[1m   Installed\u001b[22m\u001b[39m NaNMath ────────────────────────── v1.0.2\n",
            "\u001b[32m\u001b[1m   Installed\u001b[22m\u001b[39m PyPlot ─────────────────────────── v2.11.2\n",
            "\u001b[32m\u001b[1m   Installed\u001b[22m\u001b[39m WorkerUtilities ────────────────── v1.6.1\n",
            "\u001b[32m\u001b[1m   Installed\u001b[22m\u001b[39m ThreadingUtilities ─────────────── v0.5.2\n",
            "\u001b[32m\u001b[1m   Installed\u001b[22m\u001b[39m OrdinaryDiffEq ─────────────────── v6.66.0\n",
            "\u001b[32m\u001b[1m   Installed\u001b[22m\u001b[39m Graphs ─────────────────────────── v1.9.0\n",
            "\u001b[32m\u001b[1m   Installed\u001b[22m\u001b[39m Rmath_jll ──────────────────────── v0.4.0+0\n",
            "\u001b[32m\u001b[1m   Installed\u001b[22m\u001b[39m Random123 ──────────────────────── v1.6.2\n",
            "\u001b[32m\u001b[1m   Installed\u001b[22m\u001b[39m NLSolversBase ──────────────────── v7.8.3\n",
            "\u001b[32m\u001b[1m   Installed\u001b[22m\u001b[39m ManualMemory ───────────────────── v0.1.8\n",
            "\u001b[32m\u001b[1m   Installed\u001b[22m\u001b[39m TranscodingStreams ─────────────── v0.10.2\n",
            "\u001b[32m\u001b[1m   Installed\u001b[22m\u001b[39m LevyArea ───────────────────────── v1.0.0\n",
            "\u001b[32m\u001b[1m   Installed\u001b[22m\u001b[39m JumpProcesses ──────────────────── v9.10.1\n",
            "\u001b[32m\u001b[1m   Installed\u001b[22m\u001b[39m LazyArrays ─────────────────────── v1.8.3\n",
            "\u001b[32m\u001b[1m   Installed\u001b[22m\u001b[39m Ratios ─────────────────────────── v0.4.5\n",
            "\u001b[32m\u001b[1m   Installed\u001b[22m\u001b[39m WeakRefStrings ─────────────────── v1.4.2\n",
            "\u001b[32m\u001b[1m   Installed\u001b[22m\u001b[39m StatsAPI ───────────────────────── v1.7.0\n",
            "\u001b[32m\u001b[1m   Installed\u001b[22m\u001b[39m ExprTools ──────────────────────── v0.1.10\n",
            "\u001b[32m\u001b[1m   Installed\u001b[22m\u001b[39m Compat ─────────────────────────── v4.12.0\n",
            "\u001b[32m\u001b[1m   Installed\u001b[22m\u001b[39m CommonSubexpressions ───────────── v0.3.0\n",
            "\u001b[32m\u001b[1m   Installed\u001b[22m\u001b[39m DataStructures ─────────────────── v0.18.16\n",
            "\u001b[32m\u001b[1m   Installed\u001b[22m\u001b[39m Colors ─────────────────────────── v0.12.10\n",
            "\u001b[32m\u001b[1m   Installed\u001b[22m\u001b[39m FastAlmostBandedMatrices ───────── v0.1.0\n",
            "\u001b[32m\u001b[1m   Installed\u001b[22m\u001b[39m Lazy ───────────────────────────── v0.15.1\n",
            "\u001b[32m\u001b[1m   Installed\u001b[22m\u001b[39m CodecZlib ──────────────────────── v0.7.4\n",
            "\u001b[32m\u001b[1m   Installed\u001b[22m\u001b[39m MatrixFactorizations ───────────── v2.1.0\n",
            "\u001b[32m\u001b[1m   Installed\u001b[22m\u001b[39m ColorTypes ─────────────────────── v0.11.4\n",
            "\u001b[32m\u001b[1m   Installed\u001b[22m\u001b[39m StaticArrayInterface ───────────── v1.5.0\n",
            "\u001b[32m\u001b[1m   Installed\u001b[22m\u001b[39m BitTwiddlingConvenienceFunctions ─ v0.1.5\n",
            "\u001b[32m\u001b[1m   Installed\u001b[22m\u001b[39m ArrayLayouts ───────────────────── v1.5.2\n",
            "\u001b[32m\u001b[1m   Installed\u001b[22m\u001b[39m StatsBase ──────────────────────── v0.34.2\n",
            "\u001b[32m\u001b[1m   Installed\u001b[22m\u001b[39m DiffRules ──────────────────────── v1.15.1\n",
            "\u001b[32m\u001b[1m   Installed\u001b[22m\u001b[39m FunctionWrappersWrappers ───────── v0.1.3\n",
            "\u001b[32m\u001b[1m   Installed\u001b[22m\u001b[39m LayoutPointers ─────────────────── v0.1.15\n",
            "\u001b[32m\u001b[1m   Installed\u001b[22m\u001b[39m GenericSchur ───────────────────── v0.5.3\n",
            "\u001b[32m\u001b[1m   Installed\u001b[22m\u001b[39m Sundials ───────────────────────── v4.23.2\n",
            "\u001b[32m\u001b[1m   Installed\u001b[22m\u001b[39m StochasticDiffEq ───────────────── v6.64.0\n",
            "\u001b[32m\u001b[1m   Installed\u001b[22m\u001b[39m Inflate ────────────────────────── v0.1.4\n",
            "\u001b[32m\u001b[1m   Installed\u001b[22m\u001b[39m TableTraits ────────────────────── v1.0.1\n",
            "\u001b[32m\u001b[1m   Installed\u001b[22m\u001b[39m PositiveFactorizations ─────────── v0.2.4\n",
            "\u001b[32m\u001b[1m   Installed\u001b[22m\u001b[39m DiffResults ────────────────────── v1.1.0\n",
            "\u001b[32m\u001b[1m   Installed\u001b[22m\u001b[39m SciMLOperators ─────────────────── v0.3.7\n",
            "\u001b[32m\u001b[1m   Installed\u001b[22m\u001b[39m PyCall ─────────────────────────── v1.96.4\n",
            "\u001b[32m\u001b[1m   Installed\u001b[22m\u001b[39m PrettyTables ───────────────────── v2.3.1\n",
            "\u001b[32m\u001b[1m   Installed\u001b[22m\u001b[39m MKL_jll ────────────────────────── v2024.0.0+0\n",
            "\u001b[32m\u001b[1m   Installed\u001b[22m\u001b[39m PooledArrays ───────────────────── v1.4.3\n",
            "\u001b[32m\u001b[1m   Installed\u001b[22m\u001b[39m DiffEqCallbacks ────────────────── v2.36.1\n",
            "\u001b[32m\u001b[1m   Installed\u001b[22m\u001b[39m Setfield ───────────────────────── v1.1.1\n",
            "\u001b[32m\u001b[1m   Installed\u001b[22m\u001b[39m ConstructionBase ───────────────── v1.5.4\n",
            "\u001b[32m\u001b[1m   Installed\u001b[22m\u001b[39m DelayDiffEq ────────────────────── v5.45.1\n",
            "\u001b[32m\u001b[1m   Installed\u001b[22m\u001b[39m LoopVectorization ──────────────── v0.12.166\n",
            "\u001b[32m\u001b[1m   Installed\u001b[22m\u001b[39m DataValueInterfaces ────────────── v1.0.0\n",
            "\u001b[32m\u001b[1m   Installed\u001b[22m\u001b[39m EnzymeCore ─────────────────────── v0.6.5\n",
            "\u001b[32m\u001b[1m   Installed\u001b[22m\u001b[39m FastClosures ───────────────────── v0.3.2\n",
            "\u001b[32m\u001b[1m   Installed\u001b[22m\u001b[39m OrderedCollections ─────────────── v1.6.3\n",
            "\u001b[32m\u001b[1m   Installed\u001b[22m\u001b[39m PolyesterWeave ─────────────────── v0.2.1\n",
            "\u001b[32m\u001b[1m   Installed\u001b[22m\u001b[39m ChainRulesCore ─────────────────── v1.20.1\n",
            "\u001b[32m\u001b[1m   Installed\u001b[22m\u001b[39m CSV ────────────────────────────── v0.10.12\n",
            "\u001b[32m\u001b[1m   Installed\u001b[22m\u001b[39m ArrayInterface ─────────────────── v7.7.0\n",
            "\u001b[32m\u001b[1m   Installed\u001b[22m\u001b[39m LineSearches ───────────────────── v7.2.0\n",
            "\u001b[32m\u001b[1m   Installed\u001b[22m\u001b[39m Interpolations ─────────────────── v0.15.1\n",
            "\u001b[32m\u001b[1m   Installed\u001b[22m\u001b[39m Reexport ───────────────────────── v1.2.2\n",
            "\u001b[32m\u001b[1m   Installed\u001b[22m\u001b[39m CloseOpenIntervals ─────────────── v0.1.12\n",
            "\u001b[32m\u001b[1m   Installed\u001b[22m\u001b[39m FastLapackInterface ────────────── v2.0.1\n",
            "\u001b[32m\u001b[1m   Installed\u001b[22m\u001b[39m LogExpFunctions ────────────────── v0.3.26\n",
            "\u001b[32m\u001b[1m   Installed\u001b[22m\u001b[39m KLU ────────────────────────────── v0.4.1\n",
            "\u001b[32m\u001b[1m   Installed\u001b[22m\u001b[39m PackageExtensionCompat ─────────── v1.0.2\n",
            "\u001b[32m\u001b[1m   Installed\u001b[22m\u001b[39m PreallocationTools ─────────────── v0.4.13\n",
            "\u001b[32m\u001b[1m   Installed\u001b[22m\u001b[39m MacroTools ─────────────────────── v0.5.13\n",
            "\u001b[32m\u001b[1m   Installed\u001b[22m\u001b[39m OpenSpecFun_jll ────────────────── v0.5.5+0\n",
            "\u001b[32m\u001b[1m   Installed\u001b[22m\u001b[39m Krylov ─────────────────────────── v0.9.5\n",
            "\u001b[32m\u001b[1m   Installed\u001b[22m\u001b[39m UnPack ─────────────────────────── v1.0.2\n",
            "\u001b[32m\u001b[1m   Installed\u001b[22m\u001b[39m GPUArraysCore ──────────────────── v0.1.5\n",
            "\u001b[32m\u001b[1m   Installed\u001b[22m\u001b[39m SimpleTraits ───────────────────── v0.9.4\n",
            "\u001b[32m\u001b[1m   Installed\u001b[22m\u001b[39m CommonSolve ────────────────────── v0.2.4\n",
            "\u001b[32m\u001b[1m   Installed\u001b[22m\u001b[39m ExponentialUtilities ───────────── v1.25.0\n",
            "\u001b[32m\u001b[1m   Installed\u001b[22m\u001b[39m DocStringExtensions ────────────── v0.9.3\n",
            "\u001b[32m\u001b[1m   Installed\u001b[22m\u001b[39m Crayons ────────────────────────── v4.1.1\n",
            "\u001b[32m\u001b[1m   Installed\u001b[22m\u001b[39m DualNumbers ────────────────────── v0.6.8\n",
            "\u001b[32m\u001b[1m   Installed\u001b[22m\u001b[39m Adapt ──────────────────────────── v3.7.2\n",
            "\u001b[32m\u001b[1m   Installed\u001b[22m\u001b[39m Rmath ──────────────────────────── v0.7.1\n",
            "\u001b[32m\u001b[1m   Installed\u001b[22m\u001b[39m StrideArraysCore ───────────────── v0.5.2\n",
            "\u001b[32m\u001b[1m   Installed\u001b[22m\u001b[39m CPUSummary ─────────────────────── v0.2.4\n",
            "\u001b[32m\u001b[1m   Installed\u001b[22m\u001b[39m RuntimeGeneratedFunctions ──────── v0.5.12\n",
            "\u001b[32m\u001b[1m   Installed\u001b[22m\u001b[39m VectorizationBase ──────────────── v0.21.65\n",
            "\u001b[32m\u001b[1m   Installed\u001b[22m\u001b[39m RecipesBase ────────────────────── v1.3.4\n",
            "\u001b[32m\u001b[1m   Installed\u001b[22m\u001b[39m VertexSafeGraphs ───────────────── v0.2.0\n",
            "\u001b[32m\u001b[1m   Installed\u001b[22m\u001b[39m DataAPI ────────────────────────── v1.16.0\n",
            "\u001b[32m\u001b[1m   Installed\u001b[22m\u001b[39m FixedPointNumbers ──────────────── v0.8.4\n",
            "\u001b[32m\u001b[1m   Installed\u001b[22m\u001b[39m Tables ─────────────────────────── v1.11.1\n",
            "\u001b[32m\u001b[1m   Installed\u001b[22m\u001b[39m TruncatedStacktraces ───────────── v1.4.0\n",
            "\u001b[32m\u001b[1m   Installed\u001b[22m\u001b[39m ConcreteStructs ────────────────── v0.2.3\n",
            "\u001b[32m\u001b[1m   Installed\u001b[22m\u001b[39m Optim ──────────────────────────── v1.9.1\n",
            "\u001b[32m\u001b[1m   Installed\u001b[22m\u001b[39m IteratorInterfaceExtensions ────── v1.0.0\n",
            "\u001b[32m\u001b[1m   Installed\u001b[22m\u001b[39m LaTeXStrings ───────────────────── v1.3.1\n",
            "\u001b[32m\u001b[1m   Installed\u001b[22m\u001b[39m HostCPUFeatures ────────────────── v0.1.16\n",
            "\u001b[32m\u001b[1m   Installed\u001b[22m\u001b[39m PoissonRandom ──────────────────── v0.4.4\n",
            "\u001b[32m\u001b[1m   Installed\u001b[22m\u001b[39m SymbolicIndexingInterface ──────── v0.3.1\n",
            "\u001b[32m\u001b[1m   Installed\u001b[22m\u001b[39m FilePathsBase ──────────────────── v0.9.21\n",
            "\u001b[32m\u001b[1m   Installed\u001b[22m\u001b[39m FillArrays ─────────────────────── v1.9.3\n",
            "\u001b[32m\u001b[1m   Installed\u001b[22m\u001b[39m ForwardDiff ────────────────────── v0.10.36\n",
            "\u001b[32m\u001b[1m   Installed\u001b[22m\u001b[39m ResettableStacks ───────────────── v1.1.1\n",
            "\u001b[32m\u001b[1m   Installed\u001b[22m\u001b[39m AxisAlgorithms ─────────────────── v1.1.0\n",
            "\u001b[32m\u001b[1m   Installed\u001b[22m\u001b[39m QuadGK ─────────────────────────── v2.9.4\n",
            "\u001b[32m\u001b[1m   Installed\u001b[22m\u001b[39m FastBroadcast ──────────────────── v0.2.8\n",
            "\u001b[32m\u001b[1m   Installed\u001b[22m\u001b[39m RecursiveFactorization ─────────── v0.2.21\n",
            "\u001b[32m\u001b[1m   Installed\u001b[22m\u001b[39m Requires ───────────────────────── v1.3.0\n",
            "\u001b[32m\u001b[1m   Installed\u001b[22m\u001b[39m Parameters ─────────────────────── v0.12.3\n",
            "\u001b[32m\u001b[1m   Installed\u001b[22m\u001b[39m Distributions ──────────────────── v0.25.107\n",
            "\u001b[32m\u001b[1m   Installed\u001b[22m\u001b[39m WoodburyMatrices ───────────────── v1.0.0\n",
            "\u001b[32m\u001b[1m   Installed\u001b[22m\u001b[39m StringManipulation ─────────────── v0.3.4\n",
            "\u001b[32m\u001b[1m   Installed\u001b[22m\u001b[39m SortingAlgorithms ──────────────── v1.2.1\n",
            "\u001b[32m\u001b[1m   Installed\u001b[22m\u001b[39m SparseDiffTools ────────────────── v2.16.0\n",
            "\u001b[32m\u001b[1m   Installed\u001b[22m\u001b[39m Sparspak ───────────────────────── v0.3.9\n",
            "\u001b[32m\u001b[1m    Updating\u001b[22m\u001b[39m `~/.julia/environments/v1.9/Project.toml`\n",
            "  \u001b[90m[336ed68f] \u001b[39m\u001b[92m+ CSV v0.10.12\u001b[39m\n",
            "  \u001b[90m[a93c6f00] \u001b[39m\u001b[92m+ DataFrames v1.6.1\u001b[39m\n",
            "  \u001b[90m[0c46a032] \u001b[39m\u001b[92m+ DifferentialEquations v7.12.0\u001b[39m\n",
            "  \u001b[90m[a98d9a8b] \u001b[39m\u001b[92m+ Interpolations v0.15.1\u001b[39m\n",
            "  \u001b[90m[b964fa9f] \u001b[39m\u001b[92m+ LaTeXStrings v1.3.1\u001b[39m\n",
            "  \u001b[90m[d330b81b] \u001b[39m\u001b[92m+ PyPlot v2.11.2\u001b[39m\n",
            "  \u001b[90m[276daf66] \u001b[39m\u001b[92m+ SpecialFunctions v2.3.1\u001b[39m\n",
            "  \u001b[90m[37e2e46d] \u001b[39m\u001b[92m+ LinearAlgebra\u001b[39m\n",
            "\u001b[32m\u001b[1m    Updating\u001b[22m\u001b[39m `~/.julia/environments/v1.9/Manifest.toml`\n",
            "  \u001b[90m[47edcb42] \u001b[39m\u001b[92m+ ADTypes v0.2.6\u001b[39m\n",
            "\u001b[33m⌅\u001b[39m \u001b[90m[79e6a3ab] \u001b[39m\u001b[92m+ Adapt v3.7.2\u001b[39m\n",
            "  \u001b[90m[ec485272] \u001b[39m\u001b[92m+ ArnoldiMethod v0.2.0\u001b[39m\n",
            "  \u001b[90m[4fba245c] \u001b[39m\u001b[92m+ ArrayInterface v7.7.0\u001b[39m\n",
            "  \u001b[90m[4c555306] \u001b[39m\u001b[92m+ ArrayLayouts v1.5.2\u001b[39m\n",
            "  \u001b[90m[13072b0f] \u001b[39m\u001b[92m+ AxisAlgorithms v1.1.0\u001b[39m\n",
            "  \u001b[90m[aae01518] \u001b[39m\u001b[92m+ BandedMatrices v1.4.0\u001b[39m\n",
            "  \u001b[90m[62783981] \u001b[39m\u001b[92m+ BitTwiddlingConvenienceFunctions v0.1.5\u001b[39m\n",
            "\u001b[32m⌃\u001b[39m \u001b[90m[764a87c0] \u001b[39m\u001b[92m+ BoundaryValueDiffEq v5.6.0\u001b[39m\n",
            "  \u001b[90m[fa961155] \u001b[39m\u001b[92m+ CEnum v0.5.0\u001b[39m\n",
            "  \u001b[90m[2a0fbf3d] \u001b[39m\u001b[92m+ CPUSummary v0.2.4\u001b[39m\n",
            "  \u001b[90m[336ed68f] \u001b[39m\u001b[92m+ CSV v0.10.12\u001b[39m\n",
            "  \u001b[90m[49dc2e85] \u001b[39m\u001b[92m+ Calculus v0.5.1\u001b[39m\n",
            "  \u001b[90m[d360d2e6] \u001b[39m\u001b[92m+ ChainRulesCore v1.20.1\u001b[39m\n",
            "  \u001b[90m[fb6a15b2] \u001b[39m\u001b[92m+ CloseOpenIntervals v0.1.12\u001b[39m\n",
            "  \u001b[90m[523fee87] \u001b[39m\u001b[92m+ CodecBzip2 v0.8.1\u001b[39m\n",
            "  \u001b[90m[944b1d66] \u001b[39m\u001b[92m+ CodecZlib v0.7.4\u001b[39m\n",
            "  \u001b[90m[3da002f7] \u001b[39m\u001b[92m+ ColorTypes v0.11.4\u001b[39m\n",
            "  \u001b[90m[5ae59095] \u001b[39m\u001b[92m+ Colors v0.12.10\u001b[39m\n",
            "  \u001b[90m[38540f10] \u001b[39m\u001b[92m+ CommonSolve v0.2.4\u001b[39m\n",
            "  \u001b[90m[bbf7d656] \u001b[39m\u001b[92m+ CommonSubexpressions v0.3.0\u001b[39m\n",
            "  \u001b[90m[34da2185] \u001b[39m\u001b[92m+ Compat v4.12.0\u001b[39m\n",
            "  \u001b[90m[2569d6c7] \u001b[39m\u001b[92m+ ConcreteStructs v0.2.3\u001b[39m\n",
            "  \u001b[90m[187b0558] \u001b[39m\u001b[92m+ ConstructionBase v1.5.4\u001b[39m\n",
            "  \u001b[90m[adafc99b] \u001b[39m\u001b[92m+ CpuId v0.3.1\u001b[39m\n",
            "  \u001b[90m[a8cc5b0e] \u001b[39m\u001b[92m+ Crayons v4.1.1\u001b[39m\n",
            "  \u001b[90m[9a962f9c] \u001b[39m\u001b[92m+ DataAPI v1.16.0\u001b[39m\n",
            "  \u001b[90m[a93c6f00] \u001b[39m\u001b[92m+ DataFrames v1.6.1\u001b[39m\n",
            "  \u001b[90m[864edb3b] \u001b[39m\u001b[92m+ DataStructures v0.18.16\u001b[39m\n",
            "  \u001b[90m[e2d170a0] \u001b[39m\u001b[92m+ DataValueInterfaces v1.0.0\u001b[39m\n",
            "\u001b[32m⌃\u001b[39m \u001b[90m[bcd4f6db] \u001b[39m\u001b[92m+ DelayDiffEq v5.45.1\u001b[39m\n",
            "\u001b[32m⌃\u001b[39m \u001b[90m[2b5f629d] \u001b[39m\u001b[92m+ DiffEqBase v6.145.6\u001b[39m\n",
            "  \u001b[90m[459566f4] \u001b[39m\u001b[92m+ DiffEqCallbacks v2.36.1\u001b[39m\n",
            "  \u001b[90m[77a26b50] \u001b[39m\u001b[92m+ DiffEqNoiseProcess v5.20.0\u001b[39m\n",
            "  \u001b[90m[163ba53b] \u001b[39m\u001b[92m+ DiffResults v1.1.0\u001b[39m\n",
            "  \u001b[90m[b552c78f] \u001b[39m\u001b[92m+ DiffRules v1.15.1\u001b[39m\n",
            "  \u001b[90m[0c46a032] \u001b[39m\u001b[92m+ DifferentialEquations v7.12.0\u001b[39m\n",
            "  \u001b[90m[b4f34e82] \u001b[39m\u001b[92m+ Distances v0.10.11\u001b[39m\n",
            "  \u001b[90m[31c24e10] \u001b[39m\u001b[92m+ Distributions v0.25.107\u001b[39m\n",
            "  \u001b[90m[ffbed154] \u001b[39m\u001b[92m+ DocStringExtensions v0.9.3\u001b[39m\n",
            "  \u001b[90m[fa6b7ba4] \u001b[39m\u001b[92m+ DualNumbers v0.6.8\u001b[39m\n",
            "  \u001b[90m[4e289a0a] \u001b[39m\u001b[92m+ EnumX v1.0.4\u001b[39m\n",
            "  \u001b[90m[f151be2c] \u001b[39m\u001b[92m+ EnzymeCore v0.6.5\u001b[39m\n",
            "  \u001b[90m[d4d017d3] \u001b[39m\u001b[92m+ ExponentialUtilities v1.25.0\u001b[39m\n",
            "  \u001b[90m[e2ba6199] \u001b[39m\u001b[92m+ ExprTools v0.1.10\u001b[39m\n",
            "  \u001b[90m[9d29842c] \u001b[39m\u001b[92m+ FastAlmostBandedMatrices v0.1.0\u001b[39m\n",
            "  \u001b[90m[7034ab61] \u001b[39m\u001b[92m+ FastBroadcast v0.2.8\u001b[39m\n",
            "  \u001b[90m[9aa1b823] \u001b[39m\u001b[92m+ FastClosures v0.3.2\u001b[39m\n",
            "  \u001b[90m[29a986be] \u001b[39m\u001b[92m+ FastLapackInterface v2.0.1\u001b[39m\n",
            "  \u001b[90m[48062228] \u001b[39m\u001b[92m+ FilePathsBase v0.9.21\u001b[39m\n",
            "  \u001b[90m[1a297f60] \u001b[39m\u001b[92m+ FillArrays v1.9.3\u001b[39m\n",
            "  \u001b[90m[6a86dc24] \u001b[39m\u001b[92m+ FiniteDiff v2.22.0\u001b[39m\n",
            "  \u001b[90m[53c48c17] \u001b[39m\u001b[92m+ FixedPointNumbers v0.8.4\u001b[39m\n",
            "  \u001b[90m[f6369f11] \u001b[39m\u001b[92m+ ForwardDiff v0.10.36\u001b[39m\n",
            "  \u001b[90m[069b7b12] \u001b[39m\u001b[92m+ FunctionWrappers v1.1.3\u001b[39m\n",
            "  \u001b[90m[77dc65aa] \u001b[39m\u001b[92m+ FunctionWrappersWrappers v0.1.3\u001b[39m\n",
            "  \u001b[90m[d9f16b24] \u001b[39m\u001b[92m+ Functors v0.4.5\u001b[39m\n",
            "\u001b[32m⌃\u001b[39m \u001b[90m[46192b85] \u001b[39m\u001b[92m+ GPUArraysCore v0.1.5\u001b[39m\n",
            "  \u001b[90m[c145ed77] \u001b[39m\u001b[92m+ GenericSchur v0.5.3\u001b[39m\n",
            "  \u001b[90m[86223c79] \u001b[39m\u001b[92m+ Graphs v1.9.0\u001b[39m\n",
            "  \u001b[90m[3e5b6fbb] \u001b[39m\u001b[92m+ HostCPUFeatures v0.1.16\u001b[39m\n",
            "  \u001b[90m[34004b35] \u001b[39m\u001b[92m+ HypergeometricFunctions v0.3.23\u001b[39m\n",
            "  \u001b[90m[615f187c] \u001b[39m\u001b[92m+ IfElse v0.1.1\u001b[39m\n",
            "  \u001b[90m[d25df0c9] \u001b[39m\u001b[92m+ Inflate v0.1.4\u001b[39m\n",
            "  \u001b[90m[842dd82b] \u001b[39m\u001b[92m+ InlineStrings v1.4.0\u001b[39m\n",
            "  \u001b[90m[a98d9a8b] \u001b[39m\u001b[92m+ Interpolations v0.15.1\u001b[39m\n",
            "  \u001b[90m[41ab1584] \u001b[39m\u001b[92m+ InvertedIndices v1.3.0\u001b[39m\n",
            "  \u001b[90m[92d709cd] \u001b[39m\u001b[92m+ IrrationalConstants v0.2.2\u001b[39m\n",
            "  \u001b[90m[82899510] \u001b[39m\u001b[92m+ IteratorInterfaceExtensions v1.0.0\u001b[39m\n",
            "  \u001b[90m[ccbc3e58] \u001b[39m\u001b[92m+ JumpProcesses v9.10.1\u001b[39m\n",
            "  \u001b[90m[ef3ab10e] \u001b[39m\u001b[92m+ KLU v0.4.1\u001b[39m\n",
            "  \u001b[90m[ba0b0d4f] \u001b[39m\u001b[92m+ Krylov v0.9.5\u001b[39m\n",
            "  \u001b[90m[b964fa9f] \u001b[39m\u001b[92m+ LaTeXStrings v1.3.1\u001b[39m\n",
            "  \u001b[90m[10f19ff3] \u001b[39m\u001b[92m+ LayoutPointers v0.1.15\u001b[39m\n",
            "  \u001b[90m[50d2b5c4] \u001b[39m\u001b[92m+ Lazy v0.15.1\u001b[39m\n",
            "  \u001b[90m[5078a376] \u001b[39m\u001b[92m+ LazyArrays v1.8.3\u001b[39m\n",
            "  \u001b[90m[2d8b4e74] \u001b[39m\u001b[92m+ LevyArea v1.0.0\u001b[39m\n",
            "  \u001b[90m[d3d80556] \u001b[39m\u001b[92m+ LineSearches v7.2.0\u001b[39m\n",
            "  \u001b[90m[7ed4a6bd] \u001b[39m\u001b[92m+ LinearSolve v2.22.1\u001b[39m\n",
            "  \u001b[90m[2ab3a3ac] \u001b[39m\u001b[92m+ LogExpFunctions v0.3.26\u001b[39m\n",
            "  \u001b[90m[bdcacae8] \u001b[39m\u001b[92m+ LoopVectorization v0.12.166\u001b[39m\n",
            "  \u001b[90m[1914dd2f] \u001b[39m\u001b[92m+ MacroTools v0.5.13\u001b[39m\n",
            "  \u001b[90m[d125e4d3] \u001b[39m\u001b[92m+ ManualMemory v0.1.8\u001b[39m\n",
            "  \u001b[90m[b8f27783] \u001b[39m\u001b[92m+ MathOptInterface v1.25.2\u001b[39m\n",
            "  \u001b[90m[a3b82374] \u001b[39m\u001b[92m+ MatrixFactorizations v2.1.0\u001b[39m\n",
            "  \u001b[90m[bb5d69b7] \u001b[39m\u001b[92m+ MaybeInplace v0.1.1\u001b[39m\n",
            "  \u001b[90m[e1d29d7a] \u001b[39m\u001b[92m+ Missings v1.1.0\u001b[39m\n",
            "  \u001b[90m[46d2c3a1] \u001b[39m\u001b[92m+ MuladdMacro v0.2.4\u001b[39m\n",
            "  \u001b[90m[d8a4904e] \u001b[39m\u001b[92m+ MutableArithmetics v1.4.0\u001b[39m\n",
            "  \u001b[90m[d41bc354] \u001b[39m\u001b[92m+ NLSolversBase v7.8.3\u001b[39m\n",
            "  \u001b[90m[2774e3e8] \u001b[39m\u001b[92m+ NLsolve v4.5.1\u001b[39m\n",
            "  \u001b[90m[77ba4419] \u001b[39m\u001b[92m+ NaNMath v1.0.2\u001b[39m\n",
            "\u001b[33m⌅\u001b[39m \u001b[90m[8913a72c] \u001b[39m\u001b[92m+ NonlinearSolve v3.4.0\u001b[39m\n",
            "  \u001b[90m[6fe1bfb0] \u001b[39m\u001b[92m+ OffsetArrays v1.13.0\u001b[39m\n",
            "  \u001b[90m[429524aa] \u001b[39m\u001b[92m+ Optim v1.9.1\u001b[39m\n",
            "  \u001b[90m[bac558e1] \u001b[39m\u001b[92m+ OrderedCollections v1.6.3\u001b[39m\n",
            "\u001b[33m⌅\u001b[39m \u001b[90m[1dea7af3] \u001b[39m\u001b[92m+ OrdinaryDiffEq v6.66.0\u001b[39m\n",
            "  \u001b[90m[90014a1f] \u001b[39m\u001b[92m+ PDMats v0.11.31\u001b[39m\n",
            "  \u001b[90m[65ce6f38] \u001b[39m\u001b[92m+ PackageExtensionCompat v1.0.2\u001b[39m\n",
            "  \u001b[90m[d96e819e] \u001b[39m\u001b[92m+ Parameters v0.12.3\u001b[39m\n",
            "  \u001b[90m[e409e4f3] \u001b[39m\u001b[92m+ PoissonRandom v0.4.4\u001b[39m\n",
            "  \u001b[90m[f517fe37] \u001b[39m\u001b[92m+ Polyester v0.7.9\u001b[39m\n",
            "  \u001b[90m[1d0040c9] \u001b[39m\u001b[92m+ PolyesterWeave v0.2.1\u001b[39m\n",
            "  \u001b[90m[2dfb63ee] \u001b[39m\u001b[92m+ PooledArrays v1.4.3\u001b[39m\n",
            "  \u001b[90m[85a6dd25] \u001b[39m\u001b[92m+ PositiveFactorizations v0.2.4\u001b[39m\n",
            "\u001b[33m⌅\u001b[39m \u001b[90m[d236fae5] \u001b[39m\u001b[92m+ PreallocationTools v0.4.13\u001b[39m\n",
            "  \u001b[90m[08abe8d2] \u001b[39m\u001b[92m+ PrettyTables v2.3.1\u001b[39m\n",
            "  \u001b[90m[438e738f] \u001b[39m\u001b[92m+ PyCall v1.96.4\u001b[39m\n",
            "  \u001b[90m[d330b81b] \u001b[39m\u001b[92m+ PyPlot v2.11.2\u001b[39m\n",
            "  \u001b[90m[1fd47b50] \u001b[39m\u001b[92m+ QuadGK v2.9.4\u001b[39m\n",
            "  \u001b[90m[74087812] \u001b[39m\u001b[92m+ Random123 v1.6.2\u001b[39m\n",
            "  \u001b[90m[e6cf234a] \u001b[39m\u001b[92m+ RandomNumbers v1.5.3\u001b[39m\n",
            "  \u001b[90m[c84ed2f1] \u001b[39m\u001b[92m+ Ratios v0.4.5\u001b[39m\n",
            "  \u001b[90m[3cdcf5f2] \u001b[39m\u001b[92m+ RecipesBase v1.3.4\u001b[39m\n",
            "\u001b[33m⌅\u001b[39m \u001b[90m[731186ca] \u001b[39m\u001b[92m+ RecursiveArrayTools v3.3.3\u001b[39m\n",
            "  \u001b[90m[f2c3362d] \u001b[39m\u001b[92m+ RecursiveFactorization v0.2.21\u001b[39m\n",
            "  \u001b[90m[189a3867] \u001b[39m\u001b[92m+ Reexport v1.2.2\u001b[39m\n",
            "  \u001b[90m[ae029012] \u001b[39m\u001b[92m+ Requires v1.3.0\u001b[39m\n",
            "  \u001b[90m[ae5879a3] \u001b[39m\u001b[92m+ ResettableStacks v1.1.1\u001b[39m\n",
            "  \u001b[90m[79098fc4] \u001b[39m\u001b[92m+ Rmath v0.7.1\u001b[39m\n",
            "  \u001b[90m[7e49a35a] \u001b[39m\u001b[92m+ RuntimeGeneratedFunctions v0.5.12\u001b[39m\n",
            "  \u001b[90m[94e857df] \u001b[39m\u001b[92m+ SIMDTypes v0.1.0\u001b[39m\n",
            "  \u001b[90m[476501e8] \u001b[39m\u001b[92m+ SLEEFPirates v0.6.42\u001b[39m\n",
            "\u001b[32m⌃\u001b[39m \u001b[90m[0bca4576] \u001b[39m\u001b[92m+ SciMLBase v2.15.2\u001b[39m\n",
            "  \u001b[90m[c0aeaf25] \u001b[39m\u001b[92m+ SciMLOperators v0.3.7\u001b[39m\n",
            "  \u001b[90m[91c51154] \u001b[39m\u001b[92m+ SentinelArrays v1.4.1\u001b[39m\n",
            "  \u001b[90m[efcf1570] \u001b[39m\u001b[92m+ Setfield v1.1.1\u001b[39m\n",
            "  \u001b[90m[727e6d20] \u001b[39m\u001b[92m+ SimpleNonlinearSolve v1.3.1\u001b[39m\n",
            "  \u001b[90m[699a6c99] \u001b[39m\u001b[92m+ SimpleTraits v0.9.4\u001b[39m\n",
            "  \u001b[90m[ce78b400] \u001b[39m\u001b[92m+ SimpleUnPack v1.1.0\u001b[39m\n",
            "  \u001b[90m[a2af1166] \u001b[39m\u001b[92m+ SortingAlgorithms v1.2.1\u001b[39m\n",
            "  \u001b[90m[47a9eef4] \u001b[39m\u001b[92m+ SparseDiffTools v2.16.0\u001b[39m\n",
            "  \u001b[90m[e56a9233] \u001b[39m\u001b[92m+ Sparspak v0.3.9\u001b[39m\n",
            "  \u001b[90m[276daf66] \u001b[39m\u001b[92m+ SpecialFunctions v2.3.1\u001b[39m\n",
            "  \u001b[90m[aedffcd0] \u001b[39m\u001b[92m+ Static v0.8.8\u001b[39m\n",
            "  \u001b[90m[0d7ed370] \u001b[39m\u001b[92m+ StaticArrayInterface v1.5.0\u001b[39m\n",
            "  \u001b[90m[90137ffa] \u001b[39m\u001b[92m+ StaticArrays v1.9.2\u001b[39m\n",
            "  \u001b[90m[1e83bf80] \u001b[39m\u001b[92m+ StaticArraysCore v1.4.2\u001b[39m\n",
            "  \u001b[90m[82ae8749] \u001b[39m\u001b[92m+ StatsAPI v1.7.0\u001b[39m\n",
            "  \u001b[90m[2913bbd2] \u001b[39m\u001b[92m+ StatsBase v0.34.2\u001b[39m\n",
            "  \u001b[90m[4c63d2b9] \u001b[39m\u001b[92m+ StatsFuns v1.3.0\u001b[39m\n",
            "  \u001b[90m[9672c7b4] \u001b[39m\u001b[92m+ SteadyStateDiffEq v2.0.1\u001b[39m\n",
            "  \u001b[90m[789caeaf] \u001b[39m\u001b[92m+ StochasticDiffEq v6.64.0\u001b[39m\n",
            "  \u001b[90m[7792a7ef] \u001b[39m\u001b[92m+ StrideArraysCore v0.5.2\u001b[39m\n",
            "  \u001b[90m[892a3eda] \u001b[39m\u001b[92m+ StringManipulation v0.3.4\u001b[39m\n",
            "  \u001b[90m[c3572dad] \u001b[39m\u001b[92m+ Sundials v4.23.2\u001b[39m\n",
            "\u001b[33m⌅\u001b[39m \u001b[90m[2efcf032] \u001b[39m\u001b[92m+ SymbolicIndexingInterface v0.3.1\u001b[39m\n",
            "  \u001b[90m[3783bdb8] \u001b[39m\u001b[92m+ TableTraits v1.0.1\u001b[39m\n",
            "  \u001b[90m[bd369af6] \u001b[39m\u001b[92m+ Tables v1.11.1\u001b[39m\n",
            "  \u001b[90m[8290d209] \u001b[39m\u001b[92m+ ThreadingUtilities v0.5.2\u001b[39m\n",
            "  \u001b[90m[3bb67fe8] \u001b[39m\u001b[92m+ TranscodingStreams v0.10.2\u001b[39m\n",
            "  \u001b[90m[d5829a12] \u001b[39m\u001b[92m+ TriangularSolve v0.1.20\u001b[39m\n",
            "  \u001b[90m[410a4b4d] \u001b[39m\u001b[92m+ Tricks v0.1.8\u001b[39m\n",
            "  \u001b[90m[781d530d] \u001b[39m\u001b[92m+ TruncatedStacktraces v1.4.0\u001b[39m\n",
            "  \u001b[90m[3a884ed6] \u001b[39m\u001b[92m+ UnPack v1.0.2\u001b[39m\n",
            "  \u001b[90m[3d5dd08c] \u001b[39m\u001b[92m+ VectorizationBase v0.21.65\u001b[39m\n",
            "  \u001b[90m[19fa3120] \u001b[39m\u001b[92m+ VertexSafeGraphs v0.2.0\u001b[39m\n",
            "  \u001b[90m[ea10d353] \u001b[39m\u001b[92m+ WeakRefStrings v1.4.2\u001b[39m\n",
            "  \u001b[90m[efce3f68] \u001b[39m\u001b[92m+ WoodburyMatrices v1.0.0\u001b[39m\n",
            "  \u001b[90m[76eceee3] \u001b[39m\u001b[92m+ WorkerUtilities v1.6.1\u001b[39m\n",
            "  \u001b[90m[6e34b625] \u001b[39m\u001b[92m+ Bzip2_jll v1.0.8+1\u001b[39m\n",
            "  \u001b[90m[1d5cc7b8] \u001b[39m\u001b[92m+ IntelOpenMP_jll v2024.0.2+0\u001b[39m\n",
            "  \u001b[90m[856f044c] \u001b[39m\u001b[92m+ MKL_jll v2024.0.0+0\u001b[39m\n",
            "  \u001b[90m[efe28fd5] \u001b[39m\u001b[92m+ OpenSpecFun_jll v0.5.5+0\u001b[39m\n",
            "  \u001b[90m[f50d1b31] \u001b[39m\u001b[92m+ Rmath_jll v0.4.0+0\u001b[39m\n",
            "\u001b[33m⌅\u001b[39m \u001b[90m[fb77eaff] \u001b[39m\u001b[92m+ Sundials_jll v5.2.1+0\u001b[39m\n",
            "  \u001b[90m[8ba89e20] \u001b[39m\u001b[92m+ Distributed\u001b[39m\n",
            "  \u001b[90m[9fa8497b] \u001b[39m\u001b[92m+ Future\u001b[39m\n",
            "  \u001b[90m[4af54fe1] \u001b[39m\u001b[92m+ LazyArtifacts\u001b[39m\n",
            "  \u001b[90m[1a1011a3] \u001b[39m\u001b[92m+ SharedArrays\u001b[39m\n",
            "  \u001b[90m[4607b0f0] \u001b[39m\u001b[92m+ SuiteSparse\u001b[39m\n",
            "  \u001b[90m[05823500] \u001b[39m\u001b[92m+ OpenLibm_jll v0.8.1+0\u001b[39m\n",
            "\u001b[36m\u001b[1m        Info\u001b[22m\u001b[39m Packages marked with \u001b[32m⌃\u001b[39m and \u001b[33m⌅\u001b[39m have new versions available, but those with \u001b[33m⌅\u001b[39m are restricted by compatibility constraints from upgrading. To see why use `status --outdated -m`\n",
            "\u001b[32m\u001b[1m    Building\u001b[22m\u001b[39m PyCall → `~/.julia/scratchspaces/44cfe95a-1eb2-52ea-b672-e2afdf69b78f/9816a3826b0ebf49ab4926e2b18842ad8b5c8f04/build.log`\n",
            "\u001b[32m\u001b[1mPrecompiling\u001b[22m\u001b[39m project...\n",
            "\u001b[32m  ✓ \u001b[39m\u001b[90mSimpleUnPack\u001b[39m\n",
            "\u001b[32m  ✓ \u001b[39m\u001b[90mMuladdMacro\u001b[39m\n",
            "\u001b[32m  ✓ \u001b[39m\u001b[90mFunctionWrappers\u001b[39m\n",
            "\u001b[32m  ✓ \u001b[39m\u001b[90mConcreteStructs\u001b[39m\n",
            "\u001b[32m  ✓ \u001b[39m\u001b[90mCalculus\u001b[39m\n",
            "\u001b[32m  ✓ \u001b[39mLaTeXStrings\n",
            "\u001b[32m  ✓ \u001b[39m\u001b[90mSentinelArrays\u001b[39m\n",
            "\u001b[32m  ✓ \u001b[39m\u001b[90mPositiveFactorizations\u001b[39m\n",
            "\u001b[32m  ✓ \u001b[39m\u001b[90mExprTools\u001b[39m\n",
            "\u001b[32m  ✓ \u001b[39m\u001b[90mIteratorInterfaceExtensions\u001b[39m\n",
            "\u001b[32m  ✓ \u001b[39m\u001b[90mTricks\u001b[39m\n",
            "\u001b[32m  ✓ \u001b[39m\u001b[90mWorkerUtilities\u001b[39m\n",
            "\u001b[32m  ✓ \u001b[39m\u001b[90mStatsAPI\u001b[39m\n",
            "\u001b[32m  ✓ \u001b[39m\u001b[90mADTypes\u001b[39m\n",
            "\u001b[32m  ✓ \u001b[39m\u001b[90mCEnum\u001b[39m\n",
            "\u001b[32m  ✓ \u001b[39m\u001b[90mUnPack\u001b[39m\n",
            "\u001b[32m  ✓ \u001b[39m\u001b[90mOffsetArrays\u001b[39m\n",
            "\u001b[32m  ✓ \u001b[39m\u001b[90mFillArrays\u001b[39m\n",
            "\u001b[32m  ✓ \u001b[39m\u001b[90mGenericSchur\u001b[39m\n",
            "\u001b[32m  ✓ \u001b[39m\u001b[90mCommonSolve\u001b[39m\n",
            "\u001b[32m  ✓ \u001b[39m\u001b[90mWoodburyMatrices\u001b[39m\n",
            "\u001b[32m  ✓ \u001b[39m\u001b[90mMacroTools\u001b[39m\n",
            "\u001b[32m  ✓ \u001b[39m\u001b[90mManualMemory\u001b[39m\n",
            "\u001b[32m  ✓ \u001b[39m\u001b[90mMutableArithmetics\u001b[39m\n",
            "\u001b[32m  ✓ \u001b[39m\u001b[90mPoissonRandom\u001b[39m\n",
            "\u001b[32m  ✓ \u001b[39m\u001b[90mCompat\u001b[39m\n",
            "\u001b[32m  ✓ \u001b[39m\u001b[90mOrderedCollections\u001b[39m\n",
            "\u001b[32m  ✓ \u001b[39m\u001b[90mRequires\u001b[39m\n",
            "\u001b[32m  ✓ \u001b[39m\u001b[90mDataValueInterfaces\u001b[39m\n",
            "\u001b[32m  ✓ \u001b[39m\u001b[90mEnumX\u001b[39m\n",
            "\u001b[32m  ✓ \u001b[39m\u001b[90mReexport\u001b[39m\n",
            "\u001b[32m  ✓ \u001b[39m\u001b[90mSIMDTypes\u001b[39m\n",
            "\u001b[32m  ✓ \u001b[39m\u001b[90mKrylov\u001b[39m\n",
            "\u001b[32m  ✓ \u001b[39m\u001b[90mDocStringExtensions\u001b[39m\n",
            "\u001b[32m  ✓ \u001b[39m\u001b[90mNaNMath\u001b[39m\n",
            "\u001b[32m  ✓ \u001b[39m\u001b[90mTranscodingStreams\u001b[39m\n",
            "\u001b[32m  ✓ \u001b[39m\u001b[90mIrrationalConstants\u001b[39m\n",
            "\u001b[32m  ✓ \u001b[39m\u001b[90mCpuId\u001b[39m\n",
            "\u001b[32m  ✓ \u001b[39m\u001b[90mInvertedIndices\u001b[39m\n",
            "\u001b[32m  ✓ \u001b[39m\u001b[90mInflate\u001b[39m\n",
            "\u001b[32m  ✓ \u001b[39m\u001b[90mIfElse\u001b[39m\n",
            "\u001b[32m  ✓ \u001b[39m\u001b[90mEnzymeCore\u001b[39m\n",
            "\u001b[32m  ✓ \u001b[39m\u001b[90mConstructionBase\u001b[39m\n",
            "\u001b[32m  ✓ \u001b[39m\u001b[90mPackageExtensionCompat\u001b[39m\n",
            "\u001b[32m  ✓ \u001b[39m\u001b[90mDataAPI\u001b[39m\n",
            "\u001b[32m  ✓ \u001b[39m\u001b[90mSymbolicIndexingInterface\u001b[39m\n",
            "\u001b[32m  ✓ \u001b[39m\u001b[90mFastClosures\u001b[39m\n",
            "\u001b[32m  ✓ \u001b[39m\u001b[90mFastLapackInterface\u001b[39m\n",
            "\u001b[32m  ✓ \u001b[39m\u001b[90mCrayons\u001b[39m\n",
            "\u001b[32m  ✓ \u001b[39m\u001b[90mFunctors\u001b[39m\n",
            "\u001b[32m  ✓ \u001b[39m\u001b[90mStaticArraysCore\u001b[39m\n",
            "\u001b[32m  ✓ \u001b[39m\u001b[90mPDMats\u001b[39m\n",
            "\u001b[32m  ✓ \u001b[39m\u001b[90mKLU\u001b[39m\n",
            "\u001b[32m  ✓ \u001b[39m\u001b[90mRecipesBase\u001b[39m\n",
            "\u001b[32m  ✓ \u001b[39m\u001b[90mBzip2_jll\u001b[39m\n",
            "\u001b[32m  ✓ \u001b[39m\u001b[90mFixedPointNumbers\u001b[39m\n",
            "\u001b[32m  ✓ \u001b[39m\u001b[90mStringManipulation\u001b[39m\n",
            "\u001b[32m  ✓ \u001b[39m\u001b[90mRmath_jll\u001b[39m\n",
            "\u001b[32m  ✓ \u001b[39m\u001b[90mIntelOpenMP_jll\u001b[39m\n",
            "\u001b[32m  ✓ \u001b[39m\u001b[90mOpenSpecFun_jll\u001b[39m\n",
            "\u001b[32m  ✓ \u001b[39m\u001b[90mSundials_jll\u001b[39m\n",
            "\u001b[32m  ✓ \u001b[39m\u001b[90mFunctionWrappersWrappers\u001b[39m\n",
            "\u001b[32m  ✓ \u001b[39m\u001b[90mRuntimeGeneratedFunctions\u001b[39m\n",
            "\u001b[32m  ✓ \u001b[39m\u001b[90mInlineStrings\u001b[39m\n",
            "\u001b[32m  ✓ \u001b[39m\u001b[90mTableTraits\u001b[39m\n",
            "\u001b[32m  ✓ \u001b[39m\u001b[90mDistances\u001b[39m\n",
            "\u001b[32m  ✓ \u001b[39m\u001b[90mSparspak\u001b[39m\n",
            "\u001b[32m  ✓ \u001b[39m\u001b[90mFillArrays → FillArraysSparseArraysExt\u001b[39m\n",
            "\u001b[32m  ✓ \u001b[39m\u001b[90mFillArrays → FillArraysStatisticsExt\u001b[39m\n",
            "\u001b[32m  ✓ \u001b[39m\u001b[90mAxisAlgorithms\u001b[39m\n",
            "\u001b[32m  ✓ \u001b[39m\u001b[90mCommonSubexpressions\u001b[39m\n",
            "\u001b[32m  ✓ \u001b[39m\u001b[90mTruncatedStacktraces\u001b[39m\n",
            "\u001b[32m  ✓ \u001b[39m\u001b[90mSimpleTraits\u001b[39m\n",
            "\u001b[32m  ✓ \u001b[39m\u001b[90mThreadingUtilities\u001b[39m\n",
            "\u001b[32m  ✓ \u001b[39m\u001b[90mLazy\u001b[39m\n",
            "\u001b[32m  ✓ \u001b[39m\u001b[90mCompat → CompatLinearAlgebraExt\u001b[39m\n",
            "\u001b[32m  ✓ \u001b[39m\u001b[90mFilePathsBase\u001b[39m\n",
            "\u001b[32m  ✓ \u001b[39m\u001b[90mChainRulesCore\u001b[39m\n",
            "\u001b[32m  ✓ \u001b[39m\u001b[90mParameters\u001b[39m\n",
            "\u001b[32m  ✓ \u001b[39m\u001b[90mRatios\u001b[39m\n",
            "\u001b[32m  ✓ \u001b[39m\u001b[90mRandomNumbers\u001b[39m\n",
            "\u001b[32m  ✓ \u001b[39m\u001b[90mAdapt\u001b[39m\n",
            "\u001b[32m  ✓ \u001b[39m\u001b[90mTranscodingStreams → TestExt\u001b[39m\n",
            "\u001b[32m  ✓ \u001b[39m\u001b[90mLogExpFunctions\u001b[39m\n",
            "\u001b[32m  ✓ \u001b[39m\u001b[90mCodecZlib\u001b[39m\n",
            "\u001b[32m  ✓ \u001b[39m\u001b[90mPooledArrays\u001b[39m\n",
            "\u001b[32m  ✓ \u001b[39m\u001b[90mStatic\u001b[39m\n",
            "\u001b[32m  ✓ \u001b[39m\u001b[90mDiffResults\u001b[39m\n",
            "\u001b[32m  ✓ \u001b[39m\u001b[90mMissings\u001b[39m\n",
            "\u001b[32m  ✓ \u001b[39m\u001b[90mFillArrays → FillArraysPDMatsExt\u001b[39m\n",
            "\u001b[32m  ✓ \u001b[39m\u001b[90mColorTypes\u001b[39m\n",
            "\u001b[32m  ✓ \u001b[39m\u001b[90mRmath\u001b[39m\n",
            "\u001b[32m  ✓ \u001b[39m\u001b[90mStaticArrays\u001b[39m\n",
            "\u001b[32m  ✓ \u001b[39m\u001b[90mWeakRefStrings\u001b[39m\n",
            "\u001b[32m  ✓ \u001b[39m\u001b[90mPyCall\u001b[39m\n",
            "\u001b[32m  ✓ \u001b[39m\u001b[90mTables\u001b[39m\n",
            "\u001b[32m  ✓ \u001b[39m\u001b[90mDistances → DistancesSparseArraysExt\u001b[39m\n",
            "\u001b[32m  ✓ \u001b[39m\u001b[90mChainRulesCore → ChainRulesCoreSparseArraysExt\u001b[39m\n",
            "\u001b[32m  ✓ \u001b[39m\u001b[90mDistances → DistancesChainRulesCoreExt\u001b[39m\n",
            "\u001b[32m  ✓ \u001b[39m\u001b[90mRatios → RatiosFixedPointNumbersExt\u001b[39m\n",
            "\u001b[32m  ✓ \u001b[39m\u001b[90mDataStructures\u001b[39m\n",
            "\u001b[32m  ✓ \u001b[39m\u001b[90mRandom123\u001b[39m\n",
            "\u001b[32m  ✓ \u001b[39m\u001b[90mOffsetArrays → OffsetArraysAdaptExt\u001b[39m\n",
            "\u001b[32m  ✓ \u001b[39m\u001b[90mEnzymeCore → AdaptExt\u001b[39m\n",
            "\u001b[32m  ✓ \u001b[39m\u001b[90mCodecBzip2\u001b[39m\n",
            "\u001b[32m  ✓ \u001b[39m\u001b[90mBitTwiddlingConvenienceFunctions\u001b[39m\n",
            "\u001b[32m  ✓ \u001b[39m\u001b[90mLogExpFunctions → LogExpFunctionsChainRulesCoreExt\u001b[39m\n",
            "\u001b[32m  ✓ \u001b[39m\u001b[90mCPUSummary\u001b[39m\n",
            "\u001b[32m  ✓ \u001b[39m\u001b[90mMKL_jll\u001b[39m\n",
            "\u001b[32m  ✓ \u001b[39m\u001b[90mArnoldiMethod\u001b[39m\n",
            "\u001b[32m  ✓ \u001b[39m\u001b[90mStaticArrays → StaticArraysChainRulesCoreExt\u001b[39m\n",
            "\u001b[32m  ✓ \u001b[39m\u001b[90mResettableStacks\u001b[39m\n",
            "\u001b[32m  ✓ \u001b[39m\u001b[90mColors\u001b[39m\n",
            "\u001b[32m  ✓ \u001b[39m\u001b[90mStaticArrays → StaticArraysStatisticsExt\u001b[39m\n",
            "\u001b[32m  ✓ \u001b[39m\u001b[90mConstructionBase → ConstructionBaseStaticArraysExt\u001b[39m\n",
            "\u001b[32m  ✓ \u001b[39m\u001b[90mAdapt → AdaptStaticArraysExt\u001b[39m\n",
            "\u001b[32m  ✓ \u001b[39m\u001b[90mArrayLayouts\u001b[39m\n",
            "\u001b[32m  ✓ \u001b[39m\u001b[90mSortingAlgorithms\u001b[39m\n",
            "\u001b[32m  ✓ \u001b[39m\u001b[90mQuadGK\u001b[39m\n",
            "\u001b[32m  ✓ \u001b[39m\u001b[90mHostCPUFeatures\u001b[39m\n",
            "\u001b[32m  ✓ \u001b[39mSpecialFunctions\n",
            "\u001b[32m  ✓ \u001b[39m\u001b[90mPolyesterWeave\u001b[39m\n",
            "\u001b[32m  ✓ \u001b[39m\u001b[90mGraphs\u001b[39m\n",
            "\u001b[32m  ✓ \u001b[39mPyPlot\n",
            "\u001b[32m  ✓ \u001b[39m\u001b[90mSetfield\u001b[39m\n",
            "\u001b[32m  ✓ \u001b[39m\u001b[90mGPUArraysCore\u001b[39m\n",
            "\u001b[32m  ✓ \u001b[39m\u001b[90mArrayInterface\u001b[39m\n",
            "\u001b[32m  ✓ \u001b[39mInterpolations\n",
            "\u001b[32m  ✓ \u001b[39mCSV\n",
            "\u001b[32m  ✓ \u001b[39m\u001b[90mArrayLayouts → ArrayLayoutsSparseArraysExt\u001b[39m\n",
            "\u001b[32m  ✓ \u001b[39m\u001b[90mMatrixFactorizations\u001b[39m\n",
            "\u001b[32m  ✓ \u001b[39m\u001b[90mPrettyTables\u001b[39m\n",
            "\u001b[32m  ✓ \u001b[39m\u001b[90mStatsBase\u001b[39m\n",
            "\u001b[32m  ✓ \u001b[39m\u001b[90mLevyArea\u001b[39m\n",
            "\u001b[32m  ✓ \u001b[39m\u001b[90mSpecialFunctions → SpecialFunctionsChainRulesCoreExt\u001b[39m\n",
            "\u001b[32m  ✓ \u001b[39m\u001b[90mDualNumbers\u001b[39m\n",
            "\u001b[32m  ✓ \u001b[39m\u001b[90mDiffRules\u001b[39m\n",
            "\u001b[32m  ✓ \u001b[39m\u001b[90mArrayInterface → ArrayInterfaceStaticArraysCoreExt\u001b[39m\n",
            "\u001b[32m  ✓ \u001b[39m\u001b[90mArrayInterface → ArrayInterfaceGPUArraysCoreExt\u001b[39m\n",
            "\u001b[32m  ✓ \u001b[39m\u001b[90mVertexSafeGraphs\u001b[39m\n",
            "\u001b[32m  ✓ \u001b[39m\u001b[90mLazyArrays\u001b[39m\n",
            "\u001b[32m  ✓ \u001b[39m\u001b[90mBandedMatrices\u001b[39m\n",
            "\u001b[32m  ✓ \u001b[39m\u001b[90mHypergeometricFunctions\u001b[39m\n",
            "\u001b[32m  ✓ \u001b[39m\u001b[90mForwardDiff\u001b[39m\n",
            "\u001b[32m  ✓ \u001b[39m\u001b[90mLazyArrays → LazyArraysStaticArraysExt\u001b[39m\n",
            "\u001b[32m  ✓ \u001b[39m\u001b[90mExponentialUtilities\u001b[39m\n",
            "\u001b[32m  ✓ \u001b[39m\u001b[90mBandedMatrices → BandedMatricesSparseArraysExt\u001b[39m\n",
            "\u001b[32m  ✓ \u001b[39m\u001b[90mArrayInterface → ArrayInterfaceBandedMatricesExt\u001b[39m\n",
            "\u001b[32m  ✓ \u001b[39m\u001b[90mStatsFuns\u001b[39m\n",
            "\u001b[32m  ✓ \u001b[39m\u001b[90mForwardDiff → ForwardDiffStaticArraysExt\u001b[39m\n",
            "\u001b[32m  ✓ \u001b[39m\u001b[90mMaybeInplace\u001b[39m\n",
            "\u001b[32m  ✓ \u001b[39m\u001b[90mFiniteDiff\u001b[39m\n",
            "\u001b[32m  ✓ \u001b[39m\u001b[90mStaticArrayInterface\u001b[39m\n",
            "\u001b[32m  ✓ \u001b[39m\u001b[90mSciMLOperators\u001b[39m\n",
            "\u001b[32m  ✓ \u001b[39m\u001b[90mRecursiveArrayTools\u001b[39m\n",
            "\u001b[32m  ✓ \u001b[39m\u001b[90mStatsFuns → StatsFunsChainRulesCoreExt\u001b[39m\n",
            "\u001b[32m  ✓ \u001b[39m\u001b[90mDistributions\u001b[39m\n",
            "\u001b[32m  ✓ \u001b[39m\u001b[90mPreallocationTools\u001b[39m\n",
            "\u001b[32m  ✓ \u001b[39m\u001b[90mFastAlmostBandedMatrices\u001b[39m\n",
            "\u001b[32m  ✓ \u001b[39m\u001b[90mFiniteDiff → FiniteDiffBandedMatricesExt\u001b[39m\n",
            "\u001b[32m  ✓ \u001b[39m\u001b[90mFiniteDiff → FiniteDiffStaticArraysExt\u001b[39m\n",
            "\u001b[32m  ✓ \u001b[39m\u001b[90mNLSolversBase\u001b[39m\n",
            "\u001b[32m  ✓ \u001b[39m\u001b[90mStaticArrayInterface → StaticArrayInterfaceStaticArraysExt\u001b[39m\n",
            "\u001b[32m  ✓ \u001b[39m\u001b[90mStaticArrayInterface → StaticArrayInterfaceOffsetArraysExt\u001b[39m\n",
            "\u001b[32m  ✓ \u001b[39m\u001b[90mCloseOpenIntervals\u001b[39m\n",
            "\u001b[32m  ✓ \u001b[39m\u001b[90mLayoutPointers\u001b[39m\n",
            "\u001b[32m  ✓ \u001b[39m\u001b[90mSparseDiffTools\u001b[39m\n",
            "\u001b[32m  ✓ \u001b[39mDataFrames\n",
            "\u001b[32m  ✓ \u001b[39m\u001b[90mDistributions → DistributionsTestExt\u001b[39m\n",
            "\u001b[32m  ✓ \u001b[39m\u001b[90mDistributions → DistributionsChainRulesCoreExt\u001b[39m\n",
            "\u001b[32m  ✓ \u001b[39m\u001b[90mLineSearches\u001b[39m\n",
            "\u001b[32m  ✓ \u001b[39m\u001b[90mSciMLBase\u001b[39m\n",
            "\u001b[32m  ✓ \u001b[39m\u001b[90mStrideArraysCore\u001b[39m\n",
            "\u001b[32m  ✓ \u001b[39m\u001b[90mNLsolve\u001b[39m\n",
            "\u001b[32m  ✓ \u001b[39m\u001b[90mSciMLBase → SciMLBaseChainRulesCoreExt\u001b[39m\n",
            "\u001b[32m  ✓ \u001b[39m\u001b[90mSciMLBase → SciMLBasePyCallExt\u001b[39m\n",
            "\u001b[32m  ✓ \u001b[39m\u001b[90mPolyester\u001b[39m\n",
            "\u001b[32m  ✓ \u001b[39m\u001b[90mFastBroadcast\u001b[39m\n",
            "\u001b[32m  ✓ \u001b[39m\u001b[90mRecursiveArrayTools → RecursiveArrayToolsFastBroadcastExt\u001b[39m\n",
            "\u001b[32m  ✓ \u001b[39m\u001b[90mVectorizationBase\u001b[39m\n",
            "\u001b[32m  ✓ \u001b[39m\u001b[90mSLEEFPirates\u001b[39m\n",
            "\u001b[32m  ✓ \u001b[39m\u001b[90mDiffEqBase\u001b[39m\n",
            "\u001b[32m  ✓ \u001b[39m\u001b[90mDiffEqBase → DiffEqBaseChainRulesCoreExt\u001b[39m\n",
            "\u001b[32m  ✓ \u001b[39m\u001b[90mDiffEqBase → DiffEqBaseDistributionsExt\u001b[39m\n",
            "\u001b[32m  ✓ \u001b[39m\u001b[90mSundials\u001b[39m\n",
            "\u001b[32m  ✓ \u001b[39m\u001b[90mJumpProcesses\u001b[39m\n",
            "\u001b[32m  ✓ \u001b[39m\u001b[90mLoopVectorization\u001b[39m\n",
            "\u001b[32m  ✓ \u001b[39m\u001b[90mDiffEqCallbacks\u001b[39m\n",
            "\u001b[32m  ✓ \u001b[39m\u001b[90mJumpProcesses → JumpProcessFastBroadcastExt\u001b[39m\n",
            "\u001b[32m  ✓ \u001b[39m\u001b[90mLoopVectorization → SpecialFunctionsExt\u001b[39m\n",
            "\u001b[32m  ✓ \u001b[39m\u001b[90mLoopVectorization → ForwardDiffExt\u001b[39m\n",
            "\u001b[32m  ✓ \u001b[39m\u001b[90mSteadyStateDiffEq\u001b[39m\n",
            "\u001b[32m  ✓ \u001b[39m\u001b[90mTriangularSolve\u001b[39m\n",
            "\u001b[32m  ✓ \u001b[39m\u001b[90mRecursiveFactorization\u001b[39m\n",
            "\u001b[32m  ✓ \u001b[39m\u001b[90mSimpleNonlinearSolve\u001b[39m\n",
            "\u001b[32m  ✓ \u001b[39m\u001b[90mSimpleNonlinearSolve → SimpleNonlinearSolveStaticArraysExt\u001b[39m\n",
            "\u001b[32m  ✓ \u001b[39m\u001b[90mLinearSolve\u001b[39m\n",
            "\u001b[32m  ✓ \u001b[39m\u001b[90mMathOptInterface\u001b[39m\n",
            "\u001b[32m  ✓ \u001b[39m\u001b[90mLinearSolve → LinearSolveRecursiveArrayToolsExt\u001b[39m\n",
            "\u001b[32m  ✓ \u001b[39m\u001b[90mLinearSolve → LinearSolveBandedMatricesExt\u001b[39m\n",
            "\u001b[32m  ✓ \u001b[39m\u001b[90mOptim\u001b[39m\n",
            "\u001b[32m  ✓ \u001b[39m\u001b[90mLinearSolve → LinearSolveFastAlmostBandedMatricesExt\u001b[39m\n",
            "\u001b[32m  ✓ \u001b[39m\u001b[90mDiffEqNoiseProcess\u001b[39m\n",
            "\u001b[32m  ✓ \u001b[39m\u001b[90mNonlinearSolve\u001b[39m\n",
            "\u001b[32m  ✓ \u001b[39m\u001b[90mNonlinearSolve → NonlinearSolveNLsolveExt\u001b[39m\n",
            "\u001b[32m  ✓ \u001b[39m\u001b[90mNonlinearSolve → NonlinearSolveBandedMatricesExt\u001b[39m\n",
            "\u001b[32m  ✓ \u001b[39m\u001b[90mOrdinaryDiffEq\u001b[39m\n",
            "\u001b[32m  ✓ \u001b[39m\u001b[90mDelayDiffEq\u001b[39m\n",
            "\u001b[32m  ✓ \u001b[39m\u001b[90mStochasticDiffEq\u001b[39m\n",
            "\u001b[32m  ✓ \u001b[39m\u001b[90mBoundaryValueDiffEq\u001b[39m\n",
            "\u001b[32m  ✓ \u001b[39m\u001b[90mBoundaryValueDiffEq → BoundaryValueDiffEqOrdinaryDiffEqExt\u001b[39m\n",
            "\u001b[32m  ✓ \u001b[39mDifferentialEquations\n",
            "  212 dependencies successfully precompiled in 1683 seconds. 22 already precompiled.\n",
            "  \u001b[33m1\u001b[39m dependency had warnings during precompilation:\u001b[33m\n",
            "┌ \u001b[39mMKL_jll [856f044c-d86e-5d09-b602-aeab76dc8ba7]\u001b[33m\n",
            "│  \u001b[39m\u001b[32m\u001b[1m Downloading\u001b[22m\u001b[39m artifact: MKL\u001b[33m\n",
            "└  \u001b[39m\n"
          ]
        }
      ],
      "source": [
        "Pkg.add([\"CSV\",\"LaTeXStrings\",\"Interpolations\",\"PyPlot\",\"DataFrames\",\"LinearAlgebra\",\"SpecialFunctions\",\"DifferentialEquations\"]);"
      ],
      "id": "ff920b77"
    },
    {
      "cell_type": "code",
      "execution_count": 4,
      "metadata": {
        "id": "JDccjBjkVP-J"
      },
      "outputs": [],
      "source": [
        "using CSV\n",
        "using DataFrames"
      ],
      "id": "JDccjBjkVP-J"
    },
    {
      "cell_type": "code",
      "execution_count": 5,
      "metadata": {
        "id": "303762cc"
      },
      "outputs": [],
      "source": [
        "df=DataFrame(CSV.File(\"/content/SM_Thermo.csv\"));"
      ],
      "id": "303762cc"
    },
    {
      "cell_type": "code",
      "execution_count": 6,
      "metadata": {
        "colab": {
          "base_uri": "https://localhost:8080/",
          "height": 657
        },
        "id": "q1ycKsThJJ6G",
        "outputId": "a160c1fc-ea06-4876-81a9-38df63809be9"
      },
      "outputs": [
        {
          "output_type": "execute_result",
          "data": {
            "text/plain": [
              "\u001b[1m1001×9 DataFrame\u001b[0m\n",
              "\u001b[1m  Row \u001b[0m│\u001b[1m t (s)      \u001b[0m\u001b[1m T_gam (MeV) \u001b[0m\u001b[1m T_gam/T_nu \u001b[0m\u001b[1m g*       \u001b[0m\u001b[1m gs       \u001b[0m\u001b[1m a           \u001b[0m\u001b[1m z_gam   \u001b[0m\u001b[1m z_nu    \u001b[0m\u001b[1m N \u001b[0m ⋯\n",
              "      │\u001b[90m Float64    \u001b[0m\u001b[90m Float64     \u001b[0m\u001b[90m Float64    \u001b[0m\u001b[90m Float64  \u001b[0m\u001b[90m Float64  \u001b[0m\u001b[90m Float64     \u001b[0m\u001b[90m Float64 \u001b[0m\u001b[90m Float64 \u001b[0m\u001b[90m Fl\u001b[0m ⋯\n",
              "──────┼─────────────────────────────────────────────────────────────────────────────────────────────\n",
              "    1 │ 0.00738669  10.0            1.0      10.7361   10.7358     0.0511012  1.00002  1.00002  0. ⋯\n",
              "    2 │ 0.00752402   9.90832        1.0      10.7361   10.7358     0.0515741  1.00002  1.00002  0.\n",
              "    3 │ 0.00766391   9.81748        1.0      10.7361   10.7358     0.0520513  1.00003  1.00002  0.\n",
              "    4 │ 0.0078064    9.72747        1.0      10.7361   10.7357     0.052533   1.00003  1.00003  0.\n",
              "    5 │ 0.00795154   9.63829        1.0      10.7361   10.7357     0.0530191  1.00003  1.00003  0. ⋯\n",
              "    6 │ 0.00809938   9.54993        1.0      10.7361   10.7357     0.0535097  1.00003  1.00003  0.\n",
              "    7 │ 0.00824996   9.46237        1.0      10.736    10.7357     0.0540049  1.00003  1.00003  0.\n",
              "    8 │ 0.00840335   9.37562        1.0      10.736    10.7357     0.0545046  1.00003  1.00003  0.\n",
              "    9 │ 0.00855959   9.28966        1.0      10.736    10.7356     0.055009   1.00003  1.00003  0. ⋯\n",
              "   10 │ 0.00871873   9.2045         1.0      10.736    10.7356     0.055518   1.00003  1.00003  0.\n",
              "   11 │ 0.00888084   9.12011        1.0      10.736    10.7356     0.0560317  1.00003  1.00003  0.\n",
              "  ⋮   │     ⋮            ⋮           ⋮          ⋮         ⋮           ⋮          ⋮        ⋮        ⋱\n",
              "  992 │ 1.11482e6    0.00108643     1.39578   3.38321   3.93066  657.494      1.39788  1.0015   0.\n",
              "  993 │ 1.13555e6    0.00107647     1.39578   3.38321   3.93066  663.578      1.39788  1.0015   0. ⋯\n",
              "  994 │ 1.15666e6    0.0010666      1.39578   3.38321   3.93066  669.718      1.39788  1.0015   0.\n",
              "  995 │ 1.17816e6    0.00105682     1.39578   3.38321   3.93066  675.915      1.39788  1.0015   0.\n",
              "  996 │ 1.20007e6    0.00104713     1.39578   3.38321   3.93066  682.169      1.39788  1.0015   0.\n",
              "  997 │ 1.22238e6    0.00103753     1.39578   3.38321   3.93066  688.481      1.39788  1.0015   0. ⋯\n",
              "  998 │ 1.2451e6     0.00102802     1.39578   3.38321   3.93066  694.851      1.39788  1.0015   0.\n",
              "  999 │ 1.26825e6    0.00101859     1.39578   3.38321   3.93066  701.281      1.39788  1.0015   0.\n",
              " 1000 │ 1.29183e6    0.00100925     1.39578   3.38321   3.93066  707.77       1.39788  1.0015   0.\n",
              " 1001 │ 1.31585e6    0.001          1.39578   3.38321   3.93066  714.319      1.39788  1.0015   0. ⋯\n",
              "\u001b[36m                                                                       1 column and 980 rows omitted\u001b[0m"
            ],
            "text/html": [
              "<div><div style = \"float: left;\"><span>1001×9 DataFrame</span></div><div style = \"float: right;\"><span style = \"font-style: italic;\">976 rows omitted</span></div><div style = \"clear: both;\"></div></div><div class = \"data-frame\" style = \"overflow-x: scroll;\"><table class = \"data-frame\" style = \"margin-bottom: 6px;\"><thead><tr class = \"header\"><th class = \"rowNumber\" style = \"font-weight: bold; text-align: right;\">Row</th><th style = \"text-align: left;\">t (s)</th><th style = \"text-align: left;\">T_gam (MeV)</th><th style = \"text-align: left;\">T_gam/T_nu</th><th style = \"text-align: left;\">g*</th><th style = \"text-align: left;\">gs</th><th style = \"text-align: left;\">a</th><th style = \"text-align: left;\">z_gam</th><th style = \"text-align: left;\">z_nu</th><th style = \"text-align: left;\">N</th></tr><tr class = \"subheader headerLastRow\"><th class = \"rowNumber\" style = \"font-weight: bold; text-align: right;\"></th><th title = \"Float64\" style = \"text-align: left;\">Float64</th><th title = \"Float64\" style = \"text-align: left;\">Float64</th><th title = \"Float64\" style = \"text-align: left;\">Float64</th><th title = \"Float64\" style = \"text-align: left;\">Float64</th><th title = \"Float64\" style = \"text-align: left;\">Float64</th><th title = \"Float64\" style = \"text-align: left;\">Float64</th><th title = \"Float64\" style = \"text-align: left;\">Float64</th><th title = \"Float64\" style = \"text-align: left;\">Float64</th><th title = \"Float64\" style = \"text-align: left;\">Float64</th></tr></thead><tbody><tr><td class = \"rowNumber\" style = \"font-weight: bold; text-align: right;\">1</td><td style = \"text-align: right;\">0.00738669</td><td style = \"text-align: right;\">10.0</td><td style = \"text-align: right;\">1.0</td><td style = \"text-align: right;\">10.7361</td><td style = \"text-align: right;\">10.7358</td><td style = \"text-align: right;\">0.0511012</td><td style = \"text-align: right;\">1.00002</td><td style = \"text-align: right;\">1.00002</td><td style = \"text-align: right;\">0.000406589</td></tr><tr><td class = \"rowNumber\" style = \"font-weight: bold; text-align: right;\">2</td><td style = \"text-align: right;\">0.00752402</td><td style = \"text-align: right;\">9.90832</td><td style = \"text-align: right;\">1.0</td><td style = \"text-align: right;\">10.7361</td><td style = \"text-align: right;\">10.7358</td><td style = \"text-align: right;\">0.0515741</td><td style = \"text-align: right;\">1.00002</td><td style = \"text-align: right;\">1.00002</td><td style = \"text-align: right;\">0.00041399</td></tr><tr><td class = \"rowNumber\" style = \"font-weight: bold; text-align: right;\">3</td><td style = \"text-align: right;\">0.00766391</td><td style = \"text-align: right;\">9.81748</td><td style = \"text-align: right;\">1.0</td><td style = \"text-align: right;\">10.7361</td><td style = \"text-align: right;\">10.7358</td><td style = \"text-align: right;\">0.0520513</td><td style = \"text-align: right;\">1.00003</td><td style = \"text-align: right;\">1.00002</td><td style = \"text-align: right;\">0.000421497</td></tr><tr><td class = \"rowNumber\" style = \"font-weight: bold; text-align: right;\">4</td><td style = \"text-align: right;\">0.0078064</td><td style = \"text-align: right;\">9.72747</td><td style = \"text-align: right;\">1.0</td><td style = \"text-align: right;\">10.7361</td><td style = \"text-align: right;\">10.7357</td><td style = \"text-align: right;\">0.052533</td><td style = \"text-align: right;\">1.00003</td><td style = \"text-align: right;\">1.00003</td><td style = \"text-align: right;\">0.000429132</td></tr><tr><td class = \"rowNumber\" style = \"font-weight: bold; text-align: right;\">5</td><td style = \"text-align: right;\">0.00795154</td><td style = \"text-align: right;\">9.63829</td><td style = \"text-align: right;\">1.0</td><td style = \"text-align: right;\">10.7361</td><td style = \"text-align: right;\">10.7357</td><td style = \"text-align: right;\">0.0530191</td><td style = \"text-align: right;\">1.00003</td><td style = \"text-align: right;\">1.00003</td><td style = \"text-align: right;\">0.000436923</td></tr><tr><td class = \"rowNumber\" style = \"font-weight: bold; text-align: right;\">6</td><td style = \"text-align: right;\">0.00809938</td><td style = \"text-align: right;\">9.54993</td><td style = \"text-align: right;\">1.0</td><td style = \"text-align: right;\">10.7361</td><td style = \"text-align: right;\">10.7357</td><td style = \"text-align: right;\">0.0535097</td><td style = \"text-align: right;\">1.00003</td><td style = \"text-align: right;\">1.00003</td><td style = \"text-align: right;\">0.000444844</td></tr><tr><td class = \"rowNumber\" style = \"font-weight: bold; text-align: right;\">7</td><td style = \"text-align: right;\">0.00824996</td><td style = \"text-align: right;\">9.46237</td><td style = \"text-align: right;\">1.0</td><td style = \"text-align: right;\">10.736</td><td style = \"text-align: right;\">10.7357</td><td style = \"text-align: right;\">0.0540049</td><td style = \"text-align: right;\">1.00003</td><td style = \"text-align: right;\">1.00003</td><td style = \"text-align: right;\">0.000452896</td></tr><tr><td class = \"rowNumber\" style = \"font-weight: bold; text-align: right;\">8</td><td style = \"text-align: right;\">0.00840335</td><td style = \"text-align: right;\">9.37562</td><td style = \"text-align: right;\">1.0</td><td style = \"text-align: right;\">10.736</td><td style = \"text-align: right;\">10.7357</td><td style = \"text-align: right;\">0.0545046</td><td style = \"text-align: right;\">1.00003</td><td style = \"text-align: right;\">1.00003</td><td style = \"text-align: right;\">0.000461082</td></tr><tr><td class = \"rowNumber\" style = \"font-weight: bold; text-align: right;\">9</td><td style = \"text-align: right;\">0.00855959</td><td style = \"text-align: right;\">9.28966</td><td style = \"text-align: right;\">1.0</td><td style = \"text-align: right;\">10.736</td><td style = \"text-align: right;\">10.7356</td><td style = \"text-align: right;\">0.055009</td><td style = \"text-align: right;\">1.00003</td><td style = \"text-align: right;\">1.00003</td><td style = \"text-align: right;\">0.000469412</td></tr><tr><td class = \"rowNumber\" style = \"font-weight: bold; text-align: right;\">10</td><td style = \"text-align: right;\">0.00871873</td><td style = \"text-align: right;\">9.2045</td><td style = \"text-align: right;\">1.0</td><td style = \"text-align: right;\">10.736</td><td style = \"text-align: right;\">10.7356</td><td style = \"text-align: right;\">0.055518</td><td style = \"text-align: right;\">1.00003</td><td style = \"text-align: right;\">1.00003</td><td style = \"text-align: right;\">0.000477887</td></tr><tr><td class = \"rowNumber\" style = \"font-weight: bold; text-align: right;\">11</td><td style = \"text-align: right;\">0.00888084</td><td style = \"text-align: right;\">9.12011</td><td style = \"text-align: right;\">1.0</td><td style = \"text-align: right;\">10.736</td><td style = \"text-align: right;\">10.7356</td><td style = \"text-align: right;\">0.0560317</td><td style = \"text-align: right;\">1.00003</td><td style = \"text-align: right;\">1.00003</td><td style = \"text-align: right;\">0.000486511</td></tr><tr><td class = \"rowNumber\" style = \"font-weight: bold; text-align: right;\">12</td><td style = \"text-align: right;\">0.00904595</td><td style = \"text-align: right;\">9.03649</td><td style = \"text-align: right;\">1.0</td><td style = \"text-align: right;\">10.736</td><td style = \"text-align: right;\">10.7356</td><td style = \"text-align: right;\">0.0565502</td><td style = \"text-align: right;\">1.00003</td><td style = \"text-align: right;\">1.00003</td><td style = \"text-align: right;\">0.000495286</td></tr><tr><td class = \"rowNumber\" style = \"font-weight: bold; text-align: right;\">13</td><td style = \"text-align: right;\">0.00921414</td><td style = \"text-align: right;\">8.95365</td><td style = \"text-align: right;\">1.0</td><td style = \"text-align: right;\">10.736</td><td style = \"text-align: right;\">10.7356</td><td style = \"text-align: right;\">0.0570735</td><td style = \"text-align: right;\">1.00003</td><td style = \"text-align: right;\">1.00003</td><td style = \"text-align: right;\">0.000504197</td></tr><tr><td style = \"text-align: right;\">&vellip;</td><td style = \"text-align: right;\">&vellip;</td><td style = \"text-align: right;\">&vellip;</td><td style = \"text-align: right;\">&vellip;</td><td style = \"text-align: right;\">&vellip;</td><td style = \"text-align: right;\">&vellip;</td><td style = \"text-align: right;\">&vellip;</td><td style = \"text-align: right;\">&vellip;</td><td style = \"text-align: right;\">&vellip;</td><td style = \"text-align: right;\">&vellip;</td></tr><tr><td class = \"rowNumber\" style = \"font-weight: bold; text-align: right;\">990</td><td style = \"text-align: right;\">1.0745e6</td><td style = \"text-align: right;\">0.00110662</td><td style = \"text-align: right;\">1.39578</td><td style = \"text-align: right;\">3.38321</td><td style = \"text-align: right;\">3.93066</td><td style = \"text-align: right;\">645.494</td><td style = \"text-align: right;\">1.39788</td><td style = \"text-align: right;\">1.0015</td><td style = \"text-align: right;\">0.0</td></tr><tr><td class = \"rowNumber\" style = \"font-weight: bold; text-align: right;\">991</td><td style = \"text-align: right;\">1.09447e6</td><td style = \"text-align: right;\">0.00109648</td><td style = \"text-align: right;\">1.39578</td><td style = \"text-align: right;\">3.38321</td><td style = \"text-align: right;\">3.93066</td><td style = \"text-align: right;\">651.466</td><td style = \"text-align: right;\">1.39788</td><td style = \"text-align: right;\">1.0015</td><td style = \"text-align: right;\">0.0</td></tr><tr><td class = \"rowNumber\" style = \"font-weight: bold; text-align: right;\">992</td><td style = \"text-align: right;\">1.11482e6</td><td style = \"text-align: right;\">0.00108643</td><td style = \"text-align: right;\">1.39578</td><td style = \"text-align: right;\">3.38321</td><td style = \"text-align: right;\">3.93066</td><td style = \"text-align: right;\">657.494</td><td style = \"text-align: right;\">1.39788</td><td style = \"text-align: right;\">1.0015</td><td style = \"text-align: right;\">0.0</td></tr><tr><td class = \"rowNumber\" style = \"font-weight: bold; text-align: right;\">993</td><td style = \"text-align: right;\">1.13555e6</td><td style = \"text-align: right;\">0.00107647</td><td style = \"text-align: right;\">1.39578</td><td style = \"text-align: right;\">3.38321</td><td style = \"text-align: right;\">3.93066</td><td style = \"text-align: right;\">663.578</td><td style = \"text-align: right;\">1.39788</td><td style = \"text-align: right;\">1.0015</td><td style = \"text-align: right;\">0.0</td></tr><tr><td class = \"rowNumber\" style = \"font-weight: bold; text-align: right;\">994</td><td style = \"text-align: right;\">1.15666e6</td><td style = \"text-align: right;\">0.0010666</td><td style = \"text-align: right;\">1.39578</td><td style = \"text-align: right;\">3.38321</td><td style = \"text-align: right;\">3.93066</td><td style = \"text-align: right;\">669.718</td><td style = \"text-align: right;\">1.39788</td><td style = \"text-align: right;\">1.0015</td><td style = \"text-align: right;\">0.0</td></tr><tr><td class = \"rowNumber\" style = \"font-weight: bold; text-align: right;\">995</td><td style = \"text-align: right;\">1.17816e6</td><td style = \"text-align: right;\">0.00105682</td><td style = \"text-align: right;\">1.39578</td><td style = \"text-align: right;\">3.38321</td><td style = \"text-align: right;\">3.93066</td><td style = \"text-align: right;\">675.915</td><td style = \"text-align: right;\">1.39788</td><td style = \"text-align: right;\">1.0015</td><td style = \"text-align: right;\">0.0</td></tr><tr><td class = \"rowNumber\" style = \"font-weight: bold; text-align: right;\">996</td><td style = \"text-align: right;\">1.20007e6</td><td style = \"text-align: right;\">0.00104713</td><td style = \"text-align: right;\">1.39578</td><td style = \"text-align: right;\">3.38321</td><td style = \"text-align: right;\">3.93066</td><td style = \"text-align: right;\">682.169</td><td style = \"text-align: right;\">1.39788</td><td style = \"text-align: right;\">1.0015</td><td style = \"text-align: right;\">0.0</td></tr><tr><td class = \"rowNumber\" style = \"font-weight: bold; text-align: right;\">997</td><td style = \"text-align: right;\">1.22238e6</td><td style = \"text-align: right;\">0.00103753</td><td style = \"text-align: right;\">1.39578</td><td style = \"text-align: right;\">3.38321</td><td style = \"text-align: right;\">3.93066</td><td style = \"text-align: right;\">688.481</td><td style = \"text-align: right;\">1.39788</td><td style = \"text-align: right;\">1.0015</td><td style = \"text-align: right;\">0.0</td></tr><tr><td class = \"rowNumber\" style = \"font-weight: bold; text-align: right;\">998</td><td style = \"text-align: right;\">1.2451e6</td><td style = \"text-align: right;\">0.00102802</td><td style = \"text-align: right;\">1.39578</td><td style = \"text-align: right;\">3.38321</td><td style = \"text-align: right;\">3.93066</td><td style = \"text-align: right;\">694.851</td><td style = \"text-align: right;\">1.39788</td><td style = \"text-align: right;\">1.0015</td><td style = \"text-align: right;\">0.0</td></tr><tr><td class = \"rowNumber\" style = \"font-weight: bold; text-align: right;\">999</td><td style = \"text-align: right;\">1.26825e6</td><td style = \"text-align: right;\">0.00101859</td><td style = \"text-align: right;\">1.39578</td><td style = \"text-align: right;\">3.38321</td><td style = \"text-align: right;\">3.93066</td><td style = \"text-align: right;\">701.281</td><td style = \"text-align: right;\">1.39788</td><td style = \"text-align: right;\">1.0015</td><td style = \"text-align: right;\">0.0</td></tr><tr><td class = \"rowNumber\" style = \"font-weight: bold; text-align: right;\">1000</td><td style = \"text-align: right;\">1.29183e6</td><td style = \"text-align: right;\">0.00100925</td><td style = \"text-align: right;\">1.39578</td><td style = \"text-align: right;\">3.38321</td><td style = \"text-align: right;\">3.93066</td><td style = \"text-align: right;\">707.77</td><td style = \"text-align: right;\">1.39788</td><td style = \"text-align: right;\">1.0015</td><td style = \"text-align: right;\">0.0</td></tr><tr><td class = \"rowNumber\" style = \"font-weight: bold; text-align: right;\">1001</td><td style = \"text-align: right;\">1.31585e6</td><td style = \"text-align: right;\">0.001</td><td style = \"text-align: right;\">1.39578</td><td style = \"text-align: right;\">3.38321</td><td style = \"text-align: right;\">3.93066</td><td style = \"text-align: right;\">714.319</td><td style = \"text-align: right;\">1.39788</td><td style = \"text-align: right;\">1.0015</td><td style = \"text-align: right;\">0.0</td></tr></tbody></table></div>"
            ],
            "text/latex": "\\begin{tabular}{r|ccccccccc}\n\t& t (s) & T\\_gam (MeV) & T\\_gam/T\\_nu & g* & gs & a & z\\_gam & z\\_nu & N\\\\\n\t\\hline\n\t& Float64 & Float64 & Float64 & Float64 & Float64 & Float64 & Float64 & Float64 & Float64\\\\\n\t\\hline\n\t1 & 0.00738669 & 10.0 & 1.0 & 10.7361 & 10.7358 & 0.0511012 & 1.00002 & 1.00002 & 0.000406589 \\\\\n\t2 & 0.00752402 & 9.90832 & 1.0 & 10.7361 & 10.7358 & 0.0515741 & 1.00002 & 1.00002 & 0.00041399 \\\\\n\t3 & 0.00766391 & 9.81748 & 1.0 & 10.7361 & 10.7358 & 0.0520513 & 1.00003 & 1.00002 & 0.000421497 \\\\\n\t4 & 0.0078064 & 9.72747 & 1.0 & 10.7361 & 10.7357 & 0.052533 & 1.00003 & 1.00003 & 0.000429132 \\\\\n\t5 & 0.00795154 & 9.63829 & 1.0 & 10.7361 & 10.7357 & 0.0530191 & 1.00003 & 1.00003 & 0.000436923 \\\\\n\t6 & 0.00809938 & 9.54993 & 1.0 & 10.7361 & 10.7357 & 0.0535097 & 1.00003 & 1.00003 & 0.000444844 \\\\\n\t7 & 0.00824996 & 9.46237 & 1.0 & 10.736 & 10.7357 & 0.0540049 & 1.00003 & 1.00003 & 0.000452896 \\\\\n\t8 & 0.00840335 & 9.37562 & 1.0 & 10.736 & 10.7357 & 0.0545046 & 1.00003 & 1.00003 & 0.000461082 \\\\\n\t9 & 0.00855959 & 9.28966 & 1.0 & 10.736 & 10.7356 & 0.055009 & 1.00003 & 1.00003 & 0.000469412 \\\\\n\t10 & 0.00871873 & 9.2045 & 1.0 & 10.736 & 10.7356 & 0.055518 & 1.00003 & 1.00003 & 0.000477887 \\\\\n\t11 & 0.00888084 & 9.12011 & 1.0 & 10.736 & 10.7356 & 0.0560317 & 1.00003 & 1.00003 & 0.000486511 \\\\\n\t12 & 0.00904595 & 9.03649 & 1.0 & 10.736 & 10.7356 & 0.0565502 & 1.00003 & 1.00003 & 0.000495286 \\\\\n\t13 & 0.00921414 & 8.95365 & 1.0 & 10.736 & 10.7356 & 0.0570735 & 1.00003 & 1.00003 & 0.000504197 \\\\\n\t14 & 0.00938545 & 8.87156 & 1.0 & 10.7359 & 10.7355 & 0.0576016 & 1.00003 & 1.00003 & 0.000513275 \\\\\n\t15 & 0.00955995 & 8.79023 & 1.0 & 10.7359 & 10.7355 & 0.0581347 & 1.00003 & 1.00003 & 0.000522496 \\\\\n\t16 & 0.00973769 & 8.70964 & 1.0 & 10.7359 & 10.7355 & 0.0586726 & 1.00003 & 1.00003 & 0.000531879 \\\\\n\t17 & 0.00991874 & 8.62979 & 1.0 & 10.7359 & 10.7355 & 0.0592156 & 1.00003 & 1.00003 & 0.000541421 \\\\\n\t18 & 0.0101032 & 8.55067 & 1.0 & 10.7359 & 10.7354 & 0.0597635 & 1.00004 & 1.00003 & 0.000551115 \\\\\n\t19 & 0.010291 & 8.47227 & 1.0 & 10.7359 & 10.7354 & 0.0603166 & 1.00004 & 1.00004 & 0.000560983 \\\\\n\t20 & 0.0104823 & 8.3946 & 1.0 & 10.7358 & 10.7354 & 0.0608747 & 1.00004 & 1.00004 & 0.000571005 \\\\\n\t21 & 0.0106772 & 8.31764 & 1.0 & 10.7358 & 10.7354 & 0.061438 & 1.00004 & 1.00004 & 0.000581209 \\\\\n\t22 & 0.0108758 & 8.24138 & 1.0 & 10.7358 & 10.7353 & 0.0620066 & 1.00004 & 1.00004 & 0.000591568 \\\\\n\t23 & 0.011078 & 8.16582 & 1.0 & 10.7358 & 10.7353 & 0.0625803 & 1.00004 & 1.00004 & 0.000602109 \\\\\n\t24 & 0.0112839 & 8.09096 & 1.0 & 10.7358 & 10.7353 & 0.0631594 & 1.00004 & 1.00004 & 0.000612817 \\\\\n\t25 & 0.0114937 & 8.01678 & 1.0 & 10.7357 & 10.7353 & 0.0637439 & 1.00004 & 1.00004 & 0.000623714 \\\\\n\t26 & 0.0117074 & 7.94328 & 1.0 & 10.7357 & 10.7352 & 0.0643338 & 1.00004 & 1.00004 & 0.000634783 \\\\\n\t27 & 0.0119251 & 7.87046 & 1.0 & 10.7357 & 10.7352 & 0.0649291 & 1.00004 & 1.00004 & 0.000646033 \\\\\n\t28 & 0.0121468 & 7.7983 & 1.0 & 10.7357 & 10.7352 & 0.06553 & 1.00004 & 1.00004 & 0.000657463 \\\\\n\t29 & 0.0123727 & 7.72681 & 1.0 & 10.7357 & 10.7351 & 0.0661364 & 1.00004 & 1.00004 & 0.000669071 \\\\\n\t30 & 0.0126027 & 7.65597 & 1.0 & 10.7356 & 10.7351 & 0.0667484 & 1.00005 & 1.00004 & 0.000680881 \\\\\n\t$\\dots$ & $\\dots$ & $\\dots$ & $\\dots$ & $\\dots$ & $\\dots$ & $\\dots$ & $\\dots$ & $\\dots$ & $\\dots$ \\\\\n\\end{tabular}\n"
          },
          "metadata": {},
          "execution_count": 6
        }
      ],
      "source": [
        "df"
      ],
      "id": "q1ycKsThJJ6G"
    },
    {
      "cell_type": "code",
      "execution_count": 7,
      "metadata": {
        "id": "7e8a866a"
      },
      "outputs": [],
      "source": [
        "df[!,\"z_gam\"];"
      ],
      "id": "7e8a866a"
    },
    {
      "cell_type": "code",
      "execution_count": 8,
      "metadata": {
        "id": "566c269b"
      },
      "outputs": [],
      "source": [
        "z_gam=df[!,\"z_gam\"]\n",
        "z_nu=df[!,\"z_nu\"]\n",
        "gs=df[!,\"gs\"]\n",
        "g=df[!,\"g*\"];"
      ],
      "id": "566c269b"
    },
    {
      "cell_type": "code",
      "execution_count": 9,
      "metadata": {
        "id": "df147905"
      },
      "outputs": [],
      "source": [
        "z_g = (1.0 ./ z_gam) .* df[!,\"a\"]\n",
        "m_e=0.511;"
      ],
      "id": "df147905"
    },
    {
      "cell_type": "code",
      "execution_count": 10,
      "metadata": {
        "id": "047c5e0b"
      },
      "outputs": [],
      "source": [],
      "id": "047c5e0b"
    },
    {
      "cell_type": "code",
      "execution_count": 11,
      "metadata": {
        "colab": {
          "base_uri": "https://localhost:8080/"
        },
        "id": "69fa8072",
        "outputId": "45878ac9-2e59-4222-c43f-78bb702b8518"
      },
      "outputs": [
        {
          "output_type": "execute_result",
          "data": {
            "text/plain": [
              "18.535468231203158"
            ]
          },
          "metadata": {},
          "execution_count": 11
        }
      ],
      "source": [
        "cons = 4.84 / m_e^2"
      ],
      "id": "69fa8072"
    },
    {
      "cell_type": "code",
      "execution_count": 12,
      "metadata": {
        "id": "5282306e",
        "colab": {
          "base_uri": "https://localhost:8080/"
        },
        "outputId": "8301bc01-014b-46ff-ecae-9a741eea4757"
      },
      "outputs": [
        {
          "output_type": "execute_result",
          "data": {
            "text/plain": [
              "1001-element Vector{Float64}:\n",
              " -0.038068983327555775\n",
              " -0.03772026444406718\n",
              " -0.03945081209273655\n",
              " -0.04114644721506389\n",
              " -0.03873069380164378\n",
              " -0.0403952856759856\n",
              " -0.04202663592989013\n",
              " -0.03965784999975411\n",
              " -0.043224171076960666\n",
              " -0.040880668638613525\n",
              " -0.04243509461875831\n",
              " -0.04395714159245324\n",
              " -0.043554168154443455\n",
              "  ⋮\n",
              "  0.0\n",
              "  0.0\n",
              "  0.0\n",
              "  0.0\n",
              "  0.0\n",
              "  0.0\n",
              "  0.0\n",
              "  0.0\n",
              "  0.0\n",
              "  0.0\n",
              "  0.0\n",
              "  0.0"
            ]
          },
          "metadata": {},
          "execution_count": 12
        }
      ],
      "source": [
        "\n",
        "function gprime_s(df)\n",
        "    x = Float64[]  # Create an empty array to store the results\n",
        "    for i in 1:1000  # Julia uses 1-based indexing instead of 0-based\n",
        "        if z_g[i+1] != z_g[i]\n",
        "            push!(x, (gs[i+1] - gs[i]) / (z_g[i+1] - z_g[i]))\n",
        "        else\n",
        "            push!(x, x[i])\n",
        "        end\n",
        "    end\n",
        "\n",
        "    return x\n",
        "end\n",
        "\n",
        "gprime_list = gprime_s(df)\n",
        "push!(gprime_list, 0.0)\n"
      ],
      "id": "5282306e"
    },
    {
      "cell_type": "code",
      "execution_count": 13,
      "metadata": {
        "colab": {
          "base_uri": "https://localhost:8080/"
        },
        "id": "b261d035",
        "outputId": "8dbb757b-f86c-4dbd-b79b-d305902a8bf4"
      },
      "outputs": [
        {
          "output_type": "execute_result",
          "data": {
            "text/plain": [
              "my_function (generic function with 1 method)"
            ]
          },
          "metadata": {},
          "execution_count": 13
        }
      ],
      "source": [
        "function my_function(cons, z_g, gprime_list, df)\n",
        "    z_g_val = -(z_g^2) * (1/3) * gprime_list ./ df[\"gs\"]\n",
        "    return cons * (z_g_val + z_g) / sqrt(df[\"g*\"])\n",
        "end\n"
      ],
      "id": "b261d035"
    },
    {
      "cell_type": "code",
      "execution_count": 14,
      "metadata": {
        "id": "32Umv4nnLuUY"
      },
      "outputs": [],
      "source": [
        "using Base\n",
        "\n",
        "z_int = sort(z_g);"
      ],
      "id": "32Umv4nnLuUY"
    },
    {
      "cell_type": "code",
      "execution_count": 15,
      "metadata": {
        "colab": {
          "base_uri": "https://localhost:8080/"
        },
        "id": "84c88f5f",
        "outputId": "671f7041-1d77-4830-d27d-a3e38095dd94"
      },
      "outputs": [
        {
          "output_type": "stream",
          "name": "stdout",
          "text": [
            "[0.2890859016752484, 0.2917609631025334, 0.29446175823842025, 0.2971875535464235, 0.29993656839159794, 0.30271304762339013, 0.30551524927584783, 0.30834129073992156, 0.3111966471026542, 0.3140752509376947, 0.316982660184302, 0.3199169573574058, 0.3228773399838403, 0.3258651299297684, 0.3288816821628573, 0.33192501468927876, 0.3349976666534801, 0.3380976202499318, 0.34122742254036326, 0.3443850341973858, 0.34757188752417656, 0.35079058687953385, 0.354035515205555, 0.35731290170144425, 0.36062060345854097, 0.3639589390533818, 0.3673269597918698, 0.3707261646549476, 0.3741580539347767, 0.3776217206534206, 0.381116231865866, 0.38464436310843153, 0.3882051040394765, 0.39179757935261644, 0.395424590933979, 0.39908519288811767, 0.4027783524042232, 0.4065070651210495, 0.4102702797687626, 0.41406838426130793, 0.4179002431677131, 0.4217689742527237, 0.42567351789102764, 0.42961423712787716, 0.43358999154388184, 0.43760403764866423, 0.44165674219733864, 0.4457439738648182, 0.44987056885895105, 0.4540354094808346, 0.45823876705199984, 0.4624810772492116, 0.46676110940411003, 0.4710839753595284, 0.47544524051649384, 0.47984692752602, 0.48428932634443905, 0.48877291615874896, 0.493299693007497, 0.4978650887664688, 0.5024744142776212, 0.5071281588477187, 0.5118232787268688, 0.5165619083069957, 0.521346206783802, 0.5261730452771957, 0.5310446123921746, 0.5359613353149939, 0.5409253878819202, 0.5459354111939341, 0.5509881944234518, 0.5560933863189014, 0.5612402521722968, 0.5664405036620392, 0.5716851010164589, 0.5769783092835197, 0.5823245826863173, 0.5877163262177315, 0.593158041476606, 0.5986542901236646, 0.6041973764559937, 0.6097959760842923, 0.6154423650838414, 0.6211430998199814, 0.626896771741774, 0.6327037374308684, 0.6385646089714091, 0.644481860112951, 0.6504497492269572, 0.6564773042853292, 0.6625607882807842, 0.6686962156597744, 0.6748930582072946, 0.6811451669926492, 0.6874575038571659, 0.6938283693546895, 0.7002560806936974, 0.7067456634820563, 0.7132956204283941, 0.7199038475293088, 0.7265758799429664, 0.7333122268481995, 0.7401062270061819, 0.7469681855280208, 0.7538888369796796, 0.7608788282962585, 0.7679337710619647, 0.7750489394504572, 0.7822380601895095, 0.7894860879204494, 0.7968093882252073, 0.8041952736767715, 0.8116525168961909, 0.8191790828289854, 0.8267755186381078, 0.8344425777201043, 0.8421836514741353, 0.8499911118873749, 0.857876806934447, 0.8658357354026923, 0.8738658065414875, 0.8819734862648257, 0.8901565547377683, 0.8984127392297175, 0.9067517302899272, 0.9151653101128427, 0.9236571227892723, 0.9322311617337329, 0.940881722152305, 0.9496160454212453, 0.9584316744912056, 0.9673295004598151, 0.9763066811707116, 0.9853742667226422, 0.9945261320391153, 1.0037567582863773, 1.013083356772349, 1.0224902150331594, 1.0319880664613008, 1.0415781196527538, 1.0512504630356951, 1.0610236804556683, 1.0708772823318709, 1.0808336083254249, 1.090875701922414, 1.1010188111795192, 1.1112528472269603, 1.1215825734213, 1.1320123938312627, 1.142539791988843, 1.153165557787848, 1.1638904681743594, 1.1747197091349668, 1.185650076312556, 1.1966787642642018, 1.207818647336337, 1.2190546578197163, 1.2304082112654533, 1.241859805969891, 1.253422805680857, 1.2650938933639846, 1.2768787185763908, 1.2887741148522607, 1.300776630533705, 1.3129004236172048, 1.325133471700807, 1.33748591949147, 1.3499541837928326, 1.362544304665948, 1.3752478649808784, 1.3880754611110797, 1.4010235439798748, 1.4140934926033837, 1.4272910257244156, 1.4406127408822658, 1.4540649042852483, 1.4676385131865208, 1.4813450623939741, 1.4951808296881408, 1.5091518526680512, 1.5232548095901932, 1.5374907839273024, 1.55186611962692, 1.5663773034786908, 1.5810255538705744, 1.595817669459608, 1.6107547826506672, 1.625822404118889, 1.6410490959904878, 1.656408726261065, 1.6719309029744869, 1.6875884640557823, 1.703406002092458, 1.7193738281788487, 1.7354928090127246, 1.751770718442799, 1.768203531162481, 1.7847924547544936, 1.8015508302569252, 1.818462929087903, 1.8355419170106837, 1.852790200263393, 1.8702025670163673, 1.8877809819022888, 1.9055336470383153, 1.923462001950564, 1.9415555673336191, 1.959834690020674, 1.9782956075989717, 1.9969199745073603, 2.0157427804605104, 2.0347460997174327, 2.053931749458897, 2.0733084279366474, 2.092871153586267, 2.112629127189755, 2.132584109222532, 2.152731370751478, 2.1730801615094975, 2.1936319081731432, 2.214382471726263, 2.2353334350456517, 2.2565092746992246, 2.2778745474751902, 2.299462693790624, 2.321266987899407, 2.343283348424639, 2.3655211346235436, 2.3879827990499902, 2.4106708295584967, 2.433580079353398, 2.4567209190175125, 2.480086696383655, 2.503697552821566, 2.527547614480985, 2.5516310799392783, 2.5759590929372966, 2.600533657893818, 2.6253588775676184, 2.6504359546725285, 2.675760324388201, 2.701342797635893, 2.7271957231182644, 2.753302968964034, 2.7796878799752927, 2.806332525922719, 2.833251427055245, 2.8604464770596154, 2.8879208834519363, 2.915687870572084, 2.943731941291314, 2.97206407303356, 3.0006899183298135, 3.029621834910776, 3.058853141216988, 3.0883777787701803, 3.118219262274112, 3.148370898246355, 3.178836985648653, 3.20962105196955, 3.2407365162259816, 3.272167149860952, 3.30394927231134, 3.336053588825493, 3.3684947302352994, 3.401289172206682, 3.434428988921674, 3.4679190023921875, 3.501775072610411, 3.536000369078392, 3.5705777265632834, 3.605522595851038, 3.6408643108784515, 3.6765814814859032, 3.712681737330648, 3.749179384909756, 3.786069754683423, 3.8233678267038043, 3.8610557189546735, 3.8991895443803344, 3.9377195827768503, 3.976696332994593, 4.016080991360024, 4.055907296434688, 4.096182118988207, 4.136908377098855, 4.178081096620605, 4.219719527257212, 4.26182979025931, 4.3044185419866405, 4.3474750505275335, 4.391024062722285, 4.435069900607968, 4.479620416670899, 4.524682852858274, 4.5702639282818325, 4.616353819411615, 4.662976744425814, 4.710155990506706, 4.757882010814343, 4.8061495056763315, 4.854978526329844, 4.90439610981983, 4.954393357786153, 5.0049618689465865, 5.0561422847005275, 5.107928044391205, 5.160329993205449, 5.213354196520044, 5.267024939618871, 5.321321058690891, 5.376288394601924, 5.431893555429603, 5.488229579580434, 5.545184982502743, 5.602891207972604, 5.661279546523034, 5.720380014487027, 5.780223150694432, 5.8408000838539085, 5.902122155021968, 5.964242985666392, 6.027094697275816, 6.090786564528637, 6.155233155244368, 6.220544027413826, 6.286636252949997, 6.353580717321138, 6.421395005250251, 6.490090990525661, 6.5596419065408424, 6.630113094905989, 6.701486967875842, 6.77379385848678, 6.84704676260565, 6.921253823711055, 6.9964366290502324, 7.072627701155581, 7.149804604296592, 7.2280260701882275, 7.30728504332577, 7.387605621026988, 7.4690125989206155, 7.551499781400547, 7.635122983118013, 7.719870050694361, 7.805774593877773, 7.892861493313216, 7.981136816079127, 8.070633220983456, 8.161358341138577, 8.253358190947253, 8.34662855914895, 8.44119747188633, 8.537101731341544, 8.634349394570815, 8.732973148950574, 8.832992778736555, 8.934437213208485, 9.03732072448197, 9.141687485592605, 9.247535380220636, 9.354922407959977, 9.463842369905887, 9.574367840529842, 9.686478570939617, 9.800229234943995, 9.91565024209188, 10.032754334940911, 10.15158246270096, 10.27217712643886, 10.394546647220956, 10.518723999998526, 10.644779548333572, 10.77267651983678, 10.902516100997342, 11.034280830683093, 11.16805633674021, 11.30384098478613, 11.441653406860668, 11.58158374106077, 11.723627499898624, 11.867839291365284, 12.014251321693118, 12.162898644691468, 12.313824822859388, 12.46705746186661, 12.622675364896999, 12.780671982811977, 12.941101350799597, 13.104035326789417, 13.269481837810629, 13.437490833471646, 13.608114615872992, 13.781385813324675, 13.957370760480897, 14.136095230384893, 14.31760389954254, 14.501959033828639, 14.68916931134721, 14.879355577255998, 15.072468788702569, 15.268671793477067, 15.467891528414373, 15.670270286310382, 15.875799150559414, 16.084546566076167, 16.29660760500729, 16.511946431489093, 16.730703615470688, 16.952834818686686, 17.178493743882687, 17.407662247880292, 17.640376898445364, 17.876783901731187, 18.116826045193626, 18.360641737637287, 18.6081822336884, 18.859627888407093, 19.11494217505034, 19.374214894226398, 19.63742953755534, 19.904760279791386, 20.176126859874575, 20.451656617104398, 20.731381142008317, 21.015385595850415, 21.30361323534464, 21.596239827792967, 21.893259148627912, 22.1946744605121, 22.500588757401093, 22.81101342805995, 23.12604322409219, 23.445642240477476, 23.769890360161725, 24.098883444957984, 24.432542595111137, 24.77096228675363, 25.114241061423424, 25.4622990496589, 25.815187331079557, 26.173048356028186, 26.5357569496768, 26.903426628964215, 27.27604086755896, 27.653637410516918, 28.036209340772945, 28.423818965717842, 28.816420648934468, 29.21408704488425, 29.616709898065505, 30.02441031468696, 30.43707124378486, 30.854813848875615, 31.27752424745211, 31.70524488832573, 32.13795641457137, 32.575548859499335, 33.01809507034324, 33.46559930619654, 33.917822006923956, 34.375035848859724, 34.83687998890767, 35.30353934169302, 35.774758519299176, 36.25078309233589, 36.73126232265432, 37.21612434791181, 37.705599370952505, 38.19926198144547, 38.697346150326275, 39.19942924964379, 39.70571022342117, 40.21596922066067, 40.730146805098606, 41.248152001787965, 41.769716103792526, 42.295027269374046, 42.82368458977989, 43.35578052814983, 43.89115870199559, 44.42947011709308, 44.97099018303239, 45.515314584886625, 46.06228129679978, 46.6119776483508, 47.164104171543144, 47.71868497265021, 48.275320695066554, 48.83413804340927, 49.39487145558606, 49.95750563423199, 50.52176693936487, 51.087613807995744, 51.6549422415192, 52.223599647605695, 52.79340797232691, 53.364470258656524, 53.936271560196, 54.50912106821194, 55.08277954175129, 55.65703858617052, 56.23191503744703, 56.80737984508007, 57.38322787975466, 57.95950114513643, 58.53607002580892, 59.112935935839495, 59.690099137226476, 60.267368803309644, 60.84493505525208, 61.42264384262833, 62.00063792924666, 62.578673700703725, 63.15706276636758, 63.73549969879784, 64.31455751352559, 64.89372464486769, 65.47330573591164, 66.0535368090238, 66.6342336186965, 67.21560449150415, 67.79785654862478, 68.38095587928477, 68.96494109036745, 69.55032614292588, 70.13691638789125, 70.72498748434806, 71.31468400945118, 71.906221289136, 72.4996765117378, 73.09545043128657, 73.69346536226517, 74.29402825428245, 74.89756946570178, 75.50392050367444, 76.1135320731376, 76.72661878737198, 77.34332195182625, 77.96386033022392, 78.58865993545237, 79.21757787129856, 79.85121742429696, 80.48961727633551, 81.13318127494016, 81.78186563223112, 82.43610203000483, 83.0960176683571, 83.76190791254494, 84.43405056335465, 85.11259332393897, 85.79770449641036, 86.48972830722553, 87.18873925594761, 87.89499011337521, 88.6087710120063, 89.33026759993575, 90.05954265193574, 90.79678605794618, 91.54232584376423, 92.29636533801329, 93.05883513763087, 93.8301300174324, 94.61032311524961, 95.39955341560224, 96.19798484555471, 97.00579269251419, 97.8231026714051, 98.64996415739584, 99.48660913880916, 100.33314287362725, 101.18960504640327, 102.056161454301, 102.93303675789436, 103.82015757650389, 104.71751468224667, 105.62565349940921, 106.54410936793994, 107.47341760843976, 108.41341845157729, 109.36415435354321, 110.32592201556163, 111.2984957131367, 112.28225050148673, 113.27710527057269, 114.28299010098505, 115.30028174066791, 116.32871948599814, 117.36866616863496, 118.41980631442483, 119.48246142640741, 120.55679535538998, 121.64249922189656, 122.74004661185602, 123.84896765814587, 124.96991204781123, 126.10258468692739, 127.2469429299553, 128.403398780125, 129.5717622611644, 130.75209392094257, 131.94444855768933, 133.14896607590128, 134.36582901007472, 135.59472246028847, 136.83613543225408, 138.0898823242952, 139.35599969732758, 140.63474407821744, 141.92601305219742, 143.22998337121447, 144.5466330064537, 145.87628619574548, 147.21864954871617, 148.57416472015933, 149.9425626458384, 151.32425434820584, 152.71926051355047, 154.1274189662622, 155.54919142158894, 156.98439852626703, 158.43319886719183, 159.89573205940204, 161.37228147386247, 162.8625433399285, 164.3669684105733, 165.8853839354084, 167.418392478807, 168.96552019887767, 170.52721577814165, 172.1034660781682, 173.69457846347578, 175.3005273626853, 176.92129903979145, 178.55751807898383, 180.20868629499174, 181.8752789956954, 183.5574194983155, 185.2552837842967, 186.96884467071146, 188.698408336905, 190.44378141802125, 192.20564790143692, 193.983806693085, 195.7784016413826, 197.58940561773534, 199.41772026341255, 201.26256970409648, 203.12467377815958, 205.00399375122794, 206.90069945951763, 208.81496319930284, 210.74711100060995, 212.69695405648565, 214.664834477958, 216.65130275270127, 218.65556452785825, 220.67897108169407, 222.72069475013677, 224.78148869042724, 226.8613733605966, 228.96050584153184, 231.0790519359564, 233.2169925418997, 235.37514190834312, 237.55282500236626, 239.75109593815108, 241.96926737915211, 244.2081822582363, 246.4678154820867, 248.74835815801922, 251.04999760758793, 253.37316433163312, 255.71736352401646, 258.0834864797347, 260.47150282932387, 262.8816216305457, 265.31403031449696, 267.7689523567159, 270.2465896060759, 272.74715112033874, 275.270845957266, 277.8178975923961, 280.38851508349074, 282.98291469719993, 285.6013271179503, 288.24396140350365, 290.9110482382866, 293.60281830672596, 296.3194950843599, 299.06130204672695, 301.82848429603035, 304.6212653078086, 307.439894727882, 310.284601404373, 313.15563494144965, 316.05322602354204, 318.97762696174556, 321.9290900671556, 324.9078676508677, 327.9142048150887, 330.9483538709141, 334.0105815472162, 337.1011473639789, 340.22030363229754, 343.368324289933, 346.5454688568691, 349.7520184797549, 352.98823267857443, 356.2543925999767, 359.5507721817228, 362.8776525704615, 366.23532212173075, 369.6240547732911, 373.0441460895687, 376.4958772172127, 379.97955092953777, 383.4954627909697, 387.0439011570464, 390.62517600997063, 394.23958291416847, 397.8874390607314, 401.56904722297406, 405.2847173830992, 409.034766732198, 412.8195196702507, 416.6392933883487, 420.4944122864715, 424.38519355571066, 428.3119832227115, 432.27510568745356, 436.2748997676937, 440.31170428118867, 444.38585804569516, 448.49770708785826, 452.64760464321165, 456.8359039472888, 461.0629510267351, 465.32911353486077, 469.634751916088, 473.98022661483884, 478.3659124933121, 482.79217720481824, 487.2594028204449, 491.76795699350225, 496.3182290039662, 500.9106081318125, 505.5454764481286, 510.22323044177864, 514.944266601627, 519.7089886254263, 524.5177930020407, 529.3710978469998, 534.2693068580563, 539.2128381507398, 544.2021170494683, 549.2375544608828, 554.3195901271785, 559.4486421638845, 564.6251575220844, 569.849575943973, 575.1223227539685, 580.4438665298194, 585.8146470137207, 591.2351255745323, 596.7057563722263, 602.2270079845512, 607.7993417803671, 613.4232407551997, 619.0991734867976, 624.8276301795748, 630.6090866201685, 636.4440474307692, 642.3329883980142, 648.2764213529829, 654.2748509178659, 660.3287817148545, 666.4387255750274, 672.6052087472411, 678.8287502714636, 685.1098763965505, 691.4491205802467, 697.8470162802968, 704.3041185811109, 710.8209609404335, 717.3981056515627, 724.0361005900204, 730.7355368846582, 737.4969696198868, 744.3209034178966, 751.2080591675317, 758.1588694020987, 765.1740550104414, 772.2541206147508, 779.3997150149867, 786.6114149222243, 793.8897970475388, 801.235582279774, 808.6493473300056, 816.1316689093086, 823.6832679065272, 831.3046489438523, 838.9966770878967, 846.7597848719669, 854.5947652737912, 862.5021950044451, 870.4828670416567, 878.5373580965019, 886.66631696894, 894.8705366366992, 903.150737988624, 911.5074256469052, 919.9415367670398, 928.4536480601035, 937.0445525038243, 945.7148988981623, 954.4654802208457, 963.2970173607189, 972.2103032955099, 981.2060589140632, 990.2850771941069, 999.4480790244853, 1008.6958573829271, 1018.0292052471605, 1027.4489155949138, 1036.955781403916, 1046.550595651895, 1056.2342234054643, 1066.0073855534674, 1075.8710913402863, 1085.8259895658807, 1095.873017385748, 1106.0129677776163, 1116.246777896983, 1126.5753128104614, 1136.9993654957796, 1147.519873108435, 1158.1377728039247, 1168.8538575599773, 1179.6691366209748, 1190.5844750535296, 1201.600882102024, 1212.7191507441858, 1223.9402902243971, 1235.2652376981555, 1246.6950024098421, 1258.2305215149543, 1269.872804257874, 1281.6227877940983, 1293.4814813680093, 1305.4499663128727, 1317.5291076953017, 1329.7200589374468, 1342.0238292836889, 1354.4414279784107, 1366.9739363548783, 1379.622363657473, 1392.3878633083455, 1405.271444551877, 1418.2742608102187, 1431.397393416636, 1444.6419957932806, 1458.0090771845332, 1471.4998631014287, 1485.1155069661181, 1498.8570901118676, 1512.7258380497117, 1526.7229042018007, 1540.8495140791704, 1555.1068211039706, 1569.4960507872365, 1584.0184286400029, 1598.6751801733046, 1613.4675308981766, 1628.3967784145389, 1643.464148233426, 1658.6709379547565, 1674.0183730895662, 1689.507895415543, 1705.140730443722, 1720.9181757740223, 1736.841673184132, 1752.912448185086, 1769.1319425545728, 1785.501525981396, 1802.022568154359, 1818.6965108511504, 1835.5246516716893, 1852.5085765714327, 1869.6496552391843, 1886.9492573637483, 1904.4090409894652, 1922.0303037162546, 1939.8146314995738, 1957.7634661171112, 1975.8784656132077, 1994.1610717655512, 2012.612798440715, 2031.2352315941557, 2050.030029270214, 2068.9987774243477, 2088.142917834245, 2107.4643248109005, 2126.9644401320015, 2146.644993930775, 2166.507644251561, 2186.5541212275866, 2206.786010814308, 2227.2051873227197, 2247.813236708279, 2268.6120332819805, 2289.6032350881655, 2310.7886443489447, 2332.1701353753115, 2353.749438300493, 2375.528427435482, 2397.508905002391, 2419.692745312213, 2442.0818947648277, 2464.6782276712283, 2487.483618342412, 2510.500013178256, 2533.7293585786388, 2557.1736730323255, 2580.834902939194, 2604.715066788008, 2628.8162551564146, 2653.1403423554098, 2677.6895631404095, 2702.465936000177, 2727.47155151236, 2752.708500254606, 2778.1790169823325, 2803.8851922731874, 2829.829188793703, 2856.013313388179, 2882.4396566342643, 2909.110525376259, 2936.0282264584657, 2963.1949946362993, 2990.6130646651786, 3018.2848875671716, 3046.212698097695, 3074.3989472788194, 3102.8460140437305, 3131.5563494144967, 3160.5322602354204, 3189.7762696174555, 3219.2909006715563, 3249.0786765086764, 3279.1420481508862, 3309.4835387091416, 3340.1058154721622, 3371.011473639789, 3402.2030363229755, 3433.68324289933, 3465.4546885686905, 3497.520184797549, 3529.882326785744, 3562.543925999768, 3595.5077218172273, 3628.776525704615, 3662.3532212173072, 3696.240547732911, 3730.4414608956863, 3764.9587721721273, 3799.7955092953766, 3834.9546279096967, 3870.4390115704637, 3906.251760099706, 3942.3958291416857, 3978.874390607315, 4015.6904722297404, 4052.8471738309913, 4090.3476673219807, 4128.195196702508, 4166.392933883486, 4204.944122864716, 4243.851935557108, 4283.119832227114, 4322.751056874536, 4362.748997676937, 4403.117042811887, 4443.858580456952, 4484.977070878583, 4526.476046432116, 4568.359039472888, 4610.629510267351, 4653.291135348608, 4696.3475191608795, 4739.802266148388, 4783.659124933121, 4827.921772048184, 4872.5940282044485, 4917.679569935022, 4963.182290039662, 5009.106081318125, 5055.4547644812865, 5102.232304417787, 5149.442666016271]\n"
          ]
        }
      ],
      "source": [
        "# Calculating 'func'\n",
        "func = cons .* (-(z_int .^ 2) .* (1 ./ 3) .* (gprime_list ./ df[:, \"gs\"]) .+ z_int) ./ (sqrt.(df[:, \"g*\"]))\n",
        "\n",
        "println(func)\n"
      ],
      "id": "84c88f5f"
    },
    {
      "cell_type": "code",
      "execution_count": 16,
      "metadata": {
        "id": "850da423"
      },
      "outputs": [],
      "source": [],
      "id": "850da423"
    },
    {
      "cell_type": "code",
      "execution_count": 17,
      "metadata": {
        "id": "6dfefdd5"
      },
      "outputs": [],
      "source": [
        "using Interpolations\n",
        "# Interpolate using Interpolations package\n",
        "dtdz = LinearInterpolation(z_int, func, extrapolation_bc=Line())  # Linear interpolation\n",
        "\n",
        "# Create new x values\n",
        "x_new = range(0.051099997600057595, stop=511.0000145934898, length=100000)\n",
        "\n",
        "# Evaluate the interpolation at x_new values\n",
        "dtdz_new = dtdz(x_new);\n"
      ],
      "id": "6dfefdd5"
    },
    {
      "cell_type": "code",
      "execution_count": 18,
      "metadata": {
        "id": "6b78743b"
      },
      "outputs": [],
      "source": [
        "using PyPlot\n"
      ],
      "id": "6b78743b"
    },
    {
      "cell_type": "code",
      "execution_count": 19,
      "metadata": {
        "colab": {
          "base_uri": "https://localhost:8080/",
          "height": 504
        },
        "id": "51cd7d8c",
        "outputId": "90a481e6-d00f-4e67-fe51-f04c3c06c959"
      },
      "outputs": [
        {
          "output_type": "display_data",
          "data": {
            "text/plain": [
              "Figure(PyObject <Figure size 640x480 with 1 Axes>)"
            ],
            "image/png": "[encoded data removed]"
          },
          "metadata": {}
        },
        {
          "output_type": "execute_result",
          "data": {
            "text/plain": [
              "PyObject <matplotlib.legend.Legend object at 0x7a9f11ec9090>"
            ]
          },
          "metadata": {},
          "execution_count": 19
        }
      ],
      "source": [
        "plot(z_int, func, \"o\", color=\"yellow\", markersize=5, label=\"Original Data\")\n",
        "plot(x_new, dtdz_new, \"--\", color=\"black\", linewidth=2, label=\"Interpolated\")\n",
        "xscale(\"log\")\n",
        "yscale(\"log\")\n",
        "xlabel(L\"$z_\\gamma=m_e/T_\\gamma$\", fontsize=18)\n",
        "ylabel(L\"$\\frac{dt}{dz}$\", fontsize=18)\n",
        "title(L\"Interpolated $\\frac{dt}{dz}$ vs. $z_{\\gamma}$\", fontsize=20)\n",
        "grid(true, linestyle=\"--\", linewidth=0.5, color=\"gray\")\n",
        "tick_params(axis=\"both\", which=\"major\", labelsize=14)\n",
        "tight_layout()\n",
        "legend(fontsize=12)"
      ],
      "id": "51cd7d8c"
    },
    {
      "cell_type": "code",
      "source": [
        "function dt_dz(z)\n",
        "  if (0.051099997600057595<=z<=511)\n",
        "     value=dtdz(z)\n",
        "  else (z>511)\n",
        "     value=(cons*z)/(sqrt(3.38321))\n",
        "  end\n",
        "  return(value)\n",
        "end\n"
      ],
      "metadata": {
        "id": "rh019kqm_LgZ",
        "colab": {
          "base_uri": "https://localhost:8080/"
        },
        "outputId": "babe8dd8-1e75-47c7-fb04-bf0a770ff8a3"
      },
      "id": "rh019kqm_LgZ",
      "execution_count": 43,
      "outputs": [
        {
          "output_type": "execute_result",
          "data": {
            "text/plain": [
              "dt_dz (generic function with 1 method)"
            ]
          },
          "metadata": {},
          "execution_count": 43
        }
      ]
    },
    {
      "cell_type": "code",
      "source": [],
      "metadata": {
        "id": "X6N9MDz7ESEV"
      },
      "id": "X6N9MDz7ESEV",
      "execution_count": 44,
      "outputs": []
    },
    {
      "cell_type": "code",
      "execution_count": 45,
      "metadata": {
        "colab": {
          "base_uri": "https://localhost:8080/"
        },
        "id": "cb9e1b29",
        "outputId": "cce3e7f7-1714-4ec4-a4d9-417f8715ffea"
      },
      "outputs": [
        {
          "output_type": "execute_result",
          "data": {
            "text/plain": [
              "10-element Vector{Float64}:\n",
              "  22.211\n",
              " -72.798\n",
              " 115.71\n",
              " -11.763\n",
              "  45.521\n",
              "  -3.7973\n",
              "   0.41266\n",
              "  -0.02621\n",
              "   0.00087934\n",
              "  -1.2016e-5"
            ]
          },
          "metadata": {},
          "execution_count": 45
        }
      ],
      "source": [
        "a_0 = 1\n",
        "a_1 = 0.15735\n",
        "a_2 = 4.6172\n",
        "a_3 = -0.40520e2\n",
        "a_4 = 0.13875e3\n",
        "a_5 = -0.59898e2\n",
        "a_6 = 0.66752e2\n",
        "a_7 = -0.16705e2\n",
        "a_8 = 3.8071\n",
        "a_9 = -0.39140\n",
        "a_10 = 0.023590\n",
        "a_11 = -0.83696e-4\n",
        "a_12 = -0.42095e-4\n",
        "a_13 = 0.17675e-5\n",
        "q_np = 0.33979\n",
        "\n",
        "b_0 = -0.62173\n",
        "b_1 = 0.22211e2\n",
        "b_2 = -0.72798e2\n",
        "b_3 = 0.11571e3\n",
        "b_4 = -0.11763e2\n",
        "b_5 = 0.45521e2\n",
        "b_6 = -3.7973\n",
        "b_7 = 0.41266\n",
        "b_8 = -0.026210\n",
        "b_9 = 0.87934e-3\n",
        "b_10 = -0.12016e-4\n",
        "q_pn = 2.8602\n",
        "tau = 8.7945e2\n",
        "m_e = 0.511\n",
        "\n",
        "a_values = [a_1, a_2, a_3, a_4, a_5, a_6, a_7, a_8, a_9, a_10, a_11, a_12, a_13]\n",
        "b_values = [b_1, b_2, b_3, b_4, b_5, b_6, b_7, b_8, b_9, b_10]\n"
      ],
      "id": "cb9e1b29"
    },
    {
      "cell_type": "code",
      "execution_count": 46,
      "metadata": {
        "id": "2x7F6foYLBpR"
      },
      "outputs": [],
      "source": [],
      "id": "2x7F6foYLBpR"
    },
    {
      "cell_type": "code",
      "execution_count": 47,
      "metadata": {
        "id": "7zLsHQYdBubN"
      },
      "outputs": [],
      "source": [
        "using Base\n",
        "\n",
        "z_int = sort(z_g);\n"
      ],
      "id": "7zLsHQYdBubN"
    },
    {
      "cell_type": "code",
      "execution_count": 48,
      "metadata": {
        "id": "4123d9ee"
      },
      "outputs": [],
      "source": [
        "znu = []\n",
        "for x in z_int\n",
        "    if (1 / x) * m_e >= 0.01\n",
        "        push!(znu, x)\n",
        "    end\n",
        "end\n"
      ],
      "id": "4123d9ee"
    },
    {
      "cell_type": "code",
      "execution_count": 49,
      "metadata": {
        "colab": {
          "base_uri": "https://localhost:8080/"
        },
        "id": "MVeEea2QTpN8",
        "outputId": "559ec31b-5157-483d-8ec4-f3734f830d94"
      },
      "outputs": [
        {
          "output_type": "execute_result",
          "data": {
            "text/plain": [
              "939.57"
            ]
          },
          "metadata": {},
          "execution_count": 49
        }
      ],
      "source": [
        "m_n= 939.57"
      ],
      "id": "MVeEea2QTpN8"
    },
    {
      "cell_type": "code",
      "execution_count": 50,
      "metadata": {
        "colab": {
          "base_uri": "https://localhost:8080/"
        },
        "id": "7d8bcf55",
        "outputId": "9073d5c8-1d6f-477c-cf8e-993d40e12a7b"
      },
      "outputs": [
        {
          "output_type": "execute_result",
          "data": {
            "text/plain": [
              "lambda_pn (generic function with 1 method)"
            ]
          },
          "metadata": {},
          "execution_count": 50
        }
      ],
      "source": [
        "# Define the weak rate function for n <--> p\n",
        "function lambda_np(z)\n",
        "    f1 = 1.0\n",
        "    for ie in 1:13\n",
        "        f1 += a_values[ie] / z^ie\n",
        "    end\n",
        "    f1 *= exp(-0.33979 / z) / tau\n",
        "    return f1\n",
        "end\n",
        "\n",
        "# Define the weak rate function for p <--> n\n",
        "function lambda_pn(z)\n",
        "    r1 = -0.62173\n",
        "    e = m_e / z\n",
        "\n",
        "    if (e >= 0.1)\n",
        "        for ie in 1:10\n",
        "            r1 += b_values[ie] / z^ie\n",
        "        end\n",
        "        r1 *= exp(-2.8602 * z) / tau\n",
        "        weak_rate = r1\n",
        "    else\n",
        "        weak_rate = 0\n",
        "    end\n",
        "    return weak_rate\n",
        "end\n"
      ],
      "id": "7d8bcf55"
    },
    {
      "cell_type": "code",
      "execution_count": 51,
      "metadata": {
        "id": "9UJTzTwayjvN"
      },
      "outputs": [],
      "source": [],
      "id": "9UJTzTwayjvN"
    },
    {
      "cell_type": "code",
      "execution_count": 52,
      "metadata": {
        "colab": {
          "base_uri": "https://localhost:8080/"
        },
        "id": "4d99c913",
        "outputId": "7e55f509-fa09-418b-ac18-8053d1fc9857"
      },
      "outputs": [
        {
          "output_type": "execute_result",
          "data": {
            "text/plain": [
              "fp (generic function with 1 method)"
            ]
          },
          "metadata": {},
          "execution_count": 52
        }
      ],
      "source": [
        "function fn(z, xn, xp)\n",
        "    value = (lambda_pn(z) * xp - lambda_np(z) * xn ) * dt_dz(z)\n",
        "    return value\n",
        "end\n",
        "\n",
        "function fp(z, xn, xp)\n",
        "    value = (lambda_np(z) * xn - lambda_pn(z) * xp) * dt_dz(z)\n",
        "    return value\n",
        "end"
      ],
      "id": "4d99c913"
    },
    {
      "cell_type": "code",
      "execution_count": 53,
      "metadata": {
        "colab": {
          "base_uri": "https://localhost:8080/"
        },
        "id": "PDYA4GYqGXRb",
        "outputId": "7abbcef0-7448-4d9f-d2de-3935c66e659c"
      },
      "outputs": [
        {
          "output_type": "stream",
          "name": "stderr",
          "text": [
            "\u001b[32m\u001b[1m   Resolving\u001b[22m\u001b[39m package versions...\n",
            "\u001b[32m\u001b[1m  No Changes\u001b[22m\u001b[39m to `~/.julia/environments/v1.9/Project.toml`\n",
            "\u001b[32m\u001b[1m  No Changes\u001b[22m\u001b[39m to `~/.julia/environments/v1.9/Manifest.toml`\n"
          ]
        }
      ],
      "source": [
        "Pkg.add(\"DifferentialEquations\")"
      ],
      "id": "PDYA4GYqGXRb"
    },
    {
      "cell_type": "code",
      "execution_count": 54,
      "metadata": {
        "id": "cfc3f666"
      },
      "outputs": [],
      "source": [
        "using DifferentialEquations"
      ],
      "id": "cfc3f666"
    },
    {
      "cell_type": "code",
      "execution_count": 55,
      "metadata": {
        "colab": {
          "base_uri": "https://localhost:8080/"
        },
        "id": "KJpIpW6zKdRM",
        "outputId": "af5f2f60-bbe6-4383-b007-9e402da50129"
      },
      "outputs": [
        {
          "output_type": "execute_result",
          "data": {
            "text/plain": [
              "ode_solvez (generic function with 1 method)"
            ]
          },
          "metadata": {},
          "execution_count": 55
        }
      ],
      "source": [
        "function ode_solvez(u, p, z)\n",
        "    xn, xp = u\n",
        "    dx_n = fn(z,u[1],u[2])  # Define the equation for dx/dt here based on x, y, and t\n",
        "    dx_p = fp(z,u[1],u[2])\n",
        "\n",
        "    [dx_n,dx_p] # Define the equation for dy/dt here based on x, y, and t\n",
        "end\n"
      ],
      "id": "KJpIpW6zKdRM"
    },
    {
      "cell_type": "code",
      "execution_count": 56,
      "metadata": {
        "id": "5SZq0HGoc7TG"
      },
      "outputs": [],
      "source": [],
      "id": "5SZq0HGoc7TG"
    },
    {
      "cell_type": "code",
      "execution_count": 57,
      "metadata": {
        "colab": {
          "base_uri": "https://localhost:8080/"
        },
        "id": "RTy7Nf14MvYZ",
        "outputId": "cb27bedc-f631-4eb0-f0a2-4382823e05d3"
      },
      "outputs": [
        {
          "output_type": "stream",
          "name": "stdout",
          "text": [
            "  3.570 ms (100206 allocations: 2.15 MiB)\n"
          ]
        }
      ],
      "source": [
        "using DifferentialEquations, BenchmarkTools\n",
        "u0 = [0.46771996026; 0.53228003974]\n",
        "tspan = (minimum(znu),maximum(znu))\n",
        "prob = ODEProblem(ode_solvez, u0, tspan)\n",
        "@btime solve(prob, Rodas5P());\n"
      ],
      "id": "RTy7Nf14MvYZ"
    },
    {
      "cell_type": "code",
      "execution_count": 58,
      "metadata": {
        "colab": {
          "base_uri": "https://localhost:8080/"
        },
        "id": "yiN8bUxrNPEL",
        "outputId": "a2b1b91b-9188-461a-83d0-1e68706b4e62"
      },
      "outputs": [
        {
          "output_type": "execute_result",
          "data": {
            "text/plain": [
              "retcode: Success\n",
              "Interpolation: specialized 4rd order \"free\" stiffness-aware interpolation\n",
              "t: 46-element Vector{Float64}:\n",
              "  0.051099997600057595\n",
              "  0.05466814435923996\n",
              "  0.05624488343348387\n",
              "  0.059198347363660926\n",
              "  0.06440240855496729\n",
              "  0.0707912157132324\n",
              "  0.07827392355528812\n",
              "  0.08885976356416607\n",
              "  0.10296893161866091\n",
              "  0.12041302872491906\n",
              "  0.13974479293618203\n",
              "  0.16491750207199843\n",
              "  0.19012313386995192\n",
              "  ⋮\n",
              "  8.187659196734879\n",
              " 10.70760334713634\n",
              " 13.60335906083385\n",
              " 17.53340093082431\n",
              " 21.54972195739339\n",
              " 25.566042983962472\n",
              " 29.582364010531553\n",
              " 33.59868503710064\n",
              " 37.76952953578549\n",
              " 42.68213317985713\n",
              " 49.26127039125906\n",
              " 50.63151395438075\n",
              "u: 46-element Vector{Vector{Float64}}:\n",
              " [0.46771996026, 0.53228003974]\n",
              " [0.46268148658713637, 0.5373185134128636]\n",
              " [0.4617833676138058, 0.5382166323861942]\n",
              " [0.46015494929715695, 0.5398450507028429]\n",
              " [0.4572267152382797, 0.5427732847617202]\n",
              " [0.45349554981022583, 0.5465044501897739]\n",
              " [0.4490540501326361, 0.5509459498673637]\n",
              " [0.4427864458906537, 0.5572135541093461]\n",
              " [0.4344152298507896, 0.5655847701492102]\n",
              " [0.42396498126460513, 0.5760350187353949]\n",
              " [0.4124526920027286, 0.5875473079972716]\n",
              " [0.3978784735911582, 0.602121526408842]\n",
              " [0.38381912846556276, 0.6161808715344376]\n",
              " ⋮\n",
              " [0.11130998198841756, 0.888690018011583]\n",
              " [0.08432586726818325, 0.9156741327318172]\n",
              " [0.056277707876970916, 0.9437222921230297]\n",
              " [0.027932901305455237, 0.9720670986945453]\n",
              " [0.011380167557737205, 0.9886198324422635]\n",
              " [0.0038558178392467204, 0.996144182160754]\n",
              " [0.0010862584915902794, 0.9989137415084104]\n",
              " [0.00025439115133777014, 0.9997456088486629]\n",
              " [4.630052578420434e-5, 0.9999536994742164]\n",
              " [4.7875423792577225e-6, 0.9999952124576214]\n",
              " [1.3063275499362125e-7, 0.9999998693672456]\n",
              " [5.972971415249073e-8, 0.9999999402702865]"
            ]
          },
          "metadata": {},
          "execution_count": 58
        }
      ],
      "source": [
        "sol = solve(prob,Rodas5P())  # You can choose a different solver if needed"
      ],
      "id": "yiN8bUxrNPEL"
    },
    {
      "cell_type": "code",
      "execution_count": 59,
      "metadata": {
        "colab": {
          "base_uri": "https://localhost:8080/"
        },
        "id": "NLjnE26vNSmA",
        "outputId": "548bb387-055e-49dc-89e1-7f7a752d6a7d"
      },
      "outputs": [
        {
          "output_type": "execute_result",
          "data": {
            "text/plain": [
              "46-element Vector{Float64}:\n",
              " 0.53228003974\n",
              " 0.5373185134128636\n",
              " 0.5382166323861942\n",
              " 0.5398450507028429\n",
              " 0.5427732847617202\n",
              " 0.5465044501897739\n",
              " 0.5509459498673637\n",
              " 0.5572135541093461\n",
              " 0.5655847701492102\n",
              " 0.5760350187353949\n",
              " 0.5875473079972716\n",
              " 0.602121526408842\n",
              " 0.6161808715344376\n",
              " ⋮\n",
              " 0.888690018011583\n",
              " 0.9156741327318172\n",
              " 0.9437222921230297\n",
              " 0.9720670986945453\n",
              " 0.9886198324422635\n",
              " 0.996144182160754\n",
              " 0.9989137415084104\n",
              " 0.9997456088486629\n",
              " 0.9999536994742164\n",
              " 0.9999952124576214\n",
              " 0.9999998693672456\n",
              " 0.9999999402702865"
            ]
          },
          "metadata": {},
          "execution_count": 59
        }
      ],
      "source": [
        "z_values = sol.t\n",
        "xn_values = sol[1, :]\n",
        "xp_values = sol[2, :]"
      ],
      "id": "NLjnE26vNSmA"
    },
    {
      "cell_type": "code",
      "execution_count": 60,
      "metadata": {
        "colab": {
          "base_uri": "https://localhost:8080/"
        },
        "id": "aFXm7jfJogww",
        "outputId": "3c134789-e9ff-478d-b626-66848c0cfbbd"
      },
      "outputs": [
        {
          "output_type": "execute_result",
          "data": {
            "text/plain": [
              "46-element Vector{Float64}:\n",
              " 0.8787103128805368\n",
              " 0.8610935135071778\n",
              " 0.8579879175537181\n",
              " 0.8523833805608948\n",
              " 0.8423898671413134\n",
              " 0.8298112662261933\n",
              " 0.8150600802869006\n",
              " 0.7946440689125133\n",
              " 0.7680815551949605\n",
              " 0.7360055681950752\n",
              " 0.7019906080560987\n",
              " 0.6607943017154277\n",
              " 0.6229001031949619\n",
              " ⋮\n",
              " 0.12525175227856197\n",
              " 0.0920915686638498\n",
              " 0.05963375915425996\n",
              " 0.028735569121687402\n",
              " 0.011511166561997754\n",
              " 0.003870742718070187\n",
              " 0.00108743973223351\n",
              " 0.0002544558826627252\n",
              " 4.630266962215303e-5\n",
              " 4.787565299929487e-6\n",
              " 1.3063277205854008e-7\n",
              " 5.972971772012966e-8"
            ]
          },
          "metadata": {},
          "execution_count": 60
        }
      ],
      "source": [
        "xn_h=xn_values ./ xp_values"
      ],
      "id": "aFXm7jfJogww"
    },
    {
      "cell_type": "code",
      "execution_count": 61,
      "metadata": {
        "colab": {
          "base_uri": "https://localhost:8080/",
          "height": 481
        },
        "id": "_4vlwyVSOLSK",
        "outputId": "ab2c586f-640c-4b6d-d518-323282020418"
      },
      "outputs": [
        {
          "output_type": "display_data",
          "data": {
            "text/plain": [
              "Figure(PyObject <Figure size 640x480 with 1 Axes>)"
            ],
            "image/png": "[encoded data removed]"
          },
          "metadata": {}
        },
        {
          "output_type": "execute_result",
          "data": {
            "text/plain": [
              "PyObject Text(29.000000000000014, 0.5, 'Fractional Abundance')"
            ]
          },
          "metadata": {},
          "execution_count": 61
        }
      ],
      "source": [
        "plot(z_values, xn_values, linewidth=2, label=L\"$p$\")\n",
        "plot(z_values, xp_values, linewidth=2, label=L\"$n$\")\n",
        "yscale(\"log\")\n",
        "xscale(\"log\")\n",
        "xlabel(L\"$z=m_e/T_\\gamma$\", fontsize=14)\n",
        "ylabel(\"Fractional Abundance\", fontsize=14)"
      ],
      "id": "_4vlwyVSOLSK"
    },
    {
      "cell_type": "code",
      "execution_count": 62,
      "metadata": {
        "colab": {
          "base_uri": "https://localhost:8080/"
        },
        "id": "pHD7NzJlGy_k",
        "outputId": "b7651b44-6dbc-4fd6-a794-9da34f879b9d"
      },
      "outputs": [
        {
          "output_type": "execute_result",
          "data": {
            "text/plain": [
              "mev_to_t9kelvin (generic function with 1 method)"
            ]
          },
          "metadata": {},
          "execution_count": 62
        }
      ],
      "source": [
        "function mev_to_t9kelvin(mev)\n",
        "    temp9_kelvin = mev * 11604525006.1598 / 10^9\n",
        "    return temp9_kelvin\n",
        "end\n"
      ],
      "id": "pHD7NzJlGy_k"
    },
    {
      "cell_type": "code",
      "execution_count": 63,
      "metadata": {
        "colab": {
          "base_uri": "https://localhost:8080/"
        },
        "id": "jTFPf6T1fpa7",
        "outputId": "460f9955-2c5d-4710-fbde-7f8b9cd96e80"
      },
      "outputs": [
        {
          "output_type": "execute_result",
          "data": {
            "text/plain": [
              "6.022e23"
            ]
          },
          "metadata": {},
          "execution_count": 63
        }
      ],
      "source": [
        "const NA=6.022e23"
      ],
      "id": "jTFPf6T1fpa7"
    },
    {
      "cell_type": "code",
      "execution_count": 64,
      "metadata": {
        "colab": {
          "base_uri": "https://localhost:8080/"
        },
        "id": "G_-pihsh3P8g",
        "outputId": "214fc3a1-994f-4675-b288-f0826201901d"
      },
      "outputs": [
        {
          "output_type": "execute_result",
          "data": {
            "text/plain": [
              "6.14e-10"
            ]
          },
          "metadata": {},
          "execution_count": 64
        }
      ],
      "source": [
        "eta_s=6.14e-10"
      ],
      "id": "G_-pihsh3P8g"
    },
    {
      "cell_type": "code",
      "execution_count": 65,
      "metadata": {
        "colab": {
          "base_uri": "https://localhost:8080/"
        },
        "id": "Cu2iHQYT2UXL",
        "outputId": "11a528a4-3139-40b0-d377-f442bd1df773"
      },
      "outputs": [
        {
          "output_type": "execute_result",
          "data": {
            "text/plain": [
              "939.565"
            ]
          },
          "metadata": {},
          "execution_count": 65
        }
      ],
      "source": [
        "\n",
        "m_n=939.565"
      ],
      "id": "Cu2iHQYT2UXL"
    },
    {
      "cell_type": "code",
      "execution_count": 70,
      "metadata": {
        "colab": {
          "base_uri": "https://localhost:8080/"
        },
        "id": "rrSmjnUI5Dl7",
        "outputId": "d175bb16-3c35-4856-c76c-b7e1e98aad09"
      },
      "outputs": [
        {
          "output_type": "execute_result",
          "data": {
            "text/plain": [
              "n_b (generic function with 1 method)"
            ]
          },
          "metadata": {},
          "execution_count": 70
        }
      ],
      "source": [
        "function n_b(z)\n",
        "    T_mev = m_e / z\n",
        "    T_kelvin = T_mev * 11604525006.1598\n",
        "    n_bz = eta_s * 410.73 * (T_kelvin / 2.7255)^3\n",
        "    return n_bz\n",
        "end"
      ],
      "id": "rrSmjnUI5Dl7"
    },
    {
      "cell_type": "code",
      "execution_count": 71,
      "metadata": {
        "id": "sI64Ztyvl3Cd"
      },
      "outputs": [],
      "source": [],
      "id": "sI64Ztyvl3Cd"
    },
    {
      "cell_type": "code",
      "execution_count": 72,
      "metadata": {
        "id": "MGWpE33NZhf7"
      },
      "outputs": [],
      "source": [],
      "id": "MGWpE33NZhf7"
    },
    {
      "cell_type": "code",
      "execution_count": 73,
      "metadata": {
        "colab": {
          "base_uri": "https://localhost:8080/"
        },
        "id": "fCYMv42Y7Ykg",
        "outputId": "d6702596-928f-4bfb-ba82-2ea21de19680"
      },
      "outputs": [
        {
          "output_type": "execute_result",
          "data": {
            "text/plain": [
              "n_chigamma (generic function with 1 method)"
            ]
          },
          "metadata": {},
          "execution_count": 73
        }
      ],
      "source": [
        "\n",
        "function pn_gammaD(z)\n",
        "    T = m_e / z\n",
        "    T_9 = mev_to_t9kelvin(T)\n",
        "    if T_9 <= 1.5\n",
        "        f = (44216. * (1 + 3.75191 * T_9 + 1.92934 * T_9^2 + 0.746503 * T_9^3 + 0.0197023 * T_9^4 + 3.00491e-6 * T_9^5) /\n",
        "             (1 + 5.4678 * T_9 + 5.62395 * T_9^2 + 0.489312 * T_9^3 + 0.00747806 * T_9^4))\n",
        "    else\n",
        "        f = (1.0 - sqrt(T_9) * 0.8504 + T_9 * 0.4895 - T_9^(3/2) * 0.09623 + T_9 * 0.008471 * T_9 - T_9 * 2.8e-4 * T_9^(3/2)) * 47420.0\n",
        "    end\n",
        "    result = f\n",
        "    return n_b(z) * (result / NA)\n",
        "end\n",
        "\n",
        "\n",
        "function Dp_gamma3He(z)\n",
        "    T = m_e / z\n",
        "    T9 = mev_to_t9kelvin(T)\n",
        "    if T9 < 0.001\n",
        "        rate = 4.815e-14\n",
        "    elseif 0.001 <= T9 <= 0.0015\n",
        "        rate = 4.815e-14\n",
        "    elseif 0.0015 < T9 <= 0.0025\n",
        "        rate = 6.409e-9\n",
        "    elseif 0.0025 < T9 <= 0.0035\n",
        "        rate = 4.525e-7\n",
        "    elseif 0.0035 < T9 <= 0.0045\n",
        "        rate = 4.896e-6\n",
        "    elseif 0.0045 < T9 <= 0.0055\n",
        "        rate = 2.444e-5\n",
        "    elseif 0.0055 < T9 <= 0.0065\n",
        "        rate = 8.086e-5\n",
        "    elseif 0.0065 < T9 <= 0.0075\n",
        "        rate = 2.078e-4\n",
        "    elseif 0.0075 < T9 <= 0.0085\n",
        "        rate = 4.499e-4\n",
        "    elseif 0.0085 < T9 <= 0.0095\n",
        "        rate = 8.619e-4\n",
        "    elseif 0.0095 < T9 <= 0.0105\n",
        "        rate = 1.506e-3\n",
        "    elseif 0.0105 < T9 <= 0.0115\n",
        "        rate = 2.450e-3\n",
        "    elseif 0.0115 < T9 <= 0.0125\n",
        "        rate = 3.767e-3\n",
        "    elseif 0.0125 < T9 <= 0.0135\n",
        "        rate = 5.531e-3\n",
        "    elseif 0.0135 < T9 <= 0.0145\n",
        "        rate = 7.816e-3\n",
        "    elseif 0.0145 < T9 <= 0.0155\n",
        "        rate = 1.070e-2\n",
        "    elseif 0.0155 < T9 <= 0.0170\n",
        "        rate = 1.425e-2\n",
        "    elseif 0.0170 < T9 <= 0.0190\n",
        "        rate = 2.366e-2\n",
        "    elseif 0.0190 < T9 <= 0.0225\n",
        "        rate = 3.659e-2\n",
        "    elseif 0.0225 < T9 <= 0.0275\n",
        "        rate = 8.753e-2\n",
        "    elseif 0.0275 < T9 <= 0.0350\n",
        "        rate = 1.701e-1\n",
        "    elseif 0.0350 < T9 <= 0.0450\n",
        "        rate = 4.476e-1\n",
        "    elseif 0.0450 < T9 <= 0.0550\n",
        "        rate = 8.915e-1\n",
        "    elseif 0.0550 < T9 <= 0.0650\n",
        "        rate = 1.510\n",
        "    elseif 0.0650 < T9 <= 0.0750\n",
        "        rate = 2.302\n",
        "    elseif 0.0750 < T9 <= 0.0850\n",
        "        rate = 3.265\n",
        "    elseif 0.0850 < T9 <= 0.0950\n",
        "        rate = 4.392\n",
        "    elseif 0.0950 < T9 <= 0.1050\n",
        "        rate = 5.676\n",
        "    elseif 0.1050 < T9 <= 0.1150\n",
        "        rate = 7.109\n",
        "    elseif 0.1150 < T9 <= 0.1250\n",
        "        rate = 8.685\n",
        "    elseif 0.1250 < T9 <= 0.1350\n",
        "        rate = 1.040e1\n",
        "    elseif 0.1350 < T9 <= 0.1450\n",
        "        rate = 1.224e1\n",
        "    elseif 0.1450 < T9 <= 0.1550\n",
        "        rate = 1.420e1\n",
        "    elseif 0.1550 < T9 <= 0.1700\n",
        "        rate = 1.628e1\n",
        "    elseif 0.1700 < T9 <= 0.1900\n",
        "        rate = 2.076e1\n",
        "    elseif 0.1900 < T9 <= 0.2250\n",
        "        rate = 2.565e1\n",
        "    elseif 0.2250 < T9 <= 0.2750\n",
        "        rate = 3.941e1\n",
        "    elseif 0.2750 < T9 <= 0.3250\n",
        "        rate = 5.505e1\n",
        "    elseif 0.3250 < T9 <= 0.3750\n",
        "        rate = 7.225e1\n",
        "    elseif 0.3750 < T9 <= 0.4250\n",
        "        rate = 9.076e1\n",
        "    elseif 0.4250 < T9 <= 0.4750\n",
        "        rate = 1.104e2\n",
        "    elseif 0.4750 < T9 <= 0.5500\n",
        "        rate = 1.310e2\n",
        "    elseif 0.5500 < T9 <= 0.6500\n",
        "        rate = 1.748e2\n",
        "    elseif 0.6500 < T9 <= 0.7500\n",
        "        rate = 2.212e2\n",
        "    elseif 0.7500 < T9 <= 0.8500\n",
        "        rate = 2.700e2\n",
        "    elseif 0.8500 < T9 <= 0.9500\n",
        "        rate = 3.207e2\n",
        "    elseif 0.9500 < T9 <= 1.1250\n",
        "        rate = 3.729e2\n",
        "    elseif 1.1250 < T9 <= 1.3750\n",
        "        rate = 5.093e2\n",
        "    elseif 1.3750 < T9 <= 1.6250\n",
        "        rate = 6.522e2\n",
        "    elseif 1.6250 < T9 <= 1.8750\n",
        "        rate = 8.000e2\n",
        "    elseif 1.8750 < T9 <= 2.2500\n",
        "        rate = 9.517e2\n",
        "    elseif 2.2500 < T9 <= 2.7500\n",
        "        rate = 1.265e3\n",
        "    elseif 2.7500 < T9 <= 3.2500\n",
        "        rate = 1.587e3\n",
        "    elseif 3.2500 < T9 <= 3.7500\n",
        "        rate = 1.914e3\n",
        "    elseif 3.7500 < T9 <= 4.5000\n",
        "        rate = 2.244e3\n",
        "    elseif 4.5000 < T9 <= 5.5000\n",
        "        rate = 2.905e3\n",
        "    elseif 5.5000 < T9 <= 6.5000\n",
        "        rate = 3.557e3\n",
        "    elseif 6.5000 < T9 <= 7.5000\n",
        "        rate = 4.194e3\n",
        "    elseif 7.5000 < T9 <= 8.5000\n",
        "        rate = 4.812e3\n",
        "    elseif 8.5000 < T9 <= 9.5000\n",
        "        rate = 5.410e3\n",
        "    elseif 9.5000 < T9 <= 10.0000\n",
        "        rate = 5.988e3\n",
        "    else\n",
        "        rate = 0.0\n",
        "    end\n",
        "    return (n_b(z)*rate / NA)\n",
        "end\n",
        "\n",
        "\n",
        "\n",
        "function DD_n3He(z)\n",
        "    T9 = mev_to_t9kelvin(m_e / z)\n",
        "    if T9 < 0.001\n",
        "        rate = 1.142e-8\n",
        "    elseif 0.001 <= T9 <= 0.0015\n",
        "        rate = 1.142e-8\n",
        "    elseif 0.0015 < T9 <= 0.0025\n",
        "        rate = 5.470e-5\n",
        "    elseif 0.0025 < T9 <= 0.0035\n",
        "        rate = 3.021e-3\n",
        "    elseif 0.0035 < T9 <= 0.0045\n",
        "        rate = 3.732e-2\n",
        "    elseif 0.0045 < T9 <= 0.0055\n",
        "        rate = 2.212e-1\n",
        "    elseif 0.0055 < T9 <= 0.0065\n",
        "        rate = 8.546e-1\n",
        "    elseif 0.0065 < T9 <= 0.0075\n",
        "        rate = 2.505\n",
        "    elseif 0.0075 < T9 <= 0.0085\n",
        "        rate = 6.066\n",
        "    elseif 0.0085 < T9 <= 0.0095\n",
        "        rate = 1.278e1\n",
        "    elseif 0.0095 < T9 <= 0.0105\n",
        "        rate = 2.424e1\n",
        "    elseif 0.0105 < T9 <= 0.0115\n",
        "        rate = 4.237e1\n",
        "    elseif 0.0115 < T9 <= 0.0125\n",
        "        rate = 6.936e1\n",
        "    elseif 0.0125 < T9 <= 0.0135\n",
        "        rate = 1.077e2\n",
        "    elseif 0.0135 < T9 <= 0.0145\n",
        "        rate = 1.600e2\n",
        "    elseif 0.0145 < T9 <= 0.0155\n",
        "        rate = 2.291e2\n",
        "    elseif 0.0155 < T9 <= 0.0170\n",
        "        rate = 3.179e2\n",
        "    elseif 0.0170 < T9 <= 0.0190\n",
        "        rate = 5.667e2\n",
        "    elseif 0.0190 < T9 <= 0.0225\n",
        "        rate = 9.310e2\n",
        "    elseif 0.0225 < T9 <= 0.0275\n",
        "        rate = 2.504e3\n",
        "    elseif 0.0275 < T9 <= 0.0350\n",
        "        rate = 5.301e3\n",
        "    elseif 0.0350 < T9 <= 0.0450\n",
        "        rate = 1.568e4\n",
        "    elseif 0.0450 < T9 <= 0.0550\n",
        "        rate = 3.369e4\n",
        "    elseif 0.0550 < T9 <= 0.0650\n",
        "        rate = 6.013e4\n",
        "    elseif 0.0650 < T9 <= 0.0750\n",
        "        rate = 9.527e4\n",
        "    elseif 0.0750 < T9 <= 0.0850\n",
        "        rate = 1.390e5\n",
        "    elseif 0.0850 < T9 <= 0.0950\n",
        "        rate = 1.912e5\n",
        "    elseif 0.0950 < T9 <= 0.1050\n",
        "        rate = 2.513e5\n",
        "    elseif 0.1050 < T9 <= 0.1150\n",
        "        rate = 3.190e5\n",
        "    elseif 0.1150 < T9 <= 0.1250\n",
        "        rate = 3.938e5\n",
        "    elseif 0.1250 < T9 <= 0.1350\n",
        "        rate = 4.753e5\n",
        "    elseif 0.1350 < T9 <= 0.1450\n",
        "        rate = 5.631e5\n",
        "    elseif 0.1450 < T9 <= 0.1550\n",
        "        rate = 6.568e5\n",
        "    elseif 0.1550 < T9 <= 0.1700\n",
        "        rate = 7.559e5\n",
        "    elseif 0.1700 < T9 <= 0.1900\n",
        "        rate = 9.691e5\n",
        "    elseif 0.1900 < T9 <= 0.2250\n",
        "        rate = 1.200e6\n",
        "    elseif 0.2250 < T9 <= 0.2750\n",
        "        rate = 1.842e6\n",
        "    elseif 0.2750 < T9 <= 0.3250\n",
        "        rate = 2.555e6\n",
        "    elseif 0.3250 < T9 <= 0.3750\n",
        "        rate = 3.318e6\n",
        "    elseif 0.3750 < T9 <= 0.4250\n",
        "        rate = 4.119e6\n",
        "    elseif 0.4250 < T9 <= 0.4750\n",
        "        rate = 4.946e6\n",
        "    elseif 0.4750 < T9 <= 0.5500\n",
        "        rate = 5.792e6\n",
        "    elseif 0.5500 < T9 <= 0.6500\n",
        "        rate = 7.517e6\n",
        "    elseif 0.6500 < T9 <= 0.7500\n",
        "        rate = 9.260e6\n",
        "    elseif 0.7500 < T9 <= 0.8500\n",
        "        rate = 1.100e7\n",
        "    elseif 0.8500 < T9 <= 0.9500\n",
        "        rate = 1.272e7\n",
        "    elseif 0.9500 < T9 <= 1.1250\n",
        "        rate = 1.442e7\n",
        "    elseif 1.1250 < T9 <= 1.3750\n",
        "        rate = 1.850e7\n",
        "    elseif 1.3750 < T9 <= 1.6250\n",
        "        rate = 2.235e7\n",
        "    elseif 1.6250 < T9 <= 1.8750\n",
        "        rate = 2.595e7\n",
        "    elseif 1.8750 < T9 <= 2.2500\n",
        "        rate = 2.932e7\n",
        "    elseif 2.2500 < T9 <= 2.7500\n",
        "        rate = 3.546e7\n",
        "    elseif 2.7500 < T9 <= 3.2500\n",
        "        rate = 4.093e7\n",
        "    elseif 3.2500 < T9 <= 3.7500\n",
        "        rate = 4.585e7\n",
        "    elseif 3.7500 < T9 <= 4.5000\n",
        "        rate = 5.031e7\n",
        "    elseif 4.5000 < T9 <= 5.5000\n",
        "        rate = 5.816e7\n",
        "    elseif 5.5000 < T9 <= 6.5000\n",
        "        rate = 6.488e7\n",
        "    elseif 6.5000 < T9 <= 7.5000\n",
        "        rate = 7.072e7\n",
        "    elseif 7.5000 < T9 <= 8.5000\n",
        "        rate = 7.583e7\n",
        "    elseif 8.5000 < T9 <= 9.5000\n",
        "        rate = 8.037e7\n",
        "    elseif 9.5000 < T9 <= 10.0000\n",
        "        rate = 8.437e7\n",
        "    else\n",
        "        rate = 0.0\n",
        "    end\n",
        "    return (n_b(z)*rate / NA)\n",
        "end\n",
        "\n",
        "\n",
        "\n",
        "function DD_p3H(z)\n",
        "    T = m_e / z\n",
        "    T9 = mev_to_t9kelvin(T)\n",
        "\n",
        "    if T9 < 0.001\n",
        "        rate = 1.173e-8\n",
        "    elseif 0.001 <= T9 <= 0.0015\n",
        "        rate = 1.173e-8\n",
        "    elseif 0.0015 < T9 <= 0.0025\n",
        "        rate = 5.609e-5\n",
        "    elseif 0.0025 < T9 <= 0.0035\n",
        "        rate = 3.092e-3\n",
        "    elseif 0.0035 < T9 <= 0.0045\n",
        "        rate = 3.814e-2\n",
        "    elseif 0.0045 < T9 <= 0.0055\n",
        "        rate = 2.257e-1\n",
        "    elseif 0.0055 < T9 <= 0.0065\n",
        "        rate = 8.707e-1\n",
        "    elseif 0.0065 < T9 <= 0.0075\n",
        "        rate = 2.549\n",
        "    elseif 0.0075 < T9 <= 0.0085\n",
        "        rate = 6.164\n",
        "    elseif 0.0085 < T9 <= 0.0095\n",
        "        rate = 1.297e1\n",
        "    elseif 0.0095 < T9 <= 0.0105\n",
        "        rate = 2.458e1\n",
        "    elseif 0.0105 < T9 <= 0.0115\n",
        "        rate = 4.290e1\n",
        "    elseif 0.0115 < T9 <= 0.0125\n",
        "        rate = 7.016e1\n",
        "    elseif 0.0125 < T9 <= 0.0135\n",
        "        rate = 1.088e2\n",
        "    elseif 0.0135 < T9 <= 0.0145\n",
        "        rate = 1.615e2\n",
        "    elseif 0.0145 < T9 <= 0.0155\n",
        "        rate = 2.310e2\n",
        "    elseif 0.0155 < T9 <= 0.0170\n",
        "        rate = 3.202e2\n",
        "    elseif 0.0170 < T9 <= 0.0190\n",
        "        rate = 5.698e2\n",
        "    elseif 0.0190 < T9 <= 0.0225\n",
        "        rate = 9.343e2\n",
        "    elseif 0.0225 < T9 <= 0.0275\n",
        "        rate = 2.502e3\n",
        "    elseif 0.0275 < T9 <= 0.0350\n",
        "        rate = 5.276e3\n",
        "    elseif 0.0350 < T9 <= 0.0450\n",
        "        rate = 1.549e4\n",
        "    elseif 0.0450 < T9 <= 0.0550\n",
        "        rate = 3.307e4\n",
        "    elseif 0.0550 < T9 <= 0.0650\n",
        "        rate = 5.868e4\n",
        "    elseif 0.0650 < T9 <= 0.0750\n",
        "        rate = 9.246e4\n",
        "    elseif 0.0750 < T9 <= 0.0850\n",
        "        rate = 1.343e5\n",
        "    elseif 0.0850 < T9 <= 0.0950\n",
        "        rate = 1.837e5\n",
        "    elseif 0.0950 < T9 <= 0.1050\n",
        "        rate = 2.404e5\n",
        "    elseif 0.1050 < T9 <= 0.1150\n",
        "        rate = 3.039e5\n",
        "    elseif 0.1150 < T9 <= 0.1250\n",
        "        rate = 3.737e5\n",
        "    elseif 0.1250 < T9 <= 0.1350\n",
        "        rate = 4.493e5\n",
        "    elseif 0.1350 < T9 <= 0.1450\n",
        "        rate = 5.304e5\n",
        "    elseif 0.1450 < T9 <= 0.1550\n",
        "        rate = 6.165e5\n",
        "    elseif 0.1550 < T9 <= 0.1700\n",
        "        rate = 7.072e5\n",
        "    elseif 0.1700 < T9 <= 0.1900\n",
        "        rate = 9.011e5\n",
        "    elseif 0.1900 < T9 <= 0.2250\n",
        "        rate = 1.110e6\n",
        "    elseif 0.2250 < T9 <= 0.2750\n",
        "        rate = 1.682e6\n",
        "    elseif 0.2750 < T9 <= 0.3250\n",
        "        rate = 2.309e6\n",
        "    elseif 0.3250 < T9 <= 0.3750\n",
        "        rate = 2.974e6\n",
        "    elseif 0.3750 < T9 <= 0.4250\n",
        "        rate = 3.663e6\n",
        "    elseif 0.4250 < T9 <= 0.4750\n",
        "        rate = 4.371e6\n",
        "    elseif 0.4750 < T9 <= 0.5500\n",
        "        rate = 5.089e6\n",
        "    elseif 0.5500 < T9 <= 0.6500\n",
        "        rate = 6.543e6\n",
        "    elseif 0.6500 < T9 <= 0.7500\n",
        "        rate = 8.001e6\n",
        "    elseif 0.7500 < T9 <= 0.8500\n",
        "        rate = 9.448e6\n",
        "    elseif 0.8500 < T9 <= 0.9500\n",
        "        rate = 1.087e7\n",
        "    elseif 0.9500 < T9 <= 1.1250\n",
        "        rate = 1.228e7\n",
        "    elseif 1.1250 < T9 <= 1.3750\n",
        "        rate = 1.565e7\n",
        "    elseif 1.3750 < T9 <= 1.6250\n",
        "        rate = 2.882e7\n",
        "    elseif 1.6250 < T9 <= 1.8750\n",
        "        rate = 2.181e7\n",
        "    elseif 1.8750 < T9 <= 2.2500\n",
        "        rate = 2.461e7\n",
        "    elseif 2.2500 < T9 <= 2.7500\n",
        "        rate = 2.976e7\n",
        "    elseif 2.7500 < T9 <= 3.2500\n",
        "        rate = 3.440e7\n",
        "    elseif 3.2500 < T9 <= 3.7500\n",
        "        rate = 3.863e7\n",
        "    elseif 3.7500 < T9 <= 4.5000\n",
        "        rate = 4.251e7\n",
        "    elseif 4.5000 < T9 <= 5.5000\n",
        "        rate = 4.946e7\n",
        "    elseif 5.5000 < T9 <= 6.5000\n",
        "        rate = 5.552e7\n",
        "    elseif 6.5000 < T9 <= 7.5000\n",
        "        rate = 6.077e7\n",
        "    elseif 7.5000 < T9 <= 8.5000\n",
        "        rate = 6.529e7\n",
        "    elseif 8.5000 < T9 <= 9.5000\n",
        "        rate = 6.912e7\n",
        "    elseif 9.5000 < T9 <= 10.0000\n",
        "        rate = 7.228e7\n",
        "    else\n",
        "        rate = 0.0\n",
        "    end\n",
        "\n",
        "    rate =rate/NA\n",
        "    return (n_b(z)*rate)\n",
        "end\n",
        "\n",
        "function n3He_p3h(z)\n",
        "    T = m_e / z\n",
        "    T9 = mev_to_t9kelvin(T)\n",
        "\n",
        "    if T9 < 2.5\n",
        "        rate = (7.064935e8 + 6.733213571736319e8 * T9 + 1.7181155480346258e9 * T9 * T9 -\n",
        "                4.5367658146835446e8 * T9 * T9 * T9 - 1.2216728981712557e8 * T9^4 -\n",
        "                4.92736677238425e8 * sqrt(T9) - 1.3659670893994067e9 * T9^(3/2) -\n",
        "                6.629932739639357e8 * T9^(5/2) + 4.834951929033479e8 * T9^(7/2))\n",
        "    else\n",
        "        rate = 4.81732e8\n",
        "    end\n",
        "\n",
        "    return (n_b(z)*rate / NA)\n",
        "end\n",
        "\n",
        "function D3H_4Hen(z)\n",
        "    T = m_e / z\n",
        "    T9 = mev_to_t9kelvin(T)\n",
        "\n",
        "    if T9 < 2.5\n",
        "        factor1 = 6.2265733e8 / (exp(0.49711597 / T9) * T9^0.56785403)\n",
        "        factor2 = exp(-0.23309803 * T9^2 - 1.342742 * T9^(-1/3))\n",
        "        factor3 = (-8.1144927e7 + 2.2315324e9 * T9 - 2.9439669e9 * T9^2\n",
        "                   + 1.8764462e9 * T9^3 - 6.0511612e8 * T9^4\n",
        "                   + 9.5196576e7 * T9^5\n",
        "                   - 5.2901086e6 * T9^6) * T9^(-2/3)\n",
        "        rate = factor1 + factor2 * factor3\n",
        "    else\n",
        "        rate = 3.40249e8\n",
        "    end\n",
        "\n",
        "    return (n_b(z)*rate / NA)\n",
        "end\n",
        "\n",
        "function D3He_p4He(z)\n",
        "    T = m_e / z\n",
        "    T9 = mev_to_t9kelvin(T)\n",
        "\n",
        "    if T9 < 2.5\n",
        "        factor1 = 3.1038385e8 / (exp(1.6190981 / T9) * T9^0.12159455)\n",
        "        factor2 = exp(-0.0062340825 * T9^2 - 1.4540617 * T9^(-1/3))\n",
        "        factor3 = (-3.1335916e7 - 6.2051071e8 * T9 - 1.8782248e9 * T9^2\n",
        "                   + 6.5642773e8 * T9^3 + 1.530887e8 * T9^4\n",
        "                   - 4.9542138e8 * T9^(10/3)\n",
        "                   - 1.770285e8 * T9^(11/3) + 1.14185e8 * T9^(1/3)\n",
        "                   - 2.516526e7 * T9^(13/3) + 1.7500204e8 * T9^(2/3)\n",
        "                   - 1.7513362e9 * T9^(4/3) + 5.2792247e9 * T9^(5/3)\n",
        "                   - 3.32382e9 * T9^(7/3) + 2.0346284e9 * T9^(8/3)) * T9^(-2/3)\n",
        "        rate = factor1 + factor2 * factor3\n",
        "    else\n",
        "        rate = 1.55167e8\n",
        "    end\n",
        "\n",
        "    return (n_b(z)*rate / NA)\n",
        "end\n",
        "\n",
        "\n",
        "function n_chigamma(z)\n",
        "  omega=(m_n/2)*(1-(m_chi/m_n)^2)\n",
        "  rate=4.6e-7*((theta/(1e-10))^2)*(omega^3)\n",
        "  return(rate)\n",
        "end\n",
        "\n"
      ],
      "id": "fCYMv42Y7Ykg"
    },
    {
      "cell_type": "code",
      "execution_count": 74,
      "metadata": {
        "id": "xLaB4uHzoPLB"
      },
      "outputs": [],
      "source": [],
      "id": "xLaB4uHzoPLB"
    },
    {
      "cell_type": "code",
      "execution_count": 75,
      "metadata": {
        "colab": {
          "base_uri": "https://localhost:8080/"
        },
        "id": "4GkdrtJk-VAB",
        "outputId": "b371f36b-d5bc-4881-df60-ca9abd95cae5"
      },
      "outputs": [
        {
          "output_type": "execute_result",
          "data": {
            "text/plain": [
              "sigma_v_cd (generic function with 1 method)"
            ]
          },
          "metadata": {},
          "execution_count": 75
        }
      ],
      "source": [
        "\n",
        "  # Importing the necessary package\n",
        "\n",
        "function threegamma_1two(sigma_v_ab, T, mu_ab, ga, gb, gc, Q)\n",
        "    c_gamma = (T / (2 * π))^(3 / 2) * (mu_ab)^(3 / 2) * (ga * gb / gc) * exp(-Q / T)\n",
        "    ngamma_sigma_v_cgamma = sigma_v_ab * c_gamma\n",
        "    return ngamma_sigma_v_cgamma\n",
        "end\n",
        "\n",
        "function sigma_v_cd(sigma_v_ab, T, mu_ab, mu_cd, ga, gb, gc, gd, Q)\n",
        "    ratio_rate = (mu_ab / mu_cd)^(3 / 2) * ((ga * gb) / (gc * gd)) * exp(-Q / T)\n",
        "    sigma_cd = sigma_v_ab * ratio_rate\n",
        "    return sigma_cd\n",
        "end\n",
        "\n"
      ],
      "id": "4GkdrtJk-VAB"
    },
    {
      "cell_type": "code",
      "execution_count": 76,
      "metadata": {
        "id": "adL3GFYZRWOi"
      },
      "outputs": [],
      "source": [
        "using SpecialFunctions"
      ],
      "id": "adL3GFYZRWOi"
    },
    {
      "cell_type": "code",
      "execution_count": 77,
      "metadata": {
        "colab": {
          "base_uri": "https://localhost:8080/"
        },
        "id": "WUlT5XRO-YIz",
        "outputId": "8511d410-39f7-4633-c15a-4857da092b49"
      },
      "outputs": [
        {
          "output_type": "execute_result",
          "data": {
            "text/plain": [
              "n_chigamma_reverse (generic function with 1 method)"
            ]
          },
          "metadata": {},
          "execution_count": 77
        }
      ],
      "source": [
        "function pn_gammaD_reverse(z)\n",
        "    T=m_e/z\n",
        "    T9=mev_to_t9kelvin(T)\n",
        "    alpha = 4.71614e+09\n",
        "    beta = 1.5\n",
        "    gamma = -25.815\n",
        "    reverse_rate = alpha * T9^beta * exp(gamma / T9) * (pn_gammaD(z) * (NA / n_b(z)))\n",
        "    return reverse_rate\n",
        "end\n",
        "\n",
        "\n",
        "\n",
        "function Dp_gamma3He_reverse(z)\n",
        "    T=m_e/z\n",
        "    T9=mev_to_t9kelvin(T)\n",
        "    alpha = 1.6335e+10\n",
        "    beta = 1.5\n",
        "    gamma = -63.7491\n",
        "    reverse_rate =  alpha * T9^beta * exp(gamma / T9) * (Dp_gamma3He(z) * (NA / n_b(z)))\n",
        "    return reverse_rate\n",
        "end\n",
        "\n",
        "\n",
        "function DD_n3He_reverse(z)\n",
        "    T=m_e/z\n",
        "    T9=mev_to_t9kelvin(T)\n",
        "    alpha = 1.73183e+00\n",
        "    beta = 0\n",
        "    gamma = -37.9341\n",
        "    reverse_rate =  alpha * T9^beta * exp(gamma / T9) * (DD_n3He(z))\n",
        "    return reverse_rate\n",
        "end\n",
        "\n",
        "\n",
        "function DD_p3H_reverse(z)\n",
        "    T=m_e/z\n",
        "    T9=mev_to_t9kelvin(T)\n",
        "    alpha = 1.73492e+00\n",
        "    beta = 0\n",
        "    gamma = -46.7971\n",
        "    reverse_rate =  alpha * T9^beta * exp(gamma / T9) * (DD_p3H(z))\n",
        "    return reverse_rate\n",
        "end\n",
        "\n",
        "function n3He_p3h_reverse(z)\n",
        "    T=m_e/z\n",
        "    T9=mev_to_t9kelvin(T)\n",
        "    alpha = 1.00178e+00\n",
        "    beta = 0.0\n",
        "    gamma = -8.8630\n",
        "    reverse_rate =  alpha * T9^beta * exp(gamma / T9) * (n3He_p3h(z))\n",
        "    return reverse_rate\n",
        "end\n",
        "\n",
        "\n",
        "function D3H_4Hen_reverse(z)\n",
        "    T=m_e/z\n",
        "    T9=mev_to_t9kelvin(T)\n",
        "    alpha = 5.5369e+00\n",
        "    beta = 0\n",
        "    gamma = -204.1236\n",
        "    reverse_rate =  alpha * T9^beta * exp(gamma / T9) * (D3H_4Hen(z))\n",
        "    return reverse_rate\n",
        "end\n",
        "\n",
        "function D3He_p4He_reverse(z)\n",
        "    T=m_e/z\n",
        "    T9=mev_to_t9kelvin(T)\n",
        "    alpha = 5.5438e+00\n",
        "    beta = 0\n",
        "    gamma = -212.987\n",
        "    reverse_rate =  alpha * T9^beta * exp(gamma / T9) * (D3He_p4He(z))\n",
        "    return reverse_rate\n",
        "end\n",
        "\n",
        "function n_chigamma_reverse(z)\n",
        "    T=m_e/z\n",
        "    reverse_rate=(n_chigamma(z))/(exp((m_n-m_chi)/T)-1)\n",
        "    return reverse_rate\n",
        "end\n"
      ],
      "id": "WUlT5XRO-YIz"
    },
    {
      "cell_type": "code",
      "source": [
        "function BRnchig(z)\n",
        "   branching_ratio=n_chigamma(z)/(n_chigamma(z)+1/tau)\n",
        "   return branching_ratio\n",
        "end\n",
        "\n",
        "\n",
        "function BRnp(z)\n",
        "   branching_ratio= 1-BRnchig(z)\n",
        "   return branching_ratio\n",
        "end"
      ],
      "metadata": {
        "colab": {
          "base_uri": "https://localhost:8080/"
        },
        "id": "3eLG3ftGjFGs",
        "outputId": "2fc1909b-33cf-40d7-c321-d94dcd9e8730"
      },
      "id": "3eLG3ftGjFGs",
      "execution_count": 78,
      "outputs": [
        {
          "output_type": "execute_result",
          "data": {
            "text/plain": [
              "BRnp (generic function with 1 method)"
            ]
          },
          "metadata": {},
          "execution_count": 78
        }
      ]
    },
    {
      "cell_type": "code",
      "source": [],
      "metadata": {
        "id": "RNXRyMOnnafl"
      },
      "id": "RNXRyMOnnafl",
      "execution_count": 79,
      "outputs": []
    },
    {
      "cell_type": "code",
      "execution_count": 80,
      "metadata": {
        "colab": {
          "base_uri": "https://localhost:8080/"
        },
        "id": "IzycNsCH_yAd",
        "outputId": "a1186f84-edb1-4cfb-8b21-77ec89000f0b"
      },
      "outputs": [
        {
          "output_type": "execute_result",
          "data": {
            "text/plain": [
              "coff_n_chigamma (generic function with 1 method)"
            ]
          },
          "metadata": {},
          "execution_count": 80
        }
      ],
      "source": [
        "\n",
        "# T-1\n",
        "function coff_gammaD_pn(z,xn,xp,xd)\n",
        "    return (pn_gammaD_reverse(z) * xd - pn_gammaD(z) * xp * xn)\n",
        "end\n",
        "\n",
        "# T-2\n",
        "function coff_gamma3He_Dp(z,x_3He,xd,xp)\n",
        "    return (Dp_gamma3He_reverse(z) * x_3He - Dp_gamma3He(z) * xd * xp)\n",
        "end\n",
        "\n",
        "# T-3\n",
        "function coff_DD_p3H(z,xd,xp,x_3H)\n",
        "    return (DD_p3H(z) * xd^2/2  - DD_p3H_reverse(z) * xp * x_3H)\n",
        "end\n",
        "\n",
        "# T-4\n",
        "function coff_n3he_p3h(z,xn,x_3He,x_3H,xp)\n",
        "    return (n3He_p3h(z) * x_3He * xn - n3He_p3h_reverse(z) * xp * x_3H)\n",
        "end\n",
        "\n",
        "# T-5\n",
        "function coff_D3He_p4He(z,x_3He,xd,xp,x_4He)\n",
        "    return (D3He_p4He(z) * x_3He * xd - D3He_p4He_reverse(z) * xp * x_4He)\n",
        "end\n",
        "\n",
        "# T-6\n",
        "function coff_DD_n3He(z,xd,xn,x_3He)\n",
        "    return (DD_n3He(z) * xd^2/2 - DD_n3He_reverse(z) * xn * x_3He)\n",
        "end\n",
        "\n",
        "# T-7\n",
        "function coff_D3H_4Hen(z,xd,x_3H,x_4He,xn)\n",
        "    return (D3H_4Hen(z) * x_3H * xd - D3H_4Hen_reverse(z) * xn * x_4He)\n",
        "end\n",
        "\n",
        "#T-8\n",
        "function coff_n_chigamma(z,xn,x_chi)\n",
        "    T=m_e/z\n",
        "    return((BRnchig(z)/tau)*xn - (exp((m_n-m_chi)/T)-1)^(-1)*(BRnchig(z)/tau)*x_chi)\n",
        "end\n"
      ],
      "id": "IzycNsCH_yAd"
    },
    {
      "cell_type": "code",
      "execution_count": 81,
      "metadata": {
        "colab": {
          "base_uri": "https://localhost:8080/"
        },
        "id": "iCP7rnAm-jk1",
        "outputId": "22080553-2364-4bc5-f016-f6feb7cfe700"
      },
      "outputs": [
        {
          "output_type": "execute_result",
          "data": {
            "text/plain": [
              "xchi_rates (generic function with 1 method)"
            ]
          },
          "metadata": {},
          "execution_count": 81
        }
      ],
      "source": [
        "function xp_rates(z,xn,xp,xd,x_3H,x_3He,x_4He)\n",
        "    value = (BRnp(z)*(lambda_np(z) * xn - lambda_pn(z)* xp) + coff_gammaD_pn(z, xn, xp, xd) + coff_gamma3He_Dp(z, x_3He, xd, xp) +\n",
        "             coff_DD_p3H(z, xd, xp, x_3H) + coff_n3he_p3h(z, xn, x_3He, x_3H, xp) + coff_D3He_p4He(z, x_3He, xd, xp, x_4He)) * dt_dz(z)\n",
        "    return value\n",
        "end\n",
        "\n",
        "function xn_rates(z,xn,xp,xd,x_3H,x_3He,x_4He,x_chi)\n",
        "    value = (BRnp(z)*(lambda_pn(z) * xp - lambda_np(z) * xn) + coff_gammaD_pn(z, xn, xp, xd) + coff_DD_n3He(z, xd, xn, x_3He) - coff_n3he_p3h(z, xn, x_3He, x_3H, xp) +\n",
        "             coff_D3H_4Hen(z, xd, x_3H, x_4He, xn)-coff_n_chigamma(z,xn,x_chi)) * dt_dz(z)\n",
        "    return value\n",
        "end\n",
        "\n",
        "function xd_rates(z,xn,xp,xd,x_3H,x_3He,x_4He)\n",
        "    value = (-coff_gammaD_pn(z, xn, xp, xd) + coff_gamma3He_Dp(z, x_3He, xd, xp) + 2*(-coff_DD_n3He(z, xd, xn, x_3He)) + 2*(-coff_DD_p3H(z, xd, xp, x_3H)) -\n",
        "             coff_D3H_4Hen(z, xd, x_3H, x_4He, xn) - coff_D3He_p4He(z, x_3He, xd, xp, x_4He)) * dt_dz(z)\n",
        "    return value\n",
        "end\n",
        "\n",
        "function x3H_rates(z,xn,xp,xd,x_3H,x_3He,x_4He)\n",
        "    value = (coff_DD_p3H(z, xd, xp, x_3H) + coff_n3he_p3h(z, xn, x_3He, x_3H, xp) - coff_D3H_4Hen(z, xd, x_3H, x_4He, xn)) * dt_dz(z)\n",
        "    return value\n",
        "end\n",
        "\n",
        "function x3He_rates(z,xn,xp,xd,x_3H,x_3He,x_4He)\n",
        "    value = (-coff_gamma3He_Dp(z, x_3He, xd, xp) + coff_DD_n3He(z, xd, xn, x_3He) - coff_n3he_p3h(z, xn, x_3He, x_3H, xp) - coff_D3He_p4He(z, x_3He, xd, xp, x_4He)) * dt_dz(z)\n",
        "    return value\n",
        "end\n",
        "\n",
        "function x4He_rates(z,xn,xp,xd,x_3H,x_3He,x_4He)\n",
        "    value = (coff_D3He_p4He(z, x_3He, xd, xp, x_4He)+coff_D3H_4Hen(z, xd, x_3H, x_4He, xn)) * dt_dz(z)\n",
        "    return value\n",
        "end\n",
        "\n",
        "function xchi_rates(z,xn,x_chi)\n",
        "   value = (coff_n_chigamma(z,xn,x_chi))*dt_dz(z)\n",
        "   return value\n",
        "end"
      ],
      "id": "iCP7rnAm-jk1"
    },
    {
      "cell_type": "code",
      "execution_count": 82,
      "metadata": {
        "colab": {
          "base_uri": "https://localhost:8080/"
        },
        "id": "D0xKrG68_VR7",
        "outputId": "62f1a526-67fe-4781-b919-343dec581226"
      },
      "outputs": [
        {
          "output_type": "execute_result",
          "data": {
            "text/plain": [
              "Xn_in (generic function with 1 method)"
            ]
          },
          "metadata": {},
          "execution_count": 82
        }
      ],
      "source": [
        "  function Xp_in(z)\n",
        "    initial_val = 1 / (exp(-2.530 * z) + 1)\n",
        "    return initial_val\n",
        "end\n",
        "\n",
        "function Xn_in(z)\n",
        "    initial_val = 1 / (exp(2.530 * z) + 1)\n",
        "    return initial_val\n",
        "end\n"
      ],
      "id": "D0xKrG68_VR7"
    },
    {
      "cell_type": "code",
      "execution_count": 83,
      "metadata": {
        "colab": {
          "base_uri": "https://localhost:8080/"
        },
        "id": "hbESzN_M_jy_",
        "outputId": "0b9de1b9-47ed-4091-cf4e-556dd4acc29a"
      },
      "outputs": [
        {
          "output_type": "execute_result",
          "data": {
            "text/plain": [
              "Xi (generic function with 1 method)"
            ]
          },
          "metadata": {},
          "execution_count": 83
        }
      ],
      "source": [
        "using SpecialFunctions\n",
        "\n",
        "function Xi(z_in, g_i, Ai, m_e, m_p, m_n, MN, eta_i, Bi, Zi)\n",
        "    Xp = Xp_in(z_in)\n",
        "    Xn = Xn_in(z_in)\n",
        "\n",
        "    term1 = g_i / 2\n",
        "    term2 = (zeta(3) * sqrt(8 / π))^(Ai - 1)\n",
        "    term3 = (MN / (m_p^Zi * m_n^(Ai - Zi)))^(3 / 2)\n",
        "    term4 = (m_e / z_in)^(3 / 2) * (Ai - 1)\n",
        "    term5 = eta_i^(Ai - 1)\n",
        "    term6 = Xp^Zi\n",
        "    term7 = Xn^(Ai - Zi)\n",
        "    term8 = exp(Bi * z_in)\n",
        "\n",
        "    result = term1 * term2 * term3 * term4 * term5 * term6 * term7 * term8\n",
        "\n",
        "    return result\n",
        "end\n",
        "\n"
      ],
      "id": "hbESzN_M_jy_"
    },
    {
      "cell_type": "code",
      "execution_count": 84,
      "metadata": {
        "colab": {
          "base_uri": "https://localhost:8080/"
        },
        "id": "VB6l5VnCPi89",
        "outputId": "e838332a-f52d-427a-ce89-3f990c0686ae"
      },
      "outputs": [
        {
          "output_type": "execute_result",
          "data": {
            "text/plain": [
              "100-element LinRange{Float64, Int64}:\n",
              " 0.0511, 1.06068, 2.07027, 3.07985, 4.08944, …, 95.9617, 96.9712, 97.9808, 98.9904, 100.0"
            ]
          },
          "metadata": {},
          "execution_count": 84
        }
      ],
      "source": [
        "\n",
        "using LinearAlgebra\n",
        "#z_evolve = LinRange(0.1,51.0, 1000)\n",
        "z_evolve = LinRange(m_e/10,100, 100)"
      ],
      "id": "VB6l5VnCPi89"
    },
    {
      "cell_type": "code",
      "execution_count": 85,
      "metadata": {
        "colab": {
          "base_uri": "https://localhost:8080/"
        },
        "id": "upOvyg9NnpJN",
        "outputId": "a1fa8834-9571-485a-f20b-917dcc97cee6"
      },
      "outputs": [
        {
          "output_type": "execute_result",
          "data": {
            "text/plain": [
              "100-element LinRange{Float64, Int64}:\n",
              " 1.0e-10, 1.09091e-10, 1.18182e-10, 1.27273e-10, …, 9.72727e-10, 9.81818e-10, 9.90909e-10, 1.0e-9"
            ]
          },
          "metadata": {},
          "execution_count": 85
        }
      ],
      "source": [
        "eta_val=LinRange(1.e-10,1.e-9,100)"
      ],
      "id": "upOvyg9NnpJN"
    },
    {
      "cell_type": "code",
      "execution_count": null,
      "metadata": {
        "id": "_qJ1C-MOfLz6"
      },
      "outputs": [],
      "source": [
        "#xp_rate(z, xn, xp, xd, x_3He, x_3H, x_4He)\n",
        "#xn_rate(z, xp, xn, xd, x_3He, x_3H, x_4He)\n",
        "#1=p\n",
        "#2=n\n",
        "#3=d\n",
        "#4=3H\n",
        "#5=3He\n",
        "#6=4He"
      ],
      "id": "_qJ1C-MOfLz6"
    },
    {
      "cell_type": "code",
      "execution_count": 86,
      "metadata": {
        "colab": {
          "base_uri": "https://localhost:8080/"
        },
        "id": "yVnZE2dbBG3y",
        "outputId": "47b45f46-763a-4629-9698-ddddb74b583e"
      },
      "outputs": [
        {
          "output_type": "execute_result",
          "data": {
            "text/plain": [
              "dYdz (generic function with 1 method)"
            ]
          },
          "metadata": {},
          "execution_count": 86
        }
      ],
      "source": [
        "function dYdz(u,p,z)\n",
        "    xn,xp,xd,x_3H,x_3He,x_4He,x_chi = u\n",
        "    dxn=xn_rates(z,u[1],u[2],u[3],u[4],u[5],u[6],u[7])\n",
        "    dxp=xp_rates(z,u[1],u[2],u[3],u[4],u[5],u[6])\n",
        "    dxd=xd_rates(z,u[1],u[2],u[3],u[4],u[5],u[6])\n",
        "    dx3h=x3H_rates(z,u[1],u[2],u[3],u[4],u[5],u[6])\n",
        "    dx3he=x3He_rates(z,u[1],u[2],u[3],u[4],u[5],u[6])\n",
        "    dx4he=x4He_rates(z,u[1],u[2],u[3],u[4],u[5],u[6])\n",
        "    dxchi=xchi_rates(z,u[1],u[7])\n",
        "    return [dxn,dxp,dxd,dx3h,dx3he,dx4he,dxchi]\n",
        "end\n"
      ],
      "id": "yVnZE2dbBG3y"
    },
    {
      "cell_type": "code",
      "execution_count": 87,
      "metadata": {
        "colab": {
          "base_uri": "https://localhost:8080/"
        },
        "id": "6DUhfwzxlAKT",
        "outputId": "480a1a4e-e1ff-4a8b-fa5e-c28659c15cd0"
      },
      "outputs": [
        {
          "output_type": "execute_result",
          "data": {
            "text/plain": [
              "3.0e-9"
            ]
          },
          "metadata": {},
          "execution_count": 87
        }
      ],
      "source": [
        "#xd=3.3523\n",
        "#2.22\n",
        "#m_n = 939.56542052 # neutron mass in [MeV], PDG\n",
        "m_p = 938.27208816 # proton mass in [MeV], PDG\n",
        "m_n= 939.565\n",
        "m_chi=m_n-1\n",
        "theta=3e-9"
      ],
      "id": "6DUhfwzxlAKT"
    },
    {
      "cell_type": "code",
      "execution_count": null,
      "metadata": {
        "id": "AFyUzGxNhRlX"
      },
      "outputs": [],
      "source": [],
      "id": "AFyUzGxNhRlX"
    },
    {
      "cell_type": "code",
      "execution_count": null,
      "metadata": {
        "id": "jHTM8NI4qaMn"
      },
      "outputs": [],
      "source": [
        "using DifferentialEquations, BenchmarkTools\n",
        "alpha_val=[]\n",
        "d_val=[]\n",
        "he3_val=[]\n",
        "h_val=[]\n",
        "for i in eta_val\n",
        "    eta_s=i\n",
        "    xd0 = Xi(minimum(z_evolve), 3, 2, m_e, m_p, m_n, 1875.62,eta_s, 4.3524, 1)\n",
        "    x3h0 = Xi(minimum(z_evolve), 2, 3, m_e, m_p, m_n, 2809.45,eta_s, 16.598, 1)\n",
        "    x3he0 = Xi(minimum(z_evolve), 2, 3, m_e,m_p, m_n, 2809.431,eta_s, 15.1039, 2)\n",
        "    x4he0 = Xi(minimum(z_evolve), 1, 4, m_e, m_p, m_n, 3728.42,eta_s, 55.37, 2)\n",
        "    x1_0=Xn_in(minimum(z_evolve))\n",
        "    x2_0=Xp_in(minimum(z_evolve))\n",
        "    x3_0=xd0\n",
        "    x4_0=x3h0\n",
        "    x5_0=x3he0\n",
        "    x6_0=x4he0\n",
        "    x7_0=5.4*(x1_0+x2_0)\n",
        "    u0=[x1_0,x2_0,x3_0,x4_0,x5_0,x6_0,x7_0]\n",
        "    tspan = (minimum(z_evolve),maximum(z_evolve))\n",
        "    prob = ODEProblem(dYdz, u0, tspan)\n",
        "    sol_y=solve(prob,FBDF(),reltol=1e-6,abstol=1e-8)\n",
        "    xp_val = sol_y[2, :]\n",
        "    x4he_val = sol_y[6, :]\n",
        "    xd_val = sol_y[3, :]\n",
        "    x3he_val = sol_y[5, :]\n",
        "    push!(alpha_val,x4he_val[end])\n",
        "    push!(d_val,xd_val[end])\n",
        "    push!(he3_val,x3he_val[end])\n",
        "    push!(h_val,xp_val[end])\n",
        "end"
      ],
      "id": "jHTM8NI4qaMn"
    },
    {
      "cell_type": "code",
      "execution_count": null,
      "metadata": {
        "colab": {
          "base_uri": "https://localhost:8080/",
          "height": 158
        },
        "id": "YteYuNUA-4uk",
        "outputId": "bc26e578-8478-4ce8-b166-76d8c2ddb6f5"
      },
      "outputs": [
        {
          "output_type": "error",
          "ename": "LoadError",
          "evalue": "UndefVarError: `alpha_val` not defined",
          "traceback": [
            "UndefVarError: `alpha_val` not defined",
            "",
            "Stacktrace:",
            " [1] top-level scope",
            "   @ In[66]:1"
          ]
        }
      ],
      "source": [
        "alpha_val[61]*4.002603"
      ],
      "id": "YteYuNUA-4uk"
    },
    {
      "cell_type": "code",
      "execution_count": null,
      "metadata": {
        "colab": {
          "base_uri": "https://localhost:8080/",
          "height": 158
        },
        "id": "97ZLW3EbE6ig",
        "outputId": "990ffcca-26d8-43fb-de12-160289079765"
      },
      "outputs": [
        {
          "output_type": "error",
          "ename": "LoadError",
          "evalue": "UndefVarError: `alpha_val` not defined",
          "traceback": [
            "UndefVarError: `alpha_val` not defined",
            "",
            "Stacktrace:",
            " [1] top-level scope",
            "   @ In[67]:1"
          ]
        }
      ],
      "source": [
        "alpha_val[100]*4.002603"
      ],
      "id": "97ZLW3EbE6ig"
    },
    {
      "cell_type": "code",
      "execution_count": null,
      "metadata": {
        "id": "4Z9UssdvE874"
      },
      "outputs": [],
      "source": [],
      "id": "4Z9UssdvE874"
    },
    {
      "cell_type": "code",
      "execution_count": null,
      "metadata": {
        "id": "4UcH1c_OM6Ix"
      },
      "outputs": [],
      "source": [],
      "id": "4UcH1c_OM6Ix"
    },
    {
      "cell_type": "markdown",
      "metadata": {
        "id": "_eLpJu9QEfsB"
      },
      "source": [
        "### References\n",
        "* [Planck 2018 results. VI. Cosmological parameters](https://arxiv.org/pdf/1807.06209.pdf)\n",
        "* [E. Aver et al. (arxiv)](https://arxiv.org/pdf/2010.04180.pdf)\n",
        "* [PDG :- Astrophysical Constants](https://pdg.lbl.gov/2023/web/viewer.html?file=../reviews/rpp2022-rev-astrophysical-constants.pdf)\n",
        "* [PDG:- BBN](https://pdg.lbl.gov/2023/reviews/contents_sports.html)\n",
        "\n"
      ],
      "id": "_eLpJu9QEfsB"
    },
    {
      "cell_type": "code",
      "execution_count": null,
      "metadata": {
        "colab": {
          "base_uri": "https://localhost:8080/",
          "height": 507
        },
        "id": "F07CNnwPG1SA",
        "outputId": "309a827f-7bac-4533-a816-18c1885e43ab"
      },
      "outputs": [
        {
          "data": {
            "image/png": "[encoded data removed]",
            "text/plain": [
              "Figure(PyObject <Figure size 500x500 with 2 Axes>)"
            ]
          },
          "metadata": {},
          "output_type": "display_data"
        }
      ],
      "source": [
        "fig, (ax3, ax4) = subplots(2, sharex=true,figsize=(5,5))\n",
        "ax3.plot(eta_val,4.002602*alpha_val,color=\"green\",\"-.\")\n",
        "ax3.set_xlim(1.e-10,1.e-9)\n",
        "ax3.set_ylim(0.22,0.26)\n",
        "ax3.set_xscale(\"log\")\n",
        "ax3.set_yticks([0.23,0.24,0.25,0.26],minor=true)\n",
        "#ax3.set_xlabel(L\"\\eta=n_{b}/n_{\\gamma}\",fontsize=12)\n",
        "ax3.set_ylabel(L\"Y_{p}\",fontsize=12)\n",
        "ax3.grid(\"True\", which=\"both\", linestyle=\"--\", alpha=0.5)\n",
        "ax3.fill_between([4e-10,1e-9],0.2419,0.2487,color=\"pink\")\n",
        "ax3.fill_betweenx([0.22,0.26],6.08e-10,6.168e-10,color=\"cyan\")\n",
        "ax3.tick_params(axis=\"both\", which=\"both\", direction=\"in\", right=true)\n",
        "\n",
        "\n",
        "\n",
        "\n",
        "ax4.plot(eta_val, d_val ./ h_val, color=\"red\", linestyle=\"--\")\n",
        "ax4.plot(eta_val, he3_val ./ h_val, color=\"darkblue\", linestyle=\"-.\")\n",
        "ax4.set_xlim(1e-10, 1e-9)\n",
        "ax4.set_ylim(5.9e-6, 1e-3)\n",
        "ax4.set_xscale(\"log\")\n",
        "ax4.set_yscale(\"log\")\n",
        "ax4.set_yticks([1e-3, 1e-4, 1e-5])\n",
        "ax4.set_xlabel(L\"\\eta=n_{b}/n_{\\gamma}\",fontsize=12)\n",
        "ax4.set_ylabel(L\"^{3}He/H\\ \\ \\ \\ \\ \\ \\ \\ \\ \\  \\ \\  D/H\",fontsize=12)\n",
        "ax4.grid(\"True\", which=\"both\", linestyle=\"--\", alpha=0.5)\n",
        "ax4.fill_between([5e-10, 7e-10], 2.497e-5, 2.557e-5, color=\"pink\")\n",
        "ax4.fill_betweenx([5.9e-6, 1e-3], 6.08e-10, 6.168e-10, color=\"cyan\", label=\"planck\")\n",
        "ax4.tick_params(axis=\"both\", which=\"both\", direction=\"in\", right=true)\n",
        "\n",
        "fig.tight_layout()\n",
        "fig.savefig(\"my_plot.svg\")\n",
        "show()\n"
      ],
      "id": "F07CNnwPG1SA"
    },
    {
      "cell_type": "code",
      "execution_count": null,
      "metadata": {
        "colab": {
          "base_uri": "https://localhost:8080/",
          "height": 347
        },
        "id": "4dDvR8jZ6onZ",
        "outputId": "c7faa93b-5548-4974-ea18-d597cd3ce4ea"
      },
      "outputs": [
        {
          "data": {
            "image/png": "[encoded data removed]",
            "text/plain": [
              "Figure(PyObject <Figure size 550x300 with 1 Axes>)"
            ]
          },
          "metadata": {},
          "output_type": "display_data"
        },
        {
          "data": {
            "text/plain": [
              "PyObject <matplotlib.collections.PolyCollection object at 0x7f940749a500>"
            ]
          },
          "execution_count": 69,
          "metadata": {},
          "output_type": "execute_result"
        }
      ],
      "source": [
        "fig, ax2 = subplots(figsize=(5.5,3))\n",
        "ax2.plot(eta_val,4.002602*alpha_val,color=\"green\",\"-.\")\n",
        "ax2.set_xlim(1.e-10,1.e-9)\n",
        "ax2.set_ylim(0.19,0.24)\n",
        "ax2.set_xscale(\"log\")\n",
        "ax2.set_yticks([0.19,0.20,0.21,0.22,0.23,0.24])\n",
        "ax2.set_xlabel(L\"\\eta=n_{b}/n_{\\gamma}\",fontsize=12)\n",
        "ax2.set_ylabel(L\"Y_{p}\",fontsize=12)\n",
        "ax2.grid(\"True\", which=\"both\", linestyle=\"--\", alpha=0.5)\n",
        "ax2.fill_between([4e-10,1e-9],0.2419,0.2487,color=\"pink\")\n",
        "ax2.fill_betweenx([0.19,0.24],6.08e-10,6.168e-10,color=\"cyan\")"
      ],
      "id": "4dDvR8jZ6onZ"
    },
    {
      "cell_type": "code",
      "execution_count": null,
      "metadata": {
        "id": "qFtvQ5rW0aBq"
      },
      "outputs": [],
      "source": [],
      "id": "qFtvQ5rW0aBq"
    },
    {
      "cell_type": "code",
      "execution_count": null,
      "metadata": {
        "colab": {
          "base_uri": "https://localhost:8080/",
          "height": 345
        },
        "id": "FaWT2U__7ecX",
        "outputId": "7dc22282-121c-487e-b48d-2119ae0d3ce9"
      },
      "outputs": [
        {
          "data": {
            "image/png": "[encoded data removed]",
            "text/plain": [
              "Figure(PyObject <Figure size 500x300 with 1 Axes>)"
            ]
          },
          "metadata": {},
          "output_type": "display_data"
        },
        {
          "data": {
            "text/plain": [
              "PyObject <matplotlib.collections.PolyCollection object at 0x7f940768c5b0>"
            ]
          },
          "execution_count": 71,
          "metadata": {},
          "output_type": "execute_result"
        }
      ],
      "source": [
        "fig, ax2 = subplots(figsize=(5,3))\n",
        "ax2.plot(eta_val,d_val ./ h_val,color=\"red\",\"--\")\n",
        "ax2.plot(eta_val,he3_val ./ h_val,color=\"darkblue\",\"-.\")\n",
        "ax2.set_xlim(1.e-10,1.e-9)\n",
        "ax2.set_ylim(5.9e-6,1e-3)\n",
        "ax2.set_xscale(\"log\")\n",
        "ax2.set_yscale(\"log\")\n",
        "ax2.set_yticks([1e-3,1e-4,1e-5])\n",
        "ax2.set_xlabel(L\"\\eta\",fontsize=14)\n",
        "ax2.set_ylabel(L\"^{3}He/H\\ \\ \\ \\ \\ \\ \\ \\ \\ \\  \\ \\ \\ \\ \\  \\ \\ \\ D/H\",fontsize=14)\n",
        "ax2.grid(\"True\", which=\"both\", linestyle=\"--\", alpha=0.5)\n",
        "ax2.fill_between([5.e-10,7.e-10],2.497e-5,2.557e-5,color=\"pink\")\n",
        "ax2.fill_betweenx([5.9e-6,1e-3],6.08e-10,6.168e-10,color=\"cyan\",label=\"planck\")\n"
      ],
      "id": "FaWT2U__7ecX"
    },
    {
      "cell_type": "code",
      "execution_count": 129,
      "metadata": {
        "colab": {
          "base_uri": "https://localhost:8080/"
        },
        "id": "wQfkOkuXZy71",
        "outputId": "9589e7db-e097-4b35-ed14-8ee3a73fa8c5"
      },
      "outputs": [
        {
          "output_type": "execute_result",
          "data": {
            "text/plain": [
              "100000000-element LinRange{Float64, Int64}:\n",
              " 0.0511, 0.0611, 0.0711, 0.0811, 0.0911, 0.1011, …, 1.0e6, 1.0e6, 1.0e6, 1.0e6, 1.0e6, 1.0e6"
            ]
          },
          "metadata": {},
          "execution_count": 129
        }
      ],
      "source": [
        "using LinearAlgebra\n",
        "#z_evolve = LinRange(0.1,51.0, 1000)\n",
        "z_evolve = LinRange(m_e/10,10^6, 100000000)"
      ],
      "id": "wQfkOkuXZy71"
    },
    {
      "cell_type": "code",
      "execution_count": 112,
      "metadata": {
        "colab": {
          "base_uri": "https://localhost:8080/"
        },
        "id": "P9Qf7azITu_r",
        "outputId": "c272cb07-0230-4432-ef37-39ccc658b2a1"
      },
      "outputs": [
        {
          "output_type": "execute_result",
          "data": {
            "text/plain": [
              "1.0e-11"
            ]
          },
          "metadata": {},
          "execution_count": 112
        }
      ],
      "source": [
        "m_p = 938.27208816 # proton mass in [MeV], PDG\n",
        "m_n= 939.565\n",
        "m_chi=m_n+10\n",
        "theta=1e-11"
      ],
      "id": "P9Qf7azITu_r"
    },
    {
      "cell_type": "code",
      "execution_count": null,
      "metadata": {
        "colab": {
          "base_uri": "https://localhost:8080/"
        },
        "id": "YC_W5k0XvSuQ",
        "outputId": "e609f8b3-0174-47b8-e45e-96270623621d"
      },
      "outputs": [
        {
          "output_type": "execute_result",
          "data": {
            "text/plain": [
              "1.529263128594814e-12"
            ]
          },
          "metadata": {},
          "execution_count": 349
        }
      ],
      "source": [
        "xd0 = Xi(minimum(z_evolve), 3, 2, m_e, m_p, m_n, 1875.62,6.14e-10, 2.2245, 1)"
      ],
      "id": "YC_W5k0XvSuQ"
    },
    {
      "cell_type": "code",
      "execution_count": null,
      "metadata": {
        "colab": {
          "base_uri": "https://localhost:8080/"
        },
        "id": "1z_ZWMIPwXQ5",
        "outputId": "9559ee91-a9f5-4703-cf22-c0ca09d7c33f"
      },
      "outputs": [
        {
          "output_type": "execute_result",
          "data": {
            "text/plain": [
              "1.079574026155559e-25"
            ]
          },
          "metadata": {},
          "execution_count": 137
        }
      ],
      "source": [
        "x3he0 = Xi(minimum(z_evolve), 2, 3, m_e, m_p, m_n, 2809.431,6.14e-10, 7.718, 2)"
      ],
      "id": "1z_ZWMIPwXQ5"
    },
    {
      "cell_type": "code",
      "execution_count": null,
      "metadata": {
        "colab": {
          "base_uri": "https://localhost:8080/"
        },
        "id": "jVVyXeQ9y8Bb",
        "outputId": "c87cdb52-8b92-43e5-dec2-4755ac6d1ebd"
      },
      "outputs": [
        {
          "output_type": "execute_result",
          "data": {
            "text/plain": [
              "9.84391646472389e-26"
            ]
          },
          "metadata": {},
          "execution_count": 138
        }
      ],
      "source": [
        "x3h0 = Xi(minimum(z_evolve), 2, 3, m_e, m_p, m_n, 2809.45, 6.14e-10, 8.482, 1)"
      ],
      "id": "jVVyXeQ9y8Bb"
    },
    {
      "cell_type": "code",
      "execution_count": null,
      "metadata": {
        "colab": {
          "base_uri": "https://localhost:8080/"
        },
        "id": "J15qxdYiwcC3",
        "outputId": "c0a0db68-3383-4b76-d68b-04e32e668e5f"
      },
      "outputs": [
        {
          "output_type": "execute_result",
          "data": {
            "text/plain": [
              "6.778239689261006e-39"
            ]
          },
          "metadata": {},
          "execution_count": 139
        }
      ],
      "source": [
        "x4he0 = Xi(minimum(z_evolve), 1, 4, m_e, m_p, m_n, 3728.42,6.14e-10,28.3007,2)"
      ],
      "id": "J15qxdYiwcC3"
    },
    {
      "cell_type": "code",
      "execution_count": 130,
      "metadata": {
        "colab": {
          "base_uri": "https://localhost:8080/"
        },
        "id": "kARobCsoGKrw",
        "outputId": "62e14ae2-5c86-45c1-fbf6-7523ef38e3e4"
      },
      "outputs": [
        {
          "output_type": "execute_result",
          "data": {
            "text/plain": [
              "2.7030305578611237e-38"
            ]
          },
          "metadata": {},
          "execution_count": 130
        }
      ],
      "source": [
        "xd0 = Xi(minimum(z_evolve), 3, 2, m_e, m_p, m_n, 1875.62,6.14e-10, 4.3524, 1)\n",
        "x3h0 = Xi(minimum(z_evolve), 2, 3, m_e, m_p, m_n, 2809.45, 6.14e-10, 16.598, 1)\n",
        "x3he0 = Xi(minimum(z_evolve), 2, 3, m_e, m_p, m_n, 2809.431,6.14e-10, 15.1039, 2)\n",
        "x4he0 = Xi(minimum(z_evolve), 1, 4, m_e, m_p, m_n, 3728.42,6.14e-10, 55.37, 2)\n"
      ],
      "id": "kARobCsoGKrw"
    },
    {
      "cell_type": "code",
      "execution_count": 131,
      "metadata": {
        "colab": {
          "base_uri": "https://localhost:8080/"
        },
        "id": "TFms2P5nYfce",
        "outputId": "718d4ef8-d213-4e3b-dc37-92b0d8583453"
      },
      "outputs": [
        {
          "output_type": "execute_result",
          "data": {
            "text/plain": [
              "6.14e-10"
            ]
          },
          "metadata": {},
          "execution_count": 131
        }
      ],
      "source": [
        "eta_s=6.14e-10"
      ],
      "id": "TFms2P5nYfce"
    },
    {
      "cell_type": "code",
      "execution_count": 132,
      "metadata": {
        "colab": {
          "base_uri": "https://localhost:8080/"
        },
        "id": "zUG-pHCdGtZC",
        "outputId": "03350c60-0b82-4177-c05f-26fb46f32c30"
      },
      "outputs": [
        {
          "output_type": "execute_result",
          "data": {
            "text/plain": [
              "0.01"
            ]
          },
          "metadata": {},
          "execution_count": 132
        }
      ],
      "source": [
        "x1_0=Xn_in(minimum(z_evolve))\n",
        "x2_0=Xp_in(minimum(z_evolve))\n",
        "x3_0=xd0\n",
        "x4_0=x3h0\n",
        "x5_0=x3he0\n",
        "x6_0=x4he0\n",
        "x7_0=0.01(x1_0+x2_0)"
      ],
      "id": "zUG-pHCdGtZC"
    },
    {
      "cell_type": "code",
      "execution_count": 108,
      "metadata": {
        "id": "T-71vcGLBdov"
      },
      "outputs": [],
      "source": [],
      "id": "T-71vcGLBdov"
    },
    {
      "cell_type": "code",
      "execution_count": 133,
      "metadata": {
        "colab": {
          "base_uri": "https://localhost:8080/"
        },
        "id": "2yKkQpC-A5fE",
        "outputId": "ade98305-c92d-465c-c022-49ba9afc8eb2"
      },
      "outputs": [
        {
          "output_type": "stream",
          "name": "stdout",
          "text": [
            "  970.499 ms (13606569 allocations: 248.16 MiB)\n"
          ]
        }
      ],
      "source": [
        "using DifferentialEquations, BenchmarkTools\n",
        "u0=[x1_0,x2_0,x3_0,x4_0,x5_0,x6_0,x7_0]\n",
        "tspan = (minimum(z_evolve),maximum(z_evolve))\n",
        "prob = ODEProblem(dYdz, u0, tspan)\n",
        "@btime solve(prob,FBDF(),reltol=1e-7,abstol=1e-9);"
      ],
      "id": "2yKkQpC-A5fE"
    },
    {
      "cell_type": "code",
      "execution_count": null,
      "metadata": {
        "colab": {
          "base_uri": "https://localhost:8080/"
        },
        "id": "yVNAbgy7R4P1",
        "outputId": "a56258ba-2709-44cc-ff8c-a11055da3a6f"
      },
      "outputs": [
        {
          "data": {
            "text/plain": [
              "retcode: Success\n",
              "Interpolation: specialized 2nd order \"free\" stiffness-aware interpolation\n",
              "t: 55184-element Vector{Float64}:\n",
              "   0.0511\n",
              "   0.051100000000000104\n",
              "   0.05110000000000058\n",
              "   0.05110000000000373\n",
              "   0.051100000000035256\n",
              "   0.05110000000035046\n",
              "   0.05110000000350255\n",
              "   0.051100000035023435\n",
              "   0.051100000350232294\n",
              "   0.051100003502320884\n",
              "   0.051100035023206786\n",
              "   0.05110023332659117\n",
              "   0.05110105001794641\n",
              "   ⋮\n",
              "  54.015945854537364\n",
              "  58.751749139411885\n",
              "  62.52308042739652\n",
              "  67.31960800971224\n",
              "  74.8415932333759\n",
              "  84.07262441185912\n",
              "  96.02640199615502\n",
              " 107.98017958045091\n",
              " 124.56579220205316\n",
              " 153.45271126858148\n",
              " 196.1823124993091\n",
              " 200.0\n",
              "u: 55184-element Vector{Vector{Float64}}:\n",
              " [0.46772419255546166, 0.5322758074445384, 1.529263128594814e-12, 9.84391646472389e-26, 1.079574026155559e-25, 6.778239689261006e-39, 5.0]\n",
              " [0.4677241925552372, 0.5322758074443432, 1.7390639558972694e-12, 9.843916552938448e-26, 1.0795740173341033e-25, 6.778321514806515e-39, 5.0]\n",
              " [0.4677241925552073, 0.5322758074444461, 1.7025434978886125e-12, 9.843916952436417e-26, 1.0795739773843065e-25, 6.778696049802172e-39, 5.0]\n",
              " [0.4677241925547652, 0.5322758074448832, 1.705085465946689e-12, 9.843919597173819e-26, 1.0795737129105663e-25, 6.781174555449458e-39, 5.0]\n",
              " [0.46772419255036957, 0.5322758074492792, 1.7050532855193128e-12, 9.843946042562945e-26, 1.0795710683716534e-25, 6.805958825255349e-39, 5.0]\n",
              " [0.46772419250641295, 0.5322758074932376, 1.7050533275838996e-12, 9.844210298081948e-26, 1.0795446428197506e-25, 7.053712637220378e-39, 4.999999999999998]\n",
              " [0.4677241920668466, 0.5322758079328216, 1.7050533272497315e-12, 9.846833133327016e-26, 1.079282359295219e-25, 9.522387047359186e-39, 4.9999999999999805]\n",
              " [0.46772418767118673, 0.5322758123286587, 1.7050533239633226e-12, 9.871200834217976e-26, 1.076845589205885e-25, 3.334694648256075e-38, 4.999999999999803]\n",
              " [0.46772414371494764, 0.5322758562866708, 1.7050532910993625e-12, 1.000077027052114e-25, 1.0638886455738544e-25, 2.0475503939189015e-37, 4.99999999999803]\n",
              " [0.46772370418851444, 0.5322762958308342, 1.705052962474449e-12, 1.0044599367068351e-25, 1.0595057359169816e-25, 4.199336173523307e-37, 4.9999999999803]\n",
              " [0.4677193125176234, 0.5322806876790276, 1.7050496776882705e-12, 1.003739547174613e-25, 1.0602261254495878e-25, 3.815115086134176e-37, 4.999999999802998]\n",
              " [0.4676918329682489, 0.5323081683438423, 1.7050290732073457e-12, 1.0037056928962715e-25, 1.060259979727906e-25, 3.838349875956014e-37, 4.999999998687557]\n",
              " [0.4675813265210577, 0.5324186793848589, 1.7049452996695119e-12, 1.0034773204657883e-25, 1.0604883521583895e-25, 3.838040305242571e-37, 4.9999999940937325]\n",
              " ⋮\n",
              " [1.2285158468987e-9, 0.7646081640495378, 1.8457148267566342e-5, 5.984450528739952e-8, 7.75797667089134e-6, 0.05652187377659559, 5.009243971858621]\n",
              " [1.0529383816060494e-9, 0.7646081633882447, 1.8434646670255074e-5, 5.98299923175278e-8, 7.76685822404134e-6, 0.05652187826240242, 5.009243973154338]\n",
              " [7.079060828505703e-10, 0.764608163325552, 1.8422264042658547e-5, 5.973033677690944e-8, 7.771747134149254e-6, 0.0565218807607067, 5.0092439739663375]\n",
              " [4.720880397153847e-10, 0.764608163490432, 1.841148432247121e-5, 5.948480513864804e-8, 7.775920612326063e-6, 0.05652188303672972, 5.0092439747087845]\n",
              " [1.7948564920023518e-10, 0.7646081639666567, 1.8400889689011645e-5, 5.913134411482432e-8, 7.779935577043454e-6, 0.05652188534418979, 5.009243975500078]\n",
              " [8.501069516466609e-11, 0.7646081644708712, 1.839345616504539e-5, 5.881932641354783e-8, 7.782656612846647e-6, 0.056521887011919535, 5.0092439760594125]\n",
              " [8.27577578199994e-11, 0.7646081647667645, 1.8386324249759607e-5, 5.892554106564526e-8, 7.785475223486477e-6, 0.0565218881949451, 5.009243976523025]\n",
              " [3.580799138514517e-11, 0.7646081649568277, 1.8382729735985673e-5, 5.896136922577941e-8, 7.78689293150409e-6, 0.05652188880395076, 5.009243976772308]\n",
              " [1.3820284042023712e-11, 0.7646081650167648, 1.838056444458984e-5, 5.8969428913228196e-8, 7.787825169896929e-6, 0.056521889133158656, 5.009243976927215]\n",
              " [-5.44945278022053e-12, 0.7646081647521571, 1.8379601633764836e-5, 5.9029441565704034e-8, 7.788636953518088e-6, 0.05652188901219593, 5.009243977005176]\n",
              " [-6.193368017771649e-12, 0.7646081640115601, 1.8379956444904e-5, 5.916986600251485e-8, 7.789473439085934e-6, 0.056521888289132245, 5.00924397699842]\n",
              " [4.2495373059942735e-13, 0.7646081639348083, 1.8380002527100782e-5, 5.918430109270852e-8, 7.789548131285108e-6, 0.05652188821766835, 5.0092439769948625]"
            ]
          },
          "execution_count": 182,
          "metadata": {},
          "output_type": "execute_result"
        }
      ],
      "source": [
        "sol_y=solve(prob,Rosenbrock23(),reltol=1e-7,abstol=1e-9)"
      ],
      "id": "yVNAbgy7R4P1"
    },
    {
      "cell_type": "code",
      "execution_count": 134,
      "metadata": {
        "colab": {
          "base_uri": "https://localhost:8080/"
        },
        "id": "UjHediq0HKct",
        "outputId": "02cc595f-a8de-4ad4-933e-bb15f8d11287"
      },
      "outputs": [
        {
          "output_type": "execute_result",
          "data": {
            "text/plain": [
              "retcode: Success\n",
              "Interpolation: 3rd order Hermite\n",
              "t: 1303-element Vector{Float64}:\n",
              "      0.0511\n",
              "      0.051100000000000007\n",
              "      0.051100000000045026\n",
              "      0.05110000000556681\n",
              "      0.05110000006672029\n",
              "      0.051100008560620656\n",
              "      0.05110007438166592\n",
              "      0.05110018246606707\n",
              "      0.05110031649771123\n",
              "      0.051100585654189803\n",
              "      0.05110101034724796\n",
              "      0.05110153358364576\n",
              "      0.05110224410249325\n",
              "      ⋮\n",
              "   4518.070683321482\n",
              "   5643.125876342782\n",
              "   7393.1843170090415\n",
              "  10342.28988105311\n",
              "  15670.59397936365\n",
              "  25711.860040580665\n",
              "  44919.11044544503\n",
              "  81799.07485083427\n",
              " 152685.7009882817\n",
              " 288973.1872320911\n",
              " 551020.5487449951\n",
              "      1.0e6\n",
              "u: 1303-element Vector{Vector{Float64}}:\n",
              " [0.46772419255546166, 0.5322758074445384, 1.7049259762314102e-12, 1.490327886185763e-25, 1.574576005384769e-25, 2.7030305578611237e-38, 0.01]\n",
              " [0.46772419255546066, 0.5322758074445393, 1.704982949174846e-12, 1.4903278861927514e-25, 1.5745760053777806e-25, 2.7030313491502275e-38, 0.01]\n",
              " [0.4677241925491568, 0.532275807450843, 1.7050533142131577e-12, 1.4903279315221154e-25, 1.5745759600484163e-25, 2.708164603556777e-38, 0.01]\n",
              " [0.46772419177592434, 0.5322758082240756, 1.7050533270339983e-12, 1.4903333618353515e-25, 1.574570529735118e-25, 3.3306000617114635e-38, 0.009999999999999997]\n",
              " [0.4677241832124425, 0.5322758167875575, 1.7050533206414464e-12, 1.4903809075104513e-25, 1.574522984059407e-25, 9.439366342238264e-38, 0.009999999999999957]\n",
              " [0.46772299394622335, 0.5322770060606524, 1.7050524328067544e-12, 1.4935266556275971e-25, 1.571377235887914e-25, 4.315863134209901e-36, 0.009999999999958742]\n",
              " [0.4677137961384725, 0.5322862037674115, 1.7050455596277207e-12, 1.4909003133334316e-25, 1.5740035783881212e-25, 1.5191845459049457e-36, 0.010000000000445333]\n",
              " [0.4676987525519062, 0.5323012473467684, 1.7050342978453614e-12, 1.4905060939226206e-25, 1.5743977978205074e-25, 6.3867650350368355e-37, 0.010000000000413506]\n",
              " [0.4676802041646558, 0.5323197957213142, 1.7050203754788929e-12, 1.4904247653970775e-25, 1.5744791263692906e-25, 5.671615029756137e-37, 0.010000000000392978]\n",
              " [0.4676433063169851, 0.5323566938596099, 1.7049925594625601e-12, 1.4903235933454915e-25, 1.5745802979085574e-25, 5.897399706559114e-37, 0.009999999998696113]\n",
              " [0.4675860393835023, 0.5324139608752819, 1.7049490542103097e-12, 1.4901378339296264e-25, 1.5747660571802564e-25, 5.747776193209998e-37, 0.009999999997987343]\n",
              " [0.4675170497025658, 0.5324829507527966, 1.7048960904177713e-12, 1.4899253272235911e-25, 1.5749785635404474e-25, 5.700692292750285e-37, 0.009999999996615647]\n",
              " [0.4674260658214219, 0.5325739346154784, 1.704825270525103e-12, 1.489646283835747e-25, 1.57525760696176e-25, 5.698972917233306e-37, 0.009999999996247424]\n",
              " ⋮\n",
              " [-1.1570933400527935e-14, 0.7623141575211276, 0.0007821710343212258, 7.917025798070427e-6, 2.2571037687553308e-7, 0.061524268141003875, 1.2490956412107987e-14]\n",
              " [-5.449488347922655e-15, 0.7623141569072021, 0.0007821716482490827, 7.917638272758803e-6, 2.2571183275782704e-7, 0.061524267527073226, 7.180183725396783e-15]\n",
              " [-4.411484792229863e-15, 0.7623141564499184, 0.0007821721055378633, 7.918094482986433e-6, 2.2571291368819773e-7, 0.061524267069782, 3.618712532074025e-15]\n",
              " [-4.161605582884826e-15, 0.76231415607098, 0.0007821724844802491, 7.918472532366371e-6, 2.2571380894677944e-7, 0.06152426669083731, 1.6958420558065093e-15]\n",
              " [-2.2519572288483957e-15, 0.7623141557228177, 0.000782172832641498, 7.918819873240997e-6, 2.2571463144173638e-7, 0.06152426634267388, 2.9704722191317978e-15]\n",
              " [2.6480145836944843e-15, 0.7623141553837328, 0.0007821731717172348, 7.919158149755891e-6, 2.257154324836186e-7, 0.06152426600359628, 9.025049808723497e-15]\n",
              " [9.351397096321381e-15, 0.7623141550469635, 0.0007821735084713336, 7.91949410979334e-6, 2.2571622802926164e-7, 0.06152426566684064, 1.89163045072766e-14]\n",
              " [8.354547578262247e-15, 0.7623141547108319, 0.0007821738446030903, 7.919829448914424e-6, 2.257170221113345e-7, 0.06152426533070739, 2.135811007562905e-14]\n",
              " [-3.362777086242887e-14, 0.7623141543749579, 0.0007821741805687017, 7.920164622942852e-6, 2.2571781580041712e-7, 0.06152426499473962, -2.6337696888277078e-14]\n",
              " [-2.090900849177857e-13, 0.7623141540394401, 0.0007821745164876771, 7.920499752093353e-6, 2.2571860939495087e-7, 0.06152426465881682, -2.483207543399527e-13]\n",
              " [-7.374051658403587e-13, 0.7623141537047737, 0.0007821748523916055, 7.920834869037418e-6, 2.2571940297103371e-7, 0.061524264322906246, -9.512495030393147e-13]\n",
              " [-1.4782675820822127e-12, 0.7623141534316452, 0.000782175127309427, 7.921109145244015e-6, 2.2572005248611723e-7, 0.06152426404798049, -1.9917984597020616e-12]"
            ]
          },
          "metadata": {},
          "execution_count": 134
        }
      ],
      "source": [
        "sol_y=solve(prob,FBDF(),reltol=1e-7,abstol=1e-9)"
      ],
      "id": "UjHediq0HKct"
    },
    {
      "cell_type": "code",
      "execution_count": 135,
      "metadata": {
        "colab": {
          "base_uri": "https://localhost:8080/"
        },
        "id": "ap3UkAWuD08-",
        "outputId": "fa06062f-993d-4b64-e891-6a75b9070ccc"
      },
      "outputs": [
        {
          "output_type": "execute_result",
          "data": {
            "text/plain": [
              "0.24647169961383383"
            ]
          },
          "metadata": {},
          "execution_count": 135
        }
      ],
      "source": [
        " 4.002602*0.0615778684999992"
      ],
      "id": "ap3UkAWuD08-"
    },
    {
      "cell_type": "code",
      "execution_count": 136,
      "metadata": {
        "colab": {
          "base_uri": "https://localhost:8080/"
        },
        "id": "GcgLF44gi5I9",
        "outputId": "5dfa8e1d-2cfd-4fa3-d569-434da6c65d7d"
      },
      "outputs": [
        {
          "output_type": "execute_result",
          "data": {
            "text/plain": [
              "1303-element Vector{Float64}:\n",
              " 2.7030305578611237e-38\n",
              " 2.7030313491502275e-38\n",
              " 2.708164603556777e-38\n",
              " 3.3306000617114635e-38\n",
              " 9.439366342238264e-38\n",
              " 4.315863134209901e-36\n",
              " 1.5191845459049457e-36\n",
              " 6.3867650350368355e-37\n",
              " 5.671615029756137e-37\n",
              " 5.897399706559114e-37\n",
              " 5.747776193209998e-37\n",
              " 5.700692292750285e-37\n",
              " 5.698972917233306e-37\n",
              " ⋮\n",
              " 0.061524268141003875\n",
              " 0.061524267527073226\n",
              " 0.061524267069782\n",
              " 0.06152426669083731\n",
              " 0.06152426634267388\n",
              " 0.06152426600359628\n",
              " 0.06152426566684064\n",
              " 0.06152426533070739\n",
              " 0.06152426499473962\n",
              " 0.06152426465881682\n",
              " 0.061524264322906246\n",
              " 0.06152426404798049"
            ]
          },
          "metadata": {},
          "execution_count": 136
        }
      ],
      "source": [
        "\n",
        "# xp, xn, xd, x_3H, x_3He, x_4He\n",
        "z_val = sol_y.t\n",
        "xn_val = sol_y[1, :]\n",
        "xp_val = sol_y[2, :]\n",
        "xd_val = sol_y[3, :]\n",
        "x3h_val = sol_y[4, :]\n",
        "x3he_val = sol_y[5, :]\n",
        "x4he_val = sol_y[6, :]\n"
      ],
      "id": "GcgLF44gi5I9"
    },
    {
      "cell_type": "code",
      "execution_count": 137,
      "metadata": {
        "colab": {
          "base_uri": "https://localhost:8080/"
        },
        "id": "PW_4shohz3L7",
        "outputId": "3c05e257-8920-4ba4-9598-06a6a451ddfd"
      },
      "outputs": [
        {
          "output_type": "execute_result",
          "data": {
            "text/plain": [
              "1303-element Vector{Float64}:\n",
              " 2.7030305578611237e-38\n",
              " 2.7030313491502275e-38\n",
              " 2.708164603556777e-38\n",
              " 3.3306000617114635e-38\n",
              " 9.439366342238264e-38\n",
              " 4.315863134209901e-36\n",
              " 1.5191845459049457e-36\n",
              " 6.3867650350368355e-37\n",
              " 5.671615029756137e-37\n",
              " 5.897399706559114e-37\n",
              " 5.747776193209998e-37\n",
              " 5.700692292750285e-37\n",
              " 5.698972917233306e-37\n",
              " ⋮\n",
              " 0.061524268141003875\n",
              " 0.061524267527073226\n",
              " 0.061524267069782\n",
              " 0.06152426669083731\n",
              " 0.06152426634267388\n",
              " 0.06152426600359628\n",
              " 0.06152426566684064\n",
              " 0.06152426533070739\n",
              " 0.06152426499473962\n",
              " 0.06152426465881682\n",
              " 0.061524264322906246\n",
              " 0.06152426404798049"
            ]
          },
          "metadata": {},
          "execution_count": 137
        }
      ],
      "source": [
        "x4he_val"
      ],
      "id": "PW_4shohz3L7"
    },
    {
      "cell_type": "code",
      "execution_count": 138,
      "metadata": {
        "colab": {
          "base_uri": "https://localhost:8080/"
        },
        "id": "Ee_isMcbbxFv",
        "outputId": "511ce9cd-d76a-45df-dc7f-36ee9da9d7dd"
      },
      "outputs": [
        {
          "output_type": "execute_result",
          "data": {
            "text/plain": [
              "0.2845820985149674"
            ]
          },
          "metadata": {},
          "execution_count": 138
        }
      ],
      "source": [
        "4.002602*0.07109927455064664"
      ],
      "id": "Ee_isMcbbxFv"
    },
    {
      "cell_type": "code",
      "execution_count": 139,
      "metadata": {
        "colab": {
          "base_uri": "https://localhost:8080/"
        },
        "id": "UhTplyacz8tm",
        "outputId": "1e88742b-afef-437b-842e-db48b7ff8bc0"
      },
      "outputs": [
        {
          "output_type": "execute_result",
          "data": {
            "text/plain": [
              "1303-element Vector{Float64}:\n",
              " 0.5322758074445384\n",
              " 0.5322758074445393\n",
              " 0.532275807450843\n",
              " 0.5322758082240756\n",
              " 0.5322758167875575\n",
              " 0.5322770060606524\n",
              " 0.5322862037674115\n",
              " 0.5323012473467684\n",
              " 0.5323197957213142\n",
              " 0.5323566938596099\n",
              " 0.5324139608752819\n",
              " 0.5324829507527966\n",
              " 0.5325739346154784\n",
              " ⋮\n",
              " 0.7623141575211276\n",
              " 0.7623141569072021\n",
              " 0.7623141564499184\n",
              " 0.76231415607098\n",
              " 0.7623141557228177\n",
              " 0.7623141553837328\n",
              " 0.7623141550469635\n",
              " 0.7623141547108319\n",
              " 0.7623141543749579\n",
              " 0.7623141540394401\n",
              " 0.7623141537047737\n",
              " 0.7623141534316452"
            ]
          },
          "metadata": {},
          "execution_count": 139
        }
      ],
      "source": [
        "xp_val"
      ],
      "id": "UhTplyacz8tm"
    },
    {
      "cell_type": "code",
      "execution_count": 140,
      "metadata": {
        "id": "zkldA80GG5YL"
      },
      "outputs": [],
      "source": [
        "\n",
        "\n"
      ],
      "id": "zkldA80GG5YL"
    },
    {
      "cell_type": "code",
      "execution_count": 143,
      "metadata": {
        "colab": {
          "base_uri": "https://localhost:8080/",
          "height": 506
        },
        "id": "Zny31tJ-o8ss",
        "outputId": "fbd22747-629a-46ce-ba7b-e6ad495fc659"
      },
      "outputs": [
        {
          "output_type": "display_data",
          "data": {
            "text/plain": [
              "Figure(PyObject <Figure size 800x500 with 1 Axes>)"
            ],
            "image/png": "[encoded data removed]"
          },
          "metadata": {}
        }
      ],
      "source": [
        "\n",
        "using PyPlot\n",
        "\n",
        "\n",
        "\n",
        "# Create the figure and axis\n",
        "fig, ax = subplots(figsize=(8, 5))\n",
        "\n",
        "# Plot the data with customizations\n",
        "#=\n",
        "ax.plot(\n",
        "    z_val, xn_val ./ xp_val , linewidth=1, label=L\"$n$\", color=\"blue\"\n",
        ")\n",
        "ax.plot(\n",
        "    z_val, xp_val, linewidth=1, label=L\"$p$\", color=\"red\"\n",
        ")\n",
        "=#\n",
        "\n",
        "ax.plot(\n",
        "    z_val, xd_val  ./ xp_val, linewidth=1, label=L\"$D/H$\", color=\"green\"\n",
        ")\n",
        "\n",
        "#=\n",
        "ax.plot(\n",
        "    z_val, x3h_val ./ xp_val , linewidth=1, label=L\"$^{3}H/H$\", color=\"purple\"\n",
        ")\n",
        "\n",
        "ax.plot(\n",
        "    z_val, x3he_val ./ xp_val, linewidth=1, label=L\"$^{3}He/H$\", color=\"orange\"\n",
        ")\n",
        "=#\n",
        "\n",
        "#=\n",
        "ax.plot(\n",
        "    z_val,4.03297992538*x4he_val, linewidth=1, label=L\"$Y_{p}$\", color=\"deeppink\"\n",
        ")\n",
        "=#\n",
        "\n",
        "ax.fill_between([5,10^6],2.497e-5,2.557e-5,color=\"gray\")\n",
        "# Set scale to logarithmic\n",
        "ax.set_yscale(\"log\")\n",
        "ax.set_xscale(\"log\")\n",
        "\n",
        "# Labeling and legend\n",
        "ax.set_xlabel(L\"$z=m_e/T}$\", size=14,fontweight=\"bold\")\n",
        "ax.set_ylabel(\"Abundances\", size=16)\n",
        "ax.set_yticks([1e-6,1e-5,1e-4,1e-3,1e-2])\n",
        "#ax.set_xticks([0.3,1e+0,51])\n",
        "#ax.set_title(\"BBN Abundances\", size=14,fontweight=\"bold\")\n",
        "\n",
        "# Add a grid\n",
        "ax.grid(\"True\", which=\"both\", linestyle=\"--\", linewidth=0.5)\n",
        "ax.tick_params(axis=\"both\", which=\"both\", direction=\"in\", right=true)\n",
        "ax.set_ylim(1e-6,0.01)\n",
        "ax.set_xlim(5,10^6)\n",
        "ax.legend()\n",
        "fig.tight_layout()\n",
        "#fig.savefig(\"bbn.svg\")\n",
        "\n"
      ],
      "id": "Zny31tJ-o8ss"
    },
    {
      "cell_type": "code",
      "execution_count": 146,
      "metadata": {
        "colab": {
          "base_uri": "https://localhost:8080/",
          "height": 506
        },
        "id": "XlNqxk7EOPfe",
        "outputId": "13ce087f-428e-4d73-971a-bb9804748004"
      },
      "outputs": [
        {
          "output_type": "display_data",
          "data": {
            "text/plain": [
              "Figure(PyObject <Figure size 800x500 with 1 Axes>)"
            ],
            "image/png": "[encoded data removed]"
          },
          "metadata": {}
        }
      ],
      "source": [
        "using PyPlot\n",
        "\n",
        "# Create the figure and axis\n",
        "fig, ax = subplots(figsize=(8, 5))\n",
        "\n",
        "# Plot the data with customizations\n",
        "ax.plot(\n",
        "    z_val,4.002602*x4he_val, linewidth=1, label=L\"$Y_{p}$\", color=\"deeppink\"\n",
        ")\n",
        "\n",
        "ax.fill_between([5,10^6],0.2419,0.2487,color=\"pink\")\n",
        "\n",
        "# Set scale to logarithmic\n",
        "ax.set_yscale(\"log\")\n",
        "ax.set_xscale(\"log\")\n",
        "\n",
        "# Labeling and legend\n",
        "ax.set_xlabel(L\"$z=m_e/T$\", size=14,fontweight=\"bold\")\n",
        "ax.set_ylabel(\"Abundances\", size=16)\n",
        "ax.set_yticks([0.19,0.20,0.21,0.22,0.23,0.24,0.25,0.26,0.27,0.28,0.29,0.30])\n",
        "ax.grid(\"True\", which=\"both\", linestyle=\"--\", linewidth=0.5)\n",
        "ax.tick_params(axis=\"both\", which=\"both\", direction=\"in\", right=true)\n",
        "ax.set_ylim(0.19,0.30)\n",
        "ax.set_xlim(5,10^6)\n",
        "ax.legend()\n",
        "fig.tight_layout()\n",
        "\n"
      ],
      "id": "XlNqxk7EOPfe"
    },
    {
      "cell_type": "code",
      "execution_count": null,
      "metadata": {
        "colab": {
          "base_uri": "https://localhost:8080/"
        },
        "id": "eNEe6hQ5K4S1",
        "outputId": "54b38ca9-eb4e-49c0-c038-c17b2eb5512e"
      },
      "outputs": [
        {
          "data": {
            "text/plain": [
              "DD_p3H_alcoc (generic function with 1 method)"
            ]
          },
          "execution_count": 75,
          "metadata": {},
          "output_type": "execute_result"
        }
      ],
      "source": [
        "function pn_gammaD_andlo(z)\n",
        "    T = m_e / z\n",
        "    T_9 = mev_to_t9kelvin(T)\n",
        "    # nb = 6.14e-10 * 410.73 * (T / 2.7255) ^ 3\n",
        "    NA = 6.022e23\n",
        "    if T_9 <= 1.5\n",
        "        f = (44216. * (1 + 3.75191 * T_9 + 1.92934 * T_9^2 + 0.746503 * T_9^3 + 0.0197023 * T_9^4 + 3.00491e-6 * T_9^5) / (1 + 5.4678 * T_9 + 5.62395 * T_9^2 + 0.489312 * T_9^3 + 0.00747806 * T_9^4))\n",
        "    else\n",
        "        f = (1. - sqrt(T_9) * 0.8504 + T_9 * 0.4895 - T_9^(3/2) * 0.09623 + T_9 * 0.008471 * T_9 - T_9 * 2.8e-4 * T_9^(3/2)) * 47420\n",
        "    end\n",
        "    rate = f\n",
        "    return n_b(z) * rate / NA\n",
        "end\n",
        "\n",
        "\n",
        "function DD_n3He_alcoc(z)\n",
        "    T9 = mev_to_t9kelvin(m_e / z)\n",
        "    if T9 < 0.001\n",
        "        rate = 1.142e-8\n",
        "    elseif 0.001 <= T9 <= 0.0015\n",
        "        rate = 1.142e-8\n",
        "    elseif 0.0015 < T9 <= 0.0025\n",
        "        rate = 5.470e-5\n",
        "    elseif 0.0025 < T9 <= 0.0035\n",
        "        rate = 3.021e-3\n",
        "    elseif 0.0035 < T9 <= 0.0045\n",
        "        rate = 3.732e-2\n",
        "    elseif 0.0045 < T9 <= 0.0055\n",
        "        rate = 2.212e-1\n",
        "    elseif 0.0055 < T9 <= 0.0065\n",
        "        rate = 8.546e-1\n",
        "    elseif 0.0065 < T9 <= 0.0075\n",
        "        rate = 2.505\n",
        "    elseif 0.0075 < T9 <= 0.0085\n",
        "        rate = 6.066\n",
        "    elseif 0.0085 < T9 <= 0.0095\n",
        "        rate = 1.278e1\n",
        "    elseif 0.0095 < T9 <= 0.0105\n",
        "        rate = 2.424e1\n",
        "    elseif 0.0105 < T9 <= 0.0115\n",
        "        rate = 4.237e1\n",
        "    elseif 0.0115 < T9 <= 0.0125\n",
        "        rate = 6.936e1\n",
        "    elseif 0.0125 < T9 <= 0.0135\n",
        "        rate = 1.077e2\n",
        "    elseif 0.0135 < T9 <= 0.0145\n",
        "        rate = 1.600e2\n",
        "    elseif 0.0145 < T9 <= 0.0155\n",
        "        rate = 2.291e2\n",
        "    elseif 0.0155 < T9 <= 0.0170\n",
        "        rate = 3.179e2\n",
        "    elseif 0.0170 < T9 <= 0.0190\n",
        "        rate = 5.667e2\n",
        "    elseif 0.0190 < T9 <= 0.0225\n",
        "        rate = 9.310e2\n",
        "    elseif 0.0225 < T9 <= 0.0275\n",
        "        rate = 2.504e3\n",
        "    elseif 0.0275 < T9 <= 0.0350\n",
        "        rate = 5.301e3\n",
        "    elseif 0.0350 < T9 <= 0.0450\n",
        "        rate = 1.568e4\n",
        "    elseif 0.0450 < T9 <= 0.0550\n",
        "        rate = 3.369e4\n",
        "    elseif 0.0550 < T9 <= 0.0650\n",
        "        rate = 6.013e4\n",
        "    elseif 0.0650 < T9 <= 0.0750\n",
        "        rate = 9.527e4\n",
        "    elseif 0.0750 < T9 <= 0.0850\n",
        "        rate = 1.390e5\n",
        "    elseif 0.0850 < T9 <= 0.0950\n",
        "        rate = 1.912e5\n",
        "    elseif 0.0950 < T9 <= 0.1050\n",
        "        rate = 2.513e5\n",
        "    elseif 0.1050 < T9 <= 0.1150\n",
        "        rate = 3.190e5\n",
        "    elseif 0.1150 < T9 <= 0.1250\n",
        "        rate = 3.938e5\n",
        "    elseif 0.1250 < T9 <= 0.1350\n",
        "        rate = 4.753e5\n",
        "    elseif 0.1350 < T9 <= 0.1450\n",
        "        rate = 5.631e5\n",
        "    elseif 0.1450 < T9 <= 0.1550\n",
        "        rate = 6.568e5\n",
        "    elseif 0.1550 < T9 <= 0.1700\n",
        "        rate = 7.559e5\n",
        "    elseif 0.1700 < T9 <= 0.1900\n",
        "        rate = 9.691e5\n",
        "    elseif 0.1900 < T9 <= 0.2250\n",
        "        rate = 1.200e6\n",
        "    elseif 0.2250 < T9 <= 0.2750\n",
        "        rate = 1.842e6\n",
        "    elseif 0.2750 < T9 <= 0.3250\n",
        "        rate = 2.555e6\n",
        "    elseif 0.3250 < T9 <= 0.3750\n",
        "        rate = 3.318e6\n",
        "    elseif 0.3750 < T9 <= 0.4250\n",
        "        rate = 4.119e6\n",
        "    elseif 0.4250 < T9 <= 0.4750\n",
        "        rate = 4.946e6\n",
        "    elseif 0.4750 < T9 <= 0.5500\n",
        "        rate = 5.792e6\n",
        "    elseif 0.5500 < T9 <= 0.6500\n",
        "        rate = 7.517e6\n",
        "    elseif 0.6500 < T9 <= 0.7500\n",
        "        rate = 9.260e6\n",
        "    elseif 0.7500 < T9 <= 0.8500\n",
        "        rate = 1.100e7\n",
        "    elseif 0.8500 < T9 <= 0.9500\n",
        "        rate = 1.272e7\n",
        "    elseif 0.9500 < T9 <= 1.1250\n",
        "        rate = 1.442e7\n",
        "    elseif 1.1250 < T9 <= 1.3750\n",
        "        rate = 1.850e7\n",
        "    elseif 1.3750 < T9 <= 1.6250\n",
        "        rate = 2.235e7\n",
        "    elseif 1.6250 < T9 <= 1.8750\n",
        "        rate = 2.595e7\n",
        "    elseif 1.8750 < T9 <= 2.2500\n",
        "        rate = 2.932e7\n",
        "    elseif 2.2500 < T9 <= 2.7500\n",
        "        rate = 3.546e7\n",
        "    elseif 2.7500 < T9 <= 3.2500\n",
        "        rate = 4.093e7\n",
        "    elseif 3.2500 < T9 <= 3.7500\n",
        "        rate = 4.585e7\n",
        "    elseif 3.7500 < T9 <= 4.5000\n",
        "        rate = 5.031e7\n",
        "    elseif 4.5000 < T9 <= 5.5000\n",
        "        rate = 5.816e7\n",
        "    elseif 5.5000 < T9 <= 6.5000\n",
        "        rate = 6.488e7\n",
        "    elseif 6.5000 < T9 <= 7.5000\n",
        "        rate = 7.072e7\n",
        "    elseif 7.5000 < T9 <= 8.5000\n",
        "        rate = 7.583e7\n",
        "    elseif 8.5000 < T9 <= 9.5000\n",
        "        rate = 8.037e7\n",
        "    elseif 9.5000 < T9 <= 10.0000\n",
        "        rate = 8.437e7\n",
        "    else\n",
        "        rate = 0.0\n",
        "    end\n",
        "    rate = rate\n",
        "    return n_b(z) * rate / NA\n",
        "end\n",
        "\n",
        "\n",
        "function DD_p3H_alcoc(z)\n",
        "    T = m_e / z\n",
        "    T9 = mev_to_t9kelvin(T)\n",
        "    NA = 6.022e23\n",
        "    if T9 < 0.001\n",
        "        rate = 1.173e-8\n",
        "    elseif 0.001 <= T9 <= 0.0015\n",
        "        rate = 1.173e-8\n",
        "    elseif 0.0015 < T9 <= 0.0025\n",
        "        rate = 5.609e-5\n",
        "    elseif 0.0025 < T9 <= 0.0035\n",
        "        rate = 3.092e-3\n",
        "    elseif 0.0035 < T9 <= 0.0045\n",
        "        rate = 3.814e-2\n",
        "    elseif 0.0045 < T9 <= 0.0055\n",
        "        rate = 2.257e-1\n",
        "    elseif 0.0055 < T9 <= 0.0065\n",
        "        rate = 8.707e-1\n",
        "    elseif 0.0065 < T9 <= 0.0075\n",
        "        rate = 2.549\n",
        "    elseif 0.0075 < T9 <= 0.0085\n",
        "        rate = 6.164\n",
        "    elseif 0.0085 < T9 <= 0.0095\n",
        "        rate = 1.297e1\n",
        "    elseif 0.0095 < T9 <= 0.0105\n",
        "        rate = 2.458e1\n",
        "    elseif 0.0105 < T9 <= 0.0115\n",
        "        rate = 4.290e1\n",
        "    elseif 0.0115 < T9 <= 0.0125\n",
        "        rate = 7.016e1\n",
        "    elseif 0.0125 < T9 <= 0.0135\n",
        "        rate = 1.088e2\n",
        "    elseif 0.0135 < T9 <= 0.0145\n",
        "        rate = 1.615e2\n",
        "    elseif 0.0145 < T9 <= 0.0155\n",
        "        rate = 2.310e2\n",
        "    elseif 0.0155 < T9 <= 0.0170\n",
        "        rate = 3.202e2\n",
        "    elseif 0.0170 < T9 <= 0.0190\n",
        "        rate = 5.698e2\n",
        "    elseif 0.0190 < T9 <= 0.0225\n",
        "        rate = 9.343e2\n",
        "    elseif 0.0225 < T9 <= 0.0275\n",
        "        rate = 2.502e3\n",
        "    elseif 0.0275 < T9 <= 0.0350\n",
        "        rate = 5.276e3\n",
        "    elseif 0.0350 < T9 <= 0.0450\n",
        "        rate = 1.549e4\n",
        "    elseif 0.0450 < T9 <= 0.0550\n",
        "        rate = 3.307e4\n",
        "    elseif 0.0550 < T9 <= 0.0650\n",
        "        rate = 5.868e4\n",
        "    elseif 0.0650 < T9 <= 0.0750\n",
        "        rate = 9.246e4\n",
        "    elseif 0.0750 < T9 <= 0.0850\n",
        "        rate = 1.343e5\n",
        "    elseif 0.0850 < T9 <= 0.0950\n",
        "        rate = 1.837e5\n",
        "    elseif 0.0950 < T9 <= 0.1050\n",
        "        rate = 2.404e5\n",
        "    elseif 0.1050 < T9 <= 0.1150\n",
        "        rate = 3.039e5\n",
        "    elseif 0.1150 < T9 <= 0.1250\n",
        "        rate = 3.737e5\n",
        "    elseif 0.1250 < T9 <= 0.1350\n",
        "        rate = 4.493e5\n",
        "    elseif 0.1350 < T9 <= 0.1450\n",
        "        rate = 5.304e5\n",
        "    elseif 0.1450 < T9 <= 0.1550\n",
        "        rate = 6.165e5\n",
        "    elseif 0.1550 < T9 <= 0.1700\n",
        "        rate = 7.072e5\n",
        "    elseif 0.1700 < T9 <= 0.1900\n",
        "        rate = 9.011e5\n",
        "    elseif 0.1900 < T9 <= 0.2250\n",
        "        rate = 1.110e6\n",
        "    elseif 0.2250 < T9 <= 0.2750\n",
        "        rate = 1.682e6\n",
        "    elseif 0.2750 < T9 <= 0.3250\n",
        "        rate = 2.309e6\n",
        "    elseif 0.3250 < T9 <= 0.3750\n",
        "        rate = 2.974e6\n",
        "    elseif 0.3750 < T9 <= 0.4250\n",
        "        rate = 3.663e6\n",
        "    elseif 0.4250 < T9 <= 0.4750\n",
        "        rate = 4.371e6\n",
        "    elseif 0.4750 < T9 <= 0.5500\n",
        "        rate = 5.089e6\n",
        "    elseif 0.5500 < T9 <= 0.6500\n",
        "        rate = 6.543e6\n",
        "    elseif 0.6500 < T9 <= 0.7500\n",
        "        rate = 8.001e6\n",
        "    elseif 0.7500 < T9 <= 0.8500\n",
        "        rate = 9.448e6\n",
        "    elseif 0.8500 < T9 <= 0.9500\n",
        "        rate = 1.087e7\n",
        "    elseif 0.9500 < T9 <= 1.1250\n",
        "        rate = 1.228e7\n",
        "    elseif 1.1250 < T9 <= 1.3750\n",
        "        rate = 1.565e7\n",
        "    elseif 1.3750 < T9 <= 1.6250\n",
        "        rate = 2.882e7\n",
        "    elseif 1.6250 < T9 <= 1.8750\n",
        "        rate = 2.181e7\n",
        "    elseif 1.8750 < T9 <= 2.2500\n",
        "        rate = 2.461e7\n",
        "    elseif 2.2500 < T9 <= 2.7500\n",
        "        rate = 2.976e7\n",
        "    elseif 2.7500 < T9 <= 3.2500\n",
        "        rate = 3.440e7\n",
        "    elseif 3.2500 < T9 <= 3.7500\n",
        "        rate = 3.863e7\n",
        "    elseif 3.7500 < T9 <= 4.5000\n",
        "        rate = 4.251e7\n",
        "    elseif 4.5000 < T9 <= 5.5000\n",
        "        rate = 4.946e7\n",
        "    elseif 5.5000 < T9 <= 6.5000\n",
        "        rate = 5.552e7\n",
        "    elseif 6.5000 < T9 <= 7.5000\n",
        "        rate = 6.077e7\n",
        "    elseif 7.5000 < T9 <= 8.5000\n",
        "        rate = 6.529e7\n",
        "    elseif 8.5000 < T9 <= 9.5000\n",
        "        rate = 6.912e7\n",
        "    elseif 9.5000 < T9 <= 10.0000\n",
        "        rate = 7.228e7\n",
        "    else\n",
        "        rate = 0.0\n",
        "    end\n",
        "    rate = n_b(z) * rate / NA\n",
        "    return rate\n",
        "end\n",
        "\n"
      ],
      "id": "eNEe6hQ5K4S1"
    },
    {
      "cell_type": "code",
      "execution_count": null,
      "metadata": {
        "colab": {
          "base_uri": "https://localhost:8080/"
        },
        "id": "nL5LJOPWacbc",
        "outputId": "6a66ad8f-b79c-4c34-9e2c-f761836fd958"
      },
      "outputs": [
        {
          "data": {
            "text/plain": [
              "\"function DD_n3He_alcoc(z)\\n    T = m_e / z\\n    T_9 = mev_to_t9kelvin(T)\\n    NA = 6.022e23\\n    rate = (T_9^(-2/3)) * exp(-T_9^(-1/3)) * (\\n        -1.84664e6 + 1.22986e7 * T_9^(1/3) - 1.3761e7 * T_9^(2/3) - 6.11628e7 * T_9\\n        + 1.3329e8 * T_9^(4/3) - 1.24333e7 * T_9^(5/3) - 2.72404e7 * T_9^2\\n        + 8.52947e6 * T_9^(7/3) + 2.2519e6 * T\" ⋯ 340 bytes ⋯ \" = t9^(4/3)\\n    t953 = t9^(5/3)\\n\\n    rate = 3.91889e8 * t9^(-2/3) * exp(-4.2586 / t913) * (\\n        1 + 0.309233 * t913 - 0.337260 * t923 +\\n        2.51922 * t9 - 2.79097 * t943 + 2.16082 * t953 -\\n        0.976181 * t9^2 + 0.210883 * t943 * t9 -\\n        0.0169027 * t953 * t9 + 7.845538e-6 * t9^3\\n    )\\n\\n    return (n_b(z) * rate / NA)\\nend\\n\""
            ]
          },
          "execution_count": 76,
          "metadata": {},
          "output_type": "execute_result"
        }
      ],
      "source": [
        "\"\"\"\n",
        "function DD_n3He_alcoc(z)\n",
        "    T = m_e / z\n",
        "    T_9 = mev_to_t9kelvin(T)\n",
        "    NA = 6.022e23\n",
        "    rate = (T_9^(-2/3)) * exp(-T_9^(-1/3)) * (\n",
        "        -1.84664e6 + 1.22986e7 * T_9^(1/3) - 1.3761e7 * T_9^(2/3) - 6.11628e7 * T_9\n",
        "        + 1.3329e8 * T_9^(4/3) - 1.24333e7 * T_9^(5/3) - 2.72404e7 * T_9^2\n",
        "        + 8.52947e6 * T_9^(7/3) + 2.2519e6 * T_9^(8/3) - 2.31204e6 * T_9^3\n",
        "        - 294342 * T_9^(10/3) + 911550 * T_9^(11/3) - 252211 * T_9^4\n",
        "    )\n",
        "\n",
        "    return (n_b(z) * rate / NA)\n",
        "end\n",
        "\n",
        "\n",
        "function DD_p3H_alcoc(z)\n",
        "    T = m_e / z\n",
        "    T_9 = mev_to_t9kelvin(T)\n",
        "    rhob = 2.12e-4 * T_9^3\n",
        "    t9 = mev_to_t9kelvin(m_e / z)\n",
        "    NA = 6.022e23\n",
        "    t913 = t9^(1/3)\n",
        "    t923 = t9^(2/3)\n",
        "    t943 = t9^(4/3)\n",
        "    t953 = t9^(5/3)\n",
        "\n",
        "    rate = 3.91889e8 * t9^(-2/3) * exp(-4.2586 / t913) * (\n",
        "        1 + 0.309233 * t913 - 0.337260 * t923 +\n",
        "        2.51922 * t9 - 2.79097 * t943 + 2.16082 * t953 -\n",
        "        0.976181 * t9^2 + 0.210883 * t943 * t9 -\n",
        "        0.0169027 * t953 * t9 + 7.845538e-6 * t9^3\n",
        "    )\n",
        "\n",
        "    return (n_b(z) * rate / NA)\n",
        "end\n",
        "\"\"\""
      ],
      "id": "nL5LJOPWacbc"
    },
    {
      "cell_type": "code",
      "execution_count": null,
      "metadata": {
        "colab": {
          "base_uri": "https://localhost:8080/"
        },
        "id": "sIcO1WJfPINK",
        "outputId": "5f7723a2-db5b-4920-cfbb-f62d58b65b15"
      },
      "outputs": [
        {
          "data": {
            "text/plain": [
              "gammaD_pn (generic function with 1 method)"
            ]
          },
          "execution_count": 77,
          "metadata": {},
          "output_type": "execute_result"
        }
      ],
      "source": [
        "function gammaD_pn(z)\n",
        "    term1 = (Xp_in(z) * Xn_in(z)) / Xi(z, 3, 2, 0.511, 938.27, 940.6, 1875.62, 6.13832e-10,6.86, 1)\n",
        "    reverse_rate = term1 * pn_gammaD_andlo(z)\n",
        "    return reverse_rate\n",
        "end\n"
      ],
      "id": "sIcO1WJfPINK"
    },
    {
      "cell_type": "code",
      "execution_count": null,
      "metadata": {
        "colab": {
          "base_uri": "https://localhost:8080/"
        },
        "id": "DjY4geyMYJye",
        "outputId": "b7ad830e-708d-4a34-c53d-b6449c1b8257"
      },
      "outputs": [
        {
          "data": {
            "text/plain": [
              "threegamma_1two (generic function with 2 methods)"
            ]
          },
          "execution_count": 78,
          "metadata": {},
          "output_type": "execute_result"
        }
      ],
      "source": [
        "\n",
        "function threegamma_1two(sigma_v_ab, T_9, A1, A2, A3, ga, gb, gc, Q)\n",
        "    c_gamma = 9.8686 * 10^9 * T_9^(3/2) * (A1 * A2 / A3) * (ga * gb / gc) * exp(-11.605 * Q / T_9)\n",
        "    ngamma_sigma_v_cgamma = sigma_v_ab * c_gamma\n",
        "    return ngamma_sigma_v_cgamma\n",
        "end\n"
      ],
      "id": "DjY4geyMYJye"
    },
    {
      "cell_type": "code",
      "execution_count": null,
      "metadata": {
        "colab": {
          "base_uri": "https://localhost:8080/"
        },
        "id": "EIigsr6_iMcD",
        "outputId": "be007aa8-198d-422b-f9e4-baf4e60ddb8a"
      },
      "outputs": [
        {
          "data": {
            "text/plain": [
              "\"function gammaD_pn(z)\\n    value1 = pn_gammaD(z)\\n    T_9 = mev_to_t9kelvin(z)\\n    A1 = 1.00727\\n    A2 = 1.00866\\n    A3 = 2.01410\\n    ga = 2\\n    gb = 2\\n    gc = 3\\n    Q = 1.7135810198702273\\n    value1 = value1\\n    rate1r = threegamma_1two(value1, T_9, A1, A2, A3, ga, gb, gc, Q)\\n    return rate1r\\nend\\n\""
            ]
          },
          "execution_count": 79,
          "metadata": {},
          "output_type": "execute_result"
        }
      ],
      "source": [
        "\"\"\"\n",
        "function gammaD_pn(z)\n",
        "    value1 = pn_gammaD(z)\n",
        "    T_9 = mev_to_t9kelvin(z)\n",
        "    A1 = 1.00727\n",
        "    A2 = 1.00866\n",
        "    A3 = 2.01410\n",
        "    ga = 2\n",
        "    gb = 2\n",
        "    gc = 3\n",
        "    Q = 1.7135810198702273\n",
        "    value1 = value1\n",
        "    rate1r = threegamma_1two(value1, T_9, A1, A2, A3, ga, gb, gc, Q)\n",
        "    return rate1r\n",
        "end\n",
        "\"\"\""
      ],
      "id": "EIigsr6_iMcD"
    },
    {
      "cell_type": "code",
      "execution_count": null,
      "metadata": {
        "colab": {
          "base_uri": "https://localhost:8080/"
        },
        "id": "RyidUuYKkLWF",
        "outputId": "74635841-8402-4f86-c4bb-64a92191d5f7"
      },
      "outputs": [
        {
          "data": {
            "text/plain": [
              "x4he_dot (generic function with 1 method)"
            ]
          },
          "execution_count": 80,
          "metadata": {},
          "output_type": "execute_result"
        }
      ],
      "source": [
        "function xp_dot(z, xn, xp, xd)\n",
        "    value = (lambda_np(z) * xn - lambda_pn(z) * xp + (gammaD_pn(z) * xd - pn_gammaD_andlo(z) * xp * xn)\n",
        "              + ((DD_p3H_alcoc(z) * xd ^ 2) / 2 )) * dt_dz(z)\n",
        "    return value\n",
        "end\n",
        "\n",
        "function xn_dot(z, xn, xp, xd)\n",
        "    value = (lambda_pn(z) * xp - lambda_np(z) * xn + (gammaD_pn(z) * xd - pn_gammaD_andlo(z) * xp * xn)\n",
        "             + ((DD_n3He_alcoc(z) * xd ^ 2) / 2 )) * dt_dz(z)\n",
        "    return value\n",
        "end\n",
        "\n",
        "function xd_dot(z, xn, xp, xd)\n",
        "    value = ((pn_gammaD_andlo(z) * xp * xn - gammaD_pn(z) * xd) - 2 * (((DD_p3H_alcoc(z) * xd ^ 2) / 2 ) + ((DD_n3He_alcoc(z) * xd ^ 2) / 2))) * dt_dz(z)\n",
        "    return value\n",
        "end\n",
        "\n",
        "function x4he_dot(z, xd)\n",
        "    value = ((((DD_p3H_alcoc(z) * xd ^ 2) / 2 ) + ((DD_n3He_alcoc(z) * xd ^ 2) / 2))) * dt_dz(z)\n",
        "    return value\n",
        "end"
      ],
      "id": "RyidUuYKkLWF"
    },
    {
      "cell_type": "code",
      "execution_count": null,
      "metadata": {
        "colab": {
          "base_uri": "https://localhost:8080/"
        },
        "id": "NwKzdZpBTOAm",
        "outputId": "f5e50803-fd0c-4186-c841-8520a633730b"
      },
      "outputs": [
        {
          "data": {
            "text/plain": [
              "small_network (generic function with 1 method)"
            ]
          },
          "execution_count": 78,
          "metadata": {},
          "output_type": "execute_result"
        }
      ],
      "source": [
        "\n",
        "function small_network(u, p, z)\n",
        "    xn, xp, xd, x4he = u\n",
        "    dx_n = xn_dot(z,u[1],u[2],u[3])  # Define the equation for dx/dt here based on x, y, and t\n",
        "    dx_p = xp_dot(z,u[1],u[2],u[3])\n",
        "    dx_d = xd_dot(z,u[1],u[2],u[3])\n",
        "    dx_4he=x4he_dot(z,u[3])\n",
        "    [dx_n,dx_p,dx_d,dx_4he] # Define the equation for dy/dt here based on x, y, and t\n",
        "end\n",
        "\n"
      ],
      "id": "NwKzdZpBTOAm"
    },
    {
      "cell_type": "code",
      "execution_count": null,
      "metadata": {
        "colab": {
          "base_uri": "https://localhost:8080/"
        },
        "id": "quAwhizdThv3",
        "outputId": "90f17eff-150d-401d-b178-7e4370d74587"
      },
      "outputs": [
        {
          "data": {
            "text/plain": [
              "2.42419955103104e-38"
            ]
          },
          "execution_count": 79,
          "metadata": {},
          "output_type": "execute_result"
        }
      ],
      "source": [
        "\n",
        "x1_0=Xn_in(minimum(z_evolve))\n",
        "x2_0=Xp_in(minimum(z_evolve))\n",
        "x3_0=Xi(minimum(z_evolve), 3, 2, 0.511, 938.27, 940.6, 1875.62, 6.13832e-10, 6.86, 1)\n",
        "x4_h0=Xi(minimum(z_evolve), 1, 4, 0.511, 938.27, 940.6, 3728.42, 6.13832e-10, 53.32, 2)\n"
      ],
      "id": "quAwhizdThv3"
    },
    {
      "cell_type": "code",
      "execution_count": null,
      "metadata": {
        "colab": {
          "base_uri": "https://localhost:8080/"
        },
        "id": "9lFmh2BoSY05",
        "outputId": "cb6e1629-45e1-4c0f-a0c0-4f58ec9d058e"
      },
      "outputs": [
        {
          "data": {
            "text/plain": [
              "2.42419955103104e-38"
            ]
          },
          "execution_count": 80,
          "metadata": {},
          "output_type": "execute_result"
        }
      ],
      "source": [
        "xd0 = Xi(minimum(z_evolve), 3, 2, 0.511, 938.27, 940.6, 1875.62, 6.13832e-10, 6.86, 1)\n",
        "x3h0 = Xi(minimum(z_evolve), 2, 3, 0.511, 938.27, 940.6, 2809.45, 6.13832e-10, 16.63, 1)\n",
        "x3he0 = Xi(minimum(z_evolve), 2, 3, 0.511, 938.27, 940.6, 2809.431, 6.13832e-10, 13.11, 2)\n",
        "x4he0 = Xi(minimum(z_evolve), 1, 4, 0.511, 938.27, 940.6, 3728.42, 6.13832e-10, 53.32, 2)"
      ],
      "id": "9lFmh2BoSY05"
    },
    {
      "cell_type": "code",
      "execution_count": null,
      "metadata": {
        "colab": {
          "base_uri": "https://localhost:8080/"
        },
        "id": "g9OnzTxwSZBO",
        "outputId": "9fdac47e-8789-4e68-e38c-e331da1a835a"
      },
      "outputs": [
        {
          "data": {
            "text/plain": [
              "2.42419955103104e-38"
            ]
          },
          "execution_count": 81,
          "metadata": {},
          "output_type": "execute_result"
        }
      ],
      "source": [
        "x4_h0"
      ],
      "id": "g9OnzTxwSZBO"
    },
    {
      "cell_type": "code",
      "execution_count": null,
      "metadata": {
        "id": "RLSZC4iHacnk"
      },
      "outputs": [],
      "source": [
        "z_iterate = []\n",
        "for i in znu\n",
        "    if mev_to_t9kelvin(m_e / i) < 10\n",
        "        push!(z_iterate, i)\n",
        "    end\n",
        "end\n"
      ],
      "id": "RLSZC4iHacnk"
    },
    {
      "cell_type": "code",
      "execution_count": null,
      "metadata": {
        "colab": {
          "base_uri": "https://localhost:8080/"
        },
        "id": "GWppZVHB2Suw",
        "outputId": "5996afa5-44ab-41fb-c443-07a6fa42a410"
      },
      "outputs": [
        {
          "name": "stderr",
          "output_type": "stream",
          "text": [
            "\u001b[32m\u001b[1m   Resolving\u001b[22m\u001b[39m package versions...\n",
            "\u001b[32m\u001b[1m  No Changes\u001b[22m\u001b[39m to `~/.julia/environments/v1.9/Project.toml`\n",
            "\u001b[32m\u001b[1m  No Changes\u001b[22m\u001b[39m to `~/.julia/environments/v1.9/Manifest.toml`\n"
          ]
        }
      ],
      "source": [
        "Pkg.add(\"DifferentialEquations\")"
      ],
      "id": "GWppZVHB2Suw"
    },
    {
      "cell_type": "code",
      "execution_count": null,
      "metadata": {
        "colab": {
          "base_uri": "https://localhost:8080/"
        },
        "id": "fuDE2NpEJ4vC",
        "outputId": "b79b0e42-6537-4214-b642-8db469cb6e89"
      },
      "outputs": [
        {
          "name": "stderr",
          "output_type": "stream",
          "text": [
            "\u001b[32m\u001b[1m   Resolving\u001b[22m\u001b[39m package versions...\n",
            "\u001b[32m\u001b[1m    Updating\u001b[22m\u001b[39m `~/.julia/environments/v1.9/Project.toml`\n",
            "  \u001b[90m[c3572dad] \u001b[39m\u001b[92m+ Sundials v4.23.1\u001b[39m\n",
            "\u001b[32m\u001b[1m  No Changes\u001b[22m\u001b[39m to `~/.julia/environments/v1.9/Manifest.toml`\n"
          ]
        }
      ],
      "source": [
        "using Pkg\n",
        "Pkg.add(\"Sundials\")\n",
        "using Sundials"
      ],
      "id": "fuDE2NpEJ4vC"
    },
    {
      "cell_type": "code",
      "execution_count": null,
      "metadata": {
        "colab": {
          "base_uri": "https://localhost:8080/"
        },
        "id": "kKPneGGhpibG",
        "outputId": "38d630e4-6910-4043-8ac4-2792aaaeb05b"
      },
      "outputs": [
        {
          "name": "stderr",
          "output_type": "stream",
          "text": [
            "\u001b[32m\u001b[1m   Resolving\u001b[22m\u001b[39m package versions...\n",
            "\u001b[32m\u001b[1m   Installed\u001b[22m\u001b[39m LSODA_jll ─ v0.1.2+0\n",
            "\u001b[32m\u001b[1m   Installed\u001b[22m\u001b[39m LSODA ───── v0.7.5\n",
            "\u001b[32m\u001b[1m    Updating\u001b[22m\u001b[39m `~/.julia/environments/v1.9/Project.toml`\n",
            "  \u001b[90m[7f56f5a3] \u001b[39m\u001b[92m+ LSODA v0.7.5\u001b[39m\n",
            "\u001b[32m\u001b[1m    Updating\u001b[22m\u001b[39m `~/.julia/environments/v1.9/Manifest.toml`\n",
            "  \u001b[90m[7f56f5a3] \u001b[39m\u001b[92m+ LSODA v0.7.5\u001b[39m\n",
            "  \u001b[90m[aae0fff6] \u001b[39m\u001b[92m+ LSODA_jll v0.1.2+0\u001b[39m\n",
            "\u001b[32m\u001b[1mPrecompiling\u001b[22m\u001b[39m project...\n",
            "\u001b[32m  ✓ \u001b[39m\u001b[90mLSODA_jll\u001b[39m\n",
            "\u001b[32m  ✓ \u001b[39mLSODA\n",
            "  2 dependencies successfully precompiled in 8 seconds. 240 already precompiled.\n"
          ]
        }
      ],
      "source": [
        "Pkg.add(\"LSODA\")"
      ],
      "id": "kKPneGGhpibG"
    },
    {
      "cell_type": "code",
      "execution_count": null,
      "metadata": {
        "id": "xHajSVz5pp1h"
      },
      "outputs": [],
      "source": [],
      "id": "xHajSVz5pp1h"
    },
    {
      "cell_type": "code",
      "execution_count": null,
      "metadata": {
        "colab": {
          "base_uri": "https://localhost:8080/"
        },
        "id": "G1oSfQzoidPc",
        "outputId": "088657c6-86df-4950-9377-4340013ed702"
      },
      "outputs": [
        {
          "name": "stdout",
          "output_type": "stream",
          "text": [
            "  51.848 ms (775316 allocations: 15.22 MiB)\n"
          ]
        }
      ],
      "source": [
        "\n",
        "using DifferentialEquations, BenchmarkTools\n",
        "u20=[x1_0,x2_0,x3_0,x4_h0]\n",
        "tspan = (minimum(znu),maximum(znu))\n",
        "prob2 = ODEProblem(small_network, u20, tspan)\n",
        "@btime solve(prob2,FBDF(),reltol=1e-8);\n"
      ],
      "id": "G1oSfQzoidPc"
    },
    {
      "cell_type": "code",
      "execution_count": null,
      "metadata": {
        "colab": {
          "base_uri": "https://localhost:8080/"
        },
        "id": "nwp-Ox9ybS2D",
        "outputId": "e316bc04-917f-4e48-a303-177a6e228a32"
      },
      "outputs": [
        {
          "data": {
            "text/plain": [
              "retcode: Success\n",
              "Interpolation: 3rd order Hermite\n",
              "t: 294-element Vector{Float64}:\n",
              "  0.051099997600057595\n",
              "  0.0510999976000647\n",
              "  0.051099997608574185\n",
              "  0.051099997903064145\n",
              "  0.051099999635499875\n",
              "  0.05110006862400146\n",
              "  0.051100377691506466\n",
              "  0.051100832198833726\n",
              "  0.05110136771126628\n",
              "  0.05110264274230762\n",
              "  0.0511044885846497\n",
              "  0.05110666752827478\n",
              "  0.05110884647189986\n",
              "  ⋮\n",
              "  7.130919415525078\n",
              "  7.552441603649072\n",
              "  8.116406839695621\n",
              "  8.898080428376211\n",
              "  9.852835099226269\n",
              " 11.41205069318326\n",
              " 13.59727058561927\n",
              " 16.811581167780176\n",
              " 21.597973139473126\n",
              " 29.120624392260282\n",
              " 41.95653014745879\n",
              " 50.63151395438075\n",
              "u: 294-element Vector{Vector{Float64}}:\n",
              " [0.46772419255546166, 0.5322758074445384, 1.9342860429778275e-12, 2.42419955103104e-38]\n",
              " [0.46772419255447073, 0.5322758074455294, 1.9342861472563696e-12, 2.42419955103104e-38]\n",
              " [0.4677241913677556, 0.5322758086322446, 1.9342861464336488e-12, 2.42419955103104e-38]\n",
              " [0.46772415029936193, 0.5322758497006382, 1.9342861130230698e-12, 2.42419955103104e-38]\n",
              " [0.4677239087205442, 0.5322760912794559, 1.9342859164835398e-12, 2.42419955103104e-38]\n",
              " [0.4677143007990651, 0.5322856992008057, 1.934278095321456e-12, 2.42419955102994e-38]\n",
              " [0.4676716674468669, 0.5323283325534641, 1.934243245291497e-12, 2.424199551033909e-38]\n",
              " [0.4676100667335177, 0.5323899332668429, 1.934192496322158e-12, 2.424199551034176e-38]\n",
              " [0.46753915683484126, 0.532460843165558, 1.93413347045818e-12, 2.4241995510345134e-38]\n",
              " [0.46737732169234913, 0.5326226783063112, 1.9339961716344665e-12, 2.4241995510195637e-38]\n",
              " [0.4671596815700547, 0.5328403184279256, 1.933805195545027e-12, 2.424199551013696e-38]\n",
              " [0.4669260257991669, 0.5330739741979748, 1.9335907861915656e-12, 2.42419955100647e-38]\n",
              " [0.46671518825288355, 0.533284811743905, 1.933387353897343e-12, 2.424199551003426e-38]\n",
              " ⋮\n",
              " [1.194938736971888e-7, 0.7039441770170765, 1.969563117141828e-5, 0.09867210407567784]\n",
              " [9.044399590900887e-8, 0.7039440448032922, 1.7598334410083263e-5, 0.09867355602807273]\n",
              " [6.2378807822559e-8, 0.703943930983722, 1.5789641611528e-5, 0.09867480911819124]\n",
              " [4.8603012976263665e-8, 0.7039438580265368, 1.4442747102977876e-5, 0.09867573595885687]\n",
              " [3.4628724728161366e-8, 0.703943797128104, 1.3313577148917577e-5, 0.09867651369639995]\n",
              " [2.0930867974225524e-8, 0.7039437406269409, 1.2191761119015297e-5, 0.09867728497342643]\n",
              " [1.4366197040685185e-8, 0.7039437041979388, 1.1282087770990293e-5, 0.09867790575354937]\n",
              " [9.585544988804787e-9, 0.703943682959161, 1.0572822008888942e-5, 0.09867838727053409]\n",
              " [4.5345089526751984e-9, 0.7039436710503538, 1.0050574507199499e-5, 0.09867874108881625]\n",
              " [1.6290437117127022e-9, 0.7039436655203569, 9.637990530437244e-6, 0.09867901895662146]\n",
              " [1.1016566050338637e-9, 0.7039436751007874, 9.278930473315811e-6, 0.09867925531231171]\n",
              " [4.229666439335426e-10, 0.7039436803757945, 9.208395809515249e-6, 0.09867930080331513]"
            ]
          },
          "execution_count": 88,
          "metadata": {},
          "output_type": "execute_result"
        }
      ],
      "source": [
        "sol2=solve(prob2,FBDF(),reltol=1e-8)"
      ],
      "id": "nwp-Ox9ybS2D"
    },
    {
      "cell_type": "code",
      "execution_count": null,
      "metadata": {
        "colab": {
          "base_uri": "https://localhost:8080/"
        },
        "id": "kwWBSSCN2PGv",
        "outputId": "1a9cca74-c001-4744-872f-1ba914023cd4"
      },
      "outputs": [
        {
          "data": {
            "text/plain": [
              "294-element Vector{Float64}:\n",
              " 2.42419955103104e-38\n",
              " 2.42419955103104e-38\n",
              " 2.42419955103104e-38\n",
              " 2.42419955103104e-38\n",
              " 2.42419955103104e-38\n",
              " 2.42419955102994e-38\n",
              " 2.424199551033909e-38\n",
              " 2.424199551034176e-38\n",
              " 2.4241995510345134e-38\n",
              " 2.4241995510195637e-38\n",
              " 2.424199551013696e-38\n",
              " 2.42419955100647e-38\n",
              " 2.424199551003426e-38\n",
              " ⋮\n",
              " 0.09867210407567784\n",
              " 0.09867355602807273\n",
              " 0.09867480911819124\n",
              " 0.09867573595885687\n",
              " 0.09867651369639995\n",
              " 0.09867728497342643\n",
              " 0.09867790575354937\n",
              " 0.09867838727053409\n",
              " 0.09867874108881625\n",
              " 0.09867901895662146\n",
              " 0.09867925531231171\n",
              " 0.09867930080331513"
            ]
          },
          "execution_count": 89,
          "metadata": {},
          "output_type": "execute_result"
        }
      ],
      "source": [
        "z_values2 = sol2.t\n",
        "xn_values2 = sol2[1, :]\n",
        "xp_values2= sol2[2, :]\n",
        "xd_values2= sol2[3, :]\n",
        "x4he_values2=sol2[4, :]"
      ],
      "id": "kwWBSSCN2PGv"
    },
    {
      "cell_type": "code",
      "execution_count": null,
      "metadata": {
        "colab": {
          "base_uri": "https://localhost:8080/"
        },
        "id": "TvEcAj_7s0_H",
        "outputId": "7824e01e-c33f-4b21-b409-3e2ad627bca9"
      },
      "outputs": [
        {
          "data": {
            "text/plain": [
              "294-element Vector{Float64}:\n",
              " 2.42419955103104e-38\n",
              " 2.42419955103104e-38\n",
              " 2.42419955103104e-38\n",
              " 2.42419955103104e-38\n",
              " 2.42419955103104e-38\n",
              " 2.42419955102994e-38\n",
              " 2.424199551033909e-38\n",
              " 2.424199551034176e-38\n",
              " 2.4241995510345134e-38\n",
              " 2.4241995510195637e-38\n",
              " 2.424199551013696e-38\n",
              " 2.42419955100647e-38\n",
              " 2.424199551003426e-38\n",
              " ⋮\n",
              " 0.09867210407567784\n",
              " 0.09867355602807273\n",
              " 0.09867480911819124\n",
              " 0.09867573595885687\n",
              " 0.09867651369639995\n",
              " 0.09867728497342643\n",
              " 0.09867790575354937\n",
              " 0.09867838727053409\n",
              " 0.09867874108881625\n",
              " 0.09867901895662146\n",
              " 0.09867925531231171\n",
              " 0.09867930080331513"
            ]
          },
          "execution_count": 90,
          "metadata": {},
          "output_type": "execute_result"
        }
      ],
      "source": [
        "x4he_values2"
      ],
      "id": "TvEcAj_7s0_H"
    },
    {
      "cell_type": "code",
      "execution_count": null,
      "metadata": {
        "colab": {
          "base_uri": "https://localhost:8080/",
          "height": 599
        },
        "id": "O0kQLU1Ub0ZA",
        "outputId": "10617a6d-4b55-40ec-db33-730f877975bf"
      },
      "outputs": [
        {
          "data": {
            "image/png": "[encoded data removed]",
            "text/plain": [
              "Figure(PyObject <Figure size 1000x600 with 1 Axes>)"
            ]
          },
          "metadata": {},
          "output_type": "display_data"
        }
      ],
      "source": [
        "# Assuming you have already defined your data arrays z_values2, xn_values2, xp_values2, xd_values2, x4he_values2\n",
        "using PyPlot\n",
        "\n",
        "# Assuming you have already defined your data arrays z_values2, xn_values2, xp_values2, xd_values2, x4he_values2\n",
        "\n",
        "# Increase the figure size\n",
        "fig, ax = subplots(figsize=(10, 6))  # Adjust the size as needed\n",
        "\n",
        "# Plot the data with labels and custom colors\n",
        "ax.plot(z_values2, xn_values2, label=L\"X_n\", color=\"blue\")\n",
        "ax.plot(z_values2, xp_values2, label=L\"X_p\", color=\"orange\")\n",
        "ax.plot(z_values2, xd_values2, label=L\"X_d\", color=\"green\")\n",
        "ax.plot(z_values2, x4he_values2, label=L\"X_{4\\mathrm{He}}\", color=\"red\")\n",
        "\n",
        "# Set x and y scales to logarithmic\n",
        "ax.set_xscale(\"log\")\n",
        "ax.set_yscale(\"log\")\n",
        "\n",
        "# Add labels and title with LaTeX formatting\n",
        "ax.set_xlabel(L\"z=\\frac{m_e}{T_{\\gamma}(MeV)}\", size=16)\n",
        "ax.set_ylabel(\"Fractional Abundance\", size=16)\n",
        "ax.set_title(L\"\\mathrm{BBN\\ Abundances}\", size=18)\n",
        "\n",
        "# Add a grid\n",
        "ax.grid(\"True\", which=\"both\", linestyle=\"--\", linewidth=0.5)\n",
        "ax.set_ylim(1e-10)\n",
        "ax.set_yticks([1e-10,1e-9,1e-8,1e-7,1e-6,1e-5,1e-4,1e-3,1e-2,1e-1,1])\n",
        "\n",
        "# Add a legend\n",
        "ax.legend()\n",
        "\n",
        "# Display the plot\n",
        "show()\n",
        "\n",
        "\n"
      ],
      "id": "O0kQLU1Ub0ZA"
    },
    {
      "cell_type": "code",
      "execution_count": null,
      "metadata": {
        "id": "5NYwn1ZQui_8"
      },
      "outputs": [],
      "source": [],
      "id": "5NYwn1ZQui_8"
    },
    {
      "cell_type": "code",
      "execution_count": null,
      "metadata": {
        "id": "Z83bppakVlgw"
      },
      "outputs": [],
      "source": [],
      "id": "Z83bppakVlgw"
    },
    {
      "cell_type": "code",
      "execution_count": null,
      "metadata": {
        "id": "GbtAOvrjuLUQ"
      },
      "outputs": [],
      "source": [],
      "id": "GbtAOvrjuLUQ"
    },
    {
      "cell_type": "code",
      "execution_count": null,
      "metadata": {
        "colab": {
          "base_uri": "https://localhost:8080/",
          "height": 513
        },
        "id": "9IGUtm9ht6N8",
        "outputId": "f0ff001d-30ce-4e47-a8cc-454eb653565b"
      },
      "outputs": [
        {
          "data": {
            "image/png": "[encoded data removed]",
            "text/plain": [
              "Figure(PyObject <Figure size 1000x600 with 1 Axes>)"
            ]
          },
          "metadata": {},
          "output_type": "display_data"
        }
      ],
      "source": [],
      "id": "9IGUtm9ht6N8"
    },
    {
      "cell_type": "code",
      "execution_count": null,
      "metadata": {
        "id": "WHxQalMTuYew"
      },
      "outputs": [],
      "source": [],
      "id": "WHxQalMTuYew"
    }
  ],
  "metadata": {
    "colab": {
      "provenance": []
    },
    "kernelspec": {
      "display_name": "julia 1.9.2",
      "name": "julia"
    }
  },
  "nbformat": 4,
  "nbformat_minor": 5
}