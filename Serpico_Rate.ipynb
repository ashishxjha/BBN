{
  "nbformat": 4,
  "nbformat_minor": 0,
  "metadata": {
    "colab": {
      "provenance": [],
      "mount_file_id": "1Y9c7gsW7VIT1_bkoZRvO5MlkBUIRTR42",
      "authorship_tag": "ABX9TyO/0xJF53i0ptpE/qQwWVDO",
      "include_colab_link": true
    },
    "kernelspec": {
      "name": "python3",
      "display_name": "Python 3"
    },
    "language_info": {
      "name": "python"
    }
  },
  "cells": [
    {
      "cell_type": "markdown",
      "metadata": {
        "id": "view-in-github",
        "colab_type": "text"
      },
      "source": [
        "<a href=\"https://colab.research.google.com/github/ashishxjha/BBN/blob/main/Serpico_Rate.ipynb\" target=\"_parent\"><img src=\"https://colab.research.google.com/assets/colab-badge.svg\" alt=\"Open In Colab\"/></a>"
      ]
    },
    {
      "cell_type": "code",
      "execution_count": 59,
      "metadata": {
        "id": "BXb20V_DyG4u"
      },
      "outputs": [],
      "source": [
        "import numpy as np\n",
        "import matplotlib.pyplot as plt\n",
        "import pandas as pd"
      ]
    },
    {
      "cell_type": "code",
      "source": [],
      "metadata": {
        "id": "n6MXwK5YjURS"
      },
      "execution_count": null,
      "outputs": []
    },
    {
      "cell_type": "code",
      "source": [
        "df=pd.read_csv('/content/drive/MyDrive/CSV_Files/SM_Thermo.csv')\n",
        "df.head()"
      ],
      "metadata": {
        "id": "ErBQncCBz-cG",
        "colab": {
          "base_uri": "https://localhost:8080/",
          "height": 287
        },
        "outputId": "c81cfc61-b780-4118-ef17-eb0ec6fb8820"
      },
      "execution_count": 60,
      "outputs": [
        {
          "output_type": "execute_result",
          "data": {
            "text/plain": [
              "      t (s)  T_gam (MeV)  T_gam/T_nu         g*         gs         a  \\\n",
              "0  0.007387    10.000000    1.000000  10.736124  10.735804  0.051101   \n",
              "1  0.007524     9.908319    1.000000  10.736112  10.735786  0.051574   \n",
              "2  0.007664     9.817479    1.000000  10.736099  10.735768  0.052051   \n",
              "3  0.007806     9.727472    1.000001  10.736086  10.735749  0.052533   \n",
              "4  0.007952     9.638290    1.000001  10.736073  10.735729  0.053019   \n",
              "\n",
              "      z_gam      z_nu         N  \n",
              "0  1.000024  1.000024  0.000407  \n",
              "1  1.000025  1.000024  0.000414  \n",
              "2  1.000025  1.000025  0.000421  \n",
              "3  1.000026  1.000025  0.000429  \n",
              "4  1.000026  1.000026  0.000437  "
            ],
            "text/html": [
              "\n",
              "\n",
              "  <div id=\"df-7dddd2fc-f408-491b-8241-6b26edbf824e\">\n",
              "    <div class=\"colab-df-container\">\n",
              "      <div>\n",
              "<style scoped>\n",
              "    .dataframe tbody tr th:only-of-type {\n",
              "        vertical-align: middle;\n",
              "    }\n",
              "\n",
              "    .dataframe tbody tr th {\n",
              "        vertical-align: top;\n",
              "    }\n",
              "\n",
              "    .dataframe thead th {\n",
              "        text-align: right;\n",
              "    }\n",
              "</style>\n",
              "<table border=\"1\" class=\"dataframe\">\n",
              "  <thead>\n",
              "    <tr style=\"text-align: right;\">\n",
              "      <th></th>\n",
              "      <th>t (s)</th>\n",
              "      <th>T_gam (MeV)</th>\n",
              "      <th>T_gam/T_nu</th>\n",
              "      <th>g*</th>\n",
              "      <th>gs</th>\n",
              "      <th>a</th>\n",
              "      <th>z_gam</th>\n",
              "      <th>z_nu</th>\n",
              "      <th>N</th>\n",
              "    </tr>\n",
              "  </thead>\n",
              "  <tbody>\n",
              "    <tr>\n",
              "      <th>0</th>\n",
              "      <td>0.007387</td>\n",
              "      <td>10.000000</td>\n",
              "      <td>1.000000</td>\n",
              "      <td>10.736124</td>\n",
              "      <td>10.735804</td>\n",
              "      <td>0.051101</td>\n",
              "      <td>1.000024</td>\n",
              "      <td>1.000024</td>\n",
              "      <td>0.000407</td>\n",
              "    </tr>\n",
              "    <tr>\n",
              "      <th>1</th>\n",
              "      <td>0.007524</td>\n",
              "      <td>9.908319</td>\n",
              "      <td>1.000000</td>\n",
              "      <td>10.736112</td>\n",
              "      <td>10.735786</td>\n",
              "      <td>0.051574</td>\n",
              "      <td>1.000025</td>\n",
              "      <td>1.000024</td>\n",
              "      <td>0.000414</td>\n",
              "    </tr>\n",
              "    <tr>\n",
              "      <th>2</th>\n",
              "      <td>0.007664</td>\n",
              "      <td>9.817479</td>\n",
              "      <td>1.000000</td>\n",
              "      <td>10.736099</td>\n",
              "      <td>10.735768</td>\n",
              "      <td>0.052051</td>\n",
              "      <td>1.000025</td>\n",
              "      <td>1.000025</td>\n",
              "      <td>0.000421</td>\n",
              "    </tr>\n",
              "    <tr>\n",
              "      <th>3</th>\n",
              "      <td>0.007806</td>\n",
              "      <td>9.727472</td>\n",
              "      <td>1.000001</td>\n",
              "      <td>10.736086</td>\n",
              "      <td>10.735749</td>\n",
              "      <td>0.052533</td>\n",
              "      <td>1.000026</td>\n",
              "      <td>1.000025</td>\n",
              "      <td>0.000429</td>\n",
              "    </tr>\n",
              "    <tr>\n",
              "      <th>4</th>\n",
              "      <td>0.007952</td>\n",
              "      <td>9.638290</td>\n",
              "      <td>1.000001</td>\n",
              "      <td>10.736073</td>\n",
              "      <td>10.735729</td>\n",
              "      <td>0.053019</td>\n",
              "      <td>1.000026</td>\n",
              "      <td>1.000026</td>\n",
              "      <td>0.000437</td>\n",
              "    </tr>\n",
              "  </tbody>\n",
              "</table>\n",
              "</div>\n",
              "      <button class=\"colab-df-convert\" onclick=\"convertToInteractive('df-7dddd2fc-f408-491b-8241-6b26edbf824e')\"\n",
              "              title=\"Convert this dataframe to an interactive table.\"\n",
              "              style=\"display:none;\">\n",
              "\n",
              "  <svg xmlns=\"http://www.w3.org/2000/svg\" height=\"24px\"viewBox=\"0 0 24 24\"\n",
              "       width=\"24px\">\n",
              "    <path d=\"M0 0h24v24H0V0z\" fill=\"none\"/>\n",
              "    <path d=\"M18.56 5.44l.94 2.06.94-2.06 2.06-.94-2.06-.94-.94-2.06-.94 2.06-2.06.94zm-11 1L8.5 8.5l.94-2.06 2.06-.94-2.06-.94L8.5 2.5l-.94 2.06-2.06.94zm10 10l.94 2.06.94-2.06 2.06-.94-2.06-.94-.94-2.06-.94 2.06-2.06.94z\"/><path d=\"M17.41 7.96l-1.37-1.37c-.4-.4-.92-.59-1.43-.59-.52 0-1.04.2-1.43.59L10.3 9.45l-7.72 7.72c-.78.78-.78 2.05 0 2.83L4 21.41c.39.39.9.59 1.41.59.51 0 1.02-.2 1.41-.59l7.78-7.78 2.81-2.81c.8-.78.8-2.07 0-2.86zM5.41 20L4 18.59l7.72-7.72 1.47 1.35L5.41 20z\"/>\n",
              "  </svg>\n",
              "      </button>\n",
              "\n",
              "\n",
              "\n",
              "    <div id=\"df-91409ba0-f2b2-4803-95c7-0f3ac5ee3194\">\n",
              "      <button class=\"colab-df-quickchart\" onclick=\"quickchart('df-91409ba0-f2b2-4803-95c7-0f3ac5ee3194')\"\n",
              "              title=\"Suggest charts.\"\n",
              "              style=\"display:none;\">\n",
              "\n",
              "<svg xmlns=\"http://www.w3.org/2000/svg\" height=\"24px\"viewBox=\"0 0 24 24\"\n",
              "     width=\"24px\">\n",
              "    <g>\n",
              "        <path d=\"M19 3H5c-1.1 0-2 .9-2 2v14c0 1.1.9 2 2 2h14c1.1 0 2-.9 2-2V5c0-1.1-.9-2-2-2zM9 17H7v-7h2v7zm4 0h-2V7h2v10zm4 0h-2v-4h2v4z\"/>\n",
              "    </g>\n",
              "</svg>\n",
              "      </button>\n",
              "    </div>\n",
              "\n",
              "<style>\n",
              "  .colab-df-quickchart {\n",
              "    background-color: #E8F0FE;\n",
              "    border: none;\n",
              "    border-radius: 50%;\n",
              "    cursor: pointer;\n",
              "    display: none;\n",
              "    fill: #1967D2;\n",
              "    height: 32px;\n",
              "    padding: 0 0 0 0;\n",
              "    width: 32px;\n",
              "  }\n",
              "\n",
              "  .colab-df-quickchart:hover {\n",
              "    background-color: #E2EBFA;\n",
              "    box-shadow: 0px 1px 2px rgba(60, 64, 67, 0.3), 0px 1px 3px 1px rgba(60, 64, 67, 0.15);\n",
              "    fill: #174EA6;\n",
              "  }\n",
              "\n",
              "  [theme=dark] .colab-df-quickchart {\n",
              "    background-color: #3B4455;\n",
              "    fill: #D2E3FC;\n",
              "  }\n",
              "\n",
              "  [theme=dark] .colab-df-quickchart:hover {\n",
              "    background-color: #434B5C;\n",
              "    box-shadow: 0px 1px 3px 1px rgba(0, 0, 0, 0.15);\n",
              "    filter: drop-shadow(0px 1px 2px rgba(0, 0, 0, 0.3));\n",
              "    fill: #FFFFFF;\n",
              "  }\n",
              "</style>\n",
              "\n",
              "    <script>\n",
              "      async function quickchart(key) {\n",
              "        const containerElement = document.querySelector('#' + key);\n",
              "        const charts = await google.colab.kernel.invokeFunction(\n",
              "            'suggestCharts', [key], {});\n",
              "      }\n",
              "    </script>\n",
              "\n",
              "      <script>\n",
              "\n",
              "function displayQuickchartButton(domScope) {\n",
              "  let quickchartButtonEl =\n",
              "    domScope.querySelector('#df-91409ba0-f2b2-4803-95c7-0f3ac5ee3194 button.colab-df-quickchart');\n",
              "  quickchartButtonEl.style.display =\n",
              "    google.colab.kernel.accessAllowed ? 'block' : 'none';\n",
              "}\n",
              "\n",
              "        displayQuickchartButton(document);\n",
              "      </script>\n",
              "      <style>\n",
              "    .colab-df-container {\n",
              "      display:flex;\n",
              "      flex-wrap:wrap;\n",
              "      gap: 12px;\n",
              "    }\n",
              "\n",
              "    .colab-df-convert {\n",
              "      background-color: #E8F0FE;\n",
              "      border: none;\n",
              "      border-radius: 50%;\n",
              "      cursor: pointer;\n",
              "      display: none;\n",
              "      fill: #1967D2;\n",
              "      height: 32px;\n",
              "      padding: 0 0 0 0;\n",
              "      width: 32px;\n",
              "    }\n",
              "\n",
              "    .colab-df-convert:hover {\n",
              "      background-color: #E2EBFA;\n",
              "      box-shadow: 0px 1px 2px rgba(60, 64, 67, 0.3), 0px 1px 3px 1px rgba(60, 64, 67, 0.15);\n",
              "      fill: #174EA6;\n",
              "    }\n",
              "\n",
              "    [theme=dark] .colab-df-convert {\n",
              "      background-color: #3B4455;\n",
              "      fill: #D2E3FC;\n",
              "    }\n",
              "\n",
              "    [theme=dark] .colab-df-convert:hover {\n",
              "      background-color: #434B5C;\n",
              "      box-shadow: 0px 1px 3px 1px rgba(0, 0, 0, 0.15);\n",
              "      filter: drop-shadow(0px 1px 2px rgba(0, 0, 0, 0.3));\n",
              "      fill: #FFFFFF;\n",
              "    }\n",
              "  </style>\n",
              "\n",
              "      <script>\n",
              "        const buttonEl =\n",
              "          document.querySelector('#df-7dddd2fc-f408-491b-8241-6b26edbf824e button.colab-df-convert');\n",
              "        buttonEl.style.display =\n",
              "          google.colab.kernel.accessAllowed ? 'block' : 'none';\n",
              "\n",
              "        async function convertToInteractive(key) {\n",
              "          const element = document.querySelector('#df-7dddd2fc-f408-491b-8241-6b26edbf824e');\n",
              "          const dataTable =\n",
              "            await google.colab.kernel.invokeFunction('convertToInteractive',\n",
              "                                                     [key], {});\n",
              "          if (!dataTable) return;\n",
              "\n",
              "          const docLinkHtml = 'Like what you see? Visit the ' +\n",
              "            '<a target=\"_blank\" href=https://colab.research.google.com/notebooks/data_table.ipynb>data table notebook</a>'\n",
              "            + ' to learn more about interactive tables.';\n",
              "          element.innerHTML = '';\n",
              "          dataTable['output_type'] = 'display_data';\n",
              "          await google.colab.output.renderOutput(dataTable, element);\n",
              "          const docLink = document.createElement('div');\n",
              "          docLink.innerHTML = docLinkHtml;\n",
              "          element.appendChild(docLink);\n",
              "        }\n",
              "      </script>\n",
              "    </div>\n",
              "  </div>\n"
            ]
          },
          "metadata": {},
          "execution_count": 60
        }
      ]
    },
    {
      "cell_type": "code",
      "source": [
        "z_gam=df[\"z_gam\"]\n",
        "z_nu=df[\"z_nu\"]\n",
        "gs=df[\"gs\"]\n",
        "g=df[\"g*\"]\n",
        "m_e=0.511\n",
        "z_g=m_e/df[\"T_gam (MeV)\"]"
      ],
      "metadata": {
        "id": "ViKhKVta0BiD"
      },
      "execution_count": 64,
      "outputs": []
    },
    {
      "cell_type": "code",
      "source": [
        "cons=4.8/m_e**(2)"
      ],
      "metadata": {
        "id": "6I8iunb10ari"
      },
      "execution_count": 65,
      "outputs": []
    },
    {
      "cell_type": "code",
      "source": [
        "\n",
        "def gprime_s(df):\n",
        "    x=[]\n",
        "    for i in range(0,1000,1):\n",
        "        if(z_g[i+1]!=z_g[i]):\n",
        "            x.append((df[\"gs\"][i+1]-df[\"gs\"][i])/(z_g[i+1]-z_g[i]))\n",
        "        else:\n",
        "            x.append(x[i-1])\n",
        "    return x"
      ],
      "metadata": {
        "id": "FS9GJm4_0VA0"
      },
      "execution_count": 66,
      "outputs": []
    },
    {
      "cell_type": "code",
      "source": [
        "gprime_list=gprime_s(df)\n",
        "gprime_list.append(0)"
      ],
      "metadata": {
        "id": "lHAGvV9ZlID_"
      },
      "execution_count": 67,
      "outputs": []
    },
    {
      "cell_type": "code",
      "source": [
        "func=cons*(-(z_g**(2))*1/3*np.divide(gprime_list,df['gs'])+z_g)/(np.sqrt(df['g*']))\n",
        "print(func)"
      ],
      "metadata": {
        "colab": {
          "base_uri": "https://localhost:8080/"
        },
        "id": "H6qDNR0E0eis",
        "outputId": "50da6e02-dc20-472f-cdf9-24c45aa4eee0"
      },
      "execution_count": 68,
      "outputs": [
        {
          "output_type": "stream",
          "name": "stdout",
          "text": [
            "0          0.286697\n",
            "1          0.289350\n",
            "2          0.292028\n",
            "3          0.294731\n",
            "4          0.297458\n",
            "           ...     \n",
            "996     4922.164196\n",
            "997     4967.708336\n",
            "998     5013.673925\n",
            "999     5060.064869\n",
            "1000    5106.885143\n",
            "Length: 1001, dtype: float64\n"
          ]
        }
      ]
    },
    {
      "cell_type": "code",
      "source": [
        "from scipy import interpolate\n",
        "dt_dz=interpolate.interp1d(z_g,func)\n",
        "x_new=np.linspace(min(z_g),max(z_g),100000)\n",
        "dtdz_new=dt_dz(x_new)"
      ],
      "metadata": {
        "id": "kTXGZ03H0f_k"
      },
      "execution_count": 69,
      "outputs": []
    },
    {
      "cell_type": "code",
      "source": [
        "plt.plot(z_g,func, 'o', color='yellow', markersize=5, label='Original Data')\n",
        "plt.plot(x_new, dtdz_new, '--', color='black', linewidth=2, label='Interpolated')\n",
        "plt.xscale('log')\n",
        "plt.yscale('log')\n",
        "plt.xlabel(r'$z_{\\gamma}=\\frac{m_e}{T_\\gamma(MeV)}$', fontsize=18)\n",
        "plt.ylabel(r'$\\frac{dt}{dz}$', fontsize=18)\n",
        "plt.title(r'Interpolated $\\frac{dt}{dz}$ vs. $z_{\\gamma}$', fontsize=20)\n",
        "plt.legend(fontsize=12)\n",
        "plt.grid(True, linestyle='--', linewidth=0.5, color='gray')\n",
        "plt.tick_params(axis='both', which='major', labelsize=14)\n",
        "plt.tight_layout()"
      ],
      "metadata": {
        "colab": {
          "base_uri": "https://localhost:8080/",
          "height": 486
        },
        "id": "FrVfeN1g0iAO",
        "outputId": "2ff14559-ab91-4ef7-fa0e-56b68babdcc8"
      },
      "execution_count": 70,
      "outputs": [
        {
          "output_type": "display_data",
          "data": {
            "text/plain": [
              "<Figure size 640x480 with 1 Axes>"
            ],
            "image/png": "[encoded data removed]"
          },
          "metadata": {}
        }
      ]
    },
    {
      "cell_type": "code",
      "source": [
        "z_int=np.sort(z_g)"
      ],
      "metadata": {
        "id": "llheHTyE1QoU"
      },
      "execution_count": 71,
      "outputs": []
    },
    {
      "cell_type": "code",
      "source": [
        "znu = []\n",
        "for x in z_int:\n",
        "    if m_e/x >= 0.01:\n",
        "        znu.append(x)"
      ],
      "metadata": {
        "id": "8LlYW9qh1hq7"
      },
      "execution_count": 72,
      "outputs": []
    },
    {
      "cell_type": "code",
      "source": [],
      "metadata": {
        "id": "Zx57bvjEFFNm"
      },
      "execution_count": 72,
      "outputs": []
    },
    {
      "cell_type": "code",
      "source": [
        "a_0 = 1\n",
        "a_1 = 0.15735\n",
        "a_2 = 4.6172\n",
        "a_3 = -0.40520e2\n",
        "a_4 = 0.13875e3\n",
        "a_5 = -0.59898e2\n",
        "a_6 = 0.66752e2\n",
        "a_7 = -0.16705e2\n",
        "a_8 = 3.8071\n",
        "a_9 = -0.39140\n",
        "a_10 = 0.023590\n",
        "a_11 = -0.83696e-4\n",
        "a_12 = -0.42095e-4\n",
        "a_13 = 0.17675e-5\n",
        "q_np = 0.33979\n",
        "\n",
        "b_0 = -0.62173\n",
        "b_1 = 0.22211e2\n",
        "b_2 = -0.72798e2\n",
        "b_3 = 0.11571e3\n",
        "b_4 = -0.11763e2\n",
        "b_5 = 0.45521e2\n",
        "b_6 = -3.7973\n",
        "b_7 = 0.41266\n",
        "b_8 = -0.026210\n",
        "b_9 = 0.87934e-3\n",
        "b_10 = -0.12016e-4\n",
        "q_pn = 2.8602\n",
        "tau=8.7945e2\n",
        "m_e=0.511\n",
        "\n",
        "a_values = [a_1, a_2, a_3, a_4, a_5, a_6, a_7, a_8, a_9, a_10, a_11, a_12, a_13]\n",
        "b_values = [b_1, b_2, b_3, b_4, b_5, b_6, b_7, b_8, b_9, b_10]"
      ],
      "metadata": {
        "id": "FlCZPUx318_A"
      },
      "execution_count": 73,
      "outputs": []
    },
    {
      "cell_type": "code",
      "source": [
        "# Define the weak rate function for n <--> p\n",
        "def lambda_np(z):\n",
        "  f1 = 1.0\n",
        "  for ie in range(1, 14):\n",
        "    f1 += a_values[ie - 1] / z ** ie\n",
        "  f1 *= np.exp(-0.33979 / z) / tau\n",
        "  return f1\n",
        "# Define the weak rate function for p <--> n\n",
        "\"\"\"\n",
        "def lambda_pn(z):\n",
        "    value = 0\n",
        "    e = (1 / z) * m_e\n",
        "    if (e <= 0.1 or e <= 10):\n",
        "        for i in range(1, 11):\n",
        "            value += b_values[i] * z ** (-i)\n",
        "        weak_rate = (value * np.exp(-q_pn * z)) / tau\n",
        "    elif (e >=0.01 or e < 0.1):\n",
        "        weak_rate = 0\n",
        "    return weak_rate\n",
        "\"\"\"\n",
        "\n",
        "def lambda_pn(z):\n",
        "  r1 = -0.62173\n",
        "  e=m_e/z\n",
        "  #k = (1 / z) * m_e\n",
        "  #e=float(\"{:.2f}\".format(k))\n",
        "  if (e>= 0.1):\n",
        "    for ie in range(1, 11):\n",
        "      r1 += b_values[ie - 1] / z ** ie\n",
        "    r1 *= np.exp(-2.8602 * z) / tau\n",
        "    weak_rate=r1\n",
        "  else :\n",
        "    weak_rate = 0\n",
        "  return weak_rate"
      ],
      "metadata": {
        "id": "B8OjBkJW1n5W"
      },
      "execution_count": 74,
      "outputs": []
    },
    {
      "cell_type": "code",
      "source": [
        "def mev_to_t9kelvin(mev):\n",
        "    temp9_kelvin=(mev*11604525006.1598)/10**(9)\n",
        "    return temp9_kelvin"
      ],
      "metadata": {
        "id": "cRaXgzlnT68l"
      },
      "execution_count": 75,
      "outputs": []
    },
    {
      "cell_type": "code",
      "source": [
        "\n",
        "\n",
        "\n",
        "\n"
      ],
      "metadata": {
        "id": "Id-bROHO-JAg"
      },
      "execution_count": 75,
      "outputs": []
    },
    {
      "cell_type": "code",
      "source": [
        "float(m_e/min(znu))"
      ],
      "metadata": {
        "colab": {
          "base_uri": "https://localhost:8080/"
        },
        "id": "2VruER864kJe",
        "outputId": "0b779611-53b5-4eec-fa30-67db411f1aed"
      },
      "execution_count": 76,
      "outputs": [
        {
          "output_type": "execute_result",
          "data": {
            "text/plain": [
              "10.0"
            ]
          },
          "metadata": {},
          "execution_count": 76
        }
      ]
    },
    {
      "cell_type": "code",
      "source": [
        "\n",
        "\n",
        "def n2_p(z,xn,xp):\n",
        "    return (lambda_pn(z)*xp-lambda_np(z)*xn)*dt_dz(z)\n",
        "\n",
        "\n",
        "def p2_n(z,xn,xp):\n",
        "    return (lambda_np(z)*xn-lambda_pn(z)*xp)*dt_dz(z)\n",
        "\"\"\"\n",
        "def xd_dot(z, xn, xp, xd):\n",
        "    value = ((pn_gammaD(z) * xp * xn - gammaD_pn(z) * xd))*dt_dz(z)\n",
        "    return value\n",
        "\"\"\""
      ],
      "metadata": {
        "id": "MNww83Zk1zAY",
        "colab": {
          "base_uri": "https://localhost:8080/",
          "height": 53
        },
        "outputId": "850a9295-bb9a-4f12-9f71-c8f909f59190"
      },
      "execution_count": 77,
      "outputs": [
        {
          "output_type": "execute_result",
          "data": {
            "text/plain": [
              "'\\ndef xd_dot(z, xn, xp, xd):\\n    value = ((pn_gammaD(z) * xp * xn - gammaD_pn(z) * xd))*dt_dz(z)\\n    return value\\n'"
            ],
            "application/vnd.google.colaboratory.intrinsic+json": {
              "type": "string"
            }
          },
          "metadata": {},
          "execution_count": 77
        }
      ]
    },
    {
      "cell_type": "code",
      "source": [
        "\n",
        "def dSdz(z,S):\n",
        "    xn,xp=S\n",
        "    return[n2_p(z,xn,xp),p2_n(z,xn,xp)]\n",
        "xn_0=0.46771996026\n",
        "xp_0=0.53228003974\n",
        "xd_0=1.0963027712448095e-12\n",
        "S_0=(xn_0,xp_0)\n"
      ],
      "metadata": {
        "id": "iW8xjUsP3mBQ"
      },
      "execution_count": 78,
      "outputs": []
    },
    {
      "cell_type": "code",
      "source": [
        "from scipy.integrate import quad\n",
        "from scipy.integrate import cumulative_trapezoid\n",
        "from scipy.integrate import solve_ivp"
      ],
      "metadata": {
        "id": "ZcaQS7284Gzt"
      },
      "execution_count": 79,
      "outputs": []
    },
    {
      "cell_type": "code",
      "source": [
        "\n",
        "sol_coupled_np=solve_ivp(dSdz,t_span=(min(znu),max(znu)),y0=S_0,method=\"LSODA\")\n",
        "\n"
      ],
      "metadata": {
        "id": "30Pr7jjj39pI"
      },
      "execution_count": 80,
      "outputs": []
    },
    {
      "cell_type": "code",
      "source": [
        "\n",
        "xn,xp=sol_coupled_np.y\n",
        "z_val=sol_coupled_np.t"
      ],
      "metadata": {
        "id": "GhpPBiDK4gkA"
      },
      "execution_count": 81,
      "outputs": []
    },
    {
      "cell_type": "code",
      "source": [
        "plt.plot(z_val,xn,linewidth=2,label=r'$p$')\n",
        "plt.plot(z_val,xp,linewidth=2,label=r'$n$')\n",
        "plt.yscale('log')\n",
        "plt.xscale('log')\n",
        "plt.xlabel(r'$z=\\frac{m_e}{T_{\\gamma(MeV)}}$',fontsize=14)\n",
        "plt.ylabel('Fractional Abundance',fontsize=14)\n",
        "plt.tight_layout()\n",
        "plt.grid('True')\n",
        "plt.legend()"
      ],
      "metadata": {
        "colab": {
          "base_uri": "https://localhost:8080/",
          "height": 504
        },
        "id": "osJVY-Pw5e6a",
        "outputId": "5908703b-80e4-4200-b8d6-e674b526941d"
      },
      "execution_count": 82,
      "outputs": [
        {
          "output_type": "execute_result",
          "data": {
            "text/plain": [
              "<matplotlib.legend.Legend at 0x7cf1350efd00>"
            ]
          },
          "metadata": {},
          "execution_count": 82
        },
        {
          "output_type": "display_data",
          "data": {
            "text/plain": [
              "<Figure size 640x480 with 1 Axes>"
            ],
            "image/png": "[encoded data removed]"
          },
          "metadata": {}
        }
      ]
    },
    {
      "cell_type": "code",
      "source": [],
      "metadata": {
        "id": "8-b2LI8f5kKB"
      },
      "execution_count": 82,
      "outputs": []
    },
    {
      "cell_type": "code",
      "source": [
        "mev_to_t9kelvin(0.511*10)"
      ],
      "metadata": {
        "colab": {
          "base_uri": "https://localhost:8080/"
        },
        "id": "FtyMCSq5ExCT",
        "outputId": "9a3a33cd-6104-4769-ef60-655aac9b2283"
      },
      "execution_count": 83,
      "outputs": [
        {
          "output_type": "execute_result",
          "data": {
            "text/plain": [
              "59.29912278147658"
            ]
          },
          "metadata": {},
          "execution_count": 83
        }
      ]
    },
    {
      "cell_type": "code",
      "source": [
        "import math\n",
        "\n",
        "def pn_gammaD_cyburt(z):\n",
        "  T=m_e/z\n",
        "  t9=mev_to_t9kelvin(T)\n",
        "  NA=6.022e23\n",
        "  nb=6.14e-10*410.73*(T/(2.7255))**(3)\n",
        "  result=4.40654e4 * (1 + 0.0457518 * t9**(0.5) - 2.47101 * t9 + 4.17185 * t9**(3/2) - 3.44553 * t9 * t9\n",
        "                        + 1.72766 * t9 * t9**(3/2) - 0.546196 * t9**(3) + 0.106066*t9**(1/2)*t9**(3) - 0.0115306*t9**(4)\n",
        "                         + 0.536436e-3 * t9**(1/2)*t9**4)\n",
        "  return (result/NA)\n",
        "\n",
        "def pn_gammaD_serpico(z):\n",
        "  T=m_e/z\n",
        "  NA=6.022e23\n",
        "  T_9=mev_to_t9kelvin(T)\n",
        "  nb=6.14e-10*410.73*(T/(2.7255))**(3)\n",
        "  if T_9<10:\n",
        "    na_sigma_v=44060 * (1 + 0.106597 * np.sqrt(T_9) - 2.75037 * T_9 + 4.62949 * T_9**(3/2) - 3.52204 * T_9**2 + 1.34596 * T_9**(5/2) - 0.209351 * T_9**3)\n",
        "  else:\n",
        "    na_sigma_v=44060 * (1 + 0.106597 * np.sqrt(T_9) - 2.75037 * T_9 + 4.62949 * T_9**(3/2) - 3.52204 * T_9**2 + 1.34596 * T_9**(5/2) - 0.209351 * T_9**3)\n",
        "  rate=(na_sigma_v/NA)\n",
        "  return (rate)\n",
        "\n",
        "def pn_gD_andlo(z):\n",
        "  T=m_e/z\n",
        "  T_9=mev_to_t9kelvin(T)\n",
        "  rhob=2.12e-4*T_9**(3)\n",
        "  nb=6.14e-10*410.73*(T/(2.7255))**(3)\n",
        "  NA=6.022e23\n",
        "  if T_9 <= 1.5:\n",
        "    f =(44216. * (1 + 3.75191 * T_9 + 1.92934 * T_9**2 + 0.746503 * T_9**3 + 0.0197023 * T_9**4 + 3.00491e-6 * T_9**5) /   (1 + 5.4678 * T_9 + 5.62395 * T_9**2 + 0.489312 * T_9**3 + 0.00747806 * T_9**4))\n",
        "  else:\n",
        "    f = (1. - np.sqrt(T_9) * 0.8504 + T_9 * 0.4895 - T_9**(3/2) * 0.09623 + T_9 * 0.008471 * T_9 - T_9 * 2.8e-4 * T_9**(3/2)) * 47420\n",
        "\n",
        "  return (f/NA)\n",
        "\n"
      ],
      "metadata": {
        "id": "FQ8cyFsxCmmz"
      },
      "execution_count": 84,
      "outputs": []
    },
    {
      "cell_type": "code",
      "source": [
        "import math\n",
        "\n",
        "\n",
        "def DD_n3He_cyburt(z):\n",
        "  T=m_e/z\n",
        "  t9=mev_to_t9kelvin(T)\n",
        "  NA=6.022e23\n",
        "  nb=6.14e-10*410.73*(T/(2.7255))**(3)\n",
        "  cross_section = (1 - 9.59015 * t9 ** (1/3) + 65.2448 * t9 ** (2/3) - 247.756 * t9 +\n",
        "                    596.231 * t9 ** (4/3) - 941.064 * t9 ** (5/3) + 980.076 * t9 * t9 -\n",
        "                    643.032 * t9 * t9 ** (4/3) + 211.982 * t9 * t9 ** (5/3) +\n",
        "                    29.0491 * t9 ** (3) - 66.1847 * t9 ** (1/3) * t9 ** (3) +\n",
        "                    31.6452 * t9 ** (2/3) * t9 ** (3) - 7.15147 * t9 ** 4 +\n",
        "                    0.372749 * t9 ** (1/3) * t9 ** (4) + 0.208645 * t9 ** (2/3) * t9 ** 4 -\n",
        "                    0.0545129 * t9 ** (5) + 0.00536216 * t9 ** (1/3)*t9**(1/5) -\n",
        "                    0.000157984 * t9 ** (2/3) * t9 ** 5 - 0.457514e-5 * t9 ** (6) +\n",
        "                    2.123592e-9 * t9 ** (1/3) * t9 ** 6)\n",
        "\n",
        "  cross_section *= 1.00749 * 1e9 * t9 ** (-2/3) * math.exp(-4.2586 / t9 ** (1/3))\n",
        "  return (cross_section/NA)\n",
        "\n",
        "def DD_n3He_serpico(z):\n",
        "  T=m_e/z\n",
        "  T_9=mev_to_t9kelvin(T)\n",
        "  NA=6.022e23\n",
        "  rate=(T_9**(-2/3)) * math.exp(-T_9**(-1/3)) * (\n",
        "        -1.84664e6 + 1.22986e7 * T_9**(1/3) - 1.3761e7 * T_9**(2/3) - 6.11628e7 * T_9\n",
        "        + 1.3329e8 * T_9**(4/3) - 1.24333e7 * T_9**(5/3) - 2.72404e7 * T_9**2\n",
        "        + 8.52947e6 * T_9**(7/3) + 2.2519e6 * T_9**(8/3) - 2.31204e6 * T_9**3\n",
        "        - 294342 * T_9**(10/3) + 911550 * T_9**(11/3) - 252211 * T_9**4\n",
        "    )\n",
        "\n",
        "  return (rate/NA)\n",
        "\n",
        "def DD_p3H_cyburt(z):\n",
        "  T=m_e/z\n",
        "  T_9=mev_to_t9kelvin(T)\n",
        "  rhob=2.12e-4*T_9**(3)\n",
        "  t9=mev_to_t9kelvin(np.divide(z,m_e))\n",
        "  NA=6.022e23\n",
        "  t913 = t9 ** (1/3)\n",
        "  t923 = t9 ** (2/3)\n",
        "  t943 = t9 ** (4/3)\n",
        "  t953 = t9 ** (5/3)\n",
        "\n",
        "  rate = 3.91889e8*t9**(-2/3) * math.exp(-4.2586/t913)*(\n",
        "      1 + 0.309233*t913 - 0.337260*t923 +\n",
        "      2.51922*t9 - 2.79097*t943 + 2.16082*t953 -\n",
        "      0.976181*t9*t9 + 0.210883*t943 * t9 -\n",
        "      0.0169027 * t953 * t9 + 7.845538 * 10 ** (-6) * t9 ** 3\n",
        "  )\n",
        "  return (rate/NA)\n",
        "\n",
        "  \"\"\"\n",
        "  return 2.12e-4*T_9**(3)*(T_9**(-2/3)) * math.exp(-1.06765 * T_9**(-1/3)) * (\n",
        "        -5.85032e6 + 5.23171e7 * T_9**(1/3) - 1.70199e8 * T_9**(2/3) + 2.32242e8 * T_9\n",
        "        - 1.18812e8 * T_9**(4/3) + 5.28874e7 * T_9**(5/3) - 9.85542e6 * T_9**2\n",
        "    )\n",
        "  \"\"\"\n",
        "\n"
      ],
      "metadata": {
        "id": "TlpNwkau5ssl"
      },
      "execution_count": 96,
      "outputs": []
    },
    {
      "cell_type": "code",
      "source": [
        "def  DD_n3He_Alcoc(z):  #https://arxiv.org/pdf/1511.03843.pdf\n",
        "    NA=6.022e23\n",
        "    T9=mev_to_t9kelvin(m_e/z)\n",
        "    if T9 < 0.001:\n",
        "        rate = 1.142e-8\n",
        "    elif 0.001 <= T9 <= 0.0015:\n",
        "        rate = 1.142e-8\n",
        "    elif 0.0015 < T9 <= 0.0025:\n",
        "        rate = 5.470e-5\n",
        "    elif 0.0025 < T9 <= 0.0035:\n",
        "        rate = 3.021e-3\n",
        "    elif 0.0035 < T9 <= 0.0045:\n",
        "        rate = 3.732e-2\n",
        "    elif 0.0045 < T9 <= 0.0055:\n",
        "        rate = 2.212e-1\n",
        "    elif 0.0055 < T9 <= 0.0065:\n",
        "        rate = 8.546e-1\n",
        "    elif 0.0065 < T9 <= 0.0075:\n",
        "        rate = 2.505\n",
        "    elif 0.0075 < T9 <= 0.0085:\n",
        "        rate = 6.066\n",
        "    elif 0.0085 < T9 <= 0.0095:\n",
        "        rate = 1.278e1\n",
        "    elif 0.0095 < T9 <= 0.0105:\n",
        "        rate = 2.424e1\n",
        "    elif 0.0105 < T9 <= 0.0115:\n",
        "        rate = 4.237e1\n",
        "    elif 0.0115 < T9 <= 0.0125:\n",
        "        rate = 6.936e1\n",
        "    elif 0.0125 < T9 <= 0.0135:\n",
        "        rate = 1.077e2\n",
        "    elif 0.0135 < T9 <= 0.0145:\n",
        "        rate = 1.600e2\n",
        "    elif 0.0145 < T9 <= 0.0155:\n",
        "        rate = 2.291e2\n",
        "    elif 0.0155 < T9 <= 0.0170:\n",
        "        rate = 3.179e2\n",
        "    elif 0.0170 < T9 <= 0.0190:\n",
        "        rate = 5.667e2\n",
        "    elif 0.0190 < T9 <= 0.0225:\n",
        "        rate = 9.310e2\n",
        "    elif 0.0225 < T9 <= 0.0275:\n",
        "        rate = 2.504e3\n",
        "    elif 0.0275 < T9 <= 0.0350:\n",
        "        rate = 5.301e3\n",
        "    elif 0.0350 < T9 <= 0.0450:\n",
        "        rate = 1.568e4\n",
        "    elif 0.0450 < T9 <= 0.0550:\n",
        "        rate = 3.369e4\n",
        "    elif 0.0550 < T9 <= 0.0650:\n",
        "        rate = 6.013e4\n",
        "    elif 0.0650 < T9 <= 0.0750:\n",
        "        rate = 9.527e4\n",
        "    elif 0.0750 < T9 <= 0.0850:\n",
        "        rate = 1.390e5\n",
        "    elif 0.0850 < T9 <= 0.0950:\n",
        "        rate = 1.912e5\n",
        "    elif 0.0950 < T9 <= 0.1050:\n",
        "        rate = 2.513e5\n",
        "    elif 0.1050 < T9 <= 0.1150:\n",
        "        rate = 3.190e5\n",
        "    elif 0.1150 < T9 <= 0.1250:\n",
        "        rate = 3.938e5\n",
        "    elif 0.1250 < T9 <= 0.1350:\n",
        "        rate = 4.753e5\n",
        "    elif 0.1350 < T9 <= 0.1450:\n",
        "        rate = 5.631e5\n",
        "    elif 0.1450 < T9 <= 0.1550:\n",
        "        rate = 6.568e5\n",
        "    elif 0.1550 < T9 <= 0.1700:\n",
        "        rate = 7.559e5\n",
        "    elif 0.1700 < T9 <= 0.1900:\n",
        "        rate = 9.691e5\n",
        "    elif 0.1900 < T9 <= 0.2250:\n",
        "        rate = 1.200e6\n",
        "    elif 0.2250 < T9 <= 0.2750:\n",
        "        rate = 1.842e6\n",
        "    elif 0.2750 < T9 <= 0.3250:\n",
        "        rate = 2.555e6\n",
        "    elif 0.3250 < T9 <= 0.3750:\n",
        "        rate = 3.318e6\n",
        "    elif 0.3750 < T9 <= 0.4250:\n",
        "        rate = 4.119e6\n",
        "    elif 0.4250 < T9 <= 0.4750:\n",
        "        rate = 4.946e6\n",
        "    elif 0.4750 < T9 <= 0.5500:\n",
        "        rate = 5.792e6\n",
        "    elif 0.5500 < T9 <= 0.6500:\n",
        "        rate = 7.517e6\n",
        "    elif 0.6500 < T9 <= 0.7500:\n",
        "        rate = 9.260e6\n",
        "    elif 0.7500 < T9 <= 0.8500:\n",
        "        rate = 1.100e7\n",
        "    elif 0.8500 < T9 <= 0.9500:\n",
        "        rate = 1.272e7\n",
        "    elif 0.9500 < T9 <= 1.1250:\n",
        "        rate = 1.442e7\n",
        "    elif 1.1250 < T9 <= 1.3750:\n",
        "        rate = 1.850e7\n",
        "    elif 1.3750 < T9 <= 1.6250:\n",
        "        rate = 2.235e7\n",
        "    elif 1.6250 < T9 <= 1.8750:\n",
        "        rate = 2.595e7\n",
        "    elif 1.8750 < T9 <= 2.2500:\n",
        "        rate = 2.932e7\n",
        "    elif 2.2500 < T9 <= 2.7500:\n",
        "        rate = 3.546e7\n",
        "    elif 2.7500 < T9 <= 3.2500:\n",
        "        rate = 4.093e7\n",
        "    elif 3.2500 < T9 <= 3.7500:\n",
        "        rate = 4.585e7\n",
        "    elif 3.7500 < T9 <= 4.5000:\n",
        "        rate = 5.031e7\n",
        "    elif 4.5000 < T9 <= 5.5000:\n",
        "        rate = 5.816e7\n",
        "    elif 5.5000 < T9 <= 6.5000:\n",
        "        rate = 6.488e7\n",
        "    elif 6.5000 < T9 <= 7.5000:\n",
        "        rate = 7.072e7\n",
        "    elif 7.5000 < T9 <= 8.5000:\n",
        "        rate = 7.583e7\n",
        "    elif 8.5000 < T9 <= 9.5000:\n",
        "        rate = 8.037e7\n",
        "    elif 9.5000 < T9 <= 10.0000:\n",
        "        rate = 8.437e7\n",
        "    else:\n",
        "        rate = 0.0\n",
        "\n",
        "    return (rate/NA)\n"
      ],
      "metadata": {
        "id": "0DLDyfU4I32g"
      },
      "execution_count": 86,
      "outputs": []
    },
    {
      "cell_type": "markdown",
      "source": [],
      "metadata": {
        "id": "c644hdSJ_VOx"
      }
    },
    {
      "cell_type": "code",
      "source": [],
      "metadata": {
        "id": "bAr9Ve0tS2c_"
      },
      "execution_count": 86,
      "outputs": []
    },
    {
      "cell_type": "code",
      "source": [
        "z_req=np.linspace(0.0511,100,10000)\n"
      ],
      "metadata": {
        "id": "hWFQRbewITW-"
      },
      "execution_count": 97,
      "outputs": []
    },
    {
      "cell_type": "code",
      "source": [
        "mev_to_t9kelvin(m_e/min(z_req))"
      ],
      "metadata": {
        "colab": {
          "base_uri": "https://localhost:8080/"
        },
        "id": "QDonZyurNCtL",
        "outputId": "00e1f977-33a1-4d63-c32a-26cda95e01b4"
      },
      "execution_count": 98,
      "outputs": [
        {
          "output_type": "execute_result",
          "data": {
            "text/plain": [
              "116.045250061598"
            ]
          },
          "metadata": {},
          "execution_count": 98
        }
      ]
    },
    {
      "cell_type": "code",
      "source": [
        "\n",
        "rate_pn=[]\n",
        "rate_pn2=[]\n",
        "rate_pn3=[]\n",
        "for z in z_req:\n",
        "  rate_pn.append(pn_gD_andlo(z))\n",
        "  rate_pn2.append(pn_gammaD_cyburt(z))\n",
        "  rate_pn3.append(pn_gammaD_serpico(z))"
      ],
      "metadata": {
        "id": "qmqv5WYeiEuP"
      },
      "execution_count": 99,
      "outputs": []
    },
    {
      "cell_type": "code",
      "source": [
        "# Plot\n",
        "plt.figure(figsize=(6, 8))  # Increase size of the plot\n",
        "plt.plot(z_req, rate_pn, color='tab:red', linewidth=2, label='Ando et. al')\n",
        "plt.plot(z_req, rate_pn2, color='tab:green', linewidth=2, label='Cyburt et. al')\n",
        "plt.plot(z_req, rate_pn3, color='tab:orange', linewidth=2, label='Serpico et. al')\n",
        "\n",
        "# X-axis ticks\n",
        "#plt.xticks(0.1,0.5,1,5,10,50,100)\n",
        "\n",
        "# Scale for x and y axis\n",
        "plt.xscale('log')\n",
        "plt.yscale('log')\n",
        "\n",
        "# Add grid\n",
        "plt.grid(True, which=\"both\", linestyle='--', linewidth=0.5)\n",
        "\n",
        "# Set labels and title\n",
        "plt.xlabel(r'$z=m_e/T$',size=19)\n",
        "plt.ylabel(r'$\\langle \\sigma v \\rangle [cm^{3}s^{-1}]$',size=18)\n",
        "plt.title('')\n",
        "\n",
        "# Add a legend\n",
        "plt.legend()\n",
        "\n",
        "# Show the plot\n",
        "plt.show()"
      ],
      "metadata": {
        "colab": {
          "base_uri": "https://localhost:8080/",
          "height": 715
        },
        "id": "u05IkSFzFo05",
        "outputId": "cc0ee796-5d61-46ab-958c-ff9ee757f67a"
      },
      "execution_count": 100,
      "outputs": [
        {
          "output_type": "display_data",
          "data": {
            "text/plain": [
              "<Figure size 600x800 with 1 Axes>"
            ],
            "image/png": "[encoded data removed]"
          },
          "metadata": {}
        }
      ]
    },
    {
      "cell_type": "code",
      "source": [
        "z_dd=np.linspace(0.5,100,1000)"
      ],
      "metadata": {
        "id": "8NO2XvQLMumh"
      },
      "execution_count": 139,
      "outputs": []
    },
    {
      "cell_type": "code",
      "source": [
        "rate_DD_n3he=[]\n",
        "rate_DD_n3he2=[]\n",
        "rate_DD_n3he3=[]\n",
        "for z in z_dd:\n",
        "  rate_DD_n3he.append(DD_n3He_Alcoc(z))\n",
        "  rate_DD_n3he2.append(DD_n3He_cyburt(z))\n",
        "  rate_DD_n3he3.append(DD_n3He_serpico(z))\n"
      ],
      "metadata": {
        "id": "AnVXagYiVOzc"
      },
      "execution_count": 140,
      "outputs": []
    },
    {
      "cell_type": "code",
      "source": [
        "plt.style.use('bmh')\n",
        "plt.plot(z_dd,rate_DD_n3he,color='blue')\n",
        "plt.plot(z_dd,rate_DD_n3he2,color='green')\n",
        "plt.plot(z_dd,rate_DD_n3he3,color='yellow')\n",
        "plt.xscale('log')\n",
        "plt.yscale('log')\n"
      ],
      "metadata": {
        "colab": {
          "base_uri": "https://localhost:8080/",
          "height": 430
        },
        "id": "odBqnIEQKJKo",
        "outputId": "539be4ca-8fb2-4df2-9c90-becdb32a03ab"
      },
      "execution_count": 141,
      "outputs": [
        {
          "output_type": "display_data",
          "data": {
            "text/plain": [
              "<Figure size 640x480 with 1 Axes>"
            ],
            "image/png": "[encoded data removed]"
          },
          "metadata": {}
        }
      ]
    },
    {
      "cell_type": "code",
      "source": [
        "import math\n",
        "# defining the rates of the following equations\n",
        "def threegamma_1two(sigma_v_ab, T_9, A1,A2,A3, ga, gb, gc, Q):\n",
        "    c_gamma = 9.8686*10**(9)*T_9**(3/2)*(A1*A2/A3)*(ga*gb/gc)*np.exp(-11.605*Q/T_9)\n",
        "    ngamma_sigma_v_cgamma=sigma_v_ab*c_gamma\n",
        "\n",
        "    return ngamma_sigma_v_cgamma\n",
        "\n",
        "import math\n",
        "\n",
        "def sigma_v_cd(sigma_v_ab,mu_ab, mu_cd, g_a, g_b, g_c, g_d, T, Q):\n",
        "    cross_section_cd=sigma_v_ab*((mu_ab / mu_cd)**(3 / 2) * g_a * g_b /( g_c * g_d) * math.exp(-Q / T))\n",
        "    return cross_section_cd"
      ],
      "metadata": {
        "id": "KrgeV-LKodS9"
      },
      "execution_count": null,
      "outputs": []
    },
    {
      "cell_type": "code",
      "source": [],
      "metadata": {
        "id": "1Wv2XakXKHu2"
      },
      "execution_count": null,
      "outputs": []
    },
    {
      "cell_type": "code",
      "source": [
        "def gammaD_pn(z):\n",
        "    value1=pn_gammaD(z)\n",
        "    T_9=mev_to_t9kelvin(z)\n",
        "    A1=1.00727\n",
        "    A2=1.00866\n",
        "    A3=2.01410\n",
        "    ga=2\n",
        "    gb=2\n",
        "    gc=3\n",
        "    Q= 1.7135810198702273\n",
        "    value1=value1\n",
        "    rate1r=threegamma_1two(value1, T_9, A1,A2,A3, ga, gb, gc, Q)\n",
        "    return rate1r\n",
        "\n",
        "def n3He_DD(z):\n",
        "    value3=DD_n3He(z)\n",
        "    T=m_e/z\n",
        "    mu_ab=1.00705089\n",
        "    mu_cd=0.7558743049943291\n",
        "    g_a=3\n",
        "    g_b=3\n",
        "    g_c=2\n",
        "    g_d=2\n",
        "    Q=4.543650748139984\n",
        "    rate3r=sigma_v_cd(value3,mu_ab, mu_cd, g_a, g_b, g_c, g_d, T, Q)\n",
        "    return rate3r\n",
        "\n",
        "def p3H_DD(z):\n",
        "    value4=DD_p3H(z)\n",
        "    T=m_e/z\n",
        "    mu_ab=1.00705089\n",
        "    mu_cd=0.7550955753718033\n",
        "    Q= 4.543650748139984 #correct it\n",
        "    g_a=3\n",
        "    g_b=3\n",
        "    g_c=2\n",
        "    g_d=2\n",
        "    rate4r=sigma_v_cd(value4,mu_ab, mu_cd, g_a, g_b, g_c, g_d, T, Q)\n",
        "    return rate4r"
      ],
      "metadata": {
        "id": "7GvhFIJAZEb-"
      },
      "execution_count": null,
      "outputs": []
    },
    {
      "cell_type": "code",
      "source": [
        "\n"
      ],
      "metadata": {
        "id": "vi6QL3wszdjn"
      },
      "execution_count": null,
      "outputs": []
    },
    {
      "cell_type": "code",
      "source": [
        "def xp_dot(z, xn, xp,xd):\n",
        "\n",
        "    value = (lambda_np(z) * xn - lambda_pn(z) * xp + (gammaD_pn(z) * xd - pn_gammaD(z) * xp * xn)\n",
        "              + ((DD_p3H(z) * xd ** 2) / 2 ))*dt_dz(z)\n",
        "    return value\n",
        "\n",
        "def xn_dot(z, xp, xn, xd):\n",
        "    value = (lambda_pn(z) * xp - lambda_np(z) * xn + (gammaD_pn(z) * xd - pn_gammaD(z) * xp * xn) +\n",
        "             ((DD_n3He(z) * xd ** 2) / 2 ))*dt_dz(z)\n",
        "    return value\n",
        "\n",
        "def xd_dot(z, xp, xn, xd):\n",
        "    value = ((pn_gammaD(z) * xp * xn - gammaD_pn(z) * xd) -2*(((DD_p3H(z) * xd ** 2) / 2 )+((DD_n3He(z) * xd ** 2) / 2)) )*dt_dz(z)\n",
        "    return value\n",
        "\n",
        "def x4he_dot(z,xd):\n",
        "    value = ((((DD_p3H(z) * xd ** 2) / 2 )+((DD_n3He(z) * xd ** 2) / 2)))*dt_dz(z)\n",
        "    return value\n"
      ],
      "metadata": {
        "id": "OsWxIZ9znvrN"
      },
      "execution_count": null,
      "outputs": []
    },
    {
      "cell_type": "code",
      "source": [
        "def Xi(z_in, g_i, Ai, me, MN, eta_i, Xp, Xn, Bi,Zi):\n",
        "\n",
        "    term1 = g_i / 2\n",
        "    term2 = (zetac(3) * math.sqrt(8 / math.pi))**(Ai - 1)\n",
        "    term3 = Ai**(3 / 2)\n",
        "    term4 = (me / (MN * z_in))**((3 / 2) * (Ai - 1))\n",
        "    term5 = eta_i**(Ai - 1)\n",
        "    term6 = Xp**Zi\n",
        "    term7 = Xn**(Ai - Zi)\n",
        "    term8 = math.exp(Bi * z_in)\n",
        "\n",
        "    result = term1 * term2 * term3 * term4 * term5 * term6 * term7 * term8\n",
        "\n",
        "    return result"
      ],
      "metadata": {
        "id": "jezZNGhBJizo"
      },
      "execution_count": null,
      "outputs": []
    },
    {
      "cell_type": "code",
      "source": [
        "z_iterate=[]\n",
        "for i in znu:\n",
        "    if mev_to_t9kelvin(np.divide(m_e,i))<10:\n",
        "        z_iterate.append(i)"
      ],
      "metadata": {
        "id": "wKluZ8C4NPnX"
      },
      "execution_count": null,
      "outputs": []
    },
    {
      "cell_type": "code",
      "source": [
        "from scipy.special import zetac, zeta\n",
        "Xi(min(z_iterate), 3,2, 0.511, 1876.0409999999997,6.13832e-10,0.53228003974,0.46771996026,3.5146771037187405,1)"
      ],
      "metadata": {
        "colab": {
          "base_uri": "https://localhost:8080/"
        },
        "id": "HGVLcbOSLmir",
        "outputId": "a8d47c54-0c7b-45e2-fc4d-ffbefa2c3b3b"
      },
      "execution_count": null,
      "outputs": [
        {
          "output_type": "execute_result",
          "data": {
            "text/plain": [
              "1.661855787923797e-14"
            ]
          },
          "metadata": {},
          "execution_count": 82
        }
      ]
    },
    {
      "cell_type": "code",
      "source": [
        "def dS3dz(z,S):\n",
        "    x_p ,x_n ,x_d, x4_he =S\n",
        "    return[ xp_dot(z, x_n, x_p,x_d), xn_dot(z, x_p, x_n, x_d), xd_dot(z, x_p, x_n, x_d),x4he_dot(z,x_d)]\n",
        "\n",
        "x1_0=0.53228003974\n",
        "x2_0=0.46771996026\n",
        "x3_0=1.661855787923797e-12\n",
        "x4_h0=0\n",
        "\n",
        "\n",
        "S3_0=(x1_0,x2_0,x3_0,x4_h0)"
      ],
      "metadata": {
        "id": "ra0ASirsLtC5"
      },
      "execution_count": null,
      "outputs": []
    },
    {
      "cell_type": "code",
      "source": [],
      "metadata": {
        "id": "gKAoGAa8DsMF"
      },
      "execution_count": null,
      "outputs": []
    },
    {
      "cell_type": "code",
      "source": [
        "sol_coupled2=solve_ivp(dS3dz,t_span=(min(z_iterate),max(z_iterate)),y0=S3_0,method=\"Radau\")"
      ],
      "metadata": {
        "id": "ZkvMWziiLyJn"
      },
      "execution_count": null,
      "outputs": []
    },
    {
      "cell_type": "code",
      "source": [
        "x_n,x_p,x_d,x4_he=sol_coupled2.y\n"
      ],
      "metadata": {
        "id": "yanIs4QPL2Rt"
      },
      "execution_count": null,
      "outputs": []
    },
    {
      "cell_type": "code",
      "source": [
        " plt.plot(sol_coupled2.t,x_p)\n",
        " plt.plot(sol_coupled2.t,x_n)\n",
        " plt.plot(sol_coupled2.t,x_d)\n",
        " plt.plot(sol_coupled2.t,x4_he)\n",
        " plt.xscale('log')\n",
        " plt.yscale('log')"
      ],
      "metadata": {
        "id": "0ACblNHhL_UN",
        "colab": {
          "base_uri": "https://localhost:8080/",
          "height": 434
        },
        "outputId": "bdcbc710-9615-4f31-f600-8b9fa5ccc016"
      },
      "execution_count": null,
      "outputs": [
        {
          "output_type": "display_data",
          "data": {
            "text/plain": [
              "<Figure size 640x480 with 1 Axes>"
            ],
            "image/png": "[encoded data removed]"
          },
          "metadata": {}
        }
      ]
    },
    {
      "cell_type": "code",
      "source": [
        "# def f1(z, xn, xp,xd):\n",
        "#     value = (lambda_pn(z) * xp - lambda_np(z) * xn + (gammaD_pn(z) * xd - pn_gammaD(z) * xp * xn))*dt_dz(z)\n",
        "#     return value\n",
        "\n",
        "# def f2(z, xp, xn, xd):\n",
        "#     value = (lambda_np(z) * xn - lambda_pn(z) * xp + (gammaD_pn(z) * xd - pn_gammaD(z) * xp * xn))*dt_dz(z)\n",
        "#     return value\n",
        "\n",
        "# def f3(z, xp, xn, xd):\n",
        "#     value = ((pn_gammaD(z) * xp * xn - gammaD_pn(z) * xd) )*dt_dz(z)\n",
        "#     return value"
      ],
      "metadata": {
        "id": "7dhw9EIAZgFv"
      },
      "execution_count": null,
      "outputs": []
    },
    {
      "cell_type": "code",
      "source": [
        "# # from scipy.integrate import odeint\n",
        "# def dS2dz(z,S):\n",
        "#     x_n,x_p,x_d=S\n",
        "#     return[f1(z,x_n,x_p,x_d),f2(z,x_n,x_p,x_d),f3(z,x_n,x_p,x_d)]\n",
        "# x1_0=0.46771996026\n",
        "# x2_0=0.53228003974\n",
        "# x3_0=1.5173291945253171e-12\n",
        "# S_0=(x1_0,x2_0,x3_0)"
      ],
      "metadata": {
        "id": "i2Ud6RzcZlEM"
      },
      "execution_count": null,
      "outputs": []
    },
    {
      "cell_type": "code",
      "source": [
        "# sol_coupled=solve_ivp(dS2dz,t_span=(min(z_iterate),max(z_iterate)),y0=S_0)"
      ],
      "metadata": {
        "colab": {
          "base_uri": "https://localhost:8080/",
          "height": 165
        },
        "id": "A8SFaVncZsPC",
        "outputId": "2bc259a7-531c-4419-c42b-0ad494d5ff56"
      },
      "execution_count": null,
      "outputs": [
        {
          "output_type": "error",
          "ename": "NameError",
          "evalue": "ignored",
          "traceback": [
            "\u001b[0;31m---------------------------------------------------------------------------\u001b[0m",
            "\u001b[0;31mNameError\u001b[0m                                 Traceback (most recent call last)",
            "\u001b[0;32m<ipython-input-1-c4926af9def9>\u001b[0m in \u001b[0;36m<cell line: 1>\u001b[0;34m()\u001b[0m\n\u001b[0;32m----> 1\u001b[0;31m \u001b[0msol_coupled\u001b[0m\u001b[0;34m=\u001b[0m\u001b[0msolve_ivp\u001b[0m\u001b[0;34m(\u001b[0m\u001b[0mdS2dz\u001b[0m\u001b[0;34m,\u001b[0m\u001b[0mt_span\u001b[0m\u001b[0;34m=\u001b[0m\u001b[0;34m(\u001b[0m\u001b[0mmin\u001b[0m\u001b[0;34m(\u001b[0m\u001b[0mz_iterate\u001b[0m\u001b[0;34m)\u001b[0m\u001b[0;34m,\u001b[0m\u001b[0mmax\u001b[0m\u001b[0;34m(\u001b[0m\u001b[0mz_iterate\u001b[0m\u001b[0;34m)\u001b[0m\u001b[0;34m)\u001b[0m\u001b[0;34m,\u001b[0m\u001b[0my0\u001b[0m\u001b[0;34m=\u001b[0m\u001b[0mS_0\u001b[0m\u001b[0;34m)\u001b[0m\u001b[0;34m\u001b[0m\u001b[0;34m\u001b[0m\u001b[0m\n\u001b[0m",
            "\u001b[0;31mNameError\u001b[0m: name 'solve_ivp' is not defined"
          ]
        }
      ]
    },
    {
      "cell_type": "code",
      "source": [
        "# xn,xp,xd=sol_coupled.y\n",
        "# z_val=sol_coupled.t"
      ],
      "metadata": {
        "colab": {
          "base_uri": "https://localhost:8080/",
          "height": 183
        },
        "id": "-fuNJ--1Ztl9",
        "outputId": "5118368d-a31d-4692-8545-b8125dec1d2f"
      },
      "execution_count": null,
      "outputs": [
        {
          "output_type": "error",
          "ename": "NameError",
          "evalue": "ignored",
          "traceback": [
            "\u001b[0;31m---------------------------------------------------------------------------\u001b[0m",
            "\u001b[0;31mNameError\u001b[0m                                 Traceback (most recent call last)",
            "\u001b[0;32m<ipython-input-48-326865dc0772>\u001b[0m in \u001b[0;36m<cell line: 1>\u001b[0;34m()\u001b[0m\n\u001b[0;32m----> 1\u001b[0;31m \u001b[0mxn\u001b[0m\u001b[0;34m,\u001b[0m\u001b[0mxp\u001b[0m\u001b[0;34m,\u001b[0m\u001b[0mxd\u001b[0m\u001b[0;34m=\u001b[0m\u001b[0msol_coupled\u001b[0m\u001b[0;34m.\u001b[0m\u001b[0my\u001b[0m\u001b[0;34m\u001b[0m\u001b[0;34m\u001b[0m\u001b[0m\n\u001b[0m\u001b[1;32m      2\u001b[0m \u001b[0mz_val\u001b[0m\u001b[0;34m=\u001b[0m\u001b[0msol_coupled\u001b[0m\u001b[0;34m.\u001b[0m\u001b[0mt\u001b[0m\u001b[0;34m\u001b[0m\u001b[0;34m\u001b[0m\u001b[0m\n",
            "\u001b[0;31mNameError\u001b[0m: name 'sol_coupled' is not defined"
          ]
        }
      ]
    },
    {
      "cell_type": "code",
      "source": [],
      "metadata": {
        "id": "vwycvzh8cAW_"
      },
      "execution_count": null,
      "outputs": []
    }
  ]
}