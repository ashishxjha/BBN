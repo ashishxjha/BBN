{
  "cells": [
    {
      "cell_type": "code",
      "execution_count": null,
      "metadata": {
        "colab": {
          "base_uri": "https://localhost:8080/"
        },
        "id": "GIeFXS0F0zww",
        "outputId": "16cf0918-e21e-4822-f961-f3964f49f551"
      },
      "outputs": [
        {
          "name": "stdout",
          "output_type": "stream",
          "text": [
            "Installing Julia 1.9.2 on the current Colab Runtime...\n",
            "2023-08-29 10:15:14 URL:https://storage.googleapis.com/julialang2/bin/linux/x64/1.9/julia-1.9.2-linux-x86_64.tar.gz [146384758/146384758] -> \"/tmp/julia.tar.gz\" [1]\n",
            "Installing Julia package IJulia...\n",
            "Installing Julia package BenchmarkTools...\n",
            "Installing IJulia kernel...\n",
            "\u001b[36m\u001b[1m[ \u001b[22m\u001b[39m\u001b[36m\u001b[1mInfo: \u001b[22m\u001b[39mInstalling julia kernelspec in /root/.local/share/jupyter/kernels/julia-1.9\n",
            "\n",
            "Successfully installed julia version 1.9.2!\n",
            "Please reload this page (press Ctrl+R, ⌘+R, or the F5 key) then\n",
            "jump to the 'Checking the Installation' section.\n"
          ]
        },
        {
          "data": {
            "text/plain": []
          },
          "execution_count": 1,
          "metadata": {},
          "output_type": "execute_result"
        }
      ],
      "source": [
        "%%shell\n",
        "set -e\n",
        "\n",
        "#---------------------------------------------------#\n",
        "JULIA_VERSION=\"1.9.2\" # any version ≥ 0.7.0\n",
        "JULIA_PACKAGES=\"IJulia BenchmarkTools\"\n",
        "JULIA_PACKAGES_IF_GPU=\"CUDA\" # or CuArrays for older Julia versions\n",
        "JULIA_NUM_THREADS=2\n",
        "#---------------------------------------------------#\n",
        "\n",
        "if [ -z `which julia` ]; then\n",
        "  # Install Julia\n",
        "  JULIA_VER=`cut -d '.' -f -2 <<< \"$JULIA_VERSION\"`\n",
        "  echo \"Installing Julia $JULIA_VERSION on the current Colab Runtime...\"\n",
        "  BASE_URL=\"https://julialang-s3.julialang.org/bin/linux/x64\"\n",
        "  URL=\"$BASE_URL/$JULIA_VER/julia-$JULIA_VERSION-linux-x86_64.tar.gz\"\n",
        "  wget -nv $URL -O /tmp/julia.tar.gz # -nv means \"not verbose\"\n",
        "  tar -x -f /tmp/julia.tar.gz -C /usr/local --strip-components 1\n",
        "  rm /tmp/julia.tar.gz\n",
        "\n",
        "  # Install Packages\n",
        "  nvidia-smi -L &> /dev/null && export GPU=1 || export GPU=0\n",
        "  if [ $GPU -eq 1 ]; then\n",
        "    JULIA_PACKAGES=\"$JULIA_PACKAGES $JULIA_PACKAGES_IF_GPU\"\n",
        "  fi\n",
        "  for PKG in `echo $JULIA_PACKAGES`; do\n",
        "    echo \"Installing Julia package $PKG...\"\n",
        "    julia -e 'using Pkg; pkg\"add '$PKG'; precompile;\"' &> /dev/null\n",
        "  done\n",
        "\n",
        "  # Install kernel and rename it to \"julia\"\n",
        "  echo \"Installing IJulia kernel...\"\n",
        "  julia -e 'using IJulia; IJulia.installkernel(\"julia\", env=Dict(\n",
        "      \"JULIA_NUM_THREADS\"=>\"'\"$JULIA_NUM_THREADS\"'\"))'\n",
        "  KERNEL_DIR=`julia -e \"using IJulia; print(IJulia.kerneldir())\"`\n",
        "  KERNEL_NAME=`ls -d \"$KERNEL_DIR\"/julia*`\n",
        "  mv -f $KERNEL_NAME \"$KERNEL_DIR\"/julia\n",
        "\n",
        "  echo ''\n",
        "  echo \"Successfully installed `julia -v`!\"\n",
        "  echo \"Please reload this page (press Ctrl+R, ⌘+R, or the F5 key) then\"\n",
        "  echo \"jump to the 'Checking the Installation' section.\"\n",
        "fi"
      ],
      "id": "GIeFXS0F0zww"
    },
    {
      "cell_type": "code",
      "execution_count": null,
      "metadata": {
        "id": "229bffb1"
      },
      "outputs": [],
      "source": [
        "using Pkg"
      ],
      "id": "229bffb1"
    },
    {
      "cell_type": "code",
      "execution_count": null,
      "metadata": {
        "colab": {
          "base_uri": "https://localhost:8080/"
        },
        "id": "ff920b77",
        "outputId": "9451f2f4-ab07-4608-cd88-e8fb4d7cb7b1"
      },
      "outputs": [
        {
          "name": "stderr",
          "output_type": "stream",
          "text": [
            "\u001b[32m\u001b[1m    Updating\u001b[22m\u001b[39m registry at `~/.julia/registries/General.toml`\n",
            "\u001b[32m\u001b[1m   Resolving\u001b[22m\u001b[39m package versions...\n",
            "\u001b[32m\u001b[1m   Installed\u001b[22m\u001b[39m TreeViews ──────────────────────── v0.3.0\n",
            "\u001b[32m\u001b[1m   Installed\u001b[22m\u001b[39m Calculus ───────────────────────── v0.5.1\n",
            "\u001b[32m\u001b[1m   Installed\u001b[22m\u001b[39m PDMats ─────────────────────────── v0.11.17\n",
            "\u001b[32m\u001b[1m   Installed\u001b[22m\u001b[39m StatsFuns ──────────────────────── v1.3.0\n",
            "\u001b[32m\u001b[1m   Installed\u001b[22m\u001b[39m OffsetArrays ───────────────────── v1.12.10\n",
            "\u001b[32m\u001b[1m   Installed\u001b[22m\u001b[39m InlineStrings ──────────────────── v1.4.0\n",
            "\u001b[32m\u001b[1m   Installed\u001b[22m\u001b[39m DifferentialEquations ──────────── v7.9.0\n",
            "\u001b[32m\u001b[1m   Installed\u001b[22m\u001b[39m HypergeometricFunctions ────────── v0.3.23\n",
            "\u001b[32m\u001b[1m   Installed\u001b[22m\u001b[39m NonlinearSolve ─────────────────── v1.9.0\n",
            "\u001b[32m\u001b[1m   Installed\u001b[22m\u001b[39m Sundials_jll ───────────────────── v5.2.1+0\n",
            "\u001b[32m\u001b[1m   Installed\u001b[22m\u001b[39m EnumX ──────────────────────────── v1.0.4\n",
            "\u001b[32m\u001b[1m   Installed\u001b[22m\u001b[39m Polyester ──────────────────────── v0.7.5\n",
            "\u001b[32m\u001b[1m   Installed\u001b[22m\u001b[39m InvertedIndices ────────────────── v1.3.0\n",
            "\u001b[32m\u001b[1m   Installed\u001b[22m\u001b[39m StaticArrays ───────────────────── v1.6.2\n",
            "\u001b[32m\u001b[1m   Installed\u001b[22m\u001b[39m RecursiveArrayTools ────────────── v2.38.7\n",
            "\u001b[32m\u001b[1m   Installed\u001b[22m\u001b[39m DataFrames ─────────────────────── v1.6.1\n",
            "\u001b[32m\u001b[1m   Installed\u001b[22m\u001b[39m FunctionWrappers ───────────────── v1.1.3\n",
            "\u001b[32m\u001b[1m   Installed\u001b[22m\u001b[39m TriangularSolve ────────────────── v0.1.19\n",
            "\u001b[32m\u001b[1m   Installed\u001b[22m\u001b[39m ZygoteRules ────────────────────── v0.2.3\n",
            "\u001b[32m\u001b[1m   Installed\u001b[22m\u001b[39m SLEEFPirates ───────────────────── v0.6.39\n",
            "\u001b[32m\u001b[1m   Installed\u001b[22m\u001b[39m Static ─────────────────────────── v0.8.8\n",
            "\u001b[32m\u001b[1m   Installed\u001b[22m\u001b[39m CEnum ──────────────────────────── v0.4.2\n",
            "\u001b[32m\u001b[1m   Installed\u001b[22m\u001b[39m RandomNumbers ──────────────────── v1.5.3\n",
            "\u001b[32m\u001b[1m   Installed\u001b[22m\u001b[39m Missings ───────────────────────── v1.1.0\n",
            "\u001b[32m\u001b[1m   Installed\u001b[22m\u001b[39m BoundaryValueDiffEq ────────────── v3.0.0\n",
            "\u001b[32m\u001b[1m   Installed\u001b[22m\u001b[39m Distances ──────────────────────── v0.10.9\n",
            "\u001b[32m\u001b[1m   Installed\u001b[22m\u001b[39m SteadyStateDiffEq ──────────────── v1.16.0\n",
            "\u001b[32m\u001b[1m   Installed\u001b[22m\u001b[39m FiniteDiff ─────────────────────── v2.21.1\n",
            "\u001b[32m\u001b[1m   Installed\u001b[22m\u001b[39m Tricks ─────────────────────────── v0.1.7\n",
            "\u001b[32m\u001b[1m   Installed\u001b[22m\u001b[39m MuladdMacro ────────────────────── v0.2.4\n",
            "\u001b[32m\u001b[1m   Installed\u001b[22m\u001b[39m SIMDTypes ──────────────────────── v0.1.0\n",
            "\u001b[32m\u001b[1m   Installed\u001b[22m\u001b[39m CpuId ──────────────────────────── v0.3.1\n",
            "\u001b[32m\u001b[1m   Installed\u001b[22m\u001b[39m ArnoldiMethod ──────────────────── v0.2.0\n",
            "\u001b[32m\u001b[1m   Installed\u001b[22m\u001b[39m DiffEqBase ─────────────────────── v6.128.2\n",
            "\u001b[32m\u001b[1m   Installed\u001b[22m\u001b[39m IrrationalConstants ────────────── v0.2.2\n",
            "\u001b[32m\u001b[1m   Installed\u001b[22m\u001b[39m SciMLBase ──────────────────────── v1.95.0\n",
            "\u001b[32m\u001b[1m   Installed\u001b[22m\u001b[39m BandedMatrices ─────────────────── v0.17.38\n",
            "\u001b[32m\u001b[1m   Installed\u001b[22m\u001b[39m SimpleUnPack ───────────────────── v1.1.0\n",
            "\u001b[32m\u001b[1m   Installed\u001b[22m\u001b[39m SciMLNLSolve ───────────────────── v0.1.8\n",
            "\u001b[32m\u001b[1m   Installed\u001b[22m\u001b[39m ADTypes ────────────────────────── v0.2.1\n",
            "\u001b[32m\u001b[1m   Installed\u001b[22m\u001b[39m NLsolve ────────────────────────── v4.5.1\n",
            "\u001b[32m\u001b[1m   Installed\u001b[22m\u001b[39m SentinelArrays ─────────────────── v1.4.0\n",
            "\u001b[32m\u001b[1m   Installed\u001b[22m\u001b[39m SpecialFunctions ───────────────── v2.3.1\n",
            "\u001b[32m\u001b[1m   Installed\u001b[22m\u001b[39m LinearSolve ────────────────────── v2.5.1\n",
            "\u001b[32m\u001b[1m   Installed\u001b[22m\u001b[39m IfElse ─────────────────────────── v0.1.1\n",
            "\u001b[32m\u001b[1m   Installed\u001b[22m\u001b[39m SimpleNonlinearSolve ───────────── v0.1.19\n",
            "\u001b[32m\u001b[1m   Installed\u001b[22m\u001b[39m ArrayInterfaceCore ─────────────── v0.1.29\n",
            "\u001b[32m\u001b[1m   Installed\u001b[22m\u001b[39m StaticArraysCore ───────────────── v1.4.2\n",
            "\u001b[32m\u001b[1m   Installed\u001b[22m\u001b[39m NaNMath ────────────────────────── v1.0.2\n",
            "\u001b[32m\u001b[1m   Installed\u001b[22m\u001b[39m DiffEqNoiseProcess ─────────────── v5.18.0\n",
            "\u001b[32m\u001b[1m   Installed\u001b[22m\u001b[39m PyPlot ─────────────────────────── v2.11.2\n",
            "\u001b[32m\u001b[1m   Installed\u001b[22m\u001b[39m ThreadingUtilities ─────────────── v0.5.2\n",
            "\u001b[32m\u001b[1m   Installed\u001b[22m\u001b[39m WorkerUtilities ────────────────── v1.6.1\n",
            "\u001b[32m\u001b[1m   Installed\u001b[22m\u001b[39m ManualMemory ───────────────────── v0.1.8\n",
            "\u001b[32m\u001b[1m   Installed\u001b[22m\u001b[39m OrdinaryDiffEq ─────────────────── v6.55.0\n",
            "\u001b[32m\u001b[1m   Installed\u001b[22m\u001b[39m TranscodingStreams ─────────────── v0.9.13\n",
            "\u001b[32m\u001b[1m   Installed\u001b[22m\u001b[39m JumpProcesses ──────────────────── v9.7.2\n",
            "\u001b[32m\u001b[1m   Installed\u001b[22m\u001b[39m Rmath_jll ──────────────────────── v0.4.0+0\n",
            "\u001b[32m\u001b[1m   Installed\u001b[22m\u001b[39m SnoopPrecompile ────────────────── v1.0.3\n",
            "\u001b[32m\u001b[1m   Installed\u001b[22m\u001b[39m NLSolversBase ──────────────────── v7.8.3\n",
            "\u001b[32m\u001b[1m   Installed\u001b[22m\u001b[39m Random123 ──────────────────────── v1.6.1\n",
            "\u001b[32m\u001b[1m   Installed\u001b[22m\u001b[39m Ratios ─────────────────────────── v0.4.5\n",
            "\u001b[32m\u001b[1m   Installed\u001b[22m\u001b[39m LevyArea ───────────────────────── v1.0.0\n",
            "\u001b[32m\u001b[1m   Installed\u001b[22m\u001b[39m WeakRefStrings ─────────────────── v1.4.2\n",
            "\u001b[32m\u001b[1m   Installed\u001b[22m\u001b[39m Graphs ─────────────────────────── v1.8.0\n",
            "\u001b[32m\u001b[1m   Installed\u001b[22m\u001b[39m CommonSubexpressions ───────────── v0.3.0\n",
            "\u001b[32m\u001b[1m   Installed\u001b[22m\u001b[39m StatsAPI ───────────────────────── v1.6.0\n",
            "\u001b[32m\u001b[1m   Installed\u001b[22m\u001b[39m ExprTools ──────────────────────── v0.1.10\n",
            "\u001b[32m\u001b[1m   Installed\u001b[22m\u001b[39m Lazy ───────────────────────────── v0.15.1\n",
            "\u001b[32m\u001b[1m   Installed\u001b[22m\u001b[39m Compat ─────────────────────────── v4.9.0\n",
            "\u001b[32m\u001b[1m   Installed\u001b[22m\u001b[39m Colors ─────────────────────────── v0.12.10\n",
            "\u001b[32m\u001b[1m   Installed\u001b[22m\u001b[39m DataStructures ─────────────────── v0.18.15\n",
            "\u001b[32m\u001b[1m   Installed\u001b[22m\u001b[39m StaticArrayInterface ───────────── v1.4.1\n",
            "\u001b[32m\u001b[1m   Installed\u001b[22m\u001b[39m CodecZlib ──────────────────────── v0.7.2\n",
            "\u001b[32m\u001b[1m   Installed\u001b[22m\u001b[39m ArrayLayouts ───────────────────── v1.3.0\n",
            "\u001b[32m\u001b[1m   Installed\u001b[22m\u001b[39m ColorTypes ─────────────────────── v0.11.4\n",
            "\u001b[32m\u001b[1m   Installed\u001b[22m\u001b[39m BitTwiddlingConvenienceFunctions ─ v0.1.5\n",
            "\u001b[32m\u001b[1m   Installed\u001b[22m\u001b[39m StatsBase ──────────────────────── v0.34.0\n",
            "\u001b[32m\u001b[1m   Installed\u001b[22m\u001b[39m DiffRules ──────────────────────── v1.15.1\n",
            "\u001b[32m\u001b[1m   Installed\u001b[22m\u001b[39m GenericSchur ───────────────────── v0.5.3\n",
            "\u001b[32m\u001b[1m   Installed\u001b[22m\u001b[39m FunctionWrappersWrappers ───────── v0.1.3\n",
            "\u001b[32m\u001b[1m   Installed\u001b[22m\u001b[39m LayoutPointers ─────────────────── v0.1.14\n",
            "\u001b[32m\u001b[1m   Installed\u001b[22m\u001b[39m Sundials ───────────────────────── v4.19.3\n",
            "\u001b[32m\u001b[1m   Installed\u001b[22m\u001b[39m TableTraits ────────────────────── v1.0.1\n",
            "\u001b[32m\u001b[1m   Installed\u001b[22m\u001b[39m StochasticDiffEq ───────────────── v6.62.0\n",
            "\u001b[32m\u001b[1m   Installed\u001b[22m\u001b[39m DiffResults ────────────────────── v1.1.0\n",
            "\u001b[32m\u001b[1m   Installed\u001b[22m\u001b[39m PositiveFactorizations ─────────── v0.2.4\n",
            "\u001b[32m\u001b[1m   Installed\u001b[22m\u001b[39m Inflate ────────────────────────── v0.1.3\n",
            "\u001b[32m\u001b[1m   Installed\u001b[22m\u001b[39m DiffEqCallbacks ────────────────── v2.29.1\n",
            "\u001b[32m\u001b[1m   Installed\u001b[22m\u001b[39m SciMLOperators ─────────────────── v0.3.6\n",
            "\u001b[32m\u001b[1m   Installed\u001b[22m\u001b[39m PyCall ─────────────────────────── v1.96.1\n",
            "\u001b[32m\u001b[1m   Installed\u001b[22m\u001b[39m PooledArrays ───────────────────── v1.4.2\n",
            "\u001b[32m\u001b[1m   Installed\u001b[22m\u001b[39m PrettyTables ───────────────────── v2.2.7\n",
            "\u001b[32m\u001b[1m   Installed\u001b[22m\u001b[39m DataValueInterfaces ────────────── v1.0.0\n",
            "\u001b[32m\u001b[1m   Installed\u001b[22m\u001b[39m Setfield ───────────────────────── v1.1.1\n",
            "\u001b[32m\u001b[1m   Installed\u001b[22m\u001b[39m ConstructionBase ───────────────── v1.5.3\n",
            "\u001b[32m\u001b[1m   Installed\u001b[22m\u001b[39m DelayDiffEq ────────────────────── v5.42.0\n",
            "\u001b[32m\u001b[1m   Installed\u001b[22m\u001b[39m LoopVectorization ──────────────── v0.12.165\n",
            "\u001b[32m\u001b[1m   Installed\u001b[22m\u001b[39m OrderedCollections ─────────────── v1.6.2\n",
            "\u001b[32m\u001b[1m   Installed\u001b[22m\u001b[39m FastClosures ───────────────────── v0.3.2\n",
            "\u001b[32m\u001b[1m   Installed\u001b[22m\u001b[39m PolyesterWeave ─────────────────── v0.2.1\n",
            "\u001b[32m\u001b[1m   Installed\u001b[22m\u001b[39m ChainRulesCore ─────────────────── v1.16.0\n",
            "\u001b[32m\u001b[1m   Installed\u001b[22m\u001b[39m ArrayInterface ─────────────────── v7.4.11\n",
            "\u001b[32m\u001b[1m   Installed\u001b[22m\u001b[39m Reexport ───────────────────────── v1.2.2\n",
            "\u001b[32m\u001b[1m   Installed\u001b[22m\u001b[39m LineSearches ───────────────────── v7.2.0\n",
            "\u001b[32m\u001b[1m   Installed\u001b[22m\u001b[39m FastLapackInterface ────────────── v2.0.0\n",
            "\u001b[32m\u001b[1m   Installed\u001b[22m\u001b[39m LogExpFunctions ────────────────── v0.3.26\n",
            "\u001b[32m\u001b[1m   Installed\u001b[22m\u001b[39m PreallocationTools ─────────────── v0.4.12\n",
            "\u001b[32m\u001b[1m   Installed\u001b[22m\u001b[39m KLU ────────────────────────────── v0.4.0\n",
            "\u001b[32m\u001b[1m   Installed\u001b[22m\u001b[39m CSV ────────────────────────────── v0.10.11\n",
            "\u001b[32m\u001b[1m   Installed\u001b[22m\u001b[39m Krylov ─────────────────────────── v0.9.3\n",
            "\u001b[32m\u001b[1m   Installed\u001b[22m\u001b[39m CloseOpenIntervals ─────────────── v0.1.12\n",
            "\u001b[32m\u001b[1m   Installed\u001b[22m\u001b[39m PackageExtensionCompat ─────────── v1.0.1\n",
            "\u001b[32m\u001b[1m   Installed\u001b[22m\u001b[39m OpenSpecFun_jll ────────────────── v0.5.5+0\n",
            "\u001b[32m\u001b[1m   Installed\u001b[22m\u001b[39m UnPack ─────────────────────────── v1.0.2\n",
            "\u001b[32m\u001b[1m   Installed\u001b[22m\u001b[39m MacroTools ─────────────────────── v0.5.11\n",
            "\u001b[32m\u001b[1m   Installed\u001b[22m\u001b[39m CommonSolve ────────────────────── v0.2.4\n",
            "\u001b[32m\u001b[1m   Installed\u001b[22m\u001b[39m SimpleTraits ───────────────────── v0.9.4\n",
            "\u001b[32m\u001b[1m   Installed\u001b[22m\u001b[39m GPUArraysCore ──────────────────── v0.1.5\n",
            "\u001b[32m\u001b[1m   Installed\u001b[22m\u001b[39m Crayons ────────────────────────── v4.1.1\n",
            "\u001b[32m\u001b[1m   Installed\u001b[22m\u001b[39m DualNumbers ────────────────────── v0.6.8\n",
            "\u001b[32m\u001b[1m   Installed\u001b[22m\u001b[39m Adapt ──────────────────────────── v3.6.2\n",
            "\u001b[32m\u001b[1m   Installed\u001b[22m\u001b[39m DocStringExtensions ────────────── v0.9.3\n",
            "\u001b[32m\u001b[1m   Installed\u001b[22m\u001b[39m ExponentialUtilities ───────────── v1.24.0\n",
            "\u001b[32m\u001b[1m   Installed\u001b[22m\u001b[39m StrideArraysCore ───────────────── v0.4.17\n",
            "\u001b[32m\u001b[1m   Installed\u001b[22m\u001b[39m Rmath ──────────────────────────── v0.7.1\n",
            "\u001b[32m\u001b[1m   Installed\u001b[22m\u001b[39m VertexSafeGraphs ───────────────── v0.2.0\n",
            "\u001b[32m\u001b[1m   Installed\u001b[22m\u001b[39m CPUSummary ─────────────────────── v0.2.3\n",
            "\u001b[32m\u001b[1m   Installed\u001b[22m\u001b[39m Tables ─────────────────────────── v1.10.1\n",
            "\u001b[32m\u001b[1m   Installed\u001b[22m\u001b[39m VectorizationBase ──────────────── v0.21.64\n",
            "\u001b[32m\u001b[1m   Installed\u001b[22m\u001b[39m RuntimeGeneratedFunctions ──────── v0.5.12\n",
            "\u001b[32m\u001b[1m   Installed\u001b[22m\u001b[39m RecipesBase ────────────────────── v1.3.4\n",
            "\u001b[32m\u001b[1m   Installed\u001b[22m\u001b[39m DataAPI ────────────────────────── v1.15.0\n",
            "\u001b[32m\u001b[1m   Installed\u001b[22m\u001b[39m FixedPointNumbers ──────────────── v0.8.4\n",
            "\u001b[32m\u001b[1m   Installed\u001b[22m\u001b[39m Interpolations ─────────────────── v0.14.7\n",
            "\u001b[32m\u001b[1m   Installed\u001b[22m\u001b[39m TruncatedStacktraces ───────────── v1.4.0\n",
            "\u001b[32m\u001b[1m   Installed\u001b[22m\u001b[39m IteratorInterfaceExtensions ────── v1.0.0\n",
            "\u001b[32m\u001b[1m   Installed\u001b[22m\u001b[39m HostCPUFeatures ────────────────── v0.1.16\n",
            "\u001b[32m\u001b[1m   Installed\u001b[22m\u001b[39m Optim ──────────────────────────── v1.7.7\n",
            "\u001b[32m\u001b[1m   Installed\u001b[22m\u001b[39m LaTeXStrings ───────────────────── v1.3.0\n",
            "\u001b[32m\u001b[1m   Installed\u001b[22m\u001b[39m FilePathsBase ──────────────────── v0.9.20\n",
            "\u001b[32m\u001b[1m   Installed\u001b[22m\u001b[39m PoissonRandom ──────────────────── v0.4.4\n",
            "\u001b[32m\u001b[1m   Installed\u001b[22m\u001b[39m SymbolicIndexingInterface ──────── v0.2.2\n",
            "\u001b[32m\u001b[1m   Installed\u001b[22m\u001b[39m ResettableStacks ───────────────── v1.1.1\n",
            "\u001b[32m\u001b[1m   Installed\u001b[22m\u001b[39m QuadGK ─────────────────────────── v2.8.2\n",
            "\u001b[32m\u001b[1m   Installed\u001b[22m\u001b[39m FillArrays ─────────────────────── v1.6.1\n",
            "\u001b[32m\u001b[1m   Installed\u001b[22m\u001b[39m ForwardDiff ────────────────────── v0.10.36\n",
            "\u001b[32m\u001b[1m   Installed\u001b[22m\u001b[39m AxisAlgorithms ─────────────────── v1.0.1\n",
            "\u001b[32m\u001b[1m   Installed\u001b[22m\u001b[39m FastBroadcast ──────────────────── v0.2.6\n",
            "\u001b[32m\u001b[1m   Installed\u001b[22m\u001b[39m Parameters ─────────────────────── v0.12.3\n",
            "\u001b[32m\u001b[1m   Installed\u001b[22m\u001b[39m RecursiveFactorization ─────────── v0.2.20\n",
            "\u001b[32m\u001b[1m   Installed\u001b[22m\u001b[39m Requires ───────────────────────── v1.3.0\n",
            "\u001b[32m\u001b[1m   Installed\u001b[22m\u001b[39m SortingAlgorithms ──────────────── v1.1.1\n",
            "\u001b[32m\u001b[1m   Installed\u001b[22m\u001b[39m StringManipulation ─────────────── v0.3.0\n",
            "\u001b[32m\u001b[1m   Installed\u001b[22m\u001b[39m WoodburyMatrices ───────────────── v0.5.5\n",
            "\u001b[32m\u001b[1m   Installed\u001b[22m\u001b[39m SparseDiffTools ────────────────── v2.5.0\n",
            "\u001b[32m\u001b[1m   Installed\u001b[22m\u001b[39m Distributions ──────────────────── v0.25.100\n",
            "\u001b[32m\u001b[1m   Installed\u001b[22m\u001b[39m Sparspak ───────────────────────── v0.3.9\n",
            "\u001b[32m\u001b[1m    Updating\u001b[22m\u001b[39m `~/.julia/environments/v1.9/Project.toml`\n",
            "  \u001b[90m[336ed68f] \u001b[39m\u001b[92m+ CSV v0.10.11\u001b[39m\n",
            "  \u001b[90m[a93c6f00] \u001b[39m\u001b[92m+ DataFrames v1.6.1\u001b[39m\n",
            "  \u001b[90m[0c46a032] \u001b[39m\u001b[92m+ DifferentialEquations v7.9.0\u001b[39m\n",
            "  \u001b[90m[a98d9a8b] \u001b[39m\u001b[92m+ Interpolations v0.14.7\u001b[39m\n",
            "  \u001b[90m[b964fa9f] \u001b[39m\u001b[92m+ LaTeXStrings v1.3.0\u001b[39m\n",
            "  \u001b[90m[d330b81b] \u001b[39m\u001b[92m+ PyPlot v2.11.2\u001b[39m\n",
            "  \u001b[90m[276daf66] \u001b[39m\u001b[92m+ SpecialFunctions v2.3.1\u001b[39m\n",
            "  \u001b[90m[37e2e46d] \u001b[39m\u001b[92m+ LinearAlgebra\u001b[39m\n",
            "\u001b[32m\u001b[1m    Updating\u001b[22m\u001b[39m `~/.julia/environments/v1.9/Manifest.toml`\n",
            "  \u001b[90m[47edcb42] \u001b[39m\u001b[92m+ ADTypes v0.2.1\u001b[39m\n",
            "  \u001b[90m[79e6a3ab] \u001b[39m\u001b[92m+ Adapt v3.6.2\u001b[39m\n",
            "  \u001b[90m[ec485272] \u001b[39m\u001b[92m+ ArnoldiMethod v0.2.0\u001b[39m\n",
            "  \u001b[90m[4fba245c] \u001b[39m\u001b[92m+ ArrayInterface v7.4.11\u001b[39m\n",
            "  \u001b[90m[30b0a656] \u001b[39m\u001b[92m+ ArrayInterfaceCore v0.1.29\u001b[39m\n",
            "  \u001b[90m[4c555306] \u001b[39m\u001b[92m+ ArrayLayouts v1.3.0\u001b[39m\n",
            "  \u001b[90m[13072b0f] \u001b[39m\u001b[92m+ AxisAlgorithms v1.0.1\u001b[39m\n",
            "  \u001b[90m[aae01518] \u001b[39m\u001b[92m+ BandedMatrices v0.17.38\u001b[39m\n",
            "  \u001b[90m[62783981] \u001b[39m\u001b[92m+ BitTwiddlingConvenienceFunctions v0.1.5\u001b[39m\n",
            "  \u001b[90m[764a87c0] \u001b[39m\u001b[92m+ BoundaryValueDiffEq v3.0.0\u001b[39m\n",
            "  \u001b[90m[fa961155] \u001b[39m\u001b[92m+ CEnum v0.4.2\u001b[39m\n",
            "  \u001b[90m[2a0fbf3d] \u001b[39m\u001b[92m+ CPUSummary v0.2.3\u001b[39m\n",
            "  \u001b[90m[336ed68f] \u001b[39m\u001b[92m+ CSV v0.10.11\u001b[39m\n",
            "  \u001b[90m[49dc2e85] \u001b[39m\u001b[92m+ Calculus v0.5.1\u001b[39m\n",
            "  \u001b[90m[d360d2e6] \u001b[39m\u001b[92m+ ChainRulesCore v1.16.0\u001b[39m\n",
            "  \u001b[90m[fb6a15b2] \u001b[39m\u001b[92m+ CloseOpenIntervals v0.1.12\u001b[39m\n",
            "  \u001b[90m[944b1d66] \u001b[39m\u001b[92m+ CodecZlib v0.7.2\u001b[39m\n",
            "  \u001b[90m[3da002f7] \u001b[39m\u001b[92m+ ColorTypes v0.11.4\u001b[39m\n",
            "  \u001b[90m[5ae59095] \u001b[39m\u001b[92m+ Colors v0.12.10\u001b[39m\n",
            "  \u001b[90m[38540f10] \u001b[39m\u001b[92m+ CommonSolve v0.2.4\u001b[39m\n",
            "  \u001b[90m[bbf7d656] \u001b[39m\u001b[92m+ CommonSubexpressions v0.3.0\u001b[39m\n",
            "  \u001b[90m[34da2185] \u001b[39m\u001b[92m+ Compat v4.9.0\u001b[39m\n",
            "  \u001b[90m[187b0558] \u001b[39m\u001b[92m+ ConstructionBase v1.5.3\u001b[39m\n",
            "  \u001b[90m[adafc99b] \u001b[39m\u001b[92m+ CpuId v0.3.1\u001b[39m\n",
            "  \u001b[90m[a8cc5b0e] \u001b[39m\u001b[92m+ Crayons v4.1.1\u001b[39m\n",
            "  \u001b[90m[9a962f9c] \u001b[39m\u001b[92m+ DataAPI v1.15.0\u001b[39m\n",
            "  \u001b[90m[a93c6f00] \u001b[39m\u001b[92m+ DataFrames v1.6.1\u001b[39m\n",
            "  \u001b[90m[864edb3b] \u001b[39m\u001b[92m+ DataStructures v0.18.15\u001b[39m\n",
            "  \u001b[90m[e2d170a0] \u001b[39m\u001b[92m+ DataValueInterfaces v1.0.0\u001b[39m\n",
            "  \u001b[90m[bcd4f6db] \u001b[39m\u001b[92m+ DelayDiffEq v5.42.0\u001b[39m\n",
            "  \u001b[90m[2b5f629d] \u001b[39m\u001b[92m+ DiffEqBase v6.128.2\u001b[39m\n",
            "  \u001b[90m[459566f4] \u001b[39m\u001b[92m+ DiffEqCallbacks v2.29.1\u001b[39m\n",
            "  \u001b[90m[77a26b50] \u001b[39m\u001b[92m+ DiffEqNoiseProcess v5.18.0\u001b[39m\n",
            "  \u001b[90m[163ba53b] \u001b[39m\u001b[92m+ DiffResults v1.1.0\u001b[39m\n",
            "  \u001b[90m[b552c78f] \u001b[39m\u001b[92m+ DiffRules v1.15.1\u001b[39m\n",
            "  \u001b[90m[0c46a032] \u001b[39m\u001b[92m+ DifferentialEquations v7.9.0\u001b[39m\n",
            "  \u001b[90m[b4f34e82] \u001b[39m\u001b[92m+ Distances v0.10.9\u001b[39m\n",
            "  \u001b[90m[31c24e10] \u001b[39m\u001b[92m+ Distributions v0.25.100\u001b[39m\n",
            "  \u001b[90m[ffbed154] \u001b[39m\u001b[92m+ DocStringExtensions v0.9.3\u001b[39m\n",
            "  \u001b[90m[fa6b7ba4] \u001b[39m\u001b[92m+ DualNumbers v0.6.8\u001b[39m\n",
            "  \u001b[90m[4e289a0a] \u001b[39m\u001b[92m+ EnumX v1.0.4\u001b[39m\n",
            "  \u001b[90m[d4d017d3] \u001b[39m\u001b[92m+ ExponentialUtilities v1.24.0\u001b[39m\n",
            "  \u001b[90m[e2ba6199] \u001b[39m\u001b[92m+ ExprTools v0.1.10\u001b[39m\n",
            "  \u001b[90m[7034ab61] \u001b[39m\u001b[92m+ FastBroadcast v0.2.6\u001b[39m\n",
            "  \u001b[90m[9aa1b823] \u001b[39m\u001b[92m+ FastClosures v0.3.2\u001b[39m\n",
            "  \u001b[90m[29a986be] \u001b[39m\u001b[92m+ FastLapackInterface v2.0.0\u001b[39m\n",
            "  \u001b[90m[48062228] \u001b[39m\u001b[92m+ FilePathsBase v0.9.20\u001b[39m\n",
            "  \u001b[90m[1a297f60] \u001b[39m\u001b[92m+ FillArrays v1.6.1\u001b[39m\n",
            "  \u001b[90m[6a86dc24] \u001b[39m\u001b[92m+ FiniteDiff v2.21.1\u001b[39m\n",
            "  \u001b[90m[53c48c17] \u001b[39m\u001b[92m+ FixedPointNumbers v0.8.4\u001b[39m\n",
            "  \u001b[90m[f6369f11] \u001b[39m\u001b[92m+ ForwardDiff v0.10.36\u001b[39m\n",
            "  \u001b[90m[069b7b12] \u001b[39m\u001b[92m+ FunctionWrappers v1.1.3\u001b[39m\n",
            "  \u001b[90m[77dc65aa] \u001b[39m\u001b[92m+ FunctionWrappersWrappers v0.1.3\u001b[39m\n",
            "  \u001b[90m[46192b85] \u001b[39m\u001b[92m+ GPUArraysCore v0.1.5\u001b[39m\n",
            "  \u001b[90m[c145ed77] \u001b[39m\u001b[92m+ GenericSchur v0.5.3\u001b[39m\n",
            "  \u001b[90m[86223c79] \u001b[39m\u001b[92m+ Graphs v1.8.0\u001b[39m\n",
            "  \u001b[90m[3e5b6fbb] \u001b[39m\u001b[92m+ HostCPUFeatures v0.1.16\u001b[39m\n",
            "  \u001b[90m[34004b35] \u001b[39m\u001b[92m+ HypergeometricFunctions v0.3.23\u001b[39m\n",
            "  \u001b[90m[615f187c] \u001b[39m\u001b[92m+ IfElse v0.1.1\u001b[39m\n",
            "  \u001b[90m[d25df0c9] \u001b[39m\u001b[92m+ Inflate v0.1.3\u001b[39m\n",
            "  \u001b[90m[842dd82b] \u001b[39m\u001b[92m+ InlineStrings v1.4.0\u001b[39m\n",
            "  \u001b[90m[a98d9a8b] \u001b[39m\u001b[92m+ Interpolations v0.14.7\u001b[39m\n",
            "  \u001b[90m[41ab1584] \u001b[39m\u001b[92m+ InvertedIndices v1.3.0\u001b[39m\n",
            "  \u001b[90m[92d709cd] \u001b[39m\u001b[92m+ IrrationalConstants v0.2.2\u001b[39m\n",
            "  \u001b[90m[82899510] \u001b[39m\u001b[92m+ IteratorInterfaceExtensions v1.0.0\u001b[39m\n",
            "  \u001b[90m[ccbc3e58] \u001b[39m\u001b[92m+ JumpProcesses v9.7.2\u001b[39m\n",
            "  \u001b[90m[ef3ab10e] \u001b[39m\u001b[92m+ KLU v0.4.0\u001b[39m\n",
            "  \u001b[90m[ba0b0d4f] \u001b[39m\u001b[92m+ Krylov v0.9.3\u001b[39m\n",
            "  \u001b[90m[b964fa9f] \u001b[39m\u001b[92m+ LaTeXStrings v1.3.0\u001b[39m\n",
            "  \u001b[90m[10f19ff3] \u001b[39m\u001b[92m+ LayoutPointers v0.1.14\u001b[39m\n",
            "  \u001b[90m[50d2b5c4] \u001b[39m\u001b[92m+ Lazy v0.15.1\u001b[39m\n",
            "  \u001b[90m[2d8b4e74] \u001b[39m\u001b[92m+ LevyArea v1.0.0\u001b[39m\n",
            "  \u001b[90m[d3d80556] \u001b[39m\u001b[92m+ LineSearches v7.2.0\u001b[39m\n",
            "  \u001b[90m[7ed4a6bd] \u001b[39m\u001b[92m+ LinearSolve v2.5.1\u001b[39m\n",
            "  \u001b[90m[2ab3a3ac] \u001b[39m\u001b[92m+ LogExpFunctions v0.3.26\u001b[39m\n",
            "  \u001b[90m[bdcacae8] \u001b[39m\u001b[92m+ LoopVectorization v0.12.165\u001b[39m\n",
            "  \u001b[90m[1914dd2f] \u001b[39m\u001b[92m+ MacroTools v0.5.11\u001b[39m\n",
            "  \u001b[90m[d125e4d3] \u001b[39m\u001b[92m+ ManualMemory v0.1.8\u001b[39m\n",
            "  \u001b[90m[e1d29d7a] \u001b[39m\u001b[92m+ Missings v1.1.0\u001b[39m\n",
            "  \u001b[90m[46d2c3a1] \u001b[39m\u001b[92m+ MuladdMacro v0.2.4\u001b[39m\n",
            "  \u001b[90m[d41bc354] \u001b[39m\u001b[92m+ NLSolversBase v7.8.3\u001b[39m\n",
            "  \u001b[90m[2774e3e8] \u001b[39m\u001b[92m+ NLsolve v4.5.1\u001b[39m\n",
            "  \u001b[90m[77ba4419] \u001b[39m\u001b[92m+ NaNMath v1.0.2\u001b[39m\n",
            "  \u001b[90m[8913a72c] \u001b[39m\u001b[92m+ NonlinearSolve v1.9.0\u001b[39m\n",
            "  \u001b[90m[6fe1bfb0] \u001b[39m\u001b[92m+ OffsetArrays v1.12.10\u001b[39m\n",
            "  \u001b[90m[429524aa] \u001b[39m\u001b[92m+ Optim v1.7.7\u001b[39m\n",
            "  \u001b[90m[bac558e1] \u001b[39m\u001b[92m+ OrderedCollections v1.6.2\u001b[39m\n",
            "  \u001b[90m[1dea7af3] \u001b[39m\u001b[92m+ OrdinaryDiffEq v6.55.0\u001b[39m\n",
            "  \u001b[90m[90014a1f] \u001b[39m\u001b[92m+ PDMats v0.11.17\u001b[39m\n",
            "  \u001b[90m[65ce6f38] \u001b[39m\u001b[92m+ PackageExtensionCompat v1.0.1\u001b[39m\n",
            "  \u001b[90m[d96e819e] \u001b[39m\u001b[92m+ Parameters v0.12.3\u001b[39m\n",
            "  \u001b[90m[e409e4f3] \u001b[39m\u001b[92m+ PoissonRandom v0.4.4\u001b[39m\n",
            "  \u001b[90m[f517fe37] \u001b[39m\u001b[92m+ Polyester v0.7.5\u001b[39m\n",
            "  \u001b[90m[1d0040c9] \u001b[39m\u001b[92m+ PolyesterWeave v0.2.1\u001b[39m\n",
            "  \u001b[90m[2dfb63ee] \u001b[39m\u001b[92m+ PooledArrays v1.4.2\u001b[39m\n",
            "  \u001b[90m[85a6dd25] \u001b[39m\u001b[92m+ PositiveFactorizations v0.2.4\u001b[39m\n",
            "  \u001b[90m[d236fae5] \u001b[39m\u001b[92m+ PreallocationTools v0.4.12\u001b[39m\n",
            "  \u001b[90m[08abe8d2] \u001b[39m\u001b[92m+ PrettyTables v2.2.7\u001b[39m\n",
            "  \u001b[90m[438e738f] \u001b[39m\u001b[92m+ PyCall v1.96.1\u001b[39m\n",
            "  \u001b[90m[d330b81b] \u001b[39m\u001b[92m+ PyPlot v2.11.2\u001b[39m\n",
            "  \u001b[90m[1fd47b50] \u001b[39m\u001b[92m+ QuadGK v2.8.2\u001b[39m\n",
            "  \u001b[90m[74087812] \u001b[39m\u001b[92m+ Random123 v1.6.1\u001b[39m\n",
            "  \u001b[90m[e6cf234a] \u001b[39m\u001b[92m+ RandomNumbers v1.5.3\u001b[39m\n",
            "  \u001b[90m[c84ed2f1] \u001b[39m\u001b[92m+ Ratios v0.4.5\u001b[39m\n",
            "  \u001b[90m[3cdcf5f2] \u001b[39m\u001b[92m+ RecipesBase v1.3.4\u001b[39m\n",
            "  \u001b[90m[731186ca] \u001b[39m\u001b[92m+ RecursiveArrayTools v2.38.7\u001b[39m\n",
            "  \u001b[90m[f2c3362d] \u001b[39m\u001b[92m+ RecursiveFactorization v0.2.20\u001b[39m\n",
            "  \u001b[90m[189a3867] \u001b[39m\u001b[92m+ Reexport v1.2.2\u001b[39m\n",
            "  \u001b[90m[ae029012] \u001b[39m\u001b[92m+ Requires v1.3.0\u001b[39m\n",
            "  \u001b[90m[ae5879a3] \u001b[39m\u001b[92m+ ResettableStacks v1.1.1\u001b[39m\n",
            "  \u001b[90m[79098fc4] \u001b[39m\u001b[92m+ Rmath v0.7.1\u001b[39m\n",
            "  \u001b[90m[7e49a35a] \u001b[39m\u001b[92m+ RuntimeGeneratedFunctions v0.5.12\u001b[39m\n",
            "  \u001b[90m[94e857df] \u001b[39m\u001b[92m+ SIMDTypes v0.1.0\u001b[39m\n",
            "  \u001b[90m[476501e8] \u001b[39m\u001b[92m+ SLEEFPirates v0.6.39\u001b[39m\n",
            "  \u001b[90m[0bca4576] \u001b[39m\u001b[92m+ SciMLBase v1.95.0\u001b[39m\n",
            "  \u001b[90m[e9a6253c] \u001b[39m\u001b[92m+ SciMLNLSolve v0.1.8\u001b[39m\n",
            "  \u001b[90m[c0aeaf25] \u001b[39m\u001b[92m+ SciMLOperators v0.3.6\u001b[39m\n",
            "  \u001b[90m[91c51154] \u001b[39m\u001b[92m+ SentinelArrays v1.4.0\u001b[39m\n",
            "  \u001b[90m[efcf1570] \u001b[39m\u001b[92m+ Setfield v1.1.1\u001b[39m\n",
            "  \u001b[90m[727e6d20] \u001b[39m\u001b[92m+ SimpleNonlinearSolve v0.1.19\u001b[39m\n",
            "  \u001b[90m[699a6c99] \u001b[39m\u001b[92m+ SimpleTraits v0.9.4\u001b[39m\n",
            "  \u001b[90m[ce78b400] \u001b[39m\u001b[92m+ SimpleUnPack v1.1.0\u001b[39m\n",
            "  \u001b[90m[66db9d55] \u001b[39m\u001b[92m+ SnoopPrecompile v1.0.3\u001b[39m\n",
            "  \u001b[90m[a2af1166] \u001b[39m\u001b[92m+ SortingAlgorithms v1.1.1\u001b[39m\n",
            "  \u001b[90m[47a9eef4] \u001b[39m\u001b[92m+ SparseDiffTools v2.5.0\u001b[39m\n",
            "  \u001b[90m[e56a9233] \u001b[39m\u001b[92m+ Sparspak v0.3.9\u001b[39m\n",
            "  \u001b[90m[276daf66] \u001b[39m\u001b[92m+ SpecialFunctions v2.3.1\u001b[39m\n",
            "  \u001b[90m[aedffcd0] \u001b[39m\u001b[92m+ Static v0.8.8\u001b[39m\n",
            "  \u001b[90m[0d7ed370] \u001b[39m\u001b[92m+ StaticArrayInterface v1.4.1\u001b[39m\n",
            "  \u001b[90m[90137ffa] \u001b[39m\u001b[92m+ StaticArrays v1.6.2\u001b[39m\n",
            "  \u001b[90m[1e83bf80] \u001b[39m\u001b[92m+ StaticArraysCore v1.4.2\u001b[39m\n",
            "  \u001b[90m[82ae8749] \u001b[39m\u001b[92m+ StatsAPI v1.6.0\u001b[39m\n",
            "  \u001b[90m[2913bbd2] \u001b[39m\u001b[92m+ StatsBase v0.34.0\u001b[39m\n",
            "  \u001b[90m[4c63d2b9] \u001b[39m\u001b[92m+ StatsFuns v1.3.0\u001b[39m\n",
            "  \u001b[90m[9672c7b4] \u001b[39m\u001b[92m+ SteadyStateDiffEq v1.16.0\u001b[39m\n",
            "  \u001b[90m[789caeaf] \u001b[39m\u001b[92m+ StochasticDiffEq v6.62.0\u001b[39m\n",
            "  \u001b[90m[7792a7ef] \u001b[39m\u001b[92m+ StrideArraysCore v0.4.17\u001b[39m\n",
            "  \u001b[90m[892a3eda] \u001b[39m\u001b[92m+ StringManipulation v0.3.0\u001b[39m\n",
            "  \u001b[90m[c3572dad] \u001b[39m\u001b[92m+ Sundials v4.19.3\u001b[39m\n",
            "  \u001b[90m[2efcf032] \u001b[39m\u001b[92m+ SymbolicIndexingInterface v0.2.2\u001b[39m\n",
            "  \u001b[90m[3783bdb8] \u001b[39m\u001b[92m+ TableTraits v1.0.1\u001b[39m\n",
            "  \u001b[90m[bd369af6] \u001b[39m\u001b[92m+ Tables v1.10.1\u001b[39m\n",
            "  \u001b[90m[8290d209] \u001b[39m\u001b[92m+ ThreadingUtilities v0.5.2\u001b[39m\n",
            "  \u001b[90m[3bb67fe8] \u001b[39m\u001b[92m+ TranscodingStreams v0.9.13\u001b[39m\n",
            "  \u001b[90m[a2a6695c] \u001b[39m\u001b[92m+ TreeViews v0.3.0\u001b[39m\n",
            "  \u001b[90m[d5829a12] \u001b[39m\u001b[92m+ TriangularSolve v0.1.19\u001b[39m\n",
            "  \u001b[90m[410a4b4d] \u001b[39m\u001b[92m+ Tricks v0.1.7\u001b[39m\n",
            "  \u001b[90m[781d530d] \u001b[39m\u001b[92m+ TruncatedStacktraces v1.4.0\u001b[39m\n",
            "  \u001b[90m[3a884ed6] \u001b[39m\u001b[92m+ UnPack v1.0.2\u001b[39m\n",
            "  \u001b[90m[3d5dd08c] \u001b[39m\u001b[92m+ VectorizationBase v0.21.64\u001b[39m\n",
            "  \u001b[90m[19fa3120] \u001b[39m\u001b[92m+ VertexSafeGraphs v0.2.0\u001b[39m\n",
            "  \u001b[90m[ea10d353] \u001b[39m\u001b[92m+ WeakRefStrings v1.4.2\u001b[39m\n",
            "  \u001b[90m[efce3f68] \u001b[39m\u001b[92m+ WoodburyMatrices v0.5.5\u001b[39m\n",
            "  \u001b[90m[76eceee3] \u001b[39m\u001b[92m+ WorkerUtilities v1.6.1\u001b[39m\n",
            "  \u001b[90m[700de1a5] \u001b[39m\u001b[92m+ ZygoteRules v0.2.3\u001b[39m\n",
            "  \u001b[90m[efe28fd5] \u001b[39m\u001b[92m+ OpenSpecFun_jll v0.5.5+0\u001b[39m\n",
            "  \u001b[90m[f50d1b31] \u001b[39m\u001b[92m+ Rmath_jll v0.4.0+0\u001b[39m\n",
            "\u001b[33m⌅\u001b[39m \u001b[90m[fb77eaff] \u001b[39m\u001b[92m+ Sundials_jll v5.2.1+0\u001b[39m\n",
            "  \u001b[90m[8ba89e20] \u001b[39m\u001b[92m+ Distributed\u001b[39m\n",
            "  \u001b[90m[9fa8497b] \u001b[39m\u001b[92m+ Future\u001b[39m\n",
            "  \u001b[90m[1a1011a3] \u001b[39m\u001b[92m+ SharedArrays\u001b[39m\n",
            "  \u001b[90m[4607b0f0] \u001b[39m\u001b[92m+ SuiteSparse\u001b[39m\n",
            "  \u001b[90m[05823500] \u001b[39m\u001b[92m+ OpenLibm_jll v0.8.1+0\u001b[39m\n",
            "\u001b[36m\u001b[1m        Info\u001b[22m\u001b[39m Packages marked with \u001b[33m⌅\u001b[39m have new versions available but compatibility constraints restrict them from upgrading. To see why use `status --outdated -m`\n",
            "\u001b[32m\u001b[1m    Building\u001b[22m\u001b[39m PyCall → `~/.julia/scratchspaces/44cfe95a-1eb2-52ea-b672-e2afdf69b78f/43d304ac6f0354755f1d60730ece8c499980f7ba/build.log`\n",
            "\u001b[32m\u001b[1mPrecompiling\u001b[22m\u001b[39m project...\n",
            "\u001b[32m  ✓ \u001b[39m\u001b[90mSimpleUnPack\u001b[39m\n",
            "\u001b[32m  ✓ \u001b[39m\u001b[90mFunctionWrappers\u001b[39m\n",
            "\u001b[32m  ✓ \u001b[39m\u001b[90mMuladdMacro\u001b[39m\n",
            "\u001b[32m  ✓ \u001b[39mLaTeXStrings\n",
            "\u001b[32m  ✓ \u001b[39m\u001b[90mCalculus\u001b[39m\n",
            "\u001b[32m  ✓ \u001b[39m\u001b[90mPositiveFactorizations\u001b[39m\n",
            "\u001b[32m  ✓ \u001b[39m\u001b[90mExprTools\u001b[39m\n",
            "\u001b[32m  ✓ \u001b[39m\u001b[90mSentinelArrays\u001b[39m\n",
            "\u001b[32m  ✓ \u001b[39m\u001b[90mIteratorInterfaceExtensions\u001b[39m\n",
            "\u001b[32m  ✓ \u001b[39m\u001b[90mTricks\u001b[39m\n",
            "\u001b[32m  ✓ \u001b[39m\u001b[90mWorkerUtilities\u001b[39m\n",
            "\u001b[32m  ✓ \u001b[39m\u001b[90mStatsAPI\u001b[39m\n",
            "\u001b[32m  ✓ \u001b[39m\u001b[90mADTypes\u001b[39m\n",
            "\u001b[32m  ✓ \u001b[39m\u001b[90mCEnum\u001b[39m\n",
            "\u001b[32m  ✓ \u001b[39m\u001b[90mUnPack\u001b[39m\n",
            "\u001b[32m  ✓ \u001b[39m\u001b[90mFillArrays\u001b[39m\n",
            "\u001b[32m  ✓ \u001b[39m\u001b[90mGenericSchur\u001b[39m\n",
            "\u001b[32m  ✓ \u001b[39m\u001b[90mCommonSolve\u001b[39m\n",
            "\u001b[32m  ✓ \u001b[39m\u001b[90mWoodburyMatrices\u001b[39m\n",
            "\u001b[32m  ✓ \u001b[39m\u001b[90mStringManipulation\u001b[39m\n",
            "\u001b[32m  ✓ \u001b[39m\u001b[90mMacroTools\u001b[39m\n",
            "\u001b[32m  ✓ \u001b[39m\u001b[90mManualMemory\u001b[39m\n",
            "\u001b[32m  ✓ \u001b[39m\u001b[90mPoissonRandom\u001b[39m\n",
            "\u001b[32m  ✓ \u001b[39m\u001b[90mCompat\u001b[39m\n",
            "\u001b[32m  ✓ \u001b[39m\u001b[90mOrderedCollections\u001b[39m\n",
            "\u001b[32m  ✓ \u001b[39m\u001b[90mDataValueInterfaces\u001b[39m\n",
            "\u001b[32m  ✓ \u001b[39m\u001b[90mRequires\u001b[39m\n",
            "\u001b[32m  ✓ \u001b[39m\u001b[90mEnumX\u001b[39m\n",
            "\u001b[32m  ✓ \u001b[39m\u001b[90mReexport\u001b[39m\n",
            "\u001b[32m  ✓ \u001b[39m\u001b[90mKrylov\u001b[39m\n",
            "\u001b[32m  ✓ \u001b[39m\u001b[90mSIMDTypes\u001b[39m\n",
            "\u001b[32m  ✓ \u001b[39m\u001b[90mTreeViews\u001b[39m\n",
            "\u001b[32m  ✓ \u001b[39m\u001b[90mDocStringExtensions\u001b[39m\n",
            "\u001b[32m  ✓ \u001b[39m\u001b[90mIrrationalConstants\u001b[39m\n",
            "\u001b[32m  ✓ \u001b[39m\u001b[90mNaNMath\u001b[39m\n",
            "\u001b[32m  ✓ \u001b[39m\u001b[90mTranscodingStreams\u001b[39m\n",
            "\u001b[32m  ✓ \u001b[39m\u001b[90mInvertedIndices\u001b[39m\n",
            "\u001b[32m  ✓ \u001b[39m\u001b[90mCpuId\u001b[39m\n",
            "\u001b[32m  ✓ \u001b[39m\u001b[90mInflate\u001b[39m\n",
            "\u001b[32m  ✓ \u001b[39m\u001b[90mIfElse\u001b[39m\n",
            "\u001b[32m  ✓ \u001b[39m\u001b[90mPackageExtensionCompat\u001b[39m\n",
            "\u001b[32m  ✓ \u001b[39m\u001b[90mConstructionBase\u001b[39m\n",
            "\u001b[32m  ✓ \u001b[39m\u001b[90mDataAPI\u001b[39m\n",
            "\u001b[32m  ✓ \u001b[39m\u001b[90mFastClosures\u001b[39m\n",
            "\u001b[32m  ✓ \u001b[39m\u001b[90mStaticArraysCore\u001b[39m\n",
            "\u001b[32m  ✓ \u001b[39m\u001b[90mCrayons\u001b[39m\n",
            "\u001b[32m  ✓ \u001b[39m\u001b[90mPDMats\u001b[39m\n",
            "\u001b[32m  ✓ \u001b[39m\u001b[90mFastLapackInterface\u001b[39m\n",
            "\u001b[32m  ✓ \u001b[39m\u001b[90mSnoopPrecompile\u001b[39m\n",
            "\u001b[32m  ✓ \u001b[39m\u001b[90mKLU\u001b[39m\n",
            "\u001b[32m  ✓ \u001b[39m\u001b[90mRmath_jll\u001b[39m\n",
            "\u001b[32m  ✓ \u001b[39m\u001b[90mSundials_jll\u001b[39m\n",
            "\u001b[32m  ✓ \u001b[39m\u001b[90mRecipesBase\u001b[39m\n",
            "\u001b[32m  ✓ \u001b[39m\u001b[90mOpenSpecFun_jll\u001b[39m\n",
            "\u001b[32m  ✓ \u001b[39m\u001b[90mFixedPointNumbers\u001b[39m\n",
            "\u001b[32m  ✓ \u001b[39m\u001b[90mFunctionWrappersWrappers\u001b[39m\n",
            "\u001b[32m  ✓ \u001b[39m\u001b[90mInlineStrings\u001b[39m\n",
            "\u001b[32m  ✓ \u001b[39m\u001b[90mRuntimeGeneratedFunctions\u001b[39m\n",
            "\u001b[32m  ✓ \u001b[39m\u001b[90mTableTraits\u001b[39m\n",
            "\u001b[32m  ✓ \u001b[39m\u001b[90mFillArrays → FillArraysSparseArraysExt\u001b[39m\n",
            "\u001b[32m  ✓ \u001b[39m\u001b[90mDistances\u001b[39m\n",
            "\u001b[32m  ✓ \u001b[39m\u001b[90mAxisAlgorithms\u001b[39m\n",
            "\u001b[32m  ✓ \u001b[39m\u001b[90mFillArrays → FillArraysStatisticsExt\u001b[39m\n",
            "\u001b[32m  ✓ \u001b[39m\u001b[90mCommonSubexpressions\u001b[39m\n",
            "\u001b[32m  ✓ \u001b[39m\u001b[90mTruncatedStacktraces\u001b[39m\n",
            "\u001b[32m  ✓ \u001b[39m\u001b[90mSimpleTraits\u001b[39m\n",
            "\u001b[32m  ✓ \u001b[39m\u001b[90mThreadingUtilities\u001b[39m\n",
            "\u001b[32m  ✓ \u001b[39m\u001b[90mLazy\u001b[39m\n",
            "\u001b[32m  ✓ \u001b[39m\u001b[90mCompat → CompatLinearAlgebraExt\u001b[39m\n",
            "\u001b[32m  ✓ \u001b[39m\u001b[90mFilePathsBase\u001b[39m\n",
            "\u001b[32m  ✓ \u001b[39m\u001b[90mParameters\u001b[39m\n",
            "\u001b[32m  ✓ \u001b[39m\u001b[90mChainRulesCore\u001b[39m\n",
            "\u001b[32m  ✓ \u001b[39m\u001b[90mRatios\u001b[39m\n",
            "\u001b[32m  ✓ \u001b[39m\u001b[90mRandomNumbers\u001b[39m\n",
            "\u001b[32m  ✓ \u001b[39m\u001b[90mAdapt\u001b[39m\n",
            "\u001b[32m  ✓ \u001b[39m\u001b[90mSymbolicIndexingInterface\u001b[39m\n",
            "\u001b[32m  ✓ \u001b[39m\u001b[90mLogExpFunctions\u001b[39m\n",
            "\u001b[32m  ✓ \u001b[39m\u001b[90mCodecZlib\u001b[39m\n",
            "\u001b[32m  ✓ \u001b[39m\u001b[90mPooledArrays\u001b[39m\n",
            "\u001b[32m  ✓ \u001b[39m\u001b[90mStatic\u001b[39m\n",
            "\u001b[32m  ✓ \u001b[39m\u001b[90mMissings\u001b[39m\n",
            "\u001b[32m  ✓ \u001b[39m\u001b[90mDiffResults\u001b[39m\n",
            "\u001b[32m  ✓ \u001b[39m\u001b[90mArrayInterfaceCore\u001b[39m\n",
            "\u001b[32m  ✓ \u001b[39m\u001b[90mRmath\u001b[39m\n",
            "\u001b[32m  ✓ \u001b[39m\u001b[90mColorTypes\u001b[39m\n",
            "\u001b[32m  ✓ \u001b[39m\u001b[90mWeakRefStrings\u001b[39m\n",
            "\u001b[32m  ✓ \u001b[39m\u001b[90mTables\u001b[39m\n",
            "\u001b[32m  ✓ \u001b[39m\u001b[90mDistances → DistancesSparseArraysExt\u001b[39m\n",
            "\u001b[32m  ✓ \u001b[39m\u001b[90mStaticArrays\u001b[39m\n",
            "\u001b[32m  ✓ \u001b[39m\u001b[90mDataStructures\u001b[39m\n",
            "\u001b[32m  ✓ \u001b[39m\u001b[90mZygoteRules\u001b[39m\n",
            "\u001b[32m  ✓ \u001b[39m\u001b[90mPyCall\u001b[39m\n",
            "\u001b[32m  ✓ \u001b[39m\u001b[90mRatios → RatiosFixedPointNumbersExt\u001b[39m\n",
            "\u001b[32m  ✓ \u001b[39m\u001b[90mRandom123\u001b[39m\n",
            "\u001b[32m  ✓ \u001b[39m\u001b[90mLogExpFunctions → LogExpFunctionsChainRulesCoreExt\u001b[39m\n",
            "\u001b[32m  ✓ \u001b[39m\u001b[90mBitTwiddlingConvenienceFunctions\u001b[39m\n",
            "\u001b[32m  ✓ \u001b[39m\u001b[90mCPUSummary\u001b[39m\n",
            "\u001b[32m  ✓ \u001b[39m\u001b[90mArrayLayouts\u001b[39m\n",
            "\u001b[32m  ✓ \u001b[39m\u001b[90mColors\u001b[39m\n",
            "\u001b[32m  ✓ \u001b[39m\u001b[90mArnoldiMethod\u001b[39m\n",
            "\u001b[32m  ✓ \u001b[39m\u001b[90mResettableStacks\u001b[39m\n",
            "\u001b[32m  ✓ \u001b[39m\u001b[90mStaticArrays → StaticArraysStatisticsExt\u001b[39m\n",
            "\u001b[32m  ✓ \u001b[39m\u001b[90mConstructionBase → ConstructionBaseStaticArraysExt\u001b[39m\n",
            "\u001b[32m  ✓ \u001b[39m\u001b[90mAdapt → AdaptStaticArraysExt\u001b[39m\n",
            "\u001b[32m  ✓ \u001b[39m\u001b[90mSortingAlgorithms\u001b[39m\n",
            "\u001b[32m  ✓ \u001b[39m\u001b[90mQuadGK\u001b[39m\n",
            "\u001b[32m  ✓ \u001b[39mSpecialFunctions\n",
            "\u001b[32m  ✓ \u001b[39m\u001b[90mHostCPUFeatures\u001b[39m\n",
            "\u001b[32m  ✓ \u001b[39m\u001b[90mPrettyTables\u001b[39m\n",
            "\u001b[32m  ✓ \u001b[39m\u001b[90mPolyesterWeave\u001b[39m\n",
            "\u001b[32m  ✓ \u001b[39m\u001b[90mArrayLayouts → ArrayLayoutsSparseArraysExt\u001b[39m\n",
            "\u001b[32m  ✓ \u001b[39mPyPlot\n",
            "\u001b[32m  ✓ \u001b[39m\u001b[90mSetfield\u001b[39m\n",
            "\u001b[32m  ✓ \u001b[39m\u001b[90mOffsetArrays\u001b[39m\n",
            "\u001b[32m  ✓ \u001b[39m\u001b[90mGPUArraysCore\u001b[39m\n",
            "\u001b[32m  ✓ \u001b[39m\u001b[90mArrayInterface\u001b[39m\n",
            "\u001b[32m  ✓ \u001b[39m\u001b[90mGraphs\u001b[39m\n",
            "\u001b[32m  ✓ \u001b[39m\u001b[90mStatsBase\u001b[39m\n",
            "\u001b[32m  ✓ \u001b[39m\u001b[90mSpecialFunctions → SpecialFunctionsChainRulesCoreExt\u001b[39m\n",
            "\u001b[32m  ✓ \u001b[39m\u001b[90mLevyArea\u001b[39m\n",
            "\u001b[32m  ✓ \u001b[39m\u001b[90mDiffRules\u001b[39m\n",
            "\u001b[32m  ✓ \u001b[39m\u001b[90mDualNumbers\u001b[39m\n",
            "\u001b[32m  ✓ \u001b[39mCSV\n",
            "\u001b[32m  ✓ \u001b[39m\u001b[90mSparspak\u001b[39m\n",
            "\u001b[32m  ✓ \u001b[39mInterpolations\n",
            "\u001b[32m  ✓ \u001b[39m\u001b[90mArrayInterface → ArrayInterfaceGPUArraysCoreExt\u001b[39m\n",
            "\u001b[32m  ✓ \u001b[39m\u001b[90mArrayInterface → ArrayInterfaceStaticArraysCoreExt\u001b[39m\n",
            "\u001b[32m  ✓ \u001b[39m\u001b[90mBandedMatrices\u001b[39m\n",
            "\u001b[32m  ✓ \u001b[39m\u001b[90mVertexSafeGraphs\u001b[39m\n",
            "\u001b[32m  ✓ \u001b[39m\u001b[90mForwardDiff\u001b[39m\n",
            "\u001b[32m  ✓ \u001b[39m\u001b[90mHypergeometricFunctions\u001b[39m\n",
            "\u001b[32m  ✓ \u001b[39m\u001b[90mBandedMatrices → BandedMatricesSparseArraysExt\u001b[39m\n",
            "\u001b[32m  ✓ \u001b[39m\u001b[90mArrayInterface → ArrayInterfaceBandedMatricesExt\u001b[39m\n",
            "\u001b[32m  ✓ \u001b[39m\u001b[90mForwardDiff → ForwardDiffStaticArraysExt\u001b[39m\n",
            "\u001b[32m  ✓ \u001b[39m\u001b[90mStatsFuns\u001b[39m\n",
            "\u001b[32m  ✓ \u001b[39m\u001b[90mExponentialUtilities\u001b[39m\n",
            "\u001b[32m  ✓ \u001b[39m\u001b[90mFiniteDiff\u001b[39m\n",
            "\u001b[32m  ✓ \u001b[39m\u001b[90mStaticArrayInterface\u001b[39m\n",
            "\u001b[32m  ✓ \u001b[39m\u001b[90mRecursiveArrayTools\u001b[39m\n",
            "\u001b[32m  ✓ \u001b[39m\u001b[90mSciMLOperators\u001b[39m\n",
            "\u001b[32m  ✓ \u001b[39m\u001b[90mPreallocationTools\u001b[39m\n",
            "\u001b[32m  ✓ \u001b[39m\u001b[90mStatsFuns → StatsFunsChainRulesCoreExt\u001b[39m\n",
            "\u001b[32m  ✓ \u001b[39m\u001b[90mFiniteDiff → FiniteDiffBandedMatricesExt\u001b[39m\n",
            "\u001b[32m  ✓ \u001b[39m\u001b[90mFiniteDiff → FiniteDiffStaticArraysExt\u001b[39m\n",
            "\u001b[32m  ✓ \u001b[39m\u001b[90mNLSolversBase\u001b[39m\n",
            "\u001b[32m  ✓ \u001b[39m\u001b[90mDistributions\u001b[39m\n",
            "\u001b[32m  ✓ \u001b[39m\u001b[90mStaticArrayInterface → StaticArrayInterfaceOffsetArraysExt\u001b[39m\n",
            "\u001b[32m  ✓ \u001b[39m\u001b[90mStaticArrayInterface → StaticArrayInterfaceStaticArraysExt\u001b[39m\n",
            "\u001b[32m  ✓ \u001b[39m\u001b[90mCloseOpenIntervals\u001b[39m\n",
            "\u001b[32m  ✓ \u001b[39m\u001b[90mLayoutPointers\u001b[39m\n",
            "\u001b[32m  ✓ \u001b[39m\u001b[90mSparseDiffTools\u001b[39m\n",
            "\u001b[32m  ✓ \u001b[39m\u001b[90mLineSearches\u001b[39m\n",
            "\u001b[32m  ✓ \u001b[39m\u001b[90mDistributions → DistributionsChainRulesCoreExt\u001b[39m\n",
            "\u001b[32m  ✓ \u001b[39m\u001b[90mStrideArraysCore\u001b[39m\n",
            "\u001b[32m  ✓ \u001b[39m\u001b[90mSciMLBase\u001b[39m\n",
            "\u001b[32m  ✓ \u001b[39m\u001b[90mOptim\u001b[39m\n",
            "\u001b[32m  ✓ \u001b[39m\u001b[90mNLsolve\u001b[39m\n",
            "\u001b[32m  ✓ \u001b[39m\u001b[90mPolyester\u001b[39m\n",
            "\u001b[32m  ✓ \u001b[39m\u001b[90mFastBroadcast\u001b[39m\n",
            "\u001b[32m  ✓ \u001b[39mDataFrames\n",
            "\u001b[32m  ✓ \u001b[39m\u001b[90mDiffEqBase\u001b[39m\n",
            "\u001b[32m  ✓ \u001b[39m\u001b[90mDiffEqBase → DiffEqBaseDistributionsExt\u001b[39m\n",
            "\u001b[32m  ✓ \u001b[39m\u001b[90mVectorizationBase\u001b[39m\n",
            "\u001b[32m  ✓ \u001b[39m\u001b[90mJumpProcesses\u001b[39m\n",
            "\u001b[32m  ✓ \u001b[39m\u001b[90mDiffEqNoiseProcess\u001b[39m\n",
            "\u001b[32m  ✓ \u001b[39m\u001b[90mSciMLNLSolve\u001b[39m\n",
            "\u001b[32m  ✓ \u001b[39m\u001b[90mSimpleNonlinearSolve\u001b[39m\n",
            "\u001b[32m  ✓ \u001b[39m\u001b[90mDiffEqCallbacks\u001b[39m\n",
            "\u001b[32m  ✓ \u001b[39m\u001b[90mSundials\u001b[39m\n",
            "\u001b[32m  ✓ \u001b[39m\u001b[90mSLEEFPirates\u001b[39m\n",
            "\u001b[32m  ✓ \u001b[39m\u001b[90mSteadyStateDiffEq\u001b[39m\n",
            "\u001b[32m  ✓ \u001b[39m\u001b[90mLoopVectorization\u001b[39m\n",
            "\u001b[32m  ✓ \u001b[39m\u001b[90mLoopVectorization → SpecialFunctionsExt\u001b[39m\n",
            "\u001b[32m  ✓ \u001b[39m\u001b[90mLoopVectorization → ForwardDiffExt\u001b[39m\n",
            "\u001b[32m  ✓ \u001b[39m\u001b[90mTriangularSolve\u001b[39m\n",
            "\u001b[32m  ✓ \u001b[39m\u001b[90mRecursiveFactorization\u001b[39m\n",
            "\u001b[32m  ✓ \u001b[39m\u001b[90mLinearSolve\u001b[39m\n",
            "\u001b[32m  ✓ \u001b[39m\u001b[90mNonlinearSolve\u001b[39m\n",
            "\u001b[32m  ✓ \u001b[39m\u001b[90mBoundaryValueDiffEq\u001b[39m\n",
            "\u001b[32m  ✓ \u001b[39m\u001b[90mOrdinaryDiffEq\u001b[39m\n",
            "\u001b[32m  ✓ \u001b[39m\u001b[90mDelayDiffEq\u001b[39m\n",
            "\u001b[32m  ✓ \u001b[39m\u001b[90mStochasticDiffEq\u001b[39m\n",
            "\u001b[32m  ✓ \u001b[39mDifferentialEquations\n",
            "  183 dependencies successfully precompiled in 570 seconds. 22 already precompiled.\n"
          ]
        }
      ],
      "source": [
        "Pkg.add([\"CSV\",\"LaTeXStrings\",\"Interpolations\",\"PyPlot\",\"DataFrames\",\"LinearAlgebra\",\"SpecialFunctions\",\"DifferentialEquations\"]);"
      ],
      "id": "ff920b77"
    },
    {
      "cell_type": "code",
      "execution_count": null,
      "metadata": {
        "id": "JDccjBjkVP-J"
      },
      "outputs": [],
      "source": [
        "using CSV\n",
        "using DataFrames"
      ],
      "id": "JDccjBjkVP-J"
    },
    {
      "cell_type": "code",
      "execution_count": null,
      "metadata": {
        "id": "303762cc"
      },
      "outputs": [],
      "source": [
        "df=DataFrame(CSV.File(\"/content/SM_Thermo.csv\"));"
      ],
      "id": "303762cc"
    },
    {
      "cell_type": "code",
      "execution_count": null,
      "metadata": {
        "id": "7e8a866a"
      },
      "outputs": [],
      "source": [
        "df[!,\"z_gam\"];"
      ],
      "id": "7e8a866a"
    },
    {
      "cell_type": "code",
      "execution_count": null,
      "metadata": {
        "id": "566c269b"
      },
      "outputs": [],
      "source": [
        "z_gam=df[!,\"z_gam\"]\n",
        "z_nu=df[!,\"z_nu\"]\n",
        "gs=df[!,\"gs\"]\n",
        "g=df[!,\"g*\"];"
      ],
      "id": "566c269b"
    },
    {
      "cell_type": "code",
      "execution_count": null,
      "metadata": {
        "id": "df147905"
      },
      "outputs": [],
      "source": [
        "z_g = (1.0 ./ z_gam) .* df[!,\"a\"]\n",
        "m_e=0.51099895;"
      ],
      "id": "df147905"
    },
    {
      "cell_type": "code",
      "execution_count": null,
      "metadata": {
        "id": "047c5e0b"
      },
      "outputs": [],
      "source": [],
      "id": "047c5e0b"
    },
    {
      "cell_type": "code",
      "execution_count": null,
      "metadata": {
        "colab": {
          "base_uri": "https://localhost:8080/"
        },
        "id": "69fa8072",
        "outputId": "e5dd7cd3-2d2e-4bd4-f8fb-dddef28406e8"
      },
      "outputs": [
        {
          "data": {
            "text/plain": [
              "18.535544404595054"
            ]
          },
          "execution_count": 223,
          "metadata": {},
          "output_type": "execute_result"
        }
      ],
      "source": [
        "cons = 4.84 / m_e^2"
      ],
      "id": "69fa8072"
    },
    {
      "cell_type": "code",
      "execution_count": null,
      "metadata": {
        "id": "5282306e"
      },
      "outputs": [],
      "source": [
        "\n",
        "function gprime_s(df)\n",
        "    x = Float64[]  # Create an empty array to store the results\n",
        "    for i in 1:1000  # Julia uses 1-based indexing instead of 0-based\n",
        "        if z_g[i+1] != z_g[i]\n",
        "            push!(x, (gs[i+1] - gs[i]) / (z_g[i+1] - z_g[i]))\n",
        "        else\n",
        "            push!(x, x[i])\n",
        "        end\n",
        "    end\n",
        "\n",
        "    return x\n",
        "end\n",
        "\n",
        "gprime_list = gprime_s(df)\n",
        "push!(gprime_list, 0.0);\n"
      ],
      "id": "5282306e"
    },
    {
      "cell_type": "code",
      "execution_count": null,
      "metadata": {
        "colab": {
          "base_uri": "https://localhost:8080/"
        },
        "id": "b261d035",
        "outputId": "e30f2f1a-7bc3-4901-9c0a-40cb8067edda"
      },
      "outputs": [
        {
          "data": {
            "text/plain": [
              "my_function (generic function with 1 method)"
            ]
          },
          "execution_count": 226,
          "metadata": {},
          "output_type": "execute_result"
        }
      ],
      "source": [
        "function my_function(cons, z_g, gprime_list, df)\n",
        "    z_g_val = -(z_g^2) * (1/3) * gprime_list ./ df[\"gs\"]\n",
        "    return cons * (z_g_val + z_g) / sqrt(df[\"g*\"])\n",
        "end\n"
      ],
      "id": "b261d035"
    },
    {
      "cell_type": "code",
      "execution_count": null,
      "metadata": {
        "id": "32Umv4nnLuUY"
      },
      "outputs": [],
      "source": [
        "using Base\n",
        "\n",
        "z_int = sort(z_g);"
      ],
      "id": "32Umv4nnLuUY"
    },
    {
      "cell_type": "code",
      "execution_count": null,
      "metadata": {
        "colab": {
          "base_uri": "https://localhost:8080/"
        },
        "id": "84c88f5f",
        "outputId": "66091c98-97bb-4309-a9c0-afdc8e530cf1"
      },
      "outputs": [
        {
          "name": "stdout",
          "output_type": "stream",
          "text": [
            "[0.2890870897031636, 0.2917621621238856, 0.2944629683589648, 0.29718877486890105, 0.29993780101143164, 0.3027142916534476, 0.305516504821838, 0.30834255789981657, 0.3111979259969265, 0.31407654166188237, 0.31698396285678365, 0.31991827208868007, 0.3228786668811081, 0.32586646910566286, 0.3288830337355799, 0.331926378768886, 0.33499904336046304, 0.3380990096964893, 0.3412288248491617, 0.3443864494827104, 0.34757331590619905, 0.3507920284891287, 0.35403697015051283, 0.35731437011515527, 0.36062208546558877, 0.3639604347796593, 0.3673284693593711, 0.370727688191827, 0.3741595915753541, 0.3776232725282887, 0.38111779810178337, 0.3846459438435631, 0.38820669940783503, 0.3917991894846176, 0.39542621597155325, 0.39908683296930797, 0.40278000766282807, 0.4065087357031785, 0.410271965816205, 0.41407008591744704, 0.4179019605712661, 0.42177070755522056, 0.42567526723964366, 0.4296160026712797, 0.43359177342605154, 0.4376058360269647, 0.44165855723064057, 0.4457458056950143, 0.44987241764780905, 0.45403727538552874, 0.4582406502308194, 0.4624829778622364, 0.4667630276063624, 0.47108591132703803, 0.47544719440706623, 0.4798488995057728, 0.48429131658068164, 0.48877492482075985, 0.49330172027275787, 0.4978671347936877, 0.5024764792473322, 0.5071302429424663, 0.5118253821166892, 0.5165640311706962, 0.5213483493090637, 0.5261752076388411, 0.5310467947740206, 0.5359635379026128, 0.540927610869818, 0.5459376547710322, 0.5509904587654766, 0.5560956716412314, 0.5612425586461957, 0.5664428315069004, 0.5716874504145263, 0.5769806804345647, 0.5823269758084166, 0.5877187414977494, 0.5931604791199061, 0.5986567503543576, 0.6041998594665637, 0.609798482102877, 0.6154448943068359, 0.6211456524707252, 0.6268993480378179, 0.6327063375912282, 0.6385672332176167, 0.6444845086767039, 0.6504524223163575, 0.65648000214558, 0.6625635111417312, 0.6686989637348841, 0.6748958317489592, 0.6811479662279907, 0.6874603290336977, 0.6938312207129411, 0.7002589584672824, 0.7067485679252418, 0.7132985517892939, 0.71990680604739, 0.7265788658804433, 0.7333152404693793, 0.7401092685479962, 0.7469712552697517, 0.7538919351625315, 0.7608819552051908, 0.7679369269639017, 0.7750521245929023, 0.7822412748763774, 0.7894893323938246, 0.7968126627944299, 0.8041985785990415, 0.8116558524647605, 0.8191824493287431, 0.826778916356191, 0.8344460069467466, 0.8421871125135075, 0.8499946050122997, 0.8578803324664379, 0.8658392936427092, 0.8738693977818984, 0.8819771108245711, 0.8901602129266659, 0.8984164313482449, 0.9067554566783865, 0.915169071077764, 0.9236609186521614, 0.9322349928325071, 0.9408855888014372, 0.9496199479649673, 0.9584356132636518, 0.9673334757987821, 0.9763106934023158, 0.9853783162184114, 0.994530219145406, 1.0037608833268652, 1.013087520141442, 1.022494417060693, 1.0319923075212212, 1.0415824001239729, 1.0512547832563932, 1.0610280408403974, 1.0708816832109793, 1.0808380501210675, 1.0908801849870617, 1.101023335928306, 1.111257414033559, 1.1215871826789592, 1.1320170459513295, 1.1425444873723232, 1.1531702968389934, 1.1638952513006149, 1.1747245367650896, 1.1856549488621342, 1.196683682137295, 1.2078236109899128, 1.21905966764882, 1.2304132677531394, 1.2418649095190706, 1.2534279567493598, 1.2650990923960093, 1.2768839660393532, 1.2887794112005642, 1.3007819762075672, 1.3129058191150276, 1.325138917471585, 1.337491416025889, 1.3499597315668517, 1.3625499041803495, 1.375253516701853, 1.388081165548365, 1.4010293016286237, 1.414099303964416, 1.4272968913220523, 1.4406186612268457, 1.454070879912862, 1.467644544596261, 1.4813511501321723, 1.4951869742858317, 1.5091580546810819, 1.52326106956076, 1.5374971024020536, 1.5518724971785753, 1.5663837406655319, 1.5810320512558906, 1.5958242276346277, 1.6107614022112726, 1.6258290856014175, 1.641055840048655, 1.6564155334411952, 1.6719377739445809, 1.6875953993722164, 1.7034130024126732, 1.7193808941204693, 1.735499941196936, 1.751777917522735, 1.7682107977747323, 1.7847997895406136, 1.8015582339132938, 1.818470402246262, 1.8355494603568805, 1.8527978144931638, 1.8702102528040305, 1.8877887399302358, 1.9055414780226452, 1.923469906613292, 1.941563546353694, 1.959842744160663, 1.978303737605979, 1.9969281810530977, 2.015751064360483, 2.034754461713479, 2.053940190300322, 2.0733169484085034, 2.0928797544531337, 2.1126378092540237, 2.132592873293829, 2.1527402176199955, 2.17308909200344, 2.1936409231265794, 2.2143915719562504, 2.2353426213757537, 2.2565185480535934, 2.27788390863232, 2.2994721436664376, 2.321276527382185, 2.343292978385889, 2.3655308559732378, 2.3879926127081794, 2.4106807364554546, 2.433590080398248, 2.4567310151619965, 2.480096888552178, 2.5037078420213046, 2.527558001694978, 2.5516415661267215, 2.575969679103184, 2.6005443450513797, 2.6253696667469453, 2.650446846908654, 2.6757713206973994, 2.701353899078867, 2.7272069308064655, 2.7533142839426175, 2.7796993033853514, 2.8063440588316597, 2.833263070590148, 2.8604582323553425, 2.887932751656531, 2.915699852887936, 2.943744038857127, 2.97207628703315, 3.0007022499702263, 3.0296342854498426, 3.0588657118850815, 3.088390470772774, 3.118232076913317, 3.148383836796775, 3.178850049402558, 3.2096342422337063, 3.2407498343623025, 3.272180597164659, 3.303962850226912, 3.3360672986770186, 3.368508573406995, 3.4013031501504725, 3.434443103056912, 3.467933254158042, 3.5017894635112294, 3.5360149006315473, 3.5705924002156055, 3.605537413112855, 3.6408792733806408, 3.676596590771438, 3.7126969949738564, 3.7491947925437588, 3.786085313922153, 3.8233835392227546, 3.8610715863558496, 3.899205568496345, 3.937735765235972, 3.976712675632634, 4.016097495853325, 4.0559239645982395, 4.096198952665238, 4.1369253781445865, 4.178098266869815, 4.219736868623786, 4.261847304682294, 4.304436231432432, 4.347492916918425, 4.391042108082272, 4.435088126978806, 4.479638826126614, 4.524701447502654, 4.5702827102462775, 4.616372790787155, 4.662995907403006, 4.710175347371808, 4.75790156381438, 4.806169257036547, 4.854998478357887, 4.904416264934459, 4.954413718369557, 5.00498243734643, 5.056163063431495, 5.10794903594102, 5.160351200106402, 5.213375621329352, 5.267046584993558, 5.321342927201001, 5.376310489005893, 5.431915878348634, 5.488252134018086, 5.545207771004417, 5.60291423362388, 5.6613028121271265, 5.720403522970503, 5.7802469051093635, 5.840824087215908, 5.9021464103932555, 5.964267496329551, 6.027119466234477, 6.090811595235504, 6.155258450801054, 6.2205695913721835, 6.286662088521077, 6.353606828007303, 6.421421394626131, 6.490117662214678, 6.559668864056424, 6.630140342030087, 6.7015145083181284, 6.773821696081589, 6.8470749012407195, 6.921282267307588, 6.996465381618151, 7.07265676683846, 7.149833987145804, 7.228055774496509, 7.307315073356863, 7.3876359811436645, 7.469043293587546, 7.551530815056944, 7.635154360432463, 7.7199017762855044, 7.805806672502375, 7.892893929830288, 7.981169615372617, 8.070666388071524, 8.161391881070752, 8.253392108962169, 8.346662860467932, 8.441232161845877, 8.537136815429395, 8.63438487830783, 8.733009037991941, 8.833029078818765, 8.934473930186913, 9.037357864270653, 9.141725054287107, 9.247573383907827, 9.35496085296508, 9.463881262528652, 9.57440718736827, 9.686518378508492, 9.800269509982794, 9.91569099146505, 10.03279556556526, 10.151624181661584, 10.272219340995521, 10.394589364667608, 10.51876722776464, 10.644823294137781, 10.772720791246602, 10.902560905996129, 11.03432617718244, 11.168102233003605, 11.303887439070344, 11.441700427499047, 11.581631336757091, 11.723675679338218, 11.867888063457903, 12.01430069548087, 12.162948629360507, 12.313875427774908, 12.467108696507246, 12.622727239065235, 12.780724506283384, 12.941154533571808, 13.104089179155375, 13.269536370095851, 13.437546056206923, 13.608170539804057, 13.78144244933135, 13.957428119715608, 14.13615332410599, 14.317662739191977, 14.502018631104248, 14.689229677982498, 14.879416725481088, 15.072530730546042, 15.268734541636743, 15.467955095287811, 15.670334684879911, 15.875864393770714, 16.084612667156204, 16.296674577573732, 16.51201428901235, 16.73077237199884, 16.952904488085608, 17.178564340649913, 17.407733786438794, 17.64044939336839, 17.87685736819284, 18.11690049813288, 18.36071719256193, 18.608258705905886, 18.859705393966067, 19.11502072984935, 19.374294514533013, 19.637510239569302, 19.904842080428224, 20.176209775719972, 20.45174066526736, 20.73146633972766, 21.015471960714947, 21.303700784709974, 21.596328579737047, 21.893349121203098, 22.194765671784165, 22.500681225859076, 22.811107172239694, 23.126138262918914, 23.445738592728866, 23.76998804494374, 24.098982481770545, 24.432643003129908, 24.771064085542545, 25.11434427095138, 25.462403689566553, 25.815293421217497, 26.173155916832407, 26.535866001068875, 26.903537191332234, 27.276152961223087, 27.653751055952448, 28.036324558426728, 28.423935776292804, 28.816539072945975, 29.214207103146254, 29.616831610947077, 30.02453370305486, 30.437196328024825, 30.8549406498713, 31.277652785619168, 31.705375184254265, 32.138088488771935, 32.57568273203056, 33.01823076156314, 33.4657368364806, 33.9179613956632, 34.37517711656575, 34.83702315460916, 35.30368442517858, 35.77490553930788, 36.25093206861599, 36.73141327351268, 37.21627729135998, 37.70575432594807, 38.199418965197744, 38.6975051810061, 39.19959034368518, 39.70587339807571, 40.21613449227645, 40.73031418977947, 41.248321515263875, 41.76988776068916, 42.29520108509034, 42.823860578067205, 43.35595870313952, 43.891339077176355, 44.42965270451935, 44.97117499589045, 45.515501634701174, 46.06247059442966, 46.61216920501375, 47.164297997226186, 47.71888107743946, 48.27551908740692, 48.83433873226636, 49.395074448834144, 49.957710939682464, 50.52197456370457, 51.08782375774069, 51.655154522758046, 52.22381426579999, 52.79362493220647, 53.36468956537463, 53.93649321678971, 54.50934507898898, 55.083005910036164, 55.657267314431344, 56.232146128221096, 56.8076133007853, 57.38346370196595, 57.95973933560131, 58.53631058574226, 59.113178866461965, 59.69034443975982, 60.2676164781914, 60.845185103701084, 61.42289626523036, 62.000892727174175, 62.578930874128034, 63.157322316740576, 63.73576162631625, 64.31482182074096, 64.8939913322293, 65.47357480512069, 66.05380826275147, 66.63450745885677, 67.21588072086715, 67.79813517081183, 68.38123689777782, 68.96522450880713, 69.55061196706497, 70.13720462268262, 70.7252781358774, 71.31497708439836, 71.90651679506581, 72.49997445653219, 73.0957508244745, 73.69376821305629, 74.29433357314784, 74.89787726488117, 75.50423079471508, 76.11384486943899, 76.72693410321557, 77.34363980207422, 77.9641807306375, 78.58898290354344, 79.21790342399187, 79.85154558099644, 80.48994805660412, 81.13351470000048, 81.78220172312577, 82.43644080955052, 83.09635915989321, 83.76225214062474, 84.43439755367304, 85.11294310279784, 85.7980570908033, 86.49008374556068, 87.18909756693935, 87.89535132677669, 88.60913515876297, 89.33063471175603, 90.05991276078603, 90.79715919657323, 91.54270204626283, 92.29674463931389, 93.05921757237867, 93.83051562189495, 94.61071192599505, 95.39994546976986, 96.19838018095751, 97.0061913476855, 97.82350468539488, 98.65036956945701, 99.48701798914796, 100.33355520288255, 101.19002089537696, 102.0565808644764, 102.93345977167799, 103.82058423600076, 104.71794502952385, 105.6260875787752, 106.54454722179374, 107.4738592813803, 108.4138639875469, 109.3646037966587, 110.32637541115916, 111.29895310562476, 112.28271193681512, 113.27757079435796, 114.28345975855633, 115.30075557890265, 116.32919755070239, 117.36914850710589, 118.42029297266308, 119.48295245173493, 120.55729079580205, 121.64299912411909, 122.74055102456119, 123.84947662807485, 124.9704256243752, 126.10310291832477, 127.24746586420925, 128.40392646695193, 129.57229474949986, 130.75263125997103, 131.94499079682046, 133.14951326511965, 134.3663812001151, 135.59527970059145, 136.83669777426994, 138.0904498187114, 139.3565723949819, 140.6353220310019, 141.92659631158304, 143.23057198939873, 144.54722703554356, 145.87688568918037, 147.21925455872974, 148.5747753008004, 149.94317885004995, 151.3248762306199, 152.7198881288843, 154.12805236856641, 155.54983066681166, 156.9850436696193, 158.43384996453645, 159.89638916717556, 161.37294464966598, 162.8632126401147, 164.36764389334735, 165.88606565826555, 167.41908050171864, 168.96621457986802, 170.52791657707883, 172.10417335486628, 173.69529227901208, 175.30124777803195, 176.92202611586413, 178.55825187926504, 180.20942688091668, 181.87602643065253, 183.55817384620013, 185.25604510972732, 186.9696130381948, 188.69918381220614, 190.44456406611062, 192.20643779009575, 193.98460388926824, 195.77920621263632, 197.59021763149408, 199.4185397908163, 201.26339681309665, 203.12550853966582, 205.00483623599075, 206.90154973898547, 208.81582134563223, 210.74797708729722, 212.6978281562513, 214.66571666492837, 216.65219310326503, 218.65646311513964, 220.67987798437048, 222.72161004348425, 224.78241245281703, 226.86230567048395, 228.96144677801766, 231.08000157882284, 233.21795097085052, 235.37610920642825, 237.55380124986158, 239.7520812196644, 241.97026177646654, 244.20918585659913, 246.4688283666421, 248.7493804146967, 251.05102932308682, 253.37420559442194, 255.7184144205303, 258.08454710007146, 260.4725732634567, 262.8827019693069, 265.31512064948896, 267.77005278045976, 270.24770021192205, 272.7482720024967, 275.2719772108046, 277.8190393133025, 280.3896673686112, 282.9840776442694, 285.602500825652, 288.2451459713797, 290.91224376682726, 293.60402489736947, 296.32071283946294, 299.0625310695645, 301.82972469088486, 304.6225171798807, 307.4411581833984, 310.2858765505008, 313.1569218863818, 316.05452487641946, 318.97893783274606, 321.93041306749393, 324.90920289279535, 327.9155524118648, 330.94971393683437, 334.01195419767254, 337.1025327154298, 340.2217018022384, 343.36973539698494, 346.54689302071966, 349.75345582124726, 352.9896833196182, 356.25585666363696, 359.55224979219014, 362.8791438530822, 366.23682720303594, 369.62557378093777, 373.04567915242853, 376.4974244653127, 379.9811124941491, 383.49703880457855, 387.0454917533236, 390.626781323861, 394.2412030818317, 397.88907421963046, 401.5706975118163, 405.2863829418658, 409.036447702174, 412.82121619405376, 416.6410056099003, 420.4961403510263, 424.3869376098268, 428.3137434143691, 432.2768821659661, 436.27669268376684, 440.3135137869205, 444.3876842945763, 448.4995502348012, 452.6494648445807, 456.83778136089984, 461.064845811826, 465.3310258521804, 469.6366819278665, 473.9821744847876, 478.36787838668306, 482.7941612883742, 487.26140526251885, 491.7699779639381, 496.3202686742077, 500.91266667490316, 505.54755403868194, 510.22532725603776, 514.9463828174644, 519.7111244223735, 524.5199485612585, 529.3732733513675, 534.2715024921122, 539.2150541007403, 544.2043535034179, 549.2398116084746, 554.3218681599126, 559.4509412749798, 564.627477906596, 569.8519177987636, 575.1246862776484, 580.4462519229246, 585.8170544785944, 591.237555315414, 596.7082085952218, 602.2294828976917, 607.80183959358, 613.4257616803975, 619.1017177378181, 624.8301979722709, 630.6116781723476, 636.4466629623134, 642.3356281307603, 648.2790855108711, 654.2775397269106, 660.3314954031434, 666.4414643727522, 672.6079728867555, 678.8315399872548, 685.1126919252685, 691.4519621607335, 697.8498841535866, 704.3070129905193, 710.8238821314684, 717.4010538720428, 724.0390760900158, 730.7385399166686, 737.5000004386926, 744.3239622803525, 751.2111463334546, 758.1619851330831, 765.1771995710445, 772.2572942716038, 779.4029180373866, 786.6146475818384, 793.8930596184043, 801.2388750388911, 808.6526705567443, 816.135022885409, 823.6866529166916, 831.3080652748573, 839.0001250300736, 846.7632647174247, 854.598277317898, 862.5057395449385, 870.4864443795337, 878.540968535129, 886.6699608143504, 894.8742141981847, 903.1544495784392, 911.5111715793781, 919.9453173603503, 928.4574636348011, 937.0484033837175, 945.7187854097259, 954.4694026938131, 963.3009761277865, 972.2142986926325, 981.2100912801585, 990.2891468713512, 999.4521863580176, 1008.7000027211452, 1018.0333889417209, 1027.453138000732, 1036.9600428791662, 1046.5548965580101, 1056.2385641074325, 1066.0117664192396, 1075.8755127419606, 1085.8304518782218, 1095.8775209873716, 1106.0175130503974, 1116.2513652266477, 1126.5799425862908, 1137.0040381103138, 1147.524588958065, 1158.1425322888936, 1168.8586610837863, 1179.673984591273, 1190.5893678815214, 1201.605820203061, 1212.7241345368786, 1223.9453201315039, 1235.2703141462857, 1246.700125829753, 1258.235692341254, 1269.8780229293188, 1281.6280547532958, 1293.486797061714, 1305.4553311922837, 1317.5345222151727, 1329.7255235572718, 1342.0293444671097, 1354.4469941932161, 1366.9795540733019, 1379.6280333558946, 1392.3935854678862, 1405.2772196578053, 1418.2800893525427, 1431.4032758898086, 1444.6479326964934, 1458.0150690211265, 1471.505910379779, 1485.1216101993418, 1498.8632498175248, 1512.732054750399, 1526.729178424855, 1540.8558463569648, 1555.1132119736183, 1569.5025007908869, 1584.0249383248422, 1598.6817500915552, 1613.4741616070974, 1628.4034704767203, 1643.470902216496, 1658.6777544316758, 1674.025252638331, 1689.5148386200756, 1705.1477378929799, 1720.9252480622963, 1736.848810911638, 1752.9196519570767, 1769.1392129822252, 1785.5088636815165, 1802.0299737493824, 1818.7039849694372, 1835.5321949469323, 1852.5161896438426, 1869.6573387546005, 1886.9570119736386, 1904.4168673521124, 1922.038202495273, 1939.822603365096, 1957.7715117451949, 1975.8865856867242, 1994.1692669732972, 2012.6210694777085, 2031.243579161932, 2050.0384540771233, 2069.007280185257, 2088.1514992699463, 2107.472985649889, 2126.973181108697, 2146.6538157867076, 2166.5165477350756, 2186.563107094137, 2206.7950798258667, 2227.2143402489614, 2247.822474325395, 2268.621356373867, 2289.612644445531, 2310.798140769903, 2332.1797196656826, 2353.759111273204, 2375.5381899111644, 2397.518757809081, 2419.7026892856516, 2442.0919307487525, 2464.688356517082, 2487.493840909338, 2510.5103303333967, 2533.739771197138, 2557.1841819976194, 2580.845509142718, 2604.725771129494, 2628.827058544186, 2653.151245705492, 2677.700567378011, 2702.4770420588025, 2727.4827603341055, 2752.7198127901593, 2778.190434191565, 2803.896715124562, 2829.8408182645694, 2856.025050465369, 2882.4515023131994, 2909.122480661842, 2936.040292365079, 2963.2071721875095, 2990.6253548937366, 3018.2972915159, 3046.225216818601, 3074.4115818339833, 3102.8587655050083, 3131.569218863818, 3160.5452487641946, 3189.7893783274603, 3219.304130674939, 3249.0920289279534, 3279.1555241186475, 3309.4971393683436, 3340.119541976725, 3371.0253271542974, 3402.217018022384, 3433.697353969849, 3465.4689302071965, 3497.5345582124733, 3529.8968331961823, 3562.55856663637, 3595.5224979219015, 3628.791438530822, 3662.3682720303595, 3696.255737809378, 3730.4567915242847, 3764.9742446531272, 3799.8111249414906, 3834.970388045785, 3870.4549175332354, 3906.26781323861, 3942.4120308183174, 3978.890742196306, 4015.7069751181625, 4052.863829418658, 4090.3644770217397, 4128.212161940538, 4166.410056099002, 4204.961403510263, 4243.86937609827, 4283.137434143691, 4322.768821659661, 4362.766926837668, 4403.135137869206, 4443.876842945763, 4484.995502348012, 4526.494648445807, 4568.377813608999, 4610.64845811826, 4653.310258521804, 4696.3668192786645, 4739.821744847875, 4783.67878386683, 4827.941612883743, 4872.614052625188, 4917.699779639382, 4963.202686742076, 5009.126666749031, 5055.475540386819, 5102.253272560378, 5149.463828174645]\n"
          ]
        }
      ],
      "source": [
        "# Calculating 'func'\n",
        "func = cons .* (-(z_int .^ 2) .* (1 ./ 3) .* (gprime_list ./ df[:, \"gs\"]) .+ z_int) ./ (sqrt.(df[:, \"g*\"]))\n",
        "\n",
        "println(func)\n"
      ],
      "id": "84c88f5f"
    },
    {
      "cell_type": "code",
      "execution_count": null,
      "metadata": {
        "id": "850da423"
      },
      "outputs": [],
      "source": [],
      "id": "850da423"
    },
    {
      "cell_type": "code",
      "execution_count": null,
      "metadata": {
        "id": "6dfefdd5"
      },
      "outputs": [],
      "source": [
        "using Interpolations\n",
        "# Interpolate using Interpolations package\n",
        "dt_dz = LinearInterpolation(z_int, func, extrapolation_bc=Line())  # Linear interpolation\n",
        "\n",
        "# Create new x values\n",
        "x_new = range(0.051099997600057595, stop=511.0000145934898, length=100000)\n",
        "\n",
        "# Evaluate the interpolation at x_new values\n",
        "dtdz_new = dt_dz(x_new);\n"
      ],
      "id": "6dfefdd5"
    },
    {
      "cell_type": "code",
      "execution_count": null,
      "metadata": {
        "id": "6b78743b"
      },
      "outputs": [],
      "source": [
        "using PyPlot\n"
      ],
      "id": "6b78743b"
    },
    {
      "cell_type": "code",
      "execution_count": null,
      "metadata": {
        "colab": {
          "base_uri": "https://localhost:8080/",
          "height": 504
        },
        "id": "51cd7d8c",
        "outputId": "10533650-0990-459e-8754-9cd9a31897bc"
      },
      "outputs": [
        {
          "data": {
            "image/png": "[encoded data removed]",
            "text/plain": [
              "Figure(PyObject <Figure size 640x480 with 1 Axes>)"
            ]
          },
          "metadata": {},
          "output_type": "display_data"
        },
        {
          "data": {
            "text/plain": [
              "PyObject <matplotlib.legend.Legend object at 0x782f1e9057e0>"
            ]
          },
          "execution_count": 233,
          "metadata": {},
          "output_type": "execute_result"
        }
      ],
      "source": [
        "plot(z_int, func, \"o\", color=\"yellow\", markersize=5, label=\"Original Data\")\n",
        "plot(x_new, dtdz_new, \"--\", color=\"black\", linewidth=2, label=\"Interpolated\")\n",
        "xscale(\"log\")\n",
        "yscale(\"log\")\n",
        "xlabel(L\"$z_\\gamma=m_e/T_\\gamma$\", fontsize=18)\n",
        "ylabel(L\"$\\frac{dt}{dz}$\", fontsize=18)\n",
        "title(L\"Interpolated $\\frac{dt}{dz}$ vs. $z_{\\gamma}$\", fontsize=20)\n",
        "grid(true, linestyle=\"--\", linewidth=0.5, color=\"gray\")\n",
        "tick_params(axis=\"both\", which=\"major\", labelsize=14)\n",
        "tight_layout()\n",
        "legend(fontsize=12)"
      ],
      "id": "51cd7d8c"
    },
    {
      "cell_type": "code",
      "execution_count": null,
      "metadata": {
        "colab": {
          "base_uri": "https://localhost:8080/"
        },
        "id": "cb9e1b29",
        "outputId": "8b3ced52-68b9-410e-ad93-facd75a16e37"
      },
      "outputs": [
        {
          "data": {
            "text/plain": [
              "10-element Vector{Float64}:\n",
              "  22.211\n",
              " -72.798\n",
              " 115.71\n",
              " -11.763\n",
              "  45.521\n",
              "  -3.7973\n",
              "   0.41266\n",
              "  -0.02621\n",
              "   0.00087934\n",
              "  -1.2016e-5"
            ]
          },
          "execution_count": 234,
          "metadata": {},
          "output_type": "execute_result"
        }
      ],
      "source": [
        "a_0 = 1\n",
        "a_1 = 0.15735\n",
        "a_2 = 4.6172\n",
        "a_3 = -0.40520e2\n",
        "a_4 = 0.13875e3\n",
        "a_5 = -0.59898e2\n",
        "a_6 = 0.66752e2\n",
        "a_7 = -0.16705e2\n",
        "a_8 = 3.8071\n",
        "a_9 = -0.39140\n",
        "a_10 = 0.023590\n",
        "a_11 = -0.83696e-4\n",
        "a_12 = -0.42095e-4\n",
        "a_13 = 0.17675e-5\n",
        "q_np = 0.33979\n",
        "\n",
        "b_0 = -0.62173\n",
        "b_1 = 0.22211e2\n",
        "b_2 = -0.72798e2\n",
        "b_3 = 0.11571e3\n",
        "b_4 = -0.11763e2\n",
        "b_5 = 0.45521e2\n",
        "b_6 = -3.7973\n",
        "b_7 = 0.41266\n",
        "b_8 = -0.026210\n",
        "b_9 = 0.87934e-3\n",
        "b_10 = -0.12016e-4\n",
        "q_pn = 2.8602\n",
        "tau = 8.7945e2\n",
        "m_e = 0.511\n",
        "\n",
        "a_values = [a_1, a_2, a_3, a_4, a_5, a_6, a_7, a_8, a_9, a_10, a_11, a_12, a_13]\n",
        "b_values = [b_1, b_2, b_3, b_4, b_5, b_6, b_7, b_8, b_9, b_10]\n"
      ],
      "id": "cb9e1b29"
    },
    {
      "cell_type": "code",
      "execution_count": null,
      "metadata": {
        "id": "2x7F6foYLBpR"
      },
      "outputs": [],
      "source": [],
      "id": "2x7F6foYLBpR"
    },
    {
      "cell_type": "code",
      "execution_count": null,
      "metadata": {
        "id": "7zLsHQYdBubN"
      },
      "outputs": [],
      "source": [
        "using Base\n",
        "\n",
        "z_int = sort(z_g);\n"
      ],
      "id": "7zLsHQYdBubN"
    },
    {
      "cell_type": "code",
      "execution_count": null,
      "metadata": {
        "id": "4123d9ee"
      },
      "outputs": [],
      "source": [
        "znu = []\n",
        "for x in z_int\n",
        "    if (1 / x) * m_e >= 0.01\n",
        "        push!(znu, x)\n",
        "    end\n",
        "end\n"
      ],
      "id": "4123d9ee"
    },
    {
      "cell_type": "code",
      "execution_count": null,
      "metadata": {
        "colab": {
          "base_uri": "https://localhost:8080/"
        },
        "id": "7d8bcf55",
        "outputId": "744e76cb-4eef-49ff-a56e-cbbd3196ce64"
      },
      "outputs": [
        {
          "data": {
            "text/plain": [
              "lambda_pn (generic function with 1 method)"
            ]
          },
          "execution_count": 238,
          "metadata": {},
          "output_type": "execute_result"
        }
      ],
      "source": [
        "\n",
        "\n",
        "# Define the weak rate function for n <--> p\n",
        "function lambda_np(z)\n",
        "    f1 = 1.0\n",
        "    for ie in 1:13\n",
        "        f1 += a_values[ie] / z^ie\n",
        "    end\n",
        "    f1 *= exp(-0.33979 / z) / tau\n",
        "    return f1\n",
        "end\n",
        "\n",
        "# Define the weak rate function for p <--> n\n",
        "function lambda_pn(z)\n",
        "    r1 = -0.62173\n",
        "    e = m_e / z\n",
        "\n",
        "    if (e >= 0.1)\n",
        "        for ie in 1:10\n",
        "            r1 += b_values[ie] / z^ie\n",
        "        end\n",
        "        r1 *= exp(-2.8602 * z) / tau\n",
        "        weak_rate = r1\n",
        "    else\n",
        "        weak_rate = 0\n",
        "    end\n",
        "    return weak_rate\n",
        "end\n"
      ],
      "id": "7d8bcf55"
    },
    {
      "cell_type": "code",
      "execution_count": null,
      "metadata": {
        "colab": {
          "base_uri": "https://localhost:8080/"
        },
        "id": "4d99c913",
        "outputId": "a2f1c6d8-a932-4cf3-fe51-aa8f45c9ba72"
      },
      "outputs": [
        {
          "data": {
            "text/plain": [
              "f2 (generic function with 1 method)"
            ]
          },
          "execution_count": 240,
          "metadata": {},
          "output_type": "execute_result"
        }
      ],
      "source": [
        "function f1(z, xn, xp)\n",
        "    value = (lambda_pn(z) * xp - lambda_np(z) * xn) * dt_dz(z)\n",
        "    return value\n",
        "end\n",
        "\n",
        "function f2(z, xn, xp)\n",
        "    value = (lambda_np(z) * xn - lambda_pn(z) * xp) * dt_dz(z)\n",
        "    return value\n",
        "end"
      ],
      "id": "4d99c913"
    },
    {
      "cell_type": "code",
      "execution_count": null,
      "metadata": {
        "colab": {
          "base_uri": "https://localhost:8080/"
        },
        "id": "PDYA4GYqGXRb",
        "outputId": "1285ebf8-ab7b-4041-9de5-6111e3b6c951"
      },
      "outputs": [
        {
          "name": "stderr",
          "output_type": "stream",
          "text": [
            "\u001b[32m\u001b[1m   Resolving\u001b[22m\u001b[39m package versions...\n",
            "\u001b[32m\u001b[1m  No Changes\u001b[22m\u001b[39m to `~/.julia/environments/v1.9/Project.toml`\n",
            "\u001b[32m\u001b[1m  No Changes\u001b[22m\u001b[39m to `~/.julia/environments/v1.9/Manifest.toml`\n"
          ]
        }
      ],
      "source": [
        "Pkg.add(\"DifferentialEquations\")"
      ],
      "id": "PDYA4GYqGXRb"
    },
    {
      "cell_type": "code",
      "execution_count": null,
      "metadata": {
        "id": "cfc3f666"
      },
      "outputs": [],
      "source": [
        "using DifferentialEquations"
      ],
      "id": "cfc3f666"
    },
    {
      "cell_type": "code",
      "execution_count": null,
      "metadata": {
        "colab": {
          "base_uri": "https://localhost:8080/"
        },
        "id": "KJpIpW6zKdRM",
        "outputId": "33c79935-60db-4db4-bd58-3ebd6d4ed1f1"
      },
      "outputs": [
        {
          "data": {
            "text/plain": [
              "ode_solvez (generic function with 1 method)"
            ]
          },
          "execution_count": 243,
          "metadata": {},
          "output_type": "execute_result"
        }
      ],
      "source": [
        "function ode_solvez(u, p, z)\n",
        "    xn, xp = u\n",
        "    dx_n = f1(z,u[1],u[2])  # Define the equation for dx/dt here based on x, y, and t\n",
        "    dx_p = f2(z,u[1],u[2])\n",
        "    [dx_n,dx_p] # Define the equation for dy/dt here based on x, y, and t\n",
        "end\n"
      ],
      "id": "KJpIpW6zKdRM"
    },
    {
      "cell_type": "code",
      "execution_count": null,
      "metadata": {
        "colab": {
          "base_uri": "https://localhost:8080/"
        },
        "id": "RTy7Nf14MvYZ",
        "outputId": "9493fd12-ca60-44c6-b526-1946412d7788"
      },
      "outputs": [
        {
          "name": "stdout",
          "output_type": "stream",
          "text": [
            "  2.420 ms (100166 allocations: 2.15 MiB)\n"
          ]
        }
      ],
      "source": [
        "using DifferentialEquations, BenchmarkTools\n",
        "u0 = [0.46771996026; 0.53228003974]\n",
        "tspan = (minimum(znu),maximum(znu))\n",
        "prob = ODEProblem(ode_solvez, u0, tspan)\n",
        "@btime solve(prob, Rodas5P());\n"
      ],
      "id": "RTy7Nf14MvYZ"
    },
    {
      "cell_type": "code",
      "execution_count": null,
      "metadata": {
        "colab": {
          "base_uri": "https://localhost:8080/"
        },
        "id": "yiN8bUxrNPEL",
        "outputId": "adac2270-426a-4c61-8323-4e83c58d9710"
      },
      "outputs": [
        {
          "data": {
            "text/plain": [
              "retcode: Success\n",
              "Interpolation: specialized 4rd order \"free\" stiffness-aware interpolation\n",
              "t: 46-element Vector{Float64}:\n",
              "  0.051099997600057595\n",
              "  0.0546681296956382\n",
              "  0.056244862843864186\n",
              "  0.059198346267329525\n",
              "  0.06440245638110617\n",
              "  0.07079124048945204\n",
              "  0.07827398053709227\n",
              "  0.08885983536121765\n",
              "  0.10296901942572104\n",
              "  0.12041307919252538\n",
              "  0.13974487722216225\n",
              "  0.16491753270712786\n",
              "  0.19012320104445138\n",
              "  ⋮\n",
              "  8.190020679500043\n",
              " 10.698871974157646\n",
              " 13.59763211863316\n",
              " 17.60391630648862\n",
              " 21.610200494344085\n",
              " 25.715031769229224\n",
              " 29.819863044114364\n",
              " 33.9246943189995\n",
              " 38.20977352534001\n",
              " 43.38007305614728\n",
              " 49.66763040558041\n",
              " 50.63151395438075\n",
              "u: 46-element Vector{Vector{Float64}}:\n",
              " [0.46771996026, 0.53228003974]\n",
              " [0.46268149359305316, 0.5373185064069471]\n",
              " [0.4617833790428394, 0.5382166209571608]\n",
              " [0.4601549498139236, 0.5398450501860766]\n",
              " [0.45722668769101454, 0.5427733123089858]\n",
              " [0.45349553495754813, 0.5465044650424524]\n",
              " [0.4490540160336419, 0.5509459839663585]\n",
              " [0.44278640299038496, 0.5572135970096156]\n",
              " [0.43441517667264146, 0.5655848233273594]\n",
              " [0.4239649494627505, 0.5760350505372505]\n",
              " [0.41245263965803675, 0.5875473603419642]\n",
              " [0.39787845140223144, 0.6021215485977696]\n",
              " [0.3838190836825284, 0.6161809163174726]\n",
              " ⋮\n",
              " [0.11128408074456081, 0.8887159192554404]\n",
              " [0.08441648336365874, 0.9155835166363424]\n",
              " [0.05632759479732773, 0.9436724052026735]\n",
              " [0.027539107395904795, 0.9724608926040965]\n",
              " [0.011211285138401288, 0.9887887148616002]\n",
              " [0.003690661503048135, 0.9963093384969534]\n",
              " [0.0010018717270012393, 0.9989981282730002]\n",
              " [0.00022421627414960296, 0.9997757837258517]\n",
              " [3.820648017376686e-5, 0.9999617935198275]\n",
              " [3.377057315137284e-6, 0.9999966229426862]\n",
              " [1.068410968501975e-7, 0.9999998931589046]\n",
              " [6.147447797039698e-8, 0.9999999385255235]"
            ]
          },
          "execution_count": 245,
          "metadata": {},
          "output_type": "execute_result"
        }
      ],
      "source": [
        "sol = solve(prob,Rodas5P())  # You can choose a different solver if needed"
      ],
      "id": "yiN8bUxrNPEL"
    },
    {
      "cell_type": "code",
      "execution_count": null,
      "metadata": {
        "colab": {
          "base_uri": "https://localhost:8080/"
        },
        "id": "NLjnE26vNSmA",
        "outputId": "c1762df6-bd24-4a96-bd62-032f740c54ed"
      },
      "outputs": [
        {
          "data": {
            "text/plain": [
              "46-element Vector{Float64}:\n",
              " 0.53228003974\n",
              " 0.5373185064069471\n",
              " 0.5382166209571608\n",
              " 0.5398450501860766\n",
              " 0.5427733123089858\n",
              " 0.5465044650424524\n",
              " 0.5509459839663585\n",
              " 0.5572135970096156\n",
              " 0.5655848233273594\n",
              " 0.5760350505372505\n",
              " 0.5875473603419642\n",
              " 0.6021215485977696\n",
              " 0.6161809163174726\n",
              " ⋮\n",
              " 0.8887159192554404\n",
              " 0.9155835166363424\n",
              " 0.9436724052026735\n",
              " 0.9724608926040965\n",
              " 0.9887887148616002\n",
              " 0.9963093384969534\n",
              " 0.9989981282730002\n",
              " 0.9997757837258517\n",
              " 0.9999617935198275\n",
              " 0.9999966229426862\n",
              " 0.9999998931589046\n",
              " 0.9999999385255235"
            ]
          },
          "execution_count": 246,
          "metadata": {},
          "output_type": "execute_result"
        }
      ],
      "source": [
        "z_values = sol.t\n",
        "xn_values = sol[1, :]\n",
        "xp_values = sol[2, :]"
      ],
      "id": "NLjnE26vNSmA"
    },
    {
      "cell_type": "code",
      "execution_count": null,
      "metadata": {
        "colab": {
          "base_uri": "https://localhost:8080/"
        },
        "id": "aFXm7jfJogww",
        "outputId": "b8c1db0e-9548-443e-d2bc-f42e0ab3ea13"
      },
      "outputs": [
        {
          "data": {
            "text/plain": [
              "46-element Vector{Float64}:\n",
              " 0.8787103128805368\n",
              " 0.861093537773355\n",
              " 0.8579879570081038\n",
              " 0.8523833823340882\n",
              " 0.8423897736348688\n",
              " 0.8298112164963202\n",
              " 0.8150599679497106\n",
              " 0.7946439307415968\n",
              " 0.768081388954107\n",
              " 0.7360054723533423\n",
              " 0.7019904564254721\n",
              " 0.6607942405130944\n",
              " 0.6228999852452014\n",
              " ⋮\n",
              " 0.1252189572994189\n",
              " 0.0921996539144641\n",
              " 0.05968977633210563\n",
              " 0.028318987020814194\n",
              " 0.011338403209800509\n",
              " 0.003704332942031759\n",
              " 0.0010028764805928183\n",
              " 0.00022426655836173487\n",
              " 3.820793996466755e-5\n",
              " 3.3770687196919026e-6\n",
              " 1.0684110826521854e-7\n",
              " 6.147448174950856e-8"
            ]
          },
          "execution_count": 247,
          "metadata": {},
          "output_type": "execute_result"
        }
      ],
      "source": [
        "xn_h=xn_values ./ xp_values"
      ],
      "id": "aFXm7jfJogww"
    },
    {
      "cell_type": "code",
      "execution_count": null,
      "metadata": {
        "colab": {
          "base_uri": "https://localhost:8080/",
          "height": 481
        },
        "id": "_4vlwyVSOLSK",
        "outputId": "5cac91e1-56fe-4bbc-cad8-c5044f0292c5"
      },
      "outputs": [
        {
          "data": {
            "image/png": "[encoded data removed]",
            "text/plain": [
              "Figure(PyObject <Figure size 640x480 with 1 Axes>)"
            ]
          },
          "metadata": {},
          "output_type": "display_data"
        },
        {
          "data": {
            "text/plain": [
              "PyObject Text(29.000000000000014, 0.5, 'Fractional Abundance')"
            ]
          },
          "execution_count": 248,
          "metadata": {},
          "output_type": "execute_result"
        }
      ],
      "source": [
        "plot(z_values, xn_values, linewidth=2, label=L\"$p$\")\n",
        "plot(z_values, xp_values, linewidth=2, label=L\"$n$\")\n",
        "yscale(\"log\")\n",
        "xscale(\"log\")\n",
        "xlabel(L\"$z=m_e/T_\\gamma$\", fontsize=14)\n",
        "ylabel(\"Fractional Abundance\", fontsize=14)"
      ],
      "id": "_4vlwyVSOLSK"
    },
    {
      "cell_type": "code",
      "execution_count": null,
      "metadata": {
        "colab": {
          "base_uri": "https://localhost:8080/"
        },
        "id": "pHD7NzJlGy_k",
        "outputId": "63ecb130-b7fb-4502-f5a9-5d0fbd5d8f44"
      },
      "outputs": [
        {
          "data": {
            "text/plain": [
              "mev_to_t9kelvin (generic function with 1 method)"
            ]
          },
          "execution_count": 249,
          "metadata": {},
          "output_type": "execute_result"
        }
      ],
      "source": [
        "function mev_to_t9kelvin(mev)\n",
        "    temp9_kelvin = mev * 11604525006.1598 / 10^9\n",
        "    return temp9_kelvin\n",
        "end\n"
      ],
      "id": "pHD7NzJlGy_k"
    },
    {
      "cell_type": "code",
      "execution_count": null,
      "metadata": {
        "colab": {
          "base_uri": "https://localhost:8080/"
        },
        "id": "jTFPf6T1fpa7",
        "outputId": "e5d75e32-ba0e-4fe0-e602-e7ecb7f06aaa"
      },
      "outputs": [
        {
          "data": {
            "text/plain": [
              "6.022e23"
            ]
          },
          "execution_count": 250,
          "metadata": {},
          "output_type": "execute_result"
        }
      ],
      "source": [
        "const NA=6.022e23"
      ],
      "id": "jTFPf6T1fpa7"
    },
    {
      "cell_type": "code",
      "execution_count": null,
      "metadata": {
        "colab": {
          "base_uri": "https://localhost:8080/"
        },
        "id": "G_-pihsh3P8g",
        "outputId": "beddc07a-1aca-4c6d-9733-6972eaa4ec8c"
      },
      "outputs": [
        {
          "data": {
            "text/plain": [
              "6.14e-10"
            ]
          },
          "execution_count": 253,
          "metadata": {},
          "output_type": "execute_result"
        }
      ],
      "source": [
        "eta_s=6.14e-10"
      ],
      "id": "G_-pihsh3P8g"
    },
    {
      "cell_type": "code",
      "execution_count": null,
      "metadata": {
        "colab": {
          "base_uri": "https://localhost:8080/"
        },
        "id": "rrSmjnUI5Dl7",
        "outputId": "d94994e3-5f59-42e3-85e1-f46be5fb0cef"
      },
      "outputs": [
        {
          "data": {
            "text/plain": [
              "n_b (generic function with 1 method)"
            ]
          },
          "execution_count": 254,
          "metadata": {},
          "output_type": "execute_result"
        }
      ],
      "source": [
        "function n_b(z)\n",
        "    T_mev = m_e / z\n",
        "    T_kelvin = T_mev * 11604525006.1598\n",
        "    n_bz = eta_s * 410.73 * (T_kelvin / 2.7255)^3\n",
        "    return n_bz\n",
        "end"
      ],
      "id": "rrSmjnUI5Dl7"
    },
    {
      "cell_type": "code",
      "execution_count": null,
      "metadata": {
        "colab": {
          "base_uri": "https://localhost:8080/"
        },
        "id": "fCYMv42Y7Ykg",
        "outputId": "85721bde-28c4-468a-db8c-d29dcf201c1a"
      },
      "outputs": [
        {
          "data": {
            "text/plain": [
              "D3He_p4He (generic function with 1 method)"
            ]
          },
          "execution_count": 255,
          "metadata": {},
          "output_type": "execute_result"
        }
      ],
      "source": [
        "function pn_gammaD(z)\n",
        "    T = m_e / z\n",
        "    T_9 = mev_to_t9kelvin(T)\n",
        "    if T_9 <= 1.5\n",
        "        f = (44216. * (1 + 3.75191 * T_9 + 1.92934 * T_9^2 + 0.746503 * T_9^3 + 0.0197023 * T_9^4 + 3.00491e-6 * T_9^5) /\n",
        "             (1 + 5.4678 * T_9 + 5.62395 * T_9^2 + 0.489312 * T_9^3 + 0.00747806 * T_9^4))\n",
        "    else\n",
        "        f = (1.0 - sqrt(T_9) * 0.8504 + T_9 * 0.4895 - T_9^(3/2) * 0.09623 + T_9 * 0.008471 * T_9 - T_9 * 2.8e-4 * T_9^(3/2)) * 47420.0\n",
        "    end\n",
        "    result = f\n",
        "    return n_b(z) * (result / NA)\n",
        "end\n",
        "\n",
        "\n",
        "function Dp_gamma3He(z)\n",
        "    T = m_e / z\n",
        "    T9 = mev_to_t9kelvin(T)\n",
        "    if T9 < 0.001\n",
        "        rate = 4.815e-14\n",
        "    elseif 0.001 <= T9 <= 0.0015\n",
        "        rate = 4.815e-14\n",
        "    elseif 0.0015 < T9 <= 0.0025\n",
        "        rate = 6.409e-9\n",
        "    elseif 0.0025 < T9 <= 0.0035\n",
        "        rate = 4.525e-7\n",
        "    elseif 0.0035 < T9 <= 0.0045\n",
        "        rate = 4.896e-6\n",
        "    elseif 0.0045 < T9 <= 0.0055\n",
        "        rate = 2.444e-5\n",
        "    elseif 0.0055 < T9 <= 0.0065\n",
        "        rate = 8.086e-5\n",
        "    elseif 0.0065 < T9 <= 0.0075\n",
        "        rate = 2.078e-4\n",
        "    elseif 0.0075 < T9 <= 0.0085\n",
        "        rate = 4.499e-4\n",
        "    elseif 0.0085 < T9 <= 0.0095\n",
        "        rate = 8.619e-4\n",
        "    elseif 0.0095 < T9 <= 0.0105\n",
        "        rate = 1.506e-3\n",
        "    elseif 0.0105 < T9 <= 0.0115\n",
        "        rate = 2.450e-3\n",
        "    elseif 0.0115 < T9 <= 0.0125\n",
        "        rate = 3.767e-3\n",
        "    elseif 0.0125 < T9 <= 0.0135\n",
        "        rate = 5.531e-3\n",
        "    elseif 0.0135 < T9 <= 0.0145\n",
        "        rate = 7.816e-3\n",
        "    elseif 0.0145 < T9 <= 0.0155\n",
        "        rate = 1.070e-2\n",
        "    elseif 0.0155 < T9 <= 0.0170\n",
        "        rate = 1.425e-2\n",
        "    elseif 0.0170 < T9 <= 0.0190\n",
        "        rate = 2.366e-2\n",
        "    elseif 0.0190 < T9 <= 0.0225\n",
        "        rate = 3.659e-2\n",
        "    elseif 0.0225 < T9 <= 0.0275\n",
        "        rate = 8.753e-2\n",
        "    elseif 0.0275 < T9 <= 0.0350\n",
        "        rate = 1.701e-1\n",
        "    elseif 0.0350 < T9 <= 0.0450\n",
        "        rate = 4.476e-1\n",
        "    elseif 0.0450 < T9 <= 0.0550\n",
        "        rate = 8.915e-1\n",
        "    elseif 0.0550 < T9 <= 0.0650\n",
        "        rate = 1.510\n",
        "    elseif 0.0650 < T9 <= 0.0750\n",
        "        rate = 2.302\n",
        "    elseif 0.0750 < T9 <= 0.0850\n",
        "        rate = 3.265\n",
        "    elseif 0.0850 < T9 <= 0.0950\n",
        "        rate = 4.392\n",
        "    elseif 0.0950 < T9 <= 0.1050\n",
        "        rate = 5.676\n",
        "    elseif 0.1050 < T9 <= 0.1150\n",
        "        rate = 7.109\n",
        "    elseif 0.1150 < T9 <= 0.1250\n",
        "        rate = 8.685\n",
        "    elseif 0.1250 < T9 <= 0.1350\n",
        "        rate = 1.040e1\n",
        "    elseif 0.1350 < T9 <= 0.1450\n",
        "        rate = 1.224e1\n",
        "    elseif 0.1450 < T9 <= 0.1550\n",
        "        rate = 1.420e1\n",
        "    elseif 0.1550 < T9 <= 0.1700\n",
        "        rate = 1.628e1\n",
        "    elseif 0.1700 < T9 <= 0.1900\n",
        "        rate = 2.076e1\n",
        "    elseif 0.1900 < T9 <= 0.2250\n",
        "        rate = 2.565e1\n",
        "    elseif 0.2250 < T9 <= 0.2750\n",
        "        rate = 3.941e1\n",
        "    elseif 0.2750 < T9 <= 0.3250\n",
        "        rate = 5.505e1\n",
        "    elseif 0.3250 < T9 <= 0.3750\n",
        "        rate = 7.225e1\n",
        "    elseif 0.3750 < T9 <= 0.4250\n",
        "        rate = 9.076e1\n",
        "    elseif 0.4250 < T9 <= 0.4750\n",
        "        rate = 1.104e2\n",
        "    elseif 0.4750 < T9 <= 0.5500\n",
        "        rate = 1.310e2\n",
        "    elseif 0.5500 < T9 <= 0.6500\n",
        "        rate = 1.748e2\n",
        "    elseif 0.6500 < T9 <= 0.7500\n",
        "        rate = 2.212e2\n",
        "    elseif 0.7500 < T9 <= 0.8500\n",
        "        rate = 2.700e2\n",
        "    elseif 0.8500 < T9 <= 0.9500\n",
        "        rate = 3.207e2\n",
        "    elseif 0.9500 < T9 <= 1.1250\n",
        "        rate = 3.729e2\n",
        "    elseif 1.1250 < T9 <= 1.3750\n",
        "        rate = 5.093e2\n",
        "    elseif 1.3750 < T9 <= 1.6250\n",
        "        rate = 6.522e2\n",
        "    elseif 1.6250 < T9 <= 1.8750\n",
        "        rate = 8.000e2\n",
        "    elseif 1.8750 < T9 <= 2.2500\n",
        "        rate = 9.517e2\n",
        "    elseif 2.2500 < T9 <= 2.7500\n",
        "        rate = 1.265e3\n",
        "    elseif 2.7500 < T9 <= 3.2500\n",
        "        rate = 1.587e3\n",
        "    elseif 3.2500 < T9 <= 3.7500\n",
        "        rate = 1.914e3\n",
        "    elseif 3.7500 < T9 <= 4.5000\n",
        "        rate = 2.244e3\n",
        "    elseif 4.5000 < T9 <= 5.5000\n",
        "        rate = 2.905e3\n",
        "    elseif 5.5000 < T9 <= 6.5000\n",
        "        rate = 3.557e3\n",
        "    elseif 6.5000 < T9 <= 7.5000\n",
        "        rate = 4.194e3\n",
        "    elseif 7.5000 < T9 <= 8.5000\n",
        "        rate = 4.812e3\n",
        "    elseif 8.5000 < T9 <= 9.5000\n",
        "        rate = 5.410e3\n",
        "    elseif 9.5000 < T9 <= 10.0000\n",
        "        rate = 5.988e3\n",
        "    else\n",
        "        rate = 0.0\n",
        "    end\n",
        "    return (n_b(z)*rate / NA)\n",
        "end\n",
        "\n",
        "\n",
        "\n",
        "function DD_n3He(z)\n",
        "    T9 = mev_to_t9kelvin(m_e / z)\n",
        "    if T9 < 0.001\n",
        "        rate = 1.142e-8\n",
        "    elseif 0.001 <= T9 <= 0.0015\n",
        "        rate = 1.142e-8\n",
        "    elseif 0.0015 < T9 <= 0.0025\n",
        "        rate = 5.470e-5\n",
        "    elseif 0.0025 < T9 <= 0.0035\n",
        "        rate = 3.021e-3\n",
        "    elseif 0.0035 < T9 <= 0.0045\n",
        "        rate = 3.732e-2\n",
        "    elseif 0.0045 < T9 <= 0.0055\n",
        "        rate = 2.212e-1\n",
        "    elseif 0.0055 < T9 <= 0.0065\n",
        "        rate = 8.546e-1\n",
        "    elseif 0.0065 < T9 <= 0.0075\n",
        "        rate = 2.505\n",
        "    elseif 0.0075 < T9 <= 0.0085\n",
        "        rate = 6.066\n",
        "    elseif 0.0085 < T9 <= 0.0095\n",
        "        rate = 1.278e1\n",
        "    elseif 0.0095 < T9 <= 0.0105\n",
        "        rate = 2.424e1\n",
        "    elseif 0.0105 < T9 <= 0.0115\n",
        "        rate = 4.237e1\n",
        "    elseif 0.0115 < T9 <= 0.0125\n",
        "        rate = 6.936e1\n",
        "    elseif 0.0125 < T9 <= 0.0135\n",
        "        rate = 1.077e2\n",
        "    elseif 0.0135 < T9 <= 0.0145\n",
        "        rate = 1.600e2\n",
        "    elseif 0.0145 < T9 <= 0.0155\n",
        "        rate = 2.291e2\n",
        "    elseif 0.0155 < T9 <= 0.0170\n",
        "        rate = 3.179e2\n",
        "    elseif 0.0170 < T9 <= 0.0190\n",
        "        rate = 5.667e2\n",
        "    elseif 0.0190 < T9 <= 0.0225\n",
        "        rate = 9.310e2\n",
        "    elseif 0.0225 < T9 <= 0.0275\n",
        "        rate = 2.504e3\n",
        "    elseif 0.0275 < T9 <= 0.0350\n",
        "        rate = 5.301e3\n",
        "    elseif 0.0350 < T9 <= 0.0450\n",
        "        rate = 1.568e4\n",
        "    elseif 0.0450 < T9 <= 0.0550\n",
        "        rate = 3.369e4\n",
        "    elseif 0.0550 < T9 <= 0.0650\n",
        "        rate = 6.013e4\n",
        "    elseif 0.0650 < T9 <= 0.0750\n",
        "        rate = 9.527e4\n",
        "    elseif 0.0750 < T9 <= 0.0850\n",
        "        rate = 1.390e5\n",
        "    elseif 0.0850 < T9 <= 0.0950\n",
        "        rate = 1.912e5\n",
        "    elseif 0.0950 < T9 <= 0.1050\n",
        "        rate = 2.513e5\n",
        "    elseif 0.1050 < T9 <= 0.1150\n",
        "        rate = 3.190e5\n",
        "    elseif 0.1150 < T9 <= 0.1250\n",
        "        rate = 3.938e5\n",
        "    elseif 0.1250 < T9 <= 0.1350\n",
        "        rate = 4.753e5\n",
        "    elseif 0.1350 < T9 <= 0.1450\n",
        "        rate = 5.631e5\n",
        "    elseif 0.1450 < T9 <= 0.1550\n",
        "        rate = 6.568e5\n",
        "    elseif 0.1550 < T9 <= 0.1700\n",
        "        rate = 7.559e5\n",
        "    elseif 0.1700 < T9 <= 0.1900\n",
        "        rate = 9.691e5\n",
        "    elseif 0.1900 < T9 <= 0.2250\n",
        "        rate = 1.200e6\n",
        "    elseif 0.2250 < T9 <= 0.2750\n",
        "        rate = 1.842e6\n",
        "    elseif 0.2750 < T9 <= 0.3250\n",
        "        rate = 2.555e6\n",
        "    elseif 0.3250 < T9 <= 0.3750\n",
        "        rate = 3.318e6\n",
        "    elseif 0.3750 < T9 <= 0.4250\n",
        "        rate = 4.119e6\n",
        "    elseif 0.4250 < T9 <= 0.4750\n",
        "        rate = 4.946e6\n",
        "    elseif 0.4750 < T9 <= 0.5500\n",
        "        rate = 5.792e6\n",
        "    elseif 0.5500 < T9 <= 0.6500\n",
        "        rate = 7.517e6\n",
        "    elseif 0.6500 < T9 <= 0.7500\n",
        "        rate = 9.260e6\n",
        "    elseif 0.7500 < T9 <= 0.8500\n",
        "        rate = 1.100e7\n",
        "    elseif 0.8500 < T9 <= 0.9500\n",
        "        rate = 1.272e7\n",
        "    elseif 0.9500 < T9 <= 1.1250\n",
        "        rate = 1.442e7\n",
        "    elseif 1.1250 < T9 <= 1.3750\n",
        "        rate = 1.850e7\n",
        "    elseif 1.3750 < T9 <= 1.6250\n",
        "        rate = 2.235e7\n",
        "    elseif 1.6250 < T9 <= 1.8750\n",
        "        rate = 2.595e7\n",
        "    elseif 1.8750 < T9 <= 2.2500\n",
        "        rate = 2.932e7\n",
        "    elseif 2.2500 < T9 <= 2.7500\n",
        "        rate = 3.546e7\n",
        "    elseif 2.7500 < T9 <= 3.2500\n",
        "        rate = 4.093e7\n",
        "    elseif 3.2500 < T9 <= 3.7500\n",
        "        rate = 4.585e7\n",
        "    elseif 3.7500 < T9 <= 4.5000\n",
        "        rate = 5.031e7\n",
        "    elseif 4.5000 < T9 <= 5.5000\n",
        "        rate = 5.816e7\n",
        "    elseif 5.5000 < T9 <= 6.5000\n",
        "        rate = 6.488e7\n",
        "    elseif 6.5000 < T9 <= 7.5000\n",
        "        rate = 7.072e7\n",
        "    elseif 7.5000 < T9 <= 8.5000\n",
        "        rate = 7.583e7\n",
        "    elseif 8.5000 < T9 <= 9.5000\n",
        "        rate = 8.037e7\n",
        "    elseif 9.5000 < T9 <= 10.0000\n",
        "        rate = 8.437e7\n",
        "    else\n",
        "        rate = 0.0\n",
        "    end\n",
        "    return (n_b(z)*rate / NA)\n",
        "end\n",
        "\n",
        "\n",
        "\n",
        "function DD_p3H(z)\n",
        "    T = m_e / z\n",
        "    T9 = mev_to_t9kelvin(T)\n",
        "\n",
        "    if T9 < 0.001\n",
        "        rate = 1.173e-8\n",
        "    elseif 0.001 <= T9 <= 0.0015\n",
        "        rate = 1.173e-8\n",
        "    elseif 0.0015 < T9 <= 0.0025\n",
        "        rate = 5.609e-5\n",
        "    elseif 0.0025 < T9 <= 0.0035\n",
        "        rate = 3.092e-3\n",
        "    elseif 0.0035 < T9 <= 0.0045\n",
        "        rate = 3.814e-2\n",
        "    elseif 0.0045 < T9 <= 0.0055\n",
        "        rate = 2.257e-1\n",
        "    elseif 0.0055 < T9 <= 0.0065\n",
        "        rate = 8.707e-1\n",
        "    elseif 0.0065 < T9 <= 0.0075\n",
        "        rate = 2.549\n",
        "    elseif 0.0075 < T9 <= 0.0085\n",
        "        rate = 6.164\n",
        "    elseif 0.0085 < T9 <= 0.0095\n",
        "        rate = 1.297e1\n",
        "    elseif 0.0095 < T9 <= 0.0105\n",
        "        rate = 2.458e1\n",
        "    elseif 0.0105 < T9 <= 0.0115\n",
        "        rate = 4.290e1\n",
        "    elseif 0.0115 < T9 <= 0.0125\n",
        "        rate = 7.016e1\n",
        "    elseif 0.0125 < T9 <= 0.0135\n",
        "        rate = 1.088e2\n",
        "    elseif 0.0135 < T9 <= 0.0145\n",
        "        rate = 1.615e2\n",
        "    elseif 0.0145 < T9 <= 0.0155\n",
        "        rate = 2.310e2\n",
        "    elseif 0.0155 < T9 <= 0.0170\n",
        "        rate = 3.202e2\n",
        "    elseif 0.0170 < T9 <= 0.0190\n",
        "        rate = 5.698e2\n",
        "    elseif 0.0190 < T9 <= 0.0225\n",
        "        rate = 9.343e2\n",
        "    elseif 0.0225 < T9 <= 0.0275\n",
        "        rate = 2.502e3\n",
        "    elseif 0.0275 < T9 <= 0.0350\n",
        "        rate = 5.276e3\n",
        "    elseif 0.0350 < T9 <= 0.0450\n",
        "        rate = 1.549e4\n",
        "    elseif 0.0450 < T9 <= 0.0550\n",
        "        rate = 3.307e4\n",
        "    elseif 0.0550 < T9 <= 0.0650\n",
        "        rate = 5.868e4\n",
        "    elseif 0.0650 < T9 <= 0.0750\n",
        "        rate = 9.246e4\n",
        "    elseif 0.0750 < T9 <= 0.0850\n",
        "        rate = 1.343e5\n",
        "    elseif 0.0850 < T9 <= 0.0950\n",
        "        rate = 1.837e5\n",
        "    elseif 0.0950 < T9 <= 0.1050\n",
        "        rate = 2.404e5\n",
        "    elseif 0.1050 < T9 <= 0.1150\n",
        "        rate = 3.039e5\n",
        "    elseif 0.1150 < T9 <= 0.1250\n",
        "        rate = 3.737e5\n",
        "    elseif 0.1250 < T9 <= 0.1350\n",
        "        rate = 4.493e5\n",
        "    elseif 0.1350 < T9 <= 0.1450\n",
        "        rate = 5.304e5\n",
        "    elseif 0.1450 < T9 <= 0.1550\n",
        "        rate = 6.165e5\n",
        "    elseif 0.1550 < T9 <= 0.1700\n",
        "        rate = 7.072e5\n",
        "    elseif 0.1700 < T9 <= 0.1900\n",
        "        rate = 9.011e5\n",
        "    elseif 0.1900 < T9 <= 0.2250\n",
        "        rate = 1.110e6\n",
        "    elseif 0.2250 < T9 <= 0.2750\n",
        "        rate = 1.682e6\n",
        "    elseif 0.2750 < T9 <= 0.3250\n",
        "        rate = 2.309e6\n",
        "    elseif 0.3250 < T9 <= 0.3750\n",
        "        rate = 2.974e6\n",
        "    elseif 0.3750 < T9 <= 0.4250\n",
        "        rate = 3.663e6\n",
        "    elseif 0.4250 < T9 <= 0.4750\n",
        "        rate = 4.371e6\n",
        "    elseif 0.4750 < T9 <= 0.5500\n",
        "        rate = 5.089e6\n",
        "    elseif 0.5500 < T9 <= 0.6500\n",
        "        rate = 6.543e6\n",
        "    elseif 0.6500 < T9 <= 0.7500\n",
        "        rate = 8.001e6\n",
        "    elseif 0.7500 < T9 <= 0.8500\n",
        "        rate = 9.448e6\n",
        "    elseif 0.8500 < T9 <= 0.9500\n",
        "        rate = 1.087e7\n",
        "    elseif 0.9500 < T9 <= 1.1250\n",
        "        rate = 1.228e7\n",
        "    elseif 1.1250 < T9 <= 1.3750\n",
        "        rate = 1.565e7\n",
        "    elseif 1.3750 < T9 <= 1.6250\n",
        "        rate = 2.882e7\n",
        "    elseif 1.6250 < T9 <= 1.8750\n",
        "        rate = 2.181e7\n",
        "    elseif 1.8750 < T9 <= 2.2500\n",
        "        rate = 2.461e7\n",
        "    elseif 2.2500 < T9 <= 2.7500\n",
        "        rate = 2.976e7\n",
        "    elseif 2.7500 < T9 <= 3.2500\n",
        "        rate = 3.440e7\n",
        "    elseif 3.2500 < T9 <= 3.7500\n",
        "        rate = 3.863e7\n",
        "    elseif 3.7500 < T9 <= 4.5000\n",
        "        rate = 4.251e7\n",
        "    elseif 4.5000 < T9 <= 5.5000\n",
        "        rate = 4.946e7\n",
        "    elseif 5.5000 < T9 <= 6.5000\n",
        "        rate = 5.552e7\n",
        "    elseif 6.5000 < T9 <= 7.5000\n",
        "        rate = 6.077e7\n",
        "    elseif 7.5000 < T9 <= 8.5000\n",
        "        rate = 6.529e7\n",
        "    elseif 8.5000 < T9 <= 9.5000\n",
        "        rate = 6.912e7\n",
        "    elseif 9.5000 < T9 <= 10.0000\n",
        "        rate = 7.228e7\n",
        "    else\n",
        "        rate = 0.0\n",
        "    end\n",
        "\n",
        "    rate =rate/NA\n",
        "    return (n_b(z)*rate)\n",
        "end\n",
        "\n",
        "function n3He_p3h(z)\n",
        "    T = m_e / z\n",
        "    T9 = mev_to_t9kelvin(T)\n",
        "\n",
        "    if T9 < 2.5\n",
        "        rate = (7.064935e8 + 6.733213571736319e8 * T9 + 1.7181155480346258e9 * T9 * T9 -\n",
        "                4.5367658146835446e8 * T9 * T9 * T9 - 1.2216728981712557e8 * T9^4 -\n",
        "                4.92736677238425e8 * sqrt(T9) - 1.3659670893994067e9 * T9^(3/2) -\n",
        "                6.629932739639357e8 * T9^(5/2) + 4.834951929033479e8 * T9^(7/2))\n",
        "    else\n",
        "        rate = 4.81732e8\n",
        "    end\n",
        "\n",
        "    return (n_b(z)*rate / NA)\n",
        "end\n",
        "\n",
        "function D3H_4Hen(z)\n",
        "    T = m_e / z\n",
        "    T9 = mev_to_t9kelvin(T)\n",
        "\n",
        "    if T9 < 2.5\n",
        "        factor1 = 6.2265733e8 / (exp(0.49711597 / T9) * T9^0.56785403)\n",
        "        factor2 = exp(-0.23309803 * T9^2 - 1.342742 * T9^(-1/3))\n",
        "        factor3 = (-8.1144927e7 + 2.2315324e9 * T9 - 2.9439669e9 * T9^2\n",
        "                   + 1.8764462e9 * T9^3 - 6.0511612e8 * T9^4\n",
        "                   + 9.5196576e7 * T9^5\n",
        "                   - 5.2901086e6 * T9^6) * T9^(-2/3)\n",
        "        rate = factor1 + factor2 * factor3\n",
        "    else\n",
        "        rate = 3.40249e8\n",
        "    end\n",
        "\n",
        "    return (n_b(z)*rate / NA)\n",
        "end\n",
        "\n",
        "function D3He_p4He(z)\n",
        "    T = m_e / z\n",
        "    T9 = mev_to_t9kelvin(T)\n",
        "\n",
        "    if T9 < 2.5\n",
        "        factor1 = 3.1038385e8 / (exp(1.6190981 / T9) * T9^0.12159455)\n",
        "        factor2 = exp(-0.0062340825 * T9^2 - 1.4540617 * T9^(-1/3))\n",
        "        factor3 = (-3.1335916e7 - 6.2051071e8 * T9 - 1.8782248e9 * T9^2\n",
        "                   + 6.5642773e8 * T9^3 + 1.530887e8 * T9^4\n",
        "                   - 4.9542138e8 * T9^(10/3)\n",
        "                   - 1.770285e8 * T9^(11/3) + 1.14185e8 * T9^(1/3)\n",
        "                   - 2.516526e7 * T9^(13/3) + 1.7500204e8 * T9^(2/3)\n",
        "                   - 1.7513362e9 * T9^(4/3) + 5.2792247e9 * T9^(5/3)\n",
        "                   - 3.32382e9 * T9^(7/3) + 2.0346284e9 * T9^(8/3)) * T9^(-2/3)\n",
        "        rate = factor1 + factor2 * factor3\n",
        "    else\n",
        "        rate = 1.55167e8\n",
        "    end\n",
        "\n",
        "    return (n_b(z)*rate / NA)\n",
        "end\n",
        "\n"
      ],
      "id": "fCYMv42Y7Ykg"
    },
    {
      "cell_type": "code",
      "execution_count": null,
      "metadata": {
        "colab": {
          "base_uri": "https://localhost:8080/"
        },
        "id": "4GkdrtJk-VAB",
        "outputId": "26ac7d43-7d32-4e63-b1cb-ec7a5005d855"
      },
      "outputs": [
        {
          "data": {
            "text/plain": [
              "sigma_v_cd (generic function with 1 method)"
            ]
          },
          "execution_count": 256,
          "metadata": {},
          "output_type": "execute_result"
        }
      ],
      "source": [
        "\n",
        "  # Importing the necessary package\n",
        "\n",
        "function threegamma_1two(sigma_v_ab, T, mu_ab, ga, gb, gc, Q)\n",
        "    c_gamma = (T / (2 * π))^(3 / 2) * (mu_ab)^(3 / 2) * (ga * gb / gc) * exp(-Q / T)\n",
        "    ngamma_sigma_v_cgamma = sigma_v_ab * c_gamma\n",
        "    return ngamma_sigma_v_cgamma\n",
        "end\n",
        "\n",
        "function sigma_v_cd(sigma_v_ab, T, mu_ab, mu_cd, ga, gb, gc, gd, Q)\n",
        "    ratio_rate = (mu_ab / mu_cd)^(3 / 2) * ((ga * gb) / (gc * gd)) * exp(-Q / T)\n",
        "    sigma_cd = sigma_v_ab * ratio_rate\n",
        "    return sigma_cd\n",
        "end\n",
        "\n"
      ],
      "id": "4GkdrtJk-VAB"
    },
    {
      "cell_type": "code",
      "execution_count": null,
      "metadata": {
        "id": "adL3GFYZRWOi"
      },
      "outputs": [],
      "source": [
        "using SpecialFunctions"
      ],
      "id": "adL3GFYZRWOi"
    },
    {
      "cell_type": "code",
      "execution_count": null,
      "metadata": {
        "colab": {
          "base_uri": "https://localhost:8080/"
        },
        "id": "WUlT5XRO-YIz",
        "outputId": "a1d29d31-6580-45ab-a7f0-6dd04ac0fd05"
      },
      "outputs": [
        {
          "data": {
            "text/plain": [
              "D3He_p4He_reverse (generic function with 1 method)"
            ]
          },
          "execution_count": 258,
          "metadata": {},
          "output_type": "execute_result"
        }
      ],
      "source": [
        "function pn_gammaD_reverse(z)\n",
        "    T=m_e/z\n",
        "    T9=mev_to_t9kelvin(T)\n",
        "    alpha = 4.71614e+09\n",
        "    beta = 1.5\n",
        "    gamma = -25.815\n",
        "    reverse_rate = alpha * T9^beta * exp(gamma / T9) * (pn_gammaD(z) * (NA / n_b(z)))\n",
        "    return reverse_rate\n",
        "end\n",
        "\n",
        "\n",
        "\n",
        "function Dp_gamma3He_reverse(z)\n",
        "    T=m_e/z\n",
        "    T9=mev_to_t9kelvin(T)\n",
        "    alpha = 1.6335e+10\n",
        "    beta = 1.5\n",
        "    gamma = -63.7491\n",
        "    reverse_rate =  alpha * T9^beta * exp(gamma / T9) * (Dp_gamma3He(z) * (NA / n_b(z)))\n",
        "    return reverse_rate\n",
        "end\n",
        "\n",
        "\n",
        "function DD_n3He_reverse(z)\n",
        "    T=m_e/z\n",
        "    T9=mev_to_t9kelvin(T)\n",
        "    alpha = 1.73183e+00\n",
        "    beta = 0\n",
        "    gamma = -37.9341\n",
        "    reverse_rate =  alpha * T9^beta * exp(gamma / T9) * (DD_n3He(z))\n",
        "    return reverse_rate\n",
        "end\n",
        "\n",
        "\n",
        "function DD_p3H_reverse(z)\n",
        "    T=m_e/z\n",
        "    T9=mev_to_t9kelvin(T)\n",
        "    alpha = 1.73492e+00\n",
        "    beta = 0\n",
        "    gamma = -46.7971\n",
        "    reverse_rate =  alpha * T9^beta * exp(gamma / T9) * (DD_p3H(z))\n",
        "    return reverse_rate\n",
        "end\n",
        "\n",
        "function n3He_p3h_reverse(z)\n",
        "    T=m_e/z\n",
        "    T9=mev_to_t9kelvin(T)\n",
        "    alpha = 1.00178e+00\n",
        "    beta = 0.0\n",
        "    gamma = -8.8630\n",
        "    reverse_rate =  alpha * T9^beta * exp(gamma / T9) * (n3He_p3h(z))\n",
        "    return reverse_rate\n",
        "end\n",
        "\n",
        "\n",
        "function D3H_4Hen_reverse(z)\n",
        "    T=m_e/z\n",
        "    T9=mev_to_t9kelvin(T)\n",
        "    alpha = 5.5369e+00\n",
        "    beta = 0\n",
        "    gamma = -204.1236\n",
        "    reverse_rate =  alpha * T9^beta * exp(gamma / T9) * (D3H_4Hen(z))\n",
        "    return reverse_rate\n",
        "end\n",
        "\n",
        "function D3He_p4He_reverse(z)\n",
        "    T=m_e/z\n",
        "    T9=mev_to_t9kelvin(T)\n",
        "    alpha = 5.5438e+00\n",
        "    beta = 0\n",
        "    gamma = -212.987\n",
        "    reverse_rate =  alpha * T9^beta * exp(gamma / T9) * (D3He_p4He(z))\n",
        "    return reverse_rate\n",
        "end\n",
        "\n"
      ],
      "id": "WUlT5XRO-YIz"
    },
    {
      "cell_type": "code",
      "execution_count": null,
      "metadata": {
        "colab": {
          "base_uri": "https://localhost:8080/"
        },
        "id": "IzycNsCH_yAd",
        "outputId": "73c3cce2-775a-469c-a7d7-1ea8475e5dba"
      },
      "outputs": [
        {
          "data": {
            "text/plain": [
              "coff_D3H_4Hen (generic function with 1 method)"
            ]
          },
          "execution_count": 271,
          "metadata": {},
          "output_type": "execute_result"
        }
      ],
      "source": [
        "\n",
        "# T-1\n",
        "function coff_gammaD_pn(z,xn,xp,xd)\n",
        "    return (pn_gammaD_reverse(z) * xd - pn_gammaD(z) * xp * xn)\n",
        "end\n",
        "\n",
        "# T-2\n",
        "function coff_gamma3He_Dp(z,x_3He,xd,xp)\n",
        "    return (Dp_gamma3He_reverse(z) * x_3He - Dp_gamma3He(z) * xd * xp)\n",
        "end\n",
        "\n",
        "# T-3\n",
        "function coff_DD_p3H(z,xd,xp,x_3H)\n",
        "    return (DD_p3H(z) * xd^2/2  - DD_p3H_reverse(z) * xp * x_3H)\n",
        "end\n",
        "\n",
        "# T-4\n",
        "function coff_n3he_p3h(z,xn,x_3He,x_3H,xp)\n",
        "    return (n3He_p3h(z) * x_3He * xn - n3He_p3h_reverse(z) * xp * x_3H)\n",
        "end\n",
        "\n",
        "# T-5\n",
        "function coff_D3He_p4He(z,x_3He,xd,xp,x_4He)\n",
        "    return (D3He_p4He(z) * x_3He * xd - D3He_p4He_reverse(z) * xp * x_4He)\n",
        "end\n",
        "\n",
        "# T-6\n",
        "function coff_DD_n3He(z,xd,xn,x_3He)\n",
        "    return (DD_n3He(z) * xd^2/2 - DD_n3He_reverse(z) * xn * x_3He)\n",
        "end\n",
        "\n",
        "# T-7\n",
        "function coff_D3H_4Hen(z,xd,x_3H,x_4He,xn)\n",
        "    return (D3H_4Hen(z) * x_3H * xd - D3H_4Hen_reverse(z) * xn * x_4He)\n",
        "end\n",
        "\n"
      ],
      "id": "IzycNsCH_yAd"
    },
    {
      "cell_type": "code",
      "execution_count": null,
      "metadata": {
        "colab": {
          "base_uri": "https://localhost:8080/"
        },
        "id": "iCP7rnAm-jk1",
        "outputId": "2913fb70-1811-4aa7-b2ee-91b0364eec5e"
      },
      "outputs": [
        {
          "data": {
            "text/plain": [
              "x4He_rates (generic function with 1 method)"
            ]
          },
          "execution_count": 272,
          "metadata": {},
          "output_type": "execute_result"
        }
      ],
      "source": [
        "\n",
        "function xp_rates(z,xn,xp,xd,x_3H,x_3He,x_4He)\n",
        "    value = (lambda_np(z) * xn - lambda_pn(z) * xp + coff_gammaD_pn(z, xn, xp, xd) + coff_gamma3He_Dp(z, x_3He, xd, xp) +\n",
        "             coff_DD_p3H(z, xd, xp, x_3H) + coff_n3he_p3h(z, xn, x_3He, x_3H, xp) + coff_D3He_p4He(z, x_3He, xd, xp, x_4He)) * dt_dz(z)\n",
        "    return value\n",
        "end\n",
        "\n",
        "function xn_rates(z,xn,xp,xd,x_3H,x_3He,x_4He)\n",
        "    value = (lambda_pn(z) * xp - lambda_np(z) * xn + coff_gammaD_pn(z, xn, xp, xd) + coff_DD_n3He(z, xd, xn, x_3He) - coff_n3he_p3h(z, xn, x_3He, x_3H, xp) +\n",
        "             coff_D3H_4Hen(z, xd, x_3H, x_4He, xn)) * dt_dz(z)\n",
        "    return value\n",
        "end\n",
        "\n",
        "function xd_rates(z,xn,xp,xd,x_3H,x_3He,x_4He)\n",
        "    value = (-coff_gammaD_pn(z, xn, xp, xd) + coff_gamma3He_Dp(z, x_3He, xd, xp) + 2 * (-coff_DD_n3He(z, xd, xn, x_3He)) + 2 * (-coff_DD_p3H(z, xd, xp, x_3H)) -\n",
        "             coff_D3H_4Hen(z, xd, x_3H, x_4He, xn) - coff_D3He_p4He(z, x_3He, xd, xp, x_4He)) * dt_dz(z)\n",
        "    return value\n",
        "end\n",
        "\n",
        "function x3H_rates(z,xn,xp,xd,x_3H,x_3He,x_4He)\n",
        "    value = (coff_DD_p3H(z, xd, xp, x_3H) + coff_n3he_p3h(z, xn, x_3He, x_3H, xp) - coff_D3H_4Hen(z, xd, x_3H, x_4He, xn)) * dt_dz(z)\n",
        "    return value\n",
        "end\n",
        "\n",
        "function x3He_rates(z,xn,xp,xd,x_3H,x_3He,x_4He)\n",
        "    value = (-coff_gamma3He_Dp(z, x_3He, xd, xp) + coff_DD_n3He(z, xd, xn, x_3He) - coff_n3he_p3h(z, xn, x_3He, x_3H, xp) - coff_D3He_p4He(z, x_3He, xd, xp, x_4He)) * dt_dz(z)\n",
        "    return value\n",
        "end\n",
        "\n",
        "function x4He_rates(z,xn,xp,xd,x_3H,x_3He,x_4He)\n",
        "    value = (coff_D3He_p4He(z, x_3He, xd, xp, x_4He)+coff_D3H_4Hen(z, xd, x_3H, x_4He, xn)) * dt_dz(z)\n",
        "    return value\n",
        "end\n",
        "\n"
      ],
      "id": "iCP7rnAm-jk1"
    },
    {
      "cell_type": "code",
      "execution_count": null,
      "metadata": {
        "colab": {
          "base_uri": "https://localhost:8080/"
        },
        "id": "D0xKrG68_VR7",
        "outputId": "e2e12e96-0f26-4533-f18a-63dab93a233d"
      },
      "outputs": [
        {
          "data": {
            "text/plain": [
              "Xn_in (generic function with 1 method)"
            ]
          },
          "execution_count": 273,
          "metadata": {},
          "output_type": "execute_result"
        }
      ],
      "source": [
        "function Xp_in(z)\n",
        "    initial_val = 1 / (exp(-2.530 * z) + 1)\n",
        "    return initial_val\n",
        "end\n",
        "\n",
        "function Xn_in(z)\n",
        "    initial_val = 1 / (exp(2.530 * z) + 1)\n",
        "    return initial_val\n",
        "end\n"
      ],
      "id": "D0xKrG68_VR7"
    },
    {
      "cell_type": "code",
      "execution_count": null,
      "metadata": {
        "colab": {
          "base_uri": "https://localhost:8080/"
        },
        "id": "hbESzN_M_jy_",
        "outputId": "b4585f7a-5579-4adf-d68d-1b468e908328"
      },
      "outputs": [
        {
          "data": {
            "text/plain": [
              "Xi (generic function with 1 method)"
            ]
          },
          "execution_count": 274,
          "metadata": {},
          "output_type": "execute_result"
        }
      ],
      "source": [
        "using SpecialFunctions\n",
        "\n",
        "function Xi(z_in, g_i, Ai, m_e, m_p, m_n, MN, eta_i, Bi, Zi)\n",
        "    Xp = Xp_in(z_in)\n",
        "    Xn = Xn_in(z_in)\n",
        "\n",
        "    term1 = g_i / 2\n",
        "    term2 = (zeta(3) * sqrt(8 / π))^(Ai - 1)\n",
        "    term3 = (MN / (m_p^Zi * m_n^(Ai - Zi)))^(3 / 2)\n",
        "    term4 = (m_e / z_in)^(3 / 2) * (Ai - 1)\n",
        "    term5 = eta_i^(Ai - 1)\n",
        "    term6 = Xp^Zi\n",
        "    term7 = Xn^(Ai - Zi)\n",
        "    term8 = exp(Bi * z_in)\n",
        "\n",
        "    result = term1 * term2 * term3 * term4 * term5 * term6 * term7 * term8\n",
        "\n",
        "    return result\n",
        "end\n",
        "\n"
      ],
      "id": "hbESzN_M_jy_"
    },
    {
      "cell_type": "code",
      "execution_count": null,
      "metadata": {
        "colab": {
          "base_uri": "https://localhost:8080/"
        },
        "id": "VB6l5VnCPi89",
        "outputId": "4003d86b-0e78-4716-d2ac-91de101f9a85"
      },
      "outputs": [
        {
          "data": {
            "text/plain": [
              "1000-element LinRange{Float64, Int64}:\n",
              " 0.09, 0.13996, 0.18992, 0.23988, 0.28984, …, 49.8501, 49.9001, 49.95, 50.0"
            ]
          },
          "execution_count": 316,
          "metadata": {},
          "output_type": "execute_result"
        }
      ],
      "source": [
        "using LinearAlgebra\n",
        "z_evolve = LinRange(0.09,50, 1000)"
      ],
      "id": "VB6l5VnCPi89"
    },
    {
      "cell_type": "code",
      "execution_count": null,
      "metadata": {
        "colab": {
          "base_uri": "https://localhost:8080/"
        },
        "id": "upOvyg9NnpJN",
        "outputId": "b17ad20b-f4a7-4963-f370-9ed4f0a87492"
      },
      "outputs": [
        {
          "data": {
            "text/plain": [
              "100-element LinRange{Float64, Int64}:\n",
              " 1.0e-10, 1.09091e-10, 1.18182e-10, …, 9.81818e-10, 9.90909e-10, 1.0e-9"
            ]
          },
          "execution_count": 317,
          "metadata": {},
          "output_type": "execute_result"
        }
      ],
      "source": [
        "eta_val=LinRange(1.e-10,1.e-9,100)"
      ],
      "id": "upOvyg9NnpJN"
    },
    {
      "cell_type": "code",
      "execution_count": null,
      "metadata": {
        "id": "_qJ1C-MOfLz6"
      },
      "outputs": [],
      "source": [
        "#xp_rate(z, xn, xp, xd, x_3He, x_3H, x_4He)\n",
        "#xn_rate(z, xp, xn, xd, x_3He, x_3H, x_4He)\n",
        "#1=p\n",
        "#2=n\n",
        "#3=d\n",
        "#4=3H\n",
        "#5=3He\n",
        "#6=4He"
      ],
      "id": "_qJ1C-MOfLz6"
    },
    {
      "cell_type": "code",
      "execution_count": null,
      "metadata": {
        "colab": {
          "base_uri": "https://localhost:8080/"
        },
        "id": "yVnZE2dbBG3y",
        "outputId": "869f70f1-7e1d-4b7c-8e85-117e6856a175"
      },
      "outputs": [
        {
          "data": {
            "text/plain": [
              "dYdz (generic function with 1 method)"
            ]
          },
          "execution_count": 319,
          "metadata": {},
          "output_type": "execute_result"
        }
      ],
      "source": [
        "function dYdz(u,p,z)\n",
        "    xn,xp,xd,x_3H,x_3He,x_4He = u\n",
        "    dxn=xn_rates(z,u[1],u[2],u[3],u[4],u[5],u[6])\n",
        "    dxp=xp_rates(z,u[1],u[2],u[3],u[4],u[5],u[6])\n",
        "    dxd=xd_rates(z,u[1],u[2],u[3],u[4],u[5],u[6])\n",
        "    dx3h=x3H_rates(z,u[1],u[2],u[3],u[4],u[5],u[6])\n",
        "    dx3he=x3He_rates(z,u[1],u[2],u[3],u[4],u[5],u[6])\n",
        "    dx4he=x4He_rates(z,u[1],u[2],u[3],u[4],u[5],u[6])\n",
        "    return [dxn,dxp,dxd,dx3h,dx3he,dx4he]\n",
        "end\n"
      ],
      "id": "yVnZE2dbBG3y"
    },
    {
      "cell_type": "code",
      "execution_count": null,
      "metadata": {
        "colab": {
          "base_uri": "https://localhost:8080/"
        },
        "id": "6DUhfwzxlAKT",
        "outputId": "0f76a778-59cf-4708-b639-dd9de0e68f61"
      },
      "outputs": [
        {
          "data": {
            "text/plain": [
              "938.27208816"
            ]
          },
          "execution_count": 320,
          "metadata": {},
          "output_type": "execute_result"
        }
      ],
      "source": [
        "#xd=3.3523\n",
        "#2.22\n",
        "m_n = 939.56542052 # neutron mass in [MeV], PDG\n",
        "m_p = 938.27208816 # proton mass in [MeV], PDG"
      ],
      "id": "6DUhfwzxlAKT"
    },
    {
      "cell_type": "code",
      "execution_count": 392,
      "metadata": {
        "id": "jHTM8NI4qaMn"
      },
      "outputs": [],
      "source": [
        "using DifferentialEquations, BenchmarkTools\n",
        "alpha_val=[]\n",
        "d_val=[]\n",
        "he3_val=[]\n",
        "h_val=[]\n",
        "for i in eta_val\n",
        "    eta_s=i\n",
        "    xd0 = Xi(minimum(z_evolve), 3, 2, m_e, m_p, m_n, 1875.62,eta_s, 4.3524, 1)\n",
        "    x3h0 = Xi(minimum(z_evolve), 2, 3, m_e, m_p, m_n, 2809.45,eta_s, 16.598, 1)\n",
        "    x3he0 = Xi(minimum(z_evolve), 2, 3, m_e,m_p, m_n, 2809.431,eta_s, 15.1039, 2)\n",
        "    x4he0 = Xi(minimum(z_evolve), 1, 4, m_e, m_p, m_n, 3728.42,eta_s, 55.37, 2)\n",
        "    x1_0=Xn_in(minimum(z_evolve))\n",
        "    x2_0=Xp_in(minimum(z_evolve))\n",
        "    x3_0=xd0\n",
        "    x4_0=x3h0\n",
        "    x5_0=x3he0\n",
        "    x6_0=x4he0\n",
        "    u0=[x1_0,x2_0,x3_0,x4_0,x5_0,x6_0]\n",
        "    tspan = (minimum(z_evolve),maximum(z_evolve))\n",
        "    prob = ODEProblem(dYdz, u0, tspan)\n",
        "    sol_y=solve(prob,FBDF(),reltol=1e-6,abstol=1.e-8)\n",
        "    xp_val = sol_y[2, :]\n",
        "    x4he_val = sol_y[6, :]\n",
        "    xd_val = sol_y[3, :]\n",
        "    x3he_val = sol_y[5, :]\n",
        "    push!(alpha_val,x4he_val[end])\n",
        "    push!(d_val,xd_val[end])\n",
        "    push!(he3_val,x3he_val[end])\n",
        "    push!(h_val,xp_val[end])\n",
        "end"
      ],
      "id": "jHTM8NI4qaMn"
    },
    {
      "cell_type": "code",
      "execution_count": 393,
      "metadata": {
        "colab": {
          "base_uri": "https://localhost:8080/"
        },
        "id": "YteYuNUA-4uk",
        "outputId": "b657d888-da0f-4af2-95b5-0b4d70582a98"
      },
      "outputs": [
        {
          "output_type": "execute_result",
          "data": {
            "text/plain": [
              "100-element Vector{Float64}:\n",
              " 1.5678890756709565e-6\n",
              " 1.3577934192747247e-6\n",
              " 1.1960869740982345e-6\n",
              " 1.0604168485395528e-6\n",
              " 9.381046656193523e-7\n",
              " 8.600772999402968e-7\n",
              " 7.746488867367105e-7\n",
              " 7.07042028169682e-7\n",
              " 6.49472117531163e-7\n",
              " 5.934404321002014e-7\n",
              " 5.472409349202183e-7\n",
              " 5.135792681005207e-7\n",
              " 4.783241481335258e-7\n",
              " ⋮\n",
              " 4.3071229648280087e-8\n",
              " 4.1301662686615574e-8\n",
              " 4.2150719518305493e-8\n",
              " 4.136908531066585e-8\n",
              " 4.0120607374686754e-8\n",
              " 3.9647755947605394e-8\n",
              " 3.999070644156207e-8\n",
              " 3.851236875769034e-8\n",
              " 3.736306625610719e-8\n",
              " 3.713200294468216e-8\n",
              " 3.747303229676008e-8\n",
              " 3.588859346537279e-8"
            ]
          },
          "metadata": {},
          "execution_count": 393
        }
      ],
      "source": [
        "t_val ./ h_val"
      ],
      "id": "YteYuNUA-4uk"
    },
    {
      "cell_type": "code",
      "execution_count": null,
      "metadata": {
        "colab": {
          "base_uri": "https://localhost:8080/"
        },
        "id": "97ZLW3EbE6ig",
        "outputId": "859fad18-18d1-4583-bca0-ab2cd58170e9"
      },
      "outputs": [
        {
          "name": "stderr",
          "output_type": "stream",
          "text": [
            "\u001b[32m\u001b[1m    Updating\u001b[22m\u001b[39m `~/.julia/environments/v1.9/Project.toml`\n",
            "  \u001b[90m[438e738f] \u001b[39m\u001b[91m- PyCall v1.96.1\u001b[39m\n",
            "\u001b[32m\u001b[1m  No Changes\u001b[22m\u001b[39m to `~/.julia/environments/v1.9/Manifest.toml`\n",
            "\u001b[36m\u001b[1m[ \u001b[22m\u001b[39m\u001b[36m\u001b[1mInfo: \u001b[22m\u001b[39mWe haven't cleaned this depot up for a bit, running Pkg.gc()...\n",
            "\u001b[32m\u001b[1m      Active\u001b[22m\u001b[39m manifest files: 1 found\n",
            "\u001b[32m\u001b[1m      Active\u001b[22m\u001b[39m artifact files: 5 found\n",
            "\u001b[32m\u001b[1m      Active\u001b[22m\u001b[39m scratchspaces: 3 found\n",
            "\u001b[32m\u001b[1m     Deleted\u001b[22m\u001b[39m no artifacts, repos, packages or scratchspaces\n"
          ]
        }
      ],
      "source": [],
      "id": "97ZLW3EbE6ig"
    },
    {
      "cell_type": "code",
      "execution_count": 460,
      "metadata": {
        "colab": {
          "base_uri": "https://localhost:8080/"
        },
        "id": "4Z9UssdvE874",
        "outputId": "7d2f9a4e-d4d1-4570-b0fb-468674cef015"
      },
      "outputs": [
        {
          "output_type": "execute_result",
          "data": {
            "text/plain": [
              "0.06169431667631088"
            ]
          },
          "metadata": {},
          "execution_count": 460
        }
      ],
      "source": [],
      "id": "4Z9UssdvE874"
    },
    {
      "cell_type": "code",
      "source": [],
      "metadata": {
        "colab": {
          "base_uri": "https://localhost:8080/"
        },
        "id": "4UcH1c_OM6Ix",
        "outputId": "6f637cb4-0659-4498-baef-6d776ce27ac3"
      },
      "id": "4UcH1c_OM6Ix",
      "execution_count": 461,
      "outputs": [
        {
          "output_type": "execute_result",
          "data": {
            "text/plain": [
              "0.24677726670524353"
            ]
          },
          "metadata": {},
          "execution_count": 461
        }
      ]
    },
    {
      "cell_type": "markdown",
      "source": [
        "### References\n",
        "* [Planck 2018 results. VI. Cosmological parameters](https://arxiv.org/pdf/1807.06209.pdf)\n",
        "* [E. Aver et al. (arxiv)](https://arxiv.org/pdf/2010.04180.pdf)\n",
        "* [PDG :- Astrophysical Constants](https://pdg.lbl.gov/2023/web/viewer.html?file=../reviews/rpp2022-rev-astrophysical-constants.pdf)\n",
        "* [PDG:- BBN](https://pdg.lbl.gov/2023/reviews/contents_sports.html)\n",
        "\n"
      ],
      "metadata": {
        "id": "_eLpJu9QEfsB"
      },
      "id": "_eLpJu9QEfsB"
    },
    {
      "cell_type": "code",
      "source": [
        "fig, (ax3, ax4) = subplots(2, sharex=true,figsize=(5,5))\n",
        "ax3.plot(eta_val,4.002602*alpha_val,color=\"green\",\"-.\")\n",
        "ax3.set_xlim(1.e-10,1.e-9)\n",
        "ax3.set_ylim(0.22,0.26)\n",
        "ax3.set_xscale(\"log\")\n",
        "ax3.set_yticks([0.23,0.24,0.25,0.26],minor=true)\n",
        "#ax3.set_xlabel(L\"\\eta=n_{b}/n_{\\gamma}\",fontsize=12)\n",
        "ax3.set_ylabel(L\"Y_{p}\",family=\"sans-serif\",fontsize=12)\n",
        "ax3.grid(\"True\", which=\"both\", linestyle=\"--\", alpha=0.5)\n",
        "ax3.fill_between([4e-10,1e-9],0.2419,0.2487,color=\"pink\")\n",
        "ax3.fill_betweenx([0.22,0.26],6.08e-10,6.168e-10,color=\"cyan\")\n",
        "ax3.tick_params(axis=\"both\", which=\"both\", direction=\"in\", right=true)\n",
        "\n",
        "\n",
        "\n",
        "\n",
        "ax4.plot(eta_val, d_val ./ h_val, color=\"red\", linestyle=\"--\")\n",
        "ax4.plot(eta_val, he3_val ./ h_val, color=\"darkblue\", linestyle=\"-.\")\n",
        "ax4.set_xlim(1e-10, 1e-9)\n",
        "ax4.set_ylim(5.9e-6, 1e-3)\n",
        "ax4.set_xscale(\"log\")\n",
        "ax4.set_yscale(\"log\")\n",
        "ax4.set_yticks([1e-3, 1e-4, 1e-5])\n",
        "ax4.set_xlabel(L\"\\eta=n_{b}/n_{\\gamma}\",family=\"sans-serif\",fontsize=12)\n",
        "ax4.set_ylabel(L\"^{3}He/H\\ \\ \\ \\ \\ \\ \\ \\ \\ \\  \\ \\  D/H\",family=\"sans-serif\",fontsize=12)\n",
        "ax4.grid(\"True\", which=\"both\", linestyle=\"--\", alpha=0.5)\n",
        "ax4.fill_between([5e-10, 7e-10], 2.497e-5, 2.557e-5, color=\"pink\")\n",
        "ax4.fill_betweenx([5.9e-6, 1e-3], 6.08e-10, 6.168e-10, color=\"cyan\", label=\"planck\")\n",
        "ax4.tick_params(axis=\"both\", which=\"both\", direction=\"in\", right=true)\n",
        "\n",
        "fig.tight_layout()\n",
        "fig.savefig(\"my_plot.png\", dpi=300, format=\"png\")\n",
        "show()\n"
      ],
      "metadata": {
        "colab": {
          "base_uri": "https://localhost:8080/",
          "height": 507
        },
        "id": "F07CNnwPG1SA",
        "outputId": "25c3b2fb-9e20-47eb-b7b8-74224e212257"
      },
      "id": "F07CNnwPG1SA",
      "execution_count": 591,
      "outputs": [
        {
          "output_type": "display_data",
          "data": {
            "text/plain": [
              "Figure(PyObject <Figure size 500x500 with 2 Axes>)"
            ],
            "image/png": "[encoded data removed]"
          },
          "metadata": {}
        }
      ]
    },
    {
      "cell_type": "code",
      "execution_count": 555,
      "metadata": {
        "colab": {
          "base_uri": "https://localhost:8080/",
          "height": 346
        },
        "id": "4dDvR8jZ6onZ",
        "outputId": "cde61697-0316-4b38-b141-0ec8fb099f80"
      },
      "outputs": [
        {
          "output_type": "display_data",
          "data": {
            "text/plain": [
              "Figure(PyObject <Figure size 550x300 with 1 Axes>)"
            ],
            "image/png": "[encoded data removed]"
          },
          "metadata": {}
        },
        {
          "output_type": "execute_result",
          "data": {
            "text/plain": [
              "PyObject <matplotlib.collections.PolyCollection object at 0x782ef0bc92d0>"
            ]
          },
          "metadata": {},
          "execution_count": 555
        }
      ],
      "source": [
        "fig, ax2 = subplots(figsize=(5.5,3))\n",
        "ax2.plot(eta_val,4.002602*alpha_val,color=\"green\",\"-.\")\n",
        "ax2.set_xlim(1.e-10,1.e-9)\n",
        "ax2.set_ylim(0.22,0.26)\n",
        "ax2.set_xscale(\"log\")\n",
        "ax2.set_yticks([0.23,0.24,0.25,0.26])\n",
        "ax2.set_xlabel(L\"\\eta=n_{b}/n_{\\gamma}\",fontsize=12)\n",
        "ax2.set_ylabel(L\"Y_{p}\",fontsize=12)\n",
        "ax2.grid(\"True\", which=\"both\", linestyle=\"--\", alpha=0.5)\n",
        "ax2.fill_between([4e-10,1e-9],0.2419,0.2487,color=\"pink\")\n",
        "ax2.fill_betweenx([0.22,0.26],6.08e-10,6.168e-10,color=\"cyan\")"
      ],
      "id": "4dDvR8jZ6onZ"
    },
    {
      "cell_type": "code",
      "source": [],
      "metadata": {
        "colab": {
          "base_uri": "https://localhost:8080/"
        },
        "id": "qFtvQ5rW0aBq",
        "outputId": "f809f66d-9f06-4034-fa21-2137a912a5f1"
      },
      "id": "qFtvQ5rW0aBq",
      "execution_count": 480,
      "outputs": [
        {
          "output_type": "execute_result",
          "data": {
            "text/plain": [
              "1.218e-9"
            ]
          },
          "metadata": {},
          "execution_count": 480
        }
      ]
    },
    {
      "cell_type": "code",
      "execution_count": 554,
      "metadata": {
        "colab": {
          "base_uri": "https://localhost:8080/",
          "height": 343
        },
        "id": "FaWT2U__7ecX",
        "outputId": "5afe5dbf-79f7-44a2-fa9a-04510a469942"
      },
      "outputs": [
        {
          "output_type": "display_data",
          "data": {
            "text/plain": [
              "Figure(PyObject <Figure size 500x300 with 1 Axes>)"
            ],
            "image/png": "[encoded data removed]"
          },
          "metadata": {}
        },
        {
          "output_type": "execute_result",
          "data": {
            "text/plain": [
              "PyObject <matplotlib.collections.PolyCollection object at 0x782ef0dae530>"
            ]
          },
          "metadata": {},
          "execution_count": 554
        }
      ],
      "source": [
        "fig, ax2 = subplots(figsize=(5,3))\n",
        "ax2.plot(eta_val,d_val ./ h_val,color=\"red\",\"--\")\n",
        "ax2.plot(eta_val,he3_val ./ h_val,color=\"darkblue\",\"-.\")\n",
        "ax2.set_xlim(1.e-10,1.e-9)\n",
        "ax2.set_ylim(5.9e-6,1e-3)\n",
        "ax2.set_xscale(\"log\")\n",
        "ax2.set_yscale(\"log\")\n",
        "ax2.set_yticks([1e-3,1e-4,1e-5])\n",
        "ax2.set_xlabel(L\"\\eta\",fontsize=14)\n",
        "ax2.set_ylabel(L\"^{3}He/H\\ \\ \\ \\ \\ \\ \\ \\ \\ \\  \\ \\ \\ \\ \\  \\ \\ \\ D/H\",fontsize=14)\n",
        "ax2.grid(\"True\", which=\"both\", linestyle=\"--\", alpha=0.5)\n",
        "ax2.fill_between([5.e-10,7.e-10],2.497e-5,2.557e-5,color=\"pink\")\n",
        "ax2.fill_betweenx([5.9e-6,1e-3],6.08e-10,6.168e-10,color=\"cyan\",label=\"planck\")\n"
      ],
      "id": "FaWT2U__7ecX"
    },
    {
      "cell_type": "code",
      "execution_count": 592,
      "metadata": {
        "colab": {
          "base_uri": "https://localhost:8080/"
        },
        "id": "kARobCsoGKrw",
        "outputId": "20fcb6fc-91b9-409a-ece7-aaba5179b20e"
      },
      "outputs": [
        {
          "output_type": "execute_result",
          "data": {
            "text/plain": [
              "9.759009299733473e-38"
            ]
          },
          "metadata": {},
          "execution_count": 592
        }
      ],
      "source": [
        "xd0 = Xi(minimum(z_evolve), 3, 2, 0.511, m_p, m_n, 1875.62,6.1328e-10, 4.3524, 1)\n",
        "x3h0 = Xi(minimum(z_evolve), 2, 3, 0.511, m_p, m_n, 2809.45, 6.1328e-10, 16.598, 1)\n",
        "x3he0 = Xi(minimum(z_evolve), 2, 3, 0.511, m_p, m_n, 2809.431,6.1328e-10, 15.1039, 2)\n",
        "x4he0 = Xi(minimum(z_evolve), 1, 4, 0.511, m_p, m_n, 3728.42,6.1328e-10, 55.37, 2)"
      ],
      "id": "kARobCsoGKrw"
    },
    {
      "cell_type": "code",
      "execution_count": 593,
      "metadata": {
        "colab": {
          "base_uri": "https://localhost:8080/"
        },
        "id": "TFms2P5nYfce",
        "outputId": "a4bdb417-f7c0-4649-bada-b13702a7a8eb"
      },
      "outputs": [
        {
          "output_type": "execute_result",
          "data": {
            "text/plain": [
              "6.1328e-10"
            ]
          },
          "metadata": {},
          "execution_count": 593
        }
      ],
      "source": [
        "eta_s=6.1328e-10"
      ],
      "id": "TFms2P5nYfce"
    },
    {
      "cell_type": "code",
      "execution_count": 594,
      "metadata": {
        "colab": {
          "base_uri": "https://localhost:8080/"
        },
        "id": "zUG-pHCdGtZC",
        "outputId": "838f99c3-6b58-4c2d-e091-4eea16037073"
      },
      "outputs": [
        {
          "output_type": "execute_result",
          "data": {
            "text/plain": [
              "9.759009299733473e-38"
            ]
          },
          "metadata": {},
          "execution_count": 594
        }
      ],
      "source": [
        "\n",
        "x1_0=Xn_in(minimum(z_evolve))\n",
        "x2_0=Xp_in(minimum(z_evolve))\n",
        "x3_0=xd0\n",
        "x4_0=x3h0\n",
        "x5_0=x3he0\n",
        "x6_0=x4he0\n"
      ],
      "id": "zUG-pHCdGtZC"
    },
    {
      "cell_type": "code",
      "execution_count": 595,
      "metadata": {
        "id": "T-71vcGLBdov"
      },
      "outputs": [],
      "source": [],
      "id": "T-71vcGLBdov"
    },
    {
      "cell_type": "code",
      "execution_count": 596,
      "metadata": {
        "colab": {
          "base_uri": "https://localhost:8080/"
        },
        "id": "2yKkQpC-A5fE",
        "outputId": "0bc0eda6-7479-4f8e-e19d-121f791bc5e1"
      },
      "outputs": [
        {
          "output_type": "stream",
          "name": "stdout",
          "text": [
            "  104.339 ms (2522243 allocations: 45.03 MiB)\n"
          ]
        }
      ],
      "source": [
        "using DifferentialEquations, BenchmarkTools\n",
        "u0=[x1_0,x2_0,x3_0,x4_0,x5_0,x6_0]\n",
        "tspan = (minimum(z_evolve),maximum(z_evolve))\n",
        "prob = ODEProblem(dYdz, u0, tspan)\n",
        "@btime solve(prob,FBDF(),reltol=1.e-6);"
      ],
      "id": "2yKkQpC-A5fE"
    },
    {
      "cell_type": "code",
      "execution_count": 597,
      "metadata": {
        "colab": {
          "base_uri": "https://localhost:8080/"
        },
        "id": "UjHediq0HKct",
        "outputId": "3c6da507-69ac-498e-9b6b-4ccb1509cf10"
      },
      "outputs": [
        {
          "output_type": "execute_result",
          "data": {
            "text/plain": [
              "retcode: Success\n",
              "Interpolation: 3rd order Hermite\n",
              "t: 273-element Vector{Float64}:\n",
              "  0.09\n",
              "  0.0900000000000071\n",
              "  0.0900000000524248\n",
              "  0.09000000455537671\n",
              "  0.09000004629145106\n",
              "  0.09000146938078109\n",
              "  0.0900077259899666\n",
              "  0.09001674591790937\n",
              "  0.09002739851179273\n",
              "  0.09005690486084093\n",
              "  0.09008641120988914\n",
              "  0.09012052715170606\n",
              "  0.09015464309352297\n",
              "  ⋮\n",
              " 11.540487569796621\n",
              " 12.09371958486204\n",
              " 12.937203890737841\n",
              " 13.95525830421969\n",
              " 15.20689328709247\n",
              " 16.874804752354624\n",
              " 19.123595077835137\n",
              " 21.884690871503743\n",
              " 26.68294988451389\n",
              " 33.95264743667484\n",
              " 45.4855019771\n",
              " 50.0\n",
              "u: 273-element Vector{Vector{Float64}}:\n",
              " [0.44331968205007405, 0.556680317949926, 8.55439416927989e-13, 1.1398841644929995e-25, 1.253843593076744e-25, 9.759009299733473e-38]\n",
              " [0.4433196820500263, 0.5566803179499735, 8.555354137525537e-13, 1.1398841663534406e-25, 1.2538435912163028e-25, 9.759104037533834e-38]\n",
              " [0.4433196816987226, 0.5566803183012772, 8.555355967633219e-13, 1.1398969843384582e-25, 1.2538307732312157e-25, 1.0451819556906194e-37]\n",
              " [0.4433196515205504, 0.5566803484794494, 8.555355369893678e-13, 1.140052528579014e-25, 1.253675228987292e-25, 4.4132493221196775e-37]\n",
              " [0.4433193718653882, 0.5566806281346115, 8.555349874200584e-13, 1.14007705127109e-25, 1.2536507062913662e-25, 8.263380868837756e-37]\n",
              " [0.4433098599182609, 0.5566901400817972, 8.555162578973194e-13, 1.1404315447791345e-25, 1.2532962127258757e-25, 6.623211782097808e-36]\n",
              " [0.443268837190378, 0.5567311628094591, 8.554342279023554e-13, 1.139962663465941e-25, 1.2537650940940815e-25, 9.50503143836139e-37]\n",
              " [0.44321169538935545, 0.5567883046104581, 8.553167589043042e-13, 1.1398319011785083e-25, 1.2538958563820548e-25, 8.834444225306523e-37]\n",
              " [0.4431471850258299, 0.5568528149739622, 8.551792068258691e-13, 1.1396852993943697e-25, 1.2540424581660705e-25, 8.807079651569353e-37]\n",
              " [0.44298399093276863, 0.5570160090682961, 8.548043800987388e-13, 1.1393168731827672e-25, 1.2544108843877816e-25, 8.942802103173129e-37]\n",
              " [0.44284127795473566, 0.5571587220471312, 8.544377754990097e-13, 1.1389977719329722e-25, 1.2547299856441134e-25, 8.821294098987058e-37]\n",
              " [0.4426980158166579, 0.5573019841856888, 8.54022713876416e-13, 1.1386815471350302e-25, 1.255046210445874e-25, 8.827525223169463e-37]\n",
              " [0.44257440425866285, 0.5574255957438138, 8.536157019882692e-13, 1.1384128609594685e-25, 1.255314896622456e-25, 8.83411171854229e-37]\n",
              " ⋮\n",
              " [3.8183116849580817e-7, 0.7536385987867216, 3.726779771683893e-5, 2.827028105420471e-7, 7.178650718593618e-6, 0.061566024932161026]\n",
              " [2.890240002408469e-7, 0.7536385989008121, 3.371430030912804e-5, 2.493517347679534e-7, 7.102472524933642e-6, 0.06156790700108637]\n",
              " [1.968877707836973e-7, 0.7536386056717987, 2.984440281438889e-5, 2.0545142774129226e-7, 7.019567135712873e-6, 0.06156995839541659]\n",
              " [1.3238632287262963e-7, 0.7536386173245304, 2.679079660888194e-5, 1.6282775156595494e-7, 6.954458936592514e-6, 0.06157157920960479]\n",
              " [9.762962253428844e-8, 0.753638584817741, 2.4265707572906705e-5, 1.4070228497999834e-7, 6.981432497883263e-6, 0.061572854933924136]\n",
              " [6.731964722646471e-8, 0.753638530094066, 2.2161976695525343e-5, 1.197477445762919e-7, 7.037995815898337e-6, 0.06157390135119217]\n",
              " [4.710856158841849e-8, 0.7536384241557497, 2.0875118116433185e-5, 1.0201880988444854e-7, 7.156823330281118e-6, 0.061574500493897386]\n",
              " [2.9484145227229205e-8, 0.7536383473187788, 1.9875424571074457e-5, 8.329156145136285e-8, 7.246536296921305e-6, 0.061574970716728156]\n",
              " [1.5011442875660202e-8, 0.7536382623030978, 1.8891807562633195e-5, 6.39437259489135e-8, 7.358610255009784e-6, 0.061575417852736195]\n",
              " [8.50849657999944e-9, 0.7536381970295641, 1.8090743266543495e-5, 5.523687538283412e-8, 7.478499575761228e-6, 0.06157575294215156]\n",
              " [3.3835744385629375e-9, 0.7536381611868282, 1.74581819264566e-5, 4.926589533866646e-8, 7.580131956742707e-6, 0.061576007718685426]\n",
              " [2.0822239325757906e-9, 0.7536381587937261, 1.738758849915373e-5, 4.9148027765476694e-8, 7.596663365012942e-6, 0.06157603162885668]"
            ]
          },
          "metadata": {},
          "execution_count": 597
        }
      ],
      "source": [
        "sol_y=solve(prob,FBDF(),reltol=1.e-6)"
      ],
      "id": "UjHediq0HKct"
    },
    {
      "cell_type": "code",
      "execution_count": 598,
      "metadata": {
        "colab": {
          "base_uri": "https://localhost:8080/"
        },
        "id": "ap3UkAWuD08-",
        "outputId": "04306469-681f-4a55-dc9c-c6ecc927e203"
      },
      "outputs": [
        {
          "output_type": "execute_result",
          "data": {
            "text/plain": [
              "0.24778418050373274"
            ]
          },
          "metadata": {},
          "execution_count": 598
        }
      ],
      "source": [
        "4*0.061946045125933186"
      ],
      "id": "ap3UkAWuD08-"
    },
    {
      "cell_type": "code",
      "execution_count": 599,
      "metadata": {
        "colab": {
          "base_uri": "https://localhost:8080/"
        },
        "id": "GcgLF44gi5I9",
        "outputId": "47e2e486-7c92-4f6d-b0c2-9add919a0d17"
      },
      "outputs": [
        {
          "output_type": "execute_result",
          "data": {
            "text/plain": [
              "273-element Vector{Float64}:\n",
              " 9.759009299733473e-38\n",
              " 9.759104037533834e-38\n",
              " 1.0451819556906194e-37\n",
              " 4.4132493221196775e-37\n",
              " 8.263380868837756e-37\n",
              " 6.623211782097808e-36\n",
              " 9.50503143836139e-37\n",
              " 8.834444225306523e-37\n",
              " 8.807079651569353e-37\n",
              " 8.942802103173129e-37\n",
              " 8.821294098987058e-37\n",
              " 8.827525223169463e-37\n",
              " 8.83411171854229e-37\n",
              " ⋮\n",
              " 0.061566024932161026\n",
              " 0.06156790700108637\n",
              " 0.06156995839541659\n",
              " 0.06157157920960479\n",
              " 0.061572854933924136\n",
              " 0.06157390135119217\n",
              " 0.061574500493897386\n",
              " 0.061574970716728156\n",
              " 0.061575417852736195\n",
              " 0.06157575294215156\n",
              " 0.061576007718685426\n",
              " 0.06157603162885668"
            ]
          },
          "metadata": {},
          "execution_count": 599
        }
      ],
      "source": [
        "\n",
        "# xp, xn, xd, x_3H, x_3He, x_4He\n",
        "z_val = sol_y.t\n",
        "xn_val = sol_y[1, :]\n",
        "xp_val = sol_y[2, :]\n",
        "xd_val = sol_y[3, :]\n",
        "x3h_val = sol_y[4, :]\n",
        "x3he_val = sol_y[5, :]\n",
        "x4he_val = sol_y[6, :]\n"
      ],
      "id": "GcgLF44gi5I9"
    },
    {
      "cell_type": "code",
      "execution_count": null,
      "metadata": {
        "colab": {
          "base_uri": "https://localhost:8080/"
        },
        "id": "PW_4shohz3L7",
        "outputId": "fc254050-b7ed-473a-c7d6-9adbe5bd1876"
      },
      "outputs": [
        {
          "data": {
            "text/plain": [
              "324-element Vector{Float64}:\n",
              " 2.7030269284877673e-38\n",
              " 2.7046341223428664e-38\n",
              " 4.4910571204751704e-38\n",
              " 3.261419866483048e-37\n",
              " 5.383477768865912e-37\n",
              " 3.406667737838717e-36\n",
              " 6.095417089454489e-37\n",
              " 5.7131744243487825e-37\n",
              " 5.697591347507333e-37\n",
              " 5.755955391779119e-37\n",
              " 5.699320905042761e-37\n",
              " 5.6988476632775604e-37\n",
              " 5.698760819244953e-37\n",
              " ⋮\n",
              " 0.061939544426139116\n",
              " 0.06194091932640068\n",
              " 0.06194225453274728\n",
              " 0.06194333901187445\n",
              " 0.06194412665553562\n",
              " 0.06194469925155624\n",
              " 0.0619451174579753\n",
              " 0.06194542673403895\n",
              " 0.061945666795225486\n",
              " 0.06194586791578174\n",
              " 0.06194604502937937\n",
              " 0.061946045125933186"
            ]
          },
          "execution_count": 172,
          "metadata": {},
          "output_type": "execute_result"
        }
      ],
      "source": [
        "x4he_val"
      ],
      "id": "PW_4shohz3L7"
    },
    {
      "cell_type": "code",
      "execution_count": null,
      "metadata": {
        "colab": {
          "base_uri": "https://localhost:8080/"
        },
        "id": "UhTplyacz8tm",
        "outputId": "b8bc0019-d6d0-4554-cf7f-5651ce376eff"
      },
      "outputs": [
        {
          "data": {
            "text/plain": [
              "324-element Vector{Float64}:\n",
              " 0.5322758074445384\n",
              " 0.5322758074465037\n",
              " 0.5322758097054472\n",
              " 0.5322758862856583\n",
              " 0.5322763321142231\n",
              " 0.532290736455337\n",
              " 0.5323501489688838\n",
              " 0.5324335780956407\n",
              " 0.5325282365658959\n",
              " 0.5327472655904631\n",
              " 0.5330115967198384\n",
              " 0.5332763228929661\n",
              " 0.5335095142135379\n",
              " ⋮\n",
              " 0.7521609308818717\n",
              " 0.7521609370378437\n",
              " 0.752160887488763\n",
              " 0.7521608123124494\n",
              " 0.7521607246234957\n",
              " 0.7521606410304668\n",
              " 0.7521605715343417\n",
              " 0.7521605189367963\n",
              " 0.7521604828624592\n",
              " 0.7521604532135419\n",
              " 0.7521604051236498\n",
              " 0.7521604050898363"
            ]
          },
          "execution_count": 173,
          "metadata": {},
          "output_type": "execute_result"
        }
      ],
      "source": [
        "xp_val"
      ],
      "id": "UhTplyacz8tm"
    },
    {
      "cell_type": "code",
      "execution_count": 609,
      "metadata": {
        "id": "zkldA80GG5YL",
        "colab": {
          "base_uri": "https://localhost:8080/"
        },
        "outputId": "2e57693e-9a3c-47df-f309-e4bcf11e8aa8"
      },
      "outputs": [
        {
          "output_type": "stream",
          "name": "stderr",
          "text": [
            "WARNING: could not import PyPlot.MultipleLocator into Main\n",
            "WARNING: could not import PyPlot.AutoMinorLocator into Main\n"
          ]
        }
      ],
      "source": [],
      "id": "zkldA80GG5YL"
    },
    {
      "cell_type": "code",
      "execution_count": 611,
      "metadata": {
        "colab": {
          "base_uri": "https://localhost:8080/",
          "height": 579
        },
        "id": "Zny31tJ-o8ss",
        "outputId": "23051ba5-e397-4510-8937-f7f4d2ccf86c"
      },
      "outputs": [
        {
          "output_type": "display_data",
          "data": {
            "text/plain": [
              "Figure(PyObject <Figure size 1000x600 with 1 Axes>)"
            ],
            "image/png": "[encoded data removed]"
          },
          "metadata": {}
        }
      ],
      "source": [
        "#=\n",
        "plot(z_val, xn_val, linewidth=2, label=L\"$n$\")\n",
        "plot(z_val, xp_val, linewidth=2, label=L\"$p$\")\n",
        "plot(z_val, xd_val, linewidth=2, label=L\"$D$\")\n",
        "plot(z_val, x3h_val, linewidth=2, label=L\"$^{3}H$\")\n",
        "plot(z_val, x3he_val, linewidth=2, label=L\"$^{3}He$\")\n",
        "plot(z_val, x4he_val, linewidth=2, label=L\"$^{4}He$\")\n",
        "\n",
        "yscale(\"log\")\n",
        "xscale(\"log\")\n",
        "xlabel(L\"$z=\\frac{m_e}{T_{\\gamma(MeV)}}$\", fontsize=14)\n",
        "legend()\n",
        "=#\n",
        "using PyPlot\n",
        "\n",
        "\n",
        "\n",
        "# Create the figure and axis\n",
        "fig, ax = subplots(figsize=(10, 6))\n",
        "\n",
        "# Plot the data with customizations\n",
        "ax.plot(\n",
        "    z_val, xn_val ./ xp_val , linewidth=1, label=L\"$n$\", color=\"blue\"\n",
        ")\n",
        "ax.plot(\n",
        "    z_val, xp_val, linewidth=1, label=L\"$p$\", color=\"red\"\n",
        ")\n",
        "ax.plot(\n",
        "    z_val, xd_val  ./ xp_val, linewidth=1, label=L\"$D$\", color=\"green\"\n",
        ")\n",
        "ax.plot(\n",
        "    z_val, x3h_val ./ xp_val , linewidth=1, label=L\"$^{3}H$\", color=\"purple\"\n",
        ")\n",
        "ax.plot(\n",
        "    z_val, x3he_val ./ xp_val, linewidth=1, label=L\"$^{3}He$\", color=\"orange\"\n",
        ")\n",
        "ax.plot(\n",
        "    z_val,4.03297992538*x4he_val, linewidth=1, label=L\"$^{4}He$\", color=\"deeppink\"\n",
        ")\n",
        "\n",
        "# Set scale to logarithmic\n",
        "ax.set_yscale(\"log\")\n",
        "ax.set_xscale(\"log\")\n",
        "\n",
        "# Labeling and legend\n",
        "ax.set_xlabel(L\"z=m_e/T_{\\gamma}}\", size=16)\n",
        "ax.set_ylabel(L\"\\mathrm{Mass\\ Fraction\\ }(A_{i}X_{i})\", size=16)\n",
        "ax.set_title(L\"\\mathrm{BBN\\ Abundances}\", size=18)\n",
        "\n",
        "# Add a grid\n",
        "ax.grid(\"True\", which=\"both\", linestyle=\"--\", linewidth=0.5)\n",
        "ax.tick_params(axis=\"both\", which=\"both\", direction=\"in\", right=true)\n",
        "ax.set_ylim(1e-10)\n",
        "ax.set_xlim(0.2,50)\n",
        "ax.legend()\n",
        "fig.savefig(\"bbn.png\",dpi=400)\n",
        "\n"
      ],
      "id": "Zny31tJ-o8ss"
    },
    {
      "cell_type": "code",
      "execution_count": null,
      "metadata": {
        "id": "XlNqxk7EOPfe"
      },
      "outputs": [],
      "source": [
        "\n"
      ],
      "id": "XlNqxk7EOPfe"
    },
    {
      "cell_type": "code",
      "execution_count": null,
      "metadata": {
        "colab": {
          "base_uri": "https://localhost:8080/"
        },
        "id": "eNEe6hQ5K4S1",
        "outputId": "8af01c99-8f82-41be-f0f1-f4d7039b2c02"
      },
      "outputs": [
        {
          "data": {
            "text/plain": [
              "DD_p3H_alcoc (generic function with 1 method)"
            ]
          },
          "execution_count": 105,
          "metadata": {},
          "output_type": "execute_result"
        }
      ],
      "source": [
        "function pn_gammaD_andlo(z)\n",
        "    T = m_e / z\n",
        "    T_9 = mev_to_t9kelvin(T)\n",
        "    # nb = 6.14e-10 * 410.73 * (T / 2.7255) ^ 3\n",
        "    NA = 6.022e23\n",
        "    if T_9 <= 1.5\n",
        "        f = (44216. * (1 + 3.75191 * T_9 + 1.92934 * T_9^2 + 0.746503 * T_9^3 + 0.0197023 * T_9^4 + 3.00491e-6 * T_9^5) / (1 + 5.4678 * T_9 + 5.62395 * T_9^2 + 0.489312 * T_9^3 + 0.00747806 * T_9^4))\n",
        "    else\n",
        "        f = (1. - sqrt(T_9) * 0.8504 + T_9 * 0.4895 - T_9^(3/2) * 0.09623 + T_9 * 0.008471 * T_9 - T_9 * 2.8e-4 * T_9^(3/2)) * 47420\n",
        "    end\n",
        "    rate = f\n",
        "    return n_b(z) * rate / NA\n",
        "end\n",
        "\n",
        "\n",
        "function DD_n3He_alcoc(z)\n",
        "    T9 = mev_to_t9kelvin(m_e / z)\n",
        "    if T9 < 0.001\n",
        "        rate = 1.142e-8\n",
        "    elseif 0.001 <= T9 <= 0.0015\n",
        "        rate = 1.142e-8\n",
        "    elseif 0.0015 < T9 <= 0.0025\n",
        "        rate = 5.470e-5\n",
        "    elseif 0.0025 < T9 <= 0.0035\n",
        "        rate = 3.021e-3\n",
        "    elseif 0.0035 < T9 <= 0.0045\n",
        "        rate = 3.732e-2\n",
        "    elseif 0.0045 < T9 <= 0.0055\n",
        "        rate = 2.212e-1\n",
        "    elseif 0.0055 < T9 <= 0.0065\n",
        "        rate = 8.546e-1\n",
        "    elseif 0.0065 < T9 <= 0.0075\n",
        "        rate = 2.505\n",
        "    elseif 0.0075 < T9 <= 0.0085\n",
        "        rate = 6.066\n",
        "    elseif 0.0085 < T9 <= 0.0095\n",
        "        rate = 1.278e1\n",
        "    elseif 0.0095 < T9 <= 0.0105\n",
        "        rate = 2.424e1\n",
        "    elseif 0.0105 < T9 <= 0.0115\n",
        "        rate = 4.237e1\n",
        "    elseif 0.0115 < T9 <= 0.0125\n",
        "        rate = 6.936e1\n",
        "    elseif 0.0125 < T9 <= 0.0135\n",
        "        rate = 1.077e2\n",
        "    elseif 0.0135 < T9 <= 0.0145\n",
        "        rate = 1.600e2\n",
        "    elseif 0.0145 < T9 <= 0.0155\n",
        "        rate = 2.291e2\n",
        "    elseif 0.0155 < T9 <= 0.0170\n",
        "        rate = 3.179e2\n",
        "    elseif 0.0170 < T9 <= 0.0190\n",
        "        rate = 5.667e2\n",
        "    elseif 0.0190 < T9 <= 0.0225\n",
        "        rate = 9.310e2\n",
        "    elseif 0.0225 < T9 <= 0.0275\n",
        "        rate = 2.504e3\n",
        "    elseif 0.0275 < T9 <= 0.0350\n",
        "        rate = 5.301e3\n",
        "    elseif 0.0350 < T9 <= 0.0450\n",
        "        rate = 1.568e4\n",
        "    elseif 0.0450 < T9 <= 0.0550\n",
        "        rate = 3.369e4\n",
        "    elseif 0.0550 < T9 <= 0.0650\n",
        "        rate = 6.013e4\n",
        "    elseif 0.0650 < T9 <= 0.0750\n",
        "        rate = 9.527e4\n",
        "    elseif 0.0750 < T9 <= 0.0850\n",
        "        rate = 1.390e5\n",
        "    elseif 0.0850 < T9 <= 0.0950\n",
        "        rate = 1.912e5\n",
        "    elseif 0.0950 < T9 <= 0.1050\n",
        "        rate = 2.513e5\n",
        "    elseif 0.1050 < T9 <= 0.1150\n",
        "        rate = 3.190e5\n",
        "    elseif 0.1150 < T9 <= 0.1250\n",
        "        rate = 3.938e5\n",
        "    elseif 0.1250 < T9 <= 0.1350\n",
        "        rate = 4.753e5\n",
        "    elseif 0.1350 < T9 <= 0.1450\n",
        "        rate = 5.631e5\n",
        "    elseif 0.1450 < T9 <= 0.1550\n",
        "        rate = 6.568e5\n",
        "    elseif 0.1550 < T9 <= 0.1700\n",
        "        rate = 7.559e5\n",
        "    elseif 0.1700 < T9 <= 0.1900\n",
        "        rate = 9.691e5\n",
        "    elseif 0.1900 < T9 <= 0.2250\n",
        "        rate = 1.200e6\n",
        "    elseif 0.2250 < T9 <= 0.2750\n",
        "        rate = 1.842e6\n",
        "    elseif 0.2750 < T9 <= 0.3250\n",
        "        rate = 2.555e6\n",
        "    elseif 0.3250 < T9 <= 0.3750\n",
        "        rate = 3.318e6\n",
        "    elseif 0.3750 < T9 <= 0.4250\n",
        "        rate = 4.119e6\n",
        "    elseif 0.4250 < T9 <= 0.4750\n",
        "        rate = 4.946e6\n",
        "    elseif 0.4750 < T9 <= 0.5500\n",
        "        rate = 5.792e6\n",
        "    elseif 0.5500 < T9 <= 0.6500\n",
        "        rate = 7.517e6\n",
        "    elseif 0.6500 < T9 <= 0.7500\n",
        "        rate = 9.260e6\n",
        "    elseif 0.7500 < T9 <= 0.8500\n",
        "        rate = 1.100e7\n",
        "    elseif 0.8500 < T9 <= 0.9500\n",
        "        rate = 1.272e7\n",
        "    elseif 0.9500 < T9 <= 1.1250\n",
        "        rate = 1.442e7\n",
        "    elseif 1.1250 < T9 <= 1.3750\n",
        "        rate = 1.850e7\n",
        "    elseif 1.3750 < T9 <= 1.6250\n",
        "        rate = 2.235e7\n",
        "    elseif 1.6250 < T9 <= 1.8750\n",
        "        rate = 2.595e7\n",
        "    elseif 1.8750 < T9 <= 2.2500\n",
        "        rate = 2.932e7\n",
        "    elseif 2.2500 < T9 <= 2.7500\n",
        "        rate = 3.546e7\n",
        "    elseif 2.7500 < T9 <= 3.2500\n",
        "        rate = 4.093e7\n",
        "    elseif 3.2500 < T9 <= 3.7500\n",
        "        rate = 4.585e7\n",
        "    elseif 3.7500 < T9 <= 4.5000\n",
        "        rate = 5.031e7\n",
        "    elseif 4.5000 < T9 <= 5.5000\n",
        "        rate = 5.816e7\n",
        "    elseif 5.5000 < T9 <= 6.5000\n",
        "        rate = 6.488e7\n",
        "    elseif 6.5000 < T9 <= 7.5000\n",
        "        rate = 7.072e7\n",
        "    elseif 7.5000 < T9 <= 8.5000\n",
        "        rate = 7.583e7\n",
        "    elseif 8.5000 < T9 <= 9.5000\n",
        "        rate = 8.037e7\n",
        "    elseif 9.5000 < T9 <= 10.0000\n",
        "        rate = 8.437e7\n",
        "    else\n",
        "        rate = 0.0\n",
        "    end\n",
        "    rate = rate\n",
        "    return n_b(z) * rate / NA\n",
        "end\n",
        "\n",
        "\n",
        "function DD_p3H_alcoc(z)\n",
        "    T = m_e / z\n",
        "    T9 = mev_to_t9kelvin(T)\n",
        "    NA = 6.022e23\n",
        "    if T9 < 0.001\n",
        "        rate = 1.173e-8\n",
        "    elseif 0.001 <= T9 <= 0.0015\n",
        "        rate = 1.173e-8\n",
        "    elseif 0.0015 < T9 <= 0.0025\n",
        "        rate = 5.609e-5\n",
        "    elseif 0.0025 < T9 <= 0.0035\n",
        "        rate = 3.092e-3\n",
        "    elseif 0.0035 < T9 <= 0.0045\n",
        "        rate = 3.814e-2\n",
        "    elseif 0.0045 < T9 <= 0.0055\n",
        "        rate = 2.257e-1\n",
        "    elseif 0.0055 < T9 <= 0.0065\n",
        "        rate = 8.707e-1\n",
        "    elseif 0.0065 < T9 <= 0.0075\n",
        "        rate = 2.549\n",
        "    elseif 0.0075 < T9 <= 0.0085\n",
        "        rate = 6.164\n",
        "    elseif 0.0085 < T9 <= 0.0095\n",
        "        rate = 1.297e1\n",
        "    elseif 0.0095 < T9 <= 0.0105\n",
        "        rate = 2.458e1\n",
        "    elseif 0.0105 < T9 <= 0.0115\n",
        "        rate = 4.290e1\n",
        "    elseif 0.0115 < T9 <= 0.0125\n",
        "        rate = 7.016e1\n",
        "    elseif 0.0125 < T9 <= 0.0135\n",
        "        rate = 1.088e2\n",
        "    elseif 0.0135 < T9 <= 0.0145\n",
        "        rate = 1.615e2\n",
        "    elseif 0.0145 < T9 <= 0.0155\n",
        "        rate = 2.310e2\n",
        "    elseif 0.0155 < T9 <= 0.0170\n",
        "        rate = 3.202e2\n",
        "    elseif 0.0170 < T9 <= 0.0190\n",
        "        rate = 5.698e2\n",
        "    elseif 0.0190 < T9 <= 0.0225\n",
        "        rate = 9.343e2\n",
        "    elseif 0.0225 < T9 <= 0.0275\n",
        "        rate = 2.502e3\n",
        "    elseif 0.0275 < T9 <= 0.0350\n",
        "        rate = 5.276e3\n",
        "    elseif 0.0350 < T9 <= 0.0450\n",
        "        rate = 1.549e4\n",
        "    elseif 0.0450 < T9 <= 0.0550\n",
        "        rate = 3.307e4\n",
        "    elseif 0.0550 < T9 <= 0.0650\n",
        "        rate = 5.868e4\n",
        "    elseif 0.0650 < T9 <= 0.0750\n",
        "        rate = 9.246e4\n",
        "    elseif 0.0750 < T9 <= 0.0850\n",
        "        rate = 1.343e5\n",
        "    elseif 0.0850 < T9 <= 0.0950\n",
        "        rate = 1.837e5\n",
        "    elseif 0.0950 < T9 <= 0.1050\n",
        "        rate = 2.404e5\n",
        "    elseif 0.1050 < T9 <= 0.1150\n",
        "        rate = 3.039e5\n",
        "    elseif 0.1150 < T9 <= 0.1250\n",
        "        rate = 3.737e5\n",
        "    elseif 0.1250 < T9 <= 0.1350\n",
        "        rate = 4.493e5\n",
        "    elseif 0.1350 < T9 <= 0.1450\n",
        "        rate = 5.304e5\n",
        "    elseif 0.1450 < T9 <= 0.1550\n",
        "        rate = 6.165e5\n",
        "    elseif 0.1550 < T9 <= 0.1700\n",
        "        rate = 7.072e5\n",
        "    elseif 0.1700 < T9 <= 0.1900\n",
        "        rate = 9.011e5\n",
        "    elseif 0.1900 < T9 <= 0.2250\n",
        "        rate = 1.110e6\n",
        "    elseif 0.2250 < T9 <= 0.2750\n",
        "        rate = 1.682e6\n",
        "    elseif 0.2750 < T9 <= 0.3250\n",
        "        rate = 2.309e6\n",
        "    elseif 0.3250 < T9 <= 0.3750\n",
        "        rate = 2.974e6\n",
        "    elseif 0.3750 < T9 <= 0.4250\n",
        "        rate = 3.663e6\n",
        "    elseif 0.4250 < T9 <= 0.4750\n",
        "        rate = 4.371e6\n",
        "    elseif 0.4750 < T9 <= 0.5500\n",
        "        rate = 5.089e6\n",
        "    elseif 0.5500 < T9 <= 0.6500\n",
        "        rate = 6.543e6\n",
        "    elseif 0.6500 < T9 <= 0.7500\n",
        "        rate = 8.001e6\n",
        "    elseif 0.7500 < T9 <= 0.8500\n",
        "        rate = 9.448e6\n",
        "    elseif 0.8500 < T9 <= 0.9500\n",
        "        rate = 1.087e7\n",
        "    elseif 0.9500 < T9 <= 1.1250\n",
        "        rate = 1.228e7\n",
        "    elseif 1.1250 < T9 <= 1.3750\n",
        "        rate = 1.565e7\n",
        "    elseif 1.3750 < T9 <= 1.6250\n",
        "        rate = 2.882e7\n",
        "    elseif 1.6250 < T9 <= 1.8750\n",
        "        rate = 2.181e7\n",
        "    elseif 1.8750 < T9 <= 2.2500\n",
        "        rate = 2.461e7\n",
        "    elseif 2.2500 < T9 <= 2.7500\n",
        "        rate = 2.976e7\n",
        "    elseif 2.7500 < T9 <= 3.2500\n",
        "        rate = 3.440e7\n",
        "    elseif 3.2500 < T9 <= 3.7500\n",
        "        rate = 3.863e7\n",
        "    elseif 3.7500 < T9 <= 4.5000\n",
        "        rate = 4.251e7\n",
        "    elseif 4.5000 < T9 <= 5.5000\n",
        "        rate = 4.946e7\n",
        "    elseif 5.5000 < T9 <= 6.5000\n",
        "        rate = 5.552e7\n",
        "    elseif 6.5000 < T9 <= 7.5000\n",
        "        rate = 6.077e7\n",
        "    elseif 7.5000 < T9 <= 8.5000\n",
        "        rate = 6.529e7\n",
        "    elseif 8.5000 < T9 <= 9.5000\n",
        "        rate = 6.912e7\n",
        "    elseif 9.5000 < T9 <= 10.0000\n",
        "        rate = 7.228e7\n",
        "    else\n",
        "        rate = 0.0\n",
        "    end\n",
        "    rate = n_b(z) * rate / NA\n",
        "    return rate\n",
        "end\n",
        "\n"
      ],
      "id": "eNEe6hQ5K4S1"
    },
    {
      "cell_type": "code",
      "execution_count": null,
      "metadata": {
        "colab": {
          "base_uri": "https://localhost:8080/"
        },
        "id": "nL5LJOPWacbc",
        "outputId": "1382920c-be85-44bb-d474-33e001130f59"
      },
      "outputs": [
        {
          "data": {
            "text/plain": [
              "\"function DD_n3He_alcoc(z)\\n    T = m_e / z\\n    T_9 = mev_to_t9kelvin(T)\\n    NA = 6.022e23\\n    rate = (T_9^(-2/3)) * exp(-T_9^(-1/3)) * (\\n        -1.84664e6 + 1.22986e7 * T_9^(1/3) - 1.3761e7 * T_9^(2/3) - 6.11628e7 * T_9\\n        + 1.3329e8 * T_9^(4/3) - 1.24333e7 * T_9^(5\" ⋯ 480 bytes ⋯ \"p(-4.2586 / t913) * (\\n        1 + 0.309233 * t913 - 0.337260 * t923 +\\n        2.51922 * t9 - 2.79097 * t943 + 2.16082 * t953 -\\n        0.976181 * t9^2 + 0.210883 * t943 * t9 -\\n        0.0169027 * t953 * t9 + 7.845538e-6 * t9^3\\n    )\\n\\n    return (n_b(z) * rate / NA)\\nend\\n\""
            ]
          },
          "execution_count": 106,
          "metadata": {},
          "output_type": "execute_result"
        }
      ],
      "source": [
        "\"\"\"\n",
        "function DD_n3He_alcoc(z)\n",
        "    T = m_e / z\n",
        "    T_9 = mev_to_t9kelvin(T)\n",
        "    NA = 6.022e23\n",
        "    rate = (T_9^(-2/3)) * exp(-T_9^(-1/3)) * (\n",
        "        -1.84664e6 + 1.22986e7 * T_9^(1/3) - 1.3761e7 * T_9^(2/3) - 6.11628e7 * T_9\n",
        "        + 1.3329e8 * T_9^(4/3) - 1.24333e7 * T_9^(5/3) - 2.72404e7 * T_9^2\n",
        "        + 8.52947e6 * T_9^(7/3) + 2.2519e6 * T_9^(8/3) - 2.31204e6 * T_9^3\n",
        "        - 294342 * T_9^(10/3) + 911550 * T_9^(11/3) - 252211 * T_9^4\n",
        "    )\n",
        "\n",
        "    return (n_b(z) * rate / NA)\n",
        "end\n",
        "\n",
        "\n",
        "function DD_p3H_alcoc(z)\n",
        "    T = m_e / z\n",
        "    T_9 = mev_to_t9kelvin(T)\n",
        "    rhob = 2.12e-4 * T_9^3\n",
        "    t9 = mev_to_t9kelvin(m_e / z)\n",
        "    NA = 6.022e23\n",
        "    t913 = t9^(1/3)\n",
        "    t923 = t9^(2/3)\n",
        "    t943 = t9^(4/3)\n",
        "    t953 = t9^(5/3)\n",
        "\n",
        "    rate = 3.91889e8 * t9^(-2/3) * exp(-4.2586 / t913) * (\n",
        "        1 + 0.309233 * t913 - 0.337260 * t923 +\n",
        "        2.51922 * t9 - 2.79097 * t943 + 2.16082 * t953 -\n",
        "        0.976181 * t9^2 + 0.210883 * t943 * t9 -\n",
        "        0.0169027 * t953 * t9 + 7.845538e-6 * t9^3\n",
        "    )\n",
        "\n",
        "    return (n_b(z) * rate / NA)\n",
        "end\n",
        "\"\"\""
      ],
      "id": "nL5LJOPWacbc"
    },
    {
      "cell_type": "code",
      "execution_count": null,
      "metadata": {
        "colab": {
          "base_uri": "https://localhost:8080/"
        },
        "id": "sIcO1WJfPINK",
        "outputId": "dd8632db-5ac7-4e60-af20-e3d721924c7e"
      },
      "outputs": [
        {
          "data": {
            "text/plain": [
              "gammaD_pn (generic function with 1 method)"
            ]
          },
          "execution_count": 99,
          "metadata": {},
          "output_type": "execute_result"
        }
      ],
      "source": [
        "function gammaD_pn(z)\n",
        "    term1 = (Xp_in(z) * Xn_in(z)) / Xi(z, 3, 2, 0.511, 938.27, 940.6, 1875.62, 6.13832e-10,6.86, 1)\n",
        "    reverse_rate = term1 * pn_gammaD_andlo(z)\n",
        "    return reverse_rate\n",
        "end\n"
      ],
      "id": "sIcO1WJfPINK"
    },
    {
      "cell_type": "code",
      "execution_count": null,
      "metadata": {
        "colab": {
          "base_uri": "https://localhost:8080/"
        },
        "id": "DjY4geyMYJye",
        "outputId": "7816f8d0-0cb6-4088-ba55-d25541ba9416"
      },
      "outputs": [
        {
          "data": {
            "text/plain": [
              "threegamma_1two (generic function with 2 methods)"
            ]
          },
          "execution_count": 100,
          "metadata": {},
          "output_type": "execute_result"
        }
      ],
      "source": [
        "\n",
        "function threegamma_1two(sigma_v_ab, T_9, A1, A2, A3, ga, gb, gc, Q)\n",
        "    c_gamma = 9.8686 * 10^9 * T_9^(3/2) * (A1 * A2 / A3) * (ga * gb / gc) * exp(-11.605 * Q / T_9)\n",
        "    ngamma_sigma_v_cgamma = sigma_v_ab * c_gamma\n",
        "    return ngamma_sigma_v_cgamma\n",
        "end\n"
      ],
      "id": "DjY4geyMYJye"
    },
    {
      "cell_type": "code",
      "execution_count": null,
      "metadata": {
        "colab": {
          "base_uri": "https://localhost:8080/"
        },
        "id": "EIigsr6_iMcD",
        "outputId": "fc0475c9-986e-409a-9b5b-2c886293b37f"
      },
      "outputs": [
        {
          "data": {
            "text/plain": [
              "\"function gammaD_pn(z)\\n    value1 = pn_gammaD(z)\\n    T_9 = mev_to_t9kelvin(z)\\n    A1 = 1.00727\\n    A2 = 1.00866\\n    A3 = 2.01410\\n    ga = 2\\n    gb = 2\\n    gc = 3\\n    Q = 1.7135810198702273\\n    value1 = value1\\n    rate1r = threegamma_1two(value1, T_9, A1, A2, A3, ga, gb, gc, Q)\\n    return rate1r\\nend\\n\""
            ]
          },
          "execution_count": 408,
          "metadata": {},
          "output_type": "execute_result"
        }
      ],
      "source": [
        "\"\"\"\n",
        "function gammaD_pn(z)\n",
        "    value1 = pn_gammaD(z)\n",
        "    T_9 = mev_to_t9kelvin(z)\n",
        "    A1 = 1.00727\n",
        "    A2 = 1.00866\n",
        "    A3 = 2.01410\n",
        "    ga = 2\n",
        "    gb = 2\n",
        "    gc = 3\n",
        "    Q = 1.7135810198702273\n",
        "    value1 = value1\n",
        "    rate1r = threegamma_1two(value1, T_9, A1, A2, A3, ga, gb, gc, Q)\n",
        "    return rate1r\n",
        "end\n",
        "\"\"\""
      ],
      "id": "EIigsr6_iMcD"
    },
    {
      "cell_type": "code",
      "execution_count": null,
      "metadata": {
        "colab": {
          "base_uri": "https://localhost:8080/"
        },
        "id": "RyidUuYKkLWF",
        "outputId": "41af8d7e-2205-4a38-dd8e-1e8a17db9d55"
      },
      "outputs": [
        {
          "data": {
            "text/plain": [
              "x4he_dot (generic function with 1 method)"
            ]
          },
          "execution_count": 409,
          "metadata": {},
          "output_type": "execute_result"
        }
      ],
      "source": [
        "function xp_dot(z, xn, xp, xd)\n",
        "    value = (lambda_np(z) * xn - lambda_pn(z) * xp + (gammaD_pn(z) * xd - pn_gammaD_andlo(z) * xp * xn)\n",
        "              + ((DD_p3H_alcoc(z) * xd ^ 2) / 2 )) * dt_dz(z)\n",
        "    return value\n",
        "end\n",
        "\n",
        "function xn_dot(z, xn, xp, xd)\n",
        "    value = (lambda_pn(z) * xp - lambda_np(z) * xn + (gammaD_pn(z) * xd - pn_gammaD_andlo(z) * xp * xn)\n",
        "             + ((DD_n3He_alcoc(z) * xd ^ 2) / 2 )) * dt_dz(z)\n",
        "    return value\n",
        "end\n",
        "\n",
        "function xd_dot(z, xn, xp, xd)\n",
        "    value = ((pn_gammaD_andlo(z) * xp * xn - gammaD_pn(z) * xd) - 2 * (((DD_p3H_alcoc(z) * xd ^ 2) / 2 ) + ((DD_n3He_alcoc(z) * xd ^ 2) / 2))) * dt_dz(z)\n",
        "    return value\n",
        "end\n",
        "\n",
        "function x4he_dot(z, xd)\n",
        "    value = ((((DD_p3H_alcoc(z) * xd ^ 2) / 2 ) + ((DD_n3He_alcoc(z) * xd ^ 2) / 2))) * dt_dz(z)\n",
        "    return value\n",
        "end"
      ],
      "id": "RyidUuYKkLWF"
    },
    {
      "cell_type": "code",
      "execution_count": null,
      "metadata": {
        "colab": {
          "base_uri": "https://localhost:8080/"
        },
        "id": "NwKzdZpBTOAm",
        "outputId": "b89991d0-993c-481f-a46a-e4aa99ed761b"
      },
      "outputs": [
        {
          "data": {
            "text/plain": [
              "small_network (generic function with 1 method)"
            ]
          },
          "execution_count": 410,
          "metadata": {},
          "output_type": "execute_result"
        }
      ],
      "source": [
        "\n",
        "function small_network(u, p, z)\n",
        "    xn, xp, xd, x4he = u\n",
        "    dx_n = xn_dot(z,u[1],u[2],u[3])  # Define the equation for dx/dt here based on x, y, and t\n",
        "    dx_p = xp_dot(z,u[1],u[2],u[3])\n",
        "    dx_d = xd_dot(z,u[1],u[2],u[3])\n",
        "    dx_4he=x4he_dot(z,u[3])\n",
        "    [dx_n,dx_p,dx_d,dx_4he] # Define the equation for dy/dt here based on x, y, and t\n",
        "end\n",
        "\n"
      ],
      "id": "NwKzdZpBTOAm"
    },
    {
      "cell_type": "code",
      "execution_count": null,
      "metadata": {
        "colab": {
          "base_uri": "https://localhost:8080/"
        },
        "id": "quAwhizdThv3",
        "outputId": "60bccd80-715a-49c3-dd4b-788b9e885832"
      },
      "outputs": [
        {
          "data": {
            "text/plain": [
              "1.9840403110691048e-19"
            ]
          },
          "execution_count": 455,
          "metadata": {},
          "output_type": "execute_result"
        }
      ],
      "source": [
        "\n",
        "x1_0=Xn_in(minimum(z_evolve))\n",
        "x2_0=Xp_in(minimum(z_evolve))\n",
        "x3_0=Xi(minimum(z_evolve), 3, 2, 0.511, 938.27, 940.6, 1875.62, 6.13832e-10, 6.86, 1)\n",
        "x4_h0=Xi(minimum(z_evolve), 1, 4, 0.511, 938.27, 940.6, 3728.42, 6.13832e-10, 53.32, 2)\n"
      ],
      "id": "quAwhizdThv3"
    },
    {
      "cell_type": "code",
      "execution_count": null,
      "metadata": {
        "colab": {
          "base_uri": "https://localhost:8080/"
        },
        "id": "9lFmh2BoSY05",
        "outputId": "0a7f14d1-32b5-4a20-f305-05a409eea696"
      },
      "outputs": [
        {
          "data": {
            "text/plain": [
              "2.42419955103104e-38"
            ]
          },
          "execution_count": 412,
          "metadata": {},
          "output_type": "execute_result"
        }
      ],
      "source": [
        "xd0 = Xi(minimum(z_evolve), 3, 2, 0.511, 938.27, 940.6, 1875.62, 6.13832e-10, 6.86, 1)\n",
        "x3h0 = Xi(minimum(z_evolve), 2, 3, 0.511, 938.27, 940.6, 2809.45, 6.13832e-10, 16.63, 1)\n",
        "x3he0 = Xi(minimum(z_evolve), 2, 3, 0.511, 938.27, 940.6, 2809.431, 6.13832e-10, 13.11, 2)\n",
        "x4he0 = Xi(minimum(z_evolve), 1, 4, 0.511, 938.27, 940.6, 3728.42, 6.13832e-10, 53.32, 2)"
      ],
      "id": "9lFmh2BoSY05"
    },
    {
      "cell_type": "code",
      "execution_count": null,
      "metadata": {
        "colab": {
          "base_uri": "https://localhost:8080/"
        },
        "id": "g9OnzTxwSZBO",
        "outputId": "4941a1cf-d0df-4895-a631-34fefb6be842"
      },
      "outputs": [
        {
          "data": {
            "text/plain": [
              "2.42419955103104e-38"
            ]
          },
          "execution_count": 413,
          "metadata": {},
          "output_type": "execute_result"
        }
      ],
      "source": [
        "x4_h0"
      ],
      "id": "g9OnzTxwSZBO"
    },
    {
      "cell_type": "code",
      "execution_count": null,
      "metadata": {
        "id": "RLSZC4iHacnk"
      },
      "outputs": [],
      "source": [
        "z_iterate = []\n",
        "for i in znu\n",
        "    if mev_to_t9kelvin(m_e / i) < 10\n",
        "        push!(z_iterate, i)\n",
        "    end\n",
        "end\n"
      ],
      "id": "RLSZC4iHacnk"
    },
    {
      "cell_type": "code",
      "execution_count": null,
      "metadata": {
        "colab": {
          "base_uri": "https://localhost:8080/"
        },
        "id": "GWppZVHB2Suw",
        "outputId": "d87fc42e-8daf-4b4a-9fdd-6109c9333549"
      },
      "outputs": [
        {
          "name": "stderr",
          "output_type": "stream",
          "text": [
            "\u001b[32m\u001b[1m   Resolving\u001b[22m\u001b[39m package versions...\n",
            "\u001b[32m\u001b[1m  No Changes\u001b[22m\u001b[39m to `~/.julia/environments/v1.9/Project.toml`\n",
            "\u001b[32m\u001b[1m  No Changes\u001b[22m\u001b[39m to `~/.julia/environments/v1.9/Manifest.toml`\n"
          ]
        }
      ],
      "source": [
        "Pkg.add(\"DifferentialEquations\")"
      ],
      "id": "GWppZVHB2Suw"
    },
    {
      "cell_type": "code",
      "execution_count": null,
      "metadata": {
        "colab": {
          "base_uri": "https://localhost:8080/"
        },
        "id": "fuDE2NpEJ4vC",
        "outputId": "d8c2c4fb-b53f-473f-dccc-8af1f303128c"
      },
      "outputs": [
        {
          "name": "stderr",
          "output_type": "stream",
          "text": [
            "\u001b[32m\u001b[1m   Resolving\u001b[22m\u001b[39m package versions...\n",
            "\u001b[32m\u001b[1m    Updating\u001b[22m\u001b[39m `~/.julia/environments/v1.9/Project.toml`\n",
            "  \u001b[90m[c3572dad] \u001b[39m\u001b[92m+ Sundials v4.19.3\u001b[39m\n",
            "\u001b[32m\u001b[1m  No Changes\u001b[22m\u001b[39m to `~/.julia/environments/v1.9/Manifest.toml`\n"
          ]
        }
      ],
      "source": [
        "using Pkg\n",
        "Pkg.add(\"Sundials\")\n",
        "using Sundials"
      ],
      "id": "fuDE2NpEJ4vC"
    },
    {
      "cell_type": "code",
      "execution_count": null,
      "metadata": {
        "colab": {
          "base_uri": "https://localhost:8080/"
        },
        "id": "kKPneGGhpibG",
        "outputId": "83043494-178e-4334-b5e5-610f576d89f2"
      },
      "outputs": [
        {
          "name": "stderr",
          "output_type": "stream",
          "text": [
            "\u001b[32m\u001b[1m   Resolving\u001b[22m\u001b[39m package versions...\n",
            "\u001b[32m\u001b[1m   Installed\u001b[22m\u001b[39m LSODA_jll ─ v0.1.2+0\n",
            "\u001b[32m\u001b[1m   Installed\u001b[22m\u001b[39m LSODA ───── v0.7.4\n",
            "\u001b[32m\u001b[1m    Updating\u001b[22m\u001b[39m `~/.julia/environments/v1.9/Project.toml`\n",
            "  \u001b[90m[7f56f5a3] \u001b[39m\u001b[92m+ LSODA v0.7.4\u001b[39m\n",
            "\u001b[32m\u001b[1m    Updating\u001b[22m\u001b[39m `~/.julia/environments/v1.9/Manifest.toml`\n",
            "  \u001b[90m[7f56f5a3] \u001b[39m\u001b[92m+ LSODA v0.7.4\u001b[39m\n",
            "  \u001b[90m[aae0fff6] \u001b[39m\u001b[92m+ LSODA_jll v0.1.2+0\u001b[39m\n",
            "\u001b[32m\u001b[1mPrecompiling\u001b[22m\u001b[39m project...\n",
            "\u001b[32m  ✓ \u001b[39m\u001b[90mLSODA_jll\u001b[39m\n",
            "\u001b[32m  ✓ \u001b[39mLSODA\n",
            "  2 dependencies successfully precompiled in 5 seconds. 205 already precompiled.\n"
          ]
        }
      ],
      "source": [
        "Pkg.add(\"LSODA\")"
      ],
      "id": "kKPneGGhpibG"
    },
    {
      "cell_type": "code",
      "execution_count": null,
      "metadata": {
        "id": "xHajSVz5pp1h"
      },
      "outputs": [],
      "source": [],
      "id": "xHajSVz5pp1h"
    },
    {
      "cell_type": "code",
      "execution_count": null,
      "metadata": {
        "colab": {
          "base_uri": "https://localhost:8080/"
        },
        "id": "G1oSfQzoidPc",
        "outputId": "98f40c63-fbfc-4f15-9144-fba0b9a37501"
      },
      "outputs": [
        {
          "name": "stdout",
          "output_type": "stream",
          "text": [
            "  57.864 ms (806040 allocations: 15.85 MiB)\n"
          ]
        }
      ],
      "source": [
        "\n",
        "using DifferentialEquations, BenchmarkTools\n",
        "u20=[x1_0,x2_0,x3_0,x4_h0]\n",
        "tspan = (minimum(znu),maximum(znu))\n",
        "prob2 = ODEProblem(small_network, u20, tspan)\n",
        "@btime solve(prob2,FBDF(),reltol=1e-8);\n"
      ],
      "id": "G1oSfQzoidPc"
    },
    {
      "cell_type": "code",
      "execution_count": null,
      "metadata": {
        "colab": {
          "base_uri": "https://localhost:8080/"
        },
        "id": "nwp-Ox9ybS2D",
        "outputId": "d26fdab5-0a41-4079-85a3-47893607d8d9"
      },
      "outputs": [
        {
          "data": {
            "text/plain": [
              "retcode: Success\n",
              "Interpolation: 3rd order Hermite\n",
              "t: 302-element Vector{Float64}:\n",
              "  0.051099997600057595\n",
              "  0.0510999976000647\n",
              "  0.05109999760860968\n",
              "  0.05109999790494081\n",
              "  0.05109999965001331\n",
              "  0.05110006918887746\n",
              "  0.0511003808030817\n",
              "  0.05110083908682259\n",
              "  0.05110137906405512\n",
              "  0.05110266466132885\n",
              "  0.05110452584718817\n",
              "  0.051106722974920776\n",
              "  0.05110892010265338\n",
              "  ⋮\n",
              "  6.966197616736859\n",
              "  7.370477741255392\n",
              "  7.961317207243992\n",
              "  8.552156673232592\n",
              "  9.520370863319163\n",
              " 10.863239760423852\n",
              " 12.703373683987536\n",
              " 15.41139085322958\n",
              " 19.536636404897614\n",
              " 25.858480588538413\n",
              " 36.29605865620184\n",
              " 50.63151395438075\n",
              "u: 302-element Vector{Vector{Float64}}:\n",
              " [0.46772419255546166, 0.5322758074445384, 1.9342860429778275e-12, 2.42419955103104e-38]\n",
              " [0.46772419255447895, 0.5322758074455212, 1.9342861472551853e-12, 2.42419955103104e-38]\n",
              " [0.467724191372667, 0.532275808627333, 1.9342861464345677e-12, 2.42419955103104e-38]\n",
              " [0.4677241503892084, 0.5322758496107917, 1.9342861129864763e-12, 2.42419955103104e-38]\n",
              " [0.46772390906030725, 0.5322760909396927, 1.934285916022462e-12, 2.42419955103104e-38]\n",
              " [0.46771430456148955, 0.5322856954384824, 1.9342780726316456e-12, 2.424199551030089e-38]\n",
              " [0.46767167523998715, 0.5323283247600759, 1.9342431138243245e-12, 2.4241995510334485e-38]\n",
              " [0.46761007604917304, 0.5323899239508936, 1.9341922013325713e-12, 2.4241995510336573e-38]\n",
              " [0.46753916582366256, 0.532460834176411, 1.9341329810847867e-12, 2.424199551033936e-38]\n",
              " [0.46737733757472194, 0.5326226624249984, 1.933995226195091e-12, 2.424199551021205e-38]\n",
              " [0.46715970016942227, 0.5328402998301635, 1.9338035843298717e-12, 2.4241995510162353e-38]\n",
              " [0.4669260387075392, 0.5330739612918791, 1.93358838161745e-12, 2.424199551010104e-38]\n",
              " [0.46671519526734706, 0.5332848047320008, 1.9333841560601755e-12, 2.424199551007522e-38]\n",
              " ⋮\n",
              " [1.5032356238988764e-7, 0.7026176103746182, 2.087328495806303e-5, 0.0991134975783411]\n",
              " [1.0428372322882093e-7, 0.7026174441240882, 1.847227669272887e-5, 0.09911516901397428]\n",
              " [6.950856583449735e-8, 0.7026173202168265, 1.6589075193299205e-5, 0.09911647737578021]\n",
              " [5.563277335713504e-8, 0.7026172460766502, 1.5260432128090343e-5, 0.09911739247647997]\n",
              " [3.7973412409300254e-8, 0.7026171669331642, 1.3828468407548568e-5, 0.09911837938657593]\n",
              " [2.3098724039885543e-8, 0.7026171061369838, 1.2667309836842261e-5, 0.09911917871591264]\n",
              " [1.580806604075889e-8, 0.7026170666464299, 1.1743817508402252e-5, 0.09911980997120222]\n",
              " [1.206800944941202e-8, 0.7026170420532215, 1.0970940051718903e-5, 0.09912033466726156]\n",
              " [7.121752569831935e-9, 0.7026170276666552, 1.036418169900559e-5, 0.09912074561710442]\n",
              " [2.943724489961425e-9, 0.7026170197049579, 9.889890343718551e-6, 0.09912106585791643]\n",
              " [1.0671089389601398e-9, 0.7026170201001177, 9.503218801063825e-6, 0.0991213241327635]\n",
              " [4.4004797197715936e-10, 0.7026170277152214, 9.271147347106628e-6, 0.09912147651771855]"
            ]
          },
          "execution_count": 375,
          "metadata": {},
          "output_type": "execute_result"
        }
      ],
      "source": [
        "sol2=solve(prob2,FBDF(),reltol=1e-8)"
      ],
      "id": "nwp-Ox9ybS2D"
    },
    {
      "cell_type": "code",
      "execution_count": null,
      "metadata": {
        "colab": {
          "base_uri": "https://localhost:8080/"
        },
        "id": "kwWBSSCN2PGv",
        "outputId": "b2f2d7e7-2b76-4d34-82d0-e35f07c2c441"
      },
      "outputs": [
        {
          "data": {
            "text/plain": [
              "302-element Vector{Float64}:\n",
              " 2.42419955103104e-38\n",
              " 2.42419955103104e-38\n",
              " 2.42419955103104e-38\n",
              " 2.42419955103104e-38\n",
              " 2.42419955103104e-38\n",
              " 2.424199551030089e-38\n",
              " 2.4241995510334485e-38\n",
              " 2.4241995510336573e-38\n",
              " 2.424199551033936e-38\n",
              " 2.424199551021205e-38\n",
              " 2.4241995510162353e-38\n",
              " 2.424199551010104e-38\n",
              " 2.424199551007522e-38\n",
              " ⋮\n",
              " 0.0991134975783411\n",
              " 0.09911516901397428\n",
              " 0.09911647737578021\n",
              " 0.09911739247647997\n",
              " 0.09911837938657593\n",
              " 0.09911917871591264\n",
              " 0.09911980997120222\n",
              " 0.09912033466726156\n",
              " 0.09912074561710442\n",
              " 0.09912106585791643\n",
              " 0.0991213241327635\n",
              " 0.09912147651771855"
            ]
          },
          "execution_count": 376,
          "metadata": {},
          "output_type": "execute_result"
        }
      ],
      "source": [
        "z_values2 = sol2.t\n",
        "xn_values2 = sol2[1, :]\n",
        "xp_values2= sol2[2, :]\n",
        "xd_values2= sol2[3, :]\n",
        "x4he_values2=sol2[4, :]"
      ],
      "id": "kwWBSSCN2PGv"
    },
    {
      "cell_type": "code",
      "execution_count": null,
      "metadata": {
        "colab": {
          "base_uri": "https://localhost:8080/"
        },
        "id": "TvEcAj_7s0_H",
        "outputId": "c91ea2f4-3da0-4074-eb59-fa925b39e5c7"
      },
      "outputs": [
        {
          "data": {
            "text/plain": [
              "302-element Vector{Float64}:\n",
              " 2.42419955103104e-38\n",
              " 2.42419955103104e-38\n",
              " 2.42419955103104e-38\n",
              " 2.42419955103104e-38\n",
              " 2.42419955103104e-38\n",
              " 2.424199551030089e-38\n",
              " 2.4241995510334485e-38\n",
              " 2.4241995510336573e-38\n",
              " 2.424199551033936e-38\n",
              " 2.424199551021205e-38\n",
              " 2.4241995510162353e-38\n",
              " 2.424199551010104e-38\n",
              " 2.424199551007522e-38\n",
              " ⋮\n",
              " 0.0991134975783411\n",
              " 0.09911516901397428\n",
              " 0.09911647737578021\n",
              " 0.09911739247647997\n",
              " 0.09911837938657593\n",
              " 0.09911917871591264\n",
              " 0.09911980997120222\n",
              " 0.09912033466726156\n",
              " 0.09912074561710442\n",
              " 0.09912106585791643\n",
              " 0.0991213241327635\n",
              " 0.09912147651771855"
            ]
          },
          "execution_count": 377,
          "metadata": {},
          "output_type": "execute_result"
        }
      ],
      "source": [
        "x4he_values2"
      ],
      "id": "TvEcAj_7s0_H"
    },
    {
      "cell_type": "code",
      "execution_count": null,
      "metadata": {
        "colab": {
          "base_uri": "https://localhost:8080/",
          "height": 599
        },
        "id": "O0kQLU1Ub0ZA",
        "outputId": "de8ae459-38fc-4732-a8e8-a8c794602009"
      },
      "outputs": [
        {
          "data": {
            "image/png": "[encoded data removed]",
            "text/plain": [
              "Figure(PyObject <Figure size 1000x600 with 1 Axes>)"
            ]
          },
          "metadata": {},
          "output_type": "display_data"
        }
      ],
      "source": [
        "# Assuming you have already defined your data arrays z_values2, xn_values2, xp_values2, xd_values2, x4he_values2\n",
        "using PyPlot\n",
        "\n",
        "# Assuming you have already defined your data arrays z_values2, xn_values2, xp_values2, xd_values2, x4he_values2\n",
        "\n",
        "# Increase the figure size\n",
        "fig, ax = subplots(figsize=(10, 6))  # Adjust the size as needed\n",
        "\n",
        "# Plot the data with labels and custom colors\n",
        "ax.plot(z_values2, xn_values2, label=L\"X_n\", color=\"blue\")\n",
        "ax.plot(z_values2, xp_values2, label=L\"X_p\", color=\"orange\")\n",
        "ax.plot(z_values2, xd_values2, label=L\"X_d\", color=\"green\")\n",
        "ax.plot(z_values2, x4he_values2, label=L\"X_{4\\mathrm{He}}\", color=\"red\")\n",
        "\n",
        "# Set x and y scales to logarithmic\n",
        "ax.set_xscale(\"log\")\n",
        "ax.set_yscale(\"log\")\n",
        "\n",
        "# Add labels and title with LaTeX formatting\n",
        "ax.set_xlabel(L\"z=\\frac{m_e}{T_{\\gamma}(MeV)}\", size=16)\n",
        "ax.set_ylabel(\"Fractional Abundance\", size=16)\n",
        "ax.set_title(L\"\\mathrm{BBN\\ Abundances}\", size=18)\n",
        "\n",
        "# Add a grid\n",
        "ax.grid(\"True\", which=\"both\", linestyle=\"--\", linewidth=0.5)\n",
        "ax.set_ylim(1e-10)\n",
        "ax.set_yticks([1e-10,1e-9,1e-8,1e-7,1e-6,1e-5,1e-4,1e-3,1e-2,1e-1,1])\n",
        "\n",
        "# Add a legend\n",
        "ax.legend()\n",
        "\n",
        "# Display the plot\n",
        "show()\n",
        "\n",
        "\n"
      ],
      "id": "O0kQLU1Ub0ZA"
    },
    {
      "cell_type": "code",
      "execution_count": null,
      "metadata": {
        "id": "5NYwn1ZQui_8"
      },
      "outputs": [],
      "source": [],
      "id": "5NYwn1ZQui_8"
    },
    {
      "cell_type": "code",
      "execution_count": null,
      "metadata": {
        "id": "Z83bppakVlgw"
      },
      "outputs": [],
      "source": [],
      "id": "Z83bppakVlgw"
    },
    {
      "cell_type": "code",
      "execution_count": null,
      "metadata": {
        "id": "GbtAOvrjuLUQ"
      },
      "outputs": [],
      "source": [],
      "id": "GbtAOvrjuLUQ"
    },
    {
      "cell_type": "code",
      "execution_count": null,
      "metadata": {
        "colab": {
          "base_uri": "https://localhost:8080/",
          "height": 513
        },
        "id": "9IGUtm9ht6N8",
        "outputId": "f0ff001d-30ce-4e47-a8cc-454eb653565b"
      },
      "outputs": [
        {
          "data": {
            "image/png": "[encoded data removed]",
            "text/plain": [
              "Figure(PyObject <Figure size 1000x600 with 1 Axes>)"
            ]
          },
          "metadata": {},
          "output_type": "display_data"
        }
      ],
      "source": [],
      "id": "9IGUtm9ht6N8"
    },
    {
      "cell_type": "code",
      "execution_count": null,
      "metadata": {
        "id": "WHxQalMTuYew"
      },
      "outputs": [],
      "source": [],
      "id": "WHxQalMTuYew"
    }
  ],
  "metadata": {
    "colab": {
      "provenance": []
    },
    "kernelspec": {
      "display_name": "julia 1.9.2",
      "name": "julia"
    }
  },
  "nbformat": 4,
  "nbformat_minor": 5
}